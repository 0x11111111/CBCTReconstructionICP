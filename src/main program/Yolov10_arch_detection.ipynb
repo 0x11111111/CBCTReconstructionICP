{
 "cells": [
  {
   "cell_type": "code",
   "execution_count": 7,
   "id": "4bc3f787-02e6-4ca5-8938-acd2531f6348",
   "metadata": {},
   "outputs": [],
   "source": [
    "import os\n",
    "import json\n",
    "import base64\n",
    "from PIL import Image\n",
    "from io import BytesIO\n",
    "\n",
    "def convert_labelme_to_yolo(json_dir, output_dir, class_mapping):\n",
    "    if not os.path.exists(output_dir):\n",
    "        os.makedirs(output_dir)\n",
    "\n",
    "    for filename in os.listdir(json_dir):\n",
    "        if filename.endswith('.json'):\n",
    "            json_path = os.path.join(json_dir, filename)\n",
    "            with open(json_path, 'r') as f:\n",
    "                data = json.load(f)\n",
    "\n",
    "            image_data = data['imageData']\n",
    "            image_height = data['imageHeight']\n",
    "            image_width = data['imageWidth']\n",
    "            \n",
    "            shapes = data['shapes']\n",
    "            yolo_labels = []\n",
    "\n",
    "            for shape in shapes:\n",
    "                label_name = shape['label']\n",
    "                if label_name not in class_mapping:\n",
    "                    continue\n",
    "\n",
    "                label = class_mapping[label_name]\n",
    "                \n",
    "                if shape['shape_type'] == 'rectangle':\n",
    "                    points = shape['points']\n",
    "                    x_min, y_min = points[0]\n",
    "                    x_max, y_max = points[1]\n",
    "                    \n",
    "                    # Convert to YOLO format\n",
    "                    x_center = (x_min + x_max) / 2.0 / image_width\n",
    "                    y_center = (y_min + y_max) / 2.0 / image_height\n",
    "                    width = (x_max - x_min) / image_width\n",
    "                    height = (y_max - y_min) / image_height\n",
    "\n",
    "                    yolo_labels.append(f\"{label} {x_center:.6f} {y_center:.6f} {width:.6f} {height:.6f}\")\n",
    "\n",
    "                elif shape['shape_type'] == 'polygon':\n",
    "                    points = shape['points']\n",
    "                    x_min = min([point[0] for point in points])\n",
    "                    x_max = max([point[0] for point in points])\n",
    "                    y_min = min([point[1] for point in points])\n",
    "                    y_max = max([point[1] for point in points])\n",
    "\n",
    "                    # Convert to YOLO format\n",
    "                    x_center = (x_min + x_max) / 2.0 / image_width\n",
    "                    y_center = (y_min + y_max) / 2.0 / image_height\n",
    "                    width = (x_max - x_min) / image_width\n",
    "                    height = (y_max - y_min) / image_height\n",
    "\n",
    "                    yolo_labels.append(f\"{label} {x_center:.6f} {y_center:.6f} {width:.6f} {height:.6f}\")\n",
    "\n",
    "            # Write YOLO label file\n",
    "            filename_stem = os.path.splitext(filename)[0]\n",
    "            yolo_path = os.path.join(output_dir, filename_stem + '.txt')\n",
    "            with open(yolo_path, 'w') as f:\n",
    "                f.write('\\n'.join(yolo_labels))\n",
    "\n",
    "            # Decode base64 image data and save as image file\n",
    "            image_data = base64.b64decode(image_data)\n",
    "            image = Image.open(BytesIO(image_data))\n",
    "            image_output_path = os.path.join(output_dir, filename_stem + '.jpg')\n",
    "            image.save(image_output_path)\n",
    "\n",
    "# Usage\n",
    "data_rel_path = '../../data'.replace('/', os.path.sep)\n",
    "data_abs_path = os.path.abspath(data_rel_path)\n",
    "json_dir = os.path.join(data_abs_path, 'adaptive_thres_jsons')  # Replace with the path to your JSON files directory\n",
    "output_dir = os.path.join(data_abs_path, 'dataset')    # Replace with the path to your output directory\n",
    "\n",
    "# Define class mapping\n",
    "class_mapping = {\n",
    "    \"arch\": 0,\n",
    "    \"vomer\": 1\n",
    "}\n",
    "\n",
    "convert_labelme_to_yolo(json_dir, output_dir, class_mapping)"
   ]
  },
  {
   "cell_type": "code",
   "execution_count": 8,
   "id": "74df4aab-8c94-414b-a31a-23425c09e5a8",
   "metadata": {},
   "outputs": [
    {
     "name": "stdout",
     "output_type": "stream",
     "text": [
      "Organized dataset into d:\\Code\\CBCT_Reconstruction_ICP\\data\\dataset\\detect_arch\\images/train, d:\\Code\\CBCT_Reconstruction_ICP\\data\\dataset\\detect_arch\\images/val, d:\\Code\\CBCT_Reconstruction_ICP\\data\\dataset\\detect_arch\\labels/train, and d:\\Code\\CBCT_Reconstruction_ICP\\data\\dataset\\detect_arch\\labels/val\n"
     ]
    }
   ],
   "source": [
    "# Validate the txt and jpg datasets have identical names. Later copy them into train and val folders\n",
    "\n",
    "import os\n",
    "import shutil\n",
    "from sklearn.model_selection import train_test_split\n",
    "\n",
    "def organize_dataset(dataset_dir, output_dir, split_ratio=0.2):\n",
    "    # Check if output directories exist, if not, create them\n",
    "    images_train_dir = os.path.join(output_dir, 'images/train')\n",
    "    images_val_dir = os.path.join(output_dir, 'images/val')\n",
    "    labels_train_dir = os.path.join(output_dir, 'labels/train')\n",
    "    labels_val_dir = os.path.join(output_dir, 'labels/val')\n",
    "\n",
    "    for dir_path in [images_train_dir, images_val_dir, labels_train_dir, labels_val_dir]:\n",
    "        if not os.path.exists(dir_path):\n",
    "            os.makedirs(dir_path)\n",
    "\n",
    "    # Get lists of all jpg and txt files\n",
    "    jpg_files = [f for f in os.listdir(dataset_dir) if f.endswith('.jpg')]\n",
    "    txt_files = [f for f in os.listdir(dataset_dir) if f.endswith('.txt')]\n",
    "\n",
    "    # Check for 1-to-1 correspondence\n",
    "    jpg_file_names = set(os.path.splitext(f)[0] for f in jpg_files)\n",
    "    txt_file_names = set(os.path.splitext(f)[0] for f in txt_files)\n",
    "    common_file_names = jpg_file_names.intersection(txt_file_names)\n",
    "\n",
    "    if not (jpg_file_names == txt_file_names):\n",
    "        print(\"Warning: Some jpg and txt files do not have corresponding pairs.\")\n",
    "\n",
    "    # Prepare paired file paths\n",
    "    jpg_files = [os.path.join(dataset_dir, f\"{name}.jpg\") for name in common_file_names]\n",
    "    txt_files = [os.path.join(dataset_dir, f\"{name}.txt\") for name in common_file_names]\n",
    "\n",
    "    # Split data into training and validation sets\n",
    "    jpg_train, jpg_val, txt_train, txt_val = train_test_split(\n",
    "        jpg_files, txt_files, test_size=split_ratio, random_state=42\n",
    "    )\n",
    "\n",
    "    # Copy files to their respective directories\n",
    "    def copy_files(files, output_dir):\n",
    "        for file in files:\n",
    "            shutil.copy(file, output_dir)\n",
    "\n",
    "    copy_files(jpg_train, images_train_dir)\n",
    "    copy_files(jpg_val, images_val_dir)\n",
    "    copy_files(txt_train, labels_train_dir)\n",
    "    copy_files(txt_val, labels_val_dir)\n",
    "\n",
    "    print(f\"Organized dataset into {images_train_dir}, {images_val_dir}, {labels_train_dir}, and {labels_val_dir}\")\n",
    "\n",
    "# Usage\n",
    "data_rel_path = '../../data/dataset'.replace('/', os.path.sep)\n",
    "data_abs_path = os.path.abspath(data_rel_path)\n",
    "output_dir = os.path.join(data_abs_path, 'detect_arch')    # Replace with the path to your output directory\n",
    "\n",
    "organize_dataset(data_abs_path, output_dir)"
   ]
  },
  {
   "cell_type": "code",
   "execution_count": 2,
   "id": "ec0cfd74-72ad-45aa-a881-6df13b7e1e37",
   "metadata": {},
   "outputs": [
    {
     "name": "stdout",
     "output_type": "stream",
     "text": [
      "C:\\Users\\DYPro\\.conda\\envs\\mesh_seg_net\n",
      "scikit-learn is installed.\n",
      "scikit-learn version: 1.5.0\n"
     ]
    }
   ],
   "source": [
    "import os\n",
    "print(os.environ['CONDA_PREFIX'])\n",
    "try:\n",
    "    import sklearn\n",
    "    print(\"scikit-learn is installed.\")\n",
    "    print(\"scikit-learn version:\", sklearn.__version__)\n",
    "except ImportError:\n",
    "    print(\"scikit-learn is not installed.\")"
   ]
  },
  {
   "cell_type": "code",
   "execution_count": 5,
   "id": "dec64587-92e4-4b6f-b804-166fe74f6a51",
   "metadata": {},
   "outputs": [
    {
     "name": "stdout",
     "output_type": "stream",
     "text": [
      "Channels:\n",
      " - conda-forge\n",
      " - defaults\n",
      " - https://mirrors.tuna.tsinghua.edu.cn/anaconda/pkgs/main\n",
      " - nvidia\n",
      " - https://mirrors.tuna.tsinghua.edu.cn/anaconda/pkgs/free\n",
      " - pytorch\n",
      "Platform: win-64\n",
      "Collecting package metadata (repodata.json): ...working... done\n",
      "Solving environment: ...working... done\n",
      "\n",
      "# All requested packages already installed.\n",
      "\n"
     ]
    }
   ],
   "source": [
    "!conda install scikit-learn -y"
   ]
  },
  {
   "cell_type": "code",
   "execution_count": 1,
   "id": "fa1b1054-3117-4f13-843c-8fc70c29cab5",
   "metadata": {},
   "outputs": [
    {
     "name": "stdout",
     "output_type": "stream",
     "text": [
      "C:\\Users\\DYPro\\.conda\\envs\\mesh_seg_net\\python.exe\n"
     ]
    }
   ],
   "source": [
    "import sys\n",
    "print(sys.executable)"
   ]
  },
  {
   "cell_type": "code",
   "execution_count": 11,
   "id": "2d6e216d-1ae2-424c-ab28-8434a1cffcd5",
   "metadata": {},
   "outputs": [
    {
     "name": "stdout",
     "output_type": "stream",
     "text": [
      "using device:  cuda\n",
      "New https://pypi.org/project/ultralytics/8.2.34 available 😃 Update with 'pip install -U ultralytics'\n",
      "Ultralytics YOLOv8.1.34 🚀 Python-3.9.19 torch-2.0.1+cu118 CUDA:0 (NVIDIA GeForce RTX 4080 Laptop GPU, 12282MiB)\n",
      "\u001b[34m\u001b[1mengine\\trainer: \u001b[0mtask=detect, mode=train, model=yolov10n.yaml, data=arch_detection.yaml, epochs=100, time=None, patience=100, batch=16, imgsz=640, save=True, save_period=-1, val_period=1, cache=False, device=cuda, workers=8, project=None, name=train14, exist_ok=False, pretrained=True, optimizer=auto, verbose=True, seed=0, deterministic=True, single_cls=False, rect=False, cos_lr=False, close_mosaic=10, resume=False, amp=True, fraction=1.0, profile=False, freeze=None, multi_scale=False, overlap_mask=True, mask_ratio=4, dropout=0.0, val=True, split=val, save_json=False, save_hybrid=False, conf=None, iou=0.7, max_det=300, half=False, dnn=False, plots=True, source=None, vid_stride=1, stream_buffer=False, visualize=False, augment=False, agnostic_nms=False, classes=None, retina_masks=False, embed=None, show=False, save_frames=False, save_txt=False, save_conf=False, save_crop=False, show_labels=True, show_conf=True, show_boxes=True, line_width=None, format=torchscript, keras=False, optimize=False, int8=False, dynamic=False, simplify=False, opset=None, workspace=4, nms=False, lr0=0.01, lrf=0.01, momentum=0.937, weight_decay=0.0005, warmup_epochs=3.0, warmup_momentum=0.8, warmup_bias_lr=0.1, box=7.5, cls=0.5, dfl=1.5, pose=12.0, kobj=1.0, label_smoothing=0.0, nbs=64, hsv_h=0.015, hsv_s=0.7, hsv_v=0.4, degrees=0.0, translate=0.1, scale=0.5, shear=0.0, perspective=0.0, flipud=0.0, fliplr=0.5, bgr=0.0, mosaic=1.0, mixup=0.0, copy_paste=0.0, auto_augment=randaugment, erasing=0.4, crop_fraction=1.0, cfg=None, tracker=botsort.yaml, save_dir=D:\\Code\\CBCT_Reconstruction_ICP\\runs\\detect\\train14\n",
      "Overriding model.yaml nc=80 with nc=1\n",
      "\n",
      "                   from  n    params  module                                       arguments                     \n",
      "  0                  -1  1       464  ultralytics.nn.modules.conv.Conv             [3, 16, 3, 2]                 \n",
      "  1                  -1  1      4672  ultralytics.nn.modules.conv.Conv             [16, 32, 3, 2]                \n",
      "  2                  -1  1      7360  ultralytics.nn.modules.block.C2f             [32, 32, 1, True]             \n",
      "  3                  -1  1     18560  ultralytics.nn.modules.conv.Conv             [32, 64, 3, 2]                \n",
      "  4                  -1  2     49664  ultralytics.nn.modules.block.C2f             [64, 64, 2, True]             \n",
      "  5                  -1  1      9856  ultralytics.nn.modules.block.SCDown          [64, 128, 3, 2]               \n",
      "  6                  -1  2    197632  ultralytics.nn.modules.block.C2f             [128, 128, 2, True]           \n",
      "  7                  -1  1     36096  ultralytics.nn.modules.block.SCDown          [128, 256, 3, 2]              \n",
      "  8                  -1  1    460288  ultralytics.nn.modules.block.C2f             [256, 256, 1, True]           \n",
      "  9                  -1  1    164608  ultralytics.nn.modules.block.SPPF            [256, 256, 5]                 \n",
      " 10                  -1  1    249728  ultralytics.nn.modules.block.PSA             [256, 256]                    \n",
      " 11                  -1  1         0  torch.nn.modules.upsampling.Upsample         [None, 2, 'nearest']          \n",
      " 12             [-1, 6]  1         0  ultralytics.nn.modules.conv.Concat           [1]                           \n",
      " 13                  -1  1    148224  ultralytics.nn.modules.block.C2f             [384, 128, 1]                 \n",
      " 14                  -1  1         0  torch.nn.modules.upsampling.Upsample         [None, 2, 'nearest']          \n",
      " 15             [-1, 4]  1         0  ultralytics.nn.modules.conv.Concat           [1]                           \n",
      " 16                  -1  1     37248  ultralytics.nn.modules.block.C2f             [192, 64, 1]                  \n",
      " 17                  -1  1     36992  ultralytics.nn.modules.conv.Conv             [64, 64, 3, 2]                \n",
      " 18            [-1, 13]  1         0  ultralytics.nn.modules.conv.Concat           [1]                           \n",
      " 19                  -1  1    123648  ultralytics.nn.modules.block.C2f             [192, 128, 1]                 \n",
      " 20                  -1  1     18048  ultralytics.nn.modules.block.SCDown          [128, 128, 3, 2]              \n",
      " 21            [-1, 10]  1         0  ultralytics.nn.modules.conv.Concat           [1]                           \n",
      " 22                  -1  1    282624  ultralytics.nn.modules.block.C2fCIB          [384, 256, 1, True, True]     \n",
      " 23        [16, 19, 22]  1    861718  ultralytics.nn.modules.head.v10Detect        [1, [64, 128, 256]]           \n",
      "YOLOv10n summary: 385 layers, 2707430 parameters, 2707414 gradients, 8.4 GFLOPs\n",
      "\n",
      "Freezing layer 'model.23.dfl.conv.weight'\n",
      "\u001b[34m\u001b[1mAMP: \u001b[0mrunning Automatic Mixed Precision (AMP) checks with YOLOv8n...\n",
      "\u001b[34m\u001b[1mAMP: \u001b[0mchecks passed ✅\n"
     ]
    },
    {
     "name": "stderr",
     "output_type": "stream",
     "text": [
      "\u001b[34m\u001b[1mtrain: \u001b[0mScanning D:\\Code\\CBCT_Reconstruction_ICP\\data\\dataset\\count_arch\\labels\\train... 124 images, 0 backgrounds, 0 corrupt: 100%|██████████| 124/124 [00:00<00:00, 1172.70it/s]"
     ]
    },
    {
     "name": "stdout",
     "output_type": "stream",
     "text": [
      "\u001b[34m\u001b[1mtrain: \u001b[0mNew cache created: D:\\Code\\CBCT_Reconstruction_ICP\\data\\dataset\\count_arch\\labels\\train.cache\n"
     ]
    },
    {
     "name": "stderr",
     "output_type": "stream",
     "text": [
      "\n",
      "\u001b[34m\u001b[1mval: \u001b[0mScanning D:\\Code\\CBCT_Reconstruction_ICP\\data\\dataset\\count_arch\\labels\\val... 31 images, 0 backgrounds, 0 corrupt: 100%|██████████| 31/31 [00:00<00:00, 858.46it/s]"
     ]
    },
    {
     "name": "stdout",
     "output_type": "stream",
     "text": [
      "\u001b[34m\u001b[1mval: \u001b[0mNew cache created: D:\\Code\\CBCT_Reconstruction_ICP\\data\\dataset\\count_arch\\labels\\val.cache\n"
     ]
    },
    {
     "name": "stderr",
     "output_type": "stream",
     "text": [
      "\n"
     ]
    },
    {
     "name": "stdout",
     "output_type": "stream",
     "text": [
      "Plotting labels to D:\\Code\\CBCT_Reconstruction_ICP\\runs\\detect\\train14\\labels.jpg... \n",
      "\u001b[34m\u001b[1moptimizer:\u001b[0m 'optimizer=auto' found, ignoring 'lr0=0.01' and 'momentum=0.937' and determining best 'optimizer', 'lr0' and 'momentum' automatically... \n",
      "\u001b[34m\u001b[1moptimizer:\u001b[0m AdamW(lr=0.002, momentum=0.9) with parameter groups 95 weight(decay=0.0), 108 weight(decay=0.0005), 107 bias(decay=0.0)\n",
      "Image sizes 640 train, 640 val\n",
      "Using 8 dataloader workers\n",
      "Logging results to \u001b[1mD:\\Code\\CBCT_Reconstruction_ICP\\runs\\detect\\train14\u001b[0m\n",
      "Starting training for 100 epochs...\n",
      "\n",
      "      Epoch    GPU_mem     box_om     cls_om     dfl_om     box_oo     cls_oo     dfl_oo  Instances       Size\n"
     ]
    },
    {
     "name": "stderr",
     "output_type": "stream",
     "text": [
      "      1/100      3.01G      3.111      4.254      4.422      2.867      10.41      4.519         25        640: 100%|██████████| 8/8 [00:06<00:00,  1.28it/s]\n",
      "                 Class     Images  Instances      Box(P          R      mAP50  mAP50-95): 100%|██████████| 1/1 [00:00<00:00,  1.83it/s]"
     ]
    },
    {
     "name": "stdout",
     "output_type": "stream",
     "text": [
      "                   all         31         31   0.000215     0.0645   0.000134   1.34e-05\n"
     ]
    },
    {
     "name": "stderr",
     "output_type": "stream",
     "text": [
      "\n"
     ]
    },
    {
     "name": "stdout",
     "output_type": "stream",
     "text": [
      "\n",
      "      Epoch    GPU_mem     box_om     cls_om     dfl_om     box_oo     cls_oo     dfl_oo  Instances       Size\n"
     ]
    },
    {
     "name": "stderr",
     "output_type": "stream",
     "text": [
      "      2/100      3.15G       2.99      4.239      4.316      2.709      10.44      4.366         22        640: 100%|██████████| 8/8 [00:01<00:00,  4.78it/s]\n",
      "                 Class     Images  Instances      Box(P          R      mAP50  mAP50-95): 100%|██████████| 1/1 [00:00<00:00,  4.01it/s]"
     ]
    },
    {
     "name": "stdout",
     "output_type": "stream",
     "text": [
      "                   all         31         31   0.000323     0.0968   0.000225   2.25e-05\n"
     ]
    },
    {
     "name": "stderr",
     "output_type": "stream",
     "text": [
      "\n"
     ]
    },
    {
     "name": "stdout",
     "output_type": "stream",
     "text": [
      "\n",
      "      Epoch    GPU_mem     box_om     cls_om     dfl_om     box_oo     cls_oo     dfl_oo  Instances       Size\n"
     ]
    },
    {
     "name": "stderr",
     "output_type": "stream",
     "text": [
      "      3/100      3.16G      2.775      4.077      4.167      2.456      9.729      4.256         26        640: 100%|██████████| 8/8 [00:01<00:00,  7.84it/s]\n",
      "                 Class     Images  Instances      Box(P          R      mAP50  mAP50-95): 100%|██████████| 1/1 [00:00<00:00,  5.84it/s]"
     ]
    },
    {
     "name": "stdout",
     "output_type": "stream",
     "text": [
      "                   all         31         31   0.000323     0.0968   0.000232   2.32e-05\n"
     ]
    },
    {
     "name": "stderr",
     "output_type": "stream",
     "text": [
      "\n"
     ]
    },
    {
     "name": "stdout",
     "output_type": "stream",
     "text": [
      "\n",
      "      Epoch    GPU_mem     box_om     cls_om     dfl_om     box_oo     cls_oo     dfl_oo  Instances       Size\n"
     ]
    },
    {
     "name": "stderr",
     "output_type": "stream",
     "text": [
      "      4/100      3.16G      2.918      4.087      4.048      2.592      9.933      4.143         25        640: 100%|██████████| 8/8 [00:00<00:00,  8.03it/s]\n",
      "                 Class     Images  Instances      Box(P          R      mAP50  mAP50-95): 100%|██████████| 1/1 [00:00<00:00,  5.91it/s]"
     ]
    },
    {
     "name": "stdout",
     "output_type": "stream",
     "text": [
      "                   all         31         31   0.000323     0.0968   0.000207   2.07e-05\n"
     ]
    },
    {
     "name": "stderr",
     "output_type": "stream",
     "text": [
      "\n"
     ]
    },
    {
     "name": "stdout",
     "output_type": "stream",
     "text": [
      "\n",
      "      Epoch    GPU_mem     box_om     cls_om     dfl_om     box_oo     cls_oo     dfl_oo  Instances       Size\n"
     ]
    },
    {
     "name": "stderr",
     "output_type": "stream",
     "text": [
      "      5/100      3.16G      2.756      3.939      3.894      2.361      9.559      3.992         26        640: 100%|██████████| 8/8 [00:01<00:00,  7.18it/s]\n",
      "                 Class     Images  Instances      Box(P          R      mAP50  mAP50-95): 100%|██████████| 1/1 [00:00<00:00,  5.88it/s]"
     ]
    },
    {
     "name": "stdout",
     "output_type": "stream",
     "text": [
      "                   all         31         31   0.000323     0.0968    0.00024    2.4e-05\n"
     ]
    },
    {
     "name": "stderr",
     "output_type": "stream",
     "text": [
      "\n"
     ]
    },
    {
     "name": "stdout",
     "output_type": "stream",
     "text": [
      "\n",
      "      Epoch    GPU_mem     box_om     cls_om     dfl_om     box_oo     cls_oo     dfl_oo  Instances       Size\n"
     ]
    },
    {
     "name": "stderr",
     "output_type": "stream",
     "text": [
      "      6/100      3.16G      2.703      3.739      3.688      2.205      8.876      3.737         23        640: 100%|██████████| 8/8 [00:01<00:00,  7.92it/s]\n",
      "                 Class     Images  Instances      Box(P          R      mAP50  mAP50-95): 100%|██████████| 1/1 [00:00<00:00,  5.89it/s]"
     ]
    },
    {
     "name": "stdout",
     "output_type": "stream",
     "text": [
      "                   all         31         31    0.00086      0.258   0.000894   8.94e-05\n"
     ]
    },
    {
     "name": "stderr",
     "output_type": "stream",
     "text": [
      "\n"
     ]
    },
    {
     "name": "stdout",
     "output_type": "stream",
     "text": [
      "\n",
      "      Epoch    GPU_mem     box_om     cls_om     dfl_om     box_oo     cls_oo     dfl_oo  Instances       Size\n"
     ]
    },
    {
     "name": "stderr",
     "output_type": "stream",
     "text": [
      "      7/100      3.16G      2.798      3.582      3.612      2.395       8.12      3.592         20        640: 100%|██████████| 8/8 [00:01<00:00,  7.59it/s]\n",
      "                 Class     Images  Instances      Box(P          R      mAP50  mAP50-95): 100%|██████████| 1/1 [00:00<00:00,  6.15it/s]"
     ]
    },
    {
     "name": "stdout",
     "output_type": "stream",
     "text": [
      "                   all         31         31   0.000968       0.29    0.00134   0.000134\n"
     ]
    },
    {
     "name": "stderr",
     "output_type": "stream",
     "text": [
      "\n"
     ]
    },
    {
     "name": "stdout",
     "output_type": "stream",
     "text": [
      "\n",
      "      Epoch    GPU_mem     box_om     cls_om     dfl_om     box_oo     cls_oo     dfl_oo  Instances       Size\n"
     ]
    },
    {
     "name": "stderr",
     "output_type": "stream",
     "text": [
      "      8/100      3.16G      2.632      3.534      3.478      2.158      7.881      3.411         21        640: 100%|██████████| 8/8 [00:00<00:00,  9.08it/s]\n",
      "                 Class     Images  Instances      Box(P          R      mAP50  mAP50-95): 100%|██████████| 1/1 [00:00<00:00,  6.13it/s]"
     ]
    },
    {
     "name": "stdout",
     "output_type": "stream",
     "text": [
      "                   all         31         31   0.000645      0.194   0.000803   8.03e-05\n"
     ]
    },
    {
     "name": "stderr",
     "output_type": "stream",
     "text": [
      "\n"
     ]
    },
    {
     "name": "stdout",
     "output_type": "stream",
     "text": [
      "\n",
      "      Epoch    GPU_mem     box_om     cls_om     dfl_om     box_oo     cls_oo     dfl_oo  Instances       Size\n"
     ]
    },
    {
     "name": "stderr",
     "output_type": "stream",
     "text": [
      "      9/100      3.16G      2.356      3.371      3.248      1.937      7.324      3.214         24        640: 100%|██████████| 8/8 [00:00<00:00,  8.54it/s]\n",
      "                 Class     Images  Instances      Box(P          R      mAP50  mAP50-95): 100%|██████████| 1/1 [00:00<00:00,  5.08it/s]"
     ]
    },
    {
     "name": "stdout",
     "output_type": "stream",
     "text": [
      "                   all         31         31    0.00086      0.258   0.000807   8.07e-05\n"
     ]
    },
    {
     "name": "stderr",
     "output_type": "stream",
     "text": [
      "\n"
     ]
    },
    {
     "name": "stdout",
     "output_type": "stream",
     "text": [
      "\n",
      "      Epoch    GPU_mem     box_om     cls_om     dfl_om     box_oo     cls_oo     dfl_oo  Instances       Size\n"
     ]
    },
    {
     "name": "stderr",
     "output_type": "stream",
     "text": [
      "     10/100      3.16G      2.339      3.313      3.184      2.025      7.021      3.129         29        640: 100%|██████████| 8/8 [00:00<00:00,  8.08it/s]\n",
      "                 Class     Images  Instances      Box(P          R      mAP50  mAP50-95): 100%|██████████| 1/1 [00:00<00:00,  5.22it/s]"
     ]
    },
    {
     "name": "stdout",
     "output_type": "stream",
     "text": [
      "                   all         31         31    0.00129      0.387    0.00148   0.000154\n"
     ]
    },
    {
     "name": "stderr",
     "output_type": "stream",
     "text": [
      "\n"
     ]
    },
    {
     "name": "stdout",
     "output_type": "stream",
     "text": [
      "\n",
      "      Epoch    GPU_mem     box_om     cls_om     dfl_om     box_oo     cls_oo     dfl_oo  Instances       Size\n"
     ]
    },
    {
     "name": "stderr",
     "output_type": "stream",
     "text": [
      "     11/100      3.16G      2.306       3.17      3.115      1.939      6.381      3.071         22        640: 100%|██████████| 8/8 [00:00<00:00,  8.47it/s]\n",
      "                 Class     Images  Instances      Box(P          R      mAP50  mAP50-95): 100%|██████████| 1/1 [00:00<00:00,  5.71it/s]"
     ]
    },
    {
     "name": "stdout",
     "output_type": "stream",
     "text": [
      "                   all         31         31    0.00237       0.71    0.00969    0.00387\n"
     ]
    },
    {
     "name": "stderr",
     "output_type": "stream",
     "text": [
      "\n"
     ]
    },
    {
     "name": "stdout",
     "output_type": "stream",
     "text": [
      "\n",
      "      Epoch    GPU_mem     box_om     cls_om     dfl_om     box_oo     cls_oo     dfl_oo  Instances       Size\n"
     ]
    },
    {
     "name": "stderr",
     "output_type": "stream",
     "text": [
      "     12/100      3.16G      2.274      3.019      3.046      1.931      6.132      2.924         17        640: 100%|██████████| 8/8 [00:00<00:00,  8.33it/s]\n",
      "                 Class     Images  Instances      Box(P          R      mAP50  mAP50-95): 100%|██████████| 1/1 [00:00<00:00,  5.40it/s]"
     ]
    },
    {
     "name": "stdout",
     "output_type": "stream",
     "text": [
      "                   all         31         31    0.00108      0.323   0.000733   0.000105\n"
     ]
    },
    {
     "name": "stderr",
     "output_type": "stream",
     "text": [
      "\n"
     ]
    },
    {
     "name": "stdout",
     "output_type": "stream",
     "text": [
      "\n",
      "      Epoch    GPU_mem     box_om     cls_om     dfl_om     box_oo     cls_oo     dfl_oo  Instances       Size\n"
     ]
    },
    {
     "name": "stderr",
     "output_type": "stream",
     "text": [
      "     13/100      3.16G      2.357      3.054      2.998      1.935      5.954      2.849         26        640: 100%|██████████| 8/8 [00:00<00:00,  8.58it/s]\n",
      "                 Class     Images  Instances      Box(P          R      mAP50  mAP50-95): 100%|██████████| 1/1 [00:00<00:00,  5.82it/s]"
     ]
    },
    {
     "name": "stdout",
     "output_type": "stream",
     "text": [
      "                   all         31         31    0.00237       0.71      0.289      0.105\n"
     ]
    },
    {
     "name": "stderr",
     "output_type": "stream",
     "text": [
      "\n"
     ]
    },
    {
     "name": "stdout",
     "output_type": "stream",
     "text": [
      "\n",
      "      Epoch    GPU_mem     box_om     cls_om     dfl_om     box_oo     cls_oo     dfl_oo  Instances       Size\n"
     ]
    },
    {
     "name": "stderr",
     "output_type": "stream",
     "text": [
      "     14/100      3.16G       2.37      2.935       2.99      1.991       5.58      2.856         20        640: 100%|██████████| 8/8 [00:00<00:00,  8.32it/s]\n",
      "                 Class     Images  Instances      Box(P          R      mAP50  mAP50-95): 100%|██████████| 1/1 [00:00<00:00,  5.46it/s]"
     ]
    },
    {
     "name": "stdout",
     "output_type": "stream",
     "text": [
      "                   all         31         31    0.00258      0.774      0.185     0.0604\n"
     ]
    },
    {
     "name": "stderr",
     "output_type": "stream",
     "text": [
      "\n"
     ]
    },
    {
     "name": "stdout",
     "output_type": "stream",
     "text": [
      "\n",
      "      Epoch    GPU_mem     box_om     cls_om     dfl_om     box_oo     cls_oo     dfl_oo  Instances       Size\n"
     ]
    },
    {
     "name": "stderr",
     "output_type": "stream",
     "text": [
      "     15/100      3.16G      2.308      2.803      2.898      1.945      5.034      2.738         28        640: 100%|██████████| 8/8 [00:00<00:00,  8.75it/s]\n",
      "                 Class     Images  Instances      Box(P          R      mAP50  mAP50-95): 100%|██████████| 1/1 [00:00<00:00,  5.59it/s]\n"
     ]
    },
    {
     "name": "stdout",
     "output_type": "stream",
     "text": [
      "                   all         31         31      0.261      0.226      0.225      0.101\n",
      "\n",
      "      Epoch    GPU_mem     box_om     cls_om     dfl_om     box_oo     cls_oo     dfl_oo  Instances       Size\n"
     ]
    },
    {
     "name": "stderr",
     "output_type": "stream",
     "text": [
      "     16/100      3.16G      2.253      2.772      2.838      1.884      4.938      2.642         20        640: 100%|██████████| 8/8 [00:00<00:00,  8.71it/s]\n",
      "                 Class     Images  Instances      Box(P          R      mAP50  mAP50-95): 100%|██████████| 1/1 [00:00<00:00,  4.95it/s]"
     ]
    },
    {
     "name": "stdout",
     "output_type": "stream",
     "text": [
      "                   all         31         31      0.296      0.226      0.309      0.182\n"
     ]
    },
    {
     "name": "stderr",
     "output_type": "stream",
     "text": [
      "\n"
     ]
    },
    {
     "name": "stdout",
     "output_type": "stream",
     "text": [
      "\n",
      "      Epoch    GPU_mem     box_om     cls_om     dfl_om     box_oo     cls_oo     dfl_oo  Instances       Size\n"
     ]
    },
    {
     "name": "stderr",
     "output_type": "stream",
     "text": [
      "     17/100      3.16G      2.064       2.65      2.694      1.813      4.675       2.57         27        640: 100%|██████████| 8/8 [00:00<00:00,  9.12it/s]\n",
      "                 Class     Images  Instances      Box(P          R      mAP50  mAP50-95): 100%|██████████| 1/1 [00:00<00:00,  5.28it/s]"
     ]
    },
    {
     "name": "stdout",
     "output_type": "stream",
     "text": [
      "                   all         31         31      0.407      0.355      0.387      0.227\n"
     ]
    },
    {
     "name": "stderr",
     "output_type": "stream",
     "text": [
      "\n"
     ]
    },
    {
     "name": "stdout",
     "output_type": "stream",
     "text": [
      "\n",
      "      Epoch    GPU_mem     box_om     cls_om     dfl_om     box_oo     cls_oo     dfl_oo  Instances       Size\n"
     ]
    },
    {
     "name": "stderr",
     "output_type": "stream",
     "text": [
      "     18/100      3.16G      2.156      2.661      2.744      1.836      4.498      2.566         25        640: 100%|██████████| 8/8 [00:00<00:00,  8.98it/s]\n",
      "                 Class     Images  Instances      Box(P          R      mAP50  mAP50-95): 100%|██████████| 1/1 [00:00<00:00,  5.74it/s]"
     ]
    },
    {
     "name": "stdout",
     "output_type": "stream",
     "text": [
      "                   all         31         31      0.329      0.258      0.314      0.183\n"
     ]
    },
    {
     "name": "stderr",
     "output_type": "stream",
     "text": [
      "\n"
     ]
    },
    {
     "name": "stdout",
     "output_type": "stream",
     "text": [
      "\n",
      "      Epoch    GPU_mem     box_om     cls_om     dfl_om     box_oo     cls_oo     dfl_oo  Instances       Size\n"
     ]
    },
    {
     "name": "stderr",
     "output_type": "stream",
     "text": [
      "     19/100      3.16G      2.086      2.521      2.693      1.762      4.344      2.472         15        640: 100%|██████████| 8/8 [00:00<00:00,  9.27it/s]\n",
      "                 Class     Images  Instances      Box(P          R      mAP50  mAP50-95): 100%|██████████| 1/1 [00:00<00:00,  5.54it/s]"
     ]
    },
    {
     "name": "stdout",
     "output_type": "stream",
     "text": [
      "                   all         31         31      0.273      0.323       0.33      0.166\n"
     ]
    },
    {
     "name": "stderr",
     "output_type": "stream",
     "text": [
      "\n"
     ]
    },
    {
     "name": "stdout",
     "output_type": "stream",
     "text": [
      "\n",
      "      Epoch    GPU_mem     box_om     cls_om     dfl_om     box_oo     cls_oo     dfl_oo  Instances       Size\n"
     ]
    },
    {
     "name": "stderr",
     "output_type": "stream",
     "text": [
      "     20/100      3.16G      2.002      2.446      2.645      1.709      4.026      2.418         22        640: 100%|██████████| 8/8 [00:00<00:00,  8.78it/s]\n",
      "                 Class     Images  Instances      Box(P          R      mAP50  mAP50-95): 100%|██████████| 1/1 [00:00<00:00,  5.56it/s]"
     ]
    },
    {
     "name": "stdout",
     "output_type": "stream",
     "text": [
      "                   all         31         31      0.411      0.161       0.26      0.138\n"
     ]
    },
    {
     "name": "stderr",
     "output_type": "stream",
     "text": [
      "\n"
     ]
    },
    {
     "name": "stdout",
     "output_type": "stream",
     "text": [
      "\n",
      "      Epoch    GPU_mem     box_om     cls_om     dfl_om     box_oo     cls_oo     dfl_oo  Instances       Size\n"
     ]
    },
    {
     "name": "stderr",
     "output_type": "stream",
     "text": [
      "     21/100      3.16G      1.986      2.388      2.578      1.704      3.953      2.465         26        640: 100%|██████████| 8/8 [00:00<00:00,  8.83it/s]\n",
      "                 Class     Images  Instances      Box(P          R      mAP50  mAP50-95): 100%|██████████| 1/1 [00:00<00:00,  5.46it/s]"
     ]
    },
    {
     "name": "stdout",
     "output_type": "stream",
     "text": [
      "                   all         31         31      0.403     0.0645      0.136      0.074\n"
     ]
    },
    {
     "name": "stderr",
     "output_type": "stream",
     "text": [
      "\n"
     ]
    },
    {
     "name": "stdout",
     "output_type": "stream",
     "text": [
      "\n",
      "      Epoch    GPU_mem     box_om     cls_om     dfl_om     box_oo     cls_oo     dfl_oo  Instances       Size\n"
     ]
    },
    {
     "name": "stderr",
     "output_type": "stream",
     "text": [
      "     22/100      3.16G      1.965      2.364      2.512      1.644      3.711      2.316         20        640: 100%|██████████| 8/8 [00:01<00:00,  7.94it/s]\n",
      "                 Class     Images  Instances      Box(P          R      mAP50  mAP50-95): 100%|██████████| 1/1 [00:00<00:00,  5.57it/s]"
     ]
    },
    {
     "name": "stdout",
     "output_type": "stream",
     "text": [
      "                   all         31         31      0.657      0.247      0.373      0.165\n"
     ]
    },
    {
     "name": "stderr",
     "output_type": "stream",
     "text": [
      "\n"
     ]
    },
    {
     "name": "stdout",
     "output_type": "stream",
     "text": [
      "\n",
      "      Epoch    GPU_mem     box_om     cls_om     dfl_om     box_oo     cls_oo     dfl_oo  Instances       Size\n"
     ]
    },
    {
     "name": "stderr",
     "output_type": "stream",
     "text": [
      "     23/100      3.16G      2.056       2.42      2.531      1.798      3.875      2.403         18        640: 100%|██████████| 8/8 [00:00<00:00,  8.99it/s]\n",
      "                 Class     Images  Instances      Box(P          R      mAP50  mAP50-95): 100%|██████████| 1/1 [00:00<00:00,  5.91it/s]"
     ]
    },
    {
     "name": "stdout",
     "output_type": "stream",
     "text": [
      "                   all         31         31      0.415      0.258      0.275      0.133\n"
     ]
    },
    {
     "name": "stderr",
     "output_type": "stream",
     "text": [
      "\n"
     ]
    },
    {
     "name": "stdout",
     "output_type": "stream",
     "text": [
      "\n",
      "      Epoch    GPU_mem     box_om     cls_om     dfl_om     box_oo     cls_oo     dfl_oo  Instances       Size\n"
     ]
    },
    {
     "name": "stderr",
     "output_type": "stream",
     "text": [
      "     24/100      3.16G      1.935      2.376      2.509      1.738      3.631      2.366         18        640: 100%|██████████| 8/8 [00:00<00:00,  9.25it/s]\n",
      "                 Class     Images  Instances      Box(P          R      mAP50  mAP50-95): 100%|██████████| 1/1 [00:00<00:00,  5.46it/s]"
     ]
    },
    {
     "name": "stdout",
     "output_type": "stream",
     "text": [
      "                   all         31         31      0.224      0.355      0.262       0.13\n"
     ]
    },
    {
     "name": "stderr",
     "output_type": "stream",
     "text": [
      "\n"
     ]
    },
    {
     "name": "stdout",
     "output_type": "stream",
     "text": [
      "\n",
      "      Epoch    GPU_mem     box_om     cls_om     dfl_om     box_oo     cls_oo     dfl_oo  Instances       Size\n"
     ]
    },
    {
     "name": "stderr",
     "output_type": "stream",
     "text": [
      "     25/100      3.16G       1.95      2.251      2.398      1.642      3.447       2.25         17        640: 100%|██████████| 8/8 [00:00<00:00,  9.50it/s]\n",
      "                 Class     Images  Instances      Box(P          R      mAP50  mAP50-95): 100%|██████████| 1/1 [00:00<00:00,  5.68it/s]"
     ]
    },
    {
     "name": "stdout",
     "output_type": "stream",
     "text": [
      "                   all         31         31      0.606       0.29      0.421       0.19\n"
     ]
    },
    {
     "name": "stderr",
     "output_type": "stream",
     "text": [
      "\n"
     ]
    },
    {
     "name": "stdout",
     "output_type": "stream",
     "text": [
      "\n",
      "      Epoch    GPU_mem     box_om     cls_om     dfl_om     box_oo     cls_oo     dfl_oo  Instances       Size\n"
     ]
    },
    {
     "name": "stderr",
     "output_type": "stream",
     "text": [
      "     26/100      3.16G      1.875      2.187       2.36       1.66      3.326      2.235         20        640: 100%|██████████| 8/8 [00:00<00:00,  9.11it/s]\n",
      "                 Class     Images  Instances      Box(P          R      mAP50  mAP50-95): 100%|██████████| 1/1 [00:00<00:00,  6.09it/s]\n"
     ]
    },
    {
     "name": "stdout",
     "output_type": "stream",
     "text": [
      "                   all         31         31       0.55      0.276      0.321      0.123\n",
      "\n",
      "      Epoch    GPU_mem     box_om     cls_om     dfl_om     box_oo     cls_oo     dfl_oo  Instances       Size\n"
     ]
    },
    {
     "name": "stderr",
     "output_type": "stream",
     "text": [
      "     27/100      3.16G        1.8      2.108      2.338      1.586      3.096      2.193         24        640: 100%|██████████| 8/8 [00:00<00:00,  9.14it/s]\n",
      "                 Class     Images  Instances      Box(P          R      mAP50  mAP50-95): 100%|██████████| 1/1 [00:00<00:00,  5.77it/s]"
     ]
    },
    {
     "name": "stdout",
     "output_type": "stream",
     "text": [
      "                   all         31         31      0.485      0.335      0.405      0.168\n"
     ]
    },
    {
     "name": "stderr",
     "output_type": "stream",
     "text": [
      "\n"
     ]
    },
    {
     "name": "stdout",
     "output_type": "stream",
     "text": [
      "\n",
      "      Epoch    GPU_mem     box_om     cls_om     dfl_om     box_oo     cls_oo     dfl_oo  Instances       Size\n"
     ]
    },
    {
     "name": "stderr",
     "output_type": "stream",
     "text": [
      "     28/100      3.16G      1.827      2.098      2.383      1.628      3.162      2.265         26        640: 100%|██████████| 8/8 [00:00<00:00,  8.27it/s]\n",
      "                 Class     Images  Instances      Box(P          R      mAP50  mAP50-95): 100%|██████████| 1/1 [00:00<00:00,  5.95it/s]"
     ]
    },
    {
     "name": "stdout",
     "output_type": "stream",
     "text": [
      "                   all         31         31        0.5      0.258      0.407      0.151\n"
     ]
    },
    {
     "name": "stderr",
     "output_type": "stream",
     "text": [
      "\n"
     ]
    },
    {
     "name": "stdout",
     "output_type": "stream",
     "text": [
      "\n",
      "      Epoch    GPU_mem     box_om     cls_om     dfl_om     box_oo     cls_oo     dfl_oo  Instances       Size\n"
     ]
    },
    {
     "name": "stderr",
     "output_type": "stream",
     "text": [
      "     29/100      3.16G        1.8       2.03      2.339      1.631      2.987      2.205         19        640: 100%|██████████| 8/8 [00:00<00:00,  8.88it/s]\n",
      "                 Class     Images  Instances      Box(P          R      mAP50  mAP50-95): 100%|██████████| 1/1 [00:00<00:00,  5.34it/s]"
     ]
    },
    {
     "name": "stdout",
     "output_type": "stream",
     "text": [
      "                   all         31         31      0.462      0.499      0.563      0.245\n"
     ]
    },
    {
     "name": "stderr",
     "output_type": "stream",
     "text": [
      "\n"
     ]
    },
    {
     "name": "stdout",
     "output_type": "stream",
     "text": [
      "\n",
      "      Epoch    GPU_mem     box_om     cls_om     dfl_om     box_oo     cls_oo     dfl_oo  Instances       Size\n"
     ]
    },
    {
     "name": "stderr",
     "output_type": "stream",
     "text": [
      "     30/100      3.16G      1.727      1.975       2.26      1.609      2.978      2.176         22        640: 100%|██████████| 8/8 [00:00<00:00,  8.84it/s]\n",
      "                 Class     Images  Instances      Box(P          R      mAP50  mAP50-95): 100%|██████████| 1/1 [00:00<00:00,  6.15it/s]"
     ]
    },
    {
     "name": "stdout",
     "output_type": "stream",
     "text": [
      "                   all         31         31      0.437      0.426      0.468      0.256\n"
     ]
    },
    {
     "name": "stderr",
     "output_type": "stream",
     "text": [
      "\n"
     ]
    },
    {
     "name": "stdout",
     "output_type": "stream",
     "text": [
      "\n",
      "      Epoch    GPU_mem     box_om     cls_om     dfl_om     box_oo     cls_oo     dfl_oo  Instances       Size\n"
     ]
    },
    {
     "name": "stderr",
     "output_type": "stream",
     "text": [
      "     31/100      3.16G      1.784      1.953      2.319      1.544      2.873      2.092         17        640: 100%|██████████| 8/8 [00:00<00:00,  9.33it/s]\n",
      "                 Class     Images  Instances      Box(P          R      mAP50  mAP50-95): 100%|██████████| 1/1 [00:00<00:00,  5.43it/s]"
     ]
    },
    {
     "name": "stdout",
     "output_type": "stream",
     "text": [
      "                   all         31         31      0.598      0.323      0.455      0.206\n"
     ]
    },
    {
     "name": "stderr",
     "output_type": "stream",
     "text": [
      "\n"
     ]
    },
    {
     "name": "stdout",
     "output_type": "stream",
     "text": [
      "\n",
      "      Epoch    GPU_mem     box_om     cls_om     dfl_om     box_oo     cls_oo     dfl_oo  Instances       Size\n"
     ]
    },
    {
     "name": "stderr",
     "output_type": "stream",
     "text": [
      "     32/100      3.16G      1.719      1.865      2.233      1.496       2.66      2.065         27        640: 100%|██████████| 8/8 [00:00<00:00,  8.95it/s]\n",
      "                 Class     Images  Instances      Box(P          R      mAP50  mAP50-95): 100%|██████████| 1/1 [00:00<00:00,  5.94it/s]"
     ]
    },
    {
     "name": "stdout",
     "output_type": "stream",
     "text": [
      "                   all         31         31      0.432      0.484      0.434      0.215\n"
     ]
    },
    {
     "name": "stderr",
     "output_type": "stream",
     "text": [
      "\n"
     ]
    },
    {
     "name": "stdout",
     "output_type": "stream",
     "text": [
      "\n",
      "      Epoch    GPU_mem     box_om     cls_om     dfl_om     box_oo     cls_oo     dfl_oo  Instances       Size\n"
     ]
    },
    {
     "name": "stderr",
     "output_type": "stream",
     "text": [
      "     33/100      3.16G      1.763      1.893      2.238      1.577        2.7      2.069         19        640: 100%|██████████| 8/8 [00:00<00:00,  8.39it/s]\n",
      "                 Class     Images  Instances      Box(P          R      mAP50  mAP50-95): 100%|██████████| 1/1 [00:00<00:00,  5.73it/s]\n"
     ]
    },
    {
     "name": "stdout",
     "output_type": "stream",
     "text": [
      "                   all         31         31       0.35      0.539      0.372      0.181\n",
      "\n",
      "      Epoch    GPU_mem     box_om     cls_om     dfl_om     box_oo     cls_oo     dfl_oo  Instances       Size\n"
     ]
    },
    {
     "name": "stderr",
     "output_type": "stream",
     "text": [
      "     34/100      3.16G      1.746      1.927      2.236      1.596      2.718      2.132         25        640: 100%|██████████| 8/8 [00:00<00:00,  8.09it/s]\n",
      "                 Class     Images  Instances      Box(P          R      mAP50  mAP50-95): 100%|██████████| 1/1 [00:00<00:00,  5.82it/s]"
     ]
    },
    {
     "name": "stdout",
     "output_type": "stream",
     "text": [
      "                   all         31         31      0.419      0.613      0.531      0.302\n"
     ]
    },
    {
     "name": "stderr",
     "output_type": "stream",
     "text": [
      "\n"
     ]
    },
    {
     "name": "stdout",
     "output_type": "stream",
     "text": [
      "\n",
      "      Epoch    GPU_mem     box_om     cls_om     dfl_om     box_oo     cls_oo     dfl_oo  Instances       Size\n"
     ]
    },
    {
     "name": "stderr",
     "output_type": "stream",
     "text": [
      "     35/100      3.16G       1.68      1.771      2.206       1.44      2.529      2.028         23        640: 100%|██████████| 8/8 [00:00<00:00,  8.47it/s]\n",
      "                 Class     Images  Instances      Box(P          R      mAP50  mAP50-95): 100%|██████████| 1/1 [00:00<00:00,  5.59it/s]\n"
     ]
    },
    {
     "name": "stdout",
     "output_type": "stream",
     "text": [
      "                   all         31         31      0.483      0.664      0.547      0.317\n",
      "\n",
      "      Epoch    GPU_mem     box_om     cls_om     dfl_om     box_oo     cls_oo     dfl_oo  Instances       Size\n"
     ]
    },
    {
     "name": "stderr",
     "output_type": "stream",
     "text": [
      "     36/100      3.16G      1.626      1.749      2.126      1.461      2.486      1.987         19        640: 100%|██████████| 8/8 [00:00<00:00,  8.88it/s]\n",
      "                 Class     Images  Instances      Box(P          R      mAP50  mAP50-95): 100%|██████████| 1/1 [00:00<00:00,  5.97it/s]"
     ]
    },
    {
     "name": "stdout",
     "output_type": "stream",
     "text": [
      "                   all         31         31      0.499      0.516      0.538      0.279\n"
     ]
    },
    {
     "name": "stderr",
     "output_type": "stream",
     "text": [
      "\n"
     ]
    },
    {
     "name": "stdout",
     "output_type": "stream",
     "text": [
      "\n",
      "      Epoch    GPU_mem     box_om     cls_om     dfl_om     box_oo     cls_oo     dfl_oo  Instances       Size\n"
     ]
    },
    {
     "name": "stderr",
     "output_type": "stream",
     "text": [
      "     37/100      3.16G      1.602      1.664       2.11      1.445      2.333      1.966         20        640: 100%|██████████| 8/8 [00:00<00:00,  8.24it/s]\n",
      "                 Class     Images  Instances      Box(P          R      mAP50  mAP50-95): 100%|██████████| 1/1 [00:00<00:00,  5.13it/s]"
     ]
    },
    {
     "name": "stdout",
     "output_type": "stream",
     "text": [
      "                   all         31         31      0.674      0.668      0.623      0.323\n"
     ]
    },
    {
     "name": "stderr",
     "output_type": "stream",
     "text": [
      "\n"
     ]
    },
    {
     "name": "stdout",
     "output_type": "stream",
     "text": [
      "\n",
      "      Epoch    GPU_mem     box_om     cls_om     dfl_om     box_oo     cls_oo     dfl_oo  Instances       Size\n"
     ]
    },
    {
     "name": "stderr",
     "output_type": "stream",
     "text": [
      "     38/100      3.16G      1.559      1.606      2.067      1.365      2.276       1.92         22        640: 100%|██████████| 8/8 [00:00<00:00,  8.79it/s]\n",
      "                 Class     Images  Instances      Box(P          R      mAP50  mAP50-95): 100%|██████████| 1/1 [00:00<00:00,  6.15it/s]"
     ]
    },
    {
     "name": "stdout",
     "output_type": "stream",
     "text": [
      "                   all         31         31       0.64      0.452      0.615      0.291\n"
     ]
    },
    {
     "name": "stderr",
     "output_type": "stream",
     "text": [
      "\n"
     ]
    },
    {
     "name": "stdout",
     "output_type": "stream",
     "text": [
      "\n",
      "      Epoch    GPU_mem     box_om     cls_om     dfl_om     box_oo     cls_oo     dfl_oo  Instances       Size\n"
     ]
    },
    {
     "name": "stderr",
     "output_type": "stream",
     "text": [
      "     39/100      3.16G      1.555      1.684      2.065      1.362      2.339      1.909         23        640: 100%|██████████| 8/8 [00:00<00:00,  8.82it/s]\n",
      "                 Class     Images  Instances      Box(P          R      mAP50  mAP50-95): 100%|██████████| 1/1 [00:00<00:00,  5.46it/s]"
     ]
    },
    {
     "name": "stdout",
     "output_type": "stream",
     "text": [
      "                   all         31         31      0.583      0.613      0.627      0.284\n"
     ]
    },
    {
     "name": "stderr",
     "output_type": "stream",
     "text": [
      "\n"
     ]
    },
    {
     "name": "stdout",
     "output_type": "stream",
     "text": [
      "\n",
      "      Epoch    GPU_mem     box_om     cls_om     dfl_om     box_oo     cls_oo     dfl_oo  Instances       Size\n"
     ]
    },
    {
     "name": "stderr",
     "output_type": "stream",
     "text": [
      "     40/100      3.16G      1.589       1.59      2.093      1.488      2.164      2.027         26        640: 100%|██████████| 8/8 [00:00<00:00,  9.00it/s]\n",
      "                 Class     Images  Instances      Box(P          R      mAP50  mAP50-95): 100%|██████████| 1/1 [00:00<00:00,  5.91it/s]"
     ]
    },
    {
     "name": "stdout",
     "output_type": "stream",
     "text": [
      "                   all         31         31      0.556      0.688      0.637      0.312\n"
     ]
    },
    {
     "name": "stderr",
     "output_type": "stream",
     "text": [
      "\n"
     ]
    },
    {
     "name": "stdout",
     "output_type": "stream",
     "text": [
      "\n",
      "      Epoch    GPU_mem     box_om     cls_om     dfl_om     box_oo     cls_oo     dfl_oo  Instances       Size\n"
     ]
    },
    {
     "name": "stderr",
     "output_type": "stream",
     "text": [
      "     41/100      3.16G      1.638      1.674      2.128      1.511      2.325      2.061         14        640: 100%|██████████| 8/8 [00:00<00:00,  8.66it/s]\n",
      "                 Class     Images  Instances      Box(P          R      mAP50  mAP50-95): 100%|██████████| 1/1 [00:00<00:00,  5.83it/s]\n"
     ]
    },
    {
     "name": "stdout",
     "output_type": "stream",
     "text": [
      "                   all         31         31      0.515      0.685      0.657      0.389\n",
      "\n",
      "      Epoch    GPU_mem     box_om     cls_om     dfl_om     box_oo     cls_oo     dfl_oo  Instances       Size\n"
     ]
    },
    {
     "name": "stderr",
     "output_type": "stream",
     "text": [
      "     42/100      3.16G      1.522      1.619      2.086       1.43      2.166      1.953         20        640: 100%|██████████| 8/8 [00:00<00:00,  8.85it/s]\n",
      "                 Class     Images  Instances      Box(P          R      mAP50  mAP50-95): 100%|██████████| 1/1 [00:00<00:00,  5.36it/s]"
     ]
    },
    {
     "name": "stdout",
     "output_type": "stream",
     "text": [
      "                   all         31         31      0.738      0.727      0.804      0.488\n"
     ]
    },
    {
     "name": "stderr",
     "output_type": "stream",
     "text": [
      "\n"
     ]
    },
    {
     "name": "stdout",
     "output_type": "stream",
     "text": [
      "\n",
      "      Epoch    GPU_mem     box_om     cls_om     dfl_om     box_oo     cls_oo     dfl_oo  Instances       Size\n"
     ]
    },
    {
     "name": "stderr",
     "output_type": "stream",
     "text": [
      "     43/100      3.16G      1.629      1.582      2.107      1.477      2.203      2.011         23        640: 100%|██████████| 8/8 [00:00<00:00,  8.64it/s]\n",
      "                 Class     Images  Instances      Box(P          R      mAP50  mAP50-95): 100%|██████████| 1/1 [00:00<00:00,  5.35it/s]"
     ]
    },
    {
     "name": "stdout",
     "output_type": "stream",
     "text": [
      "                   all         31         31      0.495      0.774      0.682      0.346\n"
     ]
    },
    {
     "name": "stderr",
     "output_type": "stream",
     "text": [
      "\n"
     ]
    },
    {
     "name": "stdout",
     "output_type": "stream",
     "text": [
      "\n",
      "      Epoch    GPU_mem     box_om     cls_om     dfl_om     box_oo     cls_oo     dfl_oo  Instances       Size\n"
     ]
    },
    {
     "name": "stderr",
     "output_type": "stream",
     "text": [
      "     44/100      3.16G      1.463      1.561      2.016      1.347      2.055      1.895         17        640: 100%|██████████| 8/8 [00:00<00:00,  8.41it/s]\n",
      "                 Class     Images  Instances      Box(P          R      mAP50  mAP50-95): 100%|██████████| 1/1 [00:00<00:00,  5.83it/s]"
     ]
    },
    {
     "name": "stdout",
     "output_type": "stream",
     "text": [
      "                   all         31         31      0.444      0.806      0.629      0.328\n"
     ]
    },
    {
     "name": "stderr",
     "output_type": "stream",
     "text": [
      "\n"
     ]
    },
    {
     "name": "stdout",
     "output_type": "stream",
     "text": [
      "\n",
      "      Epoch    GPU_mem     box_om     cls_om     dfl_om     box_oo     cls_oo     dfl_oo  Instances       Size\n"
     ]
    },
    {
     "name": "stderr",
     "output_type": "stream",
     "text": [
      "     45/100      3.16G      1.508      1.497      2.011      1.374       2.01       1.92         21        640: 100%|██████████| 8/8 [00:00<00:00,  8.96it/s]\n",
      "                 Class     Images  Instances      Box(P          R      mAP50  mAP50-95): 100%|██████████| 1/1 [00:00<00:00,  5.86it/s]"
     ]
    },
    {
     "name": "stdout",
     "output_type": "stream",
     "text": [
      "                   all         31         31      0.588      0.645      0.563      0.321\n"
     ]
    },
    {
     "name": "stderr",
     "output_type": "stream",
     "text": [
      "\n"
     ]
    },
    {
     "name": "stdout",
     "output_type": "stream",
     "text": [
      "\n",
      "      Epoch    GPU_mem     box_om     cls_om     dfl_om     box_oo     cls_oo     dfl_oo  Instances       Size\n"
     ]
    },
    {
     "name": "stderr",
     "output_type": "stream",
     "text": [
      "     46/100      3.16G      1.451      1.484      1.958      1.415      2.008      1.925         22        640: 100%|██████████| 8/8 [00:00<00:00,  8.47it/s]\n",
      "                 Class     Images  Instances      Box(P          R      mAP50  mAP50-95): 100%|██████████| 1/1 [00:00<00:00,  5.79it/s]"
     ]
    },
    {
     "name": "stdout",
     "output_type": "stream",
     "text": [
      "                   all         31         31      0.577      0.677      0.727      0.462\n"
     ]
    },
    {
     "name": "stderr",
     "output_type": "stream",
     "text": [
      "\n"
     ]
    },
    {
     "name": "stdout",
     "output_type": "stream",
     "text": [
      "\n",
      "      Epoch    GPU_mem     box_om     cls_om     dfl_om     box_oo     cls_oo     dfl_oo  Instances       Size\n"
     ]
    },
    {
     "name": "stderr",
     "output_type": "stream",
     "text": [
      "     47/100      3.16G      1.422       1.38      1.903      1.349       1.81      1.846         24        640: 100%|██████████| 8/8 [00:00<00:00,  8.82it/s]\n",
      "                 Class     Images  Instances      Box(P          R      mAP50  mAP50-95): 100%|██████████| 1/1 [00:00<00:00,  5.81it/s]"
     ]
    },
    {
     "name": "stdout",
     "output_type": "stream",
     "text": [
      "                   all         31         31      0.561      0.806      0.769      0.536\n"
     ]
    },
    {
     "name": "stderr",
     "output_type": "stream",
     "text": [
      "\n"
     ]
    },
    {
     "name": "stdout",
     "output_type": "stream",
     "text": [
      "\n",
      "      Epoch    GPU_mem     box_om     cls_om     dfl_om     box_oo     cls_oo     dfl_oo  Instances       Size\n"
     ]
    },
    {
     "name": "stderr",
     "output_type": "stream",
     "text": [
      "     48/100      3.16G      1.406      1.406       1.92      1.364      1.928      1.869         21        640: 100%|██████████| 8/8 [00:00<00:00,  8.40it/s]\n",
      "                 Class     Images  Instances      Box(P          R      mAP50  mAP50-95): 100%|██████████| 1/1 [00:00<00:00,  5.59it/s]\n"
     ]
    },
    {
     "name": "stdout",
     "output_type": "stream",
     "text": [
      "                   all         31         31      0.593      0.806      0.738      0.496\n",
      "\n",
      "      Epoch    GPU_mem     box_om     cls_om     dfl_om     box_oo     cls_oo     dfl_oo  Instances       Size\n"
     ]
    },
    {
     "name": "stderr",
     "output_type": "stream",
     "text": [
      "     49/100      3.16G      1.459       1.44      1.946      1.299      1.834      1.812         24        640: 100%|██████████| 8/8 [00:00<00:00,  8.67it/s]\n",
      "                 Class     Images  Instances      Box(P          R      mAP50  mAP50-95): 100%|██████████| 1/1 [00:00<00:00,  6.02it/s]"
     ]
    },
    {
     "name": "stdout",
     "output_type": "stream",
     "text": [
      "                   all         31         31      0.666      0.871      0.838      0.547\n"
     ]
    },
    {
     "name": "stderr",
     "output_type": "stream",
     "text": [
      "\n"
     ]
    },
    {
     "name": "stdout",
     "output_type": "stream",
     "text": [
      "\n",
      "      Epoch    GPU_mem     box_om     cls_om     dfl_om     box_oo     cls_oo     dfl_oo  Instances       Size\n"
     ]
    },
    {
     "name": "stderr",
     "output_type": "stream",
     "text": [
      "     50/100      3.16G      1.409      1.379      1.931      1.333       1.76      1.819         28        640: 100%|██████████| 8/8 [00:00<00:00,  9.09it/s]\n",
      "                 Class     Images  Instances      Box(P          R      mAP50  mAP50-95): 100%|██████████| 1/1 [00:00<00:00,  5.95it/s]"
     ]
    },
    {
     "name": "stdout",
     "output_type": "stream",
     "text": [
      "                   all         31         31      0.875      0.901      0.925       0.59\n"
     ]
    },
    {
     "name": "stderr",
     "output_type": "stream",
     "text": [
      "\n"
     ]
    },
    {
     "name": "stdout",
     "output_type": "stream",
     "text": [
      "\n",
      "      Epoch    GPU_mem     box_om     cls_om     dfl_om     box_oo     cls_oo     dfl_oo  Instances       Size\n"
     ]
    },
    {
     "name": "stderr",
     "output_type": "stream",
     "text": [
      "     51/100      3.16G      1.407      1.306      1.851      1.374      1.676       1.78         21        640: 100%|██████████| 8/8 [00:00<00:00,  8.59it/s]\n",
      "                 Class     Images  Instances      Box(P          R      mAP50  mAP50-95): 100%|██████████| 1/1 [00:00<00:00,  5.72it/s]"
     ]
    },
    {
     "name": "stdout",
     "output_type": "stream",
     "text": [
      "                   all         31         31      0.897      0.806      0.904      0.579\n"
     ]
    },
    {
     "name": "stderr",
     "output_type": "stream",
     "text": [
      "\n"
     ]
    },
    {
     "name": "stdout",
     "output_type": "stream",
     "text": [
      "\n",
      "      Epoch    GPU_mem     box_om     cls_om     dfl_om     box_oo     cls_oo     dfl_oo  Instances       Size\n"
     ]
    },
    {
     "name": "stderr",
     "output_type": "stream",
     "text": [
      "     52/100      3.16G      1.398      1.326      1.882      1.308      1.675      1.784         30        640: 100%|██████████| 8/8 [00:00<00:00,  8.69it/s]\n",
      "                 Class     Images  Instances      Box(P          R      mAP50  mAP50-95): 100%|██████████| 1/1 [00:00<00:00,  5.80it/s]\n"
     ]
    },
    {
     "name": "stdout",
     "output_type": "stream",
     "text": [
      "                   all         31         31      0.757      0.705      0.787      0.445\n",
      "\n",
      "      Epoch    GPU_mem     box_om     cls_om     dfl_om     box_oo     cls_oo     dfl_oo  Instances       Size\n"
     ]
    },
    {
     "name": "stderr",
     "output_type": "stream",
     "text": [
      "     53/100      3.16G      1.404      1.279       1.89      1.341      1.631        1.8         24        640: 100%|██████████| 8/8 [00:00<00:00,  8.72it/s]\n",
      "                 Class     Images  Instances      Box(P          R      mAP50  mAP50-95): 100%|██████████| 1/1 [00:00<00:00,  5.73it/s]"
     ]
    },
    {
     "name": "stdout",
     "output_type": "stream",
     "text": [
      "                   all         31         31      0.893      0.581      0.835      0.538\n"
     ]
    },
    {
     "name": "stderr",
     "output_type": "stream",
     "text": [
      "\n"
     ]
    },
    {
     "name": "stdout",
     "output_type": "stream",
     "text": [
      "\n",
      "      Epoch    GPU_mem     box_om     cls_om     dfl_om     box_oo     cls_oo     dfl_oo  Instances       Size\n"
     ]
    },
    {
     "name": "stderr",
     "output_type": "stream",
     "text": [
      "     54/100      3.16G      1.405      1.305      1.908      1.379      1.745      1.868         16        640: 100%|██████████| 8/8 [00:00<00:00,  9.22it/s]\n",
      "                 Class     Images  Instances      Box(P          R      mAP50  mAP50-95): 100%|██████████| 1/1 [00:00<00:00,  5.76it/s]"
     ]
    },
    {
     "name": "stdout",
     "output_type": "stream",
     "text": [
      "                   all         31         31      0.657      0.742      0.823      0.518\n"
     ]
    },
    {
     "name": "stderr",
     "output_type": "stream",
     "text": [
      "\n"
     ]
    },
    {
     "name": "stdout",
     "output_type": "stream",
     "text": [
      "\n",
      "      Epoch    GPU_mem     box_om     cls_om     dfl_om     box_oo     cls_oo     dfl_oo  Instances       Size\n"
     ]
    },
    {
     "name": "stderr",
     "output_type": "stream",
     "text": [
      "     55/100      3.16G      1.294      1.247      1.798      1.272       1.58      1.728         18        640: 100%|██████████| 8/8 [00:00<00:00,  8.47it/s]\n",
      "                 Class     Images  Instances      Box(P          R      mAP50  mAP50-95): 100%|██████████| 1/1 [00:00<00:00,  5.52it/s]"
     ]
    },
    {
     "name": "stdout",
     "output_type": "stream",
     "text": [
      "                   all         31         31      0.755      0.897      0.909      0.543\n"
     ]
    },
    {
     "name": "stderr",
     "output_type": "stream",
     "text": [
      "\n"
     ]
    },
    {
     "name": "stdout",
     "output_type": "stream",
     "text": [
      "\n",
      "      Epoch    GPU_mem     box_om     cls_om     dfl_om     box_oo     cls_oo     dfl_oo  Instances       Size\n"
     ]
    },
    {
     "name": "stderr",
     "output_type": "stream",
     "text": [
      "     56/100      3.16G      1.439      1.344       1.89      1.389      1.785      1.815         16        640: 100%|██████████| 8/8 [00:00<00:00,  9.05it/s]\n",
      "                 Class     Images  Instances      Box(P          R      mAP50  mAP50-95): 100%|██████████| 1/1 [00:00<00:00,  5.60it/s]"
     ]
    },
    {
     "name": "stdout",
     "output_type": "stream",
     "text": [
      "                   all         31         31      0.826      0.677      0.856      0.544\n"
     ]
    },
    {
     "name": "stderr",
     "output_type": "stream",
     "text": [
      "\n"
     ]
    },
    {
     "name": "stdout",
     "output_type": "stream",
     "text": [
      "\n",
      "      Epoch    GPU_mem     box_om     cls_om     dfl_om     box_oo     cls_oo     dfl_oo  Instances       Size\n"
     ]
    },
    {
     "name": "stderr",
     "output_type": "stream",
     "text": [
      "     57/100      3.16G      1.339      1.192      1.812      1.257      1.589      1.729         22        640: 100%|██████████| 8/8 [00:00<00:00,  9.31it/s]\n",
      "                 Class     Images  Instances      Box(P          R      mAP50  mAP50-95): 100%|██████████| 1/1 [00:00<00:00,  6.13it/s]"
     ]
    },
    {
     "name": "stdout",
     "output_type": "stream",
     "text": [
      "                   all         31         31      0.671      0.903      0.838       0.54\n"
     ]
    },
    {
     "name": "stderr",
     "output_type": "stream",
     "text": [
      "\n"
     ]
    },
    {
     "name": "stdout",
     "output_type": "stream",
     "text": [
      "\n",
      "      Epoch    GPU_mem     box_om     cls_om     dfl_om     box_oo     cls_oo     dfl_oo  Instances       Size\n"
     ]
    },
    {
     "name": "stderr",
     "output_type": "stream",
     "text": [
      "     58/100      3.16G      1.346      1.229      1.799      1.339      1.642      1.798         16        640: 100%|██████████| 8/8 [00:00<00:00,  9.12it/s]\n",
      "                 Class     Images  Instances      Box(P          R      mAP50  mAP50-95): 100%|██████████| 1/1 [00:00<00:00,  5.99it/s]\n"
     ]
    },
    {
     "name": "stdout",
     "output_type": "stream",
     "text": [
      "                   all         31         31      0.788      0.837      0.897       0.61\n",
      "\n",
      "      Epoch    GPU_mem     box_om     cls_om     dfl_om     box_oo     cls_oo     dfl_oo  Instances       Size\n"
     ]
    },
    {
     "name": "stderr",
     "output_type": "stream",
     "text": [
      "     59/100      3.16G      1.359      1.233      1.861      1.318      1.631      1.823         28        640: 100%|██████████| 8/8 [00:00<00:00,  8.66it/s]\n",
      "                 Class     Images  Instances      Box(P          R      mAP50  mAP50-95): 100%|██████████| 1/1 [00:00<00:00,  5.39it/s]"
     ]
    },
    {
     "name": "stdout",
     "output_type": "stream",
     "text": [
      "                   all         31         31      0.758      0.908      0.901      0.601\n"
     ]
    },
    {
     "name": "stderr",
     "output_type": "stream",
     "text": [
      "\n"
     ]
    },
    {
     "name": "stdout",
     "output_type": "stream",
     "text": [
      "\n",
      "      Epoch    GPU_mem     box_om     cls_om     dfl_om     box_oo     cls_oo     dfl_oo  Instances       Size\n"
     ]
    },
    {
     "name": "stderr",
     "output_type": "stream",
     "text": [
      "     60/100      3.16G      1.282       1.17      1.782      1.228      1.552      1.721         25        640: 100%|██████████| 8/8 [00:00<00:00,  9.44it/s]\n",
      "                 Class     Images  Instances      Box(P          R      mAP50  mAP50-95): 100%|██████████| 1/1 [00:00<00:00,  5.76it/s]"
     ]
    },
    {
     "name": "stdout",
     "output_type": "stream",
     "text": [
      "                   all         31         31      0.859      0.903      0.934      0.615\n"
     ]
    },
    {
     "name": "stderr",
     "output_type": "stream",
     "text": [
      "\n"
     ]
    },
    {
     "name": "stdout",
     "output_type": "stream",
     "text": [
      "\n",
      "      Epoch    GPU_mem     box_om     cls_om     dfl_om     box_oo     cls_oo     dfl_oo  Instances       Size\n"
     ]
    },
    {
     "name": "stderr",
     "output_type": "stream",
     "text": [
      "     61/100      3.16G      1.363      1.205      1.843      1.313      1.567      1.762         20        640: 100%|██████████| 8/8 [00:00<00:00,  9.35it/s]\n",
      "                 Class     Images  Instances      Box(P          R      mAP50  mAP50-95): 100%|██████████| 1/1 [00:00<00:00,  5.90it/s]"
     ]
    },
    {
     "name": "stdout",
     "output_type": "stream",
     "text": [
      "                   all         31         31      0.797      0.889      0.936      0.578\n"
     ]
    },
    {
     "name": "stderr",
     "output_type": "stream",
     "text": [
      "\n"
     ]
    },
    {
     "name": "stdout",
     "output_type": "stream",
     "text": [
      "\n",
      "      Epoch    GPU_mem     box_om     cls_om     dfl_om     box_oo     cls_oo     dfl_oo  Instances       Size\n"
     ]
    },
    {
     "name": "stderr",
     "output_type": "stream",
     "text": [
      "     62/100      3.16G      1.295      1.171      1.766      1.264      1.537      1.728         26        640: 100%|██████████| 8/8 [00:00<00:00,  9.15it/s]\n",
      "                 Class     Images  Instances      Box(P          R      mAP50  mAP50-95): 100%|██████████| 1/1 [00:00<00:00,  5.68it/s]"
     ]
    },
    {
     "name": "stdout",
     "output_type": "stream",
     "text": [
      "                   all         31         31      0.956      0.699      0.907      0.563\n"
     ]
    },
    {
     "name": "stderr",
     "output_type": "stream",
     "text": [
      "\n"
     ]
    },
    {
     "name": "stdout",
     "output_type": "stream",
     "text": [
      "\n",
      "      Epoch    GPU_mem     box_om     cls_om     dfl_om     box_oo     cls_oo     dfl_oo  Instances       Size\n"
     ]
    },
    {
     "name": "stderr",
     "output_type": "stream",
     "text": [
      "     63/100      3.16G      1.281      1.159      1.777      1.264       1.57      1.751         23        640: 100%|██████████| 8/8 [00:00<00:00,  8.60it/s]\n",
      "                 Class     Images  Instances      Box(P          R      mAP50  mAP50-95): 100%|██████████| 1/1 [00:00<00:00,  5.54it/s]"
     ]
    },
    {
     "name": "stdout",
     "output_type": "stream",
     "text": [
      "                   all         31         31      0.768      0.962      0.922      0.558\n"
     ]
    },
    {
     "name": "stderr",
     "output_type": "stream",
     "text": [
      "\n"
     ]
    },
    {
     "name": "stdout",
     "output_type": "stream",
     "text": [
      "\n",
      "      Epoch    GPU_mem     box_om     cls_om     dfl_om     box_oo     cls_oo     dfl_oo  Instances       Size\n"
     ]
    },
    {
     "name": "stderr",
     "output_type": "stream",
     "text": [
      "     64/100      3.16G      1.252      1.155      1.737      1.252      1.488      1.739         21        640: 100%|██████████| 8/8 [00:00<00:00,  9.19it/s]\n",
      "                 Class     Images  Instances      Box(P          R      mAP50  mAP50-95): 100%|██████████| 1/1 [00:00<00:00,  5.68it/s]"
     ]
    },
    {
     "name": "stdout",
     "output_type": "stream",
     "text": [
      "                   all         31         31       0.72      0.828      0.898      0.649\n"
     ]
    },
    {
     "name": "stderr",
     "output_type": "stream",
     "text": [
      "\n"
     ]
    },
    {
     "name": "stdout",
     "output_type": "stream",
     "text": [
      "\n",
      "      Epoch    GPU_mem     box_om     cls_om     dfl_om     box_oo     cls_oo     dfl_oo  Instances       Size\n"
     ]
    },
    {
     "name": "stderr",
     "output_type": "stream",
     "text": [
      "     65/100      3.16G      1.259      1.106      1.739       1.23      1.409      1.688         20        640: 100%|██████████| 8/8 [00:00<00:00,  9.37it/s]\n",
      "                 Class     Images  Instances      Box(P          R      mAP50  mAP50-95): 100%|██████████| 1/1 [00:00<00:00,  5.50it/s]"
     ]
    },
    {
     "name": "stdout",
     "output_type": "stream",
     "text": [
      "                   all         31         31      0.869      0.871      0.933      0.619\n"
     ]
    },
    {
     "name": "stderr",
     "output_type": "stream",
     "text": [
      "\n"
     ]
    },
    {
     "name": "stdout",
     "output_type": "stream",
     "text": [
      "\n",
      "      Epoch    GPU_mem     box_om     cls_om     dfl_om     box_oo     cls_oo     dfl_oo  Instances       Size\n"
     ]
    },
    {
     "name": "stderr",
     "output_type": "stream",
     "text": [
      "     66/100      3.16G      1.258       1.09      1.735      1.208      1.406      1.671         28        640: 100%|██████████| 8/8 [00:00<00:00,  9.25it/s]\n",
      "                 Class     Images  Instances      Box(P          R      mAP50  mAP50-95): 100%|██████████| 1/1 [00:00<00:00,  5.43it/s]"
     ]
    },
    {
     "name": "stdout",
     "output_type": "stream",
     "text": [
      "                   all         31         31      0.789       0.71      0.868      0.601\n"
     ]
    },
    {
     "name": "stderr",
     "output_type": "stream",
     "text": [
      "\n"
     ]
    },
    {
     "name": "stdout",
     "output_type": "stream",
     "text": [
      "\n",
      "      Epoch    GPU_mem     box_om     cls_om     dfl_om     box_oo     cls_oo     dfl_oo  Instances       Size\n"
     ]
    },
    {
     "name": "stderr",
     "output_type": "stream",
     "text": [
      "     67/100      3.16G      1.273      1.121      1.706      1.256      1.483      1.682         21        640: 100%|██████████| 8/8 [00:00<00:00,  8.74it/s]\n",
      "                 Class     Images  Instances      Box(P          R      mAP50  mAP50-95): 100%|██████████| 1/1 [00:00<00:00,  5.86it/s]"
     ]
    },
    {
     "name": "stdout",
     "output_type": "stream",
     "text": [
      "                   all         31         31      0.811      0.832      0.892      0.622\n"
     ]
    },
    {
     "name": "stderr",
     "output_type": "stream",
     "text": [
      "\n"
     ]
    },
    {
     "name": "stdout",
     "output_type": "stream",
     "text": [
      "\n",
      "      Epoch    GPU_mem     box_om     cls_om     dfl_om     box_oo     cls_oo     dfl_oo  Instances       Size\n"
     ]
    },
    {
     "name": "stderr",
     "output_type": "stream",
     "text": [
      "     68/100      3.16G      1.184      1.074       1.65      1.215       1.44      1.638         17        640: 100%|██████████| 8/8 [00:00<00:00,  9.31it/s]\n",
      "                 Class     Images  Instances      Box(P          R      mAP50  mAP50-95): 100%|██████████| 1/1 [00:00<00:00,  5.77it/s]"
     ]
    },
    {
     "name": "stdout",
     "output_type": "stream",
     "text": [
      "                   all         31         31      0.977      0.774       0.93       0.66\n"
     ]
    },
    {
     "name": "stderr",
     "output_type": "stream",
     "text": [
      "\n"
     ]
    },
    {
     "name": "stdout",
     "output_type": "stream",
     "text": [
      "\n",
      "      Epoch    GPU_mem     box_om     cls_om     dfl_om     box_oo     cls_oo     dfl_oo  Instances       Size\n"
     ]
    },
    {
     "name": "stderr",
     "output_type": "stream",
     "text": [
      "     69/100      3.16G       1.22      1.038      1.687      1.242      1.364      1.689         22        640: 100%|██████████| 8/8 [00:00<00:00,  9.34it/s]\n",
      "                 Class     Images  Instances      Box(P          R      mAP50  mAP50-95): 100%|██████████| 1/1 [00:00<00:00,  5.62it/s]"
     ]
    },
    {
     "name": "stdout",
     "output_type": "stream",
     "text": [
      "                   all         31         31        0.8      0.903      0.932      0.677\n"
     ]
    },
    {
     "name": "stderr",
     "output_type": "stream",
     "text": [
      "\n"
     ]
    },
    {
     "name": "stdout",
     "output_type": "stream",
     "text": [
      "\n",
      "      Epoch    GPU_mem     box_om     cls_om     dfl_om     box_oo     cls_oo     dfl_oo  Instances       Size\n"
     ]
    },
    {
     "name": "stderr",
     "output_type": "stream",
     "text": [
      "     70/100      3.16G      1.262      1.087      1.756       1.25      1.425      1.722         26        640: 100%|██████████| 8/8 [00:00<00:00,  9.39it/s]\n",
      "                 Class     Images  Instances      Box(P          R      mAP50  mAP50-95): 100%|██████████| 1/1 [00:00<00:00,  5.74it/s]"
     ]
    },
    {
     "name": "stdout",
     "output_type": "stream",
     "text": [
      "                   all         31         31      0.895      0.822      0.939      0.644\n"
     ]
    },
    {
     "name": "stderr",
     "output_type": "stream",
     "text": [
      "\n"
     ]
    },
    {
     "name": "stdout",
     "output_type": "stream",
     "text": [
      "\n",
      "      Epoch    GPU_mem     box_om     cls_om     dfl_om     box_oo     cls_oo     dfl_oo  Instances       Size\n"
     ]
    },
    {
     "name": "stderr",
     "output_type": "stream",
     "text": [
      "     71/100      3.16G      1.182      1.019      1.664      1.181       1.37      1.651         31        640: 100%|██████████| 8/8 [00:00<00:00,  8.52it/s]\n",
      "                 Class     Images  Instances      Box(P          R      mAP50  mAP50-95): 100%|██████████| 1/1 [00:00<00:00,  5.67it/s]"
     ]
    },
    {
     "name": "stdout",
     "output_type": "stream",
     "text": [
      "                   all         31         31      0.923      0.903      0.968      0.688\n"
     ]
    },
    {
     "name": "stderr",
     "output_type": "stream",
     "text": [
      "\n"
     ]
    },
    {
     "name": "stdout",
     "output_type": "stream",
     "text": [
      "\n",
      "      Epoch    GPU_mem     box_om     cls_om     dfl_om     box_oo     cls_oo     dfl_oo  Instances       Size\n"
     ]
    },
    {
     "name": "stderr",
     "output_type": "stream",
     "text": [
      "     72/100      3.16G      1.189      1.057      1.675      1.152      1.398      1.654         22        640: 100%|██████████| 8/8 [00:00<00:00,  8.87it/s]\n",
      "                 Class     Images  Instances      Box(P          R      mAP50  mAP50-95): 100%|██████████| 1/1 [00:00<00:00,  5.81it/s]"
     ]
    },
    {
     "name": "stdout",
     "output_type": "stream",
     "text": [
      "                   all         31         31      0.987      0.903      0.981      0.715\n"
     ]
    },
    {
     "name": "stderr",
     "output_type": "stream",
     "text": [
      "\n"
     ]
    },
    {
     "name": "stdout",
     "output_type": "stream",
     "text": [
      "\n",
      "      Epoch    GPU_mem     box_om     cls_om     dfl_om     box_oo     cls_oo     dfl_oo  Instances       Size\n"
     ]
    },
    {
     "name": "stderr",
     "output_type": "stream",
     "text": [
      "     73/100      3.16G      1.156     0.9719      1.658      1.145      1.312      1.617         21        640: 100%|██████████| 8/8 [00:01<00:00,  7.78it/s]\n",
      "                 Class     Images  Instances      Box(P          R      mAP50  mAP50-95): 100%|██████████| 1/1 [00:00<00:00,  5.01it/s]"
     ]
    },
    {
     "name": "stdout",
     "output_type": "stream",
     "text": [
      "                   all         31         31      0.924      0.903      0.969      0.689\n"
     ]
    },
    {
     "name": "stderr",
     "output_type": "stream",
     "text": [
      "\n"
     ]
    },
    {
     "name": "stdout",
     "output_type": "stream",
     "text": [
      "\n",
      "      Epoch    GPU_mem     box_om     cls_om     dfl_om     box_oo     cls_oo     dfl_oo  Instances       Size\n"
     ]
    },
    {
     "name": "stderr",
     "output_type": "stream",
     "text": [
      "     74/100      3.16G      1.221      1.002      1.654      1.233      1.364      1.646         27        640: 100%|██████████| 8/8 [00:01<00:00,  7.43it/s]\n",
      "                 Class     Images  Instances      Box(P          R      mAP50  mAP50-95): 100%|██████████| 1/1 [00:00<00:00,  5.71it/s]"
     ]
    },
    {
     "name": "stdout",
     "output_type": "stream",
     "text": [
      "                   all         31         31      0.812      0.806      0.884      0.642\n"
     ]
    },
    {
     "name": "stderr",
     "output_type": "stream",
     "text": [
      "\n"
     ]
    },
    {
     "name": "stdout",
     "output_type": "stream",
     "text": [
      "\n",
      "      Epoch    GPU_mem     box_om     cls_om     dfl_om     box_oo     cls_oo     dfl_oo  Instances       Size\n"
     ]
    },
    {
     "name": "stderr",
     "output_type": "stream",
     "text": [
      "     75/100      3.16G      1.162     0.9537      1.626      1.132      1.286      1.608         19        640: 100%|██████████| 8/8 [00:00<00:00,  8.42it/s]\n",
      "                 Class     Images  Instances      Box(P          R      mAP50  mAP50-95): 100%|██████████| 1/1 [00:00<00:00,  5.29it/s]"
     ]
    },
    {
     "name": "stdout",
     "output_type": "stream",
     "text": [
      "                   all         31         31      0.731      0.903      0.905      0.672\n"
     ]
    },
    {
     "name": "stderr",
     "output_type": "stream",
     "text": [
      "\n"
     ]
    },
    {
     "name": "stdout",
     "output_type": "stream",
     "text": [
      "\n",
      "      Epoch    GPU_mem     box_om     cls_om     dfl_om     box_oo     cls_oo     dfl_oo  Instances       Size\n"
     ]
    },
    {
     "name": "stderr",
     "output_type": "stream",
     "text": [
      "     76/100      3.16G       1.16     0.9427       1.64      1.181      1.312      1.615         18        640: 100%|██████████| 8/8 [00:00<00:00,  8.22it/s]\n",
      "                 Class     Images  Instances      Box(P          R      mAP50  mAP50-95): 100%|██████████| 1/1 [00:00<00:00,  5.54it/s]"
     ]
    },
    {
     "name": "stdout",
     "output_type": "stream",
     "text": [
      "                   all         31         31      0.835      0.871      0.942      0.691\n"
     ]
    },
    {
     "name": "stderr",
     "output_type": "stream",
     "text": [
      "\n"
     ]
    },
    {
     "name": "stdout",
     "output_type": "stream",
     "text": [
      "\n",
      "      Epoch    GPU_mem     box_om     cls_om     dfl_om     box_oo     cls_oo     dfl_oo  Instances       Size\n"
     ]
    },
    {
     "name": "stderr",
     "output_type": "stream",
     "text": [
      "     77/100      3.16G      1.264      1.008      1.692      1.247      1.446      1.659         20        640: 100%|██████████| 8/8 [00:00<00:00,  8.18it/s]\n",
      "                 Class     Images  Instances      Box(P          R      mAP50  mAP50-95): 100%|██████████| 1/1 [00:00<00:00,  4.88it/s]"
     ]
    },
    {
     "name": "stdout",
     "output_type": "stream",
     "text": [
      "                   all         31         31      0.852      0.926      0.935      0.668\n"
     ]
    },
    {
     "name": "stderr",
     "output_type": "stream",
     "text": [
      "\n"
     ]
    },
    {
     "name": "stdout",
     "output_type": "stream",
     "text": [
      "\n",
      "      Epoch    GPU_mem     box_om     cls_om     dfl_om     box_oo     cls_oo     dfl_oo  Instances       Size\n"
     ]
    },
    {
     "name": "stderr",
     "output_type": "stream",
     "text": [
      "     78/100      3.16G      1.116     0.9503      1.616      1.135      1.243       1.63         17        640: 100%|██████████| 8/8 [00:01<00:00,  7.44it/s]\n",
      "                 Class     Images  Instances      Box(P          R      mAP50  mAP50-95): 100%|██████████| 1/1 [00:00<00:00,  5.36it/s]"
     ]
    },
    {
     "name": "stdout",
     "output_type": "stream",
     "text": [
      "                   all         31         31      0.871      0.806      0.902      0.609\n"
     ]
    },
    {
     "name": "stderr",
     "output_type": "stream",
     "text": [
      "\n"
     ]
    },
    {
     "name": "stdout",
     "output_type": "stream",
     "text": [
      "\n",
      "      Epoch    GPU_mem     box_om     cls_om     dfl_om     box_oo     cls_oo     dfl_oo  Instances       Size\n"
     ]
    },
    {
     "name": "stderr",
     "output_type": "stream",
     "text": [
      "     79/100      3.16G      1.113     0.9594      1.592      1.117      1.295      1.589         20        640: 100%|██████████| 8/8 [00:01<00:00,  7.80it/s]\n",
      "                 Class     Images  Instances      Box(P          R      mAP50  mAP50-95): 100%|██████████| 1/1 [00:00<00:00,  5.29it/s]"
     ]
    },
    {
     "name": "stdout",
     "output_type": "stream",
     "text": [
      "                   all         31         31      0.883      0.806       0.89      0.619\n"
     ]
    },
    {
     "name": "stderr",
     "output_type": "stream",
     "text": [
      "\n"
     ]
    },
    {
     "name": "stdout",
     "output_type": "stream",
     "text": [
      "\n",
      "      Epoch    GPU_mem     box_om     cls_om     dfl_om     box_oo     cls_oo     dfl_oo  Instances       Size\n"
     ]
    },
    {
     "name": "stderr",
     "output_type": "stream",
     "text": [
      "     80/100      3.16G      1.226     0.9884      1.663      1.183      1.342      1.637         26        640: 100%|██████████| 8/8 [00:00<00:00,  8.10it/s]\n",
      "                 Class     Images  Instances      Box(P          R      mAP50  mAP50-95): 100%|██████████| 1/1 [00:00<00:00,  5.45it/s]"
     ]
    },
    {
     "name": "stdout",
     "output_type": "stream",
     "text": [
      "                   all         31         31      0.688      0.923      0.896      0.665\n"
     ]
    },
    {
     "name": "stderr",
     "output_type": "stream",
     "text": [
      "\n"
     ]
    },
    {
     "name": "stdout",
     "output_type": "stream",
     "text": [
      "\n",
      "      Epoch    GPU_mem     box_om     cls_om     dfl_om     box_oo     cls_oo     dfl_oo  Instances       Size\n"
     ]
    },
    {
     "name": "stderr",
     "output_type": "stream",
     "text": [
      "     81/100      3.16G      1.174     0.9828      1.637      1.149      1.308      1.566         27        640: 100%|██████████| 8/8 [00:00<00:00,  8.29it/s]\n",
      "                 Class     Images  Instances      Box(P          R      mAP50  mAP50-95): 100%|██████████| 1/1 [00:00<00:00,  5.71it/s]"
     ]
    },
    {
     "name": "stdout",
     "output_type": "stream",
     "text": [
      "                   all         31         31       0.87      0.867      0.929      0.722\n"
     ]
    },
    {
     "name": "stderr",
     "output_type": "stream",
     "text": [
      "\n"
     ]
    },
    {
     "name": "stdout",
     "output_type": "stream",
     "text": [
      "\n",
      "      Epoch    GPU_mem     box_om     cls_om     dfl_om     box_oo     cls_oo     dfl_oo  Instances       Size\n"
     ]
    },
    {
     "name": "stderr",
     "output_type": "stream",
     "text": [
      "     82/100      3.16G      1.092     0.9445      1.607      1.127      1.279      1.618         26        640: 100%|██████████| 8/8 [00:00<00:00,  8.70it/s]\n",
      "                 Class     Images  Instances      Box(P          R      mAP50  mAP50-95): 100%|██████████| 1/1 [00:00<00:00,  5.46it/s]"
     ]
    },
    {
     "name": "stdout",
     "output_type": "stream",
     "text": [
      "                   all         31         31      0.804      0.871      0.899      0.697\n"
     ]
    },
    {
     "name": "stderr",
     "output_type": "stream",
     "text": [
      "\n"
     ]
    },
    {
     "name": "stdout",
     "output_type": "stream",
     "text": [
      "\n",
      "      Epoch    GPU_mem     box_om     cls_om     dfl_om     box_oo     cls_oo     dfl_oo  Instances       Size\n"
     ]
    },
    {
     "name": "stderr",
     "output_type": "stream",
     "text": [
      "     83/100      3.16G      1.068      0.955      1.568      1.094      1.276      1.558         22        640: 100%|██████████| 8/8 [00:00<00:00,  9.19it/s]\n",
      "                 Class     Images  Instances      Box(P          R      mAP50  mAP50-95): 100%|██████████| 1/1 [00:00<00:00,  5.89it/s]\n"
     ]
    },
    {
     "name": "stdout",
     "output_type": "stream",
     "text": [
      "                   all         31         31      0.863      0.871      0.926      0.737\n",
      "\n",
      "      Epoch    GPU_mem     box_om     cls_om     dfl_om     box_oo     cls_oo     dfl_oo  Instances       Size\n"
     ]
    },
    {
     "name": "stderr",
     "output_type": "stream",
     "text": [
      "     84/100      3.16G      1.085     0.9017      1.561      1.084      1.187      1.556         24        640: 100%|██████████| 8/8 [00:00<00:00,  9.38it/s]\n",
      "                 Class     Images  Instances      Box(P          R      mAP50  mAP50-95): 100%|██████████| 1/1 [00:00<00:00,  5.71it/s]\n"
     ]
    },
    {
     "name": "stdout",
     "output_type": "stream",
     "text": [
      "                   all         31         31      0.871       0.87      0.932      0.728\n",
      "\n",
      "      Epoch    GPU_mem     box_om     cls_om     dfl_om     box_oo     cls_oo     dfl_oo  Instances       Size\n"
     ]
    },
    {
     "name": "stderr",
     "output_type": "stream",
     "text": [
      "     85/100      3.16G      1.032     0.8677      1.538      1.079       1.16      1.573         27        640: 100%|██████████| 8/8 [00:00<00:00,  9.45it/s]\n",
      "                 Class     Images  Instances      Box(P          R      mAP50  mAP50-95): 100%|██████████| 1/1 [00:00<00:00,  5.93it/s]\n"
     ]
    },
    {
     "name": "stdout",
     "output_type": "stream",
     "text": [
      "                   all         31         31      0.908      0.871      0.964      0.767\n",
      "\n",
      "      Epoch    GPU_mem     box_om     cls_om     dfl_om     box_oo     cls_oo     dfl_oo  Instances       Size\n"
     ]
    },
    {
     "name": "stderr",
     "output_type": "stream",
     "text": [
      "     86/100      3.16G      1.063     0.8654       1.52      1.085      1.203      1.519         22        640: 100%|██████████| 8/8 [00:00<00:00,  9.16it/s]\n",
      "                 Class     Images  Instances      Box(P          R      mAP50  mAP50-95): 100%|██████████| 1/1 [00:00<00:00,  5.89it/s]"
     ]
    },
    {
     "name": "stdout",
     "output_type": "stream",
     "text": [
      "                   all         31         31      0.917      0.968      0.979      0.753\n"
     ]
    },
    {
     "name": "stderr",
     "output_type": "stream",
     "text": [
      "\n"
     ]
    },
    {
     "name": "stdout",
     "output_type": "stream",
     "text": [
      "\n",
      "      Epoch    GPU_mem     box_om     cls_om     dfl_om     box_oo     cls_oo     dfl_oo  Instances       Size\n"
     ]
    },
    {
     "name": "stderr",
     "output_type": "stream",
     "text": [
      "     87/100      3.16G      1.099     0.8889      1.596      1.104      1.161      1.581         21        640: 100%|██████████| 8/8 [00:00<00:00,  9.43it/s]\n",
      "                 Class     Images  Instances      Box(P          R      mAP50  mAP50-95): 100%|██████████| 1/1 [00:00<00:00,  5.53it/s]"
     ]
    },
    {
     "name": "stdout",
     "output_type": "stream",
     "text": [
      "                   all         31         31      0.879      0.968      0.976      0.741\n"
     ]
    },
    {
     "name": "stderr",
     "output_type": "stream",
     "text": [
      "\n"
     ]
    },
    {
     "name": "stdout",
     "output_type": "stream",
     "text": [
      "\n",
      "      Epoch    GPU_mem     box_om     cls_om     dfl_om     box_oo     cls_oo     dfl_oo  Instances       Size\n"
     ]
    },
    {
     "name": "stderr",
     "output_type": "stream",
     "text": [
      "     88/100      3.16G       1.09     0.9165      1.593      1.049      1.248      1.582         21        640: 100%|██████████| 8/8 [00:00<00:00,  9.36it/s]\n",
      "                 Class     Images  Instances      Box(P          R      mAP50  mAP50-95): 100%|██████████| 1/1 [00:00<00:00,  5.72it/s]"
     ]
    },
    {
     "name": "stdout",
     "output_type": "stream",
     "text": [
      "                   all         31         31       0.89      0.935      0.966      0.733\n"
     ]
    },
    {
     "name": "stderr",
     "output_type": "stream",
     "text": [
      "\n"
     ]
    },
    {
     "name": "stdout",
     "output_type": "stream",
     "text": [
      "\n",
      "      Epoch    GPU_mem     box_om     cls_om     dfl_om     box_oo     cls_oo     dfl_oo  Instances       Size\n"
     ]
    },
    {
     "name": "stderr",
     "output_type": "stream",
     "text": [
      "     89/100      3.16G      1.073     0.8791       1.55      1.089      1.206      1.552         30        640: 100%|██████████| 8/8 [00:00<00:00,  9.27it/s]\n",
      "                 Class     Images  Instances      Box(P          R      mAP50  mAP50-95): 100%|██████████| 1/1 [00:00<00:00,  5.92it/s]"
     ]
    },
    {
     "name": "stdout",
     "output_type": "stream",
     "text": [
      "                   all         31         31      0.861      0.996       0.96      0.696\n"
     ]
    },
    {
     "name": "stderr",
     "output_type": "stream",
     "text": [
      "\n"
     ]
    },
    {
     "name": "stdout",
     "output_type": "stream",
     "text": [
      "\n",
      "      Epoch    GPU_mem     box_om     cls_om     dfl_om     box_oo     cls_oo     dfl_oo  Instances       Size\n"
     ]
    },
    {
     "name": "stderr",
     "output_type": "stream",
     "text": [
      "     90/100      3.16G      1.076     0.8923      1.582      1.077      1.203      1.562         19        640: 100%|██████████| 8/8 [00:00<00:00,  9.27it/s]\n",
      "                 Class     Images  Instances      Box(P          R      mAP50  mAP50-95): 100%|██████████| 1/1 [00:00<00:00,  5.31it/s]"
     ]
    },
    {
     "name": "stdout",
     "output_type": "stream",
     "text": [
      "                   all         31         31      0.849       0.91      0.961      0.721\n"
     ]
    },
    {
     "name": "stderr",
     "output_type": "stream",
     "text": [
      "\n"
     ]
    },
    {
     "name": "stdout",
     "output_type": "stream",
     "text": [
      "Closing dataloader mosaic\n",
      "\n",
      "      Epoch    GPU_mem     box_om     cls_om     dfl_om     box_oo     cls_oo     dfl_oo  Instances       Size\n"
     ]
    },
    {
     "name": "stderr",
     "output_type": "stream",
     "text": [
      "     91/100      3.16G     0.9075     0.8949      1.431     0.8793      1.208      1.365         12        640: 100%|██████████| 8/8 [00:09<00:00,  1.19s/it]\n",
      "                 Class     Images  Instances      Box(P          R      mAP50  mAP50-95): 100%|██████████| 1/1 [00:00<00:00,  5.55it/s]"
     ]
    },
    {
     "name": "stdout",
     "output_type": "stream",
     "text": [
      "                   all         31         31      0.911      0.871      0.957      0.733\n"
     ]
    },
    {
     "name": "stderr",
     "output_type": "stream",
     "text": [
      "\n"
     ]
    },
    {
     "name": "stdout",
     "output_type": "stream",
     "text": [
      "\n",
      "      Epoch    GPU_mem     box_om     cls_om     dfl_om     box_oo     cls_oo     dfl_oo  Instances       Size\n"
     ]
    },
    {
     "name": "stderr",
     "output_type": "stream",
     "text": [
      "     92/100      3.16G     0.8492     0.7969      1.358      0.839       1.03      1.317         12        640: 100%|██████████| 8/8 [00:00<00:00,  8.60it/s]\n",
      "                 Class     Images  Instances      Box(P          R      mAP50  mAP50-95): 100%|██████████| 1/1 [00:00<00:00,  5.58it/s]"
     ]
    },
    {
     "name": "stdout",
     "output_type": "stream",
     "text": [
      "                   all         31         31      0.916      0.806      0.928      0.691\n"
     ]
    },
    {
     "name": "stderr",
     "output_type": "stream",
     "text": [
      "\n"
     ]
    },
    {
     "name": "stdout",
     "output_type": "stream",
     "text": [
      "\n",
      "      Epoch    GPU_mem     box_om     cls_om     dfl_om     box_oo     cls_oo     dfl_oo  Instances       Size\n"
     ]
    },
    {
     "name": "stderr",
     "output_type": "stream",
     "text": [
      "     93/100      3.16G      0.854     0.7812      1.356     0.8264      1.072      1.344         12        640: 100%|██████████| 8/8 [00:00<00:00,  8.80it/s]\n",
      "                 Class     Images  Instances      Box(P          R      mAP50  mAP50-95): 100%|██████████| 1/1 [00:00<00:00,  5.56it/s]"
     ]
    },
    {
     "name": "stdout",
     "output_type": "stream",
     "text": [
      "                   all         31         31      0.894      0.774      0.912      0.695\n"
     ]
    },
    {
     "name": "stderr",
     "output_type": "stream",
     "text": [
      "\n"
     ]
    },
    {
     "name": "stdout",
     "output_type": "stream",
     "text": [
      "\n",
      "      Epoch    GPU_mem     box_om     cls_om     dfl_om     box_oo     cls_oo     dfl_oo  Instances       Size\n"
     ]
    },
    {
     "name": "stderr",
     "output_type": "stream",
     "text": [
      "     94/100      3.16G      0.831     0.7696      1.325     0.8349      1.113      1.298         12        640: 100%|██████████| 8/8 [00:00<00:00,  8.54it/s]\n",
      "                 Class     Images  Instances      Box(P          R      mAP50  mAP50-95): 100%|██████████| 1/1 [00:00<00:00,  5.67it/s]"
     ]
    },
    {
     "name": "stdout",
     "output_type": "stream",
     "text": [
      "                   all         31         31      0.954      0.839      0.968      0.767\n"
     ]
    },
    {
     "name": "stderr",
     "output_type": "stream",
     "text": [
      "\n"
     ]
    },
    {
     "name": "stdout",
     "output_type": "stream",
     "text": [
      "\n",
      "      Epoch    GPU_mem     box_om     cls_om     dfl_om     box_oo     cls_oo     dfl_oo  Instances       Size\n"
     ]
    },
    {
     "name": "stderr",
     "output_type": "stream",
     "text": [
      "     95/100      3.16G     0.8403     0.7316       1.35     0.8397      1.027      1.329         12        640: 100%|██████████| 8/8 [00:00<00:00,  8.05it/s]\n",
      "                 Class     Images  Instances      Box(P          R      mAP50  mAP50-95): 100%|██████████| 1/1 [00:00<00:00,  4.90it/s]"
     ]
    },
    {
     "name": "stdout",
     "output_type": "stream",
     "text": [
      "                   all         31         31      0.906      0.938      0.978      0.794\n"
     ]
    },
    {
     "name": "stderr",
     "output_type": "stream",
     "text": [
      "\n"
     ]
    },
    {
     "name": "stdout",
     "output_type": "stream",
     "text": [
      "\n",
      "      Epoch    GPU_mem     box_om     cls_om     dfl_om     box_oo     cls_oo     dfl_oo  Instances       Size\n"
     ]
    },
    {
     "name": "stderr",
     "output_type": "stream",
     "text": [
      "     96/100      3.16G     0.7854     0.6768      1.295     0.8127     0.9625      1.287         12        640: 100%|██████████| 8/8 [00:00<00:00,  8.46it/s]\n",
      "                 Class     Images  Instances      Box(P          R      mAP50  mAP50-95): 100%|██████████| 1/1 [00:00<00:00,  5.76it/s]"
     ]
    },
    {
     "name": "stdout",
     "output_type": "stream",
     "text": [
      "                   all         31         31      0.959          1       0.99      0.791\n"
     ]
    },
    {
     "name": "stderr",
     "output_type": "stream",
     "text": [
      "\n"
     ]
    },
    {
     "name": "stdout",
     "output_type": "stream",
     "text": [
      "\n",
      "      Epoch    GPU_mem     box_om     cls_om     dfl_om     box_oo     cls_oo     dfl_oo  Instances       Size\n"
     ]
    },
    {
     "name": "stderr",
     "output_type": "stream",
     "text": [
      "     97/100      3.16G     0.7779     0.6941      1.302     0.8159     0.9107      1.298         12        640: 100%|██████████| 8/8 [00:00<00:00,  8.57it/s]\n",
      "                 Class     Images  Instances      Box(P          R      mAP50  mAP50-95): 100%|██████████| 1/1 [00:00<00:00,  5.69it/s]"
     ]
    },
    {
     "name": "stdout",
     "output_type": "stream",
     "text": [
      "                   all         31         31      0.883      0.973      0.986      0.782\n"
     ]
    },
    {
     "name": "stderr",
     "output_type": "stream",
     "text": [
      "\n"
     ]
    },
    {
     "name": "stdout",
     "output_type": "stream",
     "text": [
      "\n",
      "      Epoch    GPU_mem     box_om     cls_om     dfl_om     box_oo     cls_oo     dfl_oo  Instances       Size\n"
     ]
    },
    {
     "name": "stderr",
     "output_type": "stream",
     "text": [
      "     98/100      3.16G     0.7855      0.671      1.295     0.8253     0.9698      1.295         12        640: 100%|██████████| 8/8 [00:00<00:00,  8.20it/s]\n",
      "                 Class     Images  Instances      Box(P          R      mAP50  mAP50-95): 100%|██████████| 1/1 [00:00<00:00,  5.09it/s]"
     ]
    },
    {
     "name": "stdout",
     "output_type": "stream",
     "text": [
      "                   all         31         31      0.883      0.973      0.978      0.774\n"
     ]
    },
    {
     "name": "stderr",
     "output_type": "stream",
     "text": [
      "\n"
     ]
    },
    {
     "name": "stdout",
     "output_type": "stream",
     "text": [
      "\n",
      "      Epoch    GPU_mem     box_om     cls_om     dfl_om     box_oo     cls_oo     dfl_oo  Instances       Size\n"
     ]
    },
    {
     "name": "stderr",
     "output_type": "stream",
     "text": [
      "     99/100      3.16G     0.7903     0.6716      1.283     0.8499      0.904      1.292         12        640: 100%|██████████| 8/8 [00:00<00:00,  8.71it/s]\n",
      "                 Class     Images  Instances      Box(P          R      mAP50  mAP50-95): 100%|██████████| 1/1 [00:00<00:00,  5.30it/s]"
     ]
    },
    {
     "name": "stdout",
     "output_type": "stream",
     "text": [
      "                   all         31         31      0.985      0.839      0.973      0.786\n"
     ]
    },
    {
     "name": "stderr",
     "output_type": "stream",
     "text": [
      "\n"
     ]
    },
    {
     "name": "stdout",
     "output_type": "stream",
     "text": [
      "\n",
      "      Epoch    GPU_mem     box_om     cls_om     dfl_om     box_oo     cls_oo     dfl_oo  Instances       Size\n"
     ]
    },
    {
     "name": "stderr",
     "output_type": "stream",
     "text": [
      "    100/100      3.16G     0.7937     0.6828      1.288     0.7945     0.9062      1.287         12        640: 100%|██████████| 8/8 [00:00<00:00,  8.64it/s]\n",
      "                 Class     Images  Instances      Box(P          R      mAP50  mAP50-95): 100%|██████████| 1/1 [00:00<00:00,  5.57it/s]"
     ]
    },
    {
     "name": "stdout",
     "output_type": "stream",
     "text": [
      "                   all         31         31      0.958      0.839      0.972      0.796\n"
     ]
    },
    {
     "name": "stderr",
     "output_type": "stream",
     "text": [
      "\n"
     ]
    },
    {
     "name": "stdout",
     "output_type": "stream",
     "text": [
      "\n",
      "100 epochs completed in 0.046 hours.\n",
      "Optimizer stripped from D:\\Code\\CBCT_Reconstruction_ICP\\runs\\detect\\train14\\weights\\last.pt, 5.8MB\n",
      "Optimizer stripped from D:\\Code\\CBCT_Reconstruction_ICP\\runs\\detect\\train14\\weights\\best.pt, 5.8MB\n",
      "\n",
      "Validating D:\\Code\\CBCT_Reconstruction_ICP\\runs\\detect\\train14\\weights\\best.pt...\n",
      "Ultralytics YOLOv8.1.34 🚀 Python-3.9.19 torch-2.0.1+cu118 CUDA:0 (NVIDIA GeForce RTX 4080 Laptop GPU, 12282MiB)\n",
      "YOLOv10n summary (fused): 285 layers, 2694806 parameters, 0 gradients, 8.2 GFLOPs\n"
     ]
    },
    {
     "name": "stderr",
     "output_type": "stream",
     "text": [
      "                 Class     Images  Instances      Box(P          R      mAP50  mAP50-95): 100%|██████████| 1/1 [00:00<00:00,  4.56it/s]\n"
     ]
    },
    {
     "name": "stdout",
     "output_type": "stream",
     "text": [
      "                   all         31         31      0.958      0.839      0.972      0.796\n",
      "Speed: 0.3ms preprocess, 2.1ms inference, 0.0ms loss, 0.0ms postprocess per image\n",
      "Results saved to \u001b[1mD:\\Code\\CBCT_Reconstruction_ICP\\runs\\detect\\train14\u001b[0m\n"
     ]
    }
   ],
   "source": [
    "# Train Yolov10 model for the first time\n",
    "import os\n",
    "import torch\n",
    "from ultralytics import YOLOv10\n",
    "\n",
    "os.environ[\"KMP_DUPLICATE_LIB_OK\"] = \"TRUE\"\n",
    "\n",
    "# Create a new YOLO model from scratch\n",
    "model = YOLOv10('yolov10n.yaml')\n",
    "\n",
    "# Ensure the model uses GPU if available\n",
    "device = 'cuda' if torch.cuda.is_available() else 'cpu'\n",
    "print(\"using device: \", device)\n",
    "model.to(device)\n",
    "\n",
    "# Train the model using the 'arch_detection.yaml' dataset for 50 epochs\n",
    "results = model.train(data='detech_arch.yaml', epochs=100, device=device)\n"
   ]
  },
  {
   "cell_type": "code",
   "execution_count": null,
   "id": "dc6aa8bc",
   "metadata": {},
   "outputs": [],
   "source": [
    "# Continue training the model for another 50 epochs\n",
    "\n",
    "import os\n",
    "import torch\n",
    "from ultralytics import YOLOv10\n",
    "\n",
    "os.environ[\"KMP_DUPLICATE_LIB_OK\"] = \"TRUE\"\n",
    "\n",
    "# 创建新的 YOLO 模型实例\n",
    "model = YOLOv10('yolov10n.yaml')\n",
    "\n",
    "# 加载之前训练好的模型权重\n",
    "checkpoint_path = '../runs/detect/train10/weights/best.pt'\n",
    "model.load(checkpoint_path)\n",
    "\n",
    "# 确保模型使用 GPU（如果可用）\n",
    "device = 'cuda' if torch.cuda.is_available() else 'cpu'\n",
    "print(\"using device: \", device)\n",
    "model.to(device)\n",
    "\n",
    "# 使用 'arch_detection.yaml' 数据集继续训练模型，例如再训练 50 个 epochs\n",
    "results = model.train(data='arch_detection.yaml', epochs=50, device=device)\n",
    "\n",
    "# 保存继续训练后的模型\n",
    "model.save('continued_trained_model.pt')"
   ]
  },
  {
   "cell_type": "code",
   "execution_count": 14,
   "id": "acb2c63f-27ce-44ab-9b5c-35de351d2d72",
   "metadata": {},
   "outputs": [
    {
     "name": "stdout",
     "output_type": "stream",
     "text": [
      "\n",
      "image 1/1 D:\\Code\\CBCT_Reconstruction_ICP\\data\\03\\adaptive_threshold_jpg\\03_slice_0001.jpg: 640x640 (no detections), 13.2ms\n",
      "Speed: 3.5ms preprocess, 13.2ms inference, 2.5ms postprocess per image at shape (1, 3, 640, 640)\n",
      "\n",
      "image 1/1 D:\\Code\\CBCT_Reconstruction_ICP\\data\\03\\adaptive_threshold_jpg\\03_slice_0002.jpg: 640x640 (no detections), 12.8ms\n",
      "Speed: 3.6ms preprocess, 12.8ms inference, 2.0ms postprocess per image at shape (1, 3, 640, 640)\n",
      "\n",
      "image 1/1 D:\\Code\\CBCT_Reconstruction_ICP\\data\\03\\adaptive_threshold_jpg\\03_slice_0003.jpg: 640x640 (no detections), 13.5ms\n",
      "Speed: 2.6ms preprocess, 13.5ms inference, 1.0ms postprocess per image at shape (1, 3, 640, 640)\n",
      "\n",
      "image 1/1 D:\\Code\\CBCT_Reconstruction_ICP\\data\\03\\adaptive_threshold_jpg\\03_slice_0004.jpg: 640x640 (no detections), 13.0ms\n",
      "Speed: 3.2ms preprocess, 13.0ms inference, 1.0ms postprocess per image at shape (1, 3, 640, 640)\n",
      "\n",
      "image 1/1 D:\\Code\\CBCT_Reconstruction_ICP\\data\\03\\adaptive_threshold_jpg\\03_slice_0005.jpg: 640x640 (no detections), 10.5ms\n",
      "Speed: 3.6ms preprocess, 10.5ms inference, 2.0ms postprocess per image at shape (1, 3, 640, 640)\n",
      "\n",
      "image 1/1 D:\\Code\\CBCT_Reconstruction_ICP\\data\\03\\adaptive_threshold_jpg\\03_slice_0006.jpg: 640x640 (no detections), 15.4ms\n",
      "Speed: 3.0ms preprocess, 15.4ms inference, 2.2ms postprocess per image at shape (1, 3, 640, 640)\n",
      "\n",
      "image 1/1 D:\\Code\\CBCT_Reconstruction_ICP\\data\\03\\adaptive_threshold_jpg\\03_slice_0007.jpg: 640x640 (no detections), 17.3ms\n",
      "Speed: 3.0ms preprocess, 17.3ms inference, 3.4ms postprocess per image at shape (1, 3, 640, 640)\n",
      "\n",
      "image 1/1 D:\\Code\\CBCT_Reconstruction_ICP\\data\\03\\adaptive_threshold_jpg\\03_slice_0008.jpg: 640x640 (no detections), 13.3ms\n",
      "Speed: 4.8ms preprocess, 13.3ms inference, 1.0ms postprocess per image at shape (1, 3, 640, 640)\n",
      "\n",
      "image 1/1 D:\\Code\\CBCT_Reconstruction_ICP\\data\\03\\adaptive_threshold_jpg\\03_slice_0009.jpg: 640x640 1 arch, 11.3ms\n",
      "Speed: 4.3ms preprocess, 11.3ms inference, 3.0ms postprocess per image at shape (1, 3, 640, 640)\n",
      "Skipped box with confidence: 0.3192451000213623 in image 03_slice_0009.jpg\n",
      "\n",
      "image 1/1 D:\\Code\\CBCT_Reconstruction_ICP\\data\\03\\adaptive_threshold_jpg\\03_slice_0010.jpg: 640x640 (no detections), 12.0ms\n",
      "Speed: 4.0ms preprocess, 12.0ms inference, 0.0ms postprocess per image at shape (1, 3, 640, 640)\n",
      "\n",
      "image 1/1 D:\\Code\\CBCT_Reconstruction_ICP\\data\\03\\adaptive_threshold_jpg\\03_slice_0011.jpg: 640x640 (no detections), 12.5ms\n",
      "Speed: 2.5ms preprocess, 12.5ms inference, 2.0ms postprocess per image at shape (1, 3, 640, 640)\n",
      "\n",
      "image 1/1 D:\\Code\\CBCT_Reconstruction_ICP\\data\\03\\adaptive_threshold_jpg\\03_slice_0012.jpg: 640x640 (no detections), 11.5ms\n",
      "Speed: 2.4ms preprocess, 11.5ms inference, 1.0ms postprocess per image at shape (1, 3, 640, 640)\n",
      "\n",
      "image 1/1 D:\\Code\\CBCT_Reconstruction_ICP\\data\\03\\adaptive_threshold_jpg\\03_slice_0013.jpg: 640x640 (no detections), 11.3ms\n",
      "Speed: 2.0ms preprocess, 11.3ms inference, 1.0ms postprocess per image at shape (1, 3, 640, 640)\n",
      "\n",
      "image 1/1 D:\\Code\\CBCT_Reconstruction_ICP\\data\\03\\adaptive_threshold_jpg\\03_slice_0014.jpg: 640x640 (no detections), 11.8ms\n",
      "Speed: 3.4ms preprocess, 11.8ms inference, 2.3ms postprocess per image at shape (1, 3, 640, 640)\n",
      "\n",
      "image 1/1 D:\\Code\\CBCT_Reconstruction_ICP\\data\\03\\adaptive_threshold_jpg\\03_slice_0015.jpg: 640x640 (no detections), 10.7ms\n",
      "Speed: 2.7ms preprocess, 10.7ms inference, 2.0ms postprocess per image at shape (1, 3, 640, 640)\n",
      "\n",
      "image 1/1 D:\\Code\\CBCT_Reconstruction_ICP\\data\\03\\adaptive_threshold_jpg\\03_slice_0016.jpg: 640x640 (no detections), 12.1ms\n",
      "Speed: 3.5ms preprocess, 12.1ms inference, 1.0ms postprocess per image at shape (1, 3, 640, 640)\n",
      "\n",
      "image 1/1 D:\\Code\\CBCT_Reconstruction_ICP\\data\\03\\adaptive_threshold_jpg\\03_slice_0017.jpg: 640x640 (no detections), 14.0ms\n",
      "Speed: 3.0ms preprocess, 14.0ms inference, 1.2ms postprocess per image at shape (1, 3, 640, 640)\n",
      "\n",
      "image 1/1 D:\\Code\\CBCT_Reconstruction_ICP\\data\\03\\adaptive_threshold_jpg\\03_slice_0018.jpg: 640x640 (no detections), 12.3ms\n",
      "Speed: 3.5ms preprocess, 12.3ms inference, 1.0ms postprocess per image at shape (1, 3, 640, 640)\n",
      "\n",
      "image 1/1 D:\\Code\\CBCT_Reconstruction_ICP\\data\\03\\adaptive_threshold_jpg\\03_slice_0019.jpg: 640x640 (no detections), 14.0ms\n",
      "Speed: 3.0ms preprocess, 14.0ms inference, 1.0ms postprocess per image at shape (1, 3, 640, 640)\n",
      "\n",
      "image 1/1 D:\\Code\\CBCT_Reconstruction_ICP\\data\\03\\adaptive_threshold_jpg\\03_slice_0020.jpg: 640x640 1 arch, 9.5ms\n",
      "Speed: 4.6ms preprocess, 9.5ms inference, 3.0ms postprocess per image at shape (1, 3, 640, 640)\n",
      "0.0 0.66\n",
      "\n",
      "image 1/1 D:\\Code\\CBCT_Reconstruction_ICP\\data\\03\\adaptive_threshold_jpg\\03_slice_0021.jpg: 640x640 (no detections), 11.6ms\n",
      "Speed: 2.5ms preprocess, 11.6ms inference, 1.0ms postprocess per image at shape (1, 3, 640, 640)\n",
      "\n",
      "image 1/1 D:\\Code\\CBCT_Reconstruction_ICP\\data\\03\\adaptive_threshold_jpg\\03_slice_0022.jpg: 640x640 1 arch, 9.5ms\n",
      "Speed: 3.0ms preprocess, 9.5ms inference, 1.0ms postprocess per image at shape (1, 3, 640, 640)\n",
      "0.0 0.42\n",
      "\n",
      "image 1/1 D:\\Code\\CBCT_Reconstruction_ICP\\data\\03\\adaptive_threshold_jpg\\03_slice_0023.jpg: 640x640 1 arch, 11.3ms\n",
      "Speed: 2.5ms preprocess, 11.3ms inference, 1.0ms postprocess per image at shape (1, 3, 640, 640)\n",
      "0.0 0.48\n",
      "\n",
      "image 1/1 D:\\Code\\CBCT_Reconstruction_ICP\\data\\03\\adaptive_threshold_jpg\\03_slice_0024.jpg: 640x640 1 arch, 15.4ms\n",
      "Speed: 3.0ms preprocess, 15.4ms inference, 1.0ms postprocess per image at shape (1, 3, 640, 640)\n",
      "0.0 0.43\n",
      "\n",
      "image 1/1 D:\\Code\\CBCT_Reconstruction_ICP\\data\\03\\adaptive_threshold_jpg\\03_slice_0025.jpg: 640x640 1 arch, 9.7ms\n",
      "Speed: 2.1ms preprocess, 9.7ms inference, 1.0ms postprocess per image at shape (1, 3, 640, 640)\n",
      "Skipped box with confidence: 0.39867186546325684 in image 03_slice_0025.jpg\n",
      "\n",
      "image 1/1 D:\\Code\\CBCT_Reconstruction_ICP\\data\\03\\adaptive_threshold_jpg\\03_slice_0026.jpg: 640x640 1 arch, 10.5ms\n",
      "Speed: 2.0ms preprocess, 10.5ms inference, 1.0ms postprocess per image at shape (1, 3, 640, 640)\n",
      "0.0 0.47\n",
      "\n",
      "image 1/1 D:\\Code\\CBCT_Reconstruction_ICP\\data\\03\\adaptive_threshold_jpg\\03_slice_0027.jpg: 640x640 1 arch, 10.6ms\n",
      "Speed: 3.4ms preprocess, 10.6ms inference, 1.0ms postprocess per image at shape (1, 3, 640, 640)\n",
      "0.0 0.50\n",
      "\n",
      "image 1/1 D:\\Code\\CBCT_Reconstruction_ICP\\data\\03\\adaptive_threshold_jpg\\03_slice_0028.jpg: 640x640 1 arch, 13.0ms\n",
      "Speed: 2.0ms preprocess, 13.0ms inference, 0.7ms postprocess per image at shape (1, 3, 640, 640)\n",
      "Skipped box with confidence: 0.37188616394996643 in image 03_slice_0028.jpg\n",
      "\n",
      "image 1/1 D:\\Code\\CBCT_Reconstruction_ICP\\data\\03\\adaptive_threshold_jpg\\03_slice_0029.jpg: 640x640 (no detections), 11.8ms\n",
      "Speed: 4.1ms preprocess, 11.8ms inference, 7.6ms postprocess per image at shape (1, 3, 640, 640)\n",
      "\n",
      "image 1/1 D:\\Code\\CBCT_Reconstruction_ICP\\data\\03\\adaptive_threshold_jpg\\03_slice_0030.jpg: 640x640 (no detections), 16.5ms\n",
      "Speed: 2.7ms preprocess, 16.5ms inference, 1.7ms postprocess per image at shape (1, 3, 640, 640)\n",
      "\n",
      "image 1/1 D:\\Code\\CBCT_Reconstruction_ICP\\data\\03\\adaptive_threshold_jpg\\03_slice_0031.jpg: 640x640 1 arch, 9.6ms\n",
      "Speed: 2.5ms preprocess, 9.6ms inference, 1.8ms postprocess per image at shape (1, 3, 640, 640)\n",
      "0.0 0.47\n",
      "\n",
      "image 1/1 D:\\Code\\CBCT_Reconstruction_ICP\\data\\03\\adaptive_threshold_jpg\\03_slice_0032.jpg: 640x640 1 arch, 8.6ms\n",
      "Speed: 2.5ms preprocess, 8.6ms inference, 1.5ms postprocess per image at shape (1, 3, 640, 640)\n",
      "0.0 0.45\n",
      "\n",
      "image 1/1 D:\\Code\\CBCT_Reconstruction_ICP\\data\\03\\adaptive_threshold_jpg\\03_slice_0033.jpg: 640x640 1 arch, 10.5ms\n",
      "Speed: 3.3ms preprocess, 10.5ms inference, 1.0ms postprocess per image at shape (1, 3, 640, 640)\n",
      "0.0 0.59\n",
      "\n",
      "image 1/1 D:\\Code\\CBCT_Reconstruction_ICP\\data\\03\\adaptive_threshold_jpg\\03_slice_0034.jpg: 640x640 1 arch, 9.3ms\n",
      "Speed: 3.0ms preprocess, 9.3ms inference, 1.0ms postprocess per image at shape (1, 3, 640, 640)\n",
      "0.0 0.73\n",
      "\n",
      "image 1/1 D:\\Code\\CBCT_Reconstruction_ICP\\data\\03\\adaptive_threshold_jpg\\03_slice_0035.jpg: 640x640 1 arch, 9.0ms\n",
      "Speed: 3.0ms preprocess, 9.0ms inference, 1.0ms postprocess per image at shape (1, 3, 640, 640)\n",
      "0.0 0.63\n",
      "\n",
      "image 1/1 D:\\Code\\CBCT_Reconstruction_ICP\\data\\03\\adaptive_threshold_jpg\\03_slice_0036.jpg: 640x640 1 arch, 10.0ms\n",
      "Speed: 3.0ms preprocess, 10.0ms inference, 1.0ms postprocess per image at shape (1, 3, 640, 640)\n",
      "0.0 0.61\n",
      "\n",
      "image 1/1 D:\\Code\\CBCT_Reconstruction_ICP\\data\\03\\adaptive_threshold_jpg\\03_slice_0037.jpg: 640x640 (no detections), 9.0ms\n",
      "Speed: 3.0ms preprocess, 9.0ms inference, 1.0ms postprocess per image at shape (1, 3, 640, 640)\n",
      "\n",
      "image 1/1 D:\\Code\\CBCT_Reconstruction_ICP\\data\\03\\adaptive_threshold_jpg\\03_slice_0038.jpg: 640x640 (no detections), 8.9ms\n",
      "Speed: 2.9ms preprocess, 8.9ms inference, 1.8ms postprocess per image at shape (1, 3, 640, 640)\n",
      "\n",
      "image 1/1 D:\\Code\\CBCT_Reconstruction_ICP\\data\\03\\adaptive_threshold_jpg\\03_slice_0039.jpg: 640x640 (no detections), 10.9ms\n",
      "Speed: 2.0ms preprocess, 10.9ms inference, 1.0ms postprocess per image at shape (1, 3, 640, 640)\n",
      "\n",
      "image 1/1 D:\\Code\\CBCT_Reconstruction_ICP\\data\\03\\adaptive_threshold_jpg\\03_slice_0040.jpg: 640x640 1 arch, 9.0ms\n",
      "Speed: 3.1ms preprocess, 9.0ms inference, 1.0ms postprocess per image at shape (1, 3, 640, 640)\n",
      "0.0 0.52\n",
      "\n",
      "image 1/1 D:\\Code\\CBCT_Reconstruction_ICP\\data\\03\\adaptive_threshold_jpg\\03_slice_0041.jpg: 640x640 1 arch, 10.9ms\n",
      "Speed: 2.0ms preprocess, 10.9ms inference, 1.0ms postprocess per image at shape (1, 3, 640, 640)\n",
      "0.0 0.64\n",
      "\n",
      "image 1/1 D:\\Code\\CBCT_Reconstruction_ICP\\data\\03\\adaptive_threshold_jpg\\03_slice_0042.jpg: 640x640 1 arch, 14.2ms\n",
      "Speed: 3.0ms preprocess, 14.2ms inference, 2.0ms postprocess per image at shape (1, 3, 640, 640)\n",
      "0.0 0.55\n",
      "\n",
      "image 1/1 D:\\Code\\CBCT_Reconstruction_ICP\\data\\03\\adaptive_threshold_jpg\\03_slice_0043.jpg: 640x640 1 arch, 12.2ms\n",
      "Speed: 3.2ms preprocess, 12.2ms inference, 1.0ms postprocess per image at shape (1, 3, 640, 640)\n",
      "0.0 0.50\n",
      "\n",
      "image 1/1 D:\\Code\\CBCT_Reconstruction_ICP\\data\\03\\adaptive_threshold_jpg\\03_slice_0044.jpg: 640x640 1 arch, 10.7ms\n",
      "Speed: 2.0ms preprocess, 10.7ms inference, 1.0ms postprocess per image at shape (1, 3, 640, 640)\n",
      "0.0 0.44\n",
      "\n",
      "image 1/1 D:\\Code\\CBCT_Reconstruction_ICP\\data\\03\\adaptive_threshold_jpg\\03_slice_0045.jpg: 640x640 1 arch, 12.0ms\n",
      "Speed: 3.5ms preprocess, 12.0ms inference, 1.1ms postprocess per image at shape (1, 3, 640, 640)\n",
      "Skipped box with confidence: 0.2873060405254364 in image 03_slice_0045.jpg\n",
      "\n",
      "image 1/1 D:\\Code\\CBCT_Reconstruction_ICP\\data\\03\\adaptive_threshold_jpg\\03_slice_0046.jpg: 640x640 (no detections), 9.6ms\n",
      "Speed: 3.5ms preprocess, 9.6ms inference, 1.0ms postprocess per image at shape (1, 3, 640, 640)\n",
      "\n",
      "image 1/1 D:\\Code\\CBCT_Reconstruction_ICP\\data\\03\\adaptive_threshold_jpg\\03_slice_0047.jpg: 640x640 1 arch, 11.4ms\n",
      "Speed: 2.6ms preprocess, 11.4ms inference, 1.2ms postprocess per image at shape (1, 3, 640, 640)\n",
      "Skipped box with confidence: 0.3722110092639923 in image 03_slice_0047.jpg\n",
      "\n",
      "image 1/1 D:\\Code\\CBCT_Reconstruction_ICP\\data\\03\\adaptive_threshold_jpg\\03_slice_0048.jpg: 640x640 1 arch, 12.8ms\n",
      "Speed: 2.9ms preprocess, 12.8ms inference, 1.0ms postprocess per image at shape (1, 3, 640, 640)\n",
      "0.0 0.54\n",
      "\n",
      "image 1/1 D:\\Code\\CBCT_Reconstruction_ICP\\data\\03\\adaptive_threshold_jpg\\03_slice_0049.jpg: 640x640 1 arch, 9.5ms\n",
      "Speed: 3.0ms preprocess, 9.5ms inference, 2.0ms postprocess per image at shape (1, 3, 640, 640)\n",
      "0.0 0.45\n",
      "\n",
      "image 1/1 D:\\Code\\CBCT_Reconstruction_ICP\\data\\03\\adaptive_threshold_jpg\\03_slice_0050.jpg: 640x640 1 arch, 11.0ms\n",
      "Speed: 2.1ms preprocess, 11.0ms inference, 1.0ms postprocess per image at shape (1, 3, 640, 640)\n",
      "Skipped box with confidence: 0.25958654284477234 in image 03_slice_0050.jpg\n",
      "\n",
      "image 1/1 D:\\Code\\CBCT_Reconstruction_ICP\\data\\03\\adaptive_threshold_jpg\\03_slice_0051.jpg: 640x640 1 arch, 11.7ms\n",
      "Speed: 3.0ms preprocess, 11.7ms inference, 2.1ms postprocess per image at shape (1, 3, 640, 640)\n",
      "0.0 0.67\n",
      "\n",
      "image 1/1 D:\\Code\\CBCT_Reconstruction_ICP\\data\\03\\adaptive_threshold_jpg\\03_slice_0052.jpg: 640x640 (no detections), 12.3ms\n",
      "Speed: 2.0ms preprocess, 12.3ms inference, 0.5ms postprocess per image at shape (1, 3, 640, 640)\n",
      "\n",
      "image 1/1 D:\\Code\\CBCT_Reconstruction_ICP\\data\\03\\adaptive_threshold_jpg\\03_slice_0053.jpg: 640x640 1 arch, 11.9ms\n",
      "Speed: 2.7ms preprocess, 11.9ms inference, 1.0ms postprocess per image at shape (1, 3, 640, 640)\n",
      "0.0 0.44\n",
      "\n",
      "image 1/1 D:\\Code\\CBCT_Reconstruction_ICP\\data\\03\\adaptive_threshold_jpg\\03_slice_0054.jpg: 640x640 1 arch, 10.7ms\n",
      "Speed: 2.4ms preprocess, 10.7ms inference, 1.0ms postprocess per image at shape (1, 3, 640, 640)\n",
      "0.0 0.59\n",
      "\n",
      "image 1/1 D:\\Code\\CBCT_Reconstruction_ICP\\data\\03\\adaptive_threshold_jpg\\03_slice_0055.jpg: 640x640 1 arch, 10.1ms\n",
      "Speed: 2.1ms preprocess, 10.1ms inference, 1.0ms postprocess per image at shape (1, 3, 640, 640)\n",
      "Skipped box with confidence: 0.34273284673690796 in image 03_slice_0055.jpg\n",
      "\n",
      "image 1/1 D:\\Code\\CBCT_Reconstruction_ICP\\data\\03\\adaptive_threshold_jpg\\03_slice_0056.jpg: 640x640 1 arch, 11.4ms\n",
      "Speed: 3.0ms preprocess, 11.4ms inference, 2.0ms postprocess per image at shape (1, 3, 640, 640)\n",
      "Skipped box with confidence: 0.3861755132675171 in image 03_slice_0056.jpg\n",
      "\n",
      "image 1/1 D:\\Code\\CBCT_Reconstruction_ICP\\data\\03\\adaptive_threshold_jpg\\03_slice_0057.jpg: 640x640 (no detections), 9.8ms\n",
      "Speed: 3.0ms preprocess, 9.8ms inference, 0.0ms postprocess per image at shape (1, 3, 640, 640)\n",
      "\n",
      "image 1/1 D:\\Code\\CBCT_Reconstruction_ICP\\data\\03\\adaptive_threshold_jpg\\03_slice_0058.jpg: 640x640 1 arch, 13.0ms\n",
      "Speed: 3.6ms preprocess, 13.0ms inference, 3.0ms postprocess per image at shape (1, 3, 640, 640)\n",
      "0.0 0.52\n",
      "\n",
      "image 1/1 D:\\Code\\CBCT_Reconstruction_ICP\\data\\03\\adaptive_threshold_jpg\\03_slice_0059.jpg: 640x640 1 arch, 10.6ms\n",
      "Speed: 3.0ms preprocess, 10.6ms inference, 1.0ms postprocess per image at shape (1, 3, 640, 640)\n",
      "0.0 0.67\n",
      "\n",
      "image 1/1 D:\\Code\\CBCT_Reconstruction_ICP\\data\\03\\adaptive_threshold_jpg\\03_slice_0060.jpg: 640x640 1 arch, 12.7ms\n",
      "Speed: 2.0ms preprocess, 12.7ms inference, 1.0ms postprocess per image at shape (1, 3, 640, 640)\n",
      "0.0 0.50\n",
      "\n",
      "image 1/1 D:\\Code\\CBCT_Reconstruction_ICP\\data\\03\\adaptive_threshold_jpg\\03_slice_0061.jpg: 640x640 1 arch, 11.9ms\n",
      "Speed: 3.0ms preprocess, 11.9ms inference, 2.0ms postprocess per image at shape (1, 3, 640, 640)\n",
      "0.0 0.66\n",
      "\n",
      "image 1/1 D:\\Code\\CBCT_Reconstruction_ICP\\data\\03\\adaptive_threshold_jpg\\03_slice_0062.jpg: 640x640 2 archs, 11.0ms\n",
      "Speed: 3.0ms preprocess, 11.0ms inference, 1.5ms postprocess per image at shape (1, 3, 640, 640)\n",
      "Skipped box with confidence: 0.33031952381134033 in image 03_slice_0062.jpg\n",
      "0.0 0.48\n",
      "\n",
      "image 1/1 D:\\Code\\CBCT_Reconstruction_ICP\\data\\03\\adaptive_threshold_jpg\\03_slice_0063.jpg: 640x640 2 archs, 8.6ms\n",
      "Speed: 3.0ms preprocess, 8.6ms inference, 1.9ms postprocess per image at shape (1, 3, 640, 640)\n",
      "0.0 0.44\n",
      "0.0 0.41\n",
      "\n",
      "image 1/1 D:\\Code\\CBCT_Reconstruction_ICP\\data\\03\\adaptive_threshold_jpg\\03_slice_0064.jpg: 640x640 2 archs, 10.1ms\n",
      "Speed: 2.7ms preprocess, 10.1ms inference, 1.7ms postprocess per image at shape (1, 3, 640, 640)\n",
      "Skipped box with confidence: 0.33633798360824585 in image 03_slice_0064.jpg\n",
      "0.0 0.45\n",
      "\n",
      "image 1/1 D:\\Code\\CBCT_Reconstruction_ICP\\data\\03\\adaptive_threshold_jpg\\03_slice_0065.jpg: 640x640 1 arch, 8.7ms\n",
      "Speed: 3.2ms preprocess, 8.7ms inference, 1.1ms postprocess per image at shape (1, 3, 640, 640)\n",
      "0.0 0.41\n",
      "\n",
      "image 1/1 D:\\Code\\CBCT_Reconstruction_ICP\\data\\03\\adaptive_threshold_jpg\\03_slice_0066.jpg: 640x640 2 archs, 10.0ms\n",
      "Speed: 3.0ms preprocess, 10.0ms inference, 1.0ms postprocess per image at shape (1, 3, 640, 640)\n",
      "Skipped box with confidence: 0.32174888253211975 in image 03_slice_0066.jpg\n",
      "0.0 0.55\n",
      "\n",
      "image 1/1 D:\\Code\\CBCT_Reconstruction_ICP\\data\\03\\adaptive_threshold_jpg\\03_slice_0067.jpg: 640x640 1 arch, 9.1ms\n",
      "Speed: 3.2ms preprocess, 9.1ms inference, 1.2ms postprocess per image at shape (1, 3, 640, 640)\n",
      "0.0 0.62\n",
      "\n",
      "image 1/1 D:\\Code\\CBCT_Reconstruction_ICP\\data\\03\\adaptive_threshold_jpg\\03_slice_0068.jpg: 640x640 1 arch, 11.0ms\n",
      "Speed: 2.7ms preprocess, 11.0ms inference, 1.0ms postprocess per image at shape (1, 3, 640, 640)\n",
      "0.0 0.64\n",
      "\n",
      "image 1/1 D:\\Code\\CBCT_Reconstruction_ICP\\data\\03\\adaptive_threshold_jpg\\03_slice_0069.jpg: 640x640 (no detections), 10.0ms\n",
      "Speed: 3.0ms preprocess, 10.0ms inference, 1.5ms postprocess per image at shape (1, 3, 640, 640)\n",
      "\n",
      "image 1/1 D:\\Code\\CBCT_Reconstruction_ICP\\data\\03\\adaptive_threshold_jpg\\03_slice_0070.jpg: 640x640 1 arch, 11.1ms\n",
      "Speed: 2.9ms preprocess, 11.1ms inference, 2.1ms postprocess per image at shape (1, 3, 640, 640)\n",
      "0.0 0.41\n",
      "\n",
      "image 1/1 D:\\Code\\CBCT_Reconstruction_ICP\\data\\03\\adaptive_threshold_jpg\\03_slice_0071.jpg: 640x640 2 archs, 9.9ms\n",
      "Speed: 3.0ms preprocess, 9.9ms inference, 1.1ms postprocess per image at shape (1, 3, 640, 640)\n",
      "Skipped box with confidence: 0.2873631715774536 in image 03_slice_0071.jpg\n",
      "Skipped box with confidence: 0.280734121799469 in image 03_slice_0071.jpg\n",
      "\n",
      "image 1/1 D:\\Code\\CBCT_Reconstruction_ICP\\data\\03\\adaptive_threshold_jpg\\03_slice_0072.jpg: 640x640 1 arch, 11.1ms\n",
      "Speed: 2.0ms preprocess, 11.1ms inference, 2.0ms postprocess per image at shape (1, 3, 640, 640)\n",
      "0.0 0.63\n",
      "\n",
      "image 1/1 D:\\Code\\CBCT_Reconstruction_ICP\\data\\03\\adaptive_threshold_jpg\\03_slice_0073.jpg: 640x640 1 arch, 10.7ms\n",
      "Speed: 2.7ms preprocess, 10.7ms inference, 1.9ms postprocess per image at shape (1, 3, 640, 640)\n",
      "Skipped box with confidence: 0.3232158124446869 in image 03_slice_0073.jpg\n",
      "\n",
      "image 1/1 D:\\Code\\CBCT_Reconstruction_ICP\\data\\03\\adaptive_threshold_jpg\\03_slice_0074.jpg: 640x640 (no detections), 8.5ms\n",
      "Speed: 2.5ms preprocess, 8.5ms inference, 1.4ms postprocess per image at shape (1, 3, 640, 640)\n",
      "\n",
      "image 1/1 D:\\Code\\CBCT_Reconstruction_ICP\\data\\03\\adaptive_threshold_jpg\\03_slice_0075.jpg: 640x640 1 arch, 9.8ms\n",
      "Speed: 2.0ms preprocess, 9.8ms inference, 2.0ms postprocess per image at shape (1, 3, 640, 640)\n",
      "Skipped box with confidence: 0.30144578218460083 in image 03_slice_0075.jpg\n",
      "\n",
      "image 1/1 D:\\Code\\CBCT_Reconstruction_ICP\\data\\03\\adaptive_threshold_jpg\\03_slice_0076.jpg: 640x640 1 arch, 9.4ms\n",
      "Speed: 2.0ms preprocess, 9.4ms inference, 1.2ms postprocess per image at shape (1, 3, 640, 640)\n",
      "0.0 0.57\n",
      "\n",
      "image 1/1 D:\\Code\\CBCT_Reconstruction_ICP\\data\\03\\adaptive_threshold_jpg\\03_slice_0077.jpg: 640x640 1 arch, 8.4ms\n",
      "Speed: 3.0ms preprocess, 8.4ms inference, 1.0ms postprocess per image at shape (1, 3, 640, 640)\n",
      "0.0 0.43\n",
      "\n",
      "image 1/1 D:\\Code\\CBCT_Reconstruction_ICP\\data\\03\\adaptive_threshold_jpg\\03_slice_0078.jpg: 640x640 (no detections), 9.8ms\n",
      "Speed: 3.0ms preprocess, 9.8ms inference, 1.3ms postprocess per image at shape (1, 3, 640, 640)\n",
      "\n",
      "image 1/1 D:\\Code\\CBCT_Reconstruction_ICP\\data\\03\\adaptive_threshold_jpg\\03_slice_0079.jpg: 640x640 1 arch, 10.2ms\n",
      "Speed: 2.8ms preprocess, 10.2ms inference, 1.0ms postprocess per image at shape (1, 3, 640, 640)\n",
      "Skipped box with confidence: 0.29241570830345154 in image 03_slice_0079.jpg\n",
      "\n",
      "image 1/1 D:\\Code\\CBCT_Reconstruction_ICP\\data\\03\\adaptive_threshold_jpg\\03_slice_0080.jpg: 640x640 1 arch, 9.5ms\n",
      "Speed: 2.3ms preprocess, 9.5ms inference, 1.0ms postprocess per image at shape (1, 3, 640, 640)\n",
      "0.0 0.57\n",
      "\n",
      "image 1/1 D:\\Code\\CBCT_Reconstruction_ICP\\data\\03\\adaptive_threshold_jpg\\03_slice_0081.jpg: 640x640 1 arch, 14.8ms\n",
      "Speed: 2.8ms preprocess, 14.8ms inference, 1.9ms postprocess per image at shape (1, 3, 640, 640)\n",
      "Skipped box with confidence: 0.30575835704803467 in image 03_slice_0081.jpg\n",
      "\n",
      "image 1/1 D:\\Code\\CBCT_Reconstruction_ICP\\data\\03\\adaptive_threshold_jpg\\03_slice_0082.jpg: 640x640 1 arch, 9.9ms\n",
      "Speed: 2.7ms preprocess, 9.9ms inference, 1.0ms postprocess per image at shape (1, 3, 640, 640)\n",
      "0.0 0.59\n",
      "\n",
      "image 1/1 D:\\Code\\CBCT_Reconstruction_ICP\\data\\03\\adaptive_threshold_jpg\\03_slice_0083.jpg: 640x640 2 archs, 11.5ms\n",
      "Speed: 2.9ms preprocess, 11.5ms inference, 1.0ms postprocess per image at shape (1, 3, 640, 640)\n",
      "Skipped box with confidence: 0.2529231905937195 in image 03_slice_0083.jpg\n",
      "0.0 0.61\n",
      "\n",
      "image 1/1 D:\\Code\\CBCT_Reconstruction_ICP\\data\\03\\adaptive_threshold_jpg\\03_slice_0084.jpg: 640x640 1 arch, 11.6ms\n",
      "Speed: 3.0ms preprocess, 11.6ms inference, 0.5ms postprocess per image at shape (1, 3, 640, 640)\n",
      "0.0 0.56\n",
      "\n",
      "image 1/1 D:\\Code\\CBCT_Reconstruction_ICP\\data\\03\\adaptive_threshold_jpg\\03_slice_0085.jpg: 640x640 (no detections), 10.1ms\n",
      "Speed: 4.0ms preprocess, 10.1ms inference, 2.0ms postprocess per image at shape (1, 3, 640, 640)\n",
      "\n",
      "image 1/1 D:\\Code\\CBCT_Reconstruction_ICP\\data\\03\\adaptive_threshold_jpg\\03_slice_0086.jpg: 640x640 1 arch, 10.2ms\n",
      "Speed: 3.0ms preprocess, 10.2ms inference, 1.2ms postprocess per image at shape (1, 3, 640, 640)\n",
      "0.0 0.64\n",
      "\n",
      "image 1/1 D:\\Code\\CBCT_Reconstruction_ICP\\data\\03\\adaptive_threshold_jpg\\03_slice_0087.jpg: 640x640 (no detections), 9.1ms\n",
      "Speed: 3.1ms preprocess, 9.1ms inference, 0.9ms postprocess per image at shape (1, 3, 640, 640)\n",
      "\n",
      "image 1/1 D:\\Code\\CBCT_Reconstruction_ICP\\data\\03\\adaptive_threshold_jpg\\03_slice_0088.jpg: 640x640 2 archs, 8.8ms\n",
      "Speed: 2.6ms preprocess, 8.8ms inference, 1.3ms postprocess per image at shape (1, 3, 640, 640)\n",
      "Skipped box with confidence: 0.3363361656665802 in image 03_slice_0088.jpg\n",
      "0.0 0.63\n",
      "\n",
      "image 1/1 D:\\Code\\CBCT_Reconstruction_ICP\\data\\03\\adaptive_threshold_jpg\\03_slice_0089.jpg: 640x640 1 arch, 13.1ms\n",
      "Speed: 2.5ms preprocess, 13.1ms inference, 1.0ms postprocess per image at shape (1, 3, 640, 640)\n",
      "0.0 0.65\n",
      "\n",
      "image 1/1 D:\\Code\\CBCT_Reconstruction_ICP\\data\\03\\adaptive_threshold_jpg\\03_slice_0090.jpg: 640x640 2 archs, 9.4ms\n",
      "Speed: 3.0ms preprocess, 9.4ms inference, 1.0ms postprocess per image at shape (1, 3, 640, 640)\n",
      "Skipped box with confidence: 0.28778931498527527 in image 03_slice_0090.jpg\n",
      "Skipped box with confidence: 0.2609279751777649 in image 03_slice_0090.jpg\n",
      "\n",
      "image 1/1 D:\\Code\\CBCT_Reconstruction_ICP\\data\\03\\adaptive_threshold_jpg\\03_slice_0091.jpg: 640x640 1 arch, 11.3ms\n",
      "Speed: 2.0ms preprocess, 11.3ms inference, 1.1ms postprocess per image at shape (1, 3, 640, 640)\n",
      "Skipped box with confidence: 0.32685795426368713 in image 03_slice_0091.jpg\n",
      "\n",
      "image 1/1 D:\\Code\\CBCT_Reconstruction_ICP\\data\\03\\adaptive_threshold_jpg\\03_slice_0092.jpg: 640x640 1 arch, 9.8ms\n",
      "Speed: 3.0ms preprocess, 9.8ms inference, 2.6ms postprocess per image at shape (1, 3, 640, 640)\n",
      "0.0 0.72\n",
      "\n",
      "image 1/1 D:\\Code\\CBCT_Reconstruction_ICP\\data\\03\\adaptive_threshold_jpg\\03_slice_0093.jpg: 640x640 1 arch, 11.2ms\n",
      "Speed: 2.0ms preprocess, 11.2ms inference, 2.0ms postprocess per image at shape (1, 3, 640, 640)\n",
      "0.0 0.46\n",
      "\n",
      "image 1/1 D:\\Code\\CBCT_Reconstruction_ICP\\data\\03\\adaptive_threshold_jpg\\03_slice_0094.jpg: 640x640 1 arch, 12.9ms\n",
      "Speed: 2.9ms preprocess, 12.9ms inference, 1.2ms postprocess per image at shape (1, 3, 640, 640)\n",
      "0.0 0.48\n",
      "\n",
      "image 1/1 D:\\Code\\CBCT_Reconstruction_ICP\\data\\03\\adaptive_threshold_jpg\\03_slice_0095.jpg: 640x640 2 archs, 9.1ms\n",
      "Speed: 3.8ms preprocess, 9.1ms inference, 1.5ms postprocess per image at shape (1, 3, 640, 640)\n",
      "Skipped box with confidence: 0.2963907718658447 in image 03_slice_0095.jpg\n",
      "0.0 0.43\n",
      "\n",
      "image 1/1 D:\\Code\\CBCT_Reconstruction_ICP\\data\\03\\adaptive_threshold_jpg\\03_slice_0096.jpg: 640x640 1 arch, 9.7ms\n",
      "Speed: 3.4ms preprocess, 9.7ms inference, 0.9ms postprocess per image at shape (1, 3, 640, 640)\n",
      "0.0 0.69\n",
      "\n",
      "image 1/1 D:\\Code\\CBCT_Reconstruction_ICP\\data\\03\\adaptive_threshold_jpg\\03_slice_0097.jpg: 640x640 1 arch, 9.9ms\n",
      "Speed: 3.0ms preprocess, 9.9ms inference, 1.0ms postprocess per image at shape (1, 3, 640, 640)\n",
      "0.0 0.86\n",
      "\n",
      "image 1/1 D:\\Code\\CBCT_Reconstruction_ICP\\data\\03\\adaptive_threshold_jpg\\03_slice_0098.jpg: 640x640 (no detections), 9.7ms\n",
      "Speed: 3.0ms preprocess, 9.7ms inference, 1.3ms postprocess per image at shape (1, 3, 640, 640)\n",
      "\n",
      "image 1/1 D:\\Code\\CBCT_Reconstruction_ICP\\data\\03\\adaptive_threshold_jpg\\03_slice_0099.jpg: 640x640 1 arch, 12.6ms\n",
      "Speed: 2.0ms preprocess, 12.6ms inference, 2.5ms postprocess per image at shape (1, 3, 640, 640)\n",
      "0.0 0.79\n",
      "\n",
      "image 1/1 D:\\Code\\CBCT_Reconstruction_ICP\\data\\03\\adaptive_threshold_jpg\\03_slice_0100.jpg: 640x640 1 arch, 9.5ms\n",
      "Speed: 2.4ms preprocess, 9.5ms inference, 2.1ms postprocess per image at shape (1, 3, 640, 640)\n",
      "0.0 0.61\n",
      "\n",
      "image 1/1 D:\\Code\\CBCT_Reconstruction_ICP\\data\\03\\adaptive_threshold_jpg\\03_slice_0101.jpg: 640x640 1 arch, 10.1ms\n",
      "Speed: 2.3ms preprocess, 10.1ms inference, 0.9ms postprocess per image at shape (1, 3, 640, 640)\n",
      "0.0 0.75\n",
      "\n",
      "image 1/1 D:\\Code\\CBCT_Reconstruction_ICP\\data\\03\\adaptive_threshold_jpg\\03_slice_0102.jpg: 640x640 1 arch, 16.3ms\n",
      "Speed: 3.0ms preprocess, 16.3ms inference, 1.0ms postprocess per image at shape (1, 3, 640, 640)\n",
      "0.0 0.85\n",
      "\n",
      "image 1/1 D:\\Code\\CBCT_Reconstruction_ICP\\data\\03\\adaptive_threshold_jpg\\03_slice_0103.jpg: 640x640 1 arch, 14.0ms\n",
      "Speed: 3.0ms preprocess, 14.0ms inference, 2.3ms postprocess per image at shape (1, 3, 640, 640)\n",
      "0.0 0.90\n",
      "\n",
      "image 1/1 D:\\Code\\CBCT_Reconstruction_ICP\\data\\03\\adaptive_threshold_jpg\\03_slice_0104.jpg: 640x640 1 arch, 10.8ms\n",
      "Speed: 3.0ms preprocess, 10.8ms inference, 1.1ms postprocess per image at shape (1, 3, 640, 640)\n",
      "0.0 0.91\n",
      "\n",
      "image 1/1 D:\\Code\\CBCT_Reconstruction_ICP\\data\\03\\adaptive_threshold_jpg\\03_slice_0105.jpg: 640x640 1 arch, 8.1ms\n",
      "Speed: 3.1ms preprocess, 8.1ms inference, 1.0ms postprocess per image at shape (1, 3, 640, 640)\n",
      "0.0 0.93\n",
      "\n",
      "image 1/1 D:\\Code\\CBCT_Reconstruction_ICP\\data\\03\\adaptive_threshold_jpg\\03_slice_0106.jpg: 640x640 1 arch, 10.5ms\n",
      "Speed: 3.1ms preprocess, 10.5ms inference, 1.0ms postprocess per image at shape (1, 3, 640, 640)\n",
      "0.0 0.92\n",
      "\n",
      "image 1/1 D:\\Code\\CBCT_Reconstruction_ICP\\data\\03\\adaptive_threshold_jpg\\03_slice_0107.jpg: 640x640 1 arch, 9.1ms\n",
      "Speed: 3.3ms preprocess, 9.1ms inference, 1.3ms postprocess per image at shape (1, 3, 640, 640)\n",
      "0.0 0.91\n",
      "\n",
      "image 1/1 D:\\Code\\CBCT_Reconstruction_ICP\\data\\03\\adaptive_threshold_jpg\\03_slice_0108.jpg: 640x640 1 arch, 11.3ms\n",
      "Speed: 3.0ms preprocess, 11.3ms inference, 1.5ms postprocess per image at shape (1, 3, 640, 640)\n",
      "0.0 0.91\n",
      "\n",
      "image 1/1 D:\\Code\\CBCT_Reconstruction_ICP\\data\\03\\adaptive_threshold_jpg\\03_slice_0109.jpg: 640x640 1 arch, 10.5ms\n",
      "Speed: 3.3ms preprocess, 10.5ms inference, 2.0ms postprocess per image at shape (1, 3, 640, 640)\n",
      "0.0 0.93\n",
      "\n",
      "image 1/1 D:\\Code\\CBCT_Reconstruction_ICP\\data\\03\\adaptive_threshold_jpg\\03_slice_0110.jpg: 640x640 1 arch, 14.0ms\n",
      "Speed: 3.0ms preprocess, 14.0ms inference, 1.9ms postprocess per image at shape (1, 3, 640, 640)\n",
      "0.0 0.90\n",
      "\n",
      "image 1/1 D:\\Code\\CBCT_Reconstruction_ICP\\data\\03\\adaptive_threshold_jpg\\03_slice_0111.jpg: 640x640 1 arch, 12.1ms\n",
      "Speed: 3.1ms preprocess, 12.1ms inference, 1.0ms postprocess per image at shape (1, 3, 640, 640)\n",
      "0.0 0.91\n",
      "\n",
      "image 1/1 D:\\Code\\CBCT_Reconstruction_ICP\\data\\03\\adaptive_threshold_jpg\\03_slice_0112.jpg: 640x640 1 arch, 10.7ms\n",
      "Speed: 3.0ms preprocess, 10.7ms inference, 1.0ms postprocess per image at shape (1, 3, 640, 640)\n",
      "0.0 0.92\n",
      "\n",
      "image 1/1 D:\\Code\\CBCT_Reconstruction_ICP\\data\\03\\adaptive_threshold_jpg\\03_slice_0113.jpg: 640x640 1 arch, 10.2ms\n",
      "Speed: 3.0ms preprocess, 10.2ms inference, 2.0ms postprocess per image at shape (1, 3, 640, 640)\n",
      "0.0 0.91\n",
      "\n",
      "image 1/1 D:\\Code\\CBCT_Reconstruction_ICP\\data\\03\\adaptive_threshold_jpg\\03_slice_0114.jpg: 640x640 1 arch, 9.4ms\n",
      "Speed: 3.7ms preprocess, 9.4ms inference, 1.0ms postprocess per image at shape (1, 3, 640, 640)\n",
      "0.0 0.92\n",
      "\n",
      "image 1/1 D:\\Code\\CBCT_Reconstruction_ICP\\data\\03\\adaptive_threshold_jpg\\03_slice_0115.jpg: 640x640 1 arch, 9.9ms\n",
      "Speed: 3.0ms preprocess, 9.9ms inference, 2.0ms postprocess per image at shape (1, 3, 640, 640)\n",
      "0.0 0.93\n",
      "\n",
      "image 1/1 D:\\Code\\CBCT_Reconstruction_ICP\\data\\03\\adaptive_threshold_jpg\\03_slice_0116.jpg: 640x640 1 arch, 8.6ms\n",
      "Speed: 2.0ms preprocess, 8.6ms inference, 2.0ms postprocess per image at shape (1, 3, 640, 640)\n",
      "0.0 0.93\n",
      "\n",
      "image 1/1 D:\\Code\\CBCT_Reconstruction_ICP\\data\\03\\adaptive_threshold_jpg\\03_slice_0117.jpg: 640x640 1 arch, 9.0ms\n",
      "Speed: 3.0ms preprocess, 9.0ms inference, 1.0ms postprocess per image at shape (1, 3, 640, 640)\n",
      "0.0 0.94\n",
      "\n",
      "image 1/1 D:\\Code\\CBCT_Reconstruction_ICP\\data\\03\\adaptive_threshold_jpg\\03_slice_0118.jpg: 640x640 1 arch, 9.7ms\n",
      "Speed: 3.0ms preprocess, 9.7ms inference, 1.0ms postprocess per image at shape (1, 3, 640, 640)\n",
      "0.0 0.93\n",
      "\n",
      "image 1/1 D:\\Code\\CBCT_Reconstruction_ICP\\data\\03\\adaptive_threshold_jpg\\03_slice_0119.jpg: 640x640 1 arch, 9.1ms\n",
      "Speed: 3.0ms preprocess, 9.1ms inference, 2.0ms postprocess per image at shape (1, 3, 640, 640)\n",
      "0.0 0.94\n",
      "\n",
      "image 1/1 D:\\Code\\CBCT_Reconstruction_ICP\\data\\03\\adaptive_threshold_jpg\\03_slice_0120.jpg: 640x640 1 arch, 11.1ms\n",
      "Speed: 3.0ms preprocess, 11.1ms inference, 0.8ms postprocess per image at shape (1, 3, 640, 640)\n",
      "0.0 0.94\n",
      "\n",
      "image 1/1 D:\\Code\\CBCT_Reconstruction_ICP\\data\\03\\adaptive_threshold_jpg\\03_slice_0121.jpg: 640x640 1 arch, 11.0ms\n",
      "Speed: 2.5ms preprocess, 11.0ms inference, 1.0ms postprocess per image at shape (1, 3, 640, 640)\n",
      "0.0 0.94\n",
      "\n",
      "image 1/1 D:\\Code\\CBCT_Reconstruction_ICP\\data\\03\\adaptive_threshold_jpg\\03_slice_0122.jpg: 640x640 1 arch, 9.7ms\n",
      "Speed: 3.0ms preprocess, 9.7ms inference, 1.0ms postprocess per image at shape (1, 3, 640, 640)\n",
      "0.0 0.95\n",
      "\n",
      "image 1/1 D:\\Code\\CBCT_Reconstruction_ICP\\data\\03\\adaptive_threshold_jpg\\03_slice_0123.jpg: 640x640 1 arch, 9.0ms\n",
      "Speed: 2.0ms preprocess, 9.0ms inference, 1.0ms postprocess per image at shape (1, 3, 640, 640)\n",
      "0.0 0.95\n",
      "\n",
      "image 1/1 D:\\Code\\CBCT_Reconstruction_ICP\\data\\03\\adaptive_threshold_jpg\\03_slice_0124.jpg: 640x640 1 arch, 8.9ms\n",
      "Speed: 3.0ms preprocess, 8.9ms inference, 1.6ms postprocess per image at shape (1, 3, 640, 640)\n",
      "0.0 0.94\n",
      "\n",
      "image 1/1 D:\\Code\\CBCT_Reconstruction_ICP\\data\\03\\adaptive_threshold_jpg\\03_slice_0125.jpg: 640x640 1 arch, 8.9ms\n",
      "Speed: 3.0ms preprocess, 8.9ms inference, 1.0ms postprocess per image at shape (1, 3, 640, 640)\n",
      "0.0 0.94\n",
      "\n",
      "image 1/1 D:\\Code\\CBCT_Reconstruction_ICP\\data\\03\\adaptive_threshold_jpg\\03_slice_0126.jpg: 640x640 1 arch, 10.9ms\n",
      "Speed: 3.3ms preprocess, 10.9ms inference, 1.3ms postprocess per image at shape (1, 3, 640, 640)\n",
      "0.0 0.93\n",
      "\n",
      "image 1/1 D:\\Code\\CBCT_Reconstruction_ICP\\data\\03\\adaptive_threshold_jpg\\03_slice_0127.jpg: 640x640 1 arch, 10.9ms\n",
      "Speed: 3.7ms preprocess, 10.9ms inference, 2.0ms postprocess per image at shape (1, 3, 640, 640)\n",
      "0.0 0.93\n",
      "\n",
      "image 1/1 D:\\Code\\CBCT_Reconstruction_ICP\\data\\03\\adaptive_threshold_jpg\\03_slice_0128.jpg: 640x640 1 arch, 10.8ms\n",
      "Speed: 3.1ms preprocess, 10.8ms inference, 1.0ms postprocess per image at shape (1, 3, 640, 640)\n",
      "0.0 0.93\n",
      "\n",
      "image 1/1 D:\\Code\\CBCT_Reconstruction_ICP\\data\\03\\adaptive_threshold_jpg\\03_slice_0129.jpg: 640x640 1 arch, 20.7ms\n",
      "Speed: 3.0ms preprocess, 20.7ms inference, 3.0ms postprocess per image at shape (1, 3, 640, 640)\n",
      "0.0 0.92\n",
      "\n",
      "image 1/1 D:\\Code\\CBCT_Reconstruction_ICP\\data\\03\\adaptive_threshold_jpg\\03_slice_0130.jpg: 640x640 1 arch, 12.6ms\n",
      "Speed: 3.5ms preprocess, 12.6ms inference, 1.0ms postprocess per image at shape (1, 3, 640, 640)\n",
      "0.0 0.85\n",
      "\n",
      "image 1/1 D:\\Code\\CBCT_Reconstruction_ICP\\data\\03\\adaptive_threshold_jpg\\03_slice_0131.jpg: 640x640 1 arch, 9.0ms\n",
      "Speed: 4.0ms preprocess, 9.0ms inference, 1.2ms postprocess per image at shape (1, 3, 640, 640)\n",
      "0.0 0.91\n",
      "\n",
      "image 1/1 D:\\Code\\CBCT_Reconstruction_ICP\\data\\03\\adaptive_threshold_jpg\\03_slice_0132.jpg: 640x640 2 archs, 21.5ms\n",
      "Speed: 3.7ms preprocess, 21.5ms inference, 2.0ms postprocess per image at shape (1, 3, 640, 640)\n",
      "Skipped box with confidence: 0.2567299008369446 in image 03_slice_0132.jpg\n",
      "0.0 0.57\n",
      "\n",
      "image 1/1 D:\\Code\\CBCT_Reconstruction_ICP\\data\\03\\adaptive_threshold_jpg\\03_slice_0133.jpg: 640x640 1 arch, 10.8ms\n",
      "Speed: 3.0ms preprocess, 10.8ms inference, 2.0ms postprocess per image at shape (1, 3, 640, 640)\n",
      "0.0 0.88\n",
      "\n",
      "image 1/1 D:\\Code\\CBCT_Reconstruction_ICP\\data\\03\\adaptive_threshold_jpg\\03_slice_0134.jpg: 640x640 1 arch, 8.9ms\n",
      "Speed: 3.0ms preprocess, 8.9ms inference, 1.5ms postprocess per image at shape (1, 3, 640, 640)\n",
      "0.0 0.56\n",
      "\n",
      "image 1/1 D:\\Code\\CBCT_Reconstruction_ICP\\data\\03\\adaptive_threshold_jpg\\03_slice_0135.jpg: 640x640 1 arch, 10.0ms\n",
      "Speed: 2.0ms preprocess, 10.0ms inference, 1.6ms postprocess per image at shape (1, 3, 640, 640)\n",
      "0.0 0.65\n",
      "\n",
      "image 1/1 D:\\Code\\CBCT_Reconstruction_ICP\\data\\03\\adaptive_threshold_jpg\\03_slice_0136.jpg: 640x640 1 arch, 10.0ms\n",
      "Speed: 3.0ms preprocess, 10.0ms inference, 2.5ms postprocess per image at shape (1, 3, 640, 640)\n",
      "0.0 0.49\n",
      "\n",
      "image 1/1 D:\\Code\\CBCT_Reconstruction_ICP\\data\\03\\adaptive_threshold_jpg\\03_slice_0137.jpg: 640x640 1 arch, 10.9ms\n",
      "Speed: 3.0ms preprocess, 10.9ms inference, 1.0ms postprocess per image at shape (1, 3, 640, 640)\n",
      "0.0 0.84\n",
      "\n",
      "image 1/1 D:\\Code\\CBCT_Reconstruction_ICP\\data\\03\\adaptive_threshold_jpg\\03_slice_0138.jpg: 640x640 1 arch, 12.4ms\n",
      "Speed: 3.0ms preprocess, 12.4ms inference, 1.0ms postprocess per image at shape (1, 3, 640, 640)\n",
      "0.0 0.73\n",
      "\n",
      "image 1/1 D:\\Code\\CBCT_Reconstruction_ICP\\data\\03\\adaptive_threshold_jpg\\03_slice_0139.jpg: 640x640 1 arch, 12.6ms\n",
      "Speed: 3.1ms preprocess, 12.6ms inference, 2.0ms postprocess per image at shape (1, 3, 640, 640)\n",
      "0.0 0.65\n",
      "\n",
      "image 1/1 D:\\Code\\CBCT_Reconstruction_ICP\\data\\03\\adaptive_threshold_jpg\\03_slice_0140.jpg: 640x640 1 arch, 12.4ms\n",
      "Speed: 4.0ms preprocess, 12.4ms inference, 1.5ms postprocess per image at shape (1, 3, 640, 640)\n",
      "0.0 0.86\n",
      "\n",
      "image 1/1 D:\\Code\\CBCT_Reconstruction_ICP\\data\\03\\adaptive_threshold_jpg\\03_slice_0141.jpg: 640x640 1 arch, 11.1ms\n",
      "Speed: 3.0ms preprocess, 11.1ms inference, 1.0ms postprocess per image at shape (1, 3, 640, 640)\n",
      "0.0 0.84\n",
      "\n",
      "image 1/1 D:\\Code\\CBCT_Reconstruction_ICP\\data\\03\\adaptive_threshold_jpg\\03_slice_0142.jpg: 640x640 1 arch, 8.5ms\n",
      "Speed: 3.0ms preprocess, 8.5ms inference, 0.0ms postprocess per image at shape (1, 3, 640, 640)\n",
      "0.0 0.58\n",
      "\n",
      "image 1/1 D:\\Code\\CBCT_Reconstruction_ICP\\data\\03\\adaptive_threshold_jpg\\03_slice_0143.jpg: 640x640 2 archs, 11.1ms\n",
      "Speed: 2.0ms preprocess, 11.1ms inference, 1.0ms postprocess per image at shape (1, 3, 640, 640)\n",
      "Skipped box with confidence: 0.38840439915657043 in image 03_slice_0143.jpg\n",
      "0.0 0.53\n",
      "\n",
      "image 1/1 D:\\Code\\CBCT_Reconstruction_ICP\\data\\03\\adaptive_threshold_jpg\\03_slice_0144.jpg: 640x640 1 arch, 10.7ms\n",
      "Speed: 3.0ms preprocess, 10.7ms inference, 2.1ms postprocess per image at shape (1, 3, 640, 640)\n",
      "0.0 0.81\n",
      "\n",
      "image 1/1 D:\\Code\\CBCT_Reconstruction_ICP\\data\\03\\adaptive_threshold_jpg\\03_slice_0145.jpg: 640x640 2 archs, 14.2ms\n",
      "Speed: 3.0ms preprocess, 14.2ms inference, 1.0ms postprocess per image at shape (1, 3, 640, 640)\n",
      "0.0 0.61\n",
      "0.0 0.45\n",
      "\n",
      "image 1/1 D:\\Code\\CBCT_Reconstruction_ICP\\data\\03\\adaptive_threshold_jpg\\03_slice_0146.jpg: 640x640 1 arch, 11.0ms\n",
      "Speed: 3.4ms preprocess, 11.0ms inference, 1.0ms postprocess per image at shape (1, 3, 640, 640)\n",
      "0.0 0.93\n",
      "\n",
      "image 1/1 D:\\Code\\CBCT_Reconstruction_ICP\\data\\03\\adaptive_threshold_jpg\\03_slice_0147.jpg: 640x640 1 arch, 9.2ms\n",
      "Speed: 3.0ms preprocess, 9.2ms inference, 1.0ms postprocess per image at shape (1, 3, 640, 640)\n",
      "0.0 0.75\n",
      "\n",
      "image 1/1 D:\\Code\\CBCT_Reconstruction_ICP\\data\\03\\adaptive_threshold_jpg\\03_slice_0148.jpg: 640x640 2 archs, 12.5ms\n",
      "Speed: 3.3ms preprocess, 12.5ms inference, 2.5ms postprocess per image at shape (1, 3, 640, 640)\n",
      "0.0 0.56\n",
      "0.0 0.41\n",
      "\n",
      "image 1/1 D:\\Code\\CBCT_Reconstruction_ICP\\data\\03\\adaptive_threshold_jpg\\03_slice_0149.jpg: 640x640 2 archs, 10.0ms\n",
      "Speed: 3.0ms preprocess, 10.0ms inference, 1.1ms postprocess per image at shape (1, 3, 640, 640)\n",
      "Skipped box with confidence: 0.2734193801879883 in image 03_slice_0149.jpg\n",
      "0.0 0.67\n",
      "\n",
      "image 1/1 D:\\Code\\CBCT_Reconstruction_ICP\\data\\03\\adaptive_threshold_jpg\\03_slice_0150.jpg: 640x640 2 archs, 9.4ms\n",
      "Speed: 2.0ms preprocess, 9.4ms inference, 1.0ms postprocess per image at shape (1, 3, 640, 640)\n",
      "0.0 0.54\n",
      "0.0 0.48\n",
      "\n",
      "image 1/1 D:\\Code\\CBCT_Reconstruction_ICP\\data\\03\\adaptive_threshold_jpg\\03_slice_0151.jpg: 640x640 1 arch, 11.0ms\n",
      "Speed: 2.0ms preprocess, 11.0ms inference, 1.0ms postprocess per image at shape (1, 3, 640, 640)\n",
      "0.0 0.90\n",
      "\n",
      "image 1/1 D:\\Code\\CBCT_Reconstruction_ICP\\data\\03\\adaptive_threshold_jpg\\03_slice_0152.jpg: 640x640 1 arch, 9.9ms\n",
      "Speed: 3.0ms preprocess, 9.9ms inference, 1.0ms postprocess per image at shape (1, 3, 640, 640)\n",
      "0.0 0.83\n",
      "\n",
      "image 1/1 D:\\Code\\CBCT_Reconstruction_ICP\\data\\03\\adaptive_threshold_jpg\\03_slice_0153.jpg: 640x640 1 arch, 11.3ms\n",
      "Speed: 3.1ms preprocess, 11.3ms inference, 1.1ms postprocess per image at shape (1, 3, 640, 640)\n",
      "0.0 0.68\n",
      "\n",
      "image 1/1 D:\\Code\\CBCT_Reconstruction_ICP\\data\\03\\adaptive_threshold_jpg\\03_slice_0154.jpg: 640x640 1 arch, 9.8ms\n",
      "Speed: 2.6ms preprocess, 9.8ms inference, 3.1ms postprocess per image at shape (1, 3, 640, 640)\n",
      "0.0 0.64\n",
      "\n",
      "image 1/1 D:\\Code\\CBCT_Reconstruction_ICP\\data\\03\\adaptive_threshold_jpg\\03_slice_0155.jpg: 640x640 1 arch, 10.2ms\n",
      "Speed: 2.0ms preprocess, 10.2ms inference, 2.0ms postprocess per image at shape (1, 3, 640, 640)\n",
      "0.0 0.63\n",
      "\n",
      "image 1/1 D:\\Code\\CBCT_Reconstruction_ICP\\data\\03\\adaptive_threshold_jpg\\03_slice_0156.jpg: 640x640 2 archs, 10.0ms\n",
      "Speed: 2.6ms preprocess, 10.0ms inference, 0.9ms postprocess per image at shape (1, 3, 640, 640)\n",
      "Skipped box with confidence: 0.3121786117553711 in image 03_slice_0156.jpg\n",
      "0.0 0.60\n",
      "\n",
      "image 1/1 D:\\Code\\CBCT_Reconstruction_ICP\\data\\03\\adaptive_threshold_jpg\\03_slice_0157.jpg: 640x640 2 archs, 10.2ms\n",
      "Speed: 3.0ms preprocess, 10.2ms inference, 2.0ms postprocess per image at shape (1, 3, 640, 640)\n",
      "Skipped box with confidence: 0.37617331743240356 in image 03_slice_0157.jpg\n",
      "0.0 0.46\n",
      "\n",
      "image 1/1 D:\\Code\\CBCT_Reconstruction_ICP\\data\\03\\adaptive_threshold_jpg\\03_slice_0158.jpg: 640x640 1 arch, 10.6ms\n",
      "Speed: 1.9ms preprocess, 10.6ms inference, 1.0ms postprocess per image at shape (1, 3, 640, 640)\n",
      "0.0 0.84\n",
      "\n",
      "image 1/1 D:\\Code\\CBCT_Reconstruction_ICP\\data\\03\\adaptive_threshold_jpg\\03_slice_0159.jpg: 640x640 2 archs, 10.8ms\n",
      "Speed: 2.0ms preprocess, 10.8ms inference, 1.1ms postprocess per image at shape (1, 3, 640, 640)\n",
      "0.0 0.47\n",
      "0.0 0.42\n",
      "\n",
      "image 1/1 D:\\Code\\CBCT_Reconstruction_ICP\\data\\03\\adaptive_threshold_jpg\\03_slice_0160.jpg: 640x640 2 archs, 7.7ms\n",
      "Speed: 3.0ms preprocess, 7.7ms inference, 1.3ms postprocess per image at shape (1, 3, 640, 640)\n",
      "Skipped box with confidence: 0.3802472949028015 in image 03_slice_0160.jpg\n",
      "0.0 0.63\n",
      "\n",
      "image 1/1 D:\\Code\\CBCT_Reconstruction_ICP\\data\\03\\adaptive_threshold_jpg\\03_slice_0161.jpg: 640x640 1 arch, 10.7ms\n",
      "Speed: 2.6ms preprocess, 10.7ms inference, 2.2ms postprocess per image at shape (1, 3, 640, 640)\n",
      "0.0 0.70\n",
      "\n",
      "image 1/1 D:\\Code\\CBCT_Reconstruction_ICP\\data\\03\\adaptive_threshold_jpg\\03_slice_0162.jpg: 640x640 1 arch, 9.7ms\n",
      "Speed: 3.0ms preprocess, 9.7ms inference, 3.3ms postprocess per image at shape (1, 3, 640, 640)\n",
      "0.0 0.86\n",
      "\n",
      "image 1/1 D:\\Code\\CBCT_Reconstruction_ICP\\data\\03\\adaptive_threshold_jpg\\03_slice_0163.jpg: 640x640 1 arch, 13.5ms\n",
      "Speed: 3.9ms preprocess, 13.5ms inference, 2.9ms postprocess per image at shape (1, 3, 640, 640)\n",
      "0.0 0.81\n",
      "\n",
      "image 1/1 D:\\Code\\CBCT_Reconstruction_ICP\\data\\03\\adaptive_threshold_jpg\\03_slice_0164.jpg: 640x640 2 archs, 14.0ms\n",
      "Speed: 2.7ms preprocess, 14.0ms inference, 1.1ms postprocess per image at shape (1, 3, 640, 640)\n",
      "0.0 0.65\n",
      "0.0 0.42\n",
      "\n",
      "image 1/1 D:\\Code\\CBCT_Reconstruction_ICP\\data\\03\\adaptive_threshold_jpg\\03_slice_0165.jpg: 640x640 1 arch, 12.8ms\n",
      "Speed: 3.5ms preprocess, 12.8ms inference, 1.0ms postprocess per image at shape (1, 3, 640, 640)\n",
      "0.0 0.83\n",
      "\n",
      "image 1/1 D:\\Code\\CBCT_Reconstruction_ICP\\data\\03\\adaptive_threshold_jpg\\03_slice_0166.jpg: 640x640 1 arch, 10.2ms\n",
      "Speed: 3.0ms preprocess, 10.2ms inference, 1.0ms postprocess per image at shape (1, 3, 640, 640)\n",
      "0.0 0.74\n",
      "\n",
      "image 1/1 D:\\Code\\CBCT_Reconstruction_ICP\\data\\03\\adaptive_threshold_jpg\\03_slice_0167.jpg: 640x640 2 archs, 10.2ms\n",
      "Speed: 3.0ms preprocess, 10.2ms inference, 2.0ms postprocess per image at shape (1, 3, 640, 640)\n",
      "Skipped box with confidence: 0.398093581199646 in image 03_slice_0167.jpg\n",
      "Skipped box with confidence: 0.3567713499069214 in image 03_slice_0167.jpg\n",
      "\n",
      "image 1/1 D:\\Code\\CBCT_Reconstruction_ICP\\data\\03\\adaptive_threshold_jpg\\03_slice_0168.jpg: 640x640 1 arch, 11.3ms\n",
      "Speed: 3.0ms preprocess, 11.3ms inference, 1.0ms postprocess per image at shape (1, 3, 640, 640)\n",
      "0.0 0.81\n",
      "\n",
      "image 1/1 D:\\Code\\CBCT_Reconstruction_ICP\\data\\03\\adaptive_threshold_jpg\\03_slice_0169.jpg: 640x640 1 arch, 11.7ms\n",
      "Speed: 3.4ms preprocess, 11.7ms inference, 1.0ms postprocess per image at shape (1, 3, 640, 640)\n",
      "0.0 0.75\n",
      "\n",
      "image 1/1 D:\\Code\\CBCT_Reconstruction_ICP\\data\\03\\adaptive_threshold_jpg\\03_slice_0170.jpg: 640x640 2 archs, 12.6ms\n",
      "Speed: 2.0ms preprocess, 12.6ms inference, 3.2ms postprocess per image at shape (1, 3, 640, 640)\n",
      "Skipped box with confidence: 0.3455849885940552 in image 03_slice_0170.jpg\n",
      "0.0 0.41\n",
      "\n",
      "image 1/1 D:\\Code\\CBCT_Reconstruction_ICP\\data\\03\\adaptive_threshold_jpg\\03_slice_0171.jpg: 640x640 (no detections), 9.8ms\n",
      "Speed: 3.4ms preprocess, 9.8ms inference, 0.9ms postprocess per image at shape (1, 3, 640, 640)\n",
      "\n",
      "image 1/1 D:\\Code\\CBCT_Reconstruction_ICP\\data\\03\\adaptive_threshold_jpg\\03_slice_0172.jpg: 640x640 1 arch, 9.8ms\n",
      "Speed: 2.7ms preprocess, 9.8ms inference, 2.0ms postprocess per image at shape (1, 3, 640, 640)\n",
      "0.0 0.59\n",
      "\n",
      "image 1/1 D:\\Code\\CBCT_Reconstruction_ICP\\data\\03\\adaptive_threshold_jpg\\03_slice_0173.jpg: 640x640 2 archs, 9.0ms\n",
      "Speed: 3.0ms preprocess, 9.0ms inference, 1.5ms postprocess per image at shape (1, 3, 640, 640)\n",
      "Skipped box with confidence: 0.3588632643222809 in image 03_slice_0173.jpg\n",
      "0.0 0.53\n",
      "\n",
      "image 1/1 D:\\Code\\CBCT_Reconstruction_ICP\\data\\03\\adaptive_threshold_jpg\\03_slice_0174.jpg: 640x640 1 arch, 8.6ms\n",
      "Speed: 1.9ms preprocess, 8.6ms inference, 0.0ms postprocess per image at shape (1, 3, 640, 640)\n",
      "0.0 0.52\n",
      "\n",
      "image 1/1 D:\\Code\\CBCT_Reconstruction_ICP\\data\\03\\adaptive_threshold_jpg\\03_slice_0175.jpg: 640x640 1 arch, 9.0ms\n",
      "Speed: 3.0ms preprocess, 9.0ms inference, 1.0ms postprocess per image at shape (1, 3, 640, 640)\n",
      "0.0 0.71\n",
      "\n",
      "image 1/1 D:\\Code\\CBCT_Reconstruction_ICP\\data\\03\\adaptive_threshold_jpg\\03_slice_0176.jpg: 640x640 2 archs, 14.4ms\n",
      "Speed: 3.1ms preprocess, 14.4ms inference, 1.0ms postprocess per image at shape (1, 3, 640, 640)\n",
      "Skipped box with confidence: 0.331888347864151 in image 03_slice_0176.jpg\n",
      "0.0 0.57\n",
      "\n",
      "image 1/1 D:\\Code\\CBCT_Reconstruction_ICP\\data\\03\\adaptive_threshold_jpg\\03_slice_0177.jpg: 640x640 1 arch, 10.6ms\n",
      "Speed: 3.0ms preprocess, 10.6ms inference, 1.0ms postprocess per image at shape (1, 3, 640, 640)\n",
      "Skipped box with confidence: 0.31347283720970154 in image 03_slice_0177.jpg\n",
      "\n",
      "image 1/1 D:\\Code\\CBCT_Reconstruction_ICP\\data\\03\\adaptive_threshold_jpg\\03_slice_0178.jpg: 640x640 2 archs, 8.8ms\n",
      "Speed: 2.3ms preprocess, 8.8ms inference, 1.0ms postprocess per image at shape (1, 3, 640, 640)\n",
      "Skipped box with confidence: 0.39042240381240845 in image 03_slice_0178.jpg\n",
      "Skipped box with confidence: 0.34551501274108887 in image 03_slice_0178.jpg\n",
      "\n",
      "image 1/1 D:\\Code\\CBCT_Reconstruction_ICP\\data\\03\\adaptive_threshold_jpg\\03_slice_0179.jpg: 640x640 1 arch, 16.2ms\n",
      "Speed: 5.1ms preprocess, 16.2ms inference, 1.0ms postprocess per image at shape (1, 3, 640, 640)\n",
      "0.0 0.61\n",
      "\n",
      "image 1/1 D:\\Code\\CBCT_Reconstruction_ICP\\data\\03\\adaptive_threshold_jpg\\03_slice_0180.jpg: 640x640 1 arch, 10.1ms\n",
      "Speed: 2.0ms preprocess, 10.1ms inference, 0.5ms postprocess per image at shape (1, 3, 640, 640)\n",
      "0.0 0.62\n",
      "\n",
      "image 1/1 D:\\Code\\CBCT_Reconstruction_ICP\\data\\03\\adaptive_threshold_jpg\\03_slice_0181.jpg: 640x640 1 arch, 11.1ms\n",
      "Speed: 2.0ms preprocess, 11.1ms inference, 1.0ms postprocess per image at shape (1, 3, 640, 640)\n",
      "Skipped box with confidence: 0.25572317838668823 in image 03_slice_0181.jpg\n",
      "\n",
      "image 1/1 D:\\Code\\CBCT_Reconstruction_ICP\\data\\03\\adaptive_threshold_jpg\\03_slice_0182.jpg: 640x640 (no detections), 10.4ms\n",
      "Speed: 3.0ms preprocess, 10.4ms inference, 1.1ms postprocess per image at shape (1, 3, 640, 640)\n",
      "\n",
      "image 1/1 D:\\Code\\CBCT_Reconstruction_ICP\\data\\03\\adaptive_threshold_jpg\\03_slice_0183.jpg: 640x640 1 arch, 13.7ms\n",
      "Speed: 4.2ms preprocess, 13.7ms inference, 3.4ms postprocess per image at shape (1, 3, 640, 640)\n",
      "Skipped box with confidence: 0.27822765707969666 in image 03_slice_0183.jpg\n",
      "\n",
      "image 1/1 D:\\Code\\CBCT_Reconstruction_ICP\\data\\03\\adaptive_threshold_jpg\\03_slice_0184.jpg: 640x640 1 arch, 12.1ms\n",
      "Speed: 2.0ms preprocess, 12.1ms inference, 2.0ms postprocess per image at shape (1, 3, 640, 640)\n",
      "Skipped box with confidence: 0.38107240200042725 in image 03_slice_0184.jpg\n",
      "\n",
      "image 1/1 D:\\Code\\CBCT_Reconstruction_ICP\\data\\03\\adaptive_threshold_jpg\\03_slice_0185.jpg: 640x640 (no detections), 12.2ms\n",
      "Speed: 2.4ms preprocess, 12.2ms inference, 0.0ms postprocess per image at shape (1, 3, 640, 640)\n",
      "\n",
      "image 1/1 D:\\Code\\CBCT_Reconstruction_ICP\\data\\03\\adaptive_threshold_jpg\\03_slice_0186.jpg: 640x640 (no detections), 10.9ms\n",
      "Speed: 2.7ms preprocess, 10.9ms inference, 1.0ms postprocess per image at shape (1, 3, 640, 640)\n",
      "\n",
      "image 1/1 D:\\Code\\CBCT_Reconstruction_ICP\\data\\03\\adaptive_threshold_jpg\\03_slice_0187.jpg: 640x640 1 arch, 10.1ms\n",
      "Speed: 3.5ms preprocess, 10.1ms inference, 1.0ms postprocess per image at shape (1, 3, 640, 640)\n",
      "0.0 0.43\n",
      "\n",
      "image 1/1 D:\\Code\\CBCT_Reconstruction_ICP\\data\\03\\adaptive_threshold_jpg\\03_slice_0188.jpg: 640x640 (no detections), 13.3ms\n",
      "Speed: 3.0ms preprocess, 13.3ms inference, 0.0ms postprocess per image at shape (1, 3, 640, 640)\n",
      "\n",
      "image 1/1 D:\\Code\\CBCT_Reconstruction_ICP\\data\\03\\adaptive_threshold_jpg\\03_slice_0189.jpg: 640x640 (no detections), 10.4ms\n",
      "Speed: 3.1ms preprocess, 10.4ms inference, 1.6ms postprocess per image at shape (1, 3, 640, 640)\n",
      "\n",
      "image 1/1 D:\\Code\\CBCT_Reconstruction_ICP\\data\\03\\adaptive_threshold_jpg\\03_slice_0190.jpg: 640x640 (no detections), 9.9ms\n",
      "Speed: 4.1ms preprocess, 9.9ms inference, 1.0ms postprocess per image at shape (1, 3, 640, 640)\n",
      "\n",
      "image 1/1 D:\\Code\\CBCT_Reconstruction_ICP\\data\\03\\adaptive_threshold_jpg\\03_slice_0191.jpg: 640x640 (no detections), 11.0ms\n",
      "Speed: 3.0ms preprocess, 11.0ms inference, 1.0ms postprocess per image at shape (1, 3, 640, 640)\n",
      "\n",
      "image 1/1 D:\\Code\\CBCT_Reconstruction_ICP\\data\\03\\adaptive_threshold_jpg\\03_slice_0192.jpg: 640x640 (no detections), 9.0ms\n",
      "Speed: 3.5ms preprocess, 9.0ms inference, 1.0ms postprocess per image at shape (1, 3, 640, 640)\n",
      "\n",
      "image 1/1 D:\\Code\\CBCT_Reconstruction_ICP\\data\\03\\adaptive_threshold_jpg\\03_slice_0193.jpg: 640x640 (no detections), 14.4ms\n",
      "Speed: 3.0ms preprocess, 14.4ms inference, 1.9ms postprocess per image at shape (1, 3, 640, 640)\n",
      "\n",
      "image 1/1 D:\\Code\\CBCT_Reconstruction_ICP\\data\\03\\adaptive_threshold_jpg\\03_slice_0194.jpg: 640x640 (no detections), 10.0ms\n",
      "Speed: 3.7ms preprocess, 10.0ms inference, 2.2ms postprocess per image at shape (1, 3, 640, 640)\n",
      "\n",
      "image 1/1 D:\\Code\\CBCT_Reconstruction_ICP\\data\\03\\adaptive_threshold_jpg\\03_slice_0195.jpg: 640x640 (no detections), 11.4ms\n",
      "Speed: 2.5ms preprocess, 11.4ms inference, 1.2ms postprocess per image at shape (1, 3, 640, 640)\n",
      "\n",
      "image 1/1 D:\\Code\\CBCT_Reconstruction_ICP\\data\\03\\adaptive_threshold_jpg\\03_slice_0196.jpg: 640x640 (no detections), 9.6ms\n",
      "Speed: 3.0ms preprocess, 9.6ms inference, 0.0ms postprocess per image at shape (1, 3, 640, 640)\n",
      "\n",
      "image 1/1 D:\\Code\\CBCT_Reconstruction_ICP\\data\\03\\adaptive_threshold_jpg\\03_slice_0197.jpg: 640x640 (no detections), 17.0ms\n",
      "Speed: 3.6ms preprocess, 17.0ms inference, 1.0ms postprocess per image at shape (1, 3, 640, 640)\n",
      "\n",
      "image 1/1 D:\\Code\\CBCT_Reconstruction_ICP\\data\\03\\adaptive_threshold_jpg\\03_slice_0198.jpg: 640x640 (no detections), 9.3ms\n",
      "Speed: 3.0ms preprocess, 9.3ms inference, 1.0ms postprocess per image at shape (1, 3, 640, 640)\n",
      "\n",
      "image 1/1 D:\\Code\\CBCT_Reconstruction_ICP\\data\\03\\adaptive_threshold_jpg\\03_slice_0199.jpg: 640x640 (no detections), 9.7ms\n",
      "Speed: 3.2ms preprocess, 9.7ms inference, 1.0ms postprocess per image at shape (1, 3, 640, 640)\n",
      "\n",
      "image 1/1 D:\\Code\\CBCT_Reconstruction_ICP\\data\\03\\adaptive_threshold_jpg\\03_slice_0200.jpg: 640x640 (no detections), 9.9ms\n",
      "Speed: 3.0ms preprocess, 9.9ms inference, 1.4ms postprocess per image at shape (1, 3, 640, 640)\n",
      "\n",
      "image 1/1 D:\\Code\\CBCT_Reconstruction_ICP\\data\\03\\adaptive_threshold_jpg\\03_slice_0201.jpg: 640x640 (no detections), 10.2ms\n",
      "Speed: 3.0ms preprocess, 10.2ms inference, 1.0ms postprocess per image at shape (1, 3, 640, 640)\n",
      "\n",
      "image 1/1 D:\\Code\\CBCT_Reconstruction_ICP\\data\\03\\adaptive_threshold_jpg\\03_slice_0202.jpg: 640x640 (no detections), 9.3ms\n",
      "Speed: 3.2ms preprocess, 9.3ms inference, 1.0ms postprocess per image at shape (1, 3, 640, 640)\n",
      "\n",
      "image 1/1 D:\\Code\\CBCT_Reconstruction_ICP\\data\\03\\adaptive_threshold_jpg\\03_slice_0203.jpg: 640x640 (no detections), 9.0ms\n",
      "Speed: 3.0ms preprocess, 9.0ms inference, 2.4ms postprocess per image at shape (1, 3, 640, 640)\n",
      "\n",
      "image 1/1 D:\\Code\\CBCT_Reconstruction_ICP\\data\\03\\adaptive_threshold_jpg\\03_slice_0204.jpg: 640x640 (no detections), 12.9ms\n",
      "Speed: 3.0ms preprocess, 12.9ms inference, 1.2ms postprocess per image at shape (1, 3, 640, 640)\n",
      "\n",
      "image 1/1 D:\\Code\\CBCT_Reconstruction_ICP\\data\\03\\adaptive_threshold_jpg\\03_slice_0205.jpg: 640x640 (no detections), 9.0ms\n",
      "Speed: 3.1ms preprocess, 9.0ms inference, 1.6ms postprocess per image at shape (1, 3, 640, 640)\n",
      "\n",
      "image 1/1 D:\\Code\\CBCT_Reconstruction_ICP\\data\\03\\adaptive_threshold_jpg\\03_slice_0206.jpg: 640x640 (no detections), 11.9ms\n",
      "Speed: 3.0ms preprocess, 11.9ms inference, 1.7ms postprocess per image at shape (1, 3, 640, 640)\n",
      "\n",
      "image 1/1 D:\\Code\\CBCT_Reconstruction_ICP\\data\\03\\adaptive_threshold_jpg\\03_slice_0207.jpg: 640x640 (no detections), 10.1ms\n",
      "Speed: 1.8ms preprocess, 10.1ms inference, 1.0ms postprocess per image at shape (1, 3, 640, 640)\n",
      "\n",
      "image 1/1 D:\\Code\\CBCT_Reconstruction_ICP\\data\\03\\adaptive_threshold_jpg\\03_slice_0208.jpg: 640x640 (no detections), 10.6ms\n",
      "Speed: 2.7ms preprocess, 10.6ms inference, 1.4ms postprocess per image at shape (1, 3, 640, 640)\n",
      "\n",
      "image 1/1 D:\\Code\\CBCT_Reconstruction_ICP\\data\\03\\adaptive_threshold_jpg\\03_slice_0209.jpg: 640x640 (no detections), 11.2ms\n",
      "Speed: 3.0ms preprocess, 11.2ms inference, 1.0ms postprocess per image at shape (1, 3, 640, 640)\n",
      "\n",
      "image 1/1 D:\\Code\\CBCT_Reconstruction_ICP\\data\\03\\adaptive_threshold_jpg\\03_slice_0210.jpg: 640x640 (no detections), 8.2ms\n",
      "Speed: 2.4ms preprocess, 8.2ms inference, 1.0ms postprocess per image at shape (1, 3, 640, 640)\n",
      "\n",
      "image 1/1 D:\\Code\\CBCT_Reconstruction_ICP\\data\\03\\adaptive_threshold_jpg\\03_slice_0211.jpg: 640x640 (no detections), 9.6ms\n",
      "Speed: 3.3ms preprocess, 9.6ms inference, 1.3ms postprocess per image at shape (1, 3, 640, 640)\n",
      "\n",
      "image 1/1 D:\\Code\\CBCT_Reconstruction_ICP\\data\\03\\adaptive_threshold_jpg\\03_slice_0212.jpg: 640x640 (no detections), 12.3ms\n",
      "Speed: 3.0ms preprocess, 12.3ms inference, 2.5ms postprocess per image at shape (1, 3, 640, 640)\n",
      "\n",
      "image 1/1 D:\\Code\\CBCT_Reconstruction_ICP\\data\\03\\adaptive_threshold_jpg\\03_slice_0213.jpg: 640x640 (no detections), 11.6ms\n",
      "Speed: 3.5ms preprocess, 11.6ms inference, 1.0ms postprocess per image at shape (1, 3, 640, 640)\n",
      "\n",
      "image 1/1 D:\\Code\\CBCT_Reconstruction_ICP\\data\\03\\adaptive_threshold_jpg\\03_slice_0214.jpg: 640x640 (no detections), 8.6ms\n",
      "Speed: 3.0ms preprocess, 8.6ms inference, 1.0ms postprocess per image at shape (1, 3, 640, 640)\n",
      "\n",
      "image 1/1 D:\\Code\\CBCT_Reconstruction_ICP\\data\\03\\adaptive_threshold_jpg\\03_slice_0215.jpg: 640x640 (no detections), 10.0ms\n",
      "Speed: 3.1ms preprocess, 10.0ms inference, 1.0ms postprocess per image at shape (1, 3, 640, 640)\n",
      "\n",
      "image 1/1 D:\\Code\\CBCT_Reconstruction_ICP\\data\\03\\adaptive_threshold_jpg\\03_slice_0216.jpg: 640x640 (no detections), 8.1ms\n",
      "Speed: 2.9ms preprocess, 8.1ms inference, 1.0ms postprocess per image at shape (1, 3, 640, 640)\n",
      "\n",
      "image 1/1 D:\\Code\\CBCT_Reconstruction_ICP\\data\\03\\adaptive_threshold_jpg\\03_slice_0217.jpg: 640x640 (no detections), 9.1ms\n",
      "Speed: 3.0ms preprocess, 9.1ms inference, 1.0ms postprocess per image at shape (1, 3, 640, 640)\n",
      "\n",
      "image 1/1 D:\\Code\\CBCT_Reconstruction_ICP\\data\\03\\adaptive_threshold_jpg\\03_slice_0218.jpg: 640x640 (no detections), 11.6ms\n",
      "Speed: 1.9ms preprocess, 11.6ms inference, 1.0ms postprocess per image at shape (1, 3, 640, 640)\n",
      "\n",
      "image 1/1 D:\\Code\\CBCT_Reconstruction_ICP\\data\\03\\adaptive_threshold_jpg\\03_slice_0219.jpg: 640x640 (no detections), 8.0ms\n",
      "Speed: 3.0ms preprocess, 8.0ms inference, 1.0ms postprocess per image at shape (1, 3, 640, 640)\n",
      "\n",
      "image 1/1 D:\\Code\\CBCT_Reconstruction_ICP\\data\\03\\adaptive_threshold_jpg\\03_slice_0220.jpg: 640x640 (no detections), 10.6ms\n",
      "Speed: 4.1ms preprocess, 10.6ms inference, 2.0ms postprocess per image at shape (1, 3, 640, 640)\n",
      "\n",
      "image 1/1 D:\\Code\\CBCT_Reconstruction_ICP\\data\\03\\adaptive_threshold_jpg\\03_slice_0221.jpg: 640x640 (no detections), 10.1ms\n",
      "Speed: 3.2ms preprocess, 10.1ms inference, 2.0ms postprocess per image at shape (1, 3, 640, 640)\n",
      "\n",
      "image 1/1 D:\\Code\\CBCT_Reconstruction_ICP\\data\\03\\adaptive_threshold_jpg\\03_slice_0222.jpg: 640x640 (no detections), 13.6ms\n",
      "Speed: 3.0ms preprocess, 13.6ms inference, 1.0ms postprocess per image at shape (1, 3, 640, 640)\n",
      "\n",
      "image 1/1 D:\\Code\\CBCT_Reconstruction_ICP\\data\\03\\adaptive_threshold_jpg\\03_slice_0223.jpg: 640x640 (no detections), 10.0ms\n",
      "Speed: 3.0ms preprocess, 10.0ms inference, 1.0ms postprocess per image at shape (1, 3, 640, 640)\n",
      "\n",
      "image 1/1 D:\\Code\\CBCT_Reconstruction_ICP\\data\\03\\adaptive_threshold_jpg\\03_slice_0224.jpg: 640x640 (no detections), 9.8ms\n",
      "Speed: 3.0ms preprocess, 9.8ms inference, 1.0ms postprocess per image at shape (1, 3, 640, 640)\n",
      "\n",
      "image 1/1 D:\\Code\\CBCT_Reconstruction_ICP\\data\\03\\adaptive_threshold_jpg\\03_slice_0225.jpg: 640x640 (no detections), 10.4ms\n",
      "Speed: 2.0ms preprocess, 10.4ms inference, 1.0ms postprocess per image at shape (1, 3, 640, 640)\n",
      "\n",
      "image 1/1 D:\\Code\\CBCT_Reconstruction_ICP\\data\\03\\adaptive_threshold_jpg\\03_slice_0226.jpg: 640x640 1 arch, 10.1ms\n",
      "Speed: 2.0ms preprocess, 10.1ms inference, 1.9ms postprocess per image at shape (1, 3, 640, 640)\n",
      "0.0 0.45\n",
      "\n",
      "image 1/1 D:\\Code\\CBCT_Reconstruction_ICP\\data\\03\\adaptive_threshold_jpg\\03_slice_0227.jpg: 640x640 (no detections), 11.6ms\n",
      "Speed: 2.0ms preprocess, 11.6ms inference, 1.2ms postprocess per image at shape (1, 3, 640, 640)\n",
      "\n",
      "image 1/1 D:\\Code\\CBCT_Reconstruction_ICP\\data\\03\\adaptive_threshold_jpg\\03_slice_0228.jpg: 640x640 (no detections), 17.0ms\n",
      "Speed: 3.0ms preprocess, 17.0ms inference, 1.0ms postprocess per image at shape (1, 3, 640, 640)\n",
      "\n",
      "image 1/1 D:\\Code\\CBCT_Reconstruction_ICP\\data\\03\\adaptive_threshold_jpg\\03_slice_0229.jpg: 640x640 (no detections), 12.0ms\n",
      "Speed: 2.0ms preprocess, 12.0ms inference, 1.0ms postprocess per image at shape (1, 3, 640, 640)\n",
      "\n",
      "image 1/1 D:\\Code\\CBCT_Reconstruction_ICP\\data\\03\\adaptive_threshold_jpg\\03_slice_0230.jpg: 640x640 (no detections), 9.0ms\n",
      "Speed: 2.5ms preprocess, 9.0ms inference, 1.0ms postprocess per image at shape (1, 3, 640, 640)\n",
      "\n",
      "image 1/1 D:\\Code\\CBCT_Reconstruction_ICP\\data\\03\\adaptive_threshold_jpg\\03_slice_0231.jpg: 640x640 (no detections), 12.0ms\n",
      "Speed: 2.8ms preprocess, 12.0ms inference, 0.9ms postprocess per image at shape (1, 3, 640, 640)\n",
      "\n",
      "image 1/1 D:\\Code\\CBCT_Reconstruction_ICP\\data\\03\\adaptive_threshold_jpg\\03_slice_0232.jpg: 640x640 (no detections), 10.3ms\n",
      "Speed: 3.1ms preprocess, 10.3ms inference, 1.0ms postprocess per image at shape (1, 3, 640, 640)\n",
      "\n",
      "image 1/1 D:\\Code\\CBCT_Reconstruction_ICP\\data\\03\\adaptive_threshold_jpg\\03_slice_0233.jpg: 640x640 (no detections), 9.7ms\n",
      "Speed: 2.4ms preprocess, 9.7ms inference, 1.1ms postprocess per image at shape (1, 3, 640, 640)\n",
      "\n",
      "image 1/1 D:\\Code\\CBCT_Reconstruction_ICP\\data\\03\\adaptive_threshold_jpg\\03_slice_0234.jpg: 640x640 (no detections), 10.0ms\n",
      "Speed: 3.0ms preprocess, 10.0ms inference, 1.0ms postprocess per image at shape (1, 3, 640, 640)\n",
      "\n",
      "image 1/1 D:\\Code\\CBCT_Reconstruction_ICP\\data\\03\\adaptive_threshold_jpg\\03_slice_0235.jpg: 640x640 (no detections), 11.2ms\n",
      "Speed: 3.1ms preprocess, 11.2ms inference, 0.0ms postprocess per image at shape (1, 3, 640, 640)\n",
      "\n",
      "image 1/1 D:\\Code\\CBCT_Reconstruction_ICP\\data\\03\\adaptive_threshold_jpg\\03_slice_0236.jpg: 640x640 (no detections), 10.1ms\n",
      "Speed: 2.0ms preprocess, 10.1ms inference, 1.0ms postprocess per image at shape (1, 3, 640, 640)\n",
      "\n",
      "image 1/1 D:\\Code\\CBCT_Reconstruction_ICP\\data\\03\\adaptive_threshold_jpg\\03_slice_0237.jpg: 640x640 (no detections), 11.7ms\n",
      "Speed: 3.0ms preprocess, 11.7ms inference, 2.0ms postprocess per image at shape (1, 3, 640, 640)\n",
      "\n",
      "image 1/1 D:\\Code\\CBCT_Reconstruction_ICP\\data\\03\\adaptive_threshold_jpg\\03_slice_0238.jpg: 640x640 (no detections), 12.2ms\n",
      "Speed: 2.1ms preprocess, 12.2ms inference, 1.0ms postprocess per image at shape (1, 3, 640, 640)\n",
      "\n",
      "image 1/1 D:\\Code\\CBCT_Reconstruction_ICP\\data\\03\\adaptive_threshold_jpg\\03_slice_0239.jpg: 640x640 (no detections), 9.5ms\n",
      "Speed: 2.4ms preprocess, 9.5ms inference, 1.5ms postprocess per image at shape (1, 3, 640, 640)\n",
      "\n",
      "image 1/1 D:\\Code\\CBCT_Reconstruction_ICP\\data\\03\\adaptive_threshold_jpg\\03_slice_0240.jpg: 640x640 (no detections), 13.5ms\n",
      "Speed: 2.1ms preprocess, 13.5ms inference, 0.0ms postprocess per image at shape (1, 3, 640, 640)\n",
      "\n",
      "image 1/1 D:\\Code\\CBCT_Reconstruction_ICP\\data\\03\\adaptive_threshold_jpg\\03_slice_0241.jpg: 640x640 (no detections), 9.6ms\n",
      "Speed: 2.0ms preprocess, 9.6ms inference, 1.6ms postprocess per image at shape (1, 3, 640, 640)\n",
      "\n",
      "image 1/1 D:\\Code\\CBCT_Reconstruction_ICP\\data\\03\\adaptive_threshold_jpg\\03_slice_0242.jpg: 640x640 (no detections), 10.3ms\n",
      "Speed: 3.9ms preprocess, 10.3ms inference, 1.0ms postprocess per image at shape (1, 3, 640, 640)\n",
      "\n",
      "image 1/1 D:\\Code\\CBCT_Reconstruction_ICP\\data\\03\\adaptive_threshold_jpg\\03_slice_0243.jpg: 640x640 (no detections), 12.5ms\n",
      "Speed: 3.0ms preprocess, 12.5ms inference, 1.0ms postprocess per image at shape (1, 3, 640, 640)\n",
      "\n",
      "image 1/1 D:\\Code\\CBCT_Reconstruction_ICP\\data\\03\\adaptive_threshold_jpg\\03_slice_0244.jpg: 640x640 (no detections), 14.5ms\n",
      "Speed: 2.5ms preprocess, 14.5ms inference, 2.1ms postprocess per image at shape (1, 3, 640, 640)\n",
      "\n",
      "image 1/1 D:\\Code\\CBCT_Reconstruction_ICP\\data\\03\\adaptive_threshold_jpg\\03_slice_0245.jpg: 640x640 (no detections), 10.2ms\n",
      "Speed: 3.8ms preprocess, 10.2ms inference, 1.2ms postprocess per image at shape (1, 3, 640, 640)\n",
      "\n",
      "image 1/1 D:\\Code\\CBCT_Reconstruction_ICP\\data\\03\\adaptive_threshold_jpg\\03_slice_0246.jpg: 640x640 (no detections), 9.5ms\n",
      "Speed: 2.3ms preprocess, 9.5ms inference, 1.1ms postprocess per image at shape (1, 3, 640, 640)\n",
      "\n",
      "image 1/1 D:\\Code\\CBCT_Reconstruction_ICP\\data\\03\\adaptive_threshold_jpg\\03_slice_0247.jpg: 640x640 (no detections), 9.2ms\n",
      "Speed: 2.6ms preprocess, 9.2ms inference, 1.0ms postprocess per image at shape (1, 3, 640, 640)\n",
      "\n",
      "image 1/1 D:\\Code\\CBCT_Reconstruction_ICP\\data\\03\\adaptive_threshold_jpg\\03_slice_0248.jpg: 640x640 (no detections), 10.9ms\n",
      "Speed: 2.0ms preprocess, 10.9ms inference, 1.0ms postprocess per image at shape (1, 3, 640, 640)\n",
      "\n",
      "image 1/1 D:\\Code\\CBCT_Reconstruction_ICP\\data\\03\\adaptive_threshold_jpg\\03_slice_0249.jpg: 640x640 (no detections), 12.4ms\n",
      "Speed: 3.0ms preprocess, 12.4ms inference, 1.0ms postprocess per image at shape (1, 3, 640, 640)\n",
      "\n",
      "image 1/1 D:\\Code\\CBCT_Reconstruction_ICP\\data\\03\\adaptive_threshold_jpg\\03_slice_0250.jpg: 640x640 (no detections), 11.5ms\n",
      "Speed: 2.5ms preprocess, 11.5ms inference, 2.1ms postprocess per image at shape (1, 3, 640, 640)\n",
      "\n",
      "image 1/1 D:\\Code\\CBCT_Reconstruction_ICP\\data\\03\\adaptive_threshold_jpg\\03_slice_0251.jpg: 640x640 (no detections), 9.7ms\n",
      "Speed: 2.0ms preprocess, 9.7ms inference, 1.0ms postprocess per image at shape (1, 3, 640, 640)\n",
      "\n",
      "image 1/1 D:\\Code\\CBCT_Reconstruction_ICP\\data\\03\\adaptive_threshold_jpg\\03_slice_0252.jpg: 640x640 (no detections), 12.3ms\n",
      "Speed: 3.0ms preprocess, 12.3ms inference, 1.0ms postprocess per image at shape (1, 3, 640, 640)\n",
      "\n",
      "image 1/1 D:\\Code\\CBCT_Reconstruction_ICP\\data\\03\\adaptive_threshold_jpg\\03_slice_0253.jpg: 640x640 (no detections), 10.9ms\n",
      "Speed: 2.5ms preprocess, 10.9ms inference, 1.0ms postprocess per image at shape (1, 3, 640, 640)\n",
      "\n",
      "image 1/1 D:\\Code\\CBCT_Reconstruction_ICP\\data\\03\\adaptive_threshold_jpg\\03_slice_0254.jpg: 640x640 (no detections), 9.5ms\n",
      "Speed: 3.0ms preprocess, 9.5ms inference, 0.0ms postprocess per image at shape (1, 3, 640, 640)\n",
      "\n",
      "image 1/1 D:\\Code\\CBCT_Reconstruction_ICP\\data\\03\\adaptive_threshold_jpg\\03_slice_0255.jpg: 640x640 (no detections), 13.0ms\n",
      "Speed: 2.0ms preprocess, 13.0ms inference, 1.0ms postprocess per image at shape (1, 3, 640, 640)\n",
      "\n",
      "image 1/1 D:\\Code\\CBCT_Reconstruction_ICP\\data\\03\\adaptive_threshold_jpg\\03_slice_0256.jpg: 640x640 (no detections), 9.9ms\n",
      "Speed: 2.6ms preprocess, 9.9ms inference, 1.0ms postprocess per image at shape (1, 3, 640, 640)\n",
      "\n",
      "image 1/1 D:\\Code\\CBCT_Reconstruction_ICP\\data\\03\\adaptive_threshold_jpg\\03_slice_0257.jpg: 640x640 (no detections), 13.8ms\n",
      "Speed: 2.1ms preprocess, 13.8ms inference, 1.0ms postprocess per image at shape (1, 3, 640, 640)\n",
      "\n",
      "image 1/1 D:\\Code\\CBCT_Reconstruction_ICP\\data\\03\\adaptive_threshold_jpg\\03_slice_0258.jpg: 640x640 (no detections), 10.6ms\n",
      "Speed: 2.0ms preprocess, 10.6ms inference, 1.0ms postprocess per image at shape (1, 3, 640, 640)\n",
      "\n",
      "image 1/1 D:\\Code\\CBCT_Reconstruction_ICP\\data\\03\\adaptive_threshold_jpg\\03_slice_0259.jpg: 640x640 (no detections), 8.1ms\n",
      "Speed: 4.0ms preprocess, 8.1ms inference, 1.0ms postprocess per image at shape (1, 3, 640, 640)\n",
      "\n",
      "image 1/1 D:\\Code\\CBCT_Reconstruction_ICP\\data\\03\\adaptive_threshold_jpg\\03_slice_0260.jpg: 640x640 (no detections), 10.0ms\n",
      "Speed: 2.0ms preprocess, 10.0ms inference, 1.0ms postprocess per image at shape (1, 3, 640, 640)\n",
      "\n",
      "image 1/1 D:\\Code\\CBCT_Reconstruction_ICP\\data\\03\\adaptive_threshold_jpg\\03_slice_0261.jpg: 640x640 (no detections), 10.5ms\n",
      "Speed: 2.0ms preprocess, 10.5ms inference, 1.0ms postprocess per image at shape (1, 3, 640, 640)\n",
      "\n",
      "image 1/1 D:\\Code\\CBCT_Reconstruction_ICP\\data\\03\\adaptive_threshold_jpg\\03_slice_0262.jpg: 640x640 (no detections), 9.4ms\n",
      "Speed: 3.0ms preprocess, 9.4ms inference, 1.0ms postprocess per image at shape (1, 3, 640, 640)\n",
      "\n",
      "image 1/1 D:\\Code\\CBCT_Reconstruction_ICP\\data\\03\\adaptive_threshold_jpg\\03_slice_0263.jpg: 640x640 (no detections), 9.2ms\n",
      "Speed: 3.2ms preprocess, 9.2ms inference, 0.0ms postprocess per image at shape (1, 3, 640, 640)\n",
      "\n",
      "image 1/1 D:\\Code\\CBCT_Reconstruction_ICP\\data\\03\\adaptive_threshold_jpg\\03_slice_0264.jpg: 640x640 (no detections), 11.5ms\n",
      "Speed: 3.0ms preprocess, 11.5ms inference, 0.0ms postprocess per image at shape (1, 3, 640, 640)\n",
      "\n",
      "image 1/1 D:\\Code\\CBCT_Reconstruction_ICP\\data\\03\\adaptive_threshold_jpg\\03_slice_0265.jpg: 640x640 (no detections), 11.3ms\n",
      "Speed: 2.0ms preprocess, 11.3ms inference, 1.0ms postprocess per image at shape (1, 3, 640, 640)\n",
      "\n",
      "image 1/1 D:\\Code\\CBCT_Reconstruction_ICP\\data\\03\\adaptive_threshold_jpg\\03_slice_0266.jpg: 640x640 (no detections), 12.4ms\n",
      "Speed: 2.0ms preprocess, 12.4ms inference, 0.0ms postprocess per image at shape (1, 3, 640, 640)\n",
      "\n",
      "image 1/1 D:\\Code\\CBCT_Reconstruction_ICP\\data\\03\\adaptive_threshold_jpg\\03_slice_0267.jpg: 640x640 (no detections), 11.3ms\n",
      "Speed: 2.0ms preprocess, 11.3ms inference, 1.0ms postprocess per image at shape (1, 3, 640, 640)\n",
      "\n",
      "image 1/1 D:\\Code\\CBCT_Reconstruction_ICP\\data\\03\\adaptive_threshold_jpg\\03_slice_0268.jpg: 640x640 (no detections), 14.2ms\n",
      "Speed: 3.0ms preprocess, 14.2ms inference, 1.0ms postprocess per image at shape (1, 3, 640, 640)\n",
      "\n",
      "image 1/1 D:\\Code\\CBCT_Reconstruction_ICP\\data\\03\\adaptive_threshold_jpg\\03_slice_0269.jpg: 640x640 (no detections), 10.5ms\n",
      "Speed: 3.3ms preprocess, 10.5ms inference, 0.6ms postprocess per image at shape (1, 3, 640, 640)\n",
      "\n",
      "image 1/1 D:\\Code\\CBCT_Reconstruction_ICP\\data\\03\\adaptive_threshold_jpg\\03_slice_0270.jpg: 640x640 1 arch, 9.8ms\n",
      "Speed: 3.0ms preprocess, 9.8ms inference, 1.1ms postprocess per image at shape (1, 3, 640, 640)\n",
      "Skipped box with confidence: 0.31142717599868774 in image 03_slice_0270.jpg\n",
      "\n",
      "image 1/1 D:\\Code\\CBCT_Reconstruction_ICP\\data\\03\\adaptive_threshold_jpg\\03_slice_0271.jpg: 640x640 (no detections), 8.1ms\n",
      "Speed: 2.4ms preprocess, 8.1ms inference, 1.0ms postprocess per image at shape (1, 3, 640, 640)\n",
      "\n",
      "image 1/1 D:\\Code\\CBCT_Reconstruction_ICP\\data\\03\\adaptive_threshold_jpg\\03_slice_0272.jpg: 640x640 (no detections), 9.3ms\n",
      "Speed: 3.0ms preprocess, 9.3ms inference, 1.0ms postprocess per image at shape (1, 3, 640, 640)\n",
      "\n",
      "image 1/1 D:\\Code\\CBCT_Reconstruction_ICP\\data\\03\\adaptive_threshold_jpg\\03_slice_0273.jpg: 640x640 (no detections), 9.0ms\n",
      "Speed: 3.0ms preprocess, 9.0ms inference, 1.1ms postprocess per image at shape (1, 3, 640, 640)\n",
      "\n",
      "image 1/1 D:\\Code\\CBCT_Reconstruction_ICP\\data\\03\\adaptive_threshold_jpg\\03_slice_0274.jpg: 640x640 (no detections), 8.7ms\n",
      "Speed: 3.0ms preprocess, 8.7ms inference, 1.0ms postprocess per image at shape (1, 3, 640, 640)\n",
      "\n",
      "image 1/1 D:\\Code\\CBCT_Reconstruction_ICP\\data\\03\\adaptive_threshold_jpg\\03_slice_0275.jpg: 640x640 (no detections), 8.6ms\n",
      "Speed: 3.0ms preprocess, 8.6ms inference, 1.0ms postprocess per image at shape (1, 3, 640, 640)\n",
      "\n",
      "image 1/1 D:\\Code\\CBCT_Reconstruction_ICP\\data\\03\\adaptive_threshold_jpg\\03_slice_0276.jpg: 640x640 (no detections), 11.5ms\n",
      "Speed: 2.0ms preprocess, 11.5ms inference, 2.0ms postprocess per image at shape (1, 3, 640, 640)\n",
      "\n",
      "image 1/1 D:\\Code\\CBCT_Reconstruction_ICP\\data\\03\\adaptive_threshold_jpg\\03_slice_0277.jpg: 640x640 (no detections), 8.5ms\n",
      "Speed: 3.0ms preprocess, 8.5ms inference, 1.0ms postprocess per image at shape (1, 3, 640, 640)\n",
      "\n",
      "image 1/1 D:\\Code\\CBCT_Reconstruction_ICP\\data\\03\\adaptive_threshold_jpg\\03_slice_0278.jpg: 640x640 (no detections), 11.0ms\n",
      "Speed: 2.0ms preprocess, 11.0ms inference, 1.0ms postprocess per image at shape (1, 3, 640, 640)\n",
      "\n",
      "image 1/1 D:\\Code\\CBCT_Reconstruction_ICP\\data\\03\\adaptive_threshold_jpg\\03_slice_0279.jpg: 640x640 (no detections), 11.6ms\n",
      "Speed: 3.0ms preprocess, 11.6ms inference, 2.0ms postprocess per image at shape (1, 3, 640, 640)\n",
      "\n",
      "image 1/1 D:\\Code\\CBCT_Reconstruction_ICP\\data\\03\\adaptive_threshold_jpg\\03_slice_0280.jpg: 640x640 (no detections), 10.8ms\n",
      "Speed: 3.5ms preprocess, 10.8ms inference, 0.7ms postprocess per image at shape (1, 3, 640, 640)\n",
      "\n",
      "image 1/1 D:\\Code\\CBCT_Reconstruction_ICP\\data\\03\\adaptive_threshold_jpg\\03_slice_0281.jpg: 640x640 (no detections), 10.2ms\n",
      "Speed: 2.2ms preprocess, 10.2ms inference, 1.7ms postprocess per image at shape (1, 3, 640, 640)\n",
      "\n",
      "image 1/1 D:\\Code\\CBCT_Reconstruction_ICP\\data\\03\\adaptive_threshold_jpg\\03_slice_0282.jpg: 640x640 (no detections), 23.1ms\n",
      "Speed: 3.1ms preprocess, 23.1ms inference, 2.5ms postprocess per image at shape (1, 3, 640, 640)\n",
      "\n",
      "image 1/1 D:\\Code\\CBCT_Reconstruction_ICP\\data\\03\\adaptive_threshold_jpg\\03_slice_0283.jpg: 640x640 1 arch, 9.0ms\n",
      "Speed: 2.0ms preprocess, 9.0ms inference, 1.0ms postprocess per image at shape (1, 3, 640, 640)\n",
      "Skipped box with confidence: 0.25311025977134705 in image 03_slice_0283.jpg\n",
      "\n",
      "image 1/1 D:\\Code\\CBCT_Reconstruction_ICP\\data\\03\\adaptive_threshold_jpg\\03_slice_0284.jpg: 640x640 (no detections), 8.0ms\n",
      "Speed: 2.7ms preprocess, 8.0ms inference, 0.9ms postprocess per image at shape (1, 3, 640, 640)\n",
      "\n",
      "image 1/1 D:\\Code\\CBCT_Reconstruction_ICP\\data\\03\\adaptive_threshold_jpg\\03_slice_0285.jpg: 640x640 (no detections), 9.9ms\n",
      "Speed: 2.9ms preprocess, 9.9ms inference, 1.0ms postprocess per image at shape (1, 3, 640, 640)\n",
      "\n",
      "image 1/1 D:\\Code\\CBCT_Reconstruction_ICP\\data\\03\\adaptive_threshold_jpg\\03_slice_0286.jpg: 640x640 (no detections), 18.6ms\n",
      "Speed: 3.0ms preprocess, 18.6ms inference, 0.9ms postprocess per image at shape (1, 3, 640, 640)\n",
      "\n",
      "image 1/1 D:\\Code\\CBCT_Reconstruction_ICP\\data\\03\\adaptive_threshold_jpg\\03_slice_0287.jpg: 640x640 (no detections), 10.0ms\n",
      "Speed: 3.0ms preprocess, 10.0ms inference, 1.0ms postprocess per image at shape (1, 3, 640, 640)\n",
      "\n",
      "image 1/1 D:\\Code\\CBCT_Reconstruction_ICP\\data\\03\\adaptive_threshold_jpg\\03_slice_0288.jpg: 640x640 (no detections), 8.7ms\n",
      "Speed: 3.3ms preprocess, 8.7ms inference, 1.0ms postprocess per image at shape (1, 3, 640, 640)\n",
      "\n",
      "image 1/1 D:\\Code\\CBCT_Reconstruction_ICP\\data\\03\\adaptive_threshold_jpg\\03_slice_0289.jpg: 640x640 (no detections), 8.7ms\n",
      "Speed: 2.9ms preprocess, 8.7ms inference, 0.0ms postprocess per image at shape (1, 3, 640, 640)\n",
      "\n",
      "image 1/1 D:\\Code\\CBCT_Reconstruction_ICP\\data\\03\\adaptive_threshold_jpg\\03_slice_0290.jpg: 640x640 (no detections), 10.1ms\n",
      "Speed: 2.9ms preprocess, 10.1ms inference, 1.0ms postprocess per image at shape (1, 3, 640, 640)\n",
      "\n",
      "image 1/1 D:\\Code\\CBCT_Reconstruction_ICP\\data\\03\\adaptive_threshold_jpg\\03_slice_0291.jpg: 640x640 (no detections), 10.1ms\n",
      "Speed: 2.9ms preprocess, 10.1ms inference, 1.0ms postprocess per image at shape (1, 3, 640, 640)\n",
      "\n",
      "image 1/1 D:\\Code\\CBCT_Reconstruction_ICP\\data\\03\\adaptive_threshold_jpg\\03_slice_0292.jpg: 640x640 (no detections), 14.4ms\n",
      "Speed: 3.7ms preprocess, 14.4ms inference, 1.1ms postprocess per image at shape (1, 3, 640, 640)\n",
      "\n",
      "image 1/1 D:\\Code\\CBCT_Reconstruction_ICP\\data\\03\\adaptive_threshold_jpg\\03_slice_0293.jpg: 640x640 (no detections), 9.8ms\n",
      "Speed: 1.9ms preprocess, 9.8ms inference, 1.0ms postprocess per image at shape (1, 3, 640, 640)\n",
      "\n",
      "image 1/1 D:\\Code\\CBCT_Reconstruction_ICP\\data\\03\\adaptive_threshold_jpg\\03_slice_0294.jpg: 640x640 (no detections), 9.1ms\n",
      "Speed: 2.0ms preprocess, 9.1ms inference, 1.0ms postprocess per image at shape (1, 3, 640, 640)\n",
      "\n",
      "image 1/1 D:\\Code\\CBCT_Reconstruction_ICP\\data\\03\\adaptive_threshold_jpg\\03_slice_0295.jpg: 640x640 (no detections), 13.7ms\n",
      "Speed: 2.0ms preprocess, 13.7ms inference, 1.0ms postprocess per image at shape (1, 3, 640, 640)\n",
      "\n",
      "image 1/1 D:\\Code\\CBCT_Reconstruction_ICP\\data\\03\\adaptive_threshold_jpg\\03_slice_0296.jpg: 640x640 (no detections), 9.0ms\n",
      "Speed: 3.0ms preprocess, 9.0ms inference, 1.0ms postprocess per image at shape (1, 3, 640, 640)\n",
      "\n",
      "image 1/1 D:\\Code\\CBCT_Reconstruction_ICP\\data\\03\\adaptive_threshold_jpg\\03_slice_0297.jpg: 640x640 (no detections), 9.0ms\n",
      "Speed: 2.5ms preprocess, 9.0ms inference, 1.0ms postprocess per image at shape (1, 3, 640, 640)\n",
      "\n",
      "image 1/1 D:\\Code\\CBCT_Reconstruction_ICP\\data\\03\\adaptive_threshold_jpg\\03_slice_0298.jpg: 640x640 (no detections), 9.3ms\n",
      "Speed: 3.0ms preprocess, 9.3ms inference, 1.0ms postprocess per image at shape (1, 3, 640, 640)\n",
      "\n",
      "image 1/1 D:\\Code\\CBCT_Reconstruction_ICP\\data\\03\\adaptive_threshold_jpg\\03_slice_0299.jpg: 640x640 (no detections), 12.2ms\n",
      "Speed: 3.0ms preprocess, 12.2ms inference, 1.0ms postprocess per image at shape (1, 3, 640, 640)\n",
      "\n",
      "image 1/1 D:\\Code\\CBCT_Reconstruction_ICP\\data\\03\\adaptive_threshold_jpg\\03_slice_0300.jpg: 640x640 (no detections), 9.9ms\n",
      "Speed: 2.0ms preprocess, 9.9ms inference, 1.2ms postprocess per image at shape (1, 3, 640, 640)\n",
      "\n",
      "image 1/1 D:\\Code\\CBCT_Reconstruction_ICP\\data\\03\\adaptive_threshold_jpg\\03_slice_0301.jpg: 640x640 (no detections), 10.5ms\n",
      "Speed: 3.0ms preprocess, 10.5ms inference, 1.0ms postprocess per image at shape (1, 3, 640, 640)\n",
      "\n",
      "image 1/1 D:\\Code\\CBCT_Reconstruction_ICP\\data\\03\\adaptive_threshold_jpg\\03_slice_0302.jpg: 640x640 (no detections), 11.1ms\n",
      "Speed: 2.0ms preprocess, 11.1ms inference, 1.0ms postprocess per image at shape (1, 3, 640, 640)\n",
      "\n",
      "image 1/1 D:\\Code\\CBCT_Reconstruction_ICP\\data\\03\\adaptive_threshold_jpg\\03_slice_0303.jpg: 640x640 (no detections), 8.3ms\n",
      "Speed: 3.1ms preprocess, 8.3ms inference, 1.0ms postprocess per image at shape (1, 3, 640, 640)\n",
      "\n",
      "image 1/1 D:\\Code\\CBCT_Reconstruction_ICP\\data\\03\\adaptive_threshold_jpg\\03_slice_0304.jpg: 640x640 (no detections), 12.9ms\n",
      "Speed: 3.0ms preprocess, 12.9ms inference, 1.0ms postprocess per image at shape (1, 3, 640, 640)\n",
      "\n",
      "image 1/1 D:\\Code\\CBCT_Reconstruction_ICP\\data\\03\\adaptive_threshold_jpg\\03_slice_0305.jpg: 640x640 (no detections), 8.9ms\n",
      "Speed: 3.0ms preprocess, 8.9ms inference, 1.0ms postprocess per image at shape (1, 3, 640, 640)\n",
      "\n",
      "image 1/1 D:\\Code\\CBCT_Reconstruction_ICP\\data\\03\\adaptive_threshold_jpg\\03_slice_0306.jpg: 640x640 (no detections), 12.5ms\n",
      "Speed: 3.0ms preprocess, 12.5ms inference, 1.0ms postprocess per image at shape (1, 3, 640, 640)\n",
      "\n",
      "image 1/1 D:\\Code\\CBCT_Reconstruction_ICP\\data\\03\\adaptive_threshold_jpg\\03_slice_0307.jpg: 640x640 (no detections), 11.4ms\n",
      "Speed: 3.3ms preprocess, 11.4ms inference, 1.1ms postprocess per image at shape (1, 3, 640, 640)\n",
      "\n",
      "image 1/1 D:\\Code\\CBCT_Reconstruction_ICP\\data\\03\\adaptive_threshold_jpg\\03_slice_0308.jpg: 640x640 (no detections), 15.1ms\n",
      "Speed: 2.0ms preprocess, 15.1ms inference, 1.0ms postprocess per image at shape (1, 3, 640, 640)\n",
      "\n",
      "image 1/1 D:\\Code\\CBCT_Reconstruction_ICP\\data\\03\\adaptive_threshold_jpg\\03_slice_0309.jpg: 640x640 (no detections), 10.5ms\n",
      "Speed: 3.0ms preprocess, 10.5ms inference, 1.0ms postprocess per image at shape (1, 3, 640, 640)\n",
      "\n",
      "image 1/1 D:\\Code\\CBCT_Reconstruction_ICP\\data\\03\\adaptive_threshold_jpg\\03_slice_0310.jpg: 640x640 (no detections), 10.7ms\n",
      "Speed: 2.4ms preprocess, 10.7ms inference, 1.0ms postprocess per image at shape (1, 3, 640, 640)\n",
      "\n",
      "image 1/1 D:\\Code\\CBCT_Reconstruction_ICP\\data\\03\\adaptive_threshold_jpg\\03_slice_0311.jpg: 640x640 (no detections), 10.1ms\n",
      "Speed: 3.0ms preprocess, 10.1ms inference, 1.0ms postprocess per image at shape (1, 3, 640, 640)\n",
      "\n",
      "image 1/1 D:\\Code\\CBCT_Reconstruction_ICP\\data\\03\\adaptive_threshold_jpg\\03_slice_0312.jpg: 640x640 (no detections), 10.6ms\n",
      "Speed: 3.0ms preprocess, 10.6ms inference, 1.0ms postprocess per image at shape (1, 3, 640, 640)\n",
      "\n",
      "image 1/1 D:\\Code\\CBCT_Reconstruction_ICP\\data\\03\\adaptive_threshold_jpg\\03_slice_0313.jpg: 640x640 (no detections), 12.0ms\n",
      "Speed: 3.1ms preprocess, 12.0ms inference, 1.0ms postprocess per image at shape (1, 3, 640, 640)\n",
      "\n",
      "image 1/1 D:\\Code\\CBCT_Reconstruction_ICP\\data\\03\\adaptive_threshold_jpg\\03_slice_0314.jpg: 640x640 (no detections), 8.4ms\n",
      "Speed: 3.2ms preprocess, 8.4ms inference, 2.5ms postprocess per image at shape (1, 3, 640, 640)\n",
      "\n",
      "image 1/1 D:\\Code\\CBCT_Reconstruction_ICP\\data\\03\\adaptive_threshold_jpg\\03_slice_0315.jpg: 640x640 (no detections), 10.9ms\n",
      "Speed: 3.0ms preprocess, 10.9ms inference, 1.0ms postprocess per image at shape (1, 3, 640, 640)\n",
      "\n",
      "image 1/1 D:\\Code\\CBCT_Reconstruction_ICP\\data\\03\\adaptive_threshold_jpg\\03_slice_0316.jpg: 640x640 (no detections), 13.5ms\n",
      "Speed: 3.3ms preprocess, 13.5ms inference, 2.3ms postprocess per image at shape (1, 3, 640, 640)\n",
      "\n",
      "image 1/1 D:\\Code\\CBCT_Reconstruction_ICP\\data\\03\\adaptive_threshold_jpg\\03_slice_0317.jpg: 640x640 (no detections), 12.8ms\n",
      "Speed: 2.0ms preprocess, 12.8ms inference, 1.0ms postprocess per image at shape (1, 3, 640, 640)\n",
      "\n",
      "image 1/1 D:\\Code\\CBCT_Reconstruction_ICP\\data\\03\\adaptive_threshold_jpg\\03_slice_0318.jpg: 640x640 (no detections), 9.5ms\n",
      "Speed: 2.5ms preprocess, 9.5ms inference, 1.0ms postprocess per image at shape (1, 3, 640, 640)\n",
      "\n",
      "image 1/1 D:\\Code\\CBCT_Reconstruction_ICP\\data\\03\\adaptive_threshold_jpg\\03_slice_0319.jpg: 640x640 (no detections), 10.5ms\n",
      "Speed: 3.0ms preprocess, 10.5ms inference, 1.0ms postprocess per image at shape (1, 3, 640, 640)\n",
      "\n",
      "image 1/1 D:\\Code\\CBCT_Reconstruction_ICP\\data\\03\\adaptive_threshold_jpg\\03_slice_0320.jpg: 640x640 (no detections), 10.0ms\n",
      "Speed: 3.5ms preprocess, 10.0ms inference, 1.0ms postprocess per image at shape (1, 3, 640, 640)\n",
      "\n",
      "image 1/1 D:\\Code\\CBCT_Reconstruction_ICP\\data\\03\\adaptive_threshold_jpg\\03_slice_0321.jpg: 640x640 (no detections), 9.5ms\n",
      "Speed: 3.5ms preprocess, 9.5ms inference, 0.0ms postprocess per image at shape (1, 3, 640, 640)\n",
      "\n",
      "image 1/1 D:\\Code\\CBCT_Reconstruction_ICP\\data\\03\\adaptive_threshold_jpg\\03_slice_0322.jpg: 640x640 (no detections), 9.0ms\n",
      "Speed: 3.0ms preprocess, 9.0ms inference, 1.0ms postprocess per image at shape (1, 3, 640, 640)\n",
      "\n",
      "image 1/1 D:\\Code\\CBCT_Reconstruction_ICP\\data\\03\\adaptive_threshold_jpg\\03_slice_0323.jpg: 640x640 (no detections), 11.6ms\n",
      "Speed: 2.0ms preprocess, 11.6ms inference, 1.0ms postprocess per image at shape (1, 3, 640, 640)\n",
      "\n",
      "image 1/1 D:\\Code\\CBCT_Reconstruction_ICP\\data\\03\\adaptive_threshold_jpg\\03_slice_0324.jpg: 640x640 1 arch, 8.2ms\n",
      "Speed: 3.0ms preprocess, 8.2ms inference, 1.0ms postprocess per image at shape (1, 3, 640, 640)\n",
      "0.0 0.43\n",
      "\n",
      "image 1/1 D:\\Code\\CBCT_Reconstruction_ICP\\data\\03\\adaptive_threshold_jpg\\03_slice_0325.jpg: 640x640 (no detections), 10.0ms\n",
      "Speed: 3.0ms preprocess, 10.0ms inference, 1.0ms postprocess per image at shape (1, 3, 640, 640)\n",
      "\n",
      "image 1/1 D:\\Code\\CBCT_Reconstruction_ICP\\data\\03\\adaptive_threshold_jpg\\03_slice_0326.jpg: 640x640 (no detections), 9.8ms\n",
      "Speed: 3.0ms preprocess, 9.8ms inference, 1.0ms postprocess per image at shape (1, 3, 640, 640)\n",
      "\n",
      "image 1/1 D:\\Code\\CBCT_Reconstruction_ICP\\data\\03\\adaptive_threshold_jpg\\03_slice_0327.jpg: 640x640 (no detections), 14.0ms\n",
      "Speed: 5.2ms preprocess, 14.0ms inference, 1.1ms postprocess per image at shape (1, 3, 640, 640)\n",
      "\n",
      "image 1/1 D:\\Code\\CBCT_Reconstruction_ICP\\data\\03\\adaptive_threshold_jpg\\03_slice_0328.jpg: 640x640 (no detections), 9.5ms\n",
      "Speed: 3.0ms preprocess, 9.5ms inference, 2.0ms postprocess per image at shape (1, 3, 640, 640)\n",
      "\n",
      "image 1/1 D:\\Code\\CBCT_Reconstruction_ICP\\data\\03\\adaptive_threshold_jpg\\03_slice_0329.jpg: 640x640 (no detections), 21.1ms\n",
      "Speed: 3.0ms preprocess, 21.1ms inference, 0.9ms postprocess per image at shape (1, 3, 640, 640)\n",
      "\n",
      "image 1/1 D:\\Code\\CBCT_Reconstruction_ICP\\data\\03\\adaptive_threshold_jpg\\03_slice_0330.jpg: 640x640 (no detections), 9.0ms\n",
      "Speed: 2.1ms preprocess, 9.0ms inference, 0.0ms postprocess per image at shape (1, 3, 640, 640)\n",
      "\n",
      "image 1/1 D:\\Code\\CBCT_Reconstruction_ICP\\data\\03\\adaptive_threshold_jpg\\03_slice_0331.jpg: 640x640 (no detections), 9.0ms\n",
      "Speed: 2.5ms preprocess, 9.0ms inference, 2.0ms postprocess per image at shape (1, 3, 640, 640)\n",
      "\n",
      "image 1/1 D:\\Code\\CBCT_Reconstruction_ICP\\data\\03\\adaptive_threshold_jpg\\03_slice_0332.jpg: 640x640 (no detections), 9.9ms\n",
      "Speed: 3.0ms preprocess, 9.9ms inference, 1.0ms postprocess per image at shape (1, 3, 640, 640)\n",
      "\n",
      "image 1/1 D:\\Code\\CBCT_Reconstruction_ICP\\data\\03\\adaptive_threshold_jpg\\03_slice_0333.jpg: 640x640 (no detections), 9.7ms\n",
      "Speed: 2.5ms preprocess, 9.7ms inference, 1.0ms postprocess per image at shape (1, 3, 640, 640)\n",
      "\n",
      "image 1/1 D:\\Code\\CBCT_Reconstruction_ICP\\data\\03\\adaptive_threshold_jpg\\03_slice_0334.jpg: 640x640 (no detections), 15.2ms\n",
      "Speed: 3.0ms preprocess, 15.2ms inference, 1.0ms postprocess per image at shape (1, 3, 640, 640)\n",
      "\n",
      "image 1/1 D:\\Code\\CBCT_Reconstruction_ICP\\data\\03\\adaptive_threshold_jpg\\03_slice_0335.jpg: 640x640 (no detections), 12.1ms\n",
      "Speed: 3.0ms preprocess, 12.1ms inference, 1.5ms postprocess per image at shape (1, 3, 640, 640)\n",
      "\n",
      "image 1/1 D:\\Code\\CBCT_Reconstruction_ICP\\data\\03\\adaptive_threshold_jpg\\03_slice_0336.jpg: 640x640 (no detections), 10.0ms\n",
      "Speed: 3.0ms preprocess, 10.0ms inference, 1.0ms postprocess per image at shape (1, 3, 640, 640)\n",
      "\n",
      "image 1/1 D:\\Code\\CBCT_Reconstruction_ICP\\data\\03\\adaptive_threshold_jpg\\03_slice_0337.jpg: 640x640 (no detections), 10.3ms\n",
      "Speed: 3.0ms preprocess, 10.3ms inference, 1.0ms postprocess per image at shape (1, 3, 640, 640)\n",
      "\n",
      "image 1/1 D:\\Code\\CBCT_Reconstruction_ICP\\data\\03\\adaptive_threshold_jpg\\03_slice_0338.jpg: 640x640 (no detections), 9.5ms\n",
      "Speed: 2.0ms preprocess, 9.5ms inference, 1.0ms postprocess per image at shape (1, 3, 640, 640)\n",
      "\n",
      "image 1/1 D:\\Code\\CBCT_Reconstruction_ICP\\data\\03\\adaptive_threshold_jpg\\03_slice_0339.jpg: 640x640 (no detections), 17.1ms\n",
      "Speed: 2.5ms preprocess, 17.1ms inference, 1.0ms postprocess per image at shape (1, 3, 640, 640)\n",
      "\n",
      "image 1/1 D:\\Code\\CBCT_Reconstruction_ICP\\data\\03\\adaptive_threshold_jpg\\03_slice_0340.jpg: 640x640 (no detections), 10.7ms\n",
      "Speed: 2.5ms preprocess, 10.7ms inference, 0.0ms postprocess per image at shape (1, 3, 640, 640)\n",
      "\n",
      "image 1/1 D:\\Code\\CBCT_Reconstruction_ICP\\data\\03\\adaptive_threshold_jpg\\03_slice_0341.jpg: 640x640 (no detections), 9.6ms\n",
      "Speed: 3.6ms preprocess, 9.6ms inference, 1.1ms postprocess per image at shape (1, 3, 640, 640)\n",
      "\n",
      "image 1/1 D:\\Code\\CBCT_Reconstruction_ICP\\data\\03\\adaptive_threshold_jpg\\03_slice_0342.jpg: 640x640 (no detections), 9.9ms\n",
      "Speed: 2.5ms preprocess, 9.9ms inference, 1.0ms postprocess per image at shape (1, 3, 640, 640)\n",
      "\n",
      "image 1/1 D:\\Code\\CBCT_Reconstruction_ICP\\data\\03\\adaptive_threshold_jpg\\03_slice_0343.jpg: 640x640 (no detections), 10.1ms\n",
      "Speed: 2.0ms preprocess, 10.1ms inference, 1.0ms postprocess per image at shape (1, 3, 640, 640)\n",
      "\n",
      "image 1/1 D:\\Code\\CBCT_Reconstruction_ICP\\data\\03\\adaptive_threshold_jpg\\03_slice_0344.jpg: 640x640 (no detections), 9.1ms\n",
      "Speed: 2.8ms preprocess, 9.1ms inference, 1.0ms postprocess per image at shape (1, 3, 640, 640)\n",
      "\n",
      "image 1/1 D:\\Code\\CBCT_Reconstruction_ICP\\data\\03\\adaptive_threshold_jpg\\03_slice_0345.jpg: 640x640 (no detections), 11.8ms\n",
      "Speed: 2.0ms preprocess, 11.8ms inference, 1.1ms postprocess per image at shape (1, 3, 640, 640)\n",
      "\n",
      "image 1/1 D:\\Code\\CBCT_Reconstruction_ICP\\data\\03\\adaptive_threshold_jpg\\03_slice_0346.jpg: 640x640 (no detections), 11.0ms\n",
      "Speed: 2.1ms preprocess, 11.0ms inference, 1.0ms postprocess per image at shape (1, 3, 640, 640)\n",
      "\n",
      "image 1/1 D:\\Code\\CBCT_Reconstruction_ICP\\data\\03\\adaptive_threshold_jpg\\03_slice_0347.jpg: 640x640 (no detections), 11.7ms\n",
      "Speed: 2.0ms preprocess, 11.7ms inference, 2.1ms postprocess per image at shape (1, 3, 640, 640)\n",
      "\n",
      "image 1/1 D:\\Code\\CBCT_Reconstruction_ICP\\data\\03\\adaptive_threshold_jpg\\03_slice_0348.jpg: 640x640 (no detections), 13.2ms\n",
      "Speed: 2.4ms preprocess, 13.2ms inference, 0.0ms postprocess per image at shape (1, 3, 640, 640)\n",
      "\n",
      "image 1/1 D:\\Code\\CBCT_Reconstruction_ICP\\data\\03\\adaptive_threshold_jpg\\03_slice_0349.jpg: 640x640 (no detections), 10.6ms\n",
      "Speed: 3.1ms preprocess, 10.6ms inference, 1.0ms postprocess per image at shape (1, 3, 640, 640)\n",
      "\n",
      "image 1/1 D:\\Code\\CBCT_Reconstruction_ICP\\data\\03\\adaptive_threshold_jpg\\03_slice_0350.jpg: 640x640 (no detections), 12.9ms\n",
      "Speed: 2.3ms preprocess, 12.9ms inference, 2.0ms postprocess per image at shape (1, 3, 640, 640)\n",
      "\n",
      "image 1/1 D:\\Code\\CBCT_Reconstruction_ICP\\data\\03\\adaptive_threshold_jpg\\03_slice_0351.jpg: 640x640 (no detections), 12.1ms\n",
      "Speed: 2.0ms preprocess, 12.1ms inference, 1.0ms postprocess per image at shape (1, 3, 640, 640)\n",
      "\n",
      "image 1/1 D:\\Code\\CBCT_Reconstruction_ICP\\data\\03\\adaptive_threshold_jpg\\03_slice_0352.jpg: 640x640 (no detections), 8.5ms\n",
      "Speed: 3.0ms preprocess, 8.5ms inference, 1.6ms postprocess per image at shape (1, 3, 640, 640)\n",
      "\n",
      "image 1/1 D:\\Code\\CBCT_Reconstruction_ICP\\data\\03\\adaptive_threshold_jpg\\03_slice_0353.jpg: 640x640 (no detections), 9.7ms\n",
      "Speed: 3.4ms preprocess, 9.7ms inference, 0.0ms postprocess per image at shape (1, 3, 640, 640)\n",
      "\n",
      "image 1/1 D:\\Code\\CBCT_Reconstruction_ICP\\data\\03\\adaptive_threshold_jpg\\03_slice_0354.jpg: 640x640 (no detections), 11.0ms\n",
      "Speed: 2.0ms preprocess, 11.0ms inference, 1.0ms postprocess per image at shape (1, 3, 640, 640)\n",
      "\n",
      "image 1/1 D:\\Code\\CBCT_Reconstruction_ICP\\data\\03\\adaptive_threshold_jpg\\03_slice_0355.jpg: 640x640 (no detections), 12.0ms\n",
      "Speed: 3.0ms preprocess, 12.0ms inference, 1.0ms postprocess per image at shape (1, 3, 640, 640)\n",
      "\n",
      "image 1/1 D:\\Code\\CBCT_Reconstruction_ICP\\data\\03\\adaptive_threshold_jpg\\03_slice_0356.jpg: 640x640 (no detections), 10.0ms\n",
      "Speed: 2.0ms preprocess, 10.0ms inference, 1.0ms postprocess per image at shape (1, 3, 640, 640)\n",
      "\n",
      "image 1/1 D:\\Code\\CBCT_Reconstruction_ICP\\data\\03\\adaptive_threshold_jpg\\03_slice_0357.jpg: 640x640 (no detections), 10.0ms\n",
      "Speed: 3.0ms preprocess, 10.0ms inference, 1.0ms postprocess per image at shape (1, 3, 640, 640)\n",
      "\n",
      "image 1/1 D:\\Code\\CBCT_Reconstruction_ICP\\data\\03\\adaptive_threshold_jpg\\03_slice_0358.jpg: 640x640 1 arch, 10.0ms\n",
      "Speed: 2.0ms preprocess, 10.0ms inference, 1.4ms postprocess per image at shape (1, 3, 640, 640)\n",
      "Skipped box with confidence: 0.34065043926239014 in image 03_slice_0358.jpg\n",
      "\n",
      "image 1/1 D:\\Code\\CBCT_Reconstruction_ICP\\data\\03\\adaptive_threshold_jpg\\03_slice_0359.jpg: 640x640 (no detections), 23.1ms\n",
      "Speed: 2.1ms preprocess, 23.1ms inference, 2.7ms postprocess per image at shape (1, 3, 640, 640)\n",
      "\n",
      "image 1/1 D:\\Code\\CBCT_Reconstruction_ICP\\data\\03\\adaptive_threshold_jpg\\03_slice_0360.jpg: 640x640 (no detections), 10.7ms\n",
      "Speed: 3.4ms preprocess, 10.7ms inference, 1.0ms postprocess per image at shape (1, 3, 640, 640)\n",
      "\n",
      "image 1/1 D:\\Code\\CBCT_Reconstruction_ICP\\data\\03\\adaptive_threshold_jpg\\03_slice_0361.jpg: 640x640 (no detections), 11.0ms\n",
      "Speed: 2.4ms preprocess, 11.0ms inference, 1.0ms postprocess per image at shape (1, 3, 640, 640)\n",
      "\n",
      "image 1/1 D:\\Code\\CBCT_Reconstruction_ICP\\data\\03\\adaptive_threshold_jpg\\03_slice_0362.jpg: 640x640 (no detections), 10.0ms\n",
      "Speed: 3.0ms preprocess, 10.0ms inference, 2.0ms postprocess per image at shape (1, 3, 640, 640)\n",
      "\n",
      "image 1/1 D:\\Code\\CBCT_Reconstruction_ICP\\data\\03\\adaptive_threshold_jpg\\03_slice_0363.jpg: 640x640 (no detections), 8.7ms\n",
      "Speed: 3.0ms preprocess, 8.7ms inference, 0.0ms postprocess per image at shape (1, 3, 640, 640)\n",
      "\n",
      "image 1/1 D:\\Code\\CBCT_Reconstruction_ICP\\data\\03\\adaptive_threshold_jpg\\03_slice_0364.jpg: 640x640 (no detections), 8.6ms\n",
      "Speed: 3.7ms preprocess, 8.6ms inference, 1.1ms postprocess per image at shape (1, 3, 640, 640)\n",
      "\n",
      "image 1/1 D:\\Code\\CBCT_Reconstruction_ICP\\data\\03\\adaptive_threshold_jpg\\03_slice_0365.jpg: 640x640 (no detections), 11.5ms\n",
      "Speed: 2.8ms preprocess, 11.5ms inference, 1.0ms postprocess per image at shape (1, 3, 640, 640)\n",
      "\n",
      "image 1/1 D:\\Code\\CBCT_Reconstruction_ICP\\data\\03\\adaptive_threshold_jpg\\03_slice_0366.jpg: 640x640 (no detections), 11.8ms\n",
      "Speed: 2.6ms preprocess, 11.8ms inference, 1.0ms postprocess per image at shape (1, 3, 640, 640)\n",
      "\n",
      "image 1/1 D:\\Code\\CBCT_Reconstruction_ICP\\data\\03\\adaptive_threshold_jpg\\03_slice_0367.jpg: 640x640 (no detections), 11.2ms\n",
      "Speed: 3.0ms preprocess, 11.2ms inference, 2.0ms postprocess per image at shape (1, 3, 640, 640)\n",
      "\n",
      "image 1/1 D:\\Code\\CBCT_Reconstruction_ICP\\data\\03\\adaptive_threshold_jpg\\03_slice_0368.jpg: 640x640 (no detections), 9.5ms\n",
      "Speed: 3.0ms preprocess, 9.5ms inference, 1.0ms postprocess per image at shape (1, 3, 640, 640)\n",
      "\n",
      "image 1/1 D:\\Code\\CBCT_Reconstruction_ICP\\data\\03\\adaptive_threshold_jpg\\03_slice_0369.jpg: 640x640 (no detections), 12.7ms\n",
      "Speed: 3.0ms preprocess, 12.7ms inference, 0.0ms postprocess per image at shape (1, 3, 640, 640)\n",
      "\n",
      "image 1/1 D:\\Code\\CBCT_Reconstruction_ICP\\data\\03\\adaptive_threshold_jpg\\03_slice_0370.jpg: 640x640 (no detections), 9.6ms\n",
      "Speed: 3.4ms preprocess, 9.6ms inference, 1.7ms postprocess per image at shape (1, 3, 640, 640)\n",
      "\n",
      "image 1/1 D:\\Code\\CBCT_Reconstruction_ICP\\data\\03\\adaptive_threshold_jpg\\03_slice_0371.jpg: 640x640 (no detections), 9.6ms\n",
      "Speed: 3.4ms preprocess, 9.6ms inference, 1.5ms postprocess per image at shape (1, 3, 640, 640)\n",
      "\n",
      "image 1/1 D:\\Code\\CBCT_Reconstruction_ICP\\data\\03\\adaptive_threshold_jpg\\03_slice_0372.jpg: 640x640 (no detections), 13.5ms\n",
      "Speed: 3.0ms preprocess, 13.5ms inference, 1.0ms postprocess per image at shape (1, 3, 640, 640)\n",
      "\n",
      "image 1/1 D:\\Code\\CBCT_Reconstruction_ICP\\data\\03\\adaptive_threshold_jpg\\03_slice_0373.jpg: 640x640 (no detections), 7.9ms\n",
      "Speed: 3.5ms preprocess, 7.9ms inference, 0.0ms postprocess per image at shape (1, 3, 640, 640)\n",
      "\n",
      "image 1/1 D:\\Code\\CBCT_Reconstruction_ICP\\data\\03\\adaptive_threshold_jpg\\03_slice_0374.jpg: 640x640 (no detections), 9.5ms\n",
      "Speed: 3.0ms preprocess, 9.5ms inference, 1.4ms postprocess per image at shape (1, 3, 640, 640)\n",
      "\n",
      "image 1/1 D:\\Code\\CBCT_Reconstruction_ICP\\data\\03\\adaptive_threshold_jpg\\03_slice_0375.jpg: 640x640 (no detections), 12.0ms\n",
      "Speed: 3.2ms preprocess, 12.0ms inference, 1.0ms postprocess per image at shape (1, 3, 640, 640)\n",
      "\n",
      "image 1/1 D:\\Code\\CBCT_Reconstruction_ICP\\data\\03\\adaptive_threshold_jpg\\03_slice_0376.jpg: 640x640 (no detections), 9.5ms\n",
      "Speed: 3.0ms preprocess, 9.5ms inference, 1.0ms postprocess per image at shape (1, 3, 640, 640)\n",
      "\n",
      "image 1/1 D:\\Code\\CBCT_Reconstruction_ICP\\data\\03\\adaptive_threshold_jpg\\03_slice_0377.jpg: 640x640 (no detections), 9.6ms\n",
      "Speed: 3.1ms preprocess, 9.6ms inference, 0.0ms postprocess per image at shape (1, 3, 640, 640)\n",
      "\n",
      "image 1/1 D:\\Code\\CBCT_Reconstruction_ICP\\data\\03\\adaptive_threshold_jpg\\03_slice_0378.jpg: 640x640 (no detections), 11.3ms\n",
      "Speed: 2.4ms preprocess, 11.3ms inference, 1.0ms postprocess per image at shape (1, 3, 640, 640)\n",
      "\n",
      "image 1/1 D:\\Code\\CBCT_Reconstruction_ICP\\data\\03\\adaptive_threshold_jpg\\03_slice_0379.jpg: 640x640 (no detections), 10.1ms\n",
      "Speed: 2.0ms preprocess, 10.1ms inference, 1.0ms postprocess per image at shape (1, 3, 640, 640)\n",
      "\n",
      "image 1/1 D:\\Code\\CBCT_Reconstruction_ICP\\data\\03\\adaptive_threshold_jpg\\03_slice_0380.jpg: 640x640 (no detections), 14.0ms\n",
      "Speed: 3.2ms preprocess, 14.0ms inference, 1.0ms postprocess per image at shape (1, 3, 640, 640)\n",
      "\n",
      "image 1/1 D:\\Code\\CBCT_Reconstruction_ICP\\data\\03\\adaptive_threshold_jpg\\03_slice_0381.jpg: 640x640 (no detections), 12.0ms\n",
      "Speed: 3.0ms preprocess, 12.0ms inference, 1.0ms postprocess per image at shape (1, 3, 640, 640)\n",
      "\n",
      "image 1/1 D:\\Code\\CBCT_Reconstruction_ICP\\data\\03\\adaptive_threshold_jpg\\03_slice_0382.jpg: 640x640 (no detections), 8.0ms\n",
      "Speed: 2.8ms preprocess, 8.0ms inference, 2.0ms postprocess per image at shape (1, 3, 640, 640)\n",
      "\n",
      "image 1/1 D:\\Code\\CBCT_Reconstruction_ICP\\data\\03\\adaptive_threshold_jpg\\03_slice_0383.jpg: 640x640 (no detections), 10.1ms\n",
      "Speed: 3.0ms preprocess, 10.1ms inference, 1.0ms postprocess per image at shape (1, 3, 640, 640)\n",
      "\n",
      "image 1/1 D:\\Code\\CBCT_Reconstruction_ICP\\data\\03\\adaptive_threshold_jpg\\03_slice_0384.jpg: 640x640 (no detections), 11.0ms\n",
      "Speed: 2.0ms preprocess, 11.0ms inference, 1.0ms postprocess per image at shape (1, 3, 640, 640)\n",
      "\n",
      "image 1/1 D:\\Code\\CBCT_Reconstruction_ICP\\data\\03\\adaptive_threshold_jpg\\03_slice_0385.jpg: 640x640 (no detections), 10.4ms\n",
      "Speed: 3.0ms preprocess, 10.4ms inference, 1.0ms postprocess per image at shape (1, 3, 640, 640)\n",
      "\n",
      "image 1/1 D:\\Code\\CBCT_Reconstruction_ICP\\data\\03\\adaptive_threshold_jpg\\03_slice_0386.jpg: 640x640 (no detections), 9.3ms\n",
      "Speed: 2.0ms preprocess, 9.3ms inference, 1.0ms postprocess per image at shape (1, 3, 640, 640)\n",
      "\n",
      "image 1/1 D:\\Code\\CBCT_Reconstruction_ICP\\data\\03\\adaptive_threshold_jpg\\03_slice_0387.jpg: 640x640 (no detections), 9.4ms\n",
      "Speed: 2.6ms preprocess, 9.4ms inference, 2.0ms postprocess per image at shape (1, 3, 640, 640)\n",
      "\n",
      "image 1/1 D:\\Code\\CBCT_Reconstruction_ICP\\data\\03\\adaptive_threshold_jpg\\03_slice_0388.jpg: 640x640 (no detections), 8.5ms\n",
      "Speed: 2.0ms preprocess, 8.5ms inference, 1.5ms postprocess per image at shape (1, 3, 640, 640)\n",
      "\n",
      "image 1/1 D:\\Code\\CBCT_Reconstruction_ICP\\data\\03\\adaptive_threshold_jpg\\03_slice_0389.jpg: 640x640 (no detections), 10.0ms\n",
      "Speed: 2.0ms preprocess, 10.0ms inference, 0.0ms postprocess per image at shape (1, 3, 640, 640)\n",
      "\n",
      "image 1/1 D:\\Code\\CBCT_Reconstruction_ICP\\data\\03\\adaptive_threshold_jpg\\03_slice_0390.jpg: 640x640 (no detections), 9.0ms\n",
      "Speed: 2.6ms preprocess, 9.0ms inference, 1.0ms postprocess per image at shape (1, 3, 640, 640)\n",
      "\n",
      "image 1/1 D:\\Code\\CBCT_Reconstruction_ICP\\data\\03\\adaptive_threshold_jpg\\03_slice_0391.jpg: 640x640 (no detections), 9.0ms\n",
      "Speed: 3.0ms preprocess, 9.0ms inference, 1.5ms postprocess per image at shape (1, 3, 640, 640)\n",
      "\n",
      "image 1/1 D:\\Code\\CBCT_Reconstruction_ICP\\data\\03\\adaptive_threshold_jpg\\03_slice_0392.jpg: 640x640 (no detections), 16.8ms\n",
      "Speed: 2.1ms preprocess, 16.8ms inference, 2.0ms postprocess per image at shape (1, 3, 640, 640)\n",
      "\n",
      "image 1/1 D:\\Code\\CBCT_Reconstruction_ICP\\data\\03\\adaptive_threshold_jpg\\03_slice_0393.jpg: 640x640 (no detections), 10.5ms\n",
      "Speed: 2.3ms preprocess, 10.5ms inference, 1.0ms postprocess per image at shape (1, 3, 640, 640)\n",
      "\n",
      "image 1/1 D:\\Code\\CBCT_Reconstruction_ICP\\data\\03\\adaptive_threshold_jpg\\03_slice_0394.jpg: 640x640 (no detections), 8.3ms\n",
      "Speed: 3.0ms preprocess, 8.3ms inference, 1.0ms postprocess per image at shape (1, 3, 640, 640)\n",
      "\n",
      "image 1/1 D:\\Code\\CBCT_Reconstruction_ICP\\data\\03\\adaptive_threshold_jpg\\03_slice_0395.jpg: 640x640 (no detections), 9.2ms\n",
      "Speed: 3.0ms preprocess, 9.2ms inference, 0.0ms postprocess per image at shape (1, 3, 640, 640)\n",
      "\n",
      "image 1/1 D:\\Code\\CBCT_Reconstruction_ICP\\data\\03\\adaptive_threshold_jpg\\03_slice_0396.jpg: 640x640 (no detections), 10.0ms\n",
      "Speed: 3.0ms preprocess, 10.0ms inference, 1.0ms postprocess per image at shape (1, 3, 640, 640)\n",
      "\n",
      "image 1/1 D:\\Code\\CBCT_Reconstruction_ICP\\data\\03\\adaptive_threshold_jpg\\03_slice_0397.jpg: 640x640 (no detections), 10.0ms\n",
      "Speed: 3.0ms preprocess, 10.0ms inference, 1.0ms postprocess per image at shape (1, 3, 640, 640)\n",
      "\n",
      "image 1/1 D:\\Code\\CBCT_Reconstruction_ICP\\data\\03\\adaptive_threshold_jpg\\03_slice_0398.jpg: 640x640 (no detections), 8.8ms\n",
      "Speed: 3.0ms preprocess, 8.8ms inference, 2.5ms postprocess per image at shape (1, 3, 640, 640)\n",
      "\n",
      "image 1/1 D:\\Code\\CBCT_Reconstruction_ICP\\data\\03\\adaptive_threshold_jpg\\03_slice_0399.jpg: 640x640 (no detections), 12.6ms\n",
      "Speed: 3.1ms preprocess, 12.6ms inference, 1.0ms postprocess per image at shape (1, 3, 640, 640)\n",
      "\n",
      "image 1/1 D:\\Code\\CBCT_Reconstruction_ICP\\data\\03\\adaptive_threshold_jpg\\03_slice_0400.jpg: 640x640 (no detections), 8.7ms\n",
      "Speed: 3.0ms preprocess, 8.7ms inference, 2.0ms postprocess per image at shape (1, 3, 640, 640)\n",
      "\n",
      "image 1/1 D:\\Code\\CBCT_Reconstruction_ICP\\data\\03\\adaptive_threshold_jpg\\03_slice_0401.jpg: 640x640 (no detections), 12.7ms\n",
      "Speed: 3.0ms preprocess, 12.7ms inference, 1.0ms postprocess per image at shape (1, 3, 640, 640)\n",
      "\n",
      "image 1/1 D:\\Code\\CBCT_Reconstruction_ICP\\data\\03\\adaptive_threshold_jpg\\03_slice_0402.jpg: 640x640 (no detections), 8.2ms\n",
      "Speed: 3.0ms preprocess, 8.2ms inference, 1.1ms postprocess per image at shape (1, 3, 640, 640)\n",
      "\n",
      "image 1/1 D:\\Code\\CBCT_Reconstruction_ICP\\data\\03\\adaptive_threshold_jpg\\03_slice_0403.jpg: 640x640 (no detections), 11.8ms\n",
      "Speed: 3.6ms preprocess, 11.8ms inference, 1.5ms postprocess per image at shape (1, 3, 640, 640)\n",
      "\n",
      "image 1/1 D:\\Code\\CBCT_Reconstruction_ICP\\data\\03\\adaptive_threshold_jpg\\03_slice_0404.jpg: 640x640 (no detections), 9.0ms\n",
      "Speed: 3.0ms preprocess, 9.0ms inference, 2.0ms postprocess per image at shape (1, 3, 640, 640)\n",
      "\n",
      "image 1/1 D:\\Code\\CBCT_Reconstruction_ICP\\data\\03\\adaptive_threshold_jpg\\03_slice_0405.jpg: 640x640 (no detections), 12.5ms\n",
      "Speed: 3.0ms preprocess, 12.5ms inference, 2.0ms postprocess per image at shape (1, 3, 640, 640)\n",
      "\n",
      "image 1/1 D:\\Code\\CBCT_Reconstruction_ICP\\data\\03\\adaptive_threshold_jpg\\03_slice_0406.jpg: 640x640 (no detections), 11.3ms\n",
      "Speed: 3.0ms preprocess, 11.3ms inference, 1.1ms postprocess per image at shape (1, 3, 640, 640)\n",
      "\n",
      "image 1/1 D:\\Code\\CBCT_Reconstruction_ICP\\data\\03\\adaptive_threshold_jpg\\03_slice_0407.jpg: 640x640 (no detections), 8.2ms\n",
      "Speed: 3.0ms preprocess, 8.2ms inference, 1.0ms postprocess per image at shape (1, 3, 640, 640)\n",
      "\n",
      "image 1/1 D:\\Code\\CBCT_Reconstruction_ICP\\data\\03\\adaptive_threshold_jpg\\03_slice_0408.jpg: 640x640 (no detections), 9.8ms\n",
      "Speed: 2.5ms preprocess, 9.8ms inference, 2.0ms postprocess per image at shape (1, 3, 640, 640)\n",
      "\n",
      "image 1/1 D:\\Code\\CBCT_Reconstruction_ICP\\data\\03\\adaptive_threshold_jpg\\03_slice_0409.jpg: 640x640 (no detections), 10.5ms\n",
      "Speed: 2.5ms preprocess, 10.5ms inference, 0.0ms postprocess per image at shape (1, 3, 640, 640)\n",
      "\n",
      "image 1/1 D:\\Code\\CBCT_Reconstruction_ICP\\data\\03\\adaptive_threshold_jpg\\03_slice_0410.jpg: 640x640 (no detections), 11.5ms\n",
      "Speed: 3.0ms preprocess, 11.5ms inference, 1.0ms postprocess per image at shape (1, 3, 640, 640)\n",
      "\n",
      "image 1/1 D:\\Code\\CBCT_Reconstruction_ICP\\data\\03\\adaptive_threshold_jpg\\03_slice_0411.jpg: 640x640 (no detections), 9.5ms\n",
      "Speed: 2.5ms preprocess, 9.5ms inference, 0.0ms postprocess per image at shape (1, 3, 640, 640)\n",
      "\n",
      "image 1/1 D:\\Code\\CBCT_Reconstruction_ICP\\data\\03\\adaptive_threshold_jpg\\03_slice_0412.jpg: 640x640 (no detections), 9.0ms\n",
      "Speed: 2.0ms preprocess, 9.0ms inference, 1.2ms postprocess per image at shape (1, 3, 640, 640)\n",
      "\n",
      "image 1/1 D:\\Code\\CBCT_Reconstruction_ICP\\data\\03\\adaptive_threshold_jpg\\03_slice_0413.jpg: 640x640 (no detections), 8.5ms\n",
      "Speed: 3.5ms preprocess, 8.5ms inference, 0.0ms postprocess per image at shape (1, 3, 640, 640)\n",
      "\n",
      "image 1/1 D:\\Code\\CBCT_Reconstruction_ICP\\data\\03\\adaptive_threshold_jpg\\03_slice_0414.jpg: 640x640 (no detections), 10.1ms\n",
      "Speed: 3.0ms preprocess, 10.1ms inference, 1.0ms postprocess per image at shape (1, 3, 640, 640)\n",
      "\n",
      "image 1/1 D:\\Code\\CBCT_Reconstruction_ICP\\data\\03\\adaptive_threshold_jpg\\03_slice_0415.jpg: 640x640 (no detections), 9.7ms\n",
      "Speed: 3.4ms preprocess, 9.7ms inference, 1.0ms postprocess per image at shape (1, 3, 640, 640)\n",
      "\n",
      "image 1/1 D:\\Code\\CBCT_Reconstruction_ICP\\data\\03\\adaptive_threshold_jpg\\03_slice_0416.jpg: 640x640 (no detections), 11.0ms\n",
      "Speed: 3.0ms preprocess, 11.0ms inference, 1.1ms postprocess per image at shape (1, 3, 640, 640)\n",
      "\n",
      "image 1/1 D:\\Code\\CBCT_Reconstruction_ICP\\data\\03\\adaptive_threshold_jpg\\03_slice_0417.jpg: 640x640 (no detections), 11.1ms\n",
      "Speed: 3.6ms preprocess, 11.1ms inference, 0.0ms postprocess per image at shape (1, 3, 640, 640)\n",
      "\n",
      "image 1/1 D:\\Code\\CBCT_Reconstruction_ICP\\data\\03\\adaptive_threshold_jpg\\03_slice_0418.jpg: 640x640 (no detections), 8.0ms\n",
      "Speed: 2.3ms preprocess, 8.0ms inference, 1.1ms postprocess per image at shape (1, 3, 640, 640)\n",
      "\n",
      "image 1/1 D:\\Code\\CBCT_Reconstruction_ICP\\data\\03\\adaptive_threshold_jpg\\03_slice_0419.jpg: 640x640 (no detections), 9.5ms\n",
      "Speed: 3.2ms preprocess, 9.5ms inference, 1.0ms postprocess per image at shape (1, 3, 640, 640)\n",
      "\n",
      "image 1/1 D:\\Code\\CBCT_Reconstruction_ICP\\data\\03\\adaptive_threshold_jpg\\03_slice_0420.jpg: 640x640 (no detections), 9.3ms\n",
      "Speed: 3.3ms preprocess, 9.3ms inference, 1.0ms postprocess per image at shape (1, 3, 640, 640)\n",
      "\n",
      "image 1/1 D:\\Code\\CBCT_Reconstruction_ICP\\data\\03\\adaptive_threshold_jpg\\03_slice_0421.jpg: 640x640 (no detections), 10.3ms\n",
      "Speed: 3.4ms preprocess, 10.3ms inference, 1.0ms postprocess per image at shape (1, 3, 640, 640)\n",
      "\n",
      "image 1/1 D:\\Code\\CBCT_Reconstruction_ICP\\data\\03\\adaptive_threshold_jpg\\03_slice_0422.jpg: 640x640 (no detections), 9.5ms\n",
      "Speed: 2.5ms preprocess, 9.5ms inference, 1.0ms postprocess per image at shape (1, 3, 640, 640)\n",
      "\n",
      "image 1/1 D:\\Code\\CBCT_Reconstruction_ICP\\data\\03\\adaptive_threshold_jpg\\03_slice_0423.jpg: 640x640 (no detections), 14.5ms\n",
      "Speed: 3.0ms preprocess, 14.5ms inference, 0.0ms postprocess per image at shape (1, 3, 640, 640)\n",
      "\n",
      "image 1/1 D:\\Code\\CBCT_Reconstruction_ICP\\data\\03\\adaptive_threshold_jpg\\03_slice_0424.jpg: 640x640 (no detections), 10.0ms\n",
      "Speed: 3.0ms preprocess, 10.0ms inference, 1.0ms postprocess per image at shape (1, 3, 640, 640)\n",
      "\n",
      "image 1/1 D:\\Code\\CBCT_Reconstruction_ICP\\data\\03\\adaptive_threshold_jpg\\03_slice_0425.jpg: 640x640 (no detections), 10.0ms\n",
      "Speed: 2.5ms preprocess, 10.0ms inference, 1.0ms postprocess per image at shape (1, 3, 640, 640)\n",
      "\n",
      "image 1/1 D:\\Code\\CBCT_Reconstruction_ICP\\data\\03\\adaptive_threshold_jpg\\03_slice_0426.jpg: 640x640 (no detections), 9.3ms\n",
      "Speed: 3.5ms preprocess, 9.3ms inference, 1.0ms postprocess per image at shape (1, 3, 640, 640)\n",
      "\n",
      "image 1/1 D:\\Code\\CBCT_Reconstruction_ICP\\data\\03\\adaptive_threshold_jpg\\03_slice_0427.jpg: 640x640 (no detections), 9.0ms\n",
      "Speed: 3.0ms preprocess, 9.0ms inference, 0.0ms postprocess per image at shape (1, 3, 640, 640)\n",
      "\n",
      "image 1/1 D:\\Code\\CBCT_Reconstruction_ICP\\data\\03\\adaptive_threshold_jpg\\03_slice_0428.jpg: 640x640 (no detections), 11.1ms\n",
      "Speed: 2.5ms preprocess, 11.1ms inference, 1.0ms postprocess per image at shape (1, 3, 640, 640)\n",
      "\n",
      "image 1/1 D:\\Code\\CBCT_Reconstruction_ICP\\data\\03\\adaptive_threshold_jpg\\03_slice_0429.jpg: 640x640 (no detections), 10.8ms\n",
      "Speed: 3.0ms preprocess, 10.8ms inference, 1.0ms postprocess per image at shape (1, 3, 640, 640)\n",
      "\n",
      "image 1/1 D:\\Code\\CBCT_Reconstruction_ICP\\data\\03\\adaptive_threshold_jpg\\03_slice_0430.jpg: 640x640 (no detections), 9.0ms\n",
      "Speed: 3.5ms preprocess, 9.0ms inference, 1.0ms postprocess per image at shape (1, 3, 640, 640)\n",
      "\n",
      "image 1/1 D:\\Code\\CBCT_Reconstruction_ICP\\data\\03\\adaptive_threshold_jpg\\03_slice_0431.jpg: 640x640 (no detections), 10.8ms\n",
      "Speed: 2.8ms preprocess, 10.8ms inference, 1.0ms postprocess per image at shape (1, 3, 640, 640)\n",
      "\n",
      "image 1/1 D:\\Code\\CBCT_Reconstruction_ICP\\data\\03\\adaptive_threshold_jpg\\03_slice_0432.jpg: 640x640 (no detections), 9.6ms\n",
      "Speed: 3.1ms preprocess, 9.6ms inference, 1.1ms postprocess per image at shape (1, 3, 640, 640)\n",
      "\n",
      "image 1/1 D:\\Code\\CBCT_Reconstruction_ICP\\data\\03\\adaptive_threshold_jpg\\03_slice_0433.jpg: 640x640 (no detections), 8.7ms\n",
      "Speed: 3.5ms preprocess, 8.7ms inference, 1.2ms postprocess per image at shape (1, 3, 640, 640)\n",
      "\n",
      "image 1/1 D:\\Code\\CBCT_Reconstruction_ICP\\data\\03\\adaptive_threshold_jpg\\03_slice_0434.jpg: 640x640 (no detections), 9.0ms\n",
      "Speed: 3.0ms preprocess, 9.0ms inference, 1.0ms postprocess per image at shape (1, 3, 640, 640)\n",
      "\n",
      "image 1/1 D:\\Code\\CBCT_Reconstruction_ICP\\data\\03\\adaptive_threshold_jpg\\03_slice_0435.jpg: 640x640 (no detections), 16.0ms\n",
      "Speed: 2.0ms preprocess, 16.0ms inference, 1.8ms postprocess per image at shape (1, 3, 640, 640)\n",
      "\n",
      "image 1/1 D:\\Code\\CBCT_Reconstruction_ICP\\data\\03\\adaptive_threshold_jpg\\03_slice_0436.jpg: 640x640 (no detections), 9.9ms\n",
      "Speed: 2.5ms preprocess, 9.9ms inference, 1.4ms postprocess per image at shape (1, 3, 640, 640)\n",
      "\n",
      "image 1/1 D:\\Code\\CBCT_Reconstruction_ICP\\data\\03\\adaptive_threshold_jpg\\03_slice_0437.jpg: 640x640 (no detections), 8.6ms\n",
      "Speed: 2.0ms preprocess, 8.6ms inference, 1.4ms postprocess per image at shape (1, 3, 640, 640)\n",
      "\n",
      "image 1/1 D:\\Code\\CBCT_Reconstruction_ICP\\data\\03\\adaptive_threshold_jpg\\03_slice_0438.jpg: 640x640 (no detections), 8.8ms\n",
      "Speed: 3.3ms preprocess, 8.8ms inference, 0.0ms postprocess per image at shape (1, 3, 640, 640)\n",
      "\n",
      "image 1/1 D:\\Code\\CBCT_Reconstruction_ICP\\data\\03\\adaptive_threshold_jpg\\03_slice_0439.jpg: 640x640 (no detections), 10.2ms\n",
      "Speed: 3.0ms preprocess, 10.2ms inference, 1.2ms postprocess per image at shape (1, 3, 640, 640)\n",
      "\n",
      "image 1/1 D:\\Code\\CBCT_Reconstruction_ICP\\data\\03\\adaptive_threshold_jpg\\03_slice_0440.jpg: 640x640 (no detections), 10.3ms\n",
      "Speed: 2.1ms preprocess, 10.3ms inference, 2.5ms postprocess per image at shape (1, 3, 640, 640)\n",
      "\n",
      "image 1/1 D:\\Code\\CBCT_Reconstruction_ICP\\data\\03\\adaptive_threshold_jpg\\03_slice_0441.jpg: 640x640 (no detections), 8.0ms\n",
      "Speed: 3.0ms preprocess, 8.0ms inference, 1.0ms postprocess per image at shape (1, 3, 640, 640)\n",
      "\n",
      "image 1/1 D:\\Code\\CBCT_Reconstruction_ICP\\data\\03\\adaptive_threshold_jpg\\03_slice_0442.jpg: 640x640 (no detections), 8.7ms\n",
      "Speed: 2.9ms preprocess, 8.7ms inference, 2.0ms postprocess per image at shape (1, 3, 640, 640)\n",
      "\n",
      "image 1/1 D:\\Code\\CBCT_Reconstruction_ICP\\data\\03\\adaptive_threshold_jpg\\03_slice_0443.jpg: 640x640 (no detections), 9.6ms\n",
      "Speed: 2.0ms preprocess, 9.6ms inference, 2.0ms postprocess per image at shape (1, 3, 640, 640)\n",
      "\n",
      "image 1/1 D:\\Code\\CBCT_Reconstruction_ICP\\data\\03\\adaptive_threshold_jpg\\03_slice_0444.jpg: 640x640 (no detections), 21.0ms\n",
      "Speed: 3.0ms preprocess, 21.0ms inference, 0.0ms postprocess per image at shape (1, 3, 640, 640)\n",
      "\n",
      "image 1/1 D:\\Code\\CBCT_Reconstruction_ICP\\data\\03\\adaptive_threshold_jpg\\03_slice_0445.jpg: 640x640 (no detections), 10.3ms\n",
      "Speed: 2.0ms preprocess, 10.3ms inference, 1.0ms postprocess per image at shape (1, 3, 640, 640)\n",
      "\n",
      "image 1/1 D:\\Code\\CBCT_Reconstruction_ICP\\data\\03\\adaptive_threshold_jpg\\03_slice_0446.jpg: 640x640 (no detections), 9.8ms\n",
      "Speed: 3.7ms preprocess, 9.8ms inference, 1.0ms postprocess per image at shape (1, 3, 640, 640)\n",
      "\n",
      "image 1/1 D:\\Code\\CBCT_Reconstruction_ICP\\data\\03\\adaptive_threshold_jpg\\03_slice_0447.jpg: 640x640 (no detections), 8.2ms\n",
      "Speed: 3.1ms preprocess, 8.2ms inference, 1.0ms postprocess per image at shape (1, 3, 640, 640)\n",
      "\n",
      "image 1/1 D:\\Code\\CBCT_Reconstruction_ICP\\data\\03\\adaptive_threshold_jpg\\03_slice_0448.jpg: 640x640 (no detections), 10.3ms\n",
      "Speed: 2.0ms preprocess, 10.3ms inference, 1.0ms postprocess per image at shape (1, 3, 640, 640)\n",
      "\n",
      "image 1/1 D:\\Code\\CBCT_Reconstruction_ICP\\data\\03\\adaptive_threshold_jpg\\03_slice_0449.jpg: 640x640 (no detections), 13.3ms\n",
      "Speed: 3.0ms preprocess, 13.3ms inference, 1.0ms postprocess per image at shape (1, 3, 640, 640)\n",
      "\n",
      "image 1/1 D:\\Code\\CBCT_Reconstruction_ICP\\data\\03\\adaptive_threshold_jpg\\03_slice_0450.jpg: 640x640 (no detections), 9.1ms\n",
      "Speed: 1.9ms preprocess, 9.1ms inference, 1.0ms postprocess per image at shape (1, 3, 640, 640)\n",
      "\n",
      "image 1/1 D:\\Code\\CBCT_Reconstruction_ICP\\data\\03\\adaptive_threshold_jpg\\03_slice_0451.jpg: 640x640 (no detections), 10.1ms\n",
      "Speed: 3.9ms preprocess, 10.1ms inference, 1.0ms postprocess per image at shape (1, 3, 640, 640)\n",
      "\n",
      "image 1/1 D:\\Code\\CBCT_Reconstruction_ICP\\data\\03\\adaptive_threshold_jpg\\03_slice_0452.jpg: 640x640 (no detections), 8.8ms\n",
      "Speed: 3.0ms preprocess, 8.8ms inference, 1.0ms postprocess per image at shape (1, 3, 640, 640)\n",
      "\n",
      "image 1/1 D:\\Code\\CBCT_Reconstruction_ICP\\data\\03\\adaptive_threshold_jpg\\03_slice_0453.jpg: 640x640 (no detections), 9.0ms\n",
      "Speed: 2.9ms preprocess, 9.0ms inference, 1.0ms postprocess per image at shape (1, 3, 640, 640)\n",
      "\n",
      "image 1/1 D:\\Code\\CBCT_Reconstruction_ICP\\data\\03\\adaptive_threshold_jpg\\03_slice_0454.jpg: 640x640 (no detections), 9.9ms\n",
      "Speed: 3.0ms preprocess, 9.9ms inference, 1.1ms postprocess per image at shape (1, 3, 640, 640)\n",
      "\n",
      "image 1/1 D:\\Code\\CBCT_Reconstruction_ICP\\data\\03\\adaptive_threshold_jpg\\03_slice_0455.jpg: 640x640 (no detections), 9.9ms\n",
      "Speed: 3.0ms preprocess, 9.9ms inference, 0.0ms postprocess per image at shape (1, 3, 640, 640)\n",
      "\n",
      "image 1/1 D:\\Code\\CBCT_Reconstruction_ICP\\data\\03\\adaptive_threshold_jpg\\03_slice_0456.jpg: 640x640 (no detections), 9.2ms\n",
      "Speed: 3.0ms preprocess, 9.2ms inference, 1.0ms postprocess per image at shape (1, 3, 640, 640)\n",
      "\n",
      "image 1/1 D:\\Code\\CBCT_Reconstruction_ICP\\data\\03\\adaptive_threshold_jpg\\03_slice_0457.jpg: 640x640 (no detections), 9.0ms\n",
      "Speed: 2.4ms preprocess, 9.0ms inference, 1.0ms postprocess per image at shape (1, 3, 640, 640)\n",
      "\n",
      "image 1/1 D:\\Code\\CBCT_Reconstruction_ICP\\data\\03\\adaptive_threshold_jpg\\03_slice_0458.jpg: 640x640 (no detections), 8.6ms\n",
      "Speed: 2.9ms preprocess, 8.6ms inference, 1.9ms postprocess per image at shape (1, 3, 640, 640)\n",
      "\n",
      "image 1/1 D:\\Code\\CBCT_Reconstruction_ICP\\data\\03\\adaptive_threshold_jpg\\03_slice_0459.jpg: 640x640 (no detections), 11.8ms\n",
      "Speed: 2.0ms preprocess, 11.8ms inference, 1.0ms postprocess per image at shape (1, 3, 640, 640)\n",
      "\n",
      "image 1/1 D:\\Code\\CBCT_Reconstruction_ICP\\data\\03\\adaptive_threshold_jpg\\03_slice_0460.jpg: 640x640 (no detections), 10.4ms\n",
      "Speed: 3.0ms preprocess, 10.4ms inference, 1.1ms postprocess per image at shape (1, 3, 640, 640)\n",
      "\n",
      "image 1/1 D:\\Code\\CBCT_Reconstruction_ICP\\data\\03\\adaptive_threshold_jpg\\03_slice_0461.jpg: 640x640 (no detections), 9.0ms\n",
      "Speed: 3.0ms preprocess, 9.0ms inference, 2.0ms postprocess per image at shape (1, 3, 640, 640)\n",
      "\n",
      "image 1/1 D:\\Code\\CBCT_Reconstruction_ICP\\data\\03\\adaptive_threshold_jpg\\03_slice_0462.jpg: 640x640 (no detections), 12.2ms\n",
      "Speed: 2.3ms preprocess, 12.2ms inference, 1.0ms postprocess per image at shape (1, 3, 640, 640)\n",
      "\n",
      "image 1/1 D:\\Code\\CBCT_Reconstruction_ICP\\data\\03\\adaptive_threshold_jpg\\03_slice_0463.jpg: 640x640 (no detections), 9.8ms\n",
      "Speed: 3.0ms preprocess, 9.8ms inference, 2.0ms postprocess per image at shape (1, 3, 640, 640)\n",
      "\n",
      "image 1/1 D:\\Code\\CBCT_Reconstruction_ICP\\data\\03\\adaptive_threshold_jpg\\03_slice_0464.jpg: 640x640 (no detections), 11.0ms\n",
      "Speed: 3.0ms preprocess, 11.0ms inference, 0.0ms postprocess per image at shape (1, 3, 640, 640)\n",
      "\n",
      "image 1/1 D:\\Code\\CBCT_Reconstruction_ICP\\data\\03\\adaptive_threshold_jpg\\03_slice_0465.jpg: 640x640 (no detections), 13.3ms\n",
      "Speed: 2.5ms preprocess, 13.3ms inference, 1.0ms postprocess per image at shape (1, 3, 640, 640)\n",
      "\n",
      "image 1/1 D:\\Code\\CBCT_Reconstruction_ICP\\data\\03\\adaptive_threshold_jpg\\03_slice_0466.jpg: 640x640 (no detections), 11.4ms\n",
      "Speed: 3.1ms preprocess, 11.4ms inference, 2.1ms postprocess per image at shape (1, 3, 640, 640)\n",
      "\n",
      "image 1/1 D:\\Code\\CBCT_Reconstruction_ICP\\data\\03\\adaptive_threshold_jpg\\03_slice_0467.jpg: 640x640 (no detections), 9.5ms\n",
      "Speed: 3.0ms preprocess, 9.5ms inference, 0.0ms postprocess per image at shape (1, 3, 640, 640)\n",
      "\n",
      "image 1/1 D:\\Code\\CBCT_Reconstruction_ICP\\data\\03\\adaptive_threshold_jpg\\03_slice_0468.jpg: 640x640 (no detections), 11.5ms\n",
      "Speed: 3.0ms preprocess, 11.5ms inference, 1.0ms postprocess per image at shape (1, 3, 640, 640)\n",
      "\n",
      "image 1/1 D:\\Code\\CBCT_Reconstruction_ICP\\data\\03\\adaptive_threshold_jpg\\03_slice_0469.jpg: 640x640 (no detections), 10.5ms\n",
      "Speed: 2.5ms preprocess, 10.5ms inference, 2.1ms postprocess per image at shape (1, 3, 640, 640)\n",
      "\n",
      "image 1/1 D:\\Code\\CBCT_Reconstruction_ICP\\data\\03\\adaptive_threshold_jpg\\03_slice_0470.jpg: 640x640 (no detections), 11.3ms\n",
      "Speed: 2.1ms preprocess, 11.3ms inference, 1.4ms postprocess per image at shape (1, 3, 640, 640)\n",
      "\n",
      "image 1/1 D:\\Code\\CBCT_Reconstruction_ICP\\data\\03\\adaptive_threshold_jpg\\03_slice_0471.jpg: 640x640 (no detections), 14.1ms\n",
      "Speed: 2.5ms preprocess, 14.1ms inference, 1.0ms postprocess per image at shape (1, 3, 640, 640)\n",
      "\n",
      "image 1/1 D:\\Code\\CBCT_Reconstruction_ICP\\data\\03\\adaptive_threshold_jpg\\03_slice_0472.jpg: 640x640 (no detections), 10.5ms\n",
      "Speed: 3.0ms preprocess, 10.5ms inference, 1.0ms postprocess per image at shape (1, 3, 640, 640)\n",
      "\n",
      "image 1/1 D:\\Code\\CBCT_Reconstruction_ICP\\data\\03\\adaptive_threshold_jpg\\03_slice_0473.jpg: 640x640 (no detections), 9.1ms\n",
      "Speed: 3.0ms preprocess, 9.1ms inference, 1.0ms postprocess per image at shape (1, 3, 640, 640)\n",
      "\n",
      "image 1/1 D:\\Code\\CBCT_Reconstruction_ICP\\data\\03\\adaptive_threshold_jpg\\03_slice_0474.jpg: 640x640 (no detections), 10.4ms\n",
      "Speed: 3.1ms preprocess, 10.4ms inference, 0.9ms postprocess per image at shape (1, 3, 640, 640)\n",
      "\n",
      "image 1/1 D:\\Code\\CBCT_Reconstruction_ICP\\data\\03\\adaptive_threshold_jpg\\03_slice_0475.jpg: 640x640 (no detections), 9.5ms\n",
      "Speed: 3.0ms preprocess, 9.5ms inference, 1.0ms postprocess per image at shape (1, 3, 640, 640)\n",
      "\n",
      "image 1/1 D:\\Code\\CBCT_Reconstruction_ICP\\data\\03\\adaptive_threshold_jpg\\03_slice_0476.jpg: 640x640 (no detections), 19.1ms\n",
      "Speed: 4.4ms preprocess, 19.1ms inference, 1.2ms postprocess per image at shape (1, 3, 640, 640)\n",
      "\n",
      "image 1/1 D:\\Code\\CBCT_Reconstruction_ICP\\data\\03\\adaptive_threshold_jpg\\03_slice_0477.jpg: 640x640 (no detections), 13.6ms\n",
      "Speed: 2.5ms preprocess, 13.6ms inference, 1.1ms postprocess per image at shape (1, 3, 640, 640)\n",
      "\n",
      "image 1/1 D:\\Code\\CBCT_Reconstruction_ICP\\data\\03\\adaptive_threshold_jpg\\03_slice_0478.jpg: 640x640 (no detections), 12.3ms\n",
      "Speed: 2.7ms preprocess, 12.3ms inference, 1.0ms postprocess per image at shape (1, 3, 640, 640)\n",
      "\n",
      "image 1/1 D:\\Code\\CBCT_Reconstruction_ICP\\data\\03\\adaptive_threshold_jpg\\03_slice_0479.jpg: 640x640 (no detections), 9.2ms\n",
      "Speed: 2.1ms preprocess, 9.2ms inference, 2.0ms postprocess per image at shape (1, 3, 640, 640)\n",
      "\n",
      "image 1/1 D:\\Code\\CBCT_Reconstruction_ICP\\data\\03\\adaptive_threshold_jpg\\03_slice_0480.jpg: 640x640 (no detections), 8.5ms\n",
      "Speed: 3.5ms preprocess, 8.5ms inference, 0.0ms postprocess per image at shape (1, 3, 640, 640)\n",
      "\n",
      "image 1/1 D:\\Code\\CBCT_Reconstruction_ICP\\data\\03\\adaptive_threshold_jpg\\03_slice_0481.jpg: 640x640 (no detections), 9.0ms\n",
      "Speed: 3.0ms preprocess, 9.0ms inference, 0.0ms postprocess per image at shape (1, 3, 640, 640)\n",
      "\n",
      "image 1/1 D:\\Code\\CBCT_Reconstruction_ICP\\data\\03\\adaptive_threshold_jpg\\03_slice_0482.jpg: 640x640 (no detections), 9.0ms\n",
      "Speed: 3.0ms preprocess, 9.0ms inference, 2.2ms postprocess per image at shape (1, 3, 640, 640)\n",
      "\n",
      "image 1/1 D:\\Code\\CBCT_Reconstruction_ICP\\data\\03\\adaptive_threshold_jpg\\03_slice_0483.jpg: 640x640 (no detections), 10.3ms\n",
      "Speed: 2.0ms preprocess, 10.3ms inference, 2.5ms postprocess per image at shape (1, 3, 640, 640)\n",
      "\n",
      "image 1/1 D:\\Code\\CBCT_Reconstruction_ICP\\data\\03\\adaptive_threshold_jpg\\03_slice_0484.jpg: 640x640 (no detections), 9.0ms\n",
      "Speed: 3.0ms preprocess, 9.0ms inference, 1.0ms postprocess per image at shape (1, 3, 640, 640)\n",
      "\n",
      "image 1/1 D:\\Code\\CBCT_Reconstruction_ICP\\data\\03\\adaptive_threshold_jpg\\03_slice_0485.jpg: 640x640 (no detections), 11.6ms\n",
      "Speed: 2.0ms preprocess, 11.6ms inference, 2.8ms postprocess per image at shape (1, 3, 640, 640)\n",
      "\n",
      "image 1/1 D:\\Code\\CBCT_Reconstruction_ICP\\data\\03\\adaptive_threshold_jpg\\03_slice_0486.jpg: 640x640 (no detections), 12.0ms\n",
      "Speed: 3.0ms preprocess, 12.0ms inference, 2.0ms postprocess per image at shape (1, 3, 640, 640)\n",
      "\n",
      "image 1/1 D:\\Code\\CBCT_Reconstruction_ICP\\data\\03\\adaptive_threshold_jpg\\03_slice_0487.jpg: 640x640 1 arch, 9.0ms\n",
      "Speed: 3.0ms preprocess, 9.0ms inference, 1.0ms postprocess per image at shape (1, 3, 640, 640)\n",
      "Skipped box with confidence: 0.31019094586372375 in image 03_slice_0487.jpg\n",
      "\n",
      "image 1/1 D:\\Code\\CBCT_Reconstruction_ICP\\data\\03\\adaptive_threshold_jpg\\03_slice_0488.jpg: 640x640 (no detections), 11.7ms\n",
      "Speed: 3.0ms preprocess, 11.7ms inference, 1.0ms postprocess per image at shape (1, 3, 640, 640)\n",
      "\n",
      "image 1/1 D:\\Code\\CBCT_Reconstruction_ICP\\data\\03\\adaptive_threshold_jpg\\03_slice_0489.jpg: 640x640 1 arch, 12.2ms\n",
      "Speed: 3.5ms preprocess, 12.2ms inference, 1.0ms postprocess per image at shape (1, 3, 640, 640)\n",
      "Skipped box with confidence: 0.37404865026474 in image 03_slice_0489.jpg\n",
      "\n",
      "image 1/1 D:\\Code\\CBCT_Reconstruction_ICP\\data\\03\\adaptive_threshold_jpg\\03_slice_0490.jpg: 640x640 1 arch, 10.7ms\n",
      "Speed: 3.0ms preprocess, 10.7ms inference, 1.0ms postprocess per image at shape (1, 3, 640, 640)\n",
      "Skipped box with confidence: 0.26331809163093567 in image 03_slice_0490.jpg\n",
      "\n",
      "image 1/1 D:\\Code\\CBCT_Reconstruction_ICP\\data\\03\\adaptive_threshold_jpg\\03_slice_0491.jpg: 640x640 (no detections), 10.2ms\n",
      "Speed: 3.6ms preprocess, 10.2ms inference, 1.0ms postprocess per image at shape (1, 3, 640, 640)\n",
      "\n",
      "image 1/1 D:\\Code\\CBCT_Reconstruction_ICP\\data\\03\\adaptive_threshold_jpg\\03_slice_0492.jpg: 640x640 (no detections), 8.6ms\n",
      "Speed: 4.3ms preprocess, 8.6ms inference, 1.4ms postprocess per image at shape (1, 3, 640, 640)\n",
      "\n",
      "image 1/1 D:\\Code\\CBCT_Reconstruction_ICP\\data\\03\\adaptive_threshold_jpg\\03_slice_0493.jpg: 640x640 1 arch, 12.5ms\n",
      "Speed: 2.6ms preprocess, 12.5ms inference, 1.2ms postprocess per image at shape (1, 3, 640, 640)\n",
      "Skipped box with confidence: 0.3055133819580078 in image 03_slice_0493.jpg\n",
      "\n",
      "image 1/1 D:\\Code\\CBCT_Reconstruction_ICP\\data\\03\\adaptive_threshold_jpg\\03_slice_0494.jpg: 640x640 (no detections), 9.6ms\n",
      "Speed: 3.0ms preprocess, 9.6ms inference, 1.0ms postprocess per image at shape (1, 3, 640, 640)\n",
      "\n",
      "image 1/1 D:\\Code\\CBCT_Reconstruction_ICP\\data\\03\\adaptive_threshold_jpg\\03_slice_0495.jpg: 640x640 1 arch, 9.0ms\n",
      "Speed: 3.0ms preprocess, 9.0ms inference, 1.0ms postprocess per image at shape (1, 3, 640, 640)\n",
      "Skipped box with confidence: 0.37178701162338257 in image 03_slice_0495.jpg\n",
      "\n",
      "image 1/1 D:\\Code\\CBCT_Reconstruction_ICP\\data\\03\\adaptive_threshold_jpg\\03_slice_0496.jpg: 640x640 (no detections), 12.0ms\n",
      "Speed: 2.1ms preprocess, 12.0ms inference, 1.0ms postprocess per image at shape (1, 3, 640, 640)\n",
      "\n",
      "image 1/1 D:\\Code\\CBCT_Reconstruction_ICP\\data\\03\\adaptive_threshold_jpg\\03_slice_0497.jpg: 640x640 (no detections), 10.1ms\n",
      "Speed: 3.2ms preprocess, 10.1ms inference, 1.0ms postprocess per image at shape (1, 3, 640, 640)\n",
      "\n",
      "image 1/1 D:\\Code\\CBCT_Reconstruction_ICP\\data\\03\\adaptive_threshold_jpg\\03_slice_0498.jpg: 640x640 (no detections), 18.3ms\n",
      "Speed: 3.0ms preprocess, 18.3ms inference, 0.0ms postprocess per image at shape (1, 3, 640, 640)\n",
      "\n",
      "image 1/1 D:\\Code\\CBCT_Reconstruction_ICP\\data\\03\\adaptive_threshold_jpg\\03_slice_0499.jpg: 640x640 (no detections), 11.8ms\n",
      "Speed: 3.1ms preprocess, 11.8ms inference, 1.0ms postprocess per image at shape (1, 3, 640, 640)\n",
      "\n",
      "image 1/1 D:\\Code\\CBCT_Reconstruction_ICP\\data\\03\\adaptive_threshold_jpg\\03_slice_0500.jpg: 640x640 (no detections), 12.7ms\n",
      "Speed: 3.9ms preprocess, 12.7ms inference, 1.0ms postprocess per image at shape (1, 3, 640, 640)\n",
      "\n",
      "image 1/1 D:\\Code\\CBCT_Reconstruction_ICP\\data\\03\\adaptive_threshold_jpg\\03_slice_0501.jpg: 640x640 (no detections), 20.5ms\n",
      "Speed: 8.8ms preprocess, 20.5ms inference, 1.0ms postprocess per image at shape (1, 3, 640, 640)\n",
      "\n",
      "image 1/1 D:\\Code\\CBCT_Reconstruction_ICP\\data\\03\\adaptive_threshold_jpg\\03_slice_0502.jpg: 640x640 (no detections), 7.7ms\n",
      "Speed: 3.3ms preprocess, 7.7ms inference, 1.0ms postprocess per image at shape (1, 3, 640, 640)\n",
      "\n",
      "image 1/1 D:\\Code\\CBCT_Reconstruction_ICP\\data\\03\\adaptive_threshold_jpg\\03_slice_0503.jpg: 640x640 (no detections), 8.8ms\n",
      "Speed: 4.0ms preprocess, 8.8ms inference, 1.0ms postprocess per image at shape (1, 3, 640, 640)\n",
      "\n",
      "image 1/1 D:\\Code\\CBCT_Reconstruction_ICP\\data\\03\\adaptive_threshold_jpg\\03_slice_0504.jpg: 640x640 (no detections), 9.4ms\n",
      "Speed: 3.0ms preprocess, 9.4ms inference, 1.0ms postprocess per image at shape (1, 3, 640, 640)\n",
      "\n",
      "image 1/1 D:\\Code\\CBCT_Reconstruction_ICP\\data\\03\\adaptive_threshold_jpg\\03_slice_0505.jpg: 640x640 (no detections), 12.5ms\n",
      "Speed: 3.0ms preprocess, 12.5ms inference, 1.0ms postprocess per image at shape (1, 3, 640, 640)\n",
      "\n",
      "image 1/1 D:\\Code\\CBCT_Reconstruction_ICP\\data\\03\\adaptive_threshold_jpg\\03_slice_0506.jpg: 640x640 (no detections), 12.0ms\n",
      "Speed: 3.2ms preprocess, 12.0ms inference, 0.0ms postprocess per image at shape (1, 3, 640, 640)\n",
      "所有测试图片的预测结果已保存到 D:/Code/CBCT_Reconstruction_ICP/data/03/adaptive_threshold_jpg_predict\n",
      "其中有 131 张图片中检测到了目标物体\n",
      "这些图片的索引分别是： [20, 22, 23, 24, 26, 27, 31, 32, 33, 34, 35, 36, 40, 41, 42, 43, 44, 48, 49, 51, 53, 54, 58, 59, 60, 61, 62, 63, 64, 65, 66, 67, 68, 70, 72, 76, 77, 80, 82, 83, 84, 86, 88, 89, 92, 93, 94, 95, 96, 97, 99, 100, 101, 102, 103, 104, 105, 106, 107, 108, 109, 110, 111, 112, 113, 114, 115, 116, 117, 118, 119, 120, 121, 122, 123, 124, 125, 126, 127, 128, 129, 130, 131, 132, 133, 134, 135, 136, 137, 138, 139, 140, 141, 142, 143, 144, 145, 146, 147, 148, 149, 150, 151, 152, 153, 154, 155, 156, 157, 158, 159, 160, 161, 162, 163, 164, 165, 166, 168, 169, 170, 172, 173, 174, 175, 176, 179, 180, 187, 226, 324]\n"
     ]
    }
   ],
   "source": [
    "import os\n",
    "from ultralytics import YOLOv10\n",
    "import cv2\n",
    "\n",
    "os.environ[\"KMP_DUPLICATE_LIB_OK\"] = \"TRUE\"\n",
    "\n",
    "# Train the model using the 'coco8.yaml' dataset for 3 epochs\n",
    "model = YOLOv10('../runs/detect/train14/weights/best.pt')\n",
    "\n",
    "# 定义输入和输出目录\n",
    "test_images_dir = 'D:/Code/CBCT_Reconstruction_ICP/data/03/adaptive_threshold_jpg'\n",
    "output_dir = 'D:/Code/CBCT_Reconstruction_ICP/data/03/adaptive_threshold_jpg_predict'\n",
    "\n",
    "# 创建输出目录（如果不存在）\n",
    "os.makedirs(output_dir, exist_ok=True)\n",
    "\n",
    "# 获取测试集中的所有图像文件\n",
    "test_images = [f for f in os.listdir(test_images_dir) if os.path.isfile(os.path.join(test_images_dir, f))]\n",
    "positive_indices = []\n",
    "\n",
    "def plot_predictions(img, preds, output_path):\n",
    "    for pred in preds:\n",
    "        x1, y1, x2, y2 = map(int, pred['bbox'])\n",
    "        label = f\"{pred['label']} {pred['confidence']:.2f}\"\n",
    "        print(label)\n",
    "\n",
    "        # 绘制矩形框\n",
    "        cv2.rectangle(img, (x1, y1), (x2, y2), color=(0, 255, 0), thickness=2)\n",
    "\n",
    "        # 绘制标签\n",
    "        cv2.putText(img, label, (x1, y1 - 10), cv2.FONT_HERSHEY_SIMPLEX, 0.5, (0, 255, 0), 2)\n",
    "\n",
    "    # 保存绘制好预测结果的图像\n",
    "    cv2.imwrite(output_path, cv2.cvtColor(img, cv2.COLOR_RGB2BGR))\n",
    "\n",
    "for index, img_name in enumerate(test_images):\n",
    "    img_path = os.path.join(test_images_dir, img_name)\n",
    "    img = cv2.imread(img_path)  # 使用 OpenCV 读取图像\n",
    "    img_rgb = cv2.cvtColor(img, cv2.COLOR_BGR2RGB)  # 转换为 RGB 格式\n",
    "    results = model(img_path)  # 对图片进行预测\n",
    "    preds = []\n",
    "    has_box = False\n",
    "    for result in results:\n",
    "        for box in result.boxes:\n",
    "            confidence = box.conf[0].item()  # 获取置信度\n",
    "            if (confidence <= 0.40):\n",
    "                print('Skipped box with confidence: {} in image {}'.format(confidence, img_name))\n",
    "                continue\n",
    "            has_box = True\n",
    "            bbox = box.xyxy[0].tolist()  # 获取 bbox 的 [x1, y1, x2, y2] 坐标\n",
    "            label = box.cls[0].item()  # 获取标签\n",
    "            pred = {\n",
    "                'bbox': bbox,\n",
    "                'label': label,\n",
    "                'confidence': confidence\n",
    "            }\n",
    "            preds.append(pred)\n",
    "\n",
    "    if has_box:\n",
    "        plot_predictions(img, preds, os.path.join(output_dir, img_name))  # 保存带框的图片\n",
    "        positive_indices.append(index+1)\n",
    "\n",
    "print(\"所有测试图片的预测结果已保存到\", output_dir)\n",
    "print(\"其中有\", len(positive_indices), \"张图片中检测到了目标物体\")\n",
    "print(\"这些图片的索引分别是：\", positive_indices)\n"
   ]
  },
  {
   "cell_type": "code",
   "execution_count": 2,
   "id": "0a1ee325-510e-480e-bdb7-e16adceae79e",
   "metadata": {},
   "outputs": [
    {
     "name": "stdout",
     "output_type": "stream",
     "text": [
      "已处理并保存图像: D:/Code/CBCT_Reconstruction_ICP/data/01/adaptive_threshold_jpg\\slice_0001.jpg\n",
      "已处理并保存图像: D:/Code/CBCT_Reconstruction_ICP/data/01/adaptive_threshold_jpg\\slice_0002.jpg\n",
      "已处理并保存图像: D:/Code/CBCT_Reconstruction_ICP/data/01/adaptive_threshold_jpg\\slice_0003.jpg\n",
      "已处理并保存图像: D:/Code/CBCT_Reconstruction_ICP/data/01/adaptive_threshold_jpg\\slice_0004.jpg\n",
      "已处理并保存图像: D:/Code/CBCT_Reconstruction_ICP/data/01/adaptive_threshold_jpg\\slice_0005.jpg\n",
      "已处理并保存图像: D:/Code/CBCT_Reconstruction_ICP/data/01/adaptive_threshold_jpg\\slice_0006.jpg\n",
      "已处理并保存图像: D:/Code/CBCT_Reconstruction_ICP/data/01/adaptive_threshold_jpg\\slice_0007.jpg\n",
      "已处理并保存图像: D:/Code/CBCT_Reconstruction_ICP/data/01/adaptive_threshold_jpg\\slice_0008.jpg\n",
      "已处理并保存图像: D:/Code/CBCT_Reconstruction_ICP/data/01/adaptive_threshold_jpg\\slice_0009.jpg\n",
      "已处理并保存图像: D:/Code/CBCT_Reconstruction_ICP/data/01/adaptive_threshold_jpg\\slice_0010.jpg\n",
      "已处理并保存图像: D:/Code/CBCT_Reconstruction_ICP/data/01/adaptive_threshold_jpg\\slice_0011.jpg\n",
      "已处理并保存图像: D:/Code/CBCT_Reconstruction_ICP/data/01/adaptive_threshold_jpg\\slice_0012.jpg\n",
      "已处理并保存图像: D:/Code/CBCT_Reconstruction_ICP/data/01/adaptive_threshold_jpg\\slice_0013.jpg\n",
      "已处理并保存图像: D:/Code/CBCT_Reconstruction_ICP/data/01/adaptive_threshold_jpg\\slice_0014.jpg\n",
      "已处理并保存图像: D:/Code/CBCT_Reconstruction_ICP/data/01/adaptive_threshold_jpg\\slice_0015.jpg\n",
      "已处理并保存图像: D:/Code/CBCT_Reconstruction_ICP/data/01/adaptive_threshold_jpg\\slice_0016.jpg\n",
      "已处理并保存图像: D:/Code/CBCT_Reconstruction_ICP/data/01/adaptive_threshold_jpg\\slice_0017.jpg\n",
      "已处理并保存图像: D:/Code/CBCT_Reconstruction_ICP/data/01/adaptive_threshold_jpg\\slice_0018.jpg\n",
      "已处理并保存图像: D:/Code/CBCT_Reconstruction_ICP/data/01/adaptive_threshold_jpg\\slice_0019.jpg\n",
      "已处理并保存图像: D:/Code/CBCT_Reconstruction_ICP/data/01/adaptive_threshold_jpg\\slice_0020.jpg\n",
      "已处理并保存图像: D:/Code/CBCT_Reconstruction_ICP/data/01/adaptive_threshold_jpg\\slice_0021.jpg\n",
      "已处理并保存图像: D:/Code/CBCT_Reconstruction_ICP/data/01/adaptive_threshold_jpg\\slice_0022.jpg\n",
      "已处理并保存图像: D:/Code/CBCT_Reconstruction_ICP/data/01/adaptive_threshold_jpg\\slice_0023.jpg\n",
      "已处理并保存图像: D:/Code/CBCT_Reconstruction_ICP/data/01/adaptive_threshold_jpg\\slice_0024.jpg\n",
      "已处理并保存图像: D:/Code/CBCT_Reconstruction_ICP/data/01/adaptive_threshold_jpg\\slice_0025.jpg\n",
      "已处理并保存图像: D:/Code/CBCT_Reconstruction_ICP/data/01/adaptive_threshold_jpg\\slice_0026.jpg\n",
      "已处理并保存图像: D:/Code/CBCT_Reconstruction_ICP/data/01/adaptive_threshold_jpg\\slice_0027.jpg\n",
      "已处理并保存图像: D:/Code/CBCT_Reconstruction_ICP/data/01/adaptive_threshold_jpg\\slice_0028.jpg\n",
      "已处理并保存图像: D:/Code/CBCT_Reconstruction_ICP/data/01/adaptive_threshold_jpg\\slice_0029.jpg\n",
      "已处理并保存图像: D:/Code/CBCT_Reconstruction_ICP/data/01/adaptive_threshold_jpg\\slice_0030.jpg\n",
      "已处理并保存图像: D:/Code/CBCT_Reconstruction_ICP/data/01/adaptive_threshold_jpg\\slice_0031.jpg\n",
      "已处理并保存图像: D:/Code/CBCT_Reconstruction_ICP/data/01/adaptive_threshold_jpg\\slice_0032.jpg\n",
      "已处理并保存图像: D:/Code/CBCT_Reconstruction_ICP/data/01/adaptive_threshold_jpg\\slice_0033.jpg\n",
      "已处理并保存图像: D:/Code/CBCT_Reconstruction_ICP/data/01/adaptive_threshold_jpg\\slice_0034.jpg\n",
      "已处理并保存图像: D:/Code/CBCT_Reconstruction_ICP/data/01/adaptive_threshold_jpg\\slice_0035.jpg\n",
      "已处理并保存图像: D:/Code/CBCT_Reconstruction_ICP/data/01/adaptive_threshold_jpg\\slice_0036.jpg\n",
      "已处理并保存图像: D:/Code/CBCT_Reconstruction_ICP/data/01/adaptive_threshold_jpg\\slice_0037.jpg\n",
      "已处理并保存图像: D:/Code/CBCT_Reconstruction_ICP/data/01/adaptive_threshold_jpg\\slice_0038.jpg\n",
      "已处理并保存图像: D:/Code/CBCT_Reconstruction_ICP/data/01/adaptive_threshold_jpg\\slice_0039.jpg\n",
      "已处理并保存图像: D:/Code/CBCT_Reconstruction_ICP/data/01/adaptive_threshold_jpg\\slice_0040.jpg\n",
      "已处理并保存图像: D:/Code/CBCT_Reconstruction_ICP/data/01/adaptive_threshold_jpg\\slice_0041.jpg\n",
      "已处理并保存图像: D:/Code/CBCT_Reconstruction_ICP/data/01/adaptive_threshold_jpg\\slice_0042.jpg\n",
      "已处理并保存图像: D:/Code/CBCT_Reconstruction_ICP/data/01/adaptive_threshold_jpg\\slice_0043.jpg\n",
      "已处理并保存图像: D:/Code/CBCT_Reconstruction_ICP/data/01/adaptive_threshold_jpg\\slice_0044.jpg\n",
      "已处理并保存图像: D:/Code/CBCT_Reconstruction_ICP/data/01/adaptive_threshold_jpg\\slice_0045.jpg\n",
      "已处理并保存图像: D:/Code/CBCT_Reconstruction_ICP/data/01/adaptive_threshold_jpg\\slice_0046.jpg\n",
      "已处理并保存图像: D:/Code/CBCT_Reconstruction_ICP/data/01/adaptive_threshold_jpg\\slice_0047.jpg\n",
      "已处理并保存图像: D:/Code/CBCT_Reconstruction_ICP/data/01/adaptive_threshold_jpg\\slice_0048.jpg\n",
      "已处理并保存图像: D:/Code/CBCT_Reconstruction_ICP/data/01/adaptive_threshold_jpg\\slice_0049.jpg\n",
      "已处理并保存图像: D:/Code/CBCT_Reconstruction_ICP/data/01/adaptive_threshold_jpg\\slice_0050.jpg\n",
      "已处理并保存图像: D:/Code/CBCT_Reconstruction_ICP/data/01/adaptive_threshold_jpg\\slice_0051.jpg\n",
      "已处理并保存图像: D:/Code/CBCT_Reconstruction_ICP/data/01/adaptive_threshold_jpg\\slice_0052.jpg\n",
      "已处理并保存图像: D:/Code/CBCT_Reconstruction_ICP/data/01/adaptive_threshold_jpg\\slice_0053.jpg\n",
      "已处理并保存图像: D:/Code/CBCT_Reconstruction_ICP/data/01/adaptive_threshold_jpg\\slice_0054.jpg\n",
      "已处理并保存图像: D:/Code/CBCT_Reconstruction_ICP/data/01/adaptive_threshold_jpg\\slice_0055.jpg\n",
      "已处理并保存图像: D:/Code/CBCT_Reconstruction_ICP/data/01/adaptive_threshold_jpg\\slice_0056.jpg\n",
      "已处理并保存图像: D:/Code/CBCT_Reconstruction_ICP/data/01/adaptive_threshold_jpg\\slice_0057.jpg\n",
      "已处理并保存图像: D:/Code/CBCT_Reconstruction_ICP/data/01/adaptive_threshold_jpg\\slice_0058.jpg\n",
      "已处理并保存图像: D:/Code/CBCT_Reconstruction_ICP/data/01/adaptive_threshold_jpg\\slice_0059.jpg\n",
      "已处理并保存图像: D:/Code/CBCT_Reconstruction_ICP/data/01/adaptive_threshold_jpg\\slice_0060.jpg\n",
      "已处理并保存图像: D:/Code/CBCT_Reconstruction_ICP/data/01/adaptive_threshold_jpg\\slice_0061.jpg\n",
      "已处理并保存图像: D:/Code/CBCT_Reconstruction_ICP/data/01/adaptive_threshold_jpg\\slice_0062.jpg\n",
      "已处理并保存图像: D:/Code/CBCT_Reconstruction_ICP/data/01/adaptive_threshold_jpg\\slice_0063.jpg\n",
      "已处理并保存图像: D:/Code/CBCT_Reconstruction_ICP/data/01/adaptive_threshold_jpg\\slice_0064.jpg\n",
      "已处理并保存图像: D:/Code/CBCT_Reconstruction_ICP/data/01/adaptive_threshold_jpg\\slice_0065.jpg\n",
      "已处理并保存图像: D:/Code/CBCT_Reconstruction_ICP/data/01/adaptive_threshold_jpg\\slice_0066.jpg\n",
      "已处理并保存图像: D:/Code/CBCT_Reconstruction_ICP/data/01/adaptive_threshold_jpg\\slice_0067.jpg\n",
      "已处理并保存图像: D:/Code/CBCT_Reconstruction_ICP/data/01/adaptive_threshold_jpg\\slice_0068.jpg\n",
      "已处理并保存图像: D:/Code/CBCT_Reconstruction_ICP/data/01/adaptive_threshold_jpg\\slice_0069.jpg\n",
      "已处理并保存图像: D:/Code/CBCT_Reconstruction_ICP/data/01/adaptive_threshold_jpg\\slice_0070.jpg\n",
      "已处理并保存图像: D:/Code/CBCT_Reconstruction_ICP/data/01/adaptive_threshold_jpg\\slice_0071.jpg\n",
      "已处理并保存图像: D:/Code/CBCT_Reconstruction_ICP/data/01/adaptive_threshold_jpg\\slice_0072.jpg\n",
      "已处理并保存图像: D:/Code/CBCT_Reconstruction_ICP/data/01/adaptive_threshold_jpg\\slice_0073.jpg\n",
      "已处理并保存图像: D:/Code/CBCT_Reconstruction_ICP/data/01/adaptive_threshold_jpg\\slice_0074.jpg\n",
      "已处理并保存图像: D:/Code/CBCT_Reconstruction_ICP/data/01/adaptive_threshold_jpg\\slice_0075.jpg\n",
      "已处理并保存图像: D:/Code/CBCT_Reconstruction_ICP/data/01/adaptive_threshold_jpg\\slice_0076.jpg\n",
      "已处理并保存图像: D:/Code/CBCT_Reconstruction_ICP/data/01/adaptive_threshold_jpg\\slice_0077.jpg\n",
      "已处理并保存图像: D:/Code/CBCT_Reconstruction_ICP/data/01/adaptive_threshold_jpg\\slice_0078.jpg\n",
      "已处理并保存图像: D:/Code/CBCT_Reconstruction_ICP/data/01/adaptive_threshold_jpg\\slice_0079.jpg\n",
      "已处理并保存图像: D:/Code/CBCT_Reconstruction_ICP/data/01/adaptive_threshold_jpg\\slice_0080.jpg\n",
      "已处理并保存图像: D:/Code/CBCT_Reconstruction_ICP/data/01/adaptive_threshold_jpg\\slice_0081.jpg\n",
      "已处理并保存图像: D:/Code/CBCT_Reconstruction_ICP/data/01/adaptive_threshold_jpg\\slice_0082.jpg\n",
      "已处理并保存图像: D:/Code/CBCT_Reconstruction_ICP/data/01/adaptive_threshold_jpg\\slice_0083.jpg\n",
      "已处理并保存图像: D:/Code/CBCT_Reconstruction_ICP/data/01/adaptive_threshold_jpg\\slice_0084.jpg\n",
      "已处理并保存图像: D:/Code/CBCT_Reconstruction_ICP/data/01/adaptive_threshold_jpg\\slice_0085.jpg\n",
      "已处理并保存图像: D:/Code/CBCT_Reconstruction_ICP/data/01/adaptive_threshold_jpg\\slice_0086.jpg\n",
      "已处理并保存图像: D:/Code/CBCT_Reconstruction_ICP/data/01/adaptive_threshold_jpg\\slice_0087.jpg\n",
      "已处理并保存图像: D:/Code/CBCT_Reconstruction_ICP/data/01/adaptive_threshold_jpg\\slice_0088.jpg\n",
      "已处理并保存图像: D:/Code/CBCT_Reconstruction_ICP/data/01/adaptive_threshold_jpg\\slice_0089.jpg\n",
      "已处理并保存图像: D:/Code/CBCT_Reconstruction_ICP/data/01/adaptive_threshold_jpg\\slice_0090.jpg\n",
      "已处理并保存图像: D:/Code/CBCT_Reconstruction_ICP/data/01/adaptive_threshold_jpg\\slice_0091.jpg\n",
      "已处理并保存图像: D:/Code/CBCT_Reconstruction_ICP/data/01/adaptive_threshold_jpg\\slice_0092.jpg\n",
      "已处理并保存图像: D:/Code/CBCT_Reconstruction_ICP/data/01/adaptive_threshold_jpg\\slice_0093.jpg\n",
      "已处理并保存图像: D:/Code/CBCT_Reconstruction_ICP/data/01/adaptive_threshold_jpg\\slice_0094.jpg\n",
      "已处理并保存图像: D:/Code/CBCT_Reconstruction_ICP/data/01/adaptive_threshold_jpg\\slice_0095.jpg\n",
      "已处理并保存图像: D:/Code/CBCT_Reconstruction_ICP/data/01/adaptive_threshold_jpg\\slice_0096.jpg\n",
      "已处理并保存图像: D:/Code/CBCT_Reconstruction_ICP/data/01/adaptive_threshold_jpg\\slice_0097.jpg\n",
      "已处理并保存图像: D:/Code/CBCT_Reconstruction_ICP/data/01/adaptive_threshold_jpg\\slice_0098.jpg\n",
      "已处理并保存图像: D:/Code/CBCT_Reconstruction_ICP/data/01/adaptive_threshold_jpg\\slice_0099.jpg\n",
      "已处理并保存图像: D:/Code/CBCT_Reconstruction_ICP/data/01/adaptive_threshold_jpg\\slice_0100.jpg\n",
      "已处理并保存图像: D:/Code/CBCT_Reconstruction_ICP/data/01/adaptive_threshold_jpg\\slice_0101.jpg\n",
      "已处理并保存图像: D:/Code/CBCT_Reconstruction_ICP/data/01/adaptive_threshold_jpg\\slice_0102.jpg\n",
      "已处理并保存图像: D:/Code/CBCT_Reconstruction_ICP/data/01/adaptive_threshold_jpg\\slice_0103.jpg\n",
      "已处理并保存图像: D:/Code/CBCT_Reconstruction_ICP/data/01/adaptive_threshold_jpg\\slice_0104.jpg\n",
      "已处理并保存图像: D:/Code/CBCT_Reconstruction_ICP/data/01/adaptive_threshold_jpg\\slice_0105.jpg\n",
      "已处理并保存图像: D:/Code/CBCT_Reconstruction_ICP/data/01/adaptive_threshold_jpg\\slice_0106.jpg\n",
      "已处理并保存图像: D:/Code/CBCT_Reconstruction_ICP/data/01/adaptive_threshold_jpg\\slice_0107.jpg\n",
      "已处理并保存图像: D:/Code/CBCT_Reconstruction_ICP/data/01/adaptive_threshold_jpg\\slice_0108.jpg\n",
      "已处理并保存图像: D:/Code/CBCT_Reconstruction_ICP/data/01/adaptive_threshold_jpg\\slice_0109.jpg\n",
      "已处理并保存图像: D:/Code/CBCT_Reconstruction_ICP/data/01/adaptive_threshold_jpg\\slice_0110.jpg\n",
      "已处理并保存图像: D:/Code/CBCT_Reconstruction_ICP/data/01/adaptive_threshold_jpg\\slice_0111.jpg\n",
      "已处理并保存图像: D:/Code/CBCT_Reconstruction_ICP/data/01/adaptive_threshold_jpg\\slice_0112.jpg\n",
      "已处理并保存图像: D:/Code/CBCT_Reconstruction_ICP/data/01/adaptive_threshold_jpg\\slice_0113.jpg\n",
      "已处理并保存图像: D:/Code/CBCT_Reconstruction_ICP/data/01/adaptive_threshold_jpg\\slice_0114.jpg\n",
      "已处理并保存图像: D:/Code/CBCT_Reconstruction_ICP/data/01/adaptive_threshold_jpg\\slice_0115.jpg\n",
      "已处理并保存图像: D:/Code/CBCT_Reconstruction_ICP/data/01/adaptive_threshold_jpg\\slice_0116.jpg\n",
      "已处理并保存图像: D:/Code/CBCT_Reconstruction_ICP/data/01/adaptive_threshold_jpg\\slice_0117.jpg\n",
      "已处理并保存图像: D:/Code/CBCT_Reconstruction_ICP/data/01/adaptive_threshold_jpg\\slice_0118.jpg\n",
      "已处理并保存图像: D:/Code/CBCT_Reconstruction_ICP/data/01/adaptive_threshold_jpg\\slice_0119.jpg\n",
      "已处理并保存图像: D:/Code/CBCT_Reconstruction_ICP/data/01/adaptive_threshold_jpg\\slice_0120.jpg\n",
      "已处理并保存图像: D:/Code/CBCT_Reconstruction_ICP/data/01/adaptive_threshold_jpg\\slice_0121.jpg\n",
      "已处理并保存图像: D:/Code/CBCT_Reconstruction_ICP/data/01/adaptive_threshold_jpg\\slice_0122.jpg\n",
      "已处理并保存图像: D:/Code/CBCT_Reconstruction_ICP/data/01/adaptive_threshold_jpg\\slice_0123.jpg\n",
      "已处理并保存图像: D:/Code/CBCT_Reconstruction_ICP/data/01/adaptive_threshold_jpg\\slice_0124.jpg\n",
      "已处理并保存图像: D:/Code/CBCT_Reconstruction_ICP/data/01/adaptive_threshold_jpg\\slice_0125.jpg\n",
      "已处理并保存图像: D:/Code/CBCT_Reconstruction_ICP/data/01/adaptive_threshold_jpg\\slice_0126.jpg\n",
      "已处理并保存图像: D:/Code/CBCT_Reconstruction_ICP/data/01/adaptive_threshold_jpg\\slice_0127.jpg\n",
      "已处理并保存图像: D:/Code/CBCT_Reconstruction_ICP/data/01/adaptive_threshold_jpg\\slice_0128.jpg\n",
      "已处理并保存图像: D:/Code/CBCT_Reconstruction_ICP/data/01/adaptive_threshold_jpg\\slice_0129.jpg\n",
      "已处理并保存图像: D:/Code/CBCT_Reconstruction_ICP/data/01/adaptive_threshold_jpg\\slice_0130.jpg\n",
      "已处理并保存图像: D:/Code/CBCT_Reconstruction_ICP/data/01/adaptive_threshold_jpg\\slice_0131.jpg\n",
      "已处理并保存图像: D:/Code/CBCT_Reconstruction_ICP/data/01/adaptive_threshold_jpg\\slice_0132.jpg\n",
      "已处理并保存图像: D:/Code/CBCT_Reconstruction_ICP/data/01/adaptive_threshold_jpg\\slice_0133.jpg\n",
      "已处理并保存图像: D:/Code/CBCT_Reconstruction_ICP/data/01/adaptive_threshold_jpg\\slice_0134.jpg\n",
      "已处理并保存图像: D:/Code/CBCT_Reconstruction_ICP/data/01/adaptive_threshold_jpg\\slice_0135.jpg\n",
      "已处理并保存图像: D:/Code/CBCT_Reconstruction_ICP/data/01/adaptive_threshold_jpg\\slice_0136.jpg\n",
      "已处理并保存图像: D:/Code/CBCT_Reconstruction_ICP/data/01/adaptive_threshold_jpg\\slice_0137.jpg\n",
      "已处理并保存图像: D:/Code/CBCT_Reconstruction_ICP/data/01/adaptive_threshold_jpg\\slice_0138.jpg\n",
      "已处理并保存图像: D:/Code/CBCT_Reconstruction_ICP/data/01/adaptive_threshold_jpg\\slice_0139.jpg\n",
      "已处理并保存图像: D:/Code/CBCT_Reconstruction_ICP/data/01/adaptive_threshold_jpg\\slice_0140.jpg\n",
      "已处理并保存图像: D:/Code/CBCT_Reconstruction_ICP/data/01/adaptive_threshold_jpg\\slice_0141.jpg\n",
      "已处理并保存图像: D:/Code/CBCT_Reconstruction_ICP/data/01/adaptive_threshold_jpg\\slice_0142.jpg\n",
      "已处理并保存图像: D:/Code/CBCT_Reconstruction_ICP/data/01/adaptive_threshold_jpg\\slice_0143.jpg\n",
      "已处理并保存图像: D:/Code/CBCT_Reconstruction_ICP/data/01/adaptive_threshold_jpg\\slice_0144.jpg\n",
      "已处理并保存图像: D:/Code/CBCT_Reconstruction_ICP/data/01/adaptive_threshold_jpg\\slice_0145.jpg\n",
      "已处理并保存图像: D:/Code/CBCT_Reconstruction_ICP/data/01/adaptive_threshold_jpg\\slice_0146.jpg\n",
      "已处理并保存图像: D:/Code/CBCT_Reconstruction_ICP/data/01/adaptive_threshold_jpg\\slice_0147.jpg\n",
      "已处理并保存图像: D:/Code/CBCT_Reconstruction_ICP/data/01/adaptive_threshold_jpg\\slice_0148.jpg\n",
      "已处理并保存图像: D:/Code/CBCT_Reconstruction_ICP/data/01/adaptive_threshold_jpg\\slice_0149.jpg\n",
      "已处理并保存图像: D:/Code/CBCT_Reconstruction_ICP/data/01/adaptive_threshold_jpg\\slice_0150.jpg\n",
      "已处理并保存图像: D:/Code/CBCT_Reconstruction_ICP/data/01/adaptive_threshold_jpg\\slice_0151.jpg\n",
      "已处理并保存图像: D:/Code/CBCT_Reconstruction_ICP/data/01/adaptive_threshold_jpg\\slice_0152.jpg\n",
      "已处理并保存图像: D:/Code/CBCT_Reconstruction_ICP/data/01/adaptive_threshold_jpg\\slice_0153.jpg\n",
      "已处理并保存图像: D:/Code/CBCT_Reconstruction_ICP/data/01/adaptive_threshold_jpg\\slice_0154.jpg\n",
      "已处理并保存图像: D:/Code/CBCT_Reconstruction_ICP/data/01/adaptive_threshold_jpg\\slice_0155.jpg\n",
      "已处理并保存图像: D:/Code/CBCT_Reconstruction_ICP/data/01/adaptive_threshold_jpg\\slice_0156.jpg\n",
      "已处理并保存图像: D:/Code/CBCT_Reconstruction_ICP/data/01/adaptive_threshold_jpg\\slice_0157.jpg\n",
      "已处理并保存图像: D:/Code/CBCT_Reconstruction_ICP/data/01/adaptive_threshold_jpg\\slice_0158.jpg\n",
      "已处理并保存图像: D:/Code/CBCT_Reconstruction_ICP/data/01/adaptive_threshold_jpg\\slice_0159.jpg\n",
      "已处理并保存图像: D:/Code/CBCT_Reconstruction_ICP/data/01/adaptive_threshold_jpg\\slice_0160.jpg\n",
      "已处理并保存图像: D:/Code/CBCT_Reconstruction_ICP/data/01/adaptive_threshold_jpg\\slice_0161.jpg\n",
      "已处理并保存图像: D:/Code/CBCT_Reconstruction_ICP/data/01/adaptive_threshold_jpg\\slice_0162.jpg\n",
      "已处理并保存图像: D:/Code/CBCT_Reconstruction_ICP/data/01/adaptive_threshold_jpg\\slice_0163.jpg\n",
      "已处理并保存图像: D:/Code/CBCT_Reconstruction_ICP/data/01/adaptive_threshold_jpg\\slice_0164.jpg\n",
      "已处理并保存图像: D:/Code/CBCT_Reconstruction_ICP/data/01/adaptive_threshold_jpg\\slice_0165.jpg\n",
      "已处理并保存图像: D:/Code/CBCT_Reconstruction_ICP/data/01/adaptive_threshold_jpg\\slice_0166.jpg\n",
      "已处理并保存图像: D:/Code/CBCT_Reconstruction_ICP/data/01/adaptive_threshold_jpg\\slice_0167.jpg\n",
      "已处理并保存图像: D:/Code/CBCT_Reconstruction_ICP/data/01/adaptive_threshold_jpg\\slice_0168.jpg\n",
      "已处理并保存图像: D:/Code/CBCT_Reconstruction_ICP/data/01/adaptive_threshold_jpg\\slice_0169.jpg\n",
      "已处理并保存图像: D:/Code/CBCT_Reconstruction_ICP/data/01/adaptive_threshold_jpg\\slice_0170.jpg\n",
      "已处理并保存图像: D:/Code/CBCT_Reconstruction_ICP/data/01/adaptive_threshold_jpg\\slice_0171.jpg\n",
      "已处理并保存图像: D:/Code/CBCT_Reconstruction_ICP/data/01/adaptive_threshold_jpg\\slice_0172.jpg\n",
      "已处理并保存图像: D:/Code/CBCT_Reconstruction_ICP/data/01/adaptive_threshold_jpg\\slice_0173.jpg\n",
      "已处理并保存图像: D:/Code/CBCT_Reconstruction_ICP/data/01/adaptive_threshold_jpg\\slice_0174.jpg\n",
      "已处理并保存图像: D:/Code/CBCT_Reconstruction_ICP/data/01/adaptive_threshold_jpg\\slice_0175.jpg\n",
      "已处理并保存图像: D:/Code/CBCT_Reconstruction_ICP/data/01/adaptive_threshold_jpg\\slice_0176.jpg\n",
      "已处理并保存图像: D:/Code/CBCT_Reconstruction_ICP/data/01/adaptive_threshold_jpg\\slice_0177.jpg\n",
      "已处理并保存图像: D:/Code/CBCT_Reconstruction_ICP/data/01/adaptive_threshold_jpg\\slice_0178.jpg\n",
      "已处理并保存图像: D:/Code/CBCT_Reconstruction_ICP/data/01/adaptive_threshold_jpg\\slice_0179.jpg\n",
      "已处理并保存图像: D:/Code/CBCT_Reconstruction_ICP/data/01/adaptive_threshold_jpg\\slice_0180.jpg\n",
      "已处理并保存图像: D:/Code/CBCT_Reconstruction_ICP/data/01/adaptive_threshold_jpg\\slice_0181.jpg\n",
      "已处理并保存图像: D:/Code/CBCT_Reconstruction_ICP/data/01/adaptive_threshold_jpg\\slice_0182.jpg\n",
      "已处理并保存图像: D:/Code/CBCT_Reconstruction_ICP/data/01/adaptive_threshold_jpg\\slice_0183.jpg\n",
      "已处理并保存图像: D:/Code/CBCT_Reconstruction_ICP/data/01/adaptive_threshold_jpg\\slice_0184.jpg\n",
      "已处理并保存图像: D:/Code/CBCT_Reconstruction_ICP/data/01/adaptive_threshold_jpg\\slice_0185.jpg\n",
      "已处理并保存图像: D:/Code/CBCT_Reconstruction_ICP/data/01/adaptive_threshold_jpg\\slice_0186.jpg\n",
      "已处理并保存图像: D:/Code/CBCT_Reconstruction_ICP/data/01/adaptive_threshold_jpg\\slice_0187.jpg\n",
      "已处理并保存图像: D:/Code/CBCT_Reconstruction_ICP/data/01/adaptive_threshold_jpg\\slice_0188.jpg\n",
      "已处理并保存图像: D:/Code/CBCT_Reconstruction_ICP/data/01/adaptive_threshold_jpg\\slice_0189.jpg\n",
      "已处理并保存图像: D:/Code/CBCT_Reconstruction_ICP/data/01/adaptive_threshold_jpg\\slice_0190.jpg\n",
      "已处理并保存图像: D:/Code/CBCT_Reconstruction_ICP/data/01/adaptive_threshold_jpg\\slice_0191.jpg\n",
      "已处理并保存图像: D:/Code/CBCT_Reconstruction_ICP/data/01/adaptive_threshold_jpg\\slice_0192.jpg\n",
      "已处理并保存图像: D:/Code/CBCT_Reconstruction_ICP/data/01/adaptive_threshold_jpg\\slice_0193.jpg\n",
      "已处理并保存图像: D:/Code/CBCT_Reconstruction_ICP/data/01/adaptive_threshold_jpg\\slice_0194.jpg\n",
      "已处理并保存图像: D:/Code/CBCT_Reconstruction_ICP/data/01/adaptive_threshold_jpg\\slice_0195.jpg\n",
      "已处理并保存图像: D:/Code/CBCT_Reconstruction_ICP/data/01/adaptive_threshold_jpg\\slice_0196.jpg\n",
      "已处理并保存图像: D:/Code/CBCT_Reconstruction_ICP/data/01/adaptive_threshold_jpg\\slice_0197.jpg\n",
      "已处理并保存图像: D:/Code/CBCT_Reconstruction_ICP/data/01/adaptive_threshold_jpg\\slice_0198.jpg\n",
      "已处理并保存图像: D:/Code/CBCT_Reconstruction_ICP/data/01/adaptive_threshold_jpg\\slice_0199.jpg\n",
      "已处理并保存图像: D:/Code/CBCT_Reconstruction_ICP/data/01/adaptive_threshold_jpg\\slice_0200.jpg\n",
      "已处理并保存图像: D:/Code/CBCT_Reconstruction_ICP/data/01/adaptive_threshold_jpg\\slice_0201.jpg\n",
      "已处理并保存图像: D:/Code/CBCT_Reconstruction_ICP/data/01/adaptive_threshold_jpg\\slice_0202.jpg\n",
      "已处理并保存图像: D:/Code/CBCT_Reconstruction_ICP/data/01/adaptive_threshold_jpg\\slice_0203.jpg\n",
      "已处理并保存图像: D:/Code/CBCT_Reconstruction_ICP/data/01/adaptive_threshold_jpg\\slice_0204.jpg\n",
      "已处理并保存图像: D:/Code/CBCT_Reconstruction_ICP/data/01/adaptive_threshold_jpg\\slice_0205.jpg\n",
      "已处理并保存图像: D:/Code/CBCT_Reconstruction_ICP/data/01/adaptive_threshold_jpg\\slice_0206.jpg\n",
      "已处理并保存图像: D:/Code/CBCT_Reconstruction_ICP/data/01/adaptive_threshold_jpg\\slice_0207.jpg\n",
      "已处理并保存图像: D:/Code/CBCT_Reconstruction_ICP/data/01/adaptive_threshold_jpg\\slice_0208.jpg\n",
      "已处理并保存图像: D:/Code/CBCT_Reconstruction_ICP/data/01/adaptive_threshold_jpg\\slice_0209.jpg\n",
      "已处理并保存图像: D:/Code/CBCT_Reconstruction_ICP/data/01/adaptive_threshold_jpg\\slice_0210.jpg\n",
      "已处理并保存图像: D:/Code/CBCT_Reconstruction_ICP/data/01/adaptive_threshold_jpg\\slice_0211.jpg\n",
      "已处理并保存图像: D:/Code/CBCT_Reconstruction_ICP/data/01/adaptive_threshold_jpg\\slice_0212.jpg\n",
      "已处理并保存图像: D:/Code/CBCT_Reconstruction_ICP/data/01/adaptive_threshold_jpg\\slice_0213.jpg\n",
      "已处理并保存图像: D:/Code/CBCT_Reconstruction_ICP/data/01/adaptive_threshold_jpg\\slice_0214.jpg\n",
      "已处理并保存图像: D:/Code/CBCT_Reconstruction_ICP/data/01/adaptive_threshold_jpg\\slice_0215.jpg\n",
      "已处理并保存图像: D:/Code/CBCT_Reconstruction_ICP/data/01/adaptive_threshold_jpg\\slice_0216.jpg\n",
      "已处理并保存图像: D:/Code/CBCT_Reconstruction_ICP/data/01/adaptive_threshold_jpg\\slice_0217.jpg\n",
      "已处理并保存图像: D:/Code/CBCT_Reconstruction_ICP/data/01/adaptive_threshold_jpg\\slice_0218.jpg\n",
      "已处理并保存图像: D:/Code/CBCT_Reconstruction_ICP/data/01/adaptive_threshold_jpg\\slice_0219.jpg\n",
      "已处理并保存图像: D:/Code/CBCT_Reconstruction_ICP/data/01/adaptive_threshold_jpg\\slice_0220.jpg\n",
      "已处理并保存图像: D:/Code/CBCT_Reconstruction_ICP/data/01/adaptive_threshold_jpg\\slice_0221.jpg\n",
      "已处理并保存图像: D:/Code/CBCT_Reconstruction_ICP/data/01/adaptive_threshold_jpg\\slice_0222.jpg\n",
      "已处理并保存图像: D:/Code/CBCT_Reconstruction_ICP/data/01/adaptive_threshold_jpg\\slice_0223.jpg\n",
      "已处理并保存图像: D:/Code/CBCT_Reconstruction_ICP/data/01/adaptive_threshold_jpg\\slice_0224.jpg\n",
      "已处理并保存图像: D:/Code/CBCT_Reconstruction_ICP/data/01/adaptive_threshold_jpg\\slice_0225.jpg\n",
      "已处理并保存图像: D:/Code/CBCT_Reconstruction_ICP/data/01/adaptive_threshold_jpg\\slice_0226.jpg\n",
      "已处理并保存图像: D:/Code/CBCT_Reconstruction_ICP/data/01/adaptive_threshold_jpg\\slice_0227.jpg\n",
      "已处理并保存图像: D:/Code/CBCT_Reconstruction_ICP/data/01/adaptive_threshold_jpg\\slice_0228.jpg\n",
      "已处理并保存图像: D:/Code/CBCT_Reconstruction_ICP/data/01/adaptive_threshold_jpg\\slice_0229.jpg\n",
      "已处理并保存图像: D:/Code/CBCT_Reconstruction_ICP/data/01/adaptive_threshold_jpg\\slice_0230.jpg\n",
      "已处理并保存图像: D:/Code/CBCT_Reconstruction_ICP/data/01/adaptive_threshold_jpg\\slice_0231.jpg\n",
      "已处理并保存图像: D:/Code/CBCT_Reconstruction_ICP/data/01/adaptive_threshold_jpg\\slice_0232.jpg\n",
      "已处理并保存图像: D:/Code/CBCT_Reconstruction_ICP/data/01/adaptive_threshold_jpg\\slice_0233.jpg\n",
      "已处理并保存图像: D:/Code/CBCT_Reconstruction_ICP/data/01/adaptive_threshold_jpg\\slice_0234.jpg\n",
      "已处理并保存图像: D:/Code/CBCT_Reconstruction_ICP/data/01/adaptive_threshold_jpg\\slice_0235.jpg\n",
      "已处理并保存图像: D:/Code/CBCT_Reconstruction_ICP/data/01/adaptive_threshold_jpg\\slice_0236.jpg\n",
      "已处理并保存图像: D:/Code/CBCT_Reconstruction_ICP/data/01/adaptive_threshold_jpg\\slice_0237.jpg\n",
      "已处理并保存图像: D:/Code/CBCT_Reconstruction_ICP/data/01/adaptive_threshold_jpg\\slice_0238.jpg\n",
      "已处理并保存图像: D:/Code/CBCT_Reconstruction_ICP/data/01/adaptive_threshold_jpg\\slice_0239.jpg\n",
      "已处理并保存图像: D:/Code/CBCT_Reconstruction_ICP/data/01/adaptive_threshold_jpg\\slice_0240.jpg\n",
      "已处理并保存图像: D:/Code/CBCT_Reconstruction_ICP/data/01/adaptive_threshold_jpg\\slice_0241.jpg\n",
      "已处理并保存图像: D:/Code/CBCT_Reconstruction_ICP/data/01/adaptive_threshold_jpg\\slice_0242.jpg\n",
      "已处理并保存图像: D:/Code/CBCT_Reconstruction_ICP/data/01/adaptive_threshold_jpg\\slice_0243.jpg\n",
      "已处理并保存图像: D:/Code/CBCT_Reconstruction_ICP/data/01/adaptive_threshold_jpg\\slice_0244.jpg\n",
      "已处理并保存图像: D:/Code/CBCT_Reconstruction_ICP/data/01/adaptive_threshold_jpg\\slice_0245.jpg\n",
      "已处理并保存图像: D:/Code/CBCT_Reconstruction_ICP/data/01/adaptive_threshold_jpg\\slice_0246.jpg\n",
      "已处理并保存图像: D:/Code/CBCT_Reconstruction_ICP/data/01/adaptive_threshold_jpg\\slice_0247.jpg\n",
      "已处理并保存图像: D:/Code/CBCT_Reconstruction_ICP/data/01/adaptive_threshold_jpg\\slice_0248.jpg\n",
      "已处理并保存图像: D:/Code/CBCT_Reconstruction_ICP/data/01/adaptive_threshold_jpg\\slice_0249.jpg\n",
      "已处理并保存图像: D:/Code/CBCT_Reconstruction_ICP/data/01/adaptive_threshold_jpg\\slice_0250.jpg\n",
      "已处理并保存图像: D:/Code/CBCT_Reconstruction_ICP/data/01/adaptive_threshold_jpg\\slice_0251.jpg\n",
      "已处理并保存图像: D:/Code/CBCT_Reconstruction_ICP/data/01/adaptive_threshold_jpg\\slice_0252.jpg\n",
      "已处理并保存图像: D:/Code/CBCT_Reconstruction_ICP/data/01/adaptive_threshold_jpg\\slice_0253.jpg\n",
      "已处理并保存图像: D:/Code/CBCT_Reconstruction_ICP/data/01/adaptive_threshold_jpg\\slice_0254.jpg\n",
      "已处理并保存图像: D:/Code/CBCT_Reconstruction_ICP/data/01/adaptive_threshold_jpg\\slice_0255.jpg\n",
      "已处理并保存图像: D:/Code/CBCT_Reconstruction_ICP/data/01/adaptive_threshold_jpg\\slice_0256.jpg\n",
      "已处理并保存图像: D:/Code/CBCT_Reconstruction_ICP/data/01/adaptive_threshold_jpg\\slice_0257.jpg\n",
      "已处理并保存图像: D:/Code/CBCT_Reconstruction_ICP/data/01/adaptive_threshold_jpg\\slice_0258.jpg\n",
      "已处理并保存图像: D:/Code/CBCT_Reconstruction_ICP/data/01/adaptive_threshold_jpg\\slice_0259.jpg\n",
      "已处理并保存图像: D:/Code/CBCT_Reconstruction_ICP/data/01/adaptive_threshold_jpg\\slice_0260.jpg\n",
      "已处理并保存图像: D:/Code/CBCT_Reconstruction_ICP/data/01/adaptive_threshold_jpg\\slice_0261.jpg\n",
      "已处理并保存图像: D:/Code/CBCT_Reconstruction_ICP/data/01/adaptive_threshold_jpg\\slice_0262.jpg\n",
      "已处理并保存图像: D:/Code/CBCT_Reconstruction_ICP/data/01/adaptive_threshold_jpg\\slice_0263.jpg\n",
      "已处理并保存图像: D:/Code/CBCT_Reconstruction_ICP/data/01/adaptive_threshold_jpg\\slice_0264.jpg\n",
      "已处理并保存图像: D:/Code/CBCT_Reconstruction_ICP/data/01/adaptive_threshold_jpg\\slice_0265.jpg\n",
      "已处理并保存图像: D:/Code/CBCT_Reconstruction_ICP/data/01/adaptive_threshold_jpg\\slice_0266.jpg\n",
      "已处理并保存图像: D:/Code/CBCT_Reconstruction_ICP/data/01/adaptive_threshold_jpg\\slice_0267.jpg\n",
      "已处理并保存图像: D:/Code/CBCT_Reconstruction_ICP/data/01/adaptive_threshold_jpg\\slice_0268.jpg\n",
      "已处理并保存图像: D:/Code/CBCT_Reconstruction_ICP/data/01/adaptive_threshold_jpg\\slice_0269.jpg\n",
      "已处理并保存图像: D:/Code/CBCT_Reconstruction_ICP/data/01/adaptive_threshold_jpg\\slice_0270.jpg\n",
      "已处理并保存图像: D:/Code/CBCT_Reconstruction_ICP/data/01/adaptive_threshold_jpg\\slice_0271.jpg\n",
      "已处理并保存图像: D:/Code/CBCT_Reconstruction_ICP/data/01/adaptive_threshold_jpg\\slice_0272.jpg\n",
      "已处理并保存图像: D:/Code/CBCT_Reconstruction_ICP/data/01/adaptive_threshold_jpg\\slice_0273.jpg\n",
      "已处理并保存图像: D:/Code/CBCT_Reconstruction_ICP/data/01/adaptive_threshold_jpg\\slice_0274.jpg\n",
      "已处理并保存图像: D:/Code/CBCT_Reconstruction_ICP/data/01/adaptive_threshold_jpg\\slice_0275.jpg\n",
      "已处理并保存图像: D:/Code/CBCT_Reconstruction_ICP/data/01/adaptive_threshold_jpg\\slice_0276.jpg\n",
      "已处理并保存图像: D:/Code/CBCT_Reconstruction_ICP/data/01/adaptive_threshold_jpg\\slice_0277.jpg\n",
      "已处理并保存图像: D:/Code/CBCT_Reconstruction_ICP/data/01/adaptive_threshold_jpg\\slice_0278.jpg\n",
      "已处理并保存图像: D:/Code/CBCT_Reconstruction_ICP/data/01/adaptive_threshold_jpg\\slice_0279.jpg\n",
      "已处理并保存图像: D:/Code/CBCT_Reconstruction_ICP/data/01/adaptive_threshold_jpg\\slice_0280.jpg\n",
      "已处理并保存图像: D:/Code/CBCT_Reconstruction_ICP/data/01/adaptive_threshold_jpg\\slice_0281.jpg\n",
      "已处理并保存图像: D:/Code/CBCT_Reconstruction_ICP/data/01/adaptive_threshold_jpg\\slice_0282.jpg\n",
      "已处理并保存图像: D:/Code/CBCT_Reconstruction_ICP/data/01/adaptive_threshold_jpg\\slice_0283.jpg\n",
      "已处理并保存图像: D:/Code/CBCT_Reconstruction_ICP/data/01/adaptive_threshold_jpg\\slice_0284.jpg\n",
      "已处理并保存图像: D:/Code/CBCT_Reconstruction_ICP/data/01/adaptive_threshold_jpg\\slice_0285.jpg\n",
      "已处理并保存图像: D:/Code/CBCT_Reconstruction_ICP/data/01/adaptive_threshold_jpg\\slice_0286.jpg\n",
      "已处理并保存图像: D:/Code/CBCT_Reconstruction_ICP/data/01/adaptive_threshold_jpg\\slice_0287.jpg\n",
      "已处理并保存图像: D:/Code/CBCT_Reconstruction_ICP/data/01/adaptive_threshold_jpg\\slice_0288.jpg\n",
      "已处理并保存图像: D:/Code/CBCT_Reconstruction_ICP/data/01/adaptive_threshold_jpg\\slice_0289.jpg\n",
      "已处理并保存图像: D:/Code/CBCT_Reconstruction_ICP/data/01/adaptive_threshold_jpg\\slice_0290.jpg\n",
      "已处理并保存图像: D:/Code/CBCT_Reconstruction_ICP/data/01/adaptive_threshold_jpg\\slice_0291.jpg\n",
      "已处理并保存图像: D:/Code/CBCT_Reconstruction_ICP/data/01/adaptive_threshold_jpg\\slice_0292.jpg\n",
      "已处理并保存图像: D:/Code/CBCT_Reconstruction_ICP/data/01/adaptive_threshold_jpg\\slice_0293.jpg\n",
      "已处理并保存图像: D:/Code/CBCT_Reconstruction_ICP/data/01/adaptive_threshold_jpg\\slice_0294.jpg\n",
      "已处理并保存图像: D:/Code/CBCT_Reconstruction_ICP/data/01/adaptive_threshold_jpg\\slice_0295.jpg\n",
      "已处理并保存图像: D:/Code/CBCT_Reconstruction_ICP/data/01/adaptive_threshold_jpg\\slice_0296.jpg\n",
      "已处理并保存图像: D:/Code/CBCT_Reconstruction_ICP/data/01/adaptive_threshold_jpg\\slice_0297.jpg\n",
      "已处理并保存图像: D:/Code/CBCT_Reconstruction_ICP/data/01/adaptive_threshold_jpg\\slice_0298.jpg\n",
      "已处理并保存图像: D:/Code/CBCT_Reconstruction_ICP/data/01/adaptive_threshold_jpg\\slice_0299.jpg\n",
      "已处理并保存图像: D:/Code/CBCT_Reconstruction_ICP/data/01/adaptive_threshold_jpg\\slice_0300.jpg\n",
      "已处理并保存图像: D:/Code/CBCT_Reconstruction_ICP/data/01/adaptive_threshold_jpg\\slice_0301.jpg\n",
      "已处理并保存图像: D:/Code/CBCT_Reconstruction_ICP/data/01/adaptive_threshold_jpg\\slice_0302.jpg\n",
      "已处理并保存图像: D:/Code/CBCT_Reconstruction_ICP/data/01/adaptive_threshold_jpg\\slice_0303.jpg\n",
      "已处理并保存图像: D:/Code/CBCT_Reconstruction_ICP/data/01/adaptive_threshold_jpg\\slice_0304.jpg\n",
      "已处理并保存图像: D:/Code/CBCT_Reconstruction_ICP/data/01/adaptive_threshold_jpg\\slice_0305.jpg\n",
      "已处理并保存图像: D:/Code/CBCT_Reconstruction_ICP/data/01/adaptive_threshold_jpg\\slice_0306.jpg\n",
      "已处理并保存图像: D:/Code/CBCT_Reconstruction_ICP/data/01/adaptive_threshold_jpg\\slice_0307.jpg\n",
      "已处理并保存图像: D:/Code/CBCT_Reconstruction_ICP/data/01/adaptive_threshold_jpg\\slice_0308.jpg\n",
      "已处理并保存图像: D:/Code/CBCT_Reconstruction_ICP/data/01/adaptive_threshold_jpg\\slice_0309.jpg\n",
      "已处理并保存图像: D:/Code/CBCT_Reconstruction_ICP/data/01/adaptive_threshold_jpg\\slice_0310.jpg\n",
      "已处理并保存图像: D:/Code/CBCT_Reconstruction_ICP/data/01/adaptive_threshold_jpg\\slice_0311.jpg\n",
      "已处理并保存图像: D:/Code/CBCT_Reconstruction_ICP/data/01/adaptive_threshold_jpg\\slice_0312.jpg\n",
      "已处理并保存图像: D:/Code/CBCT_Reconstruction_ICP/data/01/adaptive_threshold_jpg\\slice_0313.jpg\n",
      "已处理并保存图像: D:/Code/CBCT_Reconstruction_ICP/data/01/adaptive_threshold_jpg\\slice_0314.jpg\n",
      "已处理并保存图像: D:/Code/CBCT_Reconstruction_ICP/data/01/adaptive_threshold_jpg\\slice_0315.jpg\n",
      "已处理并保存图像: D:/Code/CBCT_Reconstruction_ICP/data/01/adaptive_threshold_jpg\\slice_0316.jpg\n",
      "已处理并保存图像: D:/Code/CBCT_Reconstruction_ICP/data/01/adaptive_threshold_jpg\\slice_0317.jpg\n",
      "已处理并保存图像: D:/Code/CBCT_Reconstruction_ICP/data/01/adaptive_threshold_jpg\\slice_0318.jpg\n",
      "已处理并保存图像: D:/Code/CBCT_Reconstruction_ICP/data/01/adaptive_threshold_jpg\\slice_0319.jpg\n",
      "已处理并保存图像: D:/Code/CBCT_Reconstruction_ICP/data/01/adaptive_threshold_jpg\\slice_0320.jpg\n",
      "已处理并保存图像: D:/Code/CBCT_Reconstruction_ICP/data/01/adaptive_threshold_jpg\\slice_0321.jpg\n",
      "已处理并保存图像: D:/Code/CBCT_Reconstruction_ICP/data/01/adaptive_threshold_jpg\\slice_0322.jpg\n",
      "已处理并保存图像: D:/Code/CBCT_Reconstruction_ICP/data/01/adaptive_threshold_jpg\\slice_0323.jpg\n",
      "已处理并保存图像: D:/Code/CBCT_Reconstruction_ICP/data/01/adaptive_threshold_jpg\\slice_0324.jpg\n",
      "已处理并保存图像: D:/Code/CBCT_Reconstruction_ICP/data/01/adaptive_threshold_jpg\\slice_0325.jpg\n",
      "已处理并保存图像: D:/Code/CBCT_Reconstruction_ICP/data/01/adaptive_threshold_jpg\\slice_0326.jpg\n",
      "已处理并保存图像: D:/Code/CBCT_Reconstruction_ICP/data/01/adaptive_threshold_jpg\\slice_0327.jpg\n",
      "已处理并保存图像: D:/Code/CBCT_Reconstruction_ICP/data/01/adaptive_threshold_jpg\\slice_0328.jpg\n",
      "已处理并保存图像: D:/Code/CBCT_Reconstruction_ICP/data/01/adaptive_threshold_jpg\\slice_0329.jpg\n",
      "已处理并保存图像: D:/Code/CBCT_Reconstruction_ICP/data/01/adaptive_threshold_jpg\\slice_0330.jpg\n",
      "已处理并保存图像: D:/Code/CBCT_Reconstruction_ICP/data/01/adaptive_threshold_jpg\\slice_0331.jpg\n",
      "已处理并保存图像: D:/Code/CBCT_Reconstruction_ICP/data/01/adaptive_threshold_jpg\\slice_0332.jpg\n",
      "已处理并保存图像: D:/Code/CBCT_Reconstruction_ICP/data/01/adaptive_threshold_jpg\\slice_0333.jpg\n",
      "已处理并保存图像: D:/Code/CBCT_Reconstruction_ICP/data/01/adaptive_threshold_jpg\\slice_0334.jpg\n",
      "已处理并保存图像: D:/Code/CBCT_Reconstruction_ICP/data/01/adaptive_threshold_jpg\\slice_0335.jpg\n",
      "已处理并保存图像: D:/Code/CBCT_Reconstruction_ICP/data/01/adaptive_threshold_jpg\\slice_0336.jpg\n",
      "已处理并保存图像: D:/Code/CBCT_Reconstruction_ICP/data/01/adaptive_threshold_jpg\\slice_0337.jpg\n",
      "已处理并保存图像: D:/Code/CBCT_Reconstruction_ICP/data/01/adaptive_threshold_jpg\\slice_0338.jpg\n",
      "已处理并保存图像: D:/Code/CBCT_Reconstruction_ICP/data/01/adaptive_threshold_jpg\\slice_0339.jpg\n",
      "已处理并保存图像: D:/Code/CBCT_Reconstruction_ICP/data/01/adaptive_threshold_jpg\\slice_0340.jpg\n",
      "已处理并保存图像: D:/Code/CBCT_Reconstruction_ICP/data/01/adaptive_threshold_jpg\\slice_0341.jpg\n",
      "已处理并保存图像: D:/Code/CBCT_Reconstruction_ICP/data/01/adaptive_threshold_jpg\\slice_0342.jpg\n",
      "已处理并保存图像: D:/Code/CBCT_Reconstruction_ICP/data/01/adaptive_threshold_jpg\\slice_0343.jpg\n",
      "已处理并保存图像: D:/Code/CBCT_Reconstruction_ICP/data/01/adaptive_threshold_jpg\\slice_0344.jpg\n",
      "已处理并保存图像: D:/Code/CBCT_Reconstruction_ICP/data/01/adaptive_threshold_jpg\\slice_0345.jpg\n",
      "已处理并保存图像: D:/Code/CBCT_Reconstruction_ICP/data/01/adaptive_threshold_jpg\\slice_0346.jpg\n",
      "已处理并保存图像: D:/Code/CBCT_Reconstruction_ICP/data/01/adaptive_threshold_jpg\\slice_0347.jpg\n",
      "已处理并保存图像: D:/Code/CBCT_Reconstruction_ICP/data/01/adaptive_threshold_jpg\\slice_0348.jpg\n",
      "已处理并保存图像: D:/Code/CBCT_Reconstruction_ICP/data/01/adaptive_threshold_jpg\\slice_0349.jpg\n",
      "已处理并保存图像: D:/Code/CBCT_Reconstruction_ICP/data/01/adaptive_threshold_jpg\\slice_0350.jpg\n",
      "已处理并保存图像: D:/Code/CBCT_Reconstruction_ICP/data/01/adaptive_threshold_jpg\\slice_0351.jpg\n",
      "已处理并保存图像: D:/Code/CBCT_Reconstruction_ICP/data/01/adaptive_threshold_jpg\\slice_0352.jpg\n",
      "已处理并保存图像: D:/Code/CBCT_Reconstruction_ICP/data/01/adaptive_threshold_jpg\\slice_0353.jpg\n",
      "已处理并保存图像: D:/Code/CBCT_Reconstruction_ICP/data/01/adaptive_threshold_jpg\\slice_0354.jpg\n",
      "已处理并保存图像: D:/Code/CBCT_Reconstruction_ICP/data/01/adaptive_threshold_jpg\\slice_0355.jpg\n",
      "已处理并保存图像: D:/Code/CBCT_Reconstruction_ICP/data/01/adaptive_threshold_jpg\\slice_0356.jpg\n",
      "已处理并保存图像: D:/Code/CBCT_Reconstruction_ICP/data/01/adaptive_threshold_jpg\\slice_0357.jpg\n",
      "已处理并保存图像: D:/Code/CBCT_Reconstruction_ICP/data/01/adaptive_threshold_jpg\\slice_0358.jpg\n",
      "已处理并保存图像: D:/Code/CBCT_Reconstruction_ICP/data/01/adaptive_threshold_jpg\\slice_0359.jpg\n",
      "已处理并保存图像: D:/Code/CBCT_Reconstruction_ICP/data/01/adaptive_threshold_jpg\\slice_0360.jpg\n",
      "已处理并保存图像: D:/Code/CBCT_Reconstruction_ICP/data/01/adaptive_threshold_jpg\\slice_0361.jpg\n",
      "已处理并保存图像: D:/Code/CBCT_Reconstruction_ICP/data/01/adaptive_threshold_jpg\\slice_0362.jpg\n",
      "已处理并保存图像: D:/Code/CBCT_Reconstruction_ICP/data/01/adaptive_threshold_jpg\\slice_0363.jpg\n",
      "已处理并保存图像: D:/Code/CBCT_Reconstruction_ICP/data/01/adaptive_threshold_jpg\\slice_0364.jpg\n",
      "已处理并保存图像: D:/Code/CBCT_Reconstruction_ICP/data/01/adaptive_threshold_jpg\\slice_0365.jpg\n",
      "已处理并保存图像: D:/Code/CBCT_Reconstruction_ICP/data/01/adaptive_threshold_jpg\\slice_0366.jpg\n",
      "已处理并保存图像: D:/Code/CBCT_Reconstruction_ICP/data/01/adaptive_threshold_jpg\\slice_0367.jpg\n",
      "已处理并保存图像: D:/Code/CBCT_Reconstruction_ICP/data/01/adaptive_threshold_jpg\\slice_0368.jpg\n",
      "已处理并保存图像: D:/Code/CBCT_Reconstruction_ICP/data/01/adaptive_threshold_jpg\\slice_0369.jpg\n",
      "已处理并保存图像: D:/Code/CBCT_Reconstruction_ICP/data/01/adaptive_threshold_jpg\\slice_0370.jpg\n",
      "已处理并保存图像: D:/Code/CBCT_Reconstruction_ICP/data/01/adaptive_threshold_jpg\\slice_0371.jpg\n",
      "已处理并保存图像: D:/Code/CBCT_Reconstruction_ICP/data/01/adaptive_threshold_jpg\\slice_0372.jpg\n",
      "已处理并保存图像: D:/Code/CBCT_Reconstruction_ICP/data/01/adaptive_threshold_jpg\\slice_0373.jpg\n",
      "已处理并保存图像: D:/Code/CBCT_Reconstruction_ICP/data/01/adaptive_threshold_jpg\\slice_0374.jpg\n",
      "已处理并保存图像: D:/Code/CBCT_Reconstruction_ICP/data/01/adaptive_threshold_jpg\\slice_0375.jpg\n",
      "已处理并保存图像: D:/Code/CBCT_Reconstruction_ICP/data/01/adaptive_threshold_jpg\\slice_0376.jpg\n",
      "已处理并保存图像: D:/Code/CBCT_Reconstruction_ICP/data/01/adaptive_threshold_jpg\\slice_0377.jpg\n",
      "已处理并保存图像: D:/Code/CBCT_Reconstruction_ICP/data/01/adaptive_threshold_jpg\\slice_0378.jpg\n",
      "已处理并保存图像: D:/Code/CBCT_Reconstruction_ICP/data/01/adaptive_threshold_jpg\\slice_0379.jpg\n",
      "已处理并保存图像: D:/Code/CBCT_Reconstruction_ICP/data/01/adaptive_threshold_jpg\\slice_0380.jpg\n",
      "已处理并保存图像: D:/Code/CBCT_Reconstruction_ICP/data/01/adaptive_threshold_jpg\\slice_0381.jpg\n",
      "已处理并保存图像: D:/Code/CBCT_Reconstruction_ICP/data/01/adaptive_threshold_jpg\\slice_0382.jpg\n",
      "已处理并保存图像: D:/Code/CBCT_Reconstruction_ICP/data/01/adaptive_threshold_jpg\\slice_0383.jpg\n",
      "已处理并保存图像: D:/Code/CBCT_Reconstruction_ICP/data/01/adaptive_threshold_jpg\\slice_0384.jpg\n",
      "已处理并保存图像: D:/Code/CBCT_Reconstruction_ICP/data/01/adaptive_threshold_jpg\\slice_0385.jpg\n",
      "已处理并保存图像: D:/Code/CBCT_Reconstruction_ICP/data/01/adaptive_threshold_jpg\\slice_0386.jpg\n",
      "已处理并保存图像: D:/Code/CBCT_Reconstruction_ICP/data/01/adaptive_threshold_jpg\\slice_0387.jpg\n",
      "已处理并保存图像: D:/Code/CBCT_Reconstruction_ICP/data/01/adaptive_threshold_jpg\\slice_0388.jpg\n",
      "已处理并保存图像: D:/Code/CBCT_Reconstruction_ICP/data/01/adaptive_threshold_jpg\\slice_0389.jpg\n",
      "已处理并保存图像: D:/Code/CBCT_Reconstruction_ICP/data/01/adaptive_threshold_jpg\\slice_0390.jpg\n",
      "已处理并保存图像: D:/Code/CBCT_Reconstruction_ICP/data/01/adaptive_threshold_jpg\\slice_0391.jpg\n",
      "已处理并保存图像: D:/Code/CBCT_Reconstruction_ICP/data/01/adaptive_threshold_jpg\\slice_0392.jpg\n",
      "已处理并保存图像: D:/Code/CBCT_Reconstruction_ICP/data/01/adaptive_threshold_jpg\\slice_0393.jpg\n",
      "已处理并保存图像: D:/Code/CBCT_Reconstruction_ICP/data/01/adaptive_threshold_jpg\\slice_0394.jpg\n",
      "已处理并保存图像: D:/Code/CBCT_Reconstruction_ICP/data/01/adaptive_threshold_jpg\\slice_0395.jpg\n",
      "已处理并保存图像: D:/Code/CBCT_Reconstruction_ICP/data/01/adaptive_threshold_jpg\\slice_0396.jpg\n",
      "已处理并保存图像: D:/Code/CBCT_Reconstruction_ICP/data/01/adaptive_threshold_jpg\\slice_0397.jpg\n",
      "已处理并保存图像: D:/Code/CBCT_Reconstruction_ICP/data/01/adaptive_threshold_jpg\\slice_0398.jpg\n",
      "已处理并保存图像: D:/Code/CBCT_Reconstruction_ICP/data/01/adaptive_threshold_jpg\\slice_0399.jpg\n",
      "已处理并保存图像: D:/Code/CBCT_Reconstruction_ICP/data/01/adaptive_threshold_jpg\\slice_0400.jpg\n",
      "已处理并保存图像: D:/Code/CBCT_Reconstruction_ICP/data/01/adaptive_threshold_jpg\\slice_0401.jpg\n",
      "已处理并保存图像: D:/Code/CBCT_Reconstruction_ICP/data/01/adaptive_threshold_jpg\\slice_0402.jpg\n",
      "已处理并保存图像: D:/Code/CBCT_Reconstruction_ICP/data/01/adaptive_threshold_jpg\\slice_0403.jpg\n",
      "已处理并保存图像: D:/Code/CBCT_Reconstruction_ICP/data/01/adaptive_threshold_jpg\\slice_0404.jpg\n",
      "已处理并保存图像: D:/Code/CBCT_Reconstruction_ICP/data/01/adaptive_threshold_jpg\\slice_0405.jpg\n",
      "已处理并保存图像: D:/Code/CBCT_Reconstruction_ICP/data/01/adaptive_threshold_jpg\\slice_0406.jpg\n",
      "已处理并保存图像: D:/Code/CBCT_Reconstruction_ICP/data/01/adaptive_threshold_jpg\\slice_0407.jpg\n",
      "已处理并保存图像: D:/Code/CBCT_Reconstruction_ICP/data/01/adaptive_threshold_jpg\\slice_0408.jpg\n",
      "已处理并保存图像: D:/Code/CBCT_Reconstruction_ICP/data/01/adaptive_threshold_jpg\\slice_0409.jpg\n",
      "已处理并保存图像: D:/Code/CBCT_Reconstruction_ICP/data/01/adaptive_threshold_jpg\\slice_0410.jpg\n",
      "已处理并保存图像: D:/Code/CBCT_Reconstruction_ICP/data/01/adaptive_threshold_jpg\\slice_0411.jpg\n",
      "已处理并保存图像: D:/Code/CBCT_Reconstruction_ICP/data/01/adaptive_threshold_jpg\\slice_0412.jpg\n",
      "已处理并保存图像: D:/Code/CBCT_Reconstruction_ICP/data/01/adaptive_threshold_jpg\\slice_0413.jpg\n",
      "已处理并保存图像: D:/Code/CBCT_Reconstruction_ICP/data/01/adaptive_threshold_jpg\\slice_0414.jpg\n",
      "已处理并保存图像: D:/Code/CBCT_Reconstruction_ICP/data/01/adaptive_threshold_jpg\\slice_0415.jpg\n",
      "已处理并保存图像: D:/Code/CBCT_Reconstruction_ICP/data/01/adaptive_threshold_jpg\\slice_0416.jpg\n",
      "已处理并保存图像: D:/Code/CBCT_Reconstruction_ICP/data/01/adaptive_threshold_jpg\\slice_0417.jpg\n",
      "已处理并保存图像: D:/Code/CBCT_Reconstruction_ICP/data/01/adaptive_threshold_jpg\\slice_0418.jpg\n",
      "已处理并保存图像: D:/Code/CBCT_Reconstruction_ICP/data/01/adaptive_threshold_jpg\\slice_0419.jpg\n",
      "已处理并保存图像: D:/Code/CBCT_Reconstruction_ICP/data/01/adaptive_threshold_jpg\\slice_0420.jpg\n",
      "已处理并保存图像: D:/Code/CBCT_Reconstruction_ICP/data/01/adaptive_threshold_jpg\\slice_0421.jpg\n",
      "已处理并保存图像: D:/Code/CBCT_Reconstruction_ICP/data/01/adaptive_threshold_jpg\\slice_0422.jpg\n",
      "已处理并保存图像: D:/Code/CBCT_Reconstruction_ICP/data/01/adaptive_threshold_jpg\\slice_0423.jpg\n",
      "已处理并保存图像: D:/Code/CBCT_Reconstruction_ICP/data/01/adaptive_threshold_jpg\\slice_0424.jpg\n",
      "已处理并保存图像: D:/Code/CBCT_Reconstruction_ICP/data/01/adaptive_threshold_jpg\\slice_0425.jpg\n",
      "已处理并保存图像: D:/Code/CBCT_Reconstruction_ICP/data/01/adaptive_threshold_jpg\\slice_0426.jpg\n",
      "已处理并保存图像: D:/Code/CBCT_Reconstruction_ICP/data/01/adaptive_threshold_jpg\\slice_0427.jpg\n",
      "已处理并保存图像: D:/Code/CBCT_Reconstruction_ICP/data/01/adaptive_threshold_jpg\\slice_0428.jpg\n",
      "已处理并保存图像: D:/Code/CBCT_Reconstruction_ICP/data/01/adaptive_threshold_jpg\\slice_0429.jpg\n",
      "已处理并保存图像: D:/Code/CBCT_Reconstruction_ICP/data/01/adaptive_threshold_jpg\\slice_0430.jpg\n",
      "已处理并保存图像: D:/Code/CBCT_Reconstruction_ICP/data/01/adaptive_threshold_jpg\\slice_0431.jpg\n",
      "已处理并保存图像: D:/Code/CBCT_Reconstruction_ICP/data/01/adaptive_threshold_jpg\\slice_0432.jpg\n",
      "已处理并保存图像: D:/Code/CBCT_Reconstruction_ICP/data/01/adaptive_threshold_jpg\\slice_0433.jpg\n",
      "已处理并保存图像: D:/Code/CBCT_Reconstruction_ICP/data/01/adaptive_threshold_jpg\\slice_0434.jpg\n",
      "已处理并保存图像: D:/Code/CBCT_Reconstruction_ICP/data/01/adaptive_threshold_jpg\\slice_0435.jpg\n",
      "已处理并保存图像: D:/Code/CBCT_Reconstruction_ICP/data/01/adaptive_threshold_jpg\\slice_0436.jpg\n",
      "已处理并保存图像: D:/Code/CBCT_Reconstruction_ICP/data/01/adaptive_threshold_jpg\\slice_0437.jpg\n",
      "已处理并保存图像: D:/Code/CBCT_Reconstruction_ICP/data/01/adaptive_threshold_jpg\\slice_0438.jpg\n",
      "已处理并保存图像: D:/Code/CBCT_Reconstruction_ICP/data/01/adaptive_threshold_jpg\\slice_0439.jpg\n",
      "已处理并保存图像: D:/Code/CBCT_Reconstruction_ICP/data/01/adaptive_threshold_jpg\\slice_0440.jpg\n",
      "已处理并保存图像: D:/Code/CBCT_Reconstruction_ICP/data/01/adaptive_threshold_jpg\\slice_0441.jpg\n",
      "已处理并保存图像: D:/Code/CBCT_Reconstruction_ICP/data/01/adaptive_threshold_jpg\\slice_0442.jpg\n",
      "已处理并保存图像: D:/Code/CBCT_Reconstruction_ICP/data/01/adaptive_threshold_jpg\\slice_0443.jpg\n",
      "已处理并保存图像: D:/Code/CBCT_Reconstruction_ICP/data/01/adaptive_threshold_jpg\\slice_0444.jpg\n",
      "已处理并保存图像: D:/Code/CBCT_Reconstruction_ICP/data/01/adaptive_threshold_jpg\\slice_0445.jpg\n",
      "已处理并保存图像: D:/Code/CBCT_Reconstruction_ICP/data/01/adaptive_threshold_jpg\\slice_0446.jpg\n",
      "已处理并保存图像: D:/Code/CBCT_Reconstruction_ICP/data/01/adaptive_threshold_jpg\\slice_0447.jpg\n",
      "已处理并保存图像: D:/Code/CBCT_Reconstruction_ICP/data/01/adaptive_threshold_jpg\\slice_0448.jpg\n",
      "已处理并保存图像: D:/Code/CBCT_Reconstruction_ICP/data/01/adaptive_threshold_jpg\\slice_0449.jpg\n",
      "已处理并保存图像: D:/Code/CBCT_Reconstruction_ICP/data/01/adaptive_threshold_jpg\\slice_0450.jpg\n",
      "已处理并保存图像: D:/Code/CBCT_Reconstruction_ICP/data/01/adaptive_threshold_jpg\\slice_0451.jpg\n",
      "已处理并保存图像: D:/Code/CBCT_Reconstruction_ICP/data/01/adaptive_threshold_jpg\\slice_0452.jpg\n",
      "已处理并保存图像: D:/Code/CBCT_Reconstruction_ICP/data/01/adaptive_threshold_jpg\\slice_0453.jpg\n",
      "已处理并保存图像: D:/Code/CBCT_Reconstruction_ICP/data/01/adaptive_threshold_jpg\\slice_0454.jpg\n",
      "已处理并保存图像: D:/Code/CBCT_Reconstruction_ICP/data/01/adaptive_threshold_jpg\\slice_0455.jpg\n",
      "已处理并保存图像: D:/Code/CBCT_Reconstruction_ICP/data/01/adaptive_threshold_jpg\\slice_0456.jpg\n",
      "已处理并保存图像: D:/Code/CBCT_Reconstruction_ICP/data/01/adaptive_threshold_jpg\\slice_0457.jpg\n",
      "已处理并保存图像: D:/Code/CBCT_Reconstruction_ICP/data/01/adaptive_threshold_jpg\\slice_0458.jpg\n",
      "已处理并保存图像: D:/Code/CBCT_Reconstruction_ICP/data/01/adaptive_threshold_jpg\\slice_0459.jpg\n",
      "已处理并保存图像: D:/Code/CBCT_Reconstruction_ICP/data/01/adaptive_threshold_jpg\\slice_0460.jpg\n",
      "已处理并保存图像: D:/Code/CBCT_Reconstruction_ICP/data/01/adaptive_threshold_jpg\\slice_0461.jpg\n",
      "已处理并保存图像: D:/Code/CBCT_Reconstruction_ICP/data/01/adaptive_threshold_jpg\\slice_0462.jpg\n",
      "已处理并保存图像: D:/Code/CBCT_Reconstruction_ICP/data/01/adaptive_threshold_jpg\\slice_0463.jpg\n",
      "已处理并保存图像: D:/Code/CBCT_Reconstruction_ICP/data/01/adaptive_threshold_jpg\\slice_0464.jpg\n",
      "已处理并保存图像: D:/Code/CBCT_Reconstruction_ICP/data/01/adaptive_threshold_jpg\\slice_0465.jpg\n",
      "已处理并保存图像: D:/Code/CBCT_Reconstruction_ICP/data/01/adaptive_threshold_jpg\\slice_0466.jpg\n",
      "已处理并保存图像: D:/Code/CBCT_Reconstruction_ICP/data/01/adaptive_threshold_jpg\\slice_0467.jpg\n",
      "已处理并保存图像: D:/Code/CBCT_Reconstruction_ICP/data/01/adaptive_threshold_jpg\\slice_0468.jpg\n",
      "已处理并保存图像: D:/Code/CBCT_Reconstruction_ICP/data/01/adaptive_threshold_jpg\\slice_0469.jpg\n",
      "已处理并保存图像: D:/Code/CBCT_Reconstruction_ICP/data/01/adaptive_threshold_jpg\\slice_0470.jpg\n",
      "已处理并保存图像: D:/Code/CBCT_Reconstruction_ICP/data/01/adaptive_threshold_jpg\\slice_0471.jpg\n",
      "已处理并保存图像: D:/Code/CBCT_Reconstruction_ICP/data/01/adaptive_threshold_jpg\\slice_0472.jpg\n",
      "已处理并保存图像: D:/Code/CBCT_Reconstruction_ICP/data/01/adaptive_threshold_jpg\\slice_0473.jpg\n",
      "已处理并保存图像: D:/Code/CBCT_Reconstruction_ICP/data/01/adaptive_threshold_jpg\\slice_0474.jpg\n",
      "已处理并保存图像: D:/Code/CBCT_Reconstruction_ICP/data/01/adaptive_threshold_jpg\\slice_0475.jpg\n",
      "已处理并保存图像: D:/Code/CBCT_Reconstruction_ICP/data/01/adaptive_threshold_jpg\\slice_0476.jpg\n",
      "已处理并保存图像: D:/Code/CBCT_Reconstruction_ICP/data/01/adaptive_threshold_jpg\\slice_0477.jpg\n",
      "已处理并保存图像: D:/Code/CBCT_Reconstruction_ICP/data/01/adaptive_threshold_jpg\\slice_0478.jpg\n",
      "已处理并保存图像: D:/Code/CBCT_Reconstruction_ICP/data/01/adaptive_threshold_jpg\\slice_0479.jpg\n",
      "已处理并保存图像: D:/Code/CBCT_Reconstruction_ICP/data/01/adaptive_threshold_jpg\\slice_0480.jpg\n",
      "已处理并保存图像: D:/Code/CBCT_Reconstruction_ICP/data/01/adaptive_threshold_jpg\\slice_0481.jpg\n",
      "已处理并保存图像: D:/Code/CBCT_Reconstruction_ICP/data/01/adaptive_threshold_jpg\\slice_0482.jpg\n",
      "已处理并保存图像: D:/Code/CBCT_Reconstruction_ICP/data/01/adaptive_threshold_jpg\\slice_0483.jpg\n",
      "已处理并保存图像: D:/Code/CBCT_Reconstruction_ICP/data/01/adaptive_threshold_jpg\\slice_0484.jpg\n",
      "已处理并保存图像: D:/Code/CBCT_Reconstruction_ICP/data/01/adaptive_threshold_jpg\\slice_0485.jpg\n",
      "已处理并保存图像: D:/Code/CBCT_Reconstruction_ICP/data/01/adaptive_threshold_jpg\\slice_0486.jpg\n",
      "已处理并保存图像: D:/Code/CBCT_Reconstruction_ICP/data/01/adaptive_threshold_jpg\\slice_0487.jpg\n",
      "已处理并保存图像: D:/Code/CBCT_Reconstruction_ICP/data/01/adaptive_threshold_jpg\\slice_0488.jpg\n",
      "已处理并保存图像: D:/Code/CBCT_Reconstruction_ICP/data/01/adaptive_threshold_jpg\\slice_0489.jpg\n",
      "已处理并保存图像: D:/Code/CBCT_Reconstruction_ICP/data/01/adaptive_threshold_jpg\\slice_0490.jpg\n",
      "已处理并保存图像: D:/Code/CBCT_Reconstruction_ICP/data/01/adaptive_threshold_jpg\\slice_0491.jpg\n",
      "已处理并保存图像: D:/Code/CBCT_Reconstruction_ICP/data/01/adaptive_threshold_jpg\\slice_0492.jpg\n",
      "已处理并保存图像: D:/Code/CBCT_Reconstruction_ICP/data/01/adaptive_threshold_jpg\\slice_0493.jpg\n",
      "已处理并保存图像: D:/Code/CBCT_Reconstruction_ICP/data/01/adaptive_threshold_jpg\\slice_0494.jpg\n",
      "已处理并保存图像: D:/Code/CBCT_Reconstruction_ICP/data/01/adaptive_threshold_jpg\\slice_0495.jpg\n",
      "已处理并保存图像: D:/Code/CBCT_Reconstruction_ICP/data/01/adaptive_threshold_jpg\\slice_0496.jpg\n",
      "已处理并保存图像: D:/Code/CBCT_Reconstruction_ICP/data/01/adaptive_threshold_jpg\\slice_0497.jpg\n",
      "已处理并保存图像: D:/Code/CBCT_Reconstruction_ICP/data/01/adaptive_threshold_jpg\\slice_0498.jpg\n",
      "已处理并保存图像: D:/Code/CBCT_Reconstruction_ICP/data/01/adaptive_threshold_jpg\\slice_0499.jpg\n",
      "已处理并保存图像: D:/Code/CBCT_Reconstruction_ICP/data/01/adaptive_threshold_jpg\\slice_0500.jpg\n",
      "已处理并保存图像: D:/Code/CBCT_Reconstruction_ICP/data/01/adaptive_threshold_jpg\\slice_0501.jpg\n",
      "已处理并保存图像: D:/Code/CBCT_Reconstruction_ICP/data/01/adaptive_threshold_jpg\\slice_0502.jpg\n",
      "已处理并保存图像: D:/Code/CBCT_Reconstruction_ICP/data/01/adaptive_threshold_jpg\\slice_0503.jpg\n",
      "已处理并保存图像: D:/Code/CBCT_Reconstruction_ICP/data/01/adaptive_threshold_jpg\\slice_0504.jpg\n",
      "已处理并保存图像: D:/Code/CBCT_Reconstruction_ICP/data/01/adaptive_threshold_jpg\\slice_0505.jpg\n",
      "已处理并保存图像: D:/Code/CBCT_Reconstruction_ICP/data/01/adaptive_threshold_jpg\\slice_0506.jpg\n",
      "已处理并保存图像: D:/Code/CBCT_Reconstruction_ICP/data/01/adaptive_threshold_jpg\\slice_0507.jpg\n",
      "已处理并保存图像: D:/Code/CBCT_Reconstruction_ICP/data/01/adaptive_threshold_jpg\\slice_0508.jpg\n",
      "已处理并保存图像: D:/Code/CBCT_Reconstruction_ICP/data/01/adaptive_threshold_jpg\\slice_0509.jpg\n",
      "已处理并保存图像: D:/Code/CBCT_Reconstruction_ICP/data/01/adaptive_threshold_jpg\\slice_0510.jpg\n",
      "已处理并保存图像: D:/Code/CBCT_Reconstruction_ICP/data/01/adaptive_threshold_jpg\\slice_0511.jpg\n",
      "已处理并保存图像: D:/Code/CBCT_Reconstruction_ICP/data/01/adaptive_threshold_jpg\\slice_0512.jpg\n",
      "已处理并保存图像: D:/Code/CBCT_Reconstruction_ICP/data/01/adaptive_threshold_jpg\\slice_0513.jpg\n",
      "已处理并保存图像: D:/Code/CBCT_Reconstruction_ICP/data/01/adaptive_threshold_jpg\\slice_0514.jpg\n",
      "已处理并保存图像: D:/Code/CBCT_Reconstruction_ICP/data/01/adaptive_threshold_jpg\\slice_0515.jpg\n",
      "已处理并保存图像: D:/Code/CBCT_Reconstruction_ICP/data/01/adaptive_threshold_jpg\\slice_0516.jpg\n",
      "已处理并保存图像: D:/Code/CBCT_Reconstruction_ICP/data/01/adaptive_threshold_jpg\\slice_0517.jpg\n",
      "已处理并保存图像: D:/Code/CBCT_Reconstruction_ICP/data/01/adaptive_threshold_jpg\\slice_0518.jpg\n",
      "已处理并保存图像: D:/Code/CBCT_Reconstruction_ICP/data/01/adaptive_threshold_jpg\\slice_0519.jpg\n",
      "已处理并保存图像: D:/Code/CBCT_Reconstruction_ICP/data/01/adaptive_threshold_jpg\\slice_0520.jpg\n",
      "已处理并保存图像: D:/Code/CBCT_Reconstruction_ICP/data/01/adaptive_threshold_jpg\\slice_0521.jpg\n",
      "已处理并保存图像: D:/Code/CBCT_Reconstruction_ICP/data/01/adaptive_threshold_jpg\\slice_0522.jpg\n",
      "已处理并保存图像: D:/Code/CBCT_Reconstruction_ICP/data/01/adaptive_threshold_jpg\\slice_0523.jpg\n",
      "已处理并保存图像: D:/Code/CBCT_Reconstruction_ICP/data/01/adaptive_threshold_jpg\\slice_0524.jpg\n",
      "已处理并保存图像: D:/Code/CBCT_Reconstruction_ICP/data/01/adaptive_threshold_jpg\\slice_0525.jpg\n",
      "已处理并保存图像: D:/Code/CBCT_Reconstruction_ICP/data/01/adaptive_threshold_jpg\\slice_0526.jpg\n",
      "已处理并保存图像: D:/Code/CBCT_Reconstruction_ICP/data/01/adaptive_threshold_jpg\\slice_0527.jpg\n",
      "已处理并保存图像: D:/Code/CBCT_Reconstruction_ICP/data/01/adaptive_threshold_jpg\\slice_0528.jpg\n",
      "已处理并保存图像: D:/Code/CBCT_Reconstruction_ICP/data/01/adaptive_threshold_jpg\\slice_0529.jpg\n",
      "已处理并保存图像: D:/Code/CBCT_Reconstruction_ICP/data/01/adaptive_threshold_jpg\\slice_0530.jpg\n",
      "已处理并保存图像: D:/Code/CBCT_Reconstruction_ICP/data/01/adaptive_threshold_jpg\\slice_0531.jpg\n",
      "已处理并保存图像: D:/Code/CBCT_Reconstruction_ICP/data/01/adaptive_threshold_jpg\\slice_0532.jpg\n",
      "已处理并保存图像: D:/Code/CBCT_Reconstruction_ICP/data/01/adaptive_threshold_jpg\\slice_0533.jpg\n",
      "已处理并保存图像: D:/Code/CBCT_Reconstruction_ICP/data/01/adaptive_threshold_jpg\\slice_0534.jpg\n",
      "已处理并保存图像: D:/Code/CBCT_Reconstruction_ICP/data/01/adaptive_threshold_jpg\\slice_0535.jpg\n",
      "已处理并保存图像: D:/Code/CBCT_Reconstruction_ICP/data/01/adaptive_threshold_jpg\\slice_0536.jpg\n",
      "已处理并保存图像: D:/Code/CBCT_Reconstruction_ICP/data/01/adaptive_threshold_jpg\\slice_0537.jpg\n",
      "已处理并保存图像: D:/Code/CBCT_Reconstruction_ICP/data/01/adaptive_threshold_jpg\\slice_0538.jpg\n",
      "已处理并保存图像: D:/Code/CBCT_Reconstruction_ICP/data/01/adaptive_threshold_jpg\\slice_0539.jpg\n",
      "已处理并保存图像: D:/Code/CBCT_Reconstruction_ICP/data/01/adaptive_threshold_jpg\\slice_0540.jpg\n",
      "已处理并保存图像: D:/Code/CBCT_Reconstruction_ICP/data/01/adaptive_threshold_jpg\\slice_0541.jpg\n",
      "已处理并保存图像: D:/Code/CBCT_Reconstruction_ICP/data/01/adaptive_threshold_jpg\\slice_0542.jpg\n",
      "已处理并保存图像: D:/Code/CBCT_Reconstruction_ICP/data/01/adaptive_threshold_jpg\\slice_0543.jpg\n",
      "已处理并保存图像: D:/Code/CBCT_Reconstruction_ICP/data/01/adaptive_threshold_jpg\\slice_0544.jpg\n",
      "已处理并保存图像: D:/Code/CBCT_Reconstruction_ICP/data/01/adaptive_threshold_jpg\\slice_0545.jpg\n",
      "已处理并保存图像: D:/Code/CBCT_Reconstruction_ICP/data/01/adaptive_threshold_jpg\\slice_0546.jpg\n",
      "已处理并保存图像: D:/Code/CBCT_Reconstruction_ICP/data/01/adaptive_threshold_jpg\\slice_0547.jpg\n",
      "已处理并保存图像: D:/Code/CBCT_Reconstruction_ICP/data/01/adaptive_threshold_jpg\\slice_0548.jpg\n",
      "已处理并保存图像: D:/Code/CBCT_Reconstruction_ICP/data/01/adaptive_threshold_jpg\\slice_0549.jpg\n",
      "已处理并保存图像: D:/Code/CBCT_Reconstruction_ICP/data/01/adaptive_threshold_jpg\\slice_0550.jpg\n",
      "已处理并保存图像: D:/Code/CBCT_Reconstruction_ICP/data/01/adaptive_threshold_jpg\\slice_0551.jpg\n",
      "已处理并保存图像: D:/Code/CBCT_Reconstruction_ICP/data/01/adaptive_threshold_jpg\\slice_0552.jpg\n",
      "已处理并保存图像: D:/Code/CBCT_Reconstruction_ICP/data/01/adaptive_threshold_jpg\\slice_0553.jpg\n",
      "已处理并保存图像: D:/Code/CBCT_Reconstruction_ICP/data/01/adaptive_threshold_jpg\\slice_0554.jpg\n",
      "已处理并保存图像: D:/Code/CBCT_Reconstruction_ICP/data/01/adaptive_threshold_jpg\\slice_0555.jpg\n",
      "已处理并保存图像: D:/Code/CBCT_Reconstruction_ICP/data/01/adaptive_threshold_jpg\\slice_0556.jpg\n",
      "已处理并保存图像: D:/Code/CBCT_Reconstruction_ICP/data/01/adaptive_threshold_jpg\\slice_0557.jpg\n",
      "已处理并保存图像: D:/Code/CBCT_Reconstruction_ICP/data/01/adaptive_threshold_jpg\\slice_0558.jpg\n",
      "已处理并保存图像: D:/Code/CBCT_Reconstruction_ICP/data/01/adaptive_threshold_jpg\\slice_0559.jpg\n",
      "已处理并保存图像: D:/Code/CBCT_Reconstruction_ICP/data/01/adaptive_threshold_jpg\\slice_0560.jpg\n",
      "已处理并保存图像: D:/Code/CBCT_Reconstruction_ICP/data/01/adaptive_threshold_jpg\\slice_0561.jpg\n",
      "已处理并保存图像: D:/Code/CBCT_Reconstruction_ICP/data/01/adaptive_threshold_jpg\\slice_0562.jpg\n",
      "已处理并保存图像: D:/Code/CBCT_Reconstruction_ICP/data/01/adaptive_threshold_jpg\\slice_0563.jpg\n",
      "已处理并保存图像: D:/Code/CBCT_Reconstruction_ICP/data/01/adaptive_threshold_jpg\\slice_0564.jpg\n",
      "已处理并保存图像: D:/Code/CBCT_Reconstruction_ICP/data/01/adaptive_threshold_jpg\\slice_0565.jpg\n",
      "已处理并保存图像: D:/Code/CBCT_Reconstruction_ICP/data/01/adaptive_threshold_jpg\\slice_0566.jpg\n",
      "已处理并保存图像: D:/Code/CBCT_Reconstruction_ICP/data/01/adaptive_threshold_jpg\\slice_0567.jpg\n",
      "已处理并保存图像: D:/Code/CBCT_Reconstruction_ICP/data/01/adaptive_threshold_jpg\\slice_0568.jpg\n",
      "已处理并保存图像: D:/Code/CBCT_Reconstruction_ICP/data/01/adaptive_threshold_jpg\\slice_0569.jpg\n",
      "已处理并保存图像: D:/Code/CBCT_Reconstruction_ICP/data/01/adaptive_threshold_jpg\\slice_0570.jpg\n",
      "已处理并保存图像: D:/Code/CBCT_Reconstruction_ICP/data/01/adaptive_threshold_jpg\\slice_0571.jpg\n",
      "已处理并保存图像: D:/Code/CBCT_Reconstruction_ICP/data/01/adaptive_threshold_jpg\\slice_0572.jpg\n",
      "已处理并保存图像: D:/Code/CBCT_Reconstruction_ICP/data/01/adaptive_threshold_jpg\\slice_0573.jpg\n",
      "已处理并保存图像: D:/Code/CBCT_Reconstruction_ICP/data/01/adaptive_threshold_jpg\\slice_0574.jpg\n",
      "已处理并保存图像: D:/Code/CBCT_Reconstruction_ICP/data/01/adaptive_threshold_jpg\\slice_0575.jpg\n",
      "已处理并保存图像: D:/Code/CBCT_Reconstruction_ICP/data/01/adaptive_threshold_jpg\\slice_0576.jpg\n",
      "所有图像处理完毕。\n"
     ]
    }
   ],
   "source": [
    "# Adaptive threshold filtering\n",
    "\n",
    "import os\n",
    "import cv2\n",
    "\n",
    "def apply_adaptive_threshold(input_dir, output_dir):\n",
    "    # 创建输出目录（如果不存在）\n",
    "    os.makedirs(output_dir, exist_ok=True)\n",
    "\n",
    "    # 获取输入目录中的所有图像文件\n",
    "    image_files = [f for f in os.listdir(input_dir) if os.path.isfile(os.path.join(input_dir, f))]\n",
    "    \n",
    "    for img_name in image_files:\n",
    "        input_path = os.path.join(input_dir, img_name)\n",
    "        output_path = os.path.join(output_dir, img_name)\n",
    "        \n",
    "        # 读取图像\n",
    "        image = cv2.imread(input_path, cv2.IMREAD_GRAYSCALE)  # 读取为灰度图像\n",
    "        if image is None:\n",
    "            print(f\"无法读取图像: {input_path}\")\n",
    "            continue\n",
    "        \n",
    "        # 应用自适应阈值处理\n",
    "        adaptive_thresh = cv2.adaptiveThreshold(\n",
    "            image, 255, cv2.ADAPTIVE_THRESH_MEAN_C, \n",
    "            cv2.THRESH_BINARY_INV, 11, 5\n",
    "        )\n",
    "        \n",
    "        # 保存处理后的图像\n",
    "        cv2.imwrite(output_path, adaptive_thresh)\n",
    "        print(f\"已处理并保存图像: {output_path}\")\n",
    "\n",
    "# 定义输入和输出目录\n",
    "input_dir = 'D:/Code/CBCT_Reconstruction_ICP/data/01/jpg'\n",
    "output_dir = 'D:/Code/CBCT_Reconstruction_ICP/data/01/adaptive_threshold_jpg'\n",
    "\n",
    "# 应用自适应阈值处理\n",
    "apply_adaptive_threshold(input_dir, output_dir)\n",
    "\n",
    "print(\"所有图像处理完毕。\")"
   ]
  },
  {
   "cell_type": "code",
   "execution_count": 6,
   "id": "056a0186-1c27-4ae2-830d-292f6a4c37b4",
   "metadata": {},
   "outputs": [
    {
     "name": "stdout",
     "output_type": "stream",
     "text": [
      "已处理并保存图像: D:/Code/CBCT_Reconstruction_ICP/data/04/adaptive_threshold_jpg\\04_slice_0001.jpg\n",
      "已处理并保存图像: D:/Code/CBCT_Reconstruction_ICP/data/04/adaptive_threshold_jpg\\04_slice_0002.jpg\n",
      "已处理并保存图像: D:/Code/CBCT_Reconstruction_ICP/data/04/adaptive_threshold_jpg\\04_slice_0003.jpg\n",
      "已处理并保存图像: D:/Code/CBCT_Reconstruction_ICP/data/04/adaptive_threshold_jpg\\04_slice_0004.jpg\n",
      "已处理并保存图像: D:/Code/CBCT_Reconstruction_ICP/data/04/adaptive_threshold_jpg\\04_slice_0005.jpg\n",
      "已处理并保存图像: D:/Code/CBCT_Reconstruction_ICP/data/04/adaptive_threshold_jpg\\04_slice_0006.jpg\n",
      "已处理并保存图像: D:/Code/CBCT_Reconstruction_ICP/data/04/adaptive_threshold_jpg\\04_slice_0007.jpg\n",
      "已处理并保存图像: D:/Code/CBCT_Reconstruction_ICP/data/04/adaptive_threshold_jpg\\04_slice_0008.jpg\n",
      "已处理并保存图像: D:/Code/CBCT_Reconstruction_ICP/data/04/adaptive_threshold_jpg\\04_slice_0009.jpg\n",
      "已处理并保存图像: D:/Code/CBCT_Reconstruction_ICP/data/04/adaptive_threshold_jpg\\04_slice_0010.jpg\n",
      "已处理并保存图像: D:/Code/CBCT_Reconstruction_ICP/data/04/adaptive_threshold_jpg\\04_slice_0011.jpg\n",
      "已处理并保存图像: D:/Code/CBCT_Reconstruction_ICP/data/04/adaptive_threshold_jpg\\04_slice_0012.jpg\n",
      "已处理并保存图像: D:/Code/CBCT_Reconstruction_ICP/data/04/adaptive_threshold_jpg\\04_slice_0013.jpg\n",
      "已处理并保存图像: D:/Code/CBCT_Reconstruction_ICP/data/04/adaptive_threshold_jpg\\04_slice_0014.jpg\n",
      "已处理并保存图像: D:/Code/CBCT_Reconstruction_ICP/data/04/adaptive_threshold_jpg\\04_slice_0015.jpg\n",
      "已处理并保存图像: D:/Code/CBCT_Reconstruction_ICP/data/04/adaptive_threshold_jpg\\04_slice_0016.jpg\n",
      "已处理并保存图像: D:/Code/CBCT_Reconstruction_ICP/data/04/adaptive_threshold_jpg\\04_slice_0017.jpg\n",
      "已处理并保存图像: D:/Code/CBCT_Reconstruction_ICP/data/04/adaptive_threshold_jpg\\04_slice_0018.jpg\n",
      "已处理并保存图像: D:/Code/CBCT_Reconstruction_ICP/data/04/adaptive_threshold_jpg\\04_slice_0019.jpg\n",
      "已处理并保存图像: D:/Code/CBCT_Reconstruction_ICP/data/04/adaptive_threshold_jpg\\04_slice_0020.jpg\n",
      "已处理并保存图像: D:/Code/CBCT_Reconstruction_ICP/data/04/adaptive_threshold_jpg\\04_slice_0021.jpg\n",
      "已处理并保存图像: D:/Code/CBCT_Reconstruction_ICP/data/04/adaptive_threshold_jpg\\04_slice_0022.jpg\n",
      "已处理并保存图像: D:/Code/CBCT_Reconstruction_ICP/data/04/adaptive_threshold_jpg\\04_slice_0023.jpg\n",
      "已处理并保存图像: D:/Code/CBCT_Reconstruction_ICP/data/04/adaptive_threshold_jpg\\04_slice_0024.jpg\n",
      "已处理并保存图像: D:/Code/CBCT_Reconstruction_ICP/data/04/adaptive_threshold_jpg\\04_slice_0025.jpg\n",
      "已处理并保存图像: D:/Code/CBCT_Reconstruction_ICP/data/04/adaptive_threshold_jpg\\04_slice_0026.jpg\n",
      "已处理并保存图像: D:/Code/CBCT_Reconstruction_ICP/data/04/adaptive_threshold_jpg\\04_slice_0027.jpg\n",
      "已处理并保存图像: D:/Code/CBCT_Reconstruction_ICP/data/04/adaptive_threshold_jpg\\04_slice_0028.jpg\n",
      "已处理并保存图像: D:/Code/CBCT_Reconstruction_ICP/data/04/adaptive_threshold_jpg\\04_slice_0029.jpg\n",
      "已处理并保存图像: D:/Code/CBCT_Reconstruction_ICP/data/04/adaptive_threshold_jpg\\04_slice_0030.jpg\n",
      "已处理并保存图像: D:/Code/CBCT_Reconstruction_ICP/data/04/adaptive_threshold_jpg\\04_slice_0031.jpg\n",
      "已处理并保存图像: D:/Code/CBCT_Reconstruction_ICP/data/04/adaptive_threshold_jpg\\04_slice_0032.jpg\n",
      "已处理并保存图像: D:/Code/CBCT_Reconstruction_ICP/data/04/adaptive_threshold_jpg\\04_slice_0033.jpg\n",
      "已处理并保存图像: D:/Code/CBCT_Reconstruction_ICP/data/04/adaptive_threshold_jpg\\04_slice_0034.jpg\n",
      "已处理并保存图像: D:/Code/CBCT_Reconstruction_ICP/data/04/adaptive_threshold_jpg\\04_slice_0035.jpg\n",
      "已处理并保存图像: D:/Code/CBCT_Reconstruction_ICP/data/04/adaptive_threshold_jpg\\04_slice_0036.jpg\n",
      "已处理并保存图像: D:/Code/CBCT_Reconstruction_ICP/data/04/adaptive_threshold_jpg\\04_slice_0037.jpg\n",
      "已处理并保存图像: D:/Code/CBCT_Reconstruction_ICP/data/04/adaptive_threshold_jpg\\04_slice_0038.jpg\n",
      "已处理并保存图像: D:/Code/CBCT_Reconstruction_ICP/data/04/adaptive_threshold_jpg\\04_slice_0039.jpg\n",
      "已处理并保存图像: D:/Code/CBCT_Reconstruction_ICP/data/04/adaptive_threshold_jpg\\04_slice_0040.jpg\n",
      "已处理并保存图像: D:/Code/CBCT_Reconstruction_ICP/data/04/adaptive_threshold_jpg\\04_slice_0041.jpg\n",
      "已处理并保存图像: D:/Code/CBCT_Reconstruction_ICP/data/04/adaptive_threshold_jpg\\04_slice_0042.jpg\n",
      "已处理并保存图像: D:/Code/CBCT_Reconstruction_ICP/data/04/adaptive_threshold_jpg\\04_slice_0043.jpg\n",
      "已处理并保存图像: D:/Code/CBCT_Reconstruction_ICP/data/04/adaptive_threshold_jpg\\04_slice_0044.jpg\n",
      "已处理并保存图像: D:/Code/CBCT_Reconstruction_ICP/data/04/adaptive_threshold_jpg\\04_slice_0045.jpg\n",
      "已处理并保存图像: D:/Code/CBCT_Reconstruction_ICP/data/04/adaptive_threshold_jpg\\04_slice_0046.jpg\n",
      "已处理并保存图像: D:/Code/CBCT_Reconstruction_ICP/data/04/adaptive_threshold_jpg\\04_slice_0047.jpg\n",
      "已处理并保存图像: D:/Code/CBCT_Reconstruction_ICP/data/04/adaptive_threshold_jpg\\04_slice_0048.jpg\n",
      "已处理并保存图像: D:/Code/CBCT_Reconstruction_ICP/data/04/adaptive_threshold_jpg\\04_slice_0049.jpg\n",
      "已处理并保存图像: D:/Code/CBCT_Reconstruction_ICP/data/04/adaptive_threshold_jpg\\04_slice_0050.jpg\n",
      "已处理并保存图像: D:/Code/CBCT_Reconstruction_ICP/data/04/adaptive_threshold_jpg\\04_slice_0051.jpg\n",
      "已处理并保存图像: D:/Code/CBCT_Reconstruction_ICP/data/04/adaptive_threshold_jpg\\04_slice_0052.jpg\n",
      "已处理并保存图像: D:/Code/CBCT_Reconstruction_ICP/data/04/adaptive_threshold_jpg\\04_slice_0053.jpg\n",
      "已处理并保存图像: D:/Code/CBCT_Reconstruction_ICP/data/04/adaptive_threshold_jpg\\04_slice_0054.jpg\n",
      "已处理并保存图像: D:/Code/CBCT_Reconstruction_ICP/data/04/adaptive_threshold_jpg\\04_slice_0055.jpg\n",
      "已处理并保存图像: D:/Code/CBCT_Reconstruction_ICP/data/04/adaptive_threshold_jpg\\04_slice_0056.jpg\n",
      "已处理并保存图像: D:/Code/CBCT_Reconstruction_ICP/data/04/adaptive_threshold_jpg\\04_slice_0057.jpg\n",
      "已处理并保存图像: D:/Code/CBCT_Reconstruction_ICP/data/04/adaptive_threshold_jpg\\04_slice_0058.jpg\n",
      "已处理并保存图像: D:/Code/CBCT_Reconstruction_ICP/data/04/adaptive_threshold_jpg\\04_slice_0059.jpg\n",
      "已处理并保存图像: D:/Code/CBCT_Reconstruction_ICP/data/04/adaptive_threshold_jpg\\04_slice_0060.jpg\n",
      "已处理并保存图像: D:/Code/CBCT_Reconstruction_ICP/data/04/adaptive_threshold_jpg\\04_slice_0061.jpg\n",
      "已处理并保存图像: D:/Code/CBCT_Reconstruction_ICP/data/04/adaptive_threshold_jpg\\04_slice_0062.jpg\n",
      "已处理并保存图像: D:/Code/CBCT_Reconstruction_ICP/data/04/adaptive_threshold_jpg\\04_slice_0063.jpg\n",
      "已处理并保存图像: D:/Code/CBCT_Reconstruction_ICP/data/04/adaptive_threshold_jpg\\04_slice_0064.jpg\n",
      "已处理并保存图像: D:/Code/CBCT_Reconstruction_ICP/data/04/adaptive_threshold_jpg\\04_slice_0065.jpg\n",
      "已处理并保存图像: D:/Code/CBCT_Reconstruction_ICP/data/04/adaptive_threshold_jpg\\04_slice_0066.jpg\n",
      "已处理并保存图像: D:/Code/CBCT_Reconstruction_ICP/data/04/adaptive_threshold_jpg\\04_slice_0067.jpg\n",
      "已处理并保存图像: D:/Code/CBCT_Reconstruction_ICP/data/04/adaptive_threshold_jpg\\04_slice_0068.jpg\n",
      "已处理并保存图像: D:/Code/CBCT_Reconstruction_ICP/data/04/adaptive_threshold_jpg\\04_slice_0069.jpg\n",
      "已处理并保存图像: D:/Code/CBCT_Reconstruction_ICP/data/04/adaptive_threshold_jpg\\04_slice_0070.jpg\n",
      "已处理并保存图像: D:/Code/CBCT_Reconstruction_ICP/data/04/adaptive_threshold_jpg\\04_slice_0071.jpg\n",
      "已处理并保存图像: D:/Code/CBCT_Reconstruction_ICP/data/04/adaptive_threshold_jpg\\04_slice_0072.jpg\n",
      "已处理并保存图像: D:/Code/CBCT_Reconstruction_ICP/data/04/adaptive_threshold_jpg\\04_slice_0073.jpg\n",
      "已处理并保存图像: D:/Code/CBCT_Reconstruction_ICP/data/04/adaptive_threshold_jpg\\04_slice_0074.jpg\n",
      "已处理并保存图像: D:/Code/CBCT_Reconstruction_ICP/data/04/adaptive_threshold_jpg\\04_slice_0075.jpg\n",
      "已处理并保存图像: D:/Code/CBCT_Reconstruction_ICP/data/04/adaptive_threshold_jpg\\04_slice_0076.jpg\n",
      "已处理并保存图像: D:/Code/CBCT_Reconstruction_ICP/data/04/adaptive_threshold_jpg\\04_slice_0077.jpg\n",
      "已处理并保存图像: D:/Code/CBCT_Reconstruction_ICP/data/04/adaptive_threshold_jpg\\04_slice_0078.jpg\n",
      "已处理并保存图像: D:/Code/CBCT_Reconstruction_ICP/data/04/adaptive_threshold_jpg\\04_slice_0079.jpg\n",
      "已处理并保存图像: D:/Code/CBCT_Reconstruction_ICP/data/04/adaptive_threshold_jpg\\04_slice_0080.jpg\n",
      "已处理并保存图像: D:/Code/CBCT_Reconstruction_ICP/data/04/adaptive_threshold_jpg\\04_slice_0081.jpg\n",
      "已处理并保存图像: D:/Code/CBCT_Reconstruction_ICP/data/04/adaptive_threshold_jpg\\04_slice_0082.jpg\n",
      "已处理并保存图像: D:/Code/CBCT_Reconstruction_ICP/data/04/adaptive_threshold_jpg\\04_slice_0083.jpg\n",
      "已处理并保存图像: D:/Code/CBCT_Reconstruction_ICP/data/04/adaptive_threshold_jpg\\04_slice_0084.jpg\n",
      "已处理并保存图像: D:/Code/CBCT_Reconstruction_ICP/data/04/adaptive_threshold_jpg\\04_slice_0085.jpg\n",
      "已处理并保存图像: D:/Code/CBCT_Reconstruction_ICP/data/04/adaptive_threshold_jpg\\04_slice_0086.jpg\n",
      "已处理并保存图像: D:/Code/CBCT_Reconstruction_ICP/data/04/adaptive_threshold_jpg\\04_slice_0087.jpg\n",
      "已处理并保存图像: D:/Code/CBCT_Reconstruction_ICP/data/04/adaptive_threshold_jpg\\04_slice_0088.jpg\n",
      "已处理并保存图像: D:/Code/CBCT_Reconstruction_ICP/data/04/adaptive_threshold_jpg\\04_slice_0089.jpg\n",
      "已处理并保存图像: D:/Code/CBCT_Reconstruction_ICP/data/04/adaptive_threshold_jpg\\04_slice_0090.jpg\n",
      "已处理并保存图像: D:/Code/CBCT_Reconstruction_ICP/data/04/adaptive_threshold_jpg\\04_slice_0091.jpg\n",
      "已处理并保存图像: D:/Code/CBCT_Reconstruction_ICP/data/04/adaptive_threshold_jpg\\04_slice_0092.jpg\n",
      "已处理并保存图像: D:/Code/CBCT_Reconstruction_ICP/data/04/adaptive_threshold_jpg\\04_slice_0093.jpg\n",
      "已处理并保存图像: D:/Code/CBCT_Reconstruction_ICP/data/04/adaptive_threshold_jpg\\04_slice_0094.jpg\n",
      "已处理并保存图像: D:/Code/CBCT_Reconstruction_ICP/data/04/adaptive_threshold_jpg\\04_slice_0095.jpg\n",
      "已处理并保存图像: D:/Code/CBCT_Reconstruction_ICP/data/04/adaptive_threshold_jpg\\04_slice_0096.jpg\n",
      "已处理并保存图像: D:/Code/CBCT_Reconstruction_ICP/data/04/adaptive_threshold_jpg\\04_slice_0097.jpg\n",
      "已处理并保存图像: D:/Code/CBCT_Reconstruction_ICP/data/04/adaptive_threshold_jpg\\04_slice_0098.jpg\n",
      "已处理并保存图像: D:/Code/CBCT_Reconstruction_ICP/data/04/adaptive_threshold_jpg\\04_slice_0099.jpg\n",
      "已处理并保存图像: D:/Code/CBCT_Reconstruction_ICP/data/04/adaptive_threshold_jpg\\04_slice_0100.jpg\n",
      "已处理并保存图像: D:/Code/CBCT_Reconstruction_ICP/data/04/adaptive_threshold_jpg\\04_slice_0101.jpg\n",
      "已处理并保存图像: D:/Code/CBCT_Reconstruction_ICP/data/04/adaptive_threshold_jpg\\04_slice_0102.jpg\n",
      "已处理并保存图像: D:/Code/CBCT_Reconstruction_ICP/data/04/adaptive_threshold_jpg\\04_slice_0103.jpg\n",
      "已处理并保存图像: D:/Code/CBCT_Reconstruction_ICP/data/04/adaptive_threshold_jpg\\04_slice_0104.jpg\n",
      "已处理并保存图像: D:/Code/CBCT_Reconstruction_ICP/data/04/adaptive_threshold_jpg\\04_slice_0105.jpg\n",
      "已处理并保存图像: D:/Code/CBCT_Reconstruction_ICP/data/04/adaptive_threshold_jpg\\04_slice_0106.jpg\n",
      "已处理并保存图像: D:/Code/CBCT_Reconstruction_ICP/data/04/adaptive_threshold_jpg\\04_slice_0107.jpg\n",
      "已处理并保存图像: D:/Code/CBCT_Reconstruction_ICP/data/04/adaptive_threshold_jpg\\04_slice_0108.jpg\n",
      "已处理并保存图像: D:/Code/CBCT_Reconstruction_ICP/data/04/adaptive_threshold_jpg\\04_slice_0109.jpg\n",
      "已处理并保存图像: D:/Code/CBCT_Reconstruction_ICP/data/04/adaptive_threshold_jpg\\04_slice_0110.jpg\n",
      "已处理并保存图像: D:/Code/CBCT_Reconstruction_ICP/data/04/adaptive_threshold_jpg\\04_slice_0111.jpg\n",
      "已处理并保存图像: D:/Code/CBCT_Reconstruction_ICP/data/04/adaptive_threshold_jpg\\04_slice_0112.jpg\n",
      "已处理并保存图像: D:/Code/CBCT_Reconstruction_ICP/data/04/adaptive_threshold_jpg\\04_slice_0113.jpg\n",
      "已处理并保存图像: D:/Code/CBCT_Reconstruction_ICP/data/04/adaptive_threshold_jpg\\04_slice_0114.jpg\n",
      "已处理并保存图像: D:/Code/CBCT_Reconstruction_ICP/data/04/adaptive_threshold_jpg\\04_slice_0115.jpg\n",
      "已处理并保存图像: D:/Code/CBCT_Reconstruction_ICP/data/04/adaptive_threshold_jpg\\04_slice_0116.jpg\n",
      "已处理并保存图像: D:/Code/CBCT_Reconstruction_ICP/data/04/adaptive_threshold_jpg\\04_slice_0117.jpg\n",
      "已处理并保存图像: D:/Code/CBCT_Reconstruction_ICP/data/04/adaptive_threshold_jpg\\04_slice_0118.jpg\n",
      "已处理并保存图像: D:/Code/CBCT_Reconstruction_ICP/data/04/adaptive_threshold_jpg\\04_slice_0119.jpg\n",
      "已处理并保存图像: D:/Code/CBCT_Reconstruction_ICP/data/04/adaptive_threshold_jpg\\04_slice_0120.jpg\n",
      "已处理并保存图像: D:/Code/CBCT_Reconstruction_ICP/data/04/adaptive_threshold_jpg\\04_slice_0121.jpg\n",
      "已处理并保存图像: D:/Code/CBCT_Reconstruction_ICP/data/04/adaptive_threshold_jpg\\04_slice_0122.jpg\n",
      "已处理并保存图像: D:/Code/CBCT_Reconstruction_ICP/data/04/adaptive_threshold_jpg\\04_slice_0123.jpg\n",
      "已处理并保存图像: D:/Code/CBCT_Reconstruction_ICP/data/04/adaptive_threshold_jpg\\04_slice_0124.jpg\n",
      "已处理并保存图像: D:/Code/CBCT_Reconstruction_ICP/data/04/adaptive_threshold_jpg\\04_slice_0125.jpg\n",
      "已处理并保存图像: D:/Code/CBCT_Reconstruction_ICP/data/04/adaptive_threshold_jpg\\04_slice_0126.jpg\n",
      "已处理并保存图像: D:/Code/CBCT_Reconstruction_ICP/data/04/adaptive_threshold_jpg\\04_slice_0127.jpg\n",
      "已处理并保存图像: D:/Code/CBCT_Reconstruction_ICP/data/04/adaptive_threshold_jpg\\04_slice_0128.jpg\n",
      "已处理并保存图像: D:/Code/CBCT_Reconstruction_ICP/data/04/adaptive_threshold_jpg\\04_slice_0129.jpg\n",
      "已处理并保存图像: D:/Code/CBCT_Reconstruction_ICP/data/04/adaptive_threshold_jpg\\04_slice_0130.jpg\n",
      "已处理并保存图像: D:/Code/CBCT_Reconstruction_ICP/data/04/adaptive_threshold_jpg\\04_slice_0131.jpg\n",
      "已处理并保存图像: D:/Code/CBCT_Reconstruction_ICP/data/04/adaptive_threshold_jpg\\04_slice_0132.jpg\n",
      "已处理并保存图像: D:/Code/CBCT_Reconstruction_ICP/data/04/adaptive_threshold_jpg\\04_slice_0133.jpg\n",
      "已处理并保存图像: D:/Code/CBCT_Reconstruction_ICP/data/04/adaptive_threshold_jpg\\04_slice_0134.jpg\n",
      "已处理并保存图像: D:/Code/CBCT_Reconstruction_ICP/data/04/adaptive_threshold_jpg\\04_slice_0135.jpg\n",
      "已处理并保存图像: D:/Code/CBCT_Reconstruction_ICP/data/04/adaptive_threshold_jpg\\04_slice_0136.jpg\n",
      "已处理并保存图像: D:/Code/CBCT_Reconstruction_ICP/data/04/adaptive_threshold_jpg\\04_slice_0137.jpg\n",
      "已处理并保存图像: D:/Code/CBCT_Reconstruction_ICP/data/04/adaptive_threshold_jpg\\04_slice_0138.jpg\n",
      "已处理并保存图像: D:/Code/CBCT_Reconstruction_ICP/data/04/adaptive_threshold_jpg\\04_slice_0139.jpg\n",
      "已处理并保存图像: D:/Code/CBCT_Reconstruction_ICP/data/04/adaptive_threshold_jpg\\04_slice_0140.jpg\n",
      "已处理并保存图像: D:/Code/CBCT_Reconstruction_ICP/data/04/adaptive_threshold_jpg\\04_slice_0141.jpg\n",
      "已处理并保存图像: D:/Code/CBCT_Reconstruction_ICP/data/04/adaptive_threshold_jpg\\04_slice_0142.jpg\n",
      "已处理并保存图像: D:/Code/CBCT_Reconstruction_ICP/data/04/adaptive_threshold_jpg\\04_slice_0143.jpg\n",
      "已处理并保存图像: D:/Code/CBCT_Reconstruction_ICP/data/04/adaptive_threshold_jpg\\04_slice_0144.jpg\n",
      "已处理并保存图像: D:/Code/CBCT_Reconstruction_ICP/data/04/adaptive_threshold_jpg\\04_slice_0145.jpg\n",
      "已处理并保存图像: D:/Code/CBCT_Reconstruction_ICP/data/04/adaptive_threshold_jpg\\04_slice_0146.jpg\n",
      "已处理并保存图像: D:/Code/CBCT_Reconstruction_ICP/data/04/adaptive_threshold_jpg\\04_slice_0147.jpg\n",
      "已处理并保存图像: D:/Code/CBCT_Reconstruction_ICP/data/04/adaptive_threshold_jpg\\04_slice_0148.jpg\n",
      "已处理并保存图像: D:/Code/CBCT_Reconstruction_ICP/data/04/adaptive_threshold_jpg\\04_slice_0149.jpg\n",
      "已处理并保存图像: D:/Code/CBCT_Reconstruction_ICP/data/04/adaptive_threshold_jpg\\04_slice_0150.jpg\n",
      "已处理并保存图像: D:/Code/CBCT_Reconstruction_ICP/data/04/adaptive_threshold_jpg\\04_slice_0151.jpg\n",
      "已处理并保存图像: D:/Code/CBCT_Reconstruction_ICP/data/04/adaptive_threshold_jpg\\04_slice_0152.jpg\n",
      "已处理并保存图像: D:/Code/CBCT_Reconstruction_ICP/data/04/adaptive_threshold_jpg\\04_slice_0153.jpg\n",
      "已处理并保存图像: D:/Code/CBCT_Reconstruction_ICP/data/04/adaptive_threshold_jpg\\04_slice_0154.jpg\n",
      "已处理并保存图像: D:/Code/CBCT_Reconstruction_ICP/data/04/adaptive_threshold_jpg\\04_slice_0155.jpg\n",
      "已处理并保存图像: D:/Code/CBCT_Reconstruction_ICP/data/04/adaptive_threshold_jpg\\04_slice_0156.jpg\n",
      "已处理并保存图像: D:/Code/CBCT_Reconstruction_ICP/data/04/adaptive_threshold_jpg\\04_slice_0157.jpg\n",
      "已处理并保存图像: D:/Code/CBCT_Reconstruction_ICP/data/04/adaptive_threshold_jpg\\04_slice_0158.jpg\n",
      "已处理并保存图像: D:/Code/CBCT_Reconstruction_ICP/data/04/adaptive_threshold_jpg\\04_slice_0159.jpg\n",
      "已处理并保存图像: D:/Code/CBCT_Reconstruction_ICP/data/04/adaptive_threshold_jpg\\04_slice_0160.jpg\n",
      "已处理并保存图像: D:/Code/CBCT_Reconstruction_ICP/data/04/adaptive_threshold_jpg\\04_slice_0161.jpg\n",
      "已处理并保存图像: D:/Code/CBCT_Reconstruction_ICP/data/04/adaptive_threshold_jpg\\04_slice_0162.jpg\n",
      "已处理并保存图像: D:/Code/CBCT_Reconstruction_ICP/data/04/adaptive_threshold_jpg\\04_slice_0163.jpg\n",
      "已处理并保存图像: D:/Code/CBCT_Reconstruction_ICP/data/04/adaptive_threshold_jpg\\04_slice_0164.jpg\n",
      "已处理并保存图像: D:/Code/CBCT_Reconstruction_ICP/data/04/adaptive_threshold_jpg\\04_slice_0165.jpg\n",
      "已处理并保存图像: D:/Code/CBCT_Reconstruction_ICP/data/04/adaptive_threshold_jpg\\04_slice_0166.jpg\n",
      "已处理并保存图像: D:/Code/CBCT_Reconstruction_ICP/data/04/adaptive_threshold_jpg\\04_slice_0167.jpg\n",
      "已处理并保存图像: D:/Code/CBCT_Reconstruction_ICP/data/04/adaptive_threshold_jpg\\04_slice_0168.jpg\n",
      "已处理并保存图像: D:/Code/CBCT_Reconstruction_ICP/data/04/adaptive_threshold_jpg\\04_slice_0169.jpg\n",
      "已处理并保存图像: D:/Code/CBCT_Reconstruction_ICP/data/04/adaptive_threshold_jpg\\04_slice_0170.jpg\n",
      "已处理并保存图像: D:/Code/CBCT_Reconstruction_ICP/data/04/adaptive_threshold_jpg\\04_slice_0171.jpg\n",
      "已处理并保存图像: D:/Code/CBCT_Reconstruction_ICP/data/04/adaptive_threshold_jpg\\04_slice_0172.jpg\n",
      "已处理并保存图像: D:/Code/CBCT_Reconstruction_ICP/data/04/adaptive_threshold_jpg\\04_slice_0173.jpg\n",
      "已处理并保存图像: D:/Code/CBCT_Reconstruction_ICP/data/04/adaptive_threshold_jpg\\04_slice_0174.jpg\n",
      "已处理并保存图像: D:/Code/CBCT_Reconstruction_ICP/data/04/adaptive_threshold_jpg\\04_slice_0175.jpg\n",
      "已处理并保存图像: D:/Code/CBCT_Reconstruction_ICP/data/04/adaptive_threshold_jpg\\04_slice_0176.jpg\n",
      "已处理并保存图像: D:/Code/CBCT_Reconstruction_ICP/data/04/adaptive_threshold_jpg\\04_slice_0177.jpg\n",
      "已处理并保存图像: D:/Code/CBCT_Reconstruction_ICP/data/04/adaptive_threshold_jpg\\04_slice_0178.jpg\n",
      "已处理并保存图像: D:/Code/CBCT_Reconstruction_ICP/data/04/adaptive_threshold_jpg\\04_slice_0179.jpg\n",
      "已处理并保存图像: D:/Code/CBCT_Reconstruction_ICP/data/04/adaptive_threshold_jpg\\04_slice_0180.jpg\n",
      "已处理并保存图像: D:/Code/CBCT_Reconstruction_ICP/data/04/adaptive_threshold_jpg\\04_slice_0181.jpg\n",
      "已处理并保存图像: D:/Code/CBCT_Reconstruction_ICP/data/04/adaptive_threshold_jpg\\04_slice_0182.jpg\n",
      "已处理并保存图像: D:/Code/CBCT_Reconstruction_ICP/data/04/adaptive_threshold_jpg\\04_slice_0183.jpg\n",
      "已处理并保存图像: D:/Code/CBCT_Reconstruction_ICP/data/04/adaptive_threshold_jpg\\04_slice_0184.jpg\n",
      "已处理并保存图像: D:/Code/CBCT_Reconstruction_ICP/data/04/adaptive_threshold_jpg\\04_slice_0185.jpg\n",
      "已处理并保存图像: D:/Code/CBCT_Reconstruction_ICP/data/04/adaptive_threshold_jpg\\04_slice_0186.jpg\n",
      "已处理并保存图像: D:/Code/CBCT_Reconstruction_ICP/data/04/adaptive_threshold_jpg\\04_slice_0187.jpg\n",
      "已处理并保存图像: D:/Code/CBCT_Reconstruction_ICP/data/04/adaptive_threshold_jpg\\04_slice_0188.jpg\n",
      "已处理并保存图像: D:/Code/CBCT_Reconstruction_ICP/data/04/adaptive_threshold_jpg\\04_slice_0189.jpg\n",
      "已处理并保存图像: D:/Code/CBCT_Reconstruction_ICP/data/04/adaptive_threshold_jpg\\04_slice_0190.jpg\n",
      "已处理并保存图像: D:/Code/CBCT_Reconstruction_ICP/data/04/adaptive_threshold_jpg\\04_slice_0191.jpg\n",
      "已处理并保存图像: D:/Code/CBCT_Reconstruction_ICP/data/04/adaptive_threshold_jpg\\04_slice_0192.jpg\n",
      "已处理并保存图像: D:/Code/CBCT_Reconstruction_ICP/data/04/adaptive_threshold_jpg\\04_slice_0193.jpg\n",
      "已处理并保存图像: D:/Code/CBCT_Reconstruction_ICP/data/04/adaptive_threshold_jpg\\04_slice_0194.jpg\n",
      "已处理并保存图像: D:/Code/CBCT_Reconstruction_ICP/data/04/adaptive_threshold_jpg\\04_slice_0195.jpg\n",
      "已处理并保存图像: D:/Code/CBCT_Reconstruction_ICP/data/04/adaptive_threshold_jpg\\04_slice_0196.jpg\n",
      "已处理并保存图像: D:/Code/CBCT_Reconstruction_ICP/data/04/adaptive_threshold_jpg\\04_slice_0197.jpg\n",
      "已处理并保存图像: D:/Code/CBCT_Reconstruction_ICP/data/04/adaptive_threshold_jpg\\04_slice_0198.jpg\n",
      "已处理并保存图像: D:/Code/CBCT_Reconstruction_ICP/data/04/adaptive_threshold_jpg\\04_slice_0199.jpg\n",
      "已处理并保存图像: D:/Code/CBCT_Reconstruction_ICP/data/04/adaptive_threshold_jpg\\04_slice_0200.jpg\n",
      "已处理并保存图像: D:/Code/CBCT_Reconstruction_ICP/data/04/adaptive_threshold_jpg\\04_slice_0201.jpg\n",
      "已处理并保存图像: D:/Code/CBCT_Reconstruction_ICP/data/04/adaptive_threshold_jpg\\04_slice_0202.jpg\n",
      "已处理并保存图像: D:/Code/CBCT_Reconstruction_ICP/data/04/adaptive_threshold_jpg\\04_slice_0203.jpg\n",
      "已处理并保存图像: D:/Code/CBCT_Reconstruction_ICP/data/04/adaptive_threshold_jpg\\04_slice_0204.jpg\n",
      "已处理并保存图像: D:/Code/CBCT_Reconstruction_ICP/data/04/adaptive_threshold_jpg\\04_slice_0205.jpg\n",
      "已处理并保存图像: D:/Code/CBCT_Reconstruction_ICP/data/04/adaptive_threshold_jpg\\04_slice_0206.jpg\n",
      "已处理并保存图像: D:/Code/CBCT_Reconstruction_ICP/data/04/adaptive_threshold_jpg\\04_slice_0207.jpg\n",
      "已处理并保存图像: D:/Code/CBCT_Reconstruction_ICP/data/04/adaptive_threshold_jpg\\04_slice_0208.jpg\n",
      "已处理并保存图像: D:/Code/CBCT_Reconstruction_ICP/data/04/adaptive_threshold_jpg\\04_slice_0209.jpg\n",
      "已处理并保存图像: D:/Code/CBCT_Reconstruction_ICP/data/04/adaptive_threshold_jpg\\04_slice_0210.jpg\n",
      "已处理并保存图像: D:/Code/CBCT_Reconstruction_ICP/data/04/adaptive_threshold_jpg\\04_slice_0211.jpg\n",
      "已处理并保存图像: D:/Code/CBCT_Reconstruction_ICP/data/04/adaptive_threshold_jpg\\04_slice_0212.jpg\n",
      "已处理并保存图像: D:/Code/CBCT_Reconstruction_ICP/data/04/adaptive_threshold_jpg\\04_slice_0213.jpg\n",
      "已处理并保存图像: D:/Code/CBCT_Reconstruction_ICP/data/04/adaptive_threshold_jpg\\04_slice_0214.jpg\n",
      "已处理并保存图像: D:/Code/CBCT_Reconstruction_ICP/data/04/adaptive_threshold_jpg\\04_slice_0215.jpg\n",
      "已处理并保存图像: D:/Code/CBCT_Reconstruction_ICP/data/04/adaptive_threshold_jpg\\04_slice_0216.jpg\n",
      "已处理并保存图像: D:/Code/CBCT_Reconstruction_ICP/data/04/adaptive_threshold_jpg\\04_slice_0217.jpg\n",
      "已处理并保存图像: D:/Code/CBCT_Reconstruction_ICP/data/04/adaptive_threshold_jpg\\04_slice_0218.jpg\n",
      "已处理并保存图像: D:/Code/CBCT_Reconstruction_ICP/data/04/adaptive_threshold_jpg\\04_slice_0219.jpg\n",
      "已处理并保存图像: D:/Code/CBCT_Reconstruction_ICP/data/04/adaptive_threshold_jpg\\04_slice_0220.jpg\n",
      "已处理并保存图像: D:/Code/CBCT_Reconstruction_ICP/data/04/adaptive_threshold_jpg\\04_slice_0221.jpg\n",
      "已处理并保存图像: D:/Code/CBCT_Reconstruction_ICP/data/04/adaptive_threshold_jpg\\04_slice_0222.jpg\n",
      "已处理并保存图像: D:/Code/CBCT_Reconstruction_ICP/data/04/adaptive_threshold_jpg\\04_slice_0223.jpg\n",
      "已处理并保存图像: D:/Code/CBCT_Reconstruction_ICP/data/04/adaptive_threshold_jpg\\04_slice_0224.jpg\n",
      "已处理并保存图像: D:/Code/CBCT_Reconstruction_ICP/data/04/adaptive_threshold_jpg\\04_slice_0225.jpg\n",
      "已处理并保存图像: D:/Code/CBCT_Reconstruction_ICP/data/04/adaptive_threshold_jpg\\04_slice_0226.jpg\n",
      "已处理并保存图像: D:/Code/CBCT_Reconstruction_ICP/data/04/adaptive_threshold_jpg\\04_slice_0227.jpg\n",
      "已处理并保存图像: D:/Code/CBCT_Reconstruction_ICP/data/04/adaptive_threshold_jpg\\04_slice_0228.jpg\n",
      "已处理并保存图像: D:/Code/CBCT_Reconstruction_ICP/data/04/adaptive_threshold_jpg\\04_slice_0229.jpg\n",
      "已处理并保存图像: D:/Code/CBCT_Reconstruction_ICP/data/04/adaptive_threshold_jpg\\04_slice_0230.jpg\n",
      "已处理并保存图像: D:/Code/CBCT_Reconstruction_ICP/data/04/adaptive_threshold_jpg\\04_slice_0231.jpg\n",
      "已处理并保存图像: D:/Code/CBCT_Reconstruction_ICP/data/04/adaptive_threshold_jpg\\04_slice_0232.jpg\n",
      "已处理并保存图像: D:/Code/CBCT_Reconstruction_ICP/data/04/adaptive_threshold_jpg\\04_slice_0233.jpg\n",
      "已处理并保存图像: D:/Code/CBCT_Reconstruction_ICP/data/04/adaptive_threshold_jpg\\04_slice_0234.jpg\n",
      "已处理并保存图像: D:/Code/CBCT_Reconstruction_ICP/data/04/adaptive_threshold_jpg\\04_slice_0235.jpg\n",
      "已处理并保存图像: D:/Code/CBCT_Reconstruction_ICP/data/04/adaptive_threshold_jpg\\04_slice_0236.jpg\n",
      "已处理并保存图像: D:/Code/CBCT_Reconstruction_ICP/data/04/adaptive_threshold_jpg\\04_slice_0237.jpg\n",
      "已处理并保存图像: D:/Code/CBCT_Reconstruction_ICP/data/04/adaptive_threshold_jpg\\04_slice_0238.jpg\n",
      "已处理并保存图像: D:/Code/CBCT_Reconstruction_ICP/data/04/adaptive_threshold_jpg\\04_slice_0239.jpg\n",
      "已处理并保存图像: D:/Code/CBCT_Reconstruction_ICP/data/04/adaptive_threshold_jpg\\04_slice_0240.jpg\n",
      "已处理并保存图像: D:/Code/CBCT_Reconstruction_ICP/data/04/adaptive_threshold_jpg\\04_slice_0241.jpg\n",
      "已处理并保存图像: D:/Code/CBCT_Reconstruction_ICP/data/04/adaptive_threshold_jpg\\04_slice_0242.jpg\n",
      "已处理并保存图像: D:/Code/CBCT_Reconstruction_ICP/data/04/adaptive_threshold_jpg\\04_slice_0243.jpg\n",
      "已处理并保存图像: D:/Code/CBCT_Reconstruction_ICP/data/04/adaptive_threshold_jpg\\04_slice_0244.jpg\n",
      "已处理并保存图像: D:/Code/CBCT_Reconstruction_ICP/data/04/adaptive_threshold_jpg\\04_slice_0245.jpg\n",
      "已处理并保存图像: D:/Code/CBCT_Reconstruction_ICP/data/04/adaptive_threshold_jpg\\04_slice_0246.jpg\n",
      "已处理并保存图像: D:/Code/CBCT_Reconstruction_ICP/data/04/adaptive_threshold_jpg\\04_slice_0247.jpg\n",
      "已处理并保存图像: D:/Code/CBCT_Reconstruction_ICP/data/04/adaptive_threshold_jpg\\04_slice_0248.jpg\n",
      "已处理并保存图像: D:/Code/CBCT_Reconstruction_ICP/data/04/adaptive_threshold_jpg\\04_slice_0249.jpg\n",
      "已处理并保存图像: D:/Code/CBCT_Reconstruction_ICP/data/04/adaptive_threshold_jpg\\04_slice_0250.jpg\n",
      "已处理并保存图像: D:/Code/CBCT_Reconstruction_ICP/data/04/adaptive_threshold_jpg\\04_slice_0251.jpg\n",
      "已处理并保存图像: D:/Code/CBCT_Reconstruction_ICP/data/04/adaptive_threshold_jpg\\04_slice_0252.jpg\n",
      "已处理并保存图像: D:/Code/CBCT_Reconstruction_ICP/data/04/adaptive_threshold_jpg\\04_slice_0253.jpg\n",
      "已处理并保存图像: D:/Code/CBCT_Reconstruction_ICP/data/04/adaptive_threshold_jpg\\04_slice_0254.jpg\n",
      "已处理并保存图像: D:/Code/CBCT_Reconstruction_ICP/data/04/adaptive_threshold_jpg\\04_slice_0255.jpg\n",
      "已处理并保存图像: D:/Code/CBCT_Reconstruction_ICP/data/04/adaptive_threshold_jpg\\04_slice_0256.jpg\n",
      "已处理并保存图像: D:/Code/CBCT_Reconstruction_ICP/data/04/adaptive_threshold_jpg\\04_slice_0257.jpg\n",
      "已处理并保存图像: D:/Code/CBCT_Reconstruction_ICP/data/04/adaptive_threshold_jpg\\04_slice_0258.jpg\n",
      "已处理并保存图像: D:/Code/CBCT_Reconstruction_ICP/data/04/adaptive_threshold_jpg\\04_slice_0259.jpg\n",
      "已处理并保存图像: D:/Code/CBCT_Reconstruction_ICP/data/04/adaptive_threshold_jpg\\04_slice_0260.jpg\n",
      "已处理并保存图像: D:/Code/CBCT_Reconstruction_ICP/data/04/adaptive_threshold_jpg\\04_slice_0261.jpg\n",
      "已处理并保存图像: D:/Code/CBCT_Reconstruction_ICP/data/04/adaptive_threshold_jpg\\04_slice_0262.jpg\n",
      "已处理并保存图像: D:/Code/CBCT_Reconstruction_ICP/data/04/adaptive_threshold_jpg\\04_slice_0263.jpg\n",
      "已处理并保存图像: D:/Code/CBCT_Reconstruction_ICP/data/04/adaptive_threshold_jpg\\04_slice_0264.jpg\n",
      "已处理并保存图像: D:/Code/CBCT_Reconstruction_ICP/data/04/adaptive_threshold_jpg\\04_slice_0265.jpg\n",
      "已处理并保存图像: D:/Code/CBCT_Reconstruction_ICP/data/04/adaptive_threshold_jpg\\04_slice_0266.jpg\n",
      "已处理并保存图像: D:/Code/CBCT_Reconstruction_ICP/data/04/adaptive_threshold_jpg\\04_slice_0267.jpg\n",
      "已处理并保存图像: D:/Code/CBCT_Reconstruction_ICP/data/04/adaptive_threshold_jpg\\04_slice_0268.jpg\n",
      "已处理并保存图像: D:/Code/CBCT_Reconstruction_ICP/data/04/adaptive_threshold_jpg\\04_slice_0269.jpg\n",
      "已处理并保存图像: D:/Code/CBCT_Reconstruction_ICP/data/04/adaptive_threshold_jpg\\04_slice_0270.jpg\n",
      "已处理并保存图像: D:/Code/CBCT_Reconstruction_ICP/data/04/adaptive_threshold_jpg\\04_slice_0271.jpg\n",
      "已处理并保存图像: D:/Code/CBCT_Reconstruction_ICP/data/04/adaptive_threshold_jpg\\04_slice_0272.jpg\n",
      "已处理并保存图像: D:/Code/CBCT_Reconstruction_ICP/data/04/adaptive_threshold_jpg\\04_slice_0273.jpg\n",
      "已处理并保存图像: D:/Code/CBCT_Reconstruction_ICP/data/04/adaptive_threshold_jpg\\04_slice_0274.jpg\n",
      "已处理并保存图像: D:/Code/CBCT_Reconstruction_ICP/data/04/adaptive_threshold_jpg\\04_slice_0275.jpg\n",
      "已处理并保存图像: D:/Code/CBCT_Reconstruction_ICP/data/04/adaptive_threshold_jpg\\04_slice_0276.jpg\n",
      "已处理并保存图像: D:/Code/CBCT_Reconstruction_ICP/data/04/adaptive_threshold_jpg\\04_slice_0277.jpg\n",
      "已处理并保存图像: D:/Code/CBCT_Reconstruction_ICP/data/04/adaptive_threshold_jpg\\04_slice_0278.jpg\n",
      "已处理并保存图像: D:/Code/CBCT_Reconstruction_ICP/data/04/adaptive_threshold_jpg\\04_slice_0279.jpg\n",
      "已处理并保存图像: D:/Code/CBCT_Reconstruction_ICP/data/04/adaptive_threshold_jpg\\04_slice_0280.jpg\n",
      "已处理并保存图像: D:/Code/CBCT_Reconstruction_ICP/data/04/adaptive_threshold_jpg\\04_slice_0281.jpg\n",
      "已处理并保存图像: D:/Code/CBCT_Reconstruction_ICP/data/04/adaptive_threshold_jpg\\04_slice_0282.jpg\n",
      "已处理并保存图像: D:/Code/CBCT_Reconstruction_ICP/data/04/adaptive_threshold_jpg\\04_slice_0283.jpg\n",
      "已处理并保存图像: D:/Code/CBCT_Reconstruction_ICP/data/04/adaptive_threshold_jpg\\04_slice_0284.jpg\n",
      "已处理并保存图像: D:/Code/CBCT_Reconstruction_ICP/data/04/adaptive_threshold_jpg\\04_slice_0285.jpg\n",
      "已处理并保存图像: D:/Code/CBCT_Reconstruction_ICP/data/04/adaptive_threshold_jpg\\04_slice_0286.jpg\n",
      "已处理并保存图像: D:/Code/CBCT_Reconstruction_ICP/data/04/adaptive_threshold_jpg\\04_slice_0287.jpg\n",
      "已处理并保存图像: D:/Code/CBCT_Reconstruction_ICP/data/04/adaptive_threshold_jpg\\04_slice_0288.jpg\n",
      "已处理并保存图像: D:/Code/CBCT_Reconstruction_ICP/data/04/adaptive_threshold_jpg\\04_slice_0289.jpg\n",
      "已处理并保存图像: D:/Code/CBCT_Reconstruction_ICP/data/04/adaptive_threshold_jpg\\04_slice_0290.jpg\n",
      "已处理并保存图像: D:/Code/CBCT_Reconstruction_ICP/data/04/adaptive_threshold_jpg\\04_slice_0291.jpg\n",
      "已处理并保存图像: D:/Code/CBCT_Reconstruction_ICP/data/04/adaptive_threshold_jpg\\04_slice_0292.jpg\n",
      "已处理并保存图像: D:/Code/CBCT_Reconstruction_ICP/data/04/adaptive_threshold_jpg\\04_slice_0293.jpg\n",
      "已处理并保存图像: D:/Code/CBCT_Reconstruction_ICP/data/04/adaptive_threshold_jpg\\04_slice_0294.jpg\n",
      "已处理并保存图像: D:/Code/CBCT_Reconstruction_ICP/data/04/adaptive_threshold_jpg\\04_slice_0295.jpg\n",
      "已处理并保存图像: D:/Code/CBCT_Reconstruction_ICP/data/04/adaptive_threshold_jpg\\04_slice_0296.jpg\n",
      "已处理并保存图像: D:/Code/CBCT_Reconstruction_ICP/data/04/adaptive_threshold_jpg\\04_slice_0297.jpg\n",
      "已处理并保存图像: D:/Code/CBCT_Reconstruction_ICP/data/04/adaptive_threshold_jpg\\04_slice_0298.jpg\n",
      "已处理并保存图像: D:/Code/CBCT_Reconstruction_ICP/data/04/adaptive_threshold_jpg\\04_slice_0299.jpg\n",
      "已处理并保存图像: D:/Code/CBCT_Reconstruction_ICP/data/04/adaptive_threshold_jpg\\04_slice_0300.jpg\n",
      "已处理并保存图像: D:/Code/CBCT_Reconstruction_ICP/data/04/adaptive_threshold_jpg\\04_slice_0301.jpg\n",
      "已处理并保存图像: D:/Code/CBCT_Reconstruction_ICP/data/04/adaptive_threshold_jpg\\04_slice_0302.jpg\n",
      "已处理并保存图像: D:/Code/CBCT_Reconstruction_ICP/data/04/adaptive_threshold_jpg\\04_slice_0303.jpg\n",
      "已处理并保存图像: D:/Code/CBCT_Reconstruction_ICP/data/04/adaptive_threshold_jpg\\04_slice_0304.jpg\n",
      "已处理并保存图像: D:/Code/CBCT_Reconstruction_ICP/data/04/adaptive_threshold_jpg\\04_slice_0305.jpg\n",
      "已处理并保存图像: D:/Code/CBCT_Reconstruction_ICP/data/04/adaptive_threshold_jpg\\04_slice_0306.jpg\n",
      "已处理并保存图像: D:/Code/CBCT_Reconstruction_ICP/data/04/adaptive_threshold_jpg\\04_slice_0307.jpg\n",
      "已处理并保存图像: D:/Code/CBCT_Reconstruction_ICP/data/04/adaptive_threshold_jpg\\04_slice_0308.jpg\n",
      "已处理并保存图像: D:/Code/CBCT_Reconstruction_ICP/data/04/adaptive_threshold_jpg\\04_slice_0309.jpg\n",
      "已处理并保存图像: D:/Code/CBCT_Reconstruction_ICP/data/04/adaptive_threshold_jpg\\04_slice_0310.jpg\n",
      "已处理并保存图像: D:/Code/CBCT_Reconstruction_ICP/data/04/adaptive_threshold_jpg\\04_slice_0311.jpg\n",
      "已处理并保存图像: D:/Code/CBCT_Reconstruction_ICP/data/04/adaptive_threshold_jpg\\04_slice_0312.jpg\n",
      "已处理并保存图像: D:/Code/CBCT_Reconstruction_ICP/data/04/adaptive_threshold_jpg\\04_slice_0313.jpg\n",
      "已处理并保存图像: D:/Code/CBCT_Reconstruction_ICP/data/04/adaptive_threshold_jpg\\04_slice_0314.jpg\n",
      "已处理并保存图像: D:/Code/CBCT_Reconstruction_ICP/data/04/adaptive_threshold_jpg\\04_slice_0315.jpg\n",
      "已处理并保存图像: D:/Code/CBCT_Reconstruction_ICP/data/04/adaptive_threshold_jpg\\04_slice_0316.jpg\n",
      "已处理并保存图像: D:/Code/CBCT_Reconstruction_ICP/data/04/adaptive_threshold_jpg\\04_slice_0317.jpg\n",
      "已处理并保存图像: D:/Code/CBCT_Reconstruction_ICP/data/04/adaptive_threshold_jpg\\04_slice_0318.jpg\n",
      "已处理并保存图像: D:/Code/CBCT_Reconstruction_ICP/data/04/adaptive_threshold_jpg\\04_slice_0319.jpg\n",
      "已处理并保存图像: D:/Code/CBCT_Reconstruction_ICP/data/04/adaptive_threshold_jpg\\04_slice_0320.jpg\n",
      "已处理并保存图像: D:/Code/CBCT_Reconstruction_ICP/data/04/adaptive_threshold_jpg\\04_slice_0321.jpg\n",
      "已处理并保存图像: D:/Code/CBCT_Reconstruction_ICP/data/04/adaptive_threshold_jpg\\04_slice_0322.jpg\n",
      "已处理并保存图像: D:/Code/CBCT_Reconstruction_ICP/data/04/adaptive_threshold_jpg\\04_slice_0323.jpg\n",
      "已处理并保存图像: D:/Code/CBCT_Reconstruction_ICP/data/04/adaptive_threshold_jpg\\04_slice_0324.jpg\n",
      "已处理并保存图像: D:/Code/CBCT_Reconstruction_ICP/data/04/adaptive_threshold_jpg\\04_slice_0325.jpg\n",
      "已处理并保存图像: D:/Code/CBCT_Reconstruction_ICP/data/04/adaptive_threshold_jpg\\04_slice_0326.jpg\n",
      "已处理并保存图像: D:/Code/CBCT_Reconstruction_ICP/data/04/adaptive_threshold_jpg\\04_slice_0327.jpg\n",
      "已处理并保存图像: D:/Code/CBCT_Reconstruction_ICP/data/04/adaptive_threshold_jpg\\04_slice_0328.jpg\n",
      "已处理并保存图像: D:/Code/CBCT_Reconstruction_ICP/data/04/adaptive_threshold_jpg\\04_slice_0329.jpg\n",
      "已处理并保存图像: D:/Code/CBCT_Reconstruction_ICP/data/04/adaptive_threshold_jpg\\04_slice_0330.jpg\n",
      "已处理并保存图像: D:/Code/CBCT_Reconstruction_ICP/data/04/adaptive_threshold_jpg\\04_slice_0331.jpg\n",
      "已处理并保存图像: D:/Code/CBCT_Reconstruction_ICP/data/04/adaptive_threshold_jpg\\04_slice_0332.jpg\n",
      "已处理并保存图像: D:/Code/CBCT_Reconstruction_ICP/data/04/adaptive_threshold_jpg\\04_slice_0333.jpg\n",
      "已处理并保存图像: D:/Code/CBCT_Reconstruction_ICP/data/04/adaptive_threshold_jpg\\04_slice_0334.jpg\n",
      "已处理并保存图像: D:/Code/CBCT_Reconstruction_ICP/data/04/adaptive_threshold_jpg\\04_slice_0335.jpg\n",
      "已处理并保存图像: D:/Code/CBCT_Reconstruction_ICP/data/04/adaptive_threshold_jpg\\04_slice_0336.jpg\n",
      "已处理并保存图像: D:/Code/CBCT_Reconstruction_ICP/data/04/adaptive_threshold_jpg\\04_slice_0337.jpg\n",
      "已处理并保存图像: D:/Code/CBCT_Reconstruction_ICP/data/04/adaptive_threshold_jpg\\04_slice_0338.jpg\n",
      "已处理并保存图像: D:/Code/CBCT_Reconstruction_ICP/data/04/adaptive_threshold_jpg\\04_slice_0339.jpg\n",
      "已处理并保存图像: D:/Code/CBCT_Reconstruction_ICP/data/04/adaptive_threshold_jpg\\04_slice_0340.jpg\n",
      "已处理并保存图像: D:/Code/CBCT_Reconstruction_ICP/data/04/adaptive_threshold_jpg\\04_slice_0341.jpg\n",
      "已处理并保存图像: D:/Code/CBCT_Reconstruction_ICP/data/04/adaptive_threshold_jpg\\04_slice_0342.jpg\n",
      "已处理并保存图像: D:/Code/CBCT_Reconstruction_ICP/data/04/adaptive_threshold_jpg\\04_slice_0343.jpg\n",
      "已处理并保存图像: D:/Code/CBCT_Reconstruction_ICP/data/04/adaptive_threshold_jpg\\04_slice_0344.jpg\n",
      "已处理并保存图像: D:/Code/CBCT_Reconstruction_ICP/data/04/adaptive_threshold_jpg\\04_slice_0345.jpg\n",
      "已处理并保存图像: D:/Code/CBCT_Reconstruction_ICP/data/04/adaptive_threshold_jpg\\04_slice_0346.jpg\n",
      "已处理并保存图像: D:/Code/CBCT_Reconstruction_ICP/data/04/adaptive_threshold_jpg\\04_slice_0347.jpg\n",
      "已处理并保存图像: D:/Code/CBCT_Reconstruction_ICP/data/04/adaptive_threshold_jpg\\04_slice_0348.jpg\n",
      "已处理并保存图像: D:/Code/CBCT_Reconstruction_ICP/data/04/adaptive_threshold_jpg\\04_slice_0349.jpg\n",
      "已处理并保存图像: D:/Code/CBCT_Reconstruction_ICP/data/04/adaptive_threshold_jpg\\04_slice_0350.jpg\n",
      "已处理并保存图像: D:/Code/CBCT_Reconstruction_ICP/data/04/adaptive_threshold_jpg\\04_slice_0351.jpg\n",
      "已处理并保存图像: D:/Code/CBCT_Reconstruction_ICP/data/04/adaptive_threshold_jpg\\04_slice_0352.jpg\n",
      "已处理并保存图像: D:/Code/CBCT_Reconstruction_ICP/data/04/adaptive_threshold_jpg\\04_slice_0353.jpg\n",
      "已处理并保存图像: D:/Code/CBCT_Reconstruction_ICP/data/04/adaptive_threshold_jpg\\04_slice_0354.jpg\n",
      "已处理并保存图像: D:/Code/CBCT_Reconstruction_ICP/data/04/adaptive_threshold_jpg\\04_slice_0355.jpg\n",
      "已处理并保存图像: D:/Code/CBCT_Reconstruction_ICP/data/04/adaptive_threshold_jpg\\04_slice_0356.jpg\n",
      "已处理并保存图像: D:/Code/CBCT_Reconstruction_ICP/data/04/adaptive_threshold_jpg\\04_slice_0357.jpg\n",
      "已处理并保存图像: D:/Code/CBCT_Reconstruction_ICP/data/04/adaptive_threshold_jpg\\04_slice_0358.jpg\n",
      "已处理并保存图像: D:/Code/CBCT_Reconstruction_ICP/data/04/adaptive_threshold_jpg\\04_slice_0359.jpg\n",
      "已处理并保存图像: D:/Code/CBCT_Reconstruction_ICP/data/04/adaptive_threshold_jpg\\04_slice_0360.jpg\n",
      "已处理并保存图像: D:/Code/CBCT_Reconstruction_ICP/data/04/adaptive_threshold_jpg\\04_slice_0361.jpg\n",
      "已处理并保存图像: D:/Code/CBCT_Reconstruction_ICP/data/04/adaptive_threshold_jpg\\04_slice_0362.jpg\n",
      "已处理并保存图像: D:/Code/CBCT_Reconstruction_ICP/data/04/adaptive_threshold_jpg\\04_slice_0363.jpg\n",
      "已处理并保存图像: D:/Code/CBCT_Reconstruction_ICP/data/04/adaptive_threshold_jpg\\04_slice_0364.jpg\n",
      "已处理并保存图像: D:/Code/CBCT_Reconstruction_ICP/data/04/adaptive_threshold_jpg\\04_slice_0365.jpg\n",
      "已处理并保存图像: D:/Code/CBCT_Reconstruction_ICP/data/04/adaptive_threshold_jpg\\04_slice_0366.jpg\n",
      "已处理并保存图像: D:/Code/CBCT_Reconstruction_ICP/data/04/adaptive_threshold_jpg\\04_slice_0367.jpg\n",
      "已处理并保存图像: D:/Code/CBCT_Reconstruction_ICP/data/04/adaptive_threshold_jpg\\04_slice_0368.jpg\n",
      "已处理并保存图像: D:/Code/CBCT_Reconstruction_ICP/data/04/adaptive_threshold_jpg\\04_slice_0369.jpg\n",
      "已处理并保存图像: D:/Code/CBCT_Reconstruction_ICP/data/04/adaptive_threshold_jpg\\04_slice_0370.jpg\n",
      "已处理并保存图像: D:/Code/CBCT_Reconstruction_ICP/data/04/adaptive_threshold_jpg\\04_slice_0371.jpg\n",
      "已处理并保存图像: D:/Code/CBCT_Reconstruction_ICP/data/04/adaptive_threshold_jpg\\04_slice_0372.jpg\n",
      "已处理并保存图像: D:/Code/CBCT_Reconstruction_ICP/data/04/adaptive_threshold_jpg\\04_slice_0373.jpg\n",
      "已处理并保存图像: D:/Code/CBCT_Reconstruction_ICP/data/04/adaptive_threshold_jpg\\04_slice_0374.jpg\n",
      "已处理并保存图像: D:/Code/CBCT_Reconstruction_ICP/data/04/adaptive_threshold_jpg\\04_slice_0375.jpg\n",
      "已处理并保存图像: D:/Code/CBCT_Reconstruction_ICP/data/04/adaptive_threshold_jpg\\04_slice_0376.jpg\n",
      "已处理并保存图像: D:/Code/CBCT_Reconstruction_ICP/data/04/adaptive_threshold_jpg\\04_slice_0377.jpg\n",
      "已处理并保存图像: D:/Code/CBCT_Reconstruction_ICP/data/04/adaptive_threshold_jpg\\04_slice_0378.jpg\n",
      "已处理并保存图像: D:/Code/CBCT_Reconstruction_ICP/data/04/adaptive_threshold_jpg\\04_slice_0379.jpg\n",
      "已处理并保存图像: D:/Code/CBCT_Reconstruction_ICP/data/04/adaptive_threshold_jpg\\04_slice_0380.jpg\n",
      "已处理并保存图像: D:/Code/CBCT_Reconstruction_ICP/data/04/adaptive_threshold_jpg\\04_slice_0381.jpg\n",
      "已处理并保存图像: D:/Code/CBCT_Reconstruction_ICP/data/04/adaptive_threshold_jpg\\04_slice_0382.jpg\n",
      "已处理并保存图像: D:/Code/CBCT_Reconstruction_ICP/data/04/adaptive_threshold_jpg\\04_slice_0383.jpg\n",
      "已处理并保存图像: D:/Code/CBCT_Reconstruction_ICP/data/04/adaptive_threshold_jpg\\04_slice_0384.jpg\n",
      "已处理并保存图像: D:/Code/CBCT_Reconstruction_ICP/data/04/adaptive_threshold_jpg\\04_slice_0385.jpg\n",
      "已处理并保存图像: D:/Code/CBCT_Reconstruction_ICP/data/04/adaptive_threshold_jpg\\04_slice_0386.jpg\n",
      "已处理并保存图像: D:/Code/CBCT_Reconstruction_ICP/data/04/adaptive_threshold_jpg\\04_slice_0387.jpg\n",
      "已处理并保存图像: D:/Code/CBCT_Reconstruction_ICP/data/04/adaptive_threshold_jpg\\04_slice_0388.jpg\n",
      "已处理并保存图像: D:/Code/CBCT_Reconstruction_ICP/data/04/adaptive_threshold_jpg\\04_slice_0389.jpg\n",
      "已处理并保存图像: D:/Code/CBCT_Reconstruction_ICP/data/04/adaptive_threshold_jpg\\04_slice_0390.jpg\n",
      "已处理并保存图像: D:/Code/CBCT_Reconstruction_ICP/data/04/adaptive_threshold_jpg\\04_slice_0391.jpg\n",
      "已处理并保存图像: D:/Code/CBCT_Reconstruction_ICP/data/04/adaptive_threshold_jpg\\04_slice_0392.jpg\n",
      "已处理并保存图像: D:/Code/CBCT_Reconstruction_ICP/data/04/adaptive_threshold_jpg\\04_slice_0393.jpg\n",
      "已处理并保存图像: D:/Code/CBCT_Reconstruction_ICP/data/04/adaptive_threshold_jpg\\04_slice_0394.jpg\n",
      "已处理并保存图像: D:/Code/CBCT_Reconstruction_ICP/data/04/adaptive_threshold_jpg\\04_slice_0395.jpg\n",
      "已处理并保存图像: D:/Code/CBCT_Reconstruction_ICP/data/04/adaptive_threshold_jpg\\04_slice_0396.jpg\n",
      "已处理并保存图像: D:/Code/CBCT_Reconstruction_ICP/data/04/adaptive_threshold_jpg\\04_slice_0397.jpg\n",
      "已处理并保存图像: D:/Code/CBCT_Reconstruction_ICP/data/04/adaptive_threshold_jpg\\04_slice_0398.jpg\n",
      "已处理并保存图像: D:/Code/CBCT_Reconstruction_ICP/data/04/adaptive_threshold_jpg\\04_slice_0399.jpg\n",
      "已处理并保存图像: D:/Code/CBCT_Reconstruction_ICP/data/04/adaptive_threshold_jpg\\04_slice_0400.jpg\n",
      "已处理并保存图像: D:/Code/CBCT_Reconstruction_ICP/data/04/adaptive_threshold_jpg\\04_slice_0401.jpg\n",
      "已处理并保存图像: D:/Code/CBCT_Reconstruction_ICP/data/04/adaptive_threshold_jpg\\04_slice_0402.jpg\n",
      "已处理并保存图像: D:/Code/CBCT_Reconstruction_ICP/data/04/adaptive_threshold_jpg\\04_slice_0403.jpg\n",
      "已处理并保存图像: D:/Code/CBCT_Reconstruction_ICP/data/04/adaptive_threshold_jpg\\04_slice_0404.jpg\n",
      "已处理并保存图像: D:/Code/CBCT_Reconstruction_ICP/data/04/adaptive_threshold_jpg\\04_slice_0405.jpg\n",
      "已处理并保存图像: D:/Code/CBCT_Reconstruction_ICP/data/04/adaptive_threshold_jpg\\04_slice_0406.jpg\n",
      "已处理并保存图像: D:/Code/CBCT_Reconstruction_ICP/data/04/adaptive_threshold_jpg\\04_slice_0407.jpg\n",
      "已处理并保存图像: D:/Code/CBCT_Reconstruction_ICP/data/04/adaptive_threshold_jpg\\04_slice_0408.jpg\n",
      "已处理并保存图像: D:/Code/CBCT_Reconstruction_ICP/data/04/adaptive_threshold_jpg\\04_slice_0409.jpg\n",
      "已处理并保存图像: D:/Code/CBCT_Reconstruction_ICP/data/04/adaptive_threshold_jpg\\04_slice_0410.jpg\n",
      "已处理并保存图像: D:/Code/CBCT_Reconstruction_ICP/data/04/adaptive_threshold_jpg\\04_slice_0411.jpg\n",
      "已处理并保存图像: D:/Code/CBCT_Reconstruction_ICP/data/04/adaptive_threshold_jpg\\04_slice_0412.jpg\n",
      "已处理并保存图像: D:/Code/CBCT_Reconstruction_ICP/data/04/adaptive_threshold_jpg\\04_slice_0413.jpg\n",
      "已处理并保存图像: D:/Code/CBCT_Reconstruction_ICP/data/04/adaptive_threshold_jpg\\04_slice_0414.jpg\n",
      "已处理并保存图像: D:/Code/CBCT_Reconstruction_ICP/data/04/adaptive_threshold_jpg\\04_slice_0415.jpg\n",
      "已处理并保存图像: D:/Code/CBCT_Reconstruction_ICP/data/04/adaptive_threshold_jpg\\04_slice_0416.jpg\n",
      "已处理并保存图像: D:/Code/CBCT_Reconstruction_ICP/data/04/adaptive_threshold_jpg\\04_slice_0417.jpg\n",
      "已处理并保存图像: D:/Code/CBCT_Reconstruction_ICP/data/04/adaptive_threshold_jpg\\04_slice_0418.jpg\n",
      "已处理并保存图像: D:/Code/CBCT_Reconstruction_ICP/data/04/adaptive_threshold_jpg\\04_slice_0419.jpg\n",
      "已处理并保存图像: D:/Code/CBCT_Reconstruction_ICP/data/04/adaptive_threshold_jpg\\04_slice_0420.jpg\n",
      "已处理并保存图像: D:/Code/CBCT_Reconstruction_ICP/data/04/adaptive_threshold_jpg\\04_slice_0421.jpg\n",
      "已处理并保存图像: D:/Code/CBCT_Reconstruction_ICP/data/04/adaptive_threshold_jpg\\04_slice_0422.jpg\n",
      "已处理并保存图像: D:/Code/CBCT_Reconstruction_ICP/data/04/adaptive_threshold_jpg\\04_slice_0423.jpg\n",
      "已处理并保存图像: D:/Code/CBCT_Reconstruction_ICP/data/04/adaptive_threshold_jpg\\04_slice_0424.jpg\n",
      "已处理并保存图像: D:/Code/CBCT_Reconstruction_ICP/data/04/adaptive_threshold_jpg\\04_slice_0425.jpg\n",
      "已处理并保存图像: D:/Code/CBCT_Reconstruction_ICP/data/04/adaptive_threshold_jpg\\04_slice_0426.jpg\n",
      "已处理并保存图像: D:/Code/CBCT_Reconstruction_ICP/data/04/adaptive_threshold_jpg\\04_slice_0427.jpg\n",
      "已处理并保存图像: D:/Code/CBCT_Reconstruction_ICP/data/04/adaptive_threshold_jpg\\04_slice_0428.jpg\n",
      "已处理并保存图像: D:/Code/CBCT_Reconstruction_ICP/data/04/adaptive_threshold_jpg\\04_slice_0429.jpg\n",
      "已处理并保存图像: D:/Code/CBCT_Reconstruction_ICP/data/04/adaptive_threshold_jpg\\04_slice_0430.jpg\n",
      "已处理并保存图像: D:/Code/CBCT_Reconstruction_ICP/data/04/adaptive_threshold_jpg\\04_slice_0431.jpg\n",
      "已处理并保存图像: D:/Code/CBCT_Reconstruction_ICP/data/04/adaptive_threshold_jpg\\04_slice_0432.jpg\n",
      "已处理并保存图像: D:/Code/CBCT_Reconstruction_ICP/data/04/adaptive_threshold_jpg\\04_slice_0433.jpg\n",
      "已处理并保存图像: D:/Code/CBCT_Reconstruction_ICP/data/04/adaptive_threshold_jpg\\04_slice_0434.jpg\n",
      "已处理并保存图像: D:/Code/CBCT_Reconstruction_ICP/data/04/adaptive_threshold_jpg\\04_slice_0435.jpg\n",
      "已处理并保存图像: D:/Code/CBCT_Reconstruction_ICP/data/04/adaptive_threshold_jpg\\04_slice_0436.jpg\n",
      "已处理并保存图像: D:/Code/CBCT_Reconstruction_ICP/data/04/adaptive_threshold_jpg\\04_slice_0437.jpg\n",
      "已处理并保存图像: D:/Code/CBCT_Reconstruction_ICP/data/04/adaptive_threshold_jpg\\04_slice_0438.jpg\n",
      "已处理并保存图像: D:/Code/CBCT_Reconstruction_ICP/data/04/adaptive_threshold_jpg\\04_slice_0439.jpg\n",
      "已处理并保存图像: D:/Code/CBCT_Reconstruction_ICP/data/04/adaptive_threshold_jpg\\04_slice_0440.jpg\n",
      "所有图像处理完毕。\n"
     ]
    }
   ],
   "source": [
    "# Adaptive threshold filtering 并去除短线段与点\n",
    "import os\n",
    "import cv2\n",
    "import numpy as np\n",
    "\n",
    "def apply_adaptive_threshold_and_filter(input_dir, output_dir):\n",
    "    # 创建输出目录（如果不存在）\n",
    "    os.makedirs(output_dir, exist_ok=True)\n",
    "\n",
    "    # 获取输入目录中的所有图像文件\n",
    "    image_files = [f for f in os.listdir(input_dir) if os.path.isfile(os.path.join(input_dir, f))]\n",
    "    \n",
    "    for img_name in image_files:\n",
    "        input_path = os.path.join(input_dir, img_name)\n",
    "        output_path = os.path.join(output_dir, img_name)\n",
    "        \n",
    "        # 读取图像\n",
    "        image = cv2.imread(input_path, cv2.IMREAD_GRAYSCALE)  # 读取为灰度图像\n",
    "        if image is None:\n",
    "            print(f\"无法读取图像: {input_path}\")\n",
    "            continue\n",
    "        \n",
    "        # 应用自适应阈值处理\n",
    "        adaptive_thresh = cv2.adaptiveThreshold(\n",
    "            image, 255, cv2.ADAPTIVE_THRESH_MEAN_C, \n",
    "            cv2.THRESH_BINARY_INV, 17, 2\n",
    "        )\n",
    "        \n",
    "        # 定义形态学操作的内核\n",
    "        kernel = np.ones((3, 3), np.uint8)\n",
    "        \n",
    "        # 进行形态学开运算去除噪点\n",
    "        morph_open = cv2.morphologyEx(adaptive_thresh, cv2.MORPH_OPEN, kernel)\n",
    "        \n",
    "        # 进行形态学闭运算填充线段间的空隙\n",
    "        morph_close = cv2.morphologyEx(morph_open, cv2.MORPH_CLOSE, kernel)\n",
    "\n",
    "        # 连通组件分析去除小的联通组件\n",
    "        num_labels, labels, stats, centroids = cv2.connectedComponentsWithStats(morph_close, connectivity=8)\n",
    "        min_area = 200  # 设定最小区域面积阈值\n",
    "        \n",
    "        filtered_image = np.zeros_like(morph_close)\n",
    "        \n",
    "        for i in range(1, num_labels):  # 从1开始，跳过背景\n",
    "            if stats[i, cv2.CC_STAT_AREA] >= min_area:\n",
    "                filtered_image[labels == i] = 255\n",
    "        \n",
    "        # 保存处理后的图像\n",
    "        cv2.imwrite(output_path, filtered_image)\n",
    "        print(f\"已处理并保存图像: {output_path}\")\n",
    "\n",
    "# 定义输入和输出目录\n",
    "base_dir = 'D:/Code/CBCT_Reconstruction_ICP/data/04/'\n",
    "input_dir = os.path.join(base_dir, 'jpg')\n",
    "output_dir = os.path.join(base_dir, 'adaptive_threshold_jpg')\n",
    "\n",
    "# 应用自适应阈值处理和过滤\n",
    "apply_adaptive_threshold_and_filter(input_dir, output_dir)\n",
    "\n",
    "print(\"所有图像处理完毕。\")"
   ]
  },
  {
   "cell_type": "markdown",
   "id": "b3016fe7",
   "metadata": {},
   "source": [
    "['AABBTreePolyline2', 'AABBTreePolyline3', 'AffineXf2d', 'AffineXf2f', 'AffineXf3d', 'AffineXf3f', 'BitSet', 'BooleanOperation', 'BooleanResMapObj', 'BooleanResMaps', 'BooleanResult', 'BooleanResultMapper', 'BoostBitSet', 'Box2d', 'Box2f', 'Box3d', 'Box3f', 'Color', 'Contour2d', 'Contour2f', 'Contour3d', 'Contour3f', 'ContourToDistanceMapParams', 'Contours2d', 'Contours2f', 'Contours3d', 'Contours3f', 'DecimateResult', 'DecimateSettings', 'DecimateStrategy', 'DistanceMap', 'DistanceMapToWorld', 'EdgeBitSet', 'EdgeId', 'EdgeMap', 'EdgeMetric', 'EdgePoint', 'ExpectedVoid', 'FaceBitSet', 'FaceFace', 'FaceHashMap', 'FaceId', 'FaceIncidence', 'FaceMap', 'FaceNormals', 'FillHoleMetric', 'FillHoleParams', 'FillHoleParamsMultipleEdgesResolveMode', 'FindOverhangsSettings', 'FixSelfIntersectionMethod', 'FixSelfIntersectionSettings', 'FloatGrid', 'GeneralOffsetParameters', 'GeneralOffsetParametersMode', 'GeodesicPathApprox', 'GridType', 'HolesVertIds', 'ICP', 'ICPMethod', 'ICPMode', 'ICPProperties', 'InflateSettings', 'IntersectionPrecomputesd', 'IntersectionPrecomputesf', 'ItemsView[FaceHashMap]', 'ItemsView[VertHashMap]', 'ItemsView[WholeEdgeHashMap]', 'KeysView[FaceHashMap]', 'KeysView[VertHashMap]', 'KeysView[WholeEdgeHashMap]', 'LaplacianEdgeWeightsParam', 'Line3d', 'Line3f', 'LineSegm2f', 'LineSegm3f', 'LoadDCMResult', 'LoadDCMResults', 'LoadingTiffSettings', 'Matrix2d', 'Matrix2f', 'Matrix3d', 'Matrix3f', 'Mesh', 'MeshApproxRelaxParams', 'MeshBuilderSettings', 'MeshIntersectionResult', 'MeshLoadSettings', 'MeshPart', 'MeshProjectionResult', 'MeshRelaxParams', 'MeshSignedDistanceResult', 'MeshToDistanceMapParams', 'MeshToDistanceVolumeParams', 'MeshToVolumeParams', 'MeshToVolumeParamsType', 'MeshTopology', 'MeshTriPoint', 'MovementBuildBodyParams', 'NestedComponenetsMode', 'OffsetParameters', 'PackMapping', 'PartMapping', 'Path', 'Plane3f', 'PointCloud', 'PointOnFace', 'PointPair', 'PointPairs', 'PointsToMeshParameters', 'Polyline2', 'Polyline3', 'PolylineTopology', 'RelaxApproxType', 'RelaxParams', 'RemeshSettings', 'SceneObject', 'SegmPointf', 'SharpOffsetParameters', 'SignDetectionMode', 'SignedDistanceToMeshResult', 'SimpleVolume', 'SlicePlane', 'SphereParams', 'StitchHolesParams', 'SubdivideSettings', 'SurfacePath', 'SurfacePaths', 'SymbolMeshParams', 'TextAlignParams', 'ThreeVertIds', 'TriPointf', 'Triangulation', 'TriangulationParameters', 'UndirectedEdgeBitSet', 'UndirectedEdgeId', 'UndirectedEdgeMap', 'UndirectedEdgeUndirectedEdge', 'UniteManyMeshesParams', 'ValuesView[FaceHashMap]', 'ValuesView[VertHashMap]', 'ValuesView[WholeEdgeHashMap]', 'VdbVolume', 'Vector2d', 'Vector2f', 'Vector2i', 'Vector3d', 'Vector3f', 'Vector3i', 'VectorFloatByVert', 'VertBitSet', 'VertColorMap', 'VertCoords', 'VertCoords2', 'VertHashMap', 'VertId', 'VertMap', 'ViewportId', 'ViewportMask', 'VoxelsSaveSavingSettings', 'WholeEdgeHashMap', 'WholeEdgeMap', 'WindingMode', '__doc__', '__file__', '__loader__', '__name__', '__package__', '__spec__', 'addBaseToPlanarMesh', 'alignTextToMesh', 'angle', 'boolean', 'buildBottom', 'buildCylinderBetweenTwoHoles', 'buildShortestPath', 'buildShortestPathBiDir', 'buildSmallestMetricPath', 'buildSmallestMetricPathBiDir', 'calcOrientedArea', 'computeDistanceMapD', 'comnces', 'computeThicknessAtVertices', 'copyMesh', 'createSymbolsMesh', 'cross', 'cutAlongEdgeLoop', 'cutMeshWithPlane', 'decimateMesh', 'detectBasisTunnels', 'detectTunnelFaces', 'dilateRegion', 'dilateRegionByMetric', 'distanceMapTo2DIsoPolyline', 'distanceMapToMesh', 'dot', 'doubleOffsetMesh', 'edgeCurvMetric', 'edgeLengthMetric', 'edgeTableSymMetric', 'erodeRegion', 'erodeRegionByMetric', 'expand', 'extractPlaneSections', 'fillContourLeft', 'fillContourLeftByGraphCut', 'fillHole', 'findCollidingTriangles', 'findDegenerateFaces', 'findHoleVertIdsByHoleEdges', 'findLeftBoundary', 'findMaxDistanceSq', 'findMaxDistanceSqOneWay', 'findOverhangs', 'findProjection', 'findRightBoundary', 'findSelfCollidingEdges', 'findSelfCollidingTriangles', 'findSelfCollidingTrianglesBS', 'findSignedDistance', 'findUndercuts', 'fixMultipleEdges', 'fixSelfIntersections', 'fixUndercuts', 'floatGridToVdbVolume', 'generalOffsetMesh', 'getAllComponents', 'getAllComponentsVerts', 'getCircumscribedMetric', 'getComplexFillMetric', 'getComponent', 'getComponentVerts', 'getEdgeLengthFillMetric', 'getEdgeLengthStitchMetric', 'getFacesByMinEdgeLength', 'getIncidentFaces', 'getIncidentVerts', 'getInnerFaces', 'getInnerVerts', 'getLargestComponent', 'getLargestComponentVerts', 'getMinAreaMetric', 'getPlaneFillMetric', 'getUniversalMetric', 'gridToMesh', 'hasMultipleEdges', 'identityMetric', 'inflate', 'intersection', 'loadDCMFolder', 'loadDCMsFolder', 'loadDistanceMapFromImage', 'loadLines', 'loadMesh', 'loadPoints', 'loadSceneObject', 'loadTiffDir', 'loadVoxels', 'localFindSelfIntersections', 'localFixSelfIntersections', 'makeBridge', 'makeBridgeEdge', 'makeConvexHull', 'makeCube', 'makeCylinder', 'makeCylinderAdvanced', 'makeDegenerateBandAroundRegion', 'makeMovementBuildBody', 'makeOuterHalfTorus', 'makeSphere', 'makeTorus', 'makeTorusWithComponents', 'makeTorusWithSelfIntersections', 'makeTorusWithSpikes', 'makeTorusWithUndercut', 'makeUVSphere', 'mergeMeshes', 'meshRegularMap', 'meshToDistanceField', 'meshToDistanceVolume', 'meshToLevelSet', 'meshToPointCloud', 'meshToVolume', 'mixed', 'mult', 'offsetMesh', 'planeSectionsToContours2f', 'pointGridSampling', 'pointIterativeSampling', 'pointUniformSampling', 'pointsToMeshFusion', 'positionVertsSmoothly', 'positionVertsSmoothlySharpBd', 'projectAllMeshVertices', 'rayMeshIntersect', 'relax', 'relaxApprox', 'relaxKeepVolume', 'remesh', 'removeSpikes', 'saveAllSlicesToImage', 'saveDistanceMapToImage', 'saveLines', 'saveMesh', 'savePoints', 'saveSceneObject', 'saveSliceToImage', 'saveVoxels', 'segmentByGraphCut', 'shrink', 'simpleVolumeToDenseGrid', 'simpleVolumeToVdbVolume', 'smoothRegionBoundary', 'stitchContours', 'straightenBoundary', 'subdivideMesh', 'suggestVoxelSize', 'surfacePathLength', 'surroundingContour', 'thickenMesh', 'topologyFromTriangles', 'transformed', 'triangulateContours', 'triangulatePointCloud', 'uniteCloseVertices', 'uniteManyMeshes', 'vdbVolumeToSimpleVolume', 'vectorColor', 'vectorConstMeshPtr', 'vectorEdgePath', 'vectorEdges', 'vectorFaceBitSet', 'vectorFaceFace', 'vectorFaces', 'vectorFloat', 'vectorICPPointPair', 'vectorMesh', 'vectorThreeVertIds', 'vectorUndirectedEdgeUndirectedEdge', 'vectorUndirectedEdges', 'vectorVertBitSet', 'vectorVerts', 'voxelBooleanIntersect', 'voxelBooleanSubtract', 'voxelBooleanUnite']"
   ]
  }
 ],
 "metadata": {
  "kernelspec": {
   "display_name": "Python 3 (ipykernel)",
   "language": "python",
   "name": "python3"
  },
  "language_info": {
   "codemirror_mode": {
    "name": "ipython",
    "version": 3
   },
   "file_extension": ".py",
   "mimetype": "text/x-python",
   "name": "python",
   "nbconvert_exporter": "python",
   "pygments_lexer": "ipython3",
   "version": "3.9.19"
  }
 },
 "nbformat": 4,
 "nbformat_minor": 5
}
