{
 "cells": [
  {
   "cell_type": "code",
   "execution_count": 34,
   "id": "4bc3f787-02e6-4ca5-8938-acd2531f6348",
   "metadata": {},
   "outputs": [],
   "source": [
    "import os\n",
    "import json\n",
    "import base64\n",
    "from PIL import Image\n",
    "from io import BytesIO\n",
    "\n",
    "def convert_labelme_to_yolo(json_dir, output_dir, class_mapping):\n",
    "    if not os.path.exists(output_dir):\n",
    "        os.makedirs(output_dir)\n",
    "\n",
    "    for filename in os.listdir(json_dir):\n",
    "        if filename.endswith('.json'):\n",
    "            json_path = os.path.join(json_dir, filename)\n",
    "            with open(json_path, 'r') as f:\n",
    "                data = json.load(f)\n",
    "\n",
    "            image_data = data['imageData']\n",
    "            image_height = data['imageHeight']\n",
    "            image_width = data['imageWidth']\n",
    "            \n",
    "            shapes = data['shapes']\n",
    "            yolo_labels = []\n",
    "\n",
    "            for shape in shapes:\n",
    "                label_name = shape['label']\n",
    "                if label_name not in class_mapping:\n",
    "                    continue\n",
    "\n",
    "                label = class_mapping[label_name]\n",
    "                \n",
    "                if shape['shape_type'] == 'rectangle':\n",
    "                    points = shape['points']\n",
    "                    x_min, y_min = points[0]\n",
    "                    x_max, y_max = points[1]\n",
    "                    \n",
    "                    # Convert to YOLO format\n",
    "                    x_center = (x_min + x_max) / 2.0 / image_width\n",
    "                    y_center = (y_min + y_max) / 2.0 / image_height\n",
    "                    width = (x_max - x_min) / image_width\n",
    "                    height = (y_max - y_min) / image_height\n",
    "\n",
    "                    yolo_labels.append(f\"{label} {x_center:.6f} {y_center:.6f} {width:.6f} {height:.6f}\")\n",
    "\n",
    "                elif shape['shape_type'] == 'polygon':\n",
    "                    points = shape['points']\n",
    "                    x_min = min([point[0] for point in points])\n",
    "                    x_max = max([point[0] for point in points])\n",
    "                    y_min = min([point[1] for point in points])\n",
    "                    y_max = max([point[1] for point in points])\n",
    "\n",
    "                    # Convert to YOLO format\n",
    "                    x_center = (x_min + x_max) / 2.0 / image_width\n",
    "                    y_center = (y_min + y_max) / 2.0 / image_height\n",
    "                    width = (x_max - x_min) / image_width\n",
    "                    height = (y_max - y_min) / image_height\n",
    "\n",
    "                    yolo_labels.append(f\"{label} {x_center:.6f} {y_center:.6f} {width:.6f} {height:.6f}\")\n",
    "\n",
    "            # Write YOLO label file\n",
    "            filename_stem = os.path.splitext(filename)[0]\n",
    "            yolo_path = os.path.join(output_dir, filename_stem + '.txt')\n",
    "            with open(yolo_path, 'w') as f:\n",
    "                f.write('\\n'.join(yolo_labels))\n",
    "\n",
    "            # Decode base64 image data and save as image file\n",
    "            image_data = base64.b64decode(image_data)\n",
    "            image = Image.open(BytesIO(image_data))\n",
    "            image_output_path = os.path.join(output_dir, filename_stem + '.jpg')\n",
    "            image.save(image_output_path)\n",
    "\n",
    "# Usage\n",
    "data_rel_path = '../../data'.replace('/', os.path.sep)\n",
    "data_abs_path = os.path.abspath(data_rel_path)\n",
    "json_dir = os.path.join(data_abs_path, 'raw_jsons')  # Replace with the path to your JSON files directory\n",
    "output_dir = os.path.join(data_abs_path, 'dataset')    # Replace with the path to your output directory\n",
    "\n",
    "# Define class mapping\n",
    "class_mapping = {\n",
    "    \"arch\": 0,\n",
    "    \"vomer\": 1\n",
    "}\n",
    "\n",
    "convert_labelme_to_yolo(json_dir, output_dir, class_mapping)"
   ]
  },
  {
   "cell_type": "code",
   "execution_count": 43,
   "id": "74df4aab-8c94-414b-a31a-23425c09e5a8",
   "metadata": {},
   "outputs": [
    {
     "name": "stdout",
     "output_type": "stream",
     "text": [
      "Organized dataset into d:\\Code\\CBCT_Reconstruction_ICP\\data\\dataset\\detect_arch\\images/train, d:\\Code\\CBCT_Reconstruction_ICP\\data\\dataset\\detect_arch\\images/val, d:\\Code\\CBCT_Reconstruction_ICP\\data\\dataset\\detect_arch\\labels/train, and d:\\Code\\CBCT_Reconstruction_ICP\\data\\dataset\\detect_arch\\labels/val\n"
     ]
    }
   ],
   "source": [
    "# Validate the txt and jpg datasets have identical names. Later copy them into train and val folders\n",
    "\n",
    "import os\n",
    "import shutil\n",
    "from sklearn.model_selection import train_test_split\n",
    "\n",
    "def organize_dataset(dataset_dir, output_dir, split_ratio=0.2):\n",
    "    # Check if output directories exist, if not, create them\n",
    "    images_train_dir = os.path.join(output_dir, 'images/train')\n",
    "    images_val_dir = os.path.join(output_dir, 'images/val')\n",
    "    labels_train_dir = os.path.join(output_dir, 'labels/train')\n",
    "    labels_val_dir = os.path.join(output_dir, 'labels/val')\n",
    "\n",
    "    for dir_path in [images_train_dir, images_val_dir, labels_train_dir, labels_val_dir]:\n",
    "        if not os.path.exists(dir_path):\n",
    "            os.makedirs(dir_path)\n",
    "\n",
    "    # Get lists of all jpg and txt files\n",
    "    jpg_files = [f for f in os.listdir(dataset_dir) if f.endswith('.jpg')]\n",
    "    txt_files = [f for f in os.listdir(dataset_dir) if f.endswith('.txt')]\n",
    "\n",
    "    # Check for 1-to-1 correspondence\n",
    "    jpg_file_names = set(os.path.splitext(f)[0] for f in jpg_files)\n",
    "    txt_file_names = set(os.path.splitext(f)[0] for f in txt_files)\n",
    "    common_file_names = jpg_file_names.intersection(txt_file_names)\n",
    "\n",
    "    if not (jpg_file_names == txt_file_names):\n",
    "        print(\"Warning: Some jpg and txt files do not have corresponding pairs.\")\n",
    "\n",
    "    # Prepare paired file paths\n",
    "    jpg_files = [os.path.join(dataset_dir, f\"{name}.jpg\") for name in common_file_names]\n",
    "    txt_files = [os.path.join(dataset_dir, f\"{name}.txt\") for name in common_file_names]\n",
    "\n",
    "    # Split data into training and validation sets\n",
    "    jpg_train, jpg_val, txt_train, txt_val = train_test_split(\n",
    "        jpg_files, txt_files, test_size=split_ratio, random_state=42\n",
    "    )\n",
    "\n",
    "    # Copy files to their respective directories\n",
    "    def copy_files(files, output_dir):\n",
    "        for file in files:\n",
    "            shutil.copy(file, output_dir)\n",
    "\n",
    "    copy_files(jpg_train, images_train_dir)\n",
    "    copy_files(jpg_val, images_val_dir)\n",
    "    copy_files(txt_train, labels_train_dir)\n",
    "    copy_files(txt_val, labels_val_dir)\n",
    "\n",
    "    print(f\"Organized dataset into {images_train_dir}, {images_val_dir}, {labels_train_dir}, and {labels_val_dir}\")\n",
    "\n",
    "# Usage\n",
    "data_rel_path = '../../data/dataset'.replace('/', os.path.sep)\n",
    "data_abs_path = os.path.abspath(data_rel_path)\n",
    "output_dir = os.path.join(data_abs_path, 'detect_arch')    # Replace with the path to your output directory\n",
    "\n",
    "organize_dataset(data_abs_path, output_dir)"
   ]
  },
  {
   "cell_type": "code",
   "execution_count": 2,
   "id": "ec0cfd74-72ad-45aa-a881-6df13b7e1e37",
   "metadata": {},
   "outputs": [
    {
     "name": "stdout",
     "output_type": "stream",
     "text": [
      "C:\\Users\\DYPro\\.conda\\envs\\mesh_seg_net\n",
      "scikit-learn is installed.\n",
      "scikit-learn version: 1.5.0\n"
     ]
    }
   ],
   "source": [
    "import os\n",
    "print(os.environ['CONDA_PREFIX'])\n",
    "try:\n",
    "    import sklearn\n",
    "    print(\"scikit-learn is installed.\")\n",
    "    print(\"scikit-learn version:\", sklearn.__version__)\n",
    "except ImportError:\n",
    "    print(\"scikit-learn is not installed.\")"
   ]
  },
  {
   "cell_type": "code",
   "execution_count": 5,
   "id": "dec64587-92e4-4b6f-b804-166fe74f6a51",
   "metadata": {},
   "outputs": [
    {
     "name": "stdout",
     "output_type": "stream",
     "text": [
      "Channels:\n",
      " - conda-forge\n",
      " - defaults\n",
      " - https://mirrors.tuna.tsinghua.edu.cn/anaconda/pkgs/main\n",
      " - nvidia\n",
      " - https://mirrors.tuna.tsinghua.edu.cn/anaconda/pkgs/free\n",
      " - pytorch\n",
      "Platform: win-64\n",
      "Collecting package metadata (repodata.json): ...working... done\n",
      "Solving environment: ...working... done\n",
      "\n",
      "# All requested packages already installed.\n",
      "\n"
     ]
    }
   ],
   "source": [
    "!conda install scikit-learn -y"
   ]
  },
  {
   "cell_type": "code",
   "execution_count": 1,
   "id": "fa1b1054-3117-4f13-843c-8fc70c29cab5",
   "metadata": {},
   "outputs": [
    {
     "name": "stdout",
     "output_type": "stream",
     "text": [
      "C:\\Users\\DYPro\\.conda\\envs\\mesh_seg_net\\python.exe\n"
     ]
    }
   ],
   "source": [
    "import sys\n",
    "print(sys.executable)"
   ]
  },
  {
   "cell_type": "code",
   "execution_count": 44,
   "id": "2d6e216d-1ae2-424c-ab28-8434a1cffcd5",
   "metadata": {},
   "outputs": [
    {
     "name": "stdout",
     "output_type": "stream",
     "text": [
      "using device:  cuda\n",
      "d:\\Code\\CBCT_Reconstruction_ICP\\src\\main program\n",
      "New https://pypi.org/project/ultralytics/8.2.36 available 😃 Update with 'pip install -U ultralytics'\n",
      "Ultralytics YOLOv8.1.34 🚀 Python-3.9.19 torch-2.0.1+cu118 CUDA:0 (NVIDIA GeForce RTX 4080 Laptop GPU, 12282MiB)\n",
      "\u001b[34m\u001b[1mengine\\trainer: \u001b[0mtask=detect, mode=train, model=yolov10n.yaml, data=detect_arch.yaml, epochs=200, time=None, patience=100, batch=16, imgsz=640, save=True, save_period=-1, val_period=1, cache=False, device=cuda, workers=8, project=None, name=train23, exist_ok=False, pretrained=True, optimizer=auto, verbose=True, seed=0, deterministic=True, single_cls=False, rect=False, cos_lr=False, close_mosaic=10, resume=False, amp=True, fraction=1.0, profile=False, freeze=None, multi_scale=False, overlap_mask=True, mask_ratio=4, dropout=0.0, val=True, split=val, save_json=False, save_hybrid=False, conf=None, iou=0.7, max_det=300, half=False, dnn=False, plots=True, source=None, vid_stride=1, stream_buffer=False, visualize=False, augment=False, agnostic_nms=False, classes=None, retina_masks=False, embed=None, show=False, save_frames=False, save_txt=False, save_conf=False, save_crop=False, show_labels=True, show_conf=True, show_boxes=True, line_width=None, format=torchscript, keras=False, optimize=False, int8=False, dynamic=False, simplify=False, opset=None, workspace=4, nms=False, lr0=0.01, lrf=0.01, momentum=0.937, weight_decay=0.0005, warmup_epochs=3.0, warmup_momentum=0.8, warmup_bias_lr=0.1, box=7.5, cls=0.5, dfl=1.5, pose=12.0, kobj=1.0, label_smoothing=0.0, nbs=64, hsv_h=0.015, hsv_s=0.7, hsv_v=0.4, degrees=0.0, translate=0.1, scale=0.5, shear=0.0, perspective=0.0, flipud=0.0, fliplr=0.5, bgr=0.0, mosaic=1.0, mixup=0.0, copy_paste=0.0, auto_augment=randaugment, erasing=0.4, crop_fraction=1.0, cfg=None, tracker=botsort.yaml, save_dir=D:\\Code\\CBCT_Reconstruction_ICP\\runs\\detect\\train23\n",
      "Overriding model.yaml nc=80 with nc=2\n",
      "\n",
      "                   from  n    params  module                                       arguments                     \n",
      "  0                  -1  1       464  ultralytics.nn.modules.conv.Conv             [3, 16, 3, 2]                 \n",
      "  1                  -1  1      4672  ultralytics.nn.modules.conv.Conv             [16, 32, 3, 2]                \n",
      "  2                  -1  1      7360  ultralytics.nn.modules.block.C2f             [32, 32, 1, True]             \n",
      "  3                  -1  1     18560  ultralytics.nn.modules.conv.Conv             [32, 64, 3, 2]                \n",
      "  4                  -1  2     49664  ultralytics.nn.modules.block.C2f             [64, 64, 2, True]             \n",
      "  5                  -1  1      9856  ultralytics.nn.modules.block.SCDown          [64, 128, 3, 2]               \n",
      "  6                  -1  2    197632  ultralytics.nn.modules.block.C2f             [128, 128, 2, True]           \n",
      "  7                  -1  1     36096  ultralytics.nn.modules.block.SCDown          [128, 256, 3, 2]              \n",
      "  8                  -1  1    460288  ultralytics.nn.modules.block.C2f             [256, 256, 1, True]           \n",
      "  9                  -1  1    164608  ultralytics.nn.modules.block.SPPF            [256, 256, 5]                 \n",
      " 10                  -1  1    249728  ultralytics.nn.modules.block.PSA             [256, 256]                    \n",
      " 11                  -1  1         0  torch.nn.modules.upsampling.Upsample         [None, 2, 'nearest']          \n",
      " 12             [-1, 6]  1         0  ultralytics.nn.modules.conv.Concat           [1]                           \n",
      " 13                  -1  1    148224  ultralytics.nn.modules.block.C2f             [384, 128, 1]                 \n",
      " 14                  -1  1         0  torch.nn.modules.upsampling.Upsample         [None, 2, 'nearest']          \n",
      " 15             [-1, 4]  1         0  ultralytics.nn.modules.conv.Concat           [1]                           \n",
      " 16                  -1  1     37248  ultralytics.nn.modules.block.C2f             [192, 64, 1]                  \n",
      " 17                  -1  1     36992  ultralytics.nn.modules.conv.Conv             [64, 64, 3, 2]                \n",
      " 18            [-1, 13]  1         0  ultralytics.nn.modules.conv.Concat           [1]                           \n",
      " 19                  -1  1    123648  ultralytics.nn.modules.block.C2f             [192, 128, 1]                 \n",
      " 20                  -1  1     18048  ultralytics.nn.modules.block.SCDown          [128, 128, 3, 2]              \n",
      " 21            [-1, 10]  1         0  ultralytics.nn.modules.conv.Concat           [1]                           \n",
      " 22                  -1  1    282624  ultralytics.nn.modules.block.C2fCIB          [384, 256, 1, True, True]     \n",
      " 23        [16, 19, 22]  1    862108  ultralytics.nn.modules.head.v10Detect        [2, [64, 128, 256]]           \n",
      "YOLOv10n summary: 385 layers, 2707820 parameters, 2707804 gradients, 8.4 GFLOPs\n",
      "\n",
      "Freezing layer 'model.23.dfl.conv.weight'\n",
      "\u001b[34m\u001b[1mAMP: \u001b[0mrunning Automatic Mixed Precision (AMP) checks with YOLOv8n...\n",
      "\u001b[34m\u001b[1mAMP: \u001b[0mchecks passed ✅\n"
     ]
    },
    {
     "name": "stderr",
     "output_type": "stream",
     "text": [
      "\u001b[34m\u001b[1mtrain: \u001b[0mScanning D:\\Code\\CBCT_Reconstruction_ICP\\data\\dataset\\detect_arch\\labels\\train... 183 images, 0 backgrounds, 0 corrupt: 100%|██████████| 183/183 [00:00<00:00, 1878.62it/s]"
     ]
    },
    {
     "name": "stdout",
     "output_type": "stream",
     "text": [
      "\u001b[34m\u001b[1mtrain: \u001b[0mNew cache created: D:\\Code\\CBCT_Reconstruction_ICP\\data\\dataset\\detect_arch\\labels\\train.cache\n"
     ]
    },
    {
     "name": "stderr",
     "output_type": "stream",
     "text": [
      "\n",
      "\u001b[34m\u001b[1mval: \u001b[0mScanning D:\\Code\\CBCT_Reconstruction_ICP\\data\\dataset\\detect_arch\\labels\\val... 46 images, 0 backgrounds, 0 corrupt: 100%|██████████| 46/46 [00:00<00:00, 1152.93it/s]"
     ]
    },
    {
     "name": "stdout",
     "output_type": "stream",
     "text": [
      "\u001b[34m\u001b[1mval: \u001b[0mNew cache created: D:\\Code\\CBCT_Reconstruction_ICP\\data\\dataset\\detect_arch\\labels\\val.cache\n"
     ]
    },
    {
     "name": "stderr",
     "output_type": "stream",
     "text": [
      "\n"
     ]
    },
    {
     "name": "stdout",
     "output_type": "stream",
     "text": [
      "Plotting labels to D:\\Code\\CBCT_Reconstruction_ICP\\runs\\detect\\train23\\labels.jpg... \n",
      "\u001b[34m\u001b[1moptimizer:\u001b[0m 'optimizer=auto' found, ignoring 'lr0=0.01' and 'momentum=0.937' and determining best 'optimizer', 'lr0' and 'momentum' automatically... \n",
      "\u001b[34m\u001b[1moptimizer:\u001b[0m AdamW(lr=0.001667, momentum=0.9) with parameter groups 95 weight(decay=0.0), 108 weight(decay=0.0005), 107 bias(decay=0.0)\n",
      "Image sizes 640 train, 640 val\n",
      "Using 8 dataloader workers\n",
      "Logging results to \u001b[1mD:\\Code\\CBCT_Reconstruction_ICP\\runs\\detect\\train23\u001b[0m\n",
      "Starting training for 200 epochs...\n",
      "\n",
      "      Epoch    GPU_mem     box_om     cls_om     dfl_om     box_oo     cls_oo     dfl_oo  Instances       Size\n"
     ]
    },
    {
     "name": "stderr",
     "output_type": "stream",
     "text": [
      "      1/200       3.2G      3.045      4.668      4.365      2.798      11.65      4.482         12        640: 100%|██████████| 12/12 [00:04<00:00,  2.89it/s]\n",
      "                 Class     Images  Instances      Box(P          R      mAP50  mAP50-95): 100%|██████████| 2/2 [00:00<00:00,  4.25it/s]"
     ]
    },
    {
     "name": "stdout",
     "output_type": "stream",
     "text": [
      "                   all         46         46   7.25e-05       0.05   5.57e-05   5.57e-06\n"
     ]
    },
    {
     "name": "stderr",
     "output_type": "stream",
     "text": [
      "\n"
     ]
    },
    {
     "name": "stdout",
     "output_type": "stream",
     "text": [
      "\n",
      "      Epoch    GPU_mem     box_om     cls_om     dfl_om     box_oo     cls_oo     dfl_oo  Instances       Size\n"
     ]
    },
    {
     "name": "stderr",
     "output_type": "stream",
     "text": [
      "      2/200       3.2G      2.864      4.474      4.246      2.615      10.65      4.413         13        640: 100%|██████████| 12/12 [00:01<00:00,  8.71it/s]\n",
      "                 Class     Images  Instances      Box(P          R      mAP50  mAP50-95): 100%|██████████| 2/2 [00:00<00:00,  8.48it/s]"
     ]
    },
    {
     "name": "stdout",
     "output_type": "stream",
     "text": [
      "                   all         46         46   7.25e-05       0.05   5.57e-05   5.57e-06\n"
     ]
    },
    {
     "name": "stderr",
     "output_type": "stream",
     "text": [
      "\n"
     ]
    },
    {
     "name": "stdout",
     "output_type": "stream",
     "text": [
      "\n",
      "      Epoch    GPU_mem     box_om     cls_om     dfl_om     box_oo     cls_oo     dfl_oo  Instances       Size\n"
     ]
    },
    {
     "name": "stderr",
     "output_type": "stream",
     "text": [
      "      3/200       3.2G      2.881      4.391      4.059      2.567      10.38      4.211          9        640: 100%|██████████| 12/12 [00:01<00:00,  8.90it/s]\n",
      "                 Class     Images  Instances      Box(P          R      mAP50  mAP50-95): 100%|██████████| 2/2 [00:00<00:00,  8.64it/s]"
     ]
    },
    {
     "name": "stdout",
     "output_type": "stream",
     "text": [
      "                   all         46         46    0.00029      0.154   0.000395   3.95e-05\n"
     ]
    },
    {
     "name": "stderr",
     "output_type": "stream",
     "text": [
      "\n"
     ]
    },
    {
     "name": "stdout",
     "output_type": "stream",
     "text": [
      "\n",
      "      Epoch    GPU_mem     box_om     cls_om     dfl_om     box_oo     cls_oo     dfl_oo  Instances       Size\n"
     ]
    },
    {
     "name": "stderr",
     "output_type": "stream",
     "text": [
      "      4/200       3.2G       2.65      4.205       3.76      2.257      9.827      3.877         13        640: 100%|██████████| 12/12 [00:01<00:00,  9.31it/s]\n",
      "                 Class     Images  Instances      Box(P          R      mAP50  mAP50-95): 100%|██████████| 2/2 [00:00<00:00,  7.91it/s]"
     ]
    },
    {
     "name": "stdout",
     "output_type": "stream",
     "text": [
      "                   all         46         46    0.00029      0.154   0.000225   2.91e-05\n"
     ]
    },
    {
     "name": "stderr",
     "output_type": "stream",
     "text": [
      "\n"
     ]
    },
    {
     "name": "stdout",
     "output_type": "stream",
     "text": [
      "\n",
      "      Epoch    GPU_mem     box_om     cls_om     dfl_om     box_oo     cls_oo     dfl_oo  Instances       Size\n"
     ]
    },
    {
     "name": "stderr",
     "output_type": "stream",
     "text": [
      "      5/200      3.21G      2.563      3.893      3.497       2.26       8.78      3.581         15        640: 100%|██████████| 12/12 [00:01<00:00,  8.68it/s]\n",
      "                 Class     Images  Instances      Box(P          R      mAP50  mAP50-95): 100%|██████████| 2/2 [00:00<00:00,  8.40it/s]"
     ]
    },
    {
     "name": "stdout",
     "output_type": "stream",
     "text": [
      "                   all         46         46    0.00029      0.154   0.000225   2.91e-05\n"
     ]
    },
    {
     "name": "stderr",
     "output_type": "stream",
     "text": [
      "\n"
     ]
    },
    {
     "name": "stdout",
     "output_type": "stream",
     "text": [
      "\n",
      "      Epoch    GPU_mem     box_om     cls_om     dfl_om     box_oo     cls_oo     dfl_oo  Instances       Size\n"
     ]
    },
    {
     "name": "stderr",
     "output_type": "stream",
     "text": [
      "      6/200      3.21G      2.242      3.562       3.22      1.924      7.607       3.24         17        640: 100%|██████████| 12/12 [00:01<00:00,  9.14it/s]\n",
      "                 Class     Images  Instances      Box(P          R      mAP50  mAP50-95): 100%|██████████| 2/2 [00:00<00:00,  8.59it/s]"
     ]
    },
    {
     "name": "stdout",
     "output_type": "stream",
     "text": [
      "                   all         46         46    0.00032      0.135   0.000246   2.46e-05\n"
     ]
    },
    {
     "name": "stderr",
     "output_type": "stream",
     "text": [
      "\n"
     ]
    },
    {
     "name": "stdout",
     "output_type": "stream",
     "text": [
      "\n",
      "      Epoch    GPU_mem     box_om     cls_om     dfl_om     box_oo     cls_oo     dfl_oo  Instances       Size\n"
     ]
    },
    {
     "name": "stderr",
     "output_type": "stream",
     "text": [
      "      7/200       3.2G       2.16      3.522      2.996      1.858      7.695      3.052         10        640: 100%|██████████| 12/12 [00:01<00:00,  9.14it/s]\n",
      "                 Class     Images  Instances      Box(P          R      mAP50  mAP50-95): 100%|██████████| 2/2 [00:00<00:00,  7.97it/s]"
     ]
    },
    {
     "name": "stdout",
     "output_type": "stream",
     "text": [
      "                   all         46         46   0.000346      0.135   0.000372   3.72e-05\n"
     ]
    },
    {
     "name": "stderr",
     "output_type": "stream",
     "text": [
      "\n"
     ]
    },
    {
     "name": "stdout",
     "output_type": "stream",
     "text": [
      "\n",
      "      Epoch    GPU_mem     box_om     cls_om     dfl_om     box_oo     cls_oo     dfl_oo  Instances       Size\n"
     ]
    },
    {
     "name": "stderr",
     "output_type": "stream",
     "text": [
      "      8/200      3.21G      2.069      3.255       2.89      1.748      6.846      2.866         17        640: 100%|██████████| 12/12 [00:01<00:00,  8.74it/s]\n",
      "                 Class     Images  Instances      Box(P          R      mAP50  mAP50-95): 100%|██████████| 2/2 [00:00<00:00,  8.26it/s]"
     ]
    },
    {
     "name": "stdout",
     "output_type": "stream",
     "text": [
      "                   all         46         46   0.000753       0.21   0.000915   9.15e-05\n"
     ]
    },
    {
     "name": "stderr",
     "output_type": "stream",
     "text": [
      "\n"
     ]
    },
    {
     "name": "stdout",
     "output_type": "stream",
     "text": [
      "\n",
      "      Epoch    GPU_mem     box_om     cls_om     dfl_om     box_oo     cls_oo     dfl_oo  Instances       Size\n"
     ]
    },
    {
     "name": "stderr",
     "output_type": "stream",
     "text": [
      "      9/200      3.21G      2.071      3.141      2.799      1.752      6.179      2.722         20        640: 100%|██████████| 12/12 [00:01<00:00,  9.71it/s]\n",
      "                 Class     Images  Instances      Box(P          R      mAP50  mAP50-95): 100%|██████████| 2/2 [00:00<00:00,  7.30it/s]"
     ]
    },
    {
     "name": "stdout",
     "output_type": "stream",
     "text": [
      "                   all         46         46   0.000441      0.231     0.0154    0.00429\n"
     ]
    },
    {
     "name": "stderr",
     "output_type": "stream",
     "text": [
      "\n"
     ]
    },
    {
     "name": "stdout",
     "output_type": "stream",
     "text": [
      "\n",
      "      Epoch    GPU_mem     box_om     cls_om     dfl_om     box_oo     cls_oo     dfl_oo  Instances       Size\n"
     ]
    },
    {
     "name": "stderr",
     "output_type": "stream",
     "text": [
      "     10/200      3.21G      1.977      2.947      2.714      1.673      5.737      2.619         18        640: 100%|██████████| 12/12 [00:01<00:00,  9.07it/s]\n",
      "                 Class     Images  Instances      Box(P          R      mAP50  mAP50-95): 100%|██████████| 2/2 [00:00<00:00,  7.57it/s]"
     ]
    },
    {
     "name": "stdout",
     "output_type": "stream",
     "text": [
      "                   all         46         46      0.268      0.115      0.105     0.0567\n"
     ]
    },
    {
     "name": "stderr",
     "output_type": "stream",
     "text": [
      "\n"
     ]
    },
    {
     "name": "stdout",
     "output_type": "stream",
     "text": [
      "\n",
      "      Epoch    GPU_mem     box_om     cls_om     dfl_om     box_oo     cls_oo     dfl_oo  Instances       Size\n"
     ]
    },
    {
     "name": "stderr",
     "output_type": "stream",
     "text": [
      "     11/200      3.21G      1.919      2.828      2.609      1.633      5.303       2.54         16        640: 100%|██████████| 12/12 [00:01<00:00,  9.60it/s]\n",
      "                 Class     Images  Instances      Box(P          R      mAP50  mAP50-95): 100%|██████████| 2/2 [00:00<00:00,  8.39it/s]"
     ]
    },
    {
     "name": "stdout",
     "output_type": "stream",
     "text": [
      "                   all         46         46      0.581      0.164      0.117     0.0585\n"
     ]
    },
    {
     "name": "stderr",
     "output_type": "stream",
     "text": [
      "\n"
     ]
    },
    {
     "name": "stdout",
     "output_type": "stream",
     "text": [
      "\n",
      "      Epoch    GPU_mem     box_om     cls_om     dfl_om     box_oo     cls_oo     dfl_oo  Instances       Size\n"
     ]
    },
    {
     "name": "stderr",
     "output_type": "stream",
     "text": [
      "     12/200      3.21G       1.92       2.73      2.588      1.623      5.093      2.466         11        640: 100%|██████████| 12/12 [00:01<00:00,  9.26it/s]\n",
      "                 Class     Images  Instances      Box(P          R      mAP50  mAP50-95): 100%|██████████| 2/2 [00:00<00:00,  8.42it/s]"
     ]
    },
    {
     "name": "stdout",
     "output_type": "stream",
     "text": [
      "                   all         46         46       0.73      0.245      0.284      0.167\n"
     ]
    },
    {
     "name": "stderr",
     "output_type": "stream",
     "text": [
      "\n"
     ]
    },
    {
     "name": "stdout",
     "output_type": "stream",
     "text": [
      "\n",
      "      Epoch    GPU_mem     box_om     cls_om     dfl_om     box_oo     cls_oo     dfl_oo  Instances       Size\n"
     ]
    },
    {
     "name": "stderr",
     "output_type": "stream",
     "text": [
      "     13/200       3.2G      1.829      2.601      2.433      1.597      4.746      2.407         11        640: 100%|██████████| 12/12 [00:01<00:00,  9.62it/s]\n",
      "                 Class     Images  Instances      Box(P          R      mAP50  mAP50-95): 100%|██████████| 2/2 [00:00<00:00,  7.74it/s]"
     ]
    },
    {
     "name": "stdout",
     "output_type": "stream",
     "text": [
      "                   all         46         46       0.42      0.319      0.369      0.193\n"
     ]
    },
    {
     "name": "stderr",
     "output_type": "stream",
     "text": [
      "\n"
     ]
    },
    {
     "name": "stdout",
     "output_type": "stream",
     "text": [
      "\n",
      "      Epoch    GPU_mem     box_om     cls_om     dfl_om     box_oo     cls_oo     dfl_oo  Instances       Size\n"
     ]
    },
    {
     "name": "stderr",
     "output_type": "stream",
     "text": [
      "     14/200      3.21G      1.788       2.57      2.412      1.503       4.57      2.305         11        640: 100%|██████████| 12/12 [00:01<00:00,  9.29it/s]\n",
      "                 Class     Images  Instances      Box(P          R      mAP50  mAP50-95): 100%|██████████| 2/2 [00:00<00:00,  7.55it/s]"
     ]
    },
    {
     "name": "stdout",
     "output_type": "stream",
     "text": [
      "                   all         46         46      0.909      0.308      0.623      0.241\n"
     ]
    },
    {
     "name": "stderr",
     "output_type": "stream",
     "text": [
      "\n"
     ]
    },
    {
     "name": "stdout",
     "output_type": "stream",
     "text": [
      "\n",
      "      Epoch    GPU_mem     box_om     cls_om     dfl_om     box_oo     cls_oo     dfl_oo  Instances       Size\n"
     ]
    },
    {
     "name": "stderr",
     "output_type": "stream",
     "text": [
      "     15/200      3.21G      1.779      2.484       2.36      1.492      4.278      2.238         14        640: 100%|██████████| 12/12 [00:01<00:00,  8.00it/s]\n",
      "                 Class     Images  Instances      Box(P          R      mAP50  mAP50-95): 100%|██████████| 2/2 [00:00<00:00,  7.66it/s]"
     ]
    },
    {
     "name": "stdout",
     "output_type": "stream",
     "text": [
      "                   all         46         46      0.713      0.325      0.538      0.306\n"
     ]
    },
    {
     "name": "stderr",
     "output_type": "stream",
     "text": [
      "\n"
     ]
    },
    {
     "name": "stdout",
     "output_type": "stream",
     "text": [
      "\n",
      "      Epoch    GPU_mem     box_om     cls_om     dfl_om     box_oo     cls_oo     dfl_oo  Instances       Size\n"
     ]
    },
    {
     "name": "stderr",
     "output_type": "stream",
     "text": [
      "     16/200      3.21G      1.671      2.301      2.282      1.421       3.98      2.193         13        640: 100%|██████████| 12/12 [00:01<00:00,  9.08it/s]\n",
      "                 Class     Images  Instances      Box(P          R      mAP50  mAP50-95): 100%|██████████| 2/2 [00:00<00:00,  8.07it/s]"
     ]
    },
    {
     "name": "stdout",
     "output_type": "stream",
     "text": [
      "                   all         46         46      0.411      0.431       0.35      0.197\n"
     ]
    },
    {
     "name": "stderr",
     "output_type": "stream",
     "text": [
      "\n"
     ]
    },
    {
     "name": "stdout",
     "output_type": "stream",
     "text": [
      "\n",
      "      Epoch    GPU_mem     box_om     cls_om     dfl_om     box_oo     cls_oo     dfl_oo  Instances       Size\n"
     ]
    },
    {
     "name": "stderr",
     "output_type": "stream",
     "text": [
      "     17/200      3.21G      1.666      2.287      2.251      1.447      3.682      2.159         15        640: 100%|██████████| 12/12 [00:01<00:00,  9.87it/s]\n",
      "                 Class     Images  Instances      Box(P          R      mAP50  mAP50-95): 100%|██████████| 2/2 [00:00<00:00,  8.10it/s]"
     ]
    },
    {
     "name": "stdout",
     "output_type": "stream",
     "text": [
      "                   all         46         46      0.535      0.432      0.417      0.233\n"
     ]
    },
    {
     "name": "stderr",
     "output_type": "stream",
     "text": [
      "\n"
     ]
    },
    {
     "name": "stdout",
     "output_type": "stream",
     "text": [
      "\n",
      "      Epoch    GPU_mem     box_om     cls_om     dfl_om     box_oo     cls_oo     dfl_oo  Instances       Size\n"
     ]
    },
    {
     "name": "stderr",
     "output_type": "stream",
     "text": [
      "     18/200      3.21G      1.676      2.215      2.242      1.409      3.535       2.12         12        640: 100%|██████████| 12/12 [00:01<00:00,  9.85it/s]\n",
      "                 Class     Images  Instances      Box(P          R      mAP50  mAP50-95): 100%|██████████| 2/2 [00:00<00:00,  7.80it/s]"
     ]
    },
    {
     "name": "stdout",
     "output_type": "stream",
     "text": [
      "                   all         46         46      0.758      0.288      0.477      0.319\n"
     ]
    },
    {
     "name": "stderr",
     "output_type": "stream",
     "text": [
      "\n"
     ]
    },
    {
     "name": "stdout",
     "output_type": "stream",
     "text": [
      "\n",
      "      Epoch    GPU_mem     box_om     cls_om     dfl_om     box_oo     cls_oo     dfl_oo  Instances       Size\n"
     ]
    },
    {
     "name": "stderr",
     "output_type": "stream",
     "text": [
      "     19/200      3.21G      1.711      2.232      2.278      1.444      3.574      2.169         14        640: 100%|██████████| 12/12 [00:01<00:00,  9.22it/s]\n",
      "                 Class     Images  Instances      Box(P          R      mAP50  mAP50-95): 100%|██████████| 2/2 [00:00<00:00,  7.88it/s]"
     ]
    },
    {
     "name": "stdout",
     "output_type": "stream",
     "text": [
      "                   all         46         46      0.371      0.572      0.533      0.373\n"
     ]
    },
    {
     "name": "stderr",
     "output_type": "stream",
     "text": [
      "\n"
     ]
    },
    {
     "name": "stdout",
     "output_type": "stream",
     "text": [
      "\n",
      "      Epoch    GPU_mem     box_om     cls_om     dfl_om     box_oo     cls_oo     dfl_oo  Instances       Size\n"
     ]
    },
    {
     "name": "stderr",
     "output_type": "stream",
     "text": [
      "     20/200      3.21G      1.629      2.055      2.184      1.411      3.203      2.078         13        640: 100%|██████████| 12/12 [00:01<00:00,  9.08it/s]\n",
      "                 Class     Images  Instances      Box(P          R      mAP50  mAP50-95): 100%|██████████| 2/2 [00:00<00:00,  8.28it/s]"
     ]
    },
    {
     "name": "stdout",
     "output_type": "stream",
     "text": [
      "                   all         46         46      0.432      0.417      0.372      0.225\n"
     ]
    },
    {
     "name": "stderr",
     "output_type": "stream",
     "text": [
      "\n"
     ]
    },
    {
     "name": "stdout",
     "output_type": "stream",
     "text": [
      "\n",
      "      Epoch    GPU_mem     box_om     cls_om     dfl_om     box_oo     cls_oo     dfl_oo  Instances       Size\n"
     ]
    },
    {
     "name": "stderr",
     "output_type": "stream",
     "text": [
      "     21/200      3.21G      1.596      2.008      2.173       1.37      3.081      2.042         12        640: 100%|██████████| 12/12 [00:01<00:00,  9.18it/s]\n",
      "                 Class     Images  Instances      Box(P          R      mAP50  mAP50-95): 100%|██████████| 2/2 [00:00<00:00,  7.71it/s]"
     ]
    },
    {
     "name": "stdout",
     "output_type": "stream",
     "text": [
      "                   all         46         46      0.385      0.165      0.175     0.0812\n"
     ]
    },
    {
     "name": "stderr",
     "output_type": "stream",
     "text": [
      "\n"
     ]
    },
    {
     "name": "stdout",
     "output_type": "stream",
     "text": [
      "\n",
      "      Epoch    GPU_mem     box_om     cls_om     dfl_om     box_oo     cls_oo     dfl_oo  Instances       Size\n"
     ]
    },
    {
     "name": "stderr",
     "output_type": "stream",
     "text": [
      "     22/200      3.21G      1.543      1.965      2.127      1.368      3.013      2.016         14        640: 100%|██████████| 12/12 [00:01<00:00,  9.05it/s]\n",
      "                 Class     Images  Instances      Box(P          R      mAP50  mAP50-95): 100%|██████████| 2/2 [00:00<00:00,  8.11it/s]"
     ]
    },
    {
     "name": "stdout",
     "output_type": "stream",
     "text": [
      "                   all         46         46      0.564       0.67      0.608      0.455\n"
     ]
    },
    {
     "name": "stderr",
     "output_type": "stream",
     "text": [
      "\n"
     ]
    },
    {
     "name": "stdout",
     "output_type": "stream",
     "text": [
      "\n",
      "      Epoch    GPU_mem     box_om     cls_om     dfl_om     box_oo     cls_oo     dfl_oo  Instances       Size\n"
     ]
    },
    {
     "name": "stderr",
     "output_type": "stream",
     "text": [
      "     23/200      3.21G      1.534      1.845      2.112      1.412      2.822      2.043         14        640: 100%|██████████| 12/12 [00:01<00:00,  9.45it/s]\n",
      "                 Class     Images  Instances      Box(P          R      mAP50  mAP50-95): 100%|██████████| 2/2 [00:00<00:00,  8.78it/s]"
     ]
    },
    {
     "name": "stdout",
     "output_type": "stream",
     "text": [
      "                   all         46         46      0.449      0.687      0.569      0.365\n"
     ]
    },
    {
     "name": "stderr",
     "output_type": "stream",
     "text": [
      "\n"
     ]
    },
    {
     "name": "stdout",
     "output_type": "stream",
     "text": [
      "\n",
      "      Epoch    GPU_mem     box_om     cls_om     dfl_om     box_oo     cls_oo     dfl_oo  Instances       Size\n"
     ]
    },
    {
     "name": "stderr",
     "output_type": "stream",
     "text": [
      "     24/200      3.21G      1.528      1.798      2.122      1.354      2.693      1.997         13        640: 100%|██████████| 12/12 [00:01<00:00,  9.15it/s]\n",
      "                 Class     Images  Instances      Box(P          R      mAP50  mAP50-95): 100%|██████████| 2/2 [00:00<00:00,  8.89it/s]"
     ]
    },
    {
     "name": "stdout",
     "output_type": "stream",
     "text": [
      "                   all         46         46      0.486      0.345      0.559      0.366\n"
     ]
    },
    {
     "name": "stderr",
     "output_type": "stream",
     "text": [
      "\n"
     ]
    },
    {
     "name": "stdout",
     "output_type": "stream",
     "text": [
      "\n",
      "      Epoch    GPU_mem     box_om     cls_om     dfl_om     box_oo     cls_oo     dfl_oo  Instances       Size\n"
     ]
    },
    {
     "name": "stderr",
     "output_type": "stream",
     "text": [
      "     25/200      3.21G      1.591      1.753      2.141      1.434      2.627      2.054         13        640: 100%|██████████| 12/12 [00:01<00:00,  9.19it/s]\n",
      "                 Class     Images  Instances      Box(P          R      mAP50  mAP50-95): 100%|██████████| 2/2 [00:00<00:00,  8.19it/s]"
     ]
    },
    {
     "name": "stdout",
     "output_type": "stream",
     "text": [
      "                   all         46         46      0.624      0.389      0.555      0.334\n"
     ]
    },
    {
     "name": "stderr",
     "output_type": "stream",
     "text": [
      "\n"
     ]
    },
    {
     "name": "stdout",
     "output_type": "stream",
     "text": [
      "\n",
      "      Epoch    GPU_mem     box_om     cls_om     dfl_om     box_oo     cls_oo     dfl_oo  Instances       Size\n"
     ]
    },
    {
     "name": "stderr",
     "output_type": "stream",
     "text": [
      "     26/200      3.21G      1.502      1.671      2.026      1.338      2.462      2.004         15        640: 100%|██████████| 12/12 [00:01<00:00,  9.57it/s]\n",
      "                 Class     Images  Instances      Box(P          R      mAP50  mAP50-95): 100%|██████████| 2/2 [00:00<00:00,  8.08it/s]"
     ]
    },
    {
     "name": "stdout",
     "output_type": "stream",
     "text": [
      "                   all         46         46       0.69       0.49       0.63      0.392\n"
     ]
    },
    {
     "name": "stderr",
     "output_type": "stream",
     "text": [
      "\n"
     ]
    },
    {
     "name": "stdout",
     "output_type": "stream",
     "text": [
      "\n",
      "      Epoch    GPU_mem     box_om     cls_om     dfl_om     box_oo     cls_oo     dfl_oo  Instances       Size\n"
     ]
    },
    {
     "name": "stderr",
     "output_type": "stream",
     "text": [
      "     27/200      3.21G      1.487       1.68      2.038      1.406      2.431      1.997         12        640: 100%|██████████| 12/12 [00:01<00:00,  9.24it/s]\n",
      "                 Class     Images  Instances      Box(P          R      mAP50  mAP50-95): 100%|██████████| 2/2 [00:00<00:00,  8.46it/s]"
     ]
    },
    {
     "name": "stdout",
     "output_type": "stream",
     "text": [
      "                   all         46         46      0.761      0.502       0.68       0.41\n"
     ]
    },
    {
     "name": "stderr",
     "output_type": "stream",
     "text": [
      "\n"
     ]
    },
    {
     "name": "stdout",
     "output_type": "stream",
     "text": [
      "\n",
      "      Epoch    GPU_mem     box_om     cls_om     dfl_om     box_oo     cls_oo     dfl_oo  Instances       Size\n"
     ]
    },
    {
     "name": "stderr",
     "output_type": "stream",
     "text": [
      "     28/200      3.21G      1.483      1.671      2.126      1.293      2.471      1.969         11        640: 100%|██████████| 12/12 [00:01<00:00,  8.69it/s]\n",
      "                 Class     Images  Instances      Box(P          R      mAP50  mAP50-95): 100%|██████████| 2/2 [00:00<00:00,  7.89it/s]"
     ]
    },
    {
     "name": "stdout",
     "output_type": "stream",
     "text": [
      "                   all         46         46      0.452      0.517      0.553       0.37\n"
     ]
    },
    {
     "name": "stderr",
     "output_type": "stream",
     "text": [
      "\n"
     ]
    },
    {
     "name": "stdout",
     "output_type": "stream",
     "text": [
      "\n",
      "      Epoch    GPU_mem     box_om     cls_om     dfl_om     box_oo     cls_oo     dfl_oo  Instances       Size\n"
     ]
    },
    {
     "name": "stderr",
     "output_type": "stream",
     "text": [
      "     29/200      3.21G      1.499      1.678      2.029      1.421      2.454      1.966         15        640: 100%|██████████| 12/12 [00:01<00:00,  9.41it/s]\n",
      "                 Class     Images  Instances      Box(P          R      mAP50  mAP50-95): 100%|██████████| 2/2 [00:00<00:00,  8.39it/s]"
     ]
    },
    {
     "name": "stdout",
     "output_type": "stream",
     "text": [
      "                   all         46         46      0.614      0.661      0.629      0.465\n"
     ]
    },
    {
     "name": "stderr",
     "output_type": "stream",
     "text": [
      "\n"
     ]
    },
    {
     "name": "stdout",
     "output_type": "stream",
     "text": [
      "\n",
      "      Epoch    GPU_mem     box_om     cls_om     dfl_om     box_oo     cls_oo     dfl_oo  Instances       Size\n"
     ]
    },
    {
     "name": "stderr",
     "output_type": "stream",
     "text": [
      "     30/200      3.21G      1.374      1.529      1.976       1.28      2.187      1.888         18        640: 100%|██████████| 12/12 [00:01<00:00,  9.43it/s]\n",
      "                 Class     Images  Instances      Box(P          R      mAP50  mAP50-95): 100%|██████████| 2/2 [00:00<00:00,  7.56it/s]"
     ]
    },
    {
     "name": "stdout",
     "output_type": "stream",
     "text": [
      "                   all         46         46      0.575      0.764      0.715      0.511\n"
     ]
    },
    {
     "name": "stderr",
     "output_type": "stream",
     "text": [
      "\n"
     ]
    },
    {
     "name": "stdout",
     "output_type": "stream",
     "text": [
      "\n",
      "      Epoch    GPU_mem     box_om     cls_om     dfl_om     box_oo     cls_oo     dfl_oo  Instances       Size\n"
     ]
    },
    {
     "name": "stderr",
     "output_type": "stream",
     "text": [
      "     31/200      3.21G      1.393      1.544      1.969      1.287      2.222       1.88         12        640: 100%|██████████| 12/12 [00:01<00:00,  9.26it/s]\n",
      "                 Class     Images  Instances      Box(P          R      mAP50  mAP50-95): 100%|██████████| 2/2 [00:00<00:00,  7.92it/s]"
     ]
    },
    {
     "name": "stdout",
     "output_type": "stream",
     "text": [
      "                   all         46         46      0.551      0.745      0.687      0.484\n"
     ]
    },
    {
     "name": "stderr",
     "output_type": "stream",
     "text": [
      "\n"
     ]
    },
    {
     "name": "stdout",
     "output_type": "stream",
     "text": [
      "\n",
      "      Epoch    GPU_mem     box_om     cls_om     dfl_om     box_oo     cls_oo     dfl_oo  Instances       Size\n"
     ]
    },
    {
     "name": "stderr",
     "output_type": "stream",
     "text": [
      "     32/200      3.21G      1.258      1.379      1.843      1.202      2.013      1.786         16        640: 100%|██████████| 12/12 [00:01<00:00,  9.47it/s]\n",
      "                 Class     Images  Instances      Box(P          R      mAP50  mAP50-95): 100%|██████████| 2/2 [00:00<00:00,  8.48it/s]"
     ]
    },
    {
     "name": "stdout",
     "output_type": "stream",
     "text": [
      "                   all         46         46      0.525      0.659      0.655      0.476\n"
     ]
    },
    {
     "name": "stderr",
     "output_type": "stream",
     "text": [
      "\n"
     ]
    },
    {
     "name": "stdout",
     "output_type": "stream",
     "text": [
      "\n",
      "      Epoch    GPU_mem     box_om     cls_om     dfl_om     box_oo     cls_oo     dfl_oo  Instances       Size\n"
     ]
    },
    {
     "name": "stderr",
     "output_type": "stream",
     "text": [
      "     33/200      3.21G      1.319       1.44       1.92      1.222      2.095      1.838         13        640: 100%|██████████| 12/12 [00:01<00:00,  8.95it/s]\n",
      "                 Class     Images  Instances      Box(P          R      mAP50  mAP50-95): 100%|██████████| 2/2 [00:00<00:00,  8.01it/s]"
     ]
    },
    {
     "name": "stdout",
     "output_type": "stream",
     "text": [
      "                   all         46         46      0.672      0.602      0.657      0.478\n"
     ]
    },
    {
     "name": "stderr",
     "output_type": "stream",
     "text": [
      "\n"
     ]
    },
    {
     "name": "stdout",
     "output_type": "stream",
     "text": [
      "\n",
      "      Epoch    GPU_mem     box_om     cls_om     dfl_om     box_oo     cls_oo     dfl_oo  Instances       Size\n"
     ]
    },
    {
     "name": "stderr",
     "output_type": "stream",
     "text": [
      "     34/200      3.21G      1.282      1.398      1.867      1.238      1.972      1.803         12        640: 100%|██████████| 12/12 [00:01<00:00,  9.39it/s]\n",
      "                 Class     Images  Instances      Box(P          R      mAP50  mAP50-95): 100%|██████████| 2/2 [00:00<00:00,  8.28it/s]"
     ]
    },
    {
     "name": "stdout",
     "output_type": "stream",
     "text": [
      "                   all         46         46      0.685      0.609      0.732      0.534\n"
     ]
    },
    {
     "name": "stderr",
     "output_type": "stream",
     "text": [
      "\n"
     ]
    },
    {
     "name": "stdout",
     "output_type": "stream",
     "text": [
      "\n",
      "      Epoch    GPU_mem     box_om     cls_om     dfl_om     box_oo     cls_oo     dfl_oo  Instances       Size\n"
     ]
    },
    {
     "name": "stderr",
     "output_type": "stream",
     "text": [
      "     35/200      3.21G      1.238      1.302      1.789      1.255      1.868      1.791         11        640: 100%|██████████| 12/12 [00:01<00:00,  9.32it/s]\n",
      "                 Class     Images  Instances      Box(P          R      mAP50  mAP50-95): 100%|██████████| 2/2 [00:00<00:00,  8.28it/s]"
     ]
    },
    {
     "name": "stdout",
     "output_type": "stream",
     "text": [
      "                   all         46         46      0.665      0.606      0.719      0.542\n"
     ]
    },
    {
     "name": "stderr",
     "output_type": "stream",
     "text": [
      "\n"
     ]
    },
    {
     "name": "stdout",
     "output_type": "stream",
     "text": [
      "\n",
      "      Epoch    GPU_mem     box_om     cls_om     dfl_om     box_oo     cls_oo     dfl_oo  Instances       Size\n"
     ]
    },
    {
     "name": "stderr",
     "output_type": "stream",
     "text": [
      "     36/200      3.21G      1.257      1.356      1.839      1.219      1.996      1.828         12        640: 100%|██████████| 12/12 [00:01<00:00,  9.43it/s]\n",
      "                 Class     Images  Instances      Box(P          R      mAP50  mAP50-95): 100%|██████████| 2/2 [00:00<00:00,  8.40it/s]"
     ]
    },
    {
     "name": "stdout",
     "output_type": "stream",
     "text": [
      "                   all         46         46      0.556      0.609      0.628      0.467\n"
     ]
    },
    {
     "name": "stderr",
     "output_type": "stream",
     "text": [
      "\n"
     ]
    },
    {
     "name": "stdout",
     "output_type": "stream",
     "text": [
      "\n",
      "      Epoch    GPU_mem     box_om     cls_om     dfl_om     box_oo     cls_oo     dfl_oo  Instances       Size\n"
     ]
    },
    {
     "name": "stderr",
     "output_type": "stream",
     "text": [
      "     37/200      3.21G      1.229      1.301      1.788      1.178      1.784      1.739         13        640: 100%|██████████| 12/12 [00:01<00:00,  8.98it/s]\n",
      "                 Class     Images  Instances      Box(P          R      mAP50  mAP50-95): 100%|██████████| 2/2 [00:00<00:00,  8.45it/s]"
     ]
    },
    {
     "name": "stdout",
     "output_type": "stream",
     "text": [
      "                   all         46         46       0.69      0.737      0.785      0.542\n"
     ]
    },
    {
     "name": "stderr",
     "output_type": "stream",
     "text": [
      "\n"
     ]
    },
    {
     "name": "stdout",
     "output_type": "stream",
     "text": [
      "\n",
      "      Epoch    GPU_mem     box_om     cls_om     dfl_om     box_oo     cls_oo     dfl_oo  Instances       Size\n"
     ]
    },
    {
     "name": "stderr",
     "output_type": "stream",
     "text": [
      "     38/200      3.21G      1.312      1.347      1.868      1.214       1.95      1.807         18        640: 100%|██████████| 12/12 [00:01<00:00,  8.81it/s]\n",
      "                 Class     Images  Instances      Box(P          R      mAP50  mAP50-95): 100%|██████████| 2/2 [00:00<00:00,  8.39it/s]"
     ]
    },
    {
     "name": "stdout",
     "output_type": "stream",
     "text": [
      "                   all         46         46       0.57      0.733      0.736       0.59\n"
     ]
    },
    {
     "name": "stderr",
     "output_type": "stream",
     "text": [
      "\n"
     ]
    },
    {
     "name": "stdout",
     "output_type": "stream",
     "text": [
      "\n",
      "      Epoch    GPU_mem     box_om     cls_om     dfl_om     box_oo     cls_oo     dfl_oo  Instances       Size\n"
     ]
    },
    {
     "name": "stderr",
     "output_type": "stream",
     "text": [
      "     39/200       3.2G      1.227      1.268      1.848       1.17      1.741      1.772         11        640: 100%|██████████| 12/12 [00:01<00:00,  9.05it/s]\n",
      "                 Class     Images  Instances      Box(P          R      mAP50  mAP50-95): 100%|██████████| 2/2 [00:00<00:00,  6.83it/s]"
     ]
    },
    {
     "name": "stdout",
     "output_type": "stream",
     "text": [
      "                   all         46         46      0.602      0.437      0.581      0.414\n"
     ]
    },
    {
     "name": "stderr",
     "output_type": "stream",
     "text": [
      "\n"
     ]
    },
    {
     "name": "stdout",
     "output_type": "stream",
     "text": [
      "\n",
      "      Epoch    GPU_mem     box_om     cls_om     dfl_om     box_oo     cls_oo     dfl_oo  Instances       Size\n"
     ]
    },
    {
     "name": "stderr",
     "output_type": "stream",
     "text": [
      "     40/200      3.21G      1.267      1.224      1.824      1.251       1.73      1.784         14        640: 100%|██████████| 12/12 [00:01<00:00,  7.22it/s]\n",
      "                 Class     Images  Instances      Box(P          R      mAP50  mAP50-95): 100%|██████████| 2/2 [00:00<00:00,  5.93it/s]"
     ]
    },
    {
     "name": "stdout",
     "output_type": "stream",
     "text": [
      "                   all         46         46      0.554      0.702      0.686      0.473\n"
     ]
    },
    {
     "name": "stderr",
     "output_type": "stream",
     "text": [
      "\n"
     ]
    },
    {
     "name": "stdout",
     "output_type": "stream",
     "text": [
      "\n",
      "      Epoch    GPU_mem     box_om     cls_om     dfl_om     box_oo     cls_oo     dfl_oo  Instances       Size\n"
     ]
    },
    {
     "name": "stderr",
     "output_type": "stream",
     "text": [
      "     41/200      3.21G      1.211      1.269      1.775      1.159      1.712      1.727         16        640: 100%|██████████| 12/12 [00:01<00:00,  7.55it/s]\n",
      "                 Class     Images  Instances      Box(P          R      mAP50  mAP50-95): 100%|██████████| 2/2 [00:00<00:00,  7.16it/s]"
     ]
    },
    {
     "name": "stdout",
     "output_type": "stream",
     "text": [
      "                   all         46         46      0.738      0.752      0.805      0.584\n"
     ]
    },
    {
     "name": "stderr",
     "output_type": "stream",
     "text": [
      "\n"
     ]
    },
    {
     "name": "stdout",
     "output_type": "stream",
     "text": [
      "\n",
      "      Epoch    GPU_mem     box_om     cls_om     dfl_om     box_oo     cls_oo     dfl_oo  Instances       Size\n"
     ]
    },
    {
     "name": "stderr",
     "output_type": "stream",
     "text": [
      "     42/200      3.21G      1.183      1.252       1.76      1.196      1.747      1.796         12        640: 100%|██████████| 12/12 [00:01<00:00,  8.40it/s]\n",
      "                 Class     Images  Instances      Box(P          R      mAP50  mAP50-95): 100%|██████████| 2/2 [00:00<00:00,  7.31it/s]"
     ]
    },
    {
     "name": "stdout",
     "output_type": "stream",
     "text": [
      "                   all         46         46      0.707      0.773      0.869      0.671\n"
     ]
    },
    {
     "name": "stderr",
     "output_type": "stream",
     "text": [
      "\n"
     ]
    },
    {
     "name": "stdout",
     "output_type": "stream",
     "text": [
      "\n",
      "      Epoch    GPU_mem     box_om     cls_om     dfl_om     box_oo     cls_oo     dfl_oo  Instances       Size\n"
     ]
    },
    {
     "name": "stderr",
     "output_type": "stream",
     "text": [
      "     43/200      3.21G      1.164      1.209      1.706      1.135      1.686      1.719         12        640: 100%|██████████| 12/12 [00:01<00:00,  7.75it/s]\n",
      "                 Class     Images  Instances      Box(P          R      mAP50  mAP50-95): 100%|██████████| 2/2 [00:00<00:00,  7.61it/s]"
     ]
    },
    {
     "name": "stdout",
     "output_type": "stream",
     "text": [
      "                   all         46         46      0.866      0.644      0.869      0.724\n"
     ]
    },
    {
     "name": "stderr",
     "output_type": "stream",
     "text": [
      "\n"
     ]
    },
    {
     "name": "stdout",
     "output_type": "stream",
     "text": [
      "\n",
      "      Epoch    GPU_mem     box_om     cls_om     dfl_om     box_oo     cls_oo     dfl_oo  Instances       Size\n"
     ]
    },
    {
     "name": "stderr",
     "output_type": "stream",
     "text": [
      "     44/200      3.21G      1.106      1.156      1.693      1.103      1.665      1.691         13        640: 100%|██████████| 12/12 [00:01<00:00,  8.80it/s]\n",
      "                 Class     Images  Instances      Box(P          R      mAP50  mAP50-95): 100%|██████████| 2/2 [00:00<00:00,  7.58it/s]"
     ]
    },
    {
     "name": "stdout",
     "output_type": "stream",
     "text": [
      "                   all         46         46      0.669      0.773      0.805      0.561\n"
     ]
    },
    {
     "name": "stderr",
     "output_type": "stream",
     "text": [
      "\n"
     ]
    },
    {
     "name": "stdout",
     "output_type": "stream",
     "text": [
      "\n",
      "      Epoch    GPU_mem     box_om     cls_om     dfl_om     box_oo     cls_oo     dfl_oo  Instances       Size\n"
     ]
    },
    {
     "name": "stderr",
     "output_type": "stream",
     "text": [
      "     45/200      3.21G      1.097      1.151      1.689      1.112      1.632      1.695          9        640: 100%|██████████| 12/12 [00:01<00:00,  8.73it/s]\n",
      "                 Class     Images  Instances      Box(P          R      mAP50  mAP50-95): 100%|██████████| 2/2 [00:00<00:00,  7.57it/s]"
     ]
    },
    {
     "name": "stdout",
     "output_type": "stream",
     "text": [
      "                   all         46         46      0.801      0.785      0.848       0.69\n"
     ]
    },
    {
     "name": "stderr",
     "output_type": "stream",
     "text": [
      "\n"
     ]
    },
    {
     "name": "stdout",
     "output_type": "stream",
     "text": [
      "\n",
      "      Epoch    GPU_mem     box_om     cls_om     dfl_om     box_oo     cls_oo     dfl_oo  Instances       Size\n"
     ]
    },
    {
     "name": "stderr",
     "output_type": "stream",
     "text": [
      "     46/200      3.21G      1.167       1.17      1.684      1.155      1.657      1.694         12        640: 100%|██████████| 12/12 [00:01<00:00,  8.57it/s]\n",
      "                 Class     Images  Instances      Box(P          R      mAP50  mAP50-95): 100%|██████████| 2/2 [00:00<00:00,  8.13it/s]"
     ]
    },
    {
     "name": "stdout",
     "output_type": "stream",
     "text": [
      "                   all         46         46      0.658      0.759      0.794      0.589\n"
     ]
    },
    {
     "name": "stderr",
     "output_type": "stream",
     "text": [
      "\n"
     ]
    },
    {
     "name": "stdout",
     "output_type": "stream",
     "text": [
      "\n",
      "      Epoch    GPU_mem     box_om     cls_om     dfl_om     box_oo     cls_oo     dfl_oo  Instances       Size\n"
     ]
    },
    {
     "name": "stderr",
     "output_type": "stream",
     "text": [
      "     47/200      3.21G      1.167      1.142      1.707       1.18       1.56      1.751         14        640: 100%|██████████| 12/12 [00:01<00:00,  7.93it/s]\n",
      "                 Class     Images  Instances      Box(P          R      mAP50  mAP50-95): 100%|██████████| 2/2 [00:00<00:00,  6.65it/s]"
     ]
    },
    {
     "name": "stdout",
     "output_type": "stream",
     "text": [
      "                   all         46         46      0.674      0.704      0.839      0.679\n"
     ]
    },
    {
     "name": "stderr",
     "output_type": "stream",
     "text": [
      "\n"
     ]
    },
    {
     "name": "stdout",
     "output_type": "stream",
     "text": [
      "\n",
      "      Epoch    GPU_mem     box_om     cls_om     dfl_om     box_oo     cls_oo     dfl_oo  Instances       Size\n"
     ]
    },
    {
     "name": "stderr",
     "output_type": "stream",
     "text": [
      "     48/200      3.21G      1.057      1.119      1.644      1.151      1.597      1.735         10        640: 100%|██████████| 12/12 [00:01<00:00,  8.74it/s]\n",
      "                 Class     Images  Instances      Box(P          R      mAP50  mAP50-95): 100%|██████████| 2/2 [00:00<00:00,  6.49it/s]"
     ]
    },
    {
     "name": "stdout",
     "output_type": "stream",
     "text": [
      "                   all         46         46      0.677      0.865      0.861      0.647\n"
     ]
    },
    {
     "name": "stderr",
     "output_type": "stream",
     "text": [
      "\n"
     ]
    },
    {
     "name": "stdout",
     "output_type": "stream",
     "text": [
      "\n",
      "      Epoch    GPU_mem     box_om     cls_om     dfl_om     box_oo     cls_oo     dfl_oo  Instances       Size\n"
     ]
    },
    {
     "name": "stderr",
     "output_type": "stream",
     "text": [
      "     49/200       3.2G      1.077      1.066      1.698      1.108      1.486      1.718          9        640: 100%|██████████| 12/12 [00:01<00:00,  8.49it/s]\n",
      "                 Class     Images  Instances      Box(P          R      mAP50  mAP50-95): 100%|██████████| 2/2 [00:00<00:00,  6.80it/s]"
     ]
    },
    {
     "name": "stdout",
     "output_type": "stream",
     "text": [
      "                   all         46         46      0.745      0.729      0.849      0.706\n"
     ]
    },
    {
     "name": "stderr",
     "output_type": "stream",
     "text": [
      "\n"
     ]
    },
    {
     "name": "stdout",
     "output_type": "stream",
     "text": [
      "\n",
      "      Epoch    GPU_mem     box_om     cls_om     dfl_om     box_oo     cls_oo     dfl_oo  Instances       Size\n"
     ]
    },
    {
     "name": "stderr",
     "output_type": "stream",
     "text": [
      "     50/200      3.21G      1.085      1.047      1.669      1.101      1.389      1.661         17        640: 100%|██████████| 12/12 [00:01<00:00,  8.18it/s]\n",
      "                 Class     Images  Instances      Box(P          R      mAP50  mAP50-95): 100%|██████████| 2/2 [00:00<00:00,  7.19it/s]"
     ]
    },
    {
     "name": "stdout",
     "output_type": "stream",
     "text": [
      "                   all         46         46      0.845      0.767      0.896      0.743\n"
     ]
    },
    {
     "name": "stderr",
     "output_type": "stream",
     "text": [
      "\n"
     ]
    },
    {
     "name": "stdout",
     "output_type": "stream",
     "text": [
      "\n",
      "      Epoch    GPU_mem     box_om     cls_om     dfl_om     box_oo     cls_oo     dfl_oo  Instances       Size\n"
     ]
    },
    {
     "name": "stderr",
     "output_type": "stream",
     "text": [
      "     51/200       3.2G      1.102       1.06      1.681        1.1      1.498      1.696          8        640: 100%|██████████| 12/12 [00:01<00:00,  8.27it/s]\n",
      "                 Class     Images  Instances      Box(P          R      mAP50  mAP50-95): 100%|██████████| 2/2 [00:00<00:00,  7.24it/s]"
     ]
    },
    {
     "name": "stdout",
     "output_type": "stream",
     "text": [
      "                   all         46         46      0.696      0.685      0.761      0.588\n"
     ]
    },
    {
     "name": "stderr",
     "output_type": "stream",
     "text": [
      "\n"
     ]
    },
    {
     "name": "stdout",
     "output_type": "stream",
     "text": [
      "\n",
      "      Epoch    GPU_mem     box_om     cls_om     dfl_om     box_oo     cls_oo     dfl_oo  Instances       Size\n"
     ]
    },
    {
     "name": "stderr",
     "output_type": "stream",
     "text": [
      "     52/200      3.21G      1.111      1.044       1.67      1.155      1.397      1.705         15        640: 100%|██████████| 12/12 [00:01<00:00,  8.06it/s]\n",
      "                 Class     Images  Instances      Box(P          R      mAP50  mAP50-95): 100%|██████████| 2/2 [00:00<00:00,  8.49it/s]"
     ]
    },
    {
     "name": "stdout",
     "output_type": "stream",
     "text": [
      "                   all         46         46      0.657      0.766      0.812      0.647\n"
     ]
    },
    {
     "name": "stderr",
     "output_type": "stream",
     "text": [
      "\n"
     ]
    },
    {
     "name": "stdout",
     "output_type": "stream",
     "text": [
      "\n",
      "      Epoch    GPU_mem     box_om     cls_om     dfl_om     box_oo     cls_oo     dfl_oo  Instances       Size\n"
     ]
    },
    {
     "name": "stderr",
     "output_type": "stream",
     "text": [
      "     53/200      3.21G       1.15      1.072      1.711       1.09      1.498      1.679         15        640: 100%|██████████| 12/12 [00:01<00:00,  8.26it/s]\n",
      "                 Class     Images  Instances      Box(P          R      mAP50  mAP50-95): 100%|██████████| 2/2 [00:00<00:00,  7.82it/s]"
     ]
    },
    {
     "name": "stdout",
     "output_type": "stream",
     "text": [
      "                   all         46         46      0.792      0.595      0.724      0.503\n"
     ]
    },
    {
     "name": "stderr",
     "output_type": "stream",
     "text": [
      "\n"
     ]
    },
    {
     "name": "stdout",
     "output_type": "stream",
     "text": [
      "\n",
      "      Epoch    GPU_mem     box_om     cls_om     dfl_om     box_oo     cls_oo     dfl_oo  Instances       Size\n"
     ]
    },
    {
     "name": "stderr",
     "output_type": "stream",
     "text": [
      "     54/200      3.21G      1.102      1.063      1.675      1.121      1.496      1.701         14        640: 100%|██████████| 12/12 [00:01<00:00,  7.46it/s]\n",
      "                 Class     Images  Instances      Box(P          R      mAP50  mAP50-95): 100%|██████████| 2/2 [00:00<00:00,  7.29it/s]"
     ]
    },
    {
     "name": "stdout",
     "output_type": "stream",
     "text": [
      "                   all         46         46      0.798      0.752      0.876      0.682\n"
     ]
    },
    {
     "name": "stderr",
     "output_type": "stream",
     "text": [
      "\n"
     ]
    },
    {
     "name": "stdout",
     "output_type": "stream",
     "text": [
      "\n",
      "      Epoch    GPU_mem     box_om     cls_om     dfl_om     box_oo     cls_oo     dfl_oo  Instances       Size\n"
     ]
    },
    {
     "name": "stderr",
     "output_type": "stream",
     "text": [
      "     55/200       3.2G       1.01     0.9992      1.618      1.036      1.337      1.624          9        640: 100%|██████████| 12/12 [00:01<00:00,  8.67it/s]\n",
      "                 Class     Images  Instances      Box(P          R      mAP50  mAP50-95): 100%|██████████| 2/2 [00:00<00:00,  6.72it/s]"
     ]
    },
    {
     "name": "stdout",
     "output_type": "stream",
     "text": [
      "                   all         46         46      0.734       0.89      0.901      0.704\n"
     ]
    },
    {
     "name": "stderr",
     "output_type": "stream",
     "text": [
      "\n"
     ]
    },
    {
     "name": "stdout",
     "output_type": "stream",
     "text": [
      "\n",
      "      Epoch    GPU_mem     box_om     cls_om     dfl_om     box_oo     cls_oo     dfl_oo  Instances       Size\n"
     ]
    },
    {
     "name": "stderr",
     "output_type": "stream",
     "text": [
      "     56/200      3.21G     0.9898      1.002      1.572      1.026      1.357      1.585         15        640: 100%|██████████| 12/12 [00:01<00:00,  8.25it/s]\n",
      "                 Class     Images  Instances      Box(P          R      mAP50  mAP50-95): 100%|██████████| 2/2 [00:00<00:00,  7.67it/s]"
     ]
    },
    {
     "name": "stdout",
     "output_type": "stream",
     "text": [
      "                   all         46         46      0.829      0.692      0.827      0.688\n"
     ]
    },
    {
     "name": "stderr",
     "output_type": "stream",
     "text": [
      "\n"
     ]
    },
    {
     "name": "stdout",
     "output_type": "stream",
     "text": [
      "\n",
      "      Epoch    GPU_mem     box_om     cls_om     dfl_om     box_oo     cls_oo     dfl_oo  Instances       Size\n"
     ]
    },
    {
     "name": "stderr",
     "output_type": "stream",
     "text": [
      "     57/200      3.21G      0.999     0.9448      1.558      1.017      1.294      1.574         17        640: 100%|██████████| 12/12 [00:01<00:00,  9.08it/s]\n",
      "                 Class     Images  Instances      Box(P          R      mAP50  mAP50-95): 100%|██████████| 2/2 [00:00<00:00,  7.85it/s]"
     ]
    },
    {
     "name": "stdout",
     "output_type": "stream",
     "text": [
      "                   all         46         46      0.735      0.813      0.869      0.687\n"
     ]
    },
    {
     "name": "stderr",
     "output_type": "stream",
     "text": [
      "\n"
     ]
    },
    {
     "name": "stdout",
     "output_type": "stream",
     "text": [
      "\n",
      "      Epoch    GPU_mem     box_om     cls_om     dfl_om     box_oo     cls_oo     dfl_oo  Instances       Size\n"
     ]
    },
    {
     "name": "stderr",
     "output_type": "stream",
     "text": [
      "     58/200      3.21G       1.02     0.9222        1.6      1.078      1.257      1.642         14        640: 100%|██████████| 12/12 [00:01<00:00,  7.98it/s]\n",
      "                 Class     Images  Instances      Box(P          R      mAP50  mAP50-95): 100%|██████████| 2/2 [00:00<00:00,  7.47it/s]"
     ]
    },
    {
     "name": "stdout",
     "output_type": "stream",
     "text": [
      "                   all         46         46      0.766      0.779      0.886      0.714\n"
     ]
    },
    {
     "name": "stderr",
     "output_type": "stream",
     "text": [
      "\n"
     ]
    },
    {
     "name": "stdout",
     "output_type": "stream",
     "text": [
      "\n",
      "      Epoch    GPU_mem     box_om     cls_om     dfl_om     box_oo     cls_oo     dfl_oo  Instances       Size\n"
     ]
    },
    {
     "name": "stderr",
     "output_type": "stream",
     "text": [
      "     59/200      3.21G     0.9844     0.9358      1.583      1.024      1.249      1.622         15        640: 100%|██████████| 12/12 [00:01<00:00,  7.68it/s]\n",
      "                 Class     Images  Instances      Box(P          R      mAP50  mAP50-95): 100%|██████████| 2/2 [00:00<00:00,  7.60it/s]"
     ]
    },
    {
     "name": "stdout",
     "output_type": "stream",
     "text": [
      "                   all         46         46      0.763      0.887      0.908      0.746\n"
     ]
    },
    {
     "name": "stderr",
     "output_type": "stream",
     "text": [
      "\n"
     ]
    },
    {
     "name": "stdout",
     "output_type": "stream",
     "text": [
      "\n",
      "      Epoch    GPU_mem     box_om     cls_om     dfl_om     box_oo     cls_oo     dfl_oo  Instances       Size\n"
     ]
    },
    {
     "name": "stderr",
     "output_type": "stream",
     "text": [
      "     60/200      3.21G      1.083     0.9686      1.631      1.086      1.301      1.654         12        640: 100%|██████████| 12/12 [00:01<00:00,  8.25it/s]\n",
      "                 Class     Images  Instances      Box(P          R      mAP50  mAP50-95): 100%|██████████| 2/2 [00:00<00:00,  7.34it/s]"
     ]
    },
    {
     "name": "stdout",
     "output_type": "stream",
     "text": [
      "                   all         46         46      0.766      0.873      0.918      0.737\n"
     ]
    },
    {
     "name": "stderr",
     "output_type": "stream",
     "text": [
      "\n"
     ]
    },
    {
     "name": "stdout",
     "output_type": "stream",
     "text": [
      "\n",
      "      Epoch    GPU_mem     box_om     cls_om     dfl_om     box_oo     cls_oo     dfl_oo  Instances       Size\n"
     ]
    },
    {
     "name": "stderr",
     "output_type": "stream",
     "text": [
      "     61/200      3.21G          1     0.9434      1.578      1.028       1.28       1.58         11        640: 100%|██████████| 12/12 [00:01<00:00,  8.70it/s]\n",
      "                 Class     Images  Instances      Box(P          R      mAP50  mAP50-95): 100%|██████████| 2/2 [00:00<00:00,  7.55it/s]"
     ]
    },
    {
     "name": "stdout",
     "output_type": "stream",
     "text": [
      "                   all         46         46      0.807      0.854      0.907      0.735\n"
     ]
    },
    {
     "name": "stderr",
     "output_type": "stream",
     "text": [
      "\n"
     ]
    },
    {
     "name": "stdout",
     "output_type": "stream",
     "text": [
      "\n",
      "      Epoch    GPU_mem     box_om     cls_om     dfl_om     box_oo     cls_oo     dfl_oo  Instances       Size\n"
     ]
    },
    {
     "name": "stderr",
     "output_type": "stream",
     "text": [
      "     62/200      3.21G     0.9831     0.8987      1.555      1.054      1.176      1.598         19        640: 100%|██████████| 12/12 [00:01<00:00,  9.21it/s]\n",
      "                 Class     Images  Instances      Box(P          R      mAP50  mAP50-95): 100%|██████████| 2/2 [00:00<00:00,  6.85it/s]"
     ]
    },
    {
     "name": "stdout",
     "output_type": "stream",
     "text": [
      "                   all         46         46      0.856      0.835      0.931      0.761\n"
     ]
    },
    {
     "name": "stderr",
     "output_type": "stream",
     "text": [
      "\n"
     ]
    },
    {
     "name": "stdout",
     "output_type": "stream",
     "text": [
      "\n",
      "      Epoch    GPU_mem     box_om     cls_om     dfl_om     box_oo     cls_oo     dfl_oo  Instances       Size\n"
     ]
    },
    {
     "name": "stderr",
     "output_type": "stream",
     "text": [
      "     63/200      3.21G      1.011     0.9268      1.568      1.073      1.247      1.629         13        640: 100%|██████████| 12/12 [00:01<00:00,  8.88it/s]\n",
      "                 Class     Images  Instances      Box(P          R      mAP50  mAP50-95): 100%|██████████| 2/2 [00:00<00:00,  8.46it/s]"
     ]
    },
    {
     "name": "stdout",
     "output_type": "stream",
     "text": [
      "                   all         46         46      0.826      0.671      0.867      0.711\n"
     ]
    },
    {
     "name": "stderr",
     "output_type": "stream",
     "text": [
      "\n"
     ]
    },
    {
     "name": "stdout",
     "output_type": "stream",
     "text": [
      "\n",
      "      Epoch    GPU_mem     box_om     cls_om     dfl_om     box_oo     cls_oo     dfl_oo  Instances       Size\n"
     ]
    },
    {
     "name": "stderr",
     "output_type": "stream",
     "text": [
      "     64/200       3.2G     0.9304     0.8723      1.506      1.001      1.195      1.565          9        640: 100%|██████████| 12/12 [00:01<00:00,  7.61it/s]\n",
      "                 Class     Images  Instances      Box(P          R      mAP50  mAP50-95): 100%|██████████| 2/2 [00:00<00:00,  7.54it/s]"
     ]
    },
    {
     "name": "stdout",
     "output_type": "stream",
     "text": [
      "                   all         46         46      0.841      0.761      0.854      0.681\n"
     ]
    },
    {
     "name": "stderr",
     "output_type": "stream",
     "text": [
      "\n"
     ]
    },
    {
     "name": "stdout",
     "output_type": "stream",
     "text": [
      "\n",
      "      Epoch    GPU_mem     box_om     cls_om     dfl_om     box_oo     cls_oo     dfl_oo  Instances       Size\n"
     ]
    },
    {
     "name": "stderr",
     "output_type": "stream",
     "text": [
      "     65/200      3.21G     0.9969     0.9261      1.534      1.037       1.25      1.604         13        640: 100%|██████████| 12/12 [00:01<00:00,  8.19it/s]\n",
      "                 Class     Images  Instances      Box(P          R      mAP50  mAP50-95): 100%|██████████| 2/2 [00:00<00:00,  8.14it/s]"
     ]
    },
    {
     "name": "stdout",
     "output_type": "stream",
     "text": [
      "                   all         46         46        0.8        0.8      0.873      0.697\n"
     ]
    },
    {
     "name": "stderr",
     "output_type": "stream",
     "text": [
      "\n"
     ]
    },
    {
     "name": "stdout",
     "output_type": "stream",
     "text": [
      "\n",
      "      Epoch    GPU_mem     box_om     cls_om     dfl_om     box_oo     cls_oo     dfl_oo  Instances       Size\n"
     ]
    },
    {
     "name": "stderr",
     "output_type": "stream",
     "text": [
      "     66/200      3.21G     0.9622     0.9253       1.55      1.027      1.214      1.598         12        640: 100%|██████████| 12/12 [00:01<00:00,  8.49it/s]\n",
      "                 Class     Images  Instances      Box(P          R      mAP50  mAP50-95): 100%|██████████| 2/2 [00:00<00:00,  8.39it/s]"
     ]
    },
    {
     "name": "stdout",
     "output_type": "stream",
     "text": [
      "                   all         46         46      0.824      0.728       0.86      0.728\n"
     ]
    },
    {
     "name": "stderr",
     "output_type": "stream",
     "text": [
      "\n"
     ]
    },
    {
     "name": "stdout",
     "output_type": "stream",
     "text": [
      "\n",
      "      Epoch    GPU_mem     box_om     cls_om     dfl_om     box_oo     cls_oo     dfl_oo  Instances       Size\n"
     ]
    },
    {
     "name": "stderr",
     "output_type": "stream",
     "text": [
      "     67/200      3.21G     0.9429     0.8677      1.505     0.9845      1.192       1.55         18        640: 100%|██████████| 12/12 [00:01<00:00,  9.36it/s]\n",
      "                 Class     Images  Instances      Box(P          R      mAP50  mAP50-95): 100%|██████████| 2/2 [00:00<00:00,  7.75it/s]"
     ]
    },
    {
     "name": "stdout",
     "output_type": "stream",
     "text": [
      "                   all         46         46      0.893      0.764      0.886      0.742\n"
     ]
    },
    {
     "name": "stderr",
     "output_type": "stream",
     "text": [
      "\n"
     ]
    },
    {
     "name": "stdout",
     "output_type": "stream",
     "text": [
      "\n",
      "      Epoch    GPU_mem     box_om     cls_om     dfl_om     box_oo     cls_oo     dfl_oo  Instances       Size\n"
     ]
    },
    {
     "name": "stderr",
     "output_type": "stream",
     "text": [
      "     68/200      3.21G     0.8687      0.816      1.483     0.9368       1.13      1.537         14        640: 100%|██████████| 12/12 [00:01<00:00,  8.26it/s]\n",
      "                 Class     Images  Instances      Box(P          R      mAP50  mAP50-95): 100%|██████████| 2/2 [00:00<00:00,  8.52it/s]"
     ]
    },
    {
     "name": "stdout",
     "output_type": "stream",
     "text": [
      "                   all         46         46      0.862      0.708      0.854      0.706\n"
     ]
    },
    {
     "name": "stderr",
     "output_type": "stream",
     "text": [
      "\n"
     ]
    },
    {
     "name": "stdout",
     "output_type": "stream",
     "text": [
      "\n",
      "      Epoch    GPU_mem     box_om     cls_om     dfl_om     box_oo     cls_oo     dfl_oo  Instances       Size\n"
     ]
    },
    {
     "name": "stderr",
     "output_type": "stream",
     "text": [
      "     69/200       3.2G     0.9355     0.8539      1.499     0.9836      1.176      1.514          7        640: 100%|██████████| 12/12 [00:01<00:00,  8.24it/s]\n",
      "                 Class     Images  Instances      Box(P          R      mAP50  mAP50-95): 100%|██████████| 2/2 [00:00<00:00,  6.53it/s]"
     ]
    },
    {
     "name": "stdout",
     "output_type": "stream",
     "text": [
      "                   all         46         46      0.732      0.752      0.862      0.688\n"
     ]
    },
    {
     "name": "stderr",
     "output_type": "stream",
     "text": [
      "\n"
     ]
    },
    {
     "name": "stdout",
     "output_type": "stream",
     "text": [
      "\n",
      "      Epoch    GPU_mem     box_om     cls_om     dfl_om     box_oo     cls_oo     dfl_oo  Instances       Size\n"
     ]
    },
    {
     "name": "stderr",
     "output_type": "stream",
     "text": [
      "     70/200      3.21G     0.9779     0.8685      1.523       1.02      1.134      1.563         10        640: 100%|██████████| 12/12 [00:01<00:00,  8.69it/s]\n",
      "                 Class     Images  Instances      Box(P          R      mAP50  mAP50-95): 100%|██████████| 2/2 [00:00<00:00,  7.41it/s]"
     ]
    },
    {
     "name": "stdout",
     "output_type": "stream",
     "text": [
      "                   all         46         46      0.815      0.818      0.899       0.74\n"
     ]
    },
    {
     "name": "stderr",
     "output_type": "stream",
     "text": [
      "\n"
     ]
    },
    {
     "name": "stdout",
     "output_type": "stream",
     "text": [
      "\n",
      "      Epoch    GPU_mem     box_om     cls_om     dfl_om     box_oo     cls_oo     dfl_oo  Instances       Size\n"
     ]
    },
    {
     "name": "stderr",
     "output_type": "stream",
     "text": [
      "     71/200      3.21G     0.9429     0.8499      1.508      0.953      1.209      1.556         12        640: 100%|██████████| 12/12 [00:01<00:00,  8.80it/s]\n",
      "                 Class     Images  Instances      Box(P          R      mAP50  mAP50-95): 100%|██████████| 2/2 [00:00<00:00,  8.34it/s]"
     ]
    },
    {
     "name": "stdout",
     "output_type": "stream",
     "text": [
      "                   all         46         46      0.873       0.94      0.958       0.77\n"
     ]
    },
    {
     "name": "stderr",
     "output_type": "stream",
     "text": [
      "\n"
     ]
    },
    {
     "name": "stdout",
     "output_type": "stream",
     "text": [
      "\n",
      "      Epoch    GPU_mem     box_om     cls_om     dfl_om     box_oo     cls_oo     dfl_oo  Instances       Size\n"
     ]
    },
    {
     "name": "stderr",
     "output_type": "stream",
     "text": [
      "     72/200       3.2G     0.9513     0.8475      1.508      1.003      1.212      1.569          9        640: 100%|██████████| 12/12 [00:01<00:00,  8.82it/s]\n",
      "                 Class     Images  Instances      Box(P          R      mAP50  mAP50-95): 100%|██████████| 2/2 [00:00<00:00,  7.43it/s]"
     ]
    },
    {
     "name": "stdout",
     "output_type": "stream",
     "text": [
      "                   all         46         46      0.977      0.867      0.967      0.777\n"
     ]
    },
    {
     "name": "stderr",
     "output_type": "stream",
     "text": [
      "\n"
     ]
    },
    {
     "name": "stdout",
     "output_type": "stream",
     "text": [
      "\n",
      "      Epoch    GPU_mem     box_om     cls_om     dfl_om     box_oo     cls_oo     dfl_oo  Instances       Size\n"
     ]
    },
    {
     "name": "stderr",
     "output_type": "stream",
     "text": [
      "     73/200      3.21G     0.9285     0.7826      1.511      0.969      1.064      1.547         19        640: 100%|██████████| 12/12 [00:01<00:00,  8.15it/s]\n",
      "                 Class     Images  Instances      Box(P          R      mAP50  mAP50-95): 100%|██████████| 2/2 [00:00<00:00,  7.39it/s]"
     ]
    },
    {
     "name": "stdout",
     "output_type": "stream",
     "text": [
      "                   all         46         46      0.949      0.883      0.963      0.788\n"
     ]
    },
    {
     "name": "stderr",
     "output_type": "stream",
     "text": [
      "\n"
     ]
    },
    {
     "name": "stdout",
     "output_type": "stream",
     "text": [
      "\n",
      "      Epoch    GPU_mem     box_om     cls_om     dfl_om     box_oo     cls_oo     dfl_oo  Instances       Size\n"
     ]
    },
    {
     "name": "stderr",
     "output_type": "stream",
     "text": [
      "     74/200      3.21G     0.9344     0.8306      1.497     0.9607       1.17      1.512         12        640: 100%|██████████| 12/12 [00:01<00:00,  8.07it/s]\n",
      "                 Class     Images  Instances      Box(P          R      mAP50  mAP50-95): 100%|██████████| 2/2 [00:00<00:00,  7.67it/s]"
     ]
    },
    {
     "name": "stdout",
     "output_type": "stream",
     "text": [
      "                   all         46         46      0.896      0.853      0.958      0.765\n"
     ]
    },
    {
     "name": "stderr",
     "output_type": "stream",
     "text": [
      "\n"
     ]
    },
    {
     "name": "stdout",
     "output_type": "stream",
     "text": [
      "\n",
      "      Epoch    GPU_mem     box_om     cls_om     dfl_om     box_oo     cls_oo     dfl_oo  Instances       Size\n"
     ]
    },
    {
     "name": "stderr",
     "output_type": "stream",
     "text": [
      "     75/200      3.21G     0.9275     0.8368      1.504     0.9782      1.088       1.55         19        640: 100%|██████████| 12/12 [00:01<00:00,  8.46it/s]\n",
      "                 Class     Images  Instances      Box(P          R      mAP50  mAP50-95): 100%|██████████| 2/2 [00:00<00:00,  6.98it/s]"
     ]
    },
    {
     "name": "stdout",
     "output_type": "stream",
     "text": [
      "                   all         46         46       0.84      0.962      0.955      0.749\n"
     ]
    },
    {
     "name": "stderr",
     "output_type": "stream",
     "text": [
      "\n"
     ]
    },
    {
     "name": "stdout",
     "output_type": "stream",
     "text": [
      "\n",
      "      Epoch    GPU_mem     box_om     cls_om     dfl_om     box_oo     cls_oo     dfl_oo  Instances       Size\n"
     ]
    },
    {
     "name": "stderr",
     "output_type": "stream",
     "text": [
      "     76/200      3.21G     0.8852     0.8187      1.466     0.9611      1.088      1.525         18        640: 100%|██████████| 12/12 [00:01<00:00,  8.72it/s]\n",
      "                 Class     Images  Instances      Box(P          R      mAP50  mAP50-95): 100%|██████████| 2/2 [00:00<00:00,  7.91it/s]"
     ]
    },
    {
     "name": "stdout",
     "output_type": "stream",
     "text": [
      "                   all         46         46      0.962       0.82      0.966      0.806\n"
     ]
    },
    {
     "name": "stderr",
     "output_type": "stream",
     "text": [
      "\n"
     ]
    },
    {
     "name": "stdout",
     "output_type": "stream",
     "text": [
      "\n",
      "      Epoch    GPU_mem     box_om     cls_om     dfl_om     box_oo     cls_oo     dfl_oo  Instances       Size\n"
     ]
    },
    {
     "name": "stderr",
     "output_type": "stream",
     "text": [
      "     77/200      3.21G     0.8723     0.7937      1.441     0.8986      1.078      1.461         12        640: 100%|██████████| 12/12 [00:01<00:00,  8.90it/s]\n",
      "                 Class     Images  Instances      Box(P          R      mAP50  mAP50-95): 100%|██████████| 2/2 [00:00<00:00,  7.34it/s]"
     ]
    },
    {
     "name": "stdout",
     "output_type": "stream",
     "text": [
      "                   all         46         46      0.835      0.807      0.918      0.728\n"
     ]
    },
    {
     "name": "stderr",
     "output_type": "stream",
     "text": [
      "\n"
     ]
    },
    {
     "name": "stdout",
     "output_type": "stream",
     "text": [
      "\n",
      "      Epoch    GPU_mem     box_om     cls_om     dfl_om     box_oo     cls_oo     dfl_oo  Instances       Size\n"
     ]
    },
    {
     "name": "stderr",
     "output_type": "stream",
     "text": [
      "     78/200      3.21G     0.9003     0.7881      1.452     0.9549      1.059      1.517         11        640: 100%|██████████| 12/12 [00:01<00:00,  8.53it/s]\n",
      "                 Class     Images  Instances      Box(P          R      mAP50  mAP50-95): 100%|██████████| 2/2 [00:00<00:00,  7.28it/s]"
     ]
    },
    {
     "name": "stdout",
     "output_type": "stream",
     "text": [
      "                   all         46         46      0.728      0.926      0.915      0.773\n"
     ]
    },
    {
     "name": "stderr",
     "output_type": "stream",
     "text": [
      "\n"
     ]
    },
    {
     "name": "stdout",
     "output_type": "stream",
     "text": [
      "\n",
      "      Epoch    GPU_mem     box_om     cls_om     dfl_om     box_oo     cls_oo     dfl_oo  Instances       Size\n"
     ]
    },
    {
     "name": "stderr",
     "output_type": "stream",
     "text": [
      "     79/200       3.2G     0.8726      0.779      1.445     0.8985      1.017      1.492         11        640: 100%|██████████| 12/12 [00:01<00:00,  8.18it/s]\n",
      "                 Class     Images  Instances      Box(P          R      mAP50  mAP50-95): 100%|██████████| 2/2 [00:00<00:00,  8.06it/s]"
     ]
    },
    {
     "name": "stdout",
     "output_type": "stream",
     "text": [
      "                   all         46         46      0.861       0.95      0.972      0.811\n"
     ]
    },
    {
     "name": "stderr",
     "output_type": "stream",
     "text": [
      "\n"
     ]
    },
    {
     "name": "stdout",
     "output_type": "stream",
     "text": [
      "\n",
      "      Epoch    GPU_mem     box_om     cls_om     dfl_om     box_oo     cls_oo     dfl_oo  Instances       Size\n"
     ]
    },
    {
     "name": "stderr",
     "output_type": "stream",
     "text": [
      "     80/200      3.21G     0.9702      0.872      1.514      1.007      1.166      1.521         19        640: 100%|██████████| 12/12 [00:01<00:00,  7.42it/s]\n",
      "                 Class     Images  Instances      Box(P          R      mAP50  mAP50-95): 100%|██████████| 2/2 [00:00<00:00,  7.33it/s]"
     ]
    },
    {
     "name": "stdout",
     "output_type": "stream",
     "text": [
      "                   all         46         46      0.915      0.927      0.967        0.8\n"
     ]
    },
    {
     "name": "stderr",
     "output_type": "stream",
     "text": [
      "\n"
     ]
    },
    {
     "name": "stdout",
     "output_type": "stream",
     "text": [
      "\n",
      "      Epoch    GPU_mem     box_om     cls_om     dfl_om     box_oo     cls_oo     dfl_oo  Instances       Size\n"
     ]
    },
    {
     "name": "stderr",
     "output_type": "stream",
     "text": [
      "     81/200       3.2G     0.9893     0.8675      1.517       1.03      1.102      1.554          8        640: 100%|██████████| 12/12 [00:01<00:00,  7.92it/s]\n",
      "                 Class     Images  Instances      Box(P          R      mAP50  mAP50-95): 100%|██████████| 2/2 [00:00<00:00,  7.46it/s]"
     ]
    },
    {
     "name": "stdout",
     "output_type": "stream",
     "text": [
      "                   all         46         46      0.925      0.817      0.955       0.77\n"
     ]
    },
    {
     "name": "stderr",
     "output_type": "stream",
     "text": [
      "\n"
     ]
    },
    {
     "name": "stdout",
     "output_type": "stream",
     "text": [
      "\n",
      "      Epoch    GPU_mem     box_om     cls_om     dfl_om     box_oo     cls_oo     dfl_oo  Instances       Size\n"
     ]
    },
    {
     "name": "stderr",
     "output_type": "stream",
     "text": [
      "     82/200       3.2G     0.9283     0.8137      1.467     0.9682      1.113      1.524          9        640: 100%|██████████| 12/12 [00:01<00:00,  8.52it/s]\n",
      "                 Class     Images  Instances      Box(P          R      mAP50  mAP50-95): 100%|██████████| 2/2 [00:00<00:00,  7.05it/s]"
     ]
    },
    {
     "name": "stdout",
     "output_type": "stream",
     "text": [
      "                   all         46         46      0.941      0.885      0.936      0.798\n"
     ]
    },
    {
     "name": "stderr",
     "output_type": "stream",
     "text": [
      "\n"
     ]
    },
    {
     "name": "stdout",
     "output_type": "stream",
     "text": [
      "\n",
      "      Epoch    GPU_mem     box_om     cls_om     dfl_om     box_oo     cls_oo     dfl_oo  Instances       Size\n"
     ]
    },
    {
     "name": "stderr",
     "output_type": "stream",
     "text": [
      "     83/200       3.2G     0.9108     0.7972      1.478     0.9275      1.038      1.505          8        640: 100%|██████████| 12/12 [00:01<00:00,  8.22it/s]\n",
      "                 Class     Images  Instances      Box(P          R      mAP50  mAP50-95): 100%|██████████| 2/2 [00:00<00:00,  6.37it/s]"
     ]
    },
    {
     "name": "stdout",
     "output_type": "stream",
     "text": [
      "                   all         46         46      0.744      0.895      0.916      0.719\n"
     ]
    },
    {
     "name": "stderr",
     "output_type": "stream",
     "text": [
      "\n"
     ]
    },
    {
     "name": "stdout",
     "output_type": "stream",
     "text": [
      "\n",
      "      Epoch    GPU_mem     box_om     cls_om     dfl_om     box_oo     cls_oo     dfl_oo  Instances       Size\n"
     ]
    },
    {
     "name": "stderr",
     "output_type": "stream",
     "text": [
      "     84/200      3.21G     0.9416     0.8008      1.491     0.9882      1.002      1.532         13        640: 100%|██████████| 12/12 [00:01<00:00,  8.52it/s]\n",
      "                 Class     Images  Instances      Box(P          R      mAP50  mAP50-95): 100%|██████████| 2/2 [00:00<00:00,  7.90it/s]"
     ]
    },
    {
     "name": "stdout",
     "output_type": "stream",
     "text": [
      "                   all         46         46      0.687      0.849      0.883      0.711\n"
     ]
    },
    {
     "name": "stderr",
     "output_type": "stream",
     "text": [
      "\n"
     ]
    },
    {
     "name": "stdout",
     "output_type": "stream",
     "text": [
      "\n",
      "      Epoch    GPU_mem     box_om     cls_om     dfl_om     box_oo     cls_oo     dfl_oo  Instances       Size\n"
     ]
    },
    {
     "name": "stderr",
     "output_type": "stream",
     "text": [
      "     85/200      3.21G     0.9671     0.7907      1.488      1.005      1.035      1.507         15        640: 100%|██████████| 12/12 [00:01<00:00,  7.56it/s]\n",
      "                 Class     Images  Instances      Box(P          R      mAP50  mAP50-95): 100%|██████████| 2/2 [00:00<00:00,  8.45it/s]"
     ]
    },
    {
     "name": "stdout",
     "output_type": "stream",
     "text": [
      "                   all         46         46      0.815      0.857      0.917      0.746\n"
     ]
    },
    {
     "name": "stderr",
     "output_type": "stream",
     "text": [
      "\n"
     ]
    },
    {
     "name": "stdout",
     "output_type": "stream",
     "text": [
      "\n",
      "      Epoch    GPU_mem     box_om     cls_om     dfl_om     box_oo     cls_oo     dfl_oo  Instances       Size\n"
     ]
    },
    {
     "name": "stderr",
     "output_type": "stream",
     "text": [
      "     86/200      3.21G     0.9176     0.8026      1.461      1.006      1.031      1.488         16        640: 100%|██████████| 12/12 [00:01<00:00,  8.99it/s]\n",
      "                 Class     Images  Instances      Box(P          R      mAP50  mAP50-95): 100%|██████████| 2/2 [00:00<00:00,  8.20it/s]"
     ]
    },
    {
     "name": "stdout",
     "output_type": "stream",
     "text": [
      "                   all         46         46      0.794      0.872      0.868      0.699\n"
     ]
    },
    {
     "name": "stderr",
     "output_type": "stream",
     "text": [
      "\n"
     ]
    },
    {
     "name": "stdout",
     "output_type": "stream",
     "text": [
      "\n",
      "      Epoch    GPU_mem     box_om     cls_om     dfl_om     box_oo     cls_oo     dfl_oo  Instances       Size\n"
     ]
    },
    {
     "name": "stderr",
     "output_type": "stream",
     "text": [
      "     87/200      3.21G     0.8775     0.8072      1.458     0.9301      1.059      1.478         14        640: 100%|██████████| 12/12 [00:01<00:00,  8.45it/s]\n",
      "                 Class     Images  Instances      Box(P          R      mAP50  mAP50-95): 100%|██████████| 2/2 [00:00<00:00,  8.01it/s]"
     ]
    },
    {
     "name": "stdout",
     "output_type": "stream",
     "text": [
      "                   all         46         46      0.929      0.936      0.976      0.821\n"
     ]
    },
    {
     "name": "stderr",
     "output_type": "stream",
     "text": [
      "\n"
     ]
    },
    {
     "name": "stdout",
     "output_type": "stream",
     "text": [
      "\n",
      "      Epoch    GPU_mem     box_om     cls_om     dfl_om     box_oo     cls_oo     dfl_oo  Instances       Size\n"
     ]
    },
    {
     "name": "stderr",
     "output_type": "stream",
     "text": [
      "     88/200       3.2G     0.8339     0.7511      1.415      0.902     0.9517      1.466          8        640: 100%|██████████| 12/12 [00:01<00:00,  7.88it/s]\n",
      "                 Class     Images  Instances      Box(P          R      mAP50  mAP50-95): 100%|██████████| 2/2 [00:00<00:00,  6.80it/s]"
     ]
    },
    {
     "name": "stdout",
     "output_type": "stream",
     "text": [
      "                   all         46         46      0.946      0.888      0.974      0.832\n"
     ]
    },
    {
     "name": "stderr",
     "output_type": "stream",
     "text": [
      "\n"
     ]
    },
    {
     "name": "stdout",
     "output_type": "stream",
     "text": [
      "\n",
      "      Epoch    GPU_mem     box_om     cls_om     dfl_om     box_oo     cls_oo     dfl_oo  Instances       Size\n"
     ]
    },
    {
     "name": "stderr",
     "output_type": "stream",
     "text": [
      "     89/200      3.21G      0.855     0.7295      1.424     0.9198     0.9544      1.441         10        640: 100%|██████████| 12/12 [00:01<00:00,  8.32it/s]\n",
      "                 Class     Images  Instances      Box(P          R      mAP50  mAP50-95): 100%|██████████| 2/2 [00:00<00:00,  7.30it/s]"
     ]
    },
    {
     "name": "stdout",
     "output_type": "stream",
     "text": [
      "                   all         46         46      0.955      0.937      0.978      0.826\n"
     ]
    },
    {
     "name": "stderr",
     "output_type": "stream",
     "text": [
      "\n"
     ]
    },
    {
     "name": "stdout",
     "output_type": "stream",
     "text": [
      "\n",
      "      Epoch    GPU_mem     box_om     cls_om     dfl_om     box_oo     cls_oo     dfl_oo  Instances       Size\n"
     ]
    },
    {
     "name": "stderr",
     "output_type": "stream",
     "text": [
      "     90/200      3.21G      0.841     0.7357      1.381     0.9199     0.9616      1.404         16        640: 100%|██████████| 12/12 [00:01<00:00,  7.96it/s]\n",
      "                 Class     Images  Instances      Box(P          R      mAP50  mAP50-95): 100%|██████████| 2/2 [00:00<00:00,  6.73it/s]"
     ]
    },
    {
     "name": "stdout",
     "output_type": "stream",
     "text": [
      "                   all         46         46      0.927      0.833      0.971      0.808\n"
     ]
    },
    {
     "name": "stderr",
     "output_type": "stream",
     "text": [
      "\n"
     ]
    },
    {
     "name": "stdout",
     "output_type": "stream",
     "text": [
      "\n",
      "      Epoch    GPU_mem     box_om     cls_om     dfl_om     box_oo     cls_oo     dfl_oo  Instances       Size\n"
     ]
    },
    {
     "name": "stderr",
     "output_type": "stream",
     "text": [
      "     91/200      3.21G     0.8077      0.715      1.379     0.8795     0.9033      1.406         11        640: 100%|██████████| 12/12 [00:01<00:00,  7.07it/s]\n",
      "                 Class     Images  Instances      Box(P          R      mAP50  mAP50-95): 100%|██████████| 2/2 [00:00<00:00,  7.07it/s]"
     ]
    },
    {
     "name": "stdout",
     "output_type": "stream",
     "text": [
      "                   all         46         46      0.859      0.871      0.959       0.79\n"
     ]
    },
    {
     "name": "stderr",
     "output_type": "stream",
     "text": [
      "\n"
     ]
    },
    {
     "name": "stdout",
     "output_type": "stream",
     "text": [
      "\n",
      "      Epoch    GPU_mem     box_om     cls_om     dfl_om     box_oo     cls_oo     dfl_oo  Instances       Size\n"
     ]
    },
    {
     "name": "stderr",
     "output_type": "stream",
     "text": [
      "     92/200      3.21G     0.8659     0.7201      1.427     0.9651     0.9401       1.51         14        640: 100%|██████████| 12/12 [00:01<00:00,  7.85it/s]\n",
      "                 Class     Images  Instances      Box(P          R      mAP50  mAP50-95): 100%|██████████| 2/2 [00:00<00:00,  6.89it/s]"
     ]
    },
    {
     "name": "stdout",
     "output_type": "stream",
     "text": [
      "                   all         46         46        0.8       0.95      0.961      0.813\n"
     ]
    },
    {
     "name": "stderr",
     "output_type": "stream",
     "text": [
      "\n"
     ]
    },
    {
     "name": "stdout",
     "output_type": "stream",
     "text": [
      "\n",
      "      Epoch    GPU_mem     box_om     cls_om     dfl_om     box_oo     cls_oo     dfl_oo  Instances       Size\n"
     ]
    },
    {
     "name": "stderr",
     "output_type": "stream",
     "text": [
      "     93/200      3.21G     0.8176     0.7507      1.421      0.849     0.9583       1.45         14        640: 100%|██████████| 12/12 [00:01<00:00,  7.91it/s]\n",
      "                 Class     Images  Instances      Box(P          R      mAP50  mAP50-95): 100%|██████████| 2/2 [00:00<00:00,  7.83it/s]"
     ]
    },
    {
     "name": "stdout",
     "output_type": "stream",
     "text": [
      "                   all         46         46      0.847      0.967      0.976       0.82\n"
     ]
    },
    {
     "name": "stderr",
     "output_type": "stream",
     "text": [
      "\n"
     ]
    },
    {
     "name": "stdout",
     "output_type": "stream",
     "text": [
      "\n",
      "      Epoch    GPU_mem     box_om     cls_om     dfl_om     box_oo     cls_oo     dfl_oo  Instances       Size\n"
     ]
    },
    {
     "name": "stderr",
     "output_type": "stream",
     "text": [
      "     94/200      3.21G     0.8426     0.6978      1.449     0.9175     0.8678        1.5         11        640: 100%|██████████| 12/12 [00:01<00:00,  7.53it/s]\n",
      "                 Class     Images  Instances      Box(P          R      mAP50  mAP50-95): 100%|██████████| 2/2 [00:00<00:00,  6.68it/s]"
     ]
    },
    {
     "name": "stdout",
     "output_type": "stream",
     "text": [
      "                   all         46         46      0.895      0.872      0.947      0.794\n"
     ]
    },
    {
     "name": "stderr",
     "output_type": "stream",
     "text": [
      "\n"
     ]
    },
    {
     "name": "stdout",
     "output_type": "stream",
     "text": [
      "\n",
      "      Epoch    GPU_mem     box_om     cls_om     dfl_om     box_oo     cls_oo     dfl_oo  Instances       Size\n"
     ]
    },
    {
     "name": "stderr",
     "output_type": "stream",
     "text": [
      "     95/200      3.21G      0.817     0.7243       1.38      0.872     0.9383      1.415         14        640: 100%|██████████| 12/12 [00:01<00:00,  7.66it/s]\n",
      "                 Class     Images  Instances      Box(P          R      mAP50  mAP50-95): 100%|██████████| 2/2 [00:00<00:00,  8.09it/s]"
     ]
    },
    {
     "name": "stdout",
     "output_type": "stream",
     "text": [
      "                   all         46         46      0.878      0.921      0.966      0.825\n"
     ]
    },
    {
     "name": "stderr",
     "output_type": "stream",
     "text": [
      "\n"
     ]
    },
    {
     "name": "stdout",
     "output_type": "stream",
     "text": [
      "\n",
      "      Epoch    GPU_mem     box_om     cls_om     dfl_om     box_oo     cls_oo     dfl_oo  Instances       Size\n"
     ]
    },
    {
     "name": "stderr",
     "output_type": "stream",
     "text": [
      "     96/200      3.21G     0.8365     0.7233      1.397     0.8931     0.9065      1.418         18        640: 100%|██████████| 12/12 [00:01<00:00,  8.52it/s]\n",
      "                 Class     Images  Instances      Box(P          R      mAP50  mAP50-95): 100%|██████████| 2/2 [00:00<00:00,  8.46it/s]"
     ]
    },
    {
     "name": "stdout",
     "output_type": "stream",
     "text": [
      "                   all         46         46      0.935      0.888      0.971      0.841\n"
     ]
    },
    {
     "name": "stderr",
     "output_type": "stream",
     "text": [
      "\n"
     ]
    },
    {
     "name": "stdout",
     "output_type": "stream",
     "text": [
      "\n",
      "      Epoch    GPU_mem     box_om     cls_om     dfl_om     box_oo     cls_oo     dfl_oo  Instances       Size\n"
     ]
    },
    {
     "name": "stderr",
     "output_type": "stream",
     "text": [
      "     97/200      3.21G     0.8064      0.687      1.393     0.8775     0.8925      1.424         13        640: 100%|██████████| 12/12 [00:01<00:00,  8.28it/s]\n",
      "                 Class     Images  Instances      Box(P          R      mAP50  mAP50-95): 100%|██████████| 2/2 [00:00<00:00,  7.60it/s]"
     ]
    },
    {
     "name": "stdout",
     "output_type": "stream",
     "text": [
      "                   all         46         46      0.831      0.934      0.939      0.816\n"
     ]
    },
    {
     "name": "stderr",
     "output_type": "stream",
     "text": [
      "\n"
     ]
    },
    {
     "name": "stdout",
     "output_type": "stream",
     "text": [
      "\n",
      "      Epoch    GPU_mem     box_om     cls_om     dfl_om     box_oo     cls_oo     dfl_oo  Instances       Size\n"
     ]
    },
    {
     "name": "stderr",
     "output_type": "stream",
     "text": [
      "     98/200      3.21G     0.8374     0.6859      1.405     0.9281     0.8243      1.429         15        640: 100%|██████████| 12/12 [00:01<00:00,  7.70it/s]\n",
      "                 Class     Images  Instances      Box(P          R      mAP50  mAP50-95): 100%|██████████| 2/2 [00:00<00:00,  8.18it/s]"
     ]
    },
    {
     "name": "stdout",
     "output_type": "stream",
     "text": [
      "                   all         46         46      0.901      0.955      0.972      0.829\n"
     ]
    },
    {
     "name": "stderr",
     "output_type": "stream",
     "text": [
      "\n"
     ]
    },
    {
     "name": "stdout",
     "output_type": "stream",
     "text": [
      "\n",
      "      Epoch    GPU_mem     box_om     cls_om     dfl_om     box_oo     cls_oo     dfl_oo  Instances       Size\n"
     ]
    },
    {
     "name": "stderr",
     "output_type": "stream",
     "text": [
      "     99/200      3.21G     0.8356     0.7042      1.399     0.8926     0.9227       1.43         14        640: 100%|██████████| 12/12 [00:01<00:00,  8.16it/s]\n",
      "                 Class     Images  Instances      Box(P          R      mAP50  mAP50-95): 100%|██████████| 2/2 [00:00<00:00,  7.49it/s]"
     ]
    },
    {
     "name": "stdout",
     "output_type": "stream",
     "text": [
      "                   all         46         46      0.876      0.953      0.988      0.813\n"
     ]
    },
    {
     "name": "stderr",
     "output_type": "stream",
     "text": [
      "\n"
     ]
    },
    {
     "name": "stdout",
     "output_type": "stream",
     "text": [
      "\n",
      "      Epoch    GPU_mem     box_om     cls_om     dfl_om     box_oo     cls_oo     dfl_oo  Instances       Size\n"
     ]
    },
    {
     "name": "stderr",
     "output_type": "stream",
     "text": [
      "    100/200      3.21G     0.8404     0.7126      1.405     0.8897     0.9206      1.422         13        640: 100%|██████████| 12/12 [00:01<00:00,  8.34it/s]\n",
      "                 Class     Images  Instances      Box(P          R      mAP50  mAP50-95): 100%|██████████| 2/2 [00:00<00:00,  7.31it/s]"
     ]
    },
    {
     "name": "stdout",
     "output_type": "stream",
     "text": [
      "                   all         46         46       0.93      0.949      0.983      0.813\n"
     ]
    },
    {
     "name": "stderr",
     "output_type": "stream",
     "text": [
      "\n"
     ]
    },
    {
     "name": "stdout",
     "output_type": "stream",
     "text": [
      "\n",
      "      Epoch    GPU_mem     box_om     cls_om     dfl_om     box_oo     cls_oo     dfl_oo  Instances       Size\n"
     ]
    },
    {
     "name": "stderr",
     "output_type": "stream",
     "text": [
      "    101/200      3.21G     0.7907      0.684       1.36     0.8147     0.8315      1.365         13        640: 100%|██████████| 12/12 [00:01<00:00,  8.27it/s]\n",
      "                 Class     Images  Instances      Box(P          R      mAP50  mAP50-95): 100%|██████████| 2/2 [00:00<00:00,  7.63it/s]"
     ]
    },
    {
     "name": "stdout",
     "output_type": "stream",
     "text": [
      "                   all         46         46      0.884      0.915      0.961      0.831\n"
     ]
    },
    {
     "name": "stderr",
     "output_type": "stream",
     "text": [
      "\n"
     ]
    },
    {
     "name": "stdout",
     "output_type": "stream",
     "text": [
      "\n",
      "      Epoch    GPU_mem     box_om     cls_om     dfl_om     box_oo     cls_oo     dfl_oo  Instances       Size\n"
     ]
    },
    {
     "name": "stderr",
     "output_type": "stream",
     "text": [
      "    102/200       3.2G     0.7448     0.6329      1.327     0.7976     0.8021      1.339         11        640: 100%|██████████| 12/12 [00:01<00:00,  8.41it/s]\n",
      "                 Class     Images  Instances      Box(P          R      mAP50  mAP50-95): 100%|██████████| 2/2 [00:00<00:00,  7.64it/s]"
     ]
    },
    {
     "name": "stdout",
     "output_type": "stream",
     "text": [
      "                   all         46         46      0.764      0.957      0.936       0.81\n"
     ]
    },
    {
     "name": "stderr",
     "output_type": "stream",
     "text": [
      "\n"
     ]
    },
    {
     "name": "stdout",
     "output_type": "stream",
     "text": [
      "\n",
      "      Epoch    GPU_mem     box_om     cls_om     dfl_om     box_oo     cls_oo     dfl_oo  Instances       Size\n"
     ]
    },
    {
     "name": "stderr",
     "output_type": "stream",
     "text": [
      "    103/200      3.21G     0.8093     0.6673      1.394      0.861     0.8361      1.411         11        640: 100%|██████████| 12/12 [00:01<00:00,  8.21it/s]\n",
      "                 Class     Images  Instances      Box(P          R      mAP50  mAP50-95): 100%|██████████| 2/2 [00:00<00:00,  7.17it/s]"
     ]
    },
    {
     "name": "stdout",
     "output_type": "stream",
     "text": [
      "                   all         46         46      0.904      0.874      0.935      0.796\n"
     ]
    },
    {
     "name": "stderr",
     "output_type": "stream",
     "text": [
      "\n"
     ]
    },
    {
     "name": "stdout",
     "output_type": "stream",
     "text": [
      "\n",
      "      Epoch    GPU_mem     box_om     cls_om     dfl_om     box_oo     cls_oo     dfl_oo  Instances       Size\n"
     ]
    },
    {
     "name": "stderr",
     "output_type": "stream",
     "text": [
      "    104/200      3.21G     0.7774     0.6621      1.335     0.8643     0.8015      1.362         16        640: 100%|██████████| 12/12 [00:01<00:00,  8.85it/s]\n",
      "                 Class     Images  Instances      Box(P          R      mAP50  mAP50-95): 100%|██████████| 2/2 [00:00<00:00,  7.52it/s]"
     ]
    },
    {
     "name": "stdout",
     "output_type": "stream",
     "text": [
      "                   all         46         46      0.897      0.944      0.972      0.773\n"
     ]
    },
    {
     "name": "stderr",
     "output_type": "stream",
     "text": [
      "\n"
     ]
    },
    {
     "name": "stdout",
     "output_type": "stream",
     "text": [
      "\n",
      "      Epoch    GPU_mem     box_om     cls_om     dfl_om     box_oo     cls_oo     dfl_oo  Instances       Size\n"
     ]
    },
    {
     "name": "stderr",
     "output_type": "stream",
     "text": [
      "    105/200      3.21G     0.7778     0.6739      1.348     0.8723      0.854      1.378         12        640: 100%|██████████| 12/12 [00:01<00:00,  7.55it/s]\n",
      "                 Class     Images  Instances      Box(P          R      mAP50  mAP50-95): 100%|██████████| 2/2 [00:00<00:00,  7.76it/s]"
     ]
    },
    {
     "name": "stdout",
     "output_type": "stream",
     "text": [
      "                   all         46         46      0.945      0.765      0.928      0.808\n"
     ]
    },
    {
     "name": "stderr",
     "output_type": "stream",
     "text": [
      "\n"
     ]
    },
    {
     "name": "stdout",
     "output_type": "stream",
     "text": [
      "\n",
      "      Epoch    GPU_mem     box_om     cls_om     dfl_om     box_oo     cls_oo     dfl_oo  Instances       Size\n"
     ]
    },
    {
     "name": "stderr",
     "output_type": "stream",
     "text": [
      "    106/200      3.21G     0.7933     0.7384      1.385     0.8475     0.8828      1.415         13        640: 100%|██████████| 12/12 [00:01<00:00,  7.88it/s]\n",
      "                 Class     Images  Instances      Box(P          R      mAP50  mAP50-95): 100%|██████████| 2/2 [00:00<00:00,  7.62it/s]"
     ]
    },
    {
     "name": "stdout",
     "output_type": "stream",
     "text": [
      "                   all         46         46       0.87      0.921       0.95      0.837\n"
     ]
    },
    {
     "name": "stderr",
     "output_type": "stream",
     "text": [
      "\n"
     ]
    },
    {
     "name": "stdout",
     "output_type": "stream",
     "text": [
      "\n",
      "      Epoch    GPU_mem     box_om     cls_om     dfl_om     box_oo     cls_oo     dfl_oo  Instances       Size\n"
     ]
    },
    {
     "name": "stderr",
     "output_type": "stream",
     "text": [
      "    107/200      3.21G     0.7673     0.6503       1.34     0.8107     0.8198      1.347         11        640: 100%|██████████| 12/12 [00:01<00:00,  8.65it/s]\n",
      "                 Class     Images  Instances      Box(P          R      mAP50  mAP50-95): 100%|██████████| 2/2 [00:00<00:00,  7.47it/s]"
     ]
    },
    {
     "name": "stdout",
     "output_type": "stream",
     "text": [
      "                   all         46         46      0.813      0.942      0.959      0.845\n"
     ]
    },
    {
     "name": "stderr",
     "output_type": "stream",
     "text": [
      "\n"
     ]
    },
    {
     "name": "stdout",
     "output_type": "stream",
     "text": [
      "\n",
      "      Epoch    GPU_mem     box_om     cls_om     dfl_om     box_oo     cls_oo     dfl_oo  Instances       Size\n"
     ]
    },
    {
     "name": "stderr",
     "output_type": "stream",
     "text": [
      "    108/200      3.21G     0.8046     0.6746      1.386     0.8659     0.8803      1.414         15        640: 100%|██████████| 12/12 [00:01<00:00,  9.09it/s]\n",
      "                 Class     Images  Instances      Box(P          R      mAP50  mAP50-95): 100%|██████████| 2/2 [00:00<00:00,  8.13it/s]"
     ]
    },
    {
     "name": "stdout",
     "output_type": "stream",
     "text": [
      "                   all         46         46      0.903       0.86      0.945      0.828\n"
     ]
    },
    {
     "name": "stderr",
     "output_type": "stream",
     "text": [
      "\n"
     ]
    },
    {
     "name": "stdout",
     "output_type": "stream",
     "text": [
      "\n",
      "      Epoch    GPU_mem     box_om     cls_om     dfl_om     box_oo     cls_oo     dfl_oo  Instances       Size\n"
     ]
    },
    {
     "name": "stderr",
     "output_type": "stream",
     "text": [
      "    109/200       3.2G     0.7955     0.6863      1.369     0.8767     0.8518      1.396          8        640: 100%|██████████| 12/12 [00:01<00:00,  8.18it/s]\n",
      "                 Class     Images  Instances      Box(P          R      mAP50  mAP50-95): 100%|██████████| 2/2 [00:00<00:00,  7.51it/s]"
     ]
    },
    {
     "name": "stdout",
     "output_type": "stream",
     "text": [
      "                   all         46         46      0.821      0.791      0.853      0.712\n"
     ]
    },
    {
     "name": "stderr",
     "output_type": "stream",
     "text": [
      "\n"
     ]
    },
    {
     "name": "stdout",
     "output_type": "stream",
     "text": [
      "\n",
      "      Epoch    GPU_mem     box_om     cls_om     dfl_om     box_oo     cls_oo     dfl_oo  Instances       Size\n"
     ]
    },
    {
     "name": "stderr",
     "output_type": "stream",
     "text": [
      "    110/200       3.2G     0.7657     0.6645      1.341     0.8089      0.835      1.346          8        640: 100%|██████████| 12/12 [00:01<00:00,  8.88it/s]\n",
      "                 Class     Images  Instances      Box(P          R      mAP50  mAP50-95): 100%|██████████| 2/2 [00:00<00:00,  7.39it/s]"
     ]
    },
    {
     "name": "stdout",
     "output_type": "stream",
     "text": [
      "                   all         46         46       0.96       0.85      0.958      0.823\n"
     ]
    },
    {
     "name": "stderr",
     "output_type": "stream",
     "text": [
      "\n"
     ]
    },
    {
     "name": "stdout",
     "output_type": "stream",
     "text": [
      "\n",
      "      Epoch    GPU_mem     box_om     cls_om     dfl_om     box_oo     cls_oo     dfl_oo  Instances       Size\n"
     ]
    },
    {
     "name": "stderr",
     "output_type": "stream",
     "text": [
      "    111/200      3.21G      0.724     0.6018      1.286     0.7778      0.733      1.318         15        640: 100%|██████████| 12/12 [00:01<00:00,  8.09it/s]\n",
      "                 Class     Images  Instances      Box(P          R      mAP50  mAP50-95): 100%|██████████| 2/2 [00:00<00:00,  8.30it/s]"
     ]
    },
    {
     "name": "stdout",
     "output_type": "stream",
     "text": [
      "                   all         46         46      0.888      0.923       0.96      0.829\n"
     ]
    },
    {
     "name": "stderr",
     "output_type": "stream",
     "text": [
      "\n"
     ]
    },
    {
     "name": "stdout",
     "output_type": "stream",
     "text": [
      "\n",
      "      Epoch    GPU_mem     box_om     cls_om     dfl_om     box_oo     cls_oo     dfl_oo  Instances       Size\n"
     ]
    },
    {
     "name": "stderr",
     "output_type": "stream",
     "text": [
      "    112/200       3.2G     0.7301     0.6168      1.321     0.7629     0.7185       1.33          9        640: 100%|██████████| 12/12 [00:01<00:00,  8.00it/s]\n",
      "                 Class     Images  Instances      Box(P          R      mAP50  mAP50-95): 100%|██████████| 2/2 [00:00<00:00,  6.75it/s]"
     ]
    },
    {
     "name": "stdout",
     "output_type": "stream",
     "text": [
      "                   all         46         46      0.979      0.929      0.981      0.859\n"
     ]
    },
    {
     "name": "stderr",
     "output_type": "stream",
     "text": [
      "\n"
     ]
    },
    {
     "name": "stdout",
     "output_type": "stream",
     "text": [
      "\n",
      "      Epoch    GPU_mem     box_om     cls_om     dfl_om     box_oo     cls_oo     dfl_oo  Instances       Size\n"
     ]
    },
    {
     "name": "stderr",
     "output_type": "stream",
     "text": [
      "    113/200      3.21G     0.8006     0.6402       1.38     0.8797     0.8257      1.414         10        640: 100%|██████████| 12/12 [00:01<00:00,  9.17it/s]\n",
      "                 Class     Images  Instances      Box(P          R      mAP50  mAP50-95): 100%|██████████| 2/2 [00:00<00:00,  7.15it/s]"
     ]
    },
    {
     "name": "stdout",
     "output_type": "stream",
     "text": [
      "                   all         46         46      0.882      0.892      0.901      0.777\n"
     ]
    },
    {
     "name": "stderr",
     "output_type": "stream",
     "text": [
      "\n"
     ]
    },
    {
     "name": "stdout",
     "output_type": "stream",
     "text": [
      "\n",
      "      Epoch    GPU_mem     box_om     cls_om     dfl_om     box_oo     cls_oo     dfl_oo  Instances       Size\n"
     ]
    },
    {
     "name": "stderr",
     "output_type": "stream",
     "text": [
      "    114/200      3.21G     0.7825      0.629      1.309     0.8588     0.7319      1.345         16        640: 100%|██████████| 12/12 [00:01<00:00,  9.05it/s]\n",
      "                 Class     Images  Instances      Box(P          R      mAP50  mAP50-95): 100%|██████████| 2/2 [00:00<00:00,  8.41it/s]"
     ]
    },
    {
     "name": "stdout",
     "output_type": "stream",
     "text": [
      "                   all         46         46      0.743      0.952      0.914      0.796\n"
     ]
    },
    {
     "name": "stderr",
     "output_type": "stream",
     "text": [
      "\n"
     ]
    },
    {
     "name": "stdout",
     "output_type": "stream",
     "text": [
      "\n",
      "      Epoch    GPU_mem     box_om     cls_om     dfl_om     box_oo     cls_oo     dfl_oo  Instances       Size\n"
     ]
    },
    {
     "name": "stderr",
     "output_type": "stream",
     "text": [
      "    115/200      3.21G     0.7872     0.6218      1.332     0.8673     0.7642      1.355         15        640: 100%|██████████| 12/12 [00:01<00:00,  8.61it/s]\n",
      "                 Class     Images  Instances      Box(P          R      mAP50  mAP50-95): 100%|██████████| 2/2 [00:00<00:00,  6.91it/s]"
     ]
    },
    {
     "name": "stdout",
     "output_type": "stream",
     "text": [
      "                   all         46         46      0.769      0.948      0.854      0.728\n"
     ]
    },
    {
     "name": "stderr",
     "output_type": "stream",
     "text": [
      "\n"
     ]
    },
    {
     "name": "stdout",
     "output_type": "stream",
     "text": [
      "\n",
      "      Epoch    GPU_mem     box_om     cls_om     dfl_om     box_oo     cls_oo     dfl_oo  Instances       Size\n"
     ]
    },
    {
     "name": "stderr",
     "output_type": "stream",
     "text": [
      "    116/200      3.21G      0.728      0.588      1.329     0.7595     0.7409      1.337         13        640: 100%|██████████| 12/12 [00:01<00:00,  7.15it/s]\n",
      "                 Class     Images  Instances      Box(P          R      mAP50  mAP50-95): 100%|██████████| 2/2 [00:00<00:00,  7.34it/s]"
     ]
    },
    {
     "name": "stdout",
     "output_type": "stream",
     "text": [
      "                   all         46         46       0.88      0.901      0.961      0.842\n"
     ]
    },
    {
     "name": "stderr",
     "output_type": "stream",
     "text": [
      "\n"
     ]
    },
    {
     "name": "stdout",
     "output_type": "stream",
     "text": [
      "\n",
      "      Epoch    GPU_mem     box_om     cls_om     dfl_om     box_oo     cls_oo     dfl_oo  Instances       Size\n"
     ]
    },
    {
     "name": "stderr",
     "output_type": "stream",
     "text": [
      "    117/200      3.21G     0.6967     0.5778      1.263     0.7813     0.7175      1.306         19        640: 100%|██████████| 12/12 [00:01<00:00,  8.68it/s]\n",
      "                 Class     Images  Instances      Box(P          R      mAP50  mAP50-95): 100%|██████████| 2/2 [00:00<00:00,  7.78it/s]"
     ]
    },
    {
     "name": "stdout",
     "output_type": "stream",
     "text": [
      "                   all         46         46      0.722      0.913      0.926      0.805\n"
     ]
    },
    {
     "name": "stderr",
     "output_type": "stream",
     "text": [
      "\n"
     ]
    },
    {
     "name": "stdout",
     "output_type": "stream",
     "text": [
      "\n",
      "      Epoch    GPU_mem     box_om     cls_om     dfl_om     box_oo     cls_oo     dfl_oo  Instances       Size\n"
     ]
    },
    {
     "name": "stderr",
     "output_type": "stream",
     "text": [
      "    118/200      3.21G     0.7248     0.6005      1.317      0.782     0.7672      1.349         16        640: 100%|██████████| 12/12 [00:01<00:00,  8.73it/s]\n",
      "                 Class     Images  Instances      Box(P          R      mAP50  mAP50-95): 100%|██████████| 2/2 [00:00<00:00,  7.78it/s]"
     ]
    },
    {
     "name": "stdout",
     "output_type": "stream",
     "text": [
      "                   all         46         46      0.896      0.981      0.979      0.855\n"
     ]
    },
    {
     "name": "stderr",
     "output_type": "stream",
     "text": [
      "\n"
     ]
    },
    {
     "name": "stdout",
     "output_type": "stream",
     "text": [
      "\n",
      "      Epoch    GPU_mem     box_om     cls_om     dfl_om     box_oo     cls_oo     dfl_oo  Instances       Size\n"
     ]
    },
    {
     "name": "stderr",
     "output_type": "stream",
     "text": [
      "    119/200      3.21G     0.7755     0.6167      1.328     0.8323     0.7783      1.354         17        640: 100%|██████████| 12/12 [00:01<00:00,  8.57it/s]\n",
      "                 Class     Images  Instances      Box(P          R      mAP50  mAP50-95): 100%|██████████| 2/2 [00:00<00:00,  7.62it/s]"
     ]
    },
    {
     "name": "stdout",
     "output_type": "stream",
     "text": [
      "                   all         46         46      0.887      0.935      0.952      0.829\n"
     ]
    },
    {
     "name": "stderr",
     "output_type": "stream",
     "text": [
      "\n"
     ]
    },
    {
     "name": "stdout",
     "output_type": "stream",
     "text": [
      "\n",
      "      Epoch    GPU_mem     box_om     cls_om     dfl_om     box_oo     cls_oo     dfl_oo  Instances       Size\n"
     ]
    },
    {
     "name": "stderr",
     "output_type": "stream",
     "text": [
      "    120/200      3.21G     0.7909     0.6249      1.343     0.8717     0.7844      1.368         13        640: 100%|██████████| 12/12 [00:01<00:00,  7.60it/s]\n",
      "                 Class     Images  Instances      Box(P          R      mAP50  mAP50-95): 100%|██████████| 2/2 [00:00<00:00,  7.35it/s]"
     ]
    },
    {
     "name": "stdout",
     "output_type": "stream",
     "text": [
      "                   all         46         46      0.902      0.917      0.958      0.817\n"
     ]
    },
    {
     "name": "stderr",
     "output_type": "stream",
     "text": [
      "\n"
     ]
    },
    {
     "name": "stdout",
     "output_type": "stream",
     "text": [
      "\n",
      "      Epoch    GPU_mem     box_om     cls_om     dfl_om     box_oo     cls_oo     dfl_oo  Instances       Size\n"
     ]
    },
    {
     "name": "stderr",
     "output_type": "stream",
     "text": [
      "    121/200      3.21G     0.8146     0.6291      1.355     0.8635     0.8044      1.352         14        640: 100%|██████████| 12/12 [00:01<00:00,  7.75it/s]\n",
      "                 Class     Images  Instances      Box(P          R      mAP50  mAP50-95): 100%|██████████| 2/2 [00:00<00:00,  6.92it/s]"
     ]
    },
    {
     "name": "stdout",
     "output_type": "stream",
     "text": [
      "                   all         46         46      0.918      0.876       0.93      0.802\n"
     ]
    },
    {
     "name": "stderr",
     "output_type": "stream",
     "text": [
      "\n"
     ]
    },
    {
     "name": "stdout",
     "output_type": "stream",
     "text": [
      "\n",
      "      Epoch    GPU_mem     box_om     cls_om     dfl_om     box_oo     cls_oo     dfl_oo  Instances       Size\n"
     ]
    },
    {
     "name": "stderr",
     "output_type": "stream",
     "text": [
      "    122/200       3.2G     0.7863     0.6644      1.361     0.8397     0.7846      1.391          9        640: 100%|██████████| 12/12 [00:01<00:00,  8.68it/s]\n",
      "                 Class     Images  Instances      Box(P          R      mAP50  mAP50-95): 100%|██████████| 2/2 [00:00<00:00,  8.01it/s]"
     ]
    },
    {
     "name": "stdout",
     "output_type": "stream",
     "text": [
      "                   all         46         46      0.958      0.894      0.979      0.864\n"
     ]
    },
    {
     "name": "stderr",
     "output_type": "stream",
     "text": [
      "\n"
     ]
    },
    {
     "name": "stdout",
     "output_type": "stream",
     "text": [
      "\n",
      "      Epoch    GPU_mem     box_om     cls_om     dfl_om     box_oo     cls_oo     dfl_oo  Instances       Size\n"
     ]
    },
    {
     "name": "stderr",
     "output_type": "stream",
     "text": [
      "    123/200      3.21G     0.7431     0.6078      1.323     0.7912     0.7403      1.331         16        640: 100%|██████████| 12/12 [00:01<00:00,  7.99it/s]\n",
      "                 Class     Images  Instances      Box(P          R      mAP50  mAP50-95): 100%|██████████| 2/2 [00:00<00:00,  6.10it/s]"
     ]
    },
    {
     "name": "stdout",
     "output_type": "stream",
     "text": [
      "                   all         46         46      0.884       0.96      0.961      0.842\n"
     ]
    },
    {
     "name": "stderr",
     "output_type": "stream",
     "text": [
      "\n"
     ]
    },
    {
     "name": "stdout",
     "output_type": "stream",
     "text": [
      "\n",
      "      Epoch    GPU_mem     box_om     cls_om     dfl_om     box_oo     cls_oo     dfl_oo  Instances       Size\n"
     ]
    },
    {
     "name": "stderr",
     "output_type": "stream",
     "text": [
      "    124/200      3.21G      0.747     0.6851      1.311     0.7963     0.8575      1.328         10        640: 100%|██████████| 12/12 [00:02<00:00,  5.27it/s]\n",
      "                 Class     Images  Instances      Box(P          R      mAP50  mAP50-95): 100%|██████████| 2/2 [00:00<00:00,  5.36it/s]"
     ]
    },
    {
     "name": "stdout",
     "output_type": "stream",
     "text": [
      "                   all         46         46      0.859      0.938      0.959      0.828\n"
     ]
    },
    {
     "name": "stderr",
     "output_type": "stream",
     "text": [
      "\n"
     ]
    },
    {
     "name": "stdout",
     "output_type": "stream",
     "text": [
      "\n",
      "      Epoch    GPU_mem     box_om     cls_om     dfl_om     box_oo     cls_oo     dfl_oo  Instances       Size\n"
     ]
    },
    {
     "name": "stderr",
     "output_type": "stream",
     "text": [
      "    125/200      3.21G     0.7189     0.6334      1.316     0.7731     0.8294      1.326         17        640: 100%|██████████| 12/12 [00:02<00:00,  5.88it/s]\n",
      "                 Class     Images  Instances      Box(P          R      mAP50  mAP50-95): 100%|██████████| 2/2 [00:00<00:00,  5.57it/s]"
     ]
    },
    {
     "name": "stdout",
     "output_type": "stream",
     "text": [
      "                   all         46         46      0.951      0.842      0.961      0.834\n"
     ]
    },
    {
     "name": "stderr",
     "output_type": "stream",
     "text": [
      "\n"
     ]
    },
    {
     "name": "stdout",
     "output_type": "stream",
     "text": [
      "\n",
      "      Epoch    GPU_mem     box_om     cls_om     dfl_om     box_oo     cls_oo     dfl_oo  Instances       Size\n"
     ]
    },
    {
     "name": "stderr",
     "output_type": "stream",
     "text": [
      "    126/200      3.21G     0.7113     0.5934      1.299     0.7724     0.7669      1.309         12        640: 100%|██████████| 12/12 [00:01<00:00,  6.78it/s]\n",
      "                 Class     Images  Instances      Box(P          R      mAP50  mAP50-95): 100%|██████████| 2/2 [00:00<00:00,  5.07it/s]"
     ]
    },
    {
     "name": "stdout",
     "output_type": "stream",
     "text": [
      "                   all         46         46       0.83      0.858      0.852      0.708\n"
     ]
    },
    {
     "name": "stderr",
     "output_type": "stream",
     "text": [
      "\n"
     ]
    },
    {
     "name": "stdout",
     "output_type": "stream",
     "text": [
      "\n",
      "      Epoch    GPU_mem     box_om     cls_om     dfl_om     box_oo     cls_oo     dfl_oo  Instances       Size\n"
     ]
    },
    {
     "name": "stderr",
     "output_type": "stream",
     "text": [
      "    127/200      3.21G     0.7687     0.6426      1.349     0.8289     0.7938      1.388         14        640: 100%|██████████| 12/12 [00:01<00:00,  7.84it/s]\n",
      "                 Class     Images  Instances      Box(P          R      mAP50  mAP50-95): 100%|██████████| 2/2 [00:00<00:00,  6.49it/s]"
     ]
    },
    {
     "name": "stdout",
     "output_type": "stream",
     "text": [
      "                   all         46         46      0.782      0.931      0.888      0.757\n"
     ]
    },
    {
     "name": "stderr",
     "output_type": "stream",
     "text": [
      "\n"
     ]
    },
    {
     "name": "stdout",
     "output_type": "stream",
     "text": [
      "\n",
      "      Epoch    GPU_mem     box_om     cls_om     dfl_om     box_oo     cls_oo     dfl_oo  Instances       Size\n"
     ]
    },
    {
     "name": "stderr",
     "output_type": "stream",
     "text": [
      "    128/200      3.21G     0.7342     0.6175      1.314     0.7767     0.7152      1.311         15        640: 100%|██████████| 12/12 [00:01<00:00,  7.57it/s]\n",
      "                 Class     Images  Instances      Box(P          R      mAP50  mAP50-95): 100%|██████████| 2/2 [00:00<00:00,  5.86it/s]"
     ]
    },
    {
     "name": "stdout",
     "output_type": "stream",
     "text": [
      "                   all         46         46      0.943      0.881      0.965      0.842\n"
     ]
    },
    {
     "name": "stderr",
     "output_type": "stream",
     "text": [
      "\n"
     ]
    },
    {
     "name": "stdout",
     "output_type": "stream",
     "text": [
      "\n",
      "      Epoch    GPU_mem     box_om     cls_om     dfl_om     box_oo     cls_oo     dfl_oo  Instances       Size\n"
     ]
    },
    {
     "name": "stderr",
     "output_type": "stream",
     "text": [
      "    129/200      3.21G     0.7261     0.6058      1.286      0.768     0.7466      1.301         15        640: 100%|██████████| 12/12 [00:01<00:00,  6.87it/s]\n",
      "                 Class     Images  Instances      Box(P          R      mAP50  mAP50-95): 100%|██████████| 2/2 [00:00<00:00,  6.15it/s]"
     ]
    },
    {
     "name": "stdout",
     "output_type": "stream",
     "text": [
      "                   all         46         46      0.878      0.906      0.951      0.794\n"
     ]
    },
    {
     "name": "stderr",
     "output_type": "stream",
     "text": [
      "\n"
     ]
    },
    {
     "name": "stdout",
     "output_type": "stream",
     "text": [
      "\n",
      "      Epoch    GPU_mem     box_om     cls_om     dfl_om     box_oo     cls_oo     dfl_oo  Instances       Size\n"
     ]
    },
    {
     "name": "stderr",
     "output_type": "stream",
     "text": [
      "    130/200      3.21G     0.7032     0.5949      1.286     0.7804     0.7172      1.316         19        640: 100%|██████████| 12/12 [00:01<00:00,  7.57it/s]\n",
      "                 Class     Images  Instances      Box(P          R      mAP50  mAP50-95): 100%|██████████| 2/2 [00:00<00:00,  7.79it/s]"
     ]
    },
    {
     "name": "stdout",
     "output_type": "stream",
     "text": [
      "                   all         46         46      0.746      0.812      0.889      0.754\n"
     ]
    },
    {
     "name": "stderr",
     "output_type": "stream",
     "text": [
      "\n"
     ]
    },
    {
     "name": "stdout",
     "output_type": "stream",
     "text": [
      "\n",
      "      Epoch    GPU_mem     box_om     cls_om     dfl_om     box_oo     cls_oo     dfl_oo  Instances       Size\n"
     ]
    },
    {
     "name": "stderr",
     "output_type": "stream",
     "text": [
      "    131/200      3.21G     0.7461      0.616      1.314     0.7941     0.7736      1.334         16        640: 100%|██████████| 12/12 [00:01<00:00,  9.00it/s]\n",
      "                 Class     Images  Instances      Box(P          R      mAP50  mAP50-95): 100%|██████████| 2/2 [00:00<00:00,  8.31it/s]"
     ]
    },
    {
     "name": "stdout",
     "output_type": "stream",
     "text": [
      "                   all         46         46       0.77      0.906      0.882      0.722\n"
     ]
    },
    {
     "name": "stderr",
     "output_type": "stream",
     "text": [
      "\n"
     ]
    },
    {
     "name": "stdout",
     "output_type": "stream",
     "text": [
      "\n",
      "      Epoch    GPU_mem     box_om     cls_om     dfl_om     box_oo     cls_oo     dfl_oo  Instances       Size\n"
     ]
    },
    {
     "name": "stderr",
     "output_type": "stream",
     "text": [
      "    132/200       3.2G     0.7331     0.5971      1.328     0.7785     0.7575      1.352          7        640: 100%|██████████| 12/12 [00:01<00:00,  8.46it/s]\n",
      "                 Class     Images  Instances      Box(P          R      mAP50  mAP50-95): 100%|██████████| 2/2 [00:00<00:00,  7.72it/s]"
     ]
    },
    {
     "name": "stdout",
     "output_type": "stream",
     "text": [
      "                   all         46         46      0.892      0.896      0.945      0.759\n"
     ]
    },
    {
     "name": "stderr",
     "output_type": "stream",
     "text": [
      "\n"
     ]
    },
    {
     "name": "stdout",
     "output_type": "stream",
     "text": [
      "\n",
      "      Epoch    GPU_mem     box_om     cls_om     dfl_om     box_oo     cls_oo     dfl_oo  Instances       Size\n"
     ]
    },
    {
     "name": "stderr",
     "output_type": "stream",
     "text": [
      "    133/200       3.2G     0.7163     0.5915      1.302     0.7891     0.7566      1.343          9        640: 100%|██████████| 12/12 [00:01<00:00,  7.16it/s]\n",
      "                 Class     Images  Instances      Box(P          R      mAP50  mAP50-95): 100%|██████████| 2/2 [00:00<00:00,  6.35it/s]"
     ]
    },
    {
     "name": "stdout",
     "output_type": "stream",
     "text": [
      "                   all         46         46      0.886      0.931      0.964       0.82\n"
     ]
    },
    {
     "name": "stderr",
     "output_type": "stream",
     "text": [
      "\n"
     ]
    },
    {
     "name": "stdout",
     "output_type": "stream",
     "text": [
      "\n",
      "      Epoch    GPU_mem     box_om     cls_om     dfl_om     box_oo     cls_oo     dfl_oo  Instances       Size\n"
     ]
    },
    {
     "name": "stderr",
     "output_type": "stream",
     "text": [
      "    134/200      3.21G     0.7096     0.5895      1.262     0.7542     0.7123      1.276         17        640: 100%|██████████| 12/12 [00:01<00:00,  7.92it/s]\n",
      "                 Class     Images  Instances      Box(P          R      mAP50  mAP50-95): 100%|██████████| 2/2 [00:00<00:00,  6.56it/s]"
     ]
    },
    {
     "name": "stdout",
     "output_type": "stream",
     "text": [
      "                   all         46         46      0.925      0.912      0.952      0.813\n"
     ]
    },
    {
     "name": "stderr",
     "output_type": "stream",
     "text": [
      "\n"
     ]
    },
    {
     "name": "stdout",
     "output_type": "stream",
     "text": [
      "\n",
      "      Epoch    GPU_mem     box_om     cls_om     dfl_om     box_oo     cls_oo     dfl_oo  Instances       Size\n"
     ]
    },
    {
     "name": "stderr",
     "output_type": "stream",
     "text": [
      "    135/200      3.21G     0.7388     0.6078      1.304     0.8134     0.7448      1.339         15        640: 100%|██████████| 12/12 [00:01<00:00,  7.32it/s]\n",
      "                 Class     Images  Instances      Box(P          R      mAP50  mAP50-95): 100%|██████████| 2/2 [00:00<00:00,  7.92it/s]"
     ]
    },
    {
     "name": "stdout",
     "output_type": "stream",
     "text": [
      "                   all         46         46      0.994        0.9      0.965      0.824\n"
     ]
    },
    {
     "name": "stderr",
     "output_type": "stream",
     "text": [
      "\n"
     ]
    },
    {
     "name": "stdout",
     "output_type": "stream",
     "text": [
      "\n",
      "      Epoch    GPU_mem     box_om     cls_om     dfl_om     box_oo     cls_oo     dfl_oo  Instances       Size\n"
     ]
    },
    {
     "name": "stderr",
     "output_type": "stream",
     "text": [
      "    136/200      3.21G     0.7218     0.5699      1.303     0.7956     0.6893      1.314         15        640: 100%|██████████| 12/12 [00:01<00:00,  8.10it/s]\n",
      "                 Class     Images  Instances      Box(P          R      mAP50  mAP50-95): 100%|██████████| 2/2 [00:00<00:00,  6.27it/s]"
     ]
    },
    {
     "name": "stdout",
     "output_type": "stream",
     "text": [
      "                   all         46         46      0.921       0.81      0.939      0.799\n"
     ]
    },
    {
     "name": "stderr",
     "output_type": "stream",
     "text": [
      "\n"
     ]
    },
    {
     "name": "stdout",
     "output_type": "stream",
     "text": [
      "\n",
      "      Epoch    GPU_mem     box_om     cls_om     dfl_om     box_oo     cls_oo     dfl_oo  Instances       Size\n"
     ]
    },
    {
     "name": "stderr",
     "output_type": "stream",
     "text": [
      "    137/200      3.21G     0.7178     0.5822      1.305     0.7793     0.7032      1.334         17        640: 100%|██████████| 12/12 [00:01<00:00,  7.62it/s]\n",
      "                 Class     Images  Instances      Box(P          R      mAP50  mAP50-95): 100%|██████████| 2/2 [00:00<00:00,  7.42it/s]"
     ]
    },
    {
     "name": "stdout",
     "output_type": "stream",
     "text": [
      "                   all         46         46      0.868      0.888      0.949      0.839\n"
     ]
    },
    {
     "name": "stderr",
     "output_type": "stream",
     "text": [
      "\n"
     ]
    },
    {
     "name": "stdout",
     "output_type": "stream",
     "text": [
      "\n",
      "      Epoch    GPU_mem     box_om     cls_om     dfl_om     box_oo     cls_oo     dfl_oo  Instances       Size\n"
     ]
    },
    {
     "name": "stderr",
     "output_type": "stream",
     "text": [
      "    138/200       3.2G     0.7165     0.5566      1.285     0.7928     0.6508       1.31         11        640: 100%|██████████| 12/12 [00:01<00:00,  7.08it/s]\n",
      "                 Class     Images  Instances      Box(P          R      mAP50  mAP50-95): 100%|██████████| 2/2 [00:00<00:00,  6.25it/s]"
     ]
    },
    {
     "name": "stdout",
     "output_type": "stream",
     "text": [
      "                   all         46         46      0.875      0.926      0.952      0.834\n"
     ]
    },
    {
     "name": "stderr",
     "output_type": "stream",
     "text": [
      "\n"
     ]
    },
    {
     "name": "stdout",
     "output_type": "stream",
     "text": [
      "\n",
      "      Epoch    GPU_mem     box_om     cls_om     dfl_om     box_oo     cls_oo     dfl_oo  Instances       Size\n"
     ]
    },
    {
     "name": "stderr",
     "output_type": "stream",
     "text": [
      "    139/200      3.21G     0.7636     0.6292      1.348     0.8344     0.7906      1.372         12        640: 100%|██████████| 12/12 [00:01<00:00,  7.75it/s]\n",
      "                 Class     Images  Instances      Box(P          R      mAP50  mAP50-95): 100%|██████████| 2/2 [00:00<00:00,  6.26it/s]"
     ]
    },
    {
     "name": "stdout",
     "output_type": "stream",
     "text": [
      "                   all         46         46      0.965      0.929      0.976      0.841\n"
     ]
    },
    {
     "name": "stderr",
     "output_type": "stream",
     "text": [
      "\n"
     ]
    },
    {
     "name": "stdout",
     "output_type": "stream",
     "text": [
      "\n",
      "      Epoch    GPU_mem     box_om     cls_om     dfl_om     box_oo     cls_oo     dfl_oo  Instances       Size\n"
     ]
    },
    {
     "name": "stderr",
     "output_type": "stream",
     "text": [
      "    140/200       3.2G     0.6833     0.5944      1.278     0.7568      0.706      1.324          7        640: 100%|██████████| 12/12 [00:01<00:00,  8.50it/s]\n",
      "                 Class     Images  Instances      Box(P          R      mAP50  mAP50-95): 100%|██████████| 2/2 [00:00<00:00,  8.21it/s]"
     ]
    },
    {
     "name": "stdout",
     "output_type": "stream",
     "text": [
      "                   all         46         46      0.965      0.962      0.988       0.83\n"
     ]
    },
    {
     "name": "stderr",
     "output_type": "stream",
     "text": [
      "\n"
     ]
    },
    {
     "name": "stdout",
     "output_type": "stream",
     "text": [
      "\n",
      "      Epoch    GPU_mem     box_om     cls_om     dfl_om     box_oo     cls_oo     dfl_oo  Instances       Size\n"
     ]
    },
    {
     "name": "stderr",
     "output_type": "stream",
     "text": [
      "    141/200      3.21G     0.6876     0.5511      1.276     0.7628     0.6476      1.306         15        640: 100%|██████████| 12/12 [00:01<00:00,  8.00it/s]\n",
      "                 Class     Images  Instances      Box(P          R      mAP50  mAP50-95): 100%|██████████| 2/2 [00:00<00:00,  7.84it/s]"
     ]
    },
    {
     "name": "stdout",
     "output_type": "stream",
     "text": [
      "                   all         46         46      0.913      0.942      0.969      0.818\n"
     ]
    },
    {
     "name": "stderr",
     "output_type": "stream",
     "text": [
      "\n"
     ]
    },
    {
     "name": "stdout",
     "output_type": "stream",
     "text": [
      "\n",
      "      Epoch    GPU_mem     box_om     cls_om     dfl_om     box_oo     cls_oo     dfl_oo  Instances       Size\n"
     ]
    },
    {
     "name": "stderr",
     "output_type": "stream",
     "text": [
      "    142/200       3.2G     0.7113     0.5796      1.325     0.7555      0.685      1.339         10        640: 100%|██████████| 12/12 [00:01<00:00,  7.77it/s]\n",
      "                 Class     Images  Instances      Box(P          R      mAP50  mAP50-95): 100%|██████████| 2/2 [00:00<00:00,  7.56it/s]"
     ]
    },
    {
     "name": "stdout",
     "output_type": "stream",
     "text": [
      "                   all         46         46      0.887       0.92      0.958      0.831\n"
     ]
    },
    {
     "name": "stderr",
     "output_type": "stream",
     "text": [
      "\n"
     ]
    },
    {
     "name": "stdout",
     "output_type": "stream",
     "text": [
      "\n",
      "      Epoch    GPU_mem     box_om     cls_om     dfl_om     box_oo     cls_oo     dfl_oo  Instances       Size\n"
     ]
    },
    {
     "name": "stderr",
     "output_type": "stream",
     "text": [
      "    143/200       3.2G     0.6862     0.5812      1.277     0.7529     0.6946      1.319          9        640: 100%|██████████| 12/12 [00:01<00:00,  8.72it/s]\n",
      "                 Class     Images  Instances      Box(P          R      mAP50  mAP50-95): 100%|██████████| 2/2 [00:00<00:00,  8.35it/s]"
     ]
    },
    {
     "name": "stdout",
     "output_type": "stream",
     "text": [
      "                   all         46         46      0.924       0.96      0.985      0.865\n"
     ]
    },
    {
     "name": "stderr",
     "output_type": "stream",
     "text": [
      "\n"
     ]
    },
    {
     "name": "stdout",
     "output_type": "stream",
     "text": [
      "\n",
      "      Epoch    GPU_mem     box_om     cls_om     dfl_om     box_oo     cls_oo     dfl_oo  Instances       Size\n"
     ]
    },
    {
     "name": "stderr",
     "output_type": "stream",
     "text": [
      "    144/200      3.21G     0.6589     0.5496      1.266     0.7349     0.7029      1.324         11        640: 100%|██████████| 12/12 [00:01<00:00,  8.55it/s]\n",
      "                 Class     Images  Instances      Box(P          R      mAP50  mAP50-95): 100%|██████████| 2/2 [00:00<00:00,  8.12it/s]"
     ]
    },
    {
     "name": "stdout",
     "output_type": "stream",
     "text": [
      "                   all         46         46      0.813      0.996      0.966      0.838\n"
     ]
    },
    {
     "name": "stderr",
     "output_type": "stream",
     "text": [
      "\n"
     ]
    },
    {
     "name": "stdout",
     "output_type": "stream",
     "text": [
      "\n",
      "      Epoch    GPU_mem     box_om     cls_om     dfl_om     box_oo     cls_oo     dfl_oo  Instances       Size\n"
     ]
    },
    {
     "name": "stderr",
     "output_type": "stream",
     "text": [
      "    145/200       3.2G     0.6658     0.5496      1.258     0.7225     0.6432      1.285          9        640: 100%|██████████| 12/12 [00:01<00:00,  7.82it/s]\n",
      "                 Class     Images  Instances      Box(P          R      mAP50  mAP50-95): 100%|██████████| 2/2 [00:00<00:00,  7.51it/s]"
     ]
    },
    {
     "name": "stdout",
     "output_type": "stream",
     "text": [
      "                   all         46         46      0.833      0.944      0.976      0.865\n"
     ]
    },
    {
     "name": "stderr",
     "output_type": "stream",
     "text": [
      "\n"
     ]
    },
    {
     "name": "stdout",
     "output_type": "stream",
     "text": [
      "\n",
      "      Epoch    GPU_mem     box_om     cls_om     dfl_om     box_oo     cls_oo     dfl_oo  Instances       Size\n"
     ]
    },
    {
     "name": "stderr",
     "output_type": "stream",
     "text": [
      "    146/200       3.2G     0.6916     0.5674      1.289     0.7538     0.6806      1.307          7        640: 100%|██████████| 12/12 [00:01<00:00,  7.52it/s]\n",
      "                 Class     Images  Instances      Box(P          R      mAP50  mAP50-95): 100%|██████████| 2/2 [00:00<00:00,  6.27it/s]"
     ]
    },
    {
     "name": "stdout",
     "output_type": "stream",
     "text": [
      "                   all         46         46      0.959      0.831      0.971       0.85\n"
     ]
    },
    {
     "name": "stderr",
     "output_type": "stream",
     "text": [
      "\n"
     ]
    },
    {
     "name": "stdout",
     "output_type": "stream",
     "text": [
      "\n",
      "      Epoch    GPU_mem     box_om     cls_om     dfl_om     box_oo     cls_oo     dfl_oo  Instances       Size\n"
     ]
    },
    {
     "name": "stderr",
     "output_type": "stream",
     "text": [
      "    147/200      3.21G     0.6982     0.5493      1.284     0.7538     0.6617      1.299         11        640: 100%|██████████| 12/12 [00:01<00:00,  7.38it/s]\n",
      "                 Class     Images  Instances      Box(P          R      mAP50  mAP50-95): 100%|██████████| 2/2 [00:00<00:00,  7.44it/s]"
     ]
    },
    {
     "name": "stdout",
     "output_type": "stream",
     "text": [
      "                   all         46         46      0.951      0.937      0.974      0.856\n"
     ]
    },
    {
     "name": "stderr",
     "output_type": "stream",
     "text": [
      "\n"
     ]
    },
    {
     "name": "stdout",
     "output_type": "stream",
     "text": [
      "\n",
      "      Epoch    GPU_mem     box_om     cls_om     dfl_om     box_oo     cls_oo     dfl_oo  Instances       Size\n"
     ]
    },
    {
     "name": "stderr",
     "output_type": "stream",
     "text": [
      "    148/200      3.21G     0.6621     0.5443      1.257     0.7074     0.6528       1.28         11        640: 100%|██████████| 12/12 [00:01<00:00,  8.42it/s]\n",
      "                 Class     Images  Instances      Box(P          R      mAP50  mAP50-95): 100%|██████████| 2/2 [00:00<00:00,  7.31it/s]"
     ]
    },
    {
     "name": "stdout",
     "output_type": "stream",
     "text": [
      "                   all         46         46      0.975      0.908      0.973      0.839\n"
     ]
    },
    {
     "name": "stderr",
     "output_type": "stream",
     "text": [
      "\n"
     ]
    },
    {
     "name": "stdout",
     "output_type": "stream",
     "text": [
      "\n",
      "      Epoch    GPU_mem     box_om     cls_om     dfl_om     box_oo     cls_oo     dfl_oo  Instances       Size\n"
     ]
    },
    {
     "name": "stderr",
     "output_type": "stream",
     "text": [
      "    149/200       3.2G     0.6964     0.5777       1.29     0.7438     0.6518      1.304          9        640: 100%|██████████| 12/12 [00:01<00:00,  7.65it/s]\n",
      "                 Class     Images  Instances      Box(P          R      mAP50  mAP50-95): 100%|██████████| 2/2 [00:00<00:00,  6.68it/s]"
     ]
    },
    {
     "name": "stdout",
     "output_type": "stream",
     "text": [
      "                   all         46         46      0.964       0.91      0.961      0.841\n"
     ]
    },
    {
     "name": "stderr",
     "output_type": "stream",
     "text": [
      "\n"
     ]
    },
    {
     "name": "stdout",
     "output_type": "stream",
     "text": [
      "\n",
      "      Epoch    GPU_mem     box_om     cls_om     dfl_om     box_oo     cls_oo     dfl_oo  Instances       Size\n"
     ]
    },
    {
     "name": "stderr",
     "output_type": "stream",
     "text": [
      "    150/200      3.21G     0.7064     0.5573      1.269       0.76     0.7424      1.283         16        640: 100%|██████████| 12/12 [00:01<00:00,  7.07it/s]\n",
      "                 Class     Images  Instances      Box(P          R      mAP50  mAP50-95): 100%|██████████| 2/2 [00:00<00:00,  6.70it/s]"
     ]
    },
    {
     "name": "stdout",
     "output_type": "stream",
     "text": [
      "                   all         46         46      0.945      0.829      0.946      0.813\n"
     ]
    },
    {
     "name": "stderr",
     "output_type": "stream",
     "text": [
      "\n"
     ]
    },
    {
     "name": "stdout",
     "output_type": "stream",
     "text": [
      "\n",
      "      Epoch    GPU_mem     box_om     cls_om     dfl_om     box_oo     cls_oo     dfl_oo  Instances       Size\n"
     ]
    },
    {
     "name": "stderr",
     "output_type": "stream",
     "text": [
      "    151/200      3.21G     0.7151     0.5525       1.28     0.7489     0.7055      1.297         20        640: 100%|██████████| 12/12 [00:01<00:00,  7.77it/s]\n",
      "                 Class     Images  Instances      Box(P          R      mAP50  mAP50-95): 100%|██████████| 2/2 [00:00<00:00,  7.85it/s]"
     ]
    },
    {
     "name": "stdout",
     "output_type": "stream",
     "text": [
      "                   all         46         46       0.95      0.853      0.949      0.801\n"
     ]
    },
    {
     "name": "stderr",
     "output_type": "stream",
     "text": [
      "\n"
     ]
    },
    {
     "name": "stdout",
     "output_type": "stream",
     "text": [
      "\n",
      "      Epoch    GPU_mem     box_om     cls_om     dfl_om     box_oo     cls_oo     dfl_oo  Instances       Size\n"
     ]
    },
    {
     "name": "stderr",
     "output_type": "stream",
     "text": [
      "    152/200      3.21G     0.6905     0.5454      1.265     0.7524     0.6467      1.286         15        640: 100%|██████████| 12/12 [00:01<00:00,  8.58it/s]\n",
      "                 Class     Images  Instances      Box(P          R      mAP50  mAP50-95): 100%|██████████| 2/2 [00:00<00:00,  8.74it/s]"
     ]
    },
    {
     "name": "stdout",
     "output_type": "stream",
     "text": [
      "                   all         46         46      0.916      0.896      0.961      0.833\n"
     ]
    },
    {
     "name": "stderr",
     "output_type": "stream",
     "text": [
      "\n"
     ]
    },
    {
     "name": "stdout",
     "output_type": "stream",
     "text": [
      "\n",
      "      Epoch    GPU_mem     box_om     cls_om     dfl_om     box_oo     cls_oo     dfl_oo  Instances       Size\n"
     ]
    },
    {
     "name": "stderr",
     "output_type": "stream",
     "text": [
      "    153/200      3.21G     0.6679     0.5591      1.257     0.7203     0.6776       1.28         17        640: 100%|██████████| 12/12 [00:01<00:00,  8.25it/s]\n",
      "                 Class     Images  Instances      Box(P          R      mAP50  mAP50-95): 100%|██████████| 2/2 [00:00<00:00,  8.02it/s]"
     ]
    },
    {
     "name": "stdout",
     "output_type": "stream",
     "text": [
      "                   all         46         46      0.945      0.942      0.966      0.817\n"
     ]
    },
    {
     "name": "stderr",
     "output_type": "stream",
     "text": [
      "\n"
     ]
    },
    {
     "name": "stdout",
     "output_type": "stream",
     "text": [
      "\n",
      "      Epoch    GPU_mem     box_om     cls_om     dfl_om     box_oo     cls_oo     dfl_oo  Instances       Size\n"
     ]
    },
    {
     "name": "stderr",
     "output_type": "stream",
     "text": [
      "    154/200       3.2G     0.6555     0.5249      1.257     0.7101     0.6338      1.279         12        640: 100%|██████████| 12/12 [00:01<00:00,  8.45it/s]\n",
      "                 Class     Images  Instances      Box(P          R      mAP50  mAP50-95): 100%|██████████| 2/2 [00:00<00:00,  6.85it/s]"
     ]
    },
    {
     "name": "stdout",
     "output_type": "stream",
     "text": [
      "                   all         46         46      0.884      0.941       0.96      0.809\n"
     ]
    },
    {
     "name": "stderr",
     "output_type": "stream",
     "text": [
      "\n"
     ]
    },
    {
     "name": "stdout",
     "output_type": "stream",
     "text": [
      "\n",
      "      Epoch    GPU_mem     box_om     cls_om     dfl_om     box_oo     cls_oo     dfl_oo  Instances       Size\n"
     ]
    },
    {
     "name": "stderr",
     "output_type": "stream",
     "text": [
      "    155/200      3.21G     0.6912     0.5485      1.289     0.7243      0.675      1.293         15        640: 100%|██████████| 12/12 [00:01<00:00,  7.81it/s]\n",
      "                 Class     Images  Instances      Box(P          R      mAP50  mAP50-95): 100%|██████████| 2/2 [00:00<00:00,  6.15it/s]"
     ]
    },
    {
     "name": "stdout",
     "output_type": "stream",
     "text": [
      "                   all         46         46      0.905      0.959      0.967      0.828\n"
     ]
    },
    {
     "name": "stderr",
     "output_type": "stream",
     "text": [
      "\n"
     ]
    },
    {
     "name": "stdout",
     "output_type": "stream",
     "text": [
      "\n",
      "      Epoch    GPU_mem     box_om     cls_om     dfl_om     box_oo     cls_oo     dfl_oo  Instances       Size\n"
     ]
    },
    {
     "name": "stderr",
     "output_type": "stream",
     "text": [
      "    156/200      3.21G     0.6704     0.5265      1.257     0.7377     0.6222      1.274         12        640: 100%|██████████| 12/12 [00:01<00:00,  8.12it/s]\n",
      "                 Class     Images  Instances      Box(P          R      mAP50  mAP50-95): 100%|██████████| 2/2 [00:00<00:00,  7.36it/s]"
     ]
    },
    {
     "name": "stdout",
     "output_type": "stream",
     "text": [
      "                   all         46         46      0.873      0.943      0.966      0.846\n"
     ]
    },
    {
     "name": "stderr",
     "output_type": "stream",
     "text": [
      "\n"
     ]
    },
    {
     "name": "stdout",
     "output_type": "stream",
     "text": [
      "\n",
      "      Epoch    GPU_mem     box_om     cls_om     dfl_om     box_oo     cls_oo     dfl_oo  Instances       Size\n"
     ]
    },
    {
     "name": "stderr",
     "output_type": "stream",
     "text": [
      "    157/200      3.21G     0.6136     0.5297      1.209     0.6777      0.625      1.251         17        640: 100%|██████████| 12/12 [00:01<00:00,  8.74it/s]\n",
      "                 Class     Images  Instances      Box(P          R      mAP50  mAP50-95): 100%|██████████| 2/2 [00:00<00:00,  8.06it/s]"
     ]
    },
    {
     "name": "stdout",
     "output_type": "stream",
     "text": [
      "                   all         46         46      0.945      0.929      0.977      0.844\n"
     ]
    },
    {
     "name": "stderr",
     "output_type": "stream",
     "text": [
      "\n"
     ]
    },
    {
     "name": "stdout",
     "output_type": "stream",
     "text": [
      "\n",
      "      Epoch    GPU_mem     box_om     cls_om     dfl_om     box_oo     cls_oo     dfl_oo  Instances       Size\n"
     ]
    },
    {
     "name": "stderr",
     "output_type": "stream",
     "text": [
      "    158/200      3.21G     0.6374     0.4923       1.23     0.6963     0.6478      1.237         15        640: 100%|██████████| 12/12 [00:01<00:00,  8.43it/s]\n",
      "                 Class     Images  Instances      Box(P          R      mAP50  mAP50-95): 100%|██████████| 2/2 [00:00<00:00,  7.93it/s]"
     ]
    },
    {
     "name": "stdout",
     "output_type": "stream",
     "text": [
      "                   all         46         46      0.948      0.932      0.974      0.857\n"
     ]
    },
    {
     "name": "stderr",
     "output_type": "stream",
     "text": [
      "\n"
     ]
    },
    {
     "name": "stdout",
     "output_type": "stream",
     "text": [
      "\n",
      "      Epoch    GPU_mem     box_om     cls_om     dfl_om     box_oo     cls_oo     dfl_oo  Instances       Size\n"
     ]
    },
    {
     "name": "stderr",
     "output_type": "stream",
     "text": [
      "    159/200      3.21G     0.6452     0.5116      1.227     0.6921     0.6392      1.232         18        640: 100%|██████████| 12/12 [00:01<00:00,  8.30it/s]\n",
      "                 Class     Images  Instances      Box(P          R      mAP50  mAP50-95): 100%|██████████| 2/2 [00:00<00:00,  7.42it/s]"
     ]
    },
    {
     "name": "stdout",
     "output_type": "stream",
     "text": [
      "                   all         46         46      0.923      0.937      0.974      0.849\n"
     ]
    },
    {
     "name": "stderr",
     "output_type": "stream",
     "text": [
      "\n"
     ]
    },
    {
     "name": "stdout",
     "output_type": "stream",
     "text": [
      "\n",
      "      Epoch    GPU_mem     box_om     cls_om     dfl_om     box_oo     cls_oo     dfl_oo  Instances       Size\n"
     ]
    },
    {
     "name": "stderr",
     "output_type": "stream",
     "text": [
      "    160/200      3.21G     0.6788     0.5259      1.254     0.7411     0.6329      1.271         12        640: 100%|██████████| 12/12 [00:01<00:00,  7.13it/s]\n",
      "                 Class     Images  Instances      Box(P          R      mAP50  mAP50-95): 100%|██████████| 2/2 [00:00<00:00,  6.24it/s]"
     ]
    },
    {
     "name": "stdout",
     "output_type": "stream",
     "text": [
      "                   all         46         46      0.862      0.923      0.965      0.825\n"
     ]
    },
    {
     "name": "stderr",
     "output_type": "stream",
     "text": [
      "\n"
     ]
    },
    {
     "name": "stdout",
     "output_type": "stream",
     "text": [
      "\n",
      "      Epoch    GPU_mem     box_om     cls_om     dfl_om     box_oo     cls_oo     dfl_oo  Instances       Size\n"
     ]
    },
    {
     "name": "stderr",
     "output_type": "stream",
     "text": [
      "    161/200      3.21G     0.6584     0.5714      1.259     0.7229     0.6677      1.276         13        640: 100%|██████████| 12/12 [00:01<00:00,  7.22it/s]\n",
      "                 Class     Images  Instances      Box(P          R      mAP50  mAP50-95): 100%|██████████| 2/2 [00:00<00:00,  7.64it/s]"
     ]
    },
    {
     "name": "stdout",
     "output_type": "stream",
     "text": [
      "                   all         46         46      0.929      0.963      0.977      0.846\n"
     ]
    },
    {
     "name": "stderr",
     "output_type": "stream",
     "text": [
      "\n"
     ]
    },
    {
     "name": "stdout",
     "output_type": "stream",
     "text": [
      "\n",
      "      Epoch    GPU_mem     box_om     cls_om     dfl_om     box_oo     cls_oo     dfl_oo  Instances       Size\n"
     ]
    },
    {
     "name": "stderr",
     "output_type": "stream",
     "text": [
      "    162/200      3.21G     0.6818     0.5486       1.25     0.7306     0.6545      1.257         15        640: 100%|██████████| 12/12 [00:01<00:00,  7.05it/s]\n",
      "                 Class     Images  Instances      Box(P          R      mAP50  mAP50-95): 100%|██████████| 2/2 [00:00<00:00,  7.90it/s]"
     ]
    },
    {
     "name": "stdout",
     "output_type": "stream",
     "text": [
      "                   all         46         46      0.947      0.929      0.978       0.85\n"
     ]
    },
    {
     "name": "stderr",
     "output_type": "stream",
     "text": [
      "\n"
     ]
    },
    {
     "name": "stdout",
     "output_type": "stream",
     "text": [
      "\n",
      "      Epoch    GPU_mem     box_om     cls_om     dfl_om     box_oo     cls_oo     dfl_oo  Instances       Size\n"
     ]
    },
    {
     "name": "stderr",
     "output_type": "stream",
     "text": [
      "    163/200       3.2G     0.6772     0.5569      1.238     0.7222     0.6516      1.261         11        640: 100%|██████████| 12/12 [00:01<00:00,  8.02it/s]\n",
      "                 Class     Images  Instances      Box(P          R      mAP50  mAP50-95): 100%|██████████| 2/2 [00:00<00:00,  6.52it/s]"
     ]
    },
    {
     "name": "stdout",
     "output_type": "stream",
     "text": [
      "                   all         46         46      0.939       0.93      0.976      0.833\n"
     ]
    },
    {
     "name": "stderr",
     "output_type": "stream",
     "text": [
      "\n"
     ]
    },
    {
     "name": "stdout",
     "output_type": "stream",
     "text": [
      "\n",
      "      Epoch    GPU_mem     box_om     cls_om     dfl_om     box_oo     cls_oo     dfl_oo  Instances       Size\n"
     ]
    },
    {
     "name": "stderr",
     "output_type": "stream",
     "text": [
      "    164/200       3.2G     0.6502     0.5381      1.248     0.7167     0.6166      1.272         10        640: 100%|██████████| 12/12 [00:01<00:00,  8.21it/s]\n",
      "                 Class     Images  Instances      Box(P          R      mAP50  mAP50-95): 100%|██████████| 2/2 [00:00<00:00,  7.27it/s]"
     ]
    },
    {
     "name": "stdout",
     "output_type": "stream",
     "text": [
      "                   all         46         46      0.894      0.962      0.971      0.859\n"
     ]
    },
    {
     "name": "stderr",
     "output_type": "stream",
     "text": [
      "\n"
     ]
    },
    {
     "name": "stdout",
     "output_type": "stream",
     "text": [
      "\n",
      "      Epoch    GPU_mem     box_om     cls_om     dfl_om     box_oo     cls_oo     dfl_oo  Instances       Size\n"
     ]
    },
    {
     "name": "stderr",
     "output_type": "stream",
     "text": [
      "    165/200      3.21G     0.6413     0.5182      1.237     0.6918     0.5995      1.268         11        640: 100%|██████████| 12/12 [00:01<00:00,  7.05it/s]\n",
      "                 Class     Images  Instances      Box(P          R      mAP50  mAP50-95): 100%|██████████| 2/2 [00:00<00:00,  7.86it/s]"
     ]
    },
    {
     "name": "stdout",
     "output_type": "stream",
     "text": [
      "                   all         46         46       0.92      0.887      0.974      0.854\n"
     ]
    },
    {
     "name": "stderr",
     "output_type": "stream",
     "text": [
      "\n"
     ]
    },
    {
     "name": "stdout",
     "output_type": "stream",
     "text": [
      "\n",
      "      Epoch    GPU_mem     box_om     cls_om     dfl_om     box_oo     cls_oo     dfl_oo  Instances       Size\n"
     ]
    },
    {
     "name": "stderr",
     "output_type": "stream",
     "text": [
      "    166/200      3.21G     0.6693     0.5259      1.258     0.7189     0.6321      1.269         15        640: 100%|██████████| 12/12 [00:01<00:00,  8.27it/s]\n",
      "                 Class     Images  Instances      Box(P          R      mAP50  mAP50-95): 100%|██████████| 2/2 [00:00<00:00,  7.10it/s]"
     ]
    },
    {
     "name": "stdout",
     "output_type": "stream",
     "text": [
      "                   all         46         46      0.941          1      0.994       0.87\n"
     ]
    },
    {
     "name": "stderr",
     "output_type": "stream",
     "text": [
      "\n"
     ]
    },
    {
     "name": "stdout",
     "output_type": "stream",
     "text": [
      "\n",
      "      Epoch    GPU_mem     box_om     cls_om     dfl_om     box_oo     cls_oo     dfl_oo  Instances       Size\n"
     ]
    },
    {
     "name": "stderr",
     "output_type": "stream",
     "text": [
      "    167/200      3.21G      0.672     0.5346      1.255     0.7406     0.6382      1.278         15        640: 100%|██████████| 12/12 [00:01<00:00,  8.44it/s]\n",
      "                 Class     Images  Instances      Box(P          R      mAP50  mAP50-95): 100%|██████████| 2/2 [00:00<00:00,  8.15it/s]"
     ]
    },
    {
     "name": "stdout",
     "output_type": "stream",
     "text": [
      "                   all         46         46      0.979      0.953      0.992      0.881\n"
     ]
    },
    {
     "name": "stderr",
     "output_type": "stream",
     "text": [
      "\n"
     ]
    },
    {
     "name": "stdout",
     "output_type": "stream",
     "text": [
      "\n",
      "      Epoch    GPU_mem     box_om     cls_om     dfl_om     box_oo     cls_oo     dfl_oo  Instances       Size\n"
     ]
    },
    {
     "name": "stderr",
     "output_type": "stream",
     "text": [
      "    168/200      3.21G     0.6255     0.5152      1.229     0.6734     0.5998      1.237         12        640: 100%|██████████| 12/12 [00:01<00:00,  8.36it/s]\n",
      "                 Class     Images  Instances      Box(P          R      mAP50  mAP50-95): 100%|██████████| 2/2 [00:00<00:00,  6.88it/s]"
     ]
    },
    {
     "name": "stdout",
     "output_type": "stream",
     "text": [
      "                   all         46         46      0.949      0.994      0.989      0.869\n"
     ]
    },
    {
     "name": "stderr",
     "output_type": "stream",
     "text": [
      "\n"
     ]
    },
    {
     "name": "stdout",
     "output_type": "stream",
     "text": [
      "\n",
      "      Epoch    GPU_mem     box_om     cls_om     dfl_om     box_oo     cls_oo     dfl_oo  Instances       Size\n"
     ]
    },
    {
     "name": "stderr",
     "output_type": "stream",
     "text": [
      "    169/200       3.2G     0.6702     0.5301       1.22     0.7315     0.6189      1.243          8        640: 100%|██████████| 12/12 [00:01<00:00,  8.17it/s]\n",
      "                 Class     Images  Instances      Box(P          R      mAP50  mAP50-95): 100%|██████████| 2/2 [00:00<00:00,  7.83it/s]"
     ]
    },
    {
     "name": "stdout",
     "output_type": "stream",
     "text": [
      "                   all         46         46      0.966      0.922      0.983      0.851\n"
     ]
    },
    {
     "name": "stderr",
     "output_type": "stream",
     "text": [
      "\n"
     ]
    },
    {
     "name": "stdout",
     "output_type": "stream",
     "text": [
      "\n",
      "      Epoch    GPU_mem     box_om     cls_om     dfl_om     box_oo     cls_oo     dfl_oo  Instances       Size\n"
     ]
    },
    {
     "name": "stderr",
     "output_type": "stream",
     "text": [
      "    170/200      3.21G     0.7035     0.5311      1.263     0.7438     0.6572      1.271         15        640: 100%|██████████| 12/12 [00:01<00:00,  7.08it/s]\n",
      "                 Class     Images  Instances      Box(P          R      mAP50  mAP50-95): 100%|██████████| 2/2 [00:00<00:00,  8.08it/s]"
     ]
    },
    {
     "name": "stdout",
     "output_type": "stream",
     "text": [
      "                   all         46         46      0.939      0.954      0.966      0.808\n"
     ]
    },
    {
     "name": "stderr",
     "output_type": "stream",
     "text": [
      "\n"
     ]
    },
    {
     "name": "stdout",
     "output_type": "stream",
     "text": [
      "\n",
      "      Epoch    GPU_mem     box_om     cls_om     dfl_om     box_oo     cls_oo     dfl_oo  Instances       Size\n"
     ]
    },
    {
     "name": "stderr",
     "output_type": "stream",
     "text": [
      "    171/200       3.2G     0.6558     0.5106      1.236     0.6966     0.5728      1.244         12        640: 100%|██████████| 12/12 [00:01<00:00,  8.09it/s]\n",
      "                 Class     Images  Instances      Box(P          R      mAP50  mAP50-95): 100%|██████████| 2/2 [00:00<00:00,  7.68it/s]"
     ]
    },
    {
     "name": "stdout",
     "output_type": "stream",
     "text": [
      "                   all         46         46      0.931      0.937      0.966      0.849\n"
     ]
    },
    {
     "name": "stderr",
     "output_type": "stream",
     "text": [
      "\n"
     ]
    },
    {
     "name": "stdout",
     "output_type": "stream",
     "text": [
      "\n",
      "      Epoch    GPU_mem     box_om     cls_om     dfl_om     box_oo     cls_oo     dfl_oo  Instances       Size\n"
     ]
    },
    {
     "name": "stderr",
     "output_type": "stream",
     "text": [
      "    172/200       3.2G     0.5968     0.5311      1.208     0.6772     0.6117      1.224          9        640: 100%|██████████| 12/12 [00:01<00:00,  8.85it/s]\n",
      "                 Class     Images  Instances      Box(P          R      mAP50  mAP50-95): 100%|██████████| 2/2 [00:00<00:00,  6.63it/s]"
     ]
    },
    {
     "name": "stdout",
     "output_type": "stream",
     "text": [
      "                   all         46         46      0.914      0.955      0.972      0.869\n"
     ]
    },
    {
     "name": "stderr",
     "output_type": "stream",
     "text": [
      "\n"
     ]
    },
    {
     "name": "stdout",
     "output_type": "stream",
     "text": [
      "\n",
      "      Epoch    GPU_mem     box_om     cls_om     dfl_om     box_oo     cls_oo     dfl_oo  Instances       Size\n"
     ]
    },
    {
     "name": "stderr",
     "output_type": "stream",
     "text": [
      "    173/200      3.21G     0.6077     0.4982      1.222     0.6601     0.5757      1.233         16        640: 100%|██████████| 12/12 [00:01<00:00,  8.69it/s]\n",
      "                 Class     Images  Instances      Box(P          R      mAP50  mAP50-95): 100%|██████████| 2/2 [00:00<00:00,  7.56it/s]"
     ]
    },
    {
     "name": "stdout",
     "output_type": "stream",
     "text": [
      "                   all         46         46      0.941      0.899       0.97      0.874\n"
     ]
    },
    {
     "name": "stderr",
     "output_type": "stream",
     "text": [
      "\n"
     ]
    },
    {
     "name": "stdout",
     "output_type": "stream",
     "text": [
      "\n",
      "      Epoch    GPU_mem     box_om     cls_om     dfl_om     box_oo     cls_oo     dfl_oo  Instances       Size\n"
     ]
    },
    {
     "name": "stderr",
     "output_type": "stream",
     "text": [
      "    174/200      3.21G     0.6405     0.5225      1.229     0.7004      0.658       1.25         12        640: 100%|██████████| 12/12 [00:01<00:00,  7.75it/s]\n",
      "                 Class     Images  Instances      Box(P          R      mAP50  mAP50-95): 100%|██████████| 2/2 [00:00<00:00,  6.73it/s]"
     ]
    },
    {
     "name": "stdout",
     "output_type": "stream",
     "text": [
      "                   all         46         46      0.838      0.958      0.953      0.845\n"
     ]
    },
    {
     "name": "stderr",
     "output_type": "stream",
     "text": [
      "\n"
     ]
    },
    {
     "name": "stdout",
     "output_type": "stream",
     "text": [
      "\n",
      "      Epoch    GPU_mem     box_om     cls_om     dfl_om     box_oo     cls_oo     dfl_oo  Instances       Size\n"
     ]
    },
    {
     "name": "stderr",
     "output_type": "stream",
     "text": [
      "    175/200      3.21G     0.6309      0.498      1.217     0.6701     0.5838      1.214         10        640: 100%|██████████| 12/12 [00:01<00:00,  7.49it/s]\n",
      "                 Class     Images  Instances      Box(P          R      mAP50  mAP50-95): 100%|██████████| 2/2 [00:00<00:00,  6.21it/s]"
     ]
    },
    {
     "name": "stdout",
     "output_type": "stream",
     "text": [
      "                   all         46         46      0.994      0.886      0.958      0.839\n"
     ]
    },
    {
     "name": "stderr",
     "output_type": "stream",
     "text": [
      "\n"
     ]
    },
    {
     "name": "stdout",
     "output_type": "stream",
     "text": [
      "\n",
      "      Epoch    GPU_mem     box_om     cls_om     dfl_om     box_oo     cls_oo     dfl_oo  Instances       Size\n"
     ]
    },
    {
     "name": "stderr",
     "output_type": "stream",
     "text": [
      "    176/200       3.2G      0.626     0.5134       1.23     0.6788     0.6144      1.236          9        640: 100%|██████████| 12/12 [00:01<00:00,  7.39it/s]\n",
      "                 Class     Images  Instances      Box(P          R      mAP50  mAP50-95): 100%|██████████| 2/2 [00:00<00:00,  7.14it/s]"
     ]
    },
    {
     "name": "stdout",
     "output_type": "stream",
     "text": [
      "                   all         46         46      0.922      0.929      0.942       0.82\n"
     ]
    },
    {
     "name": "stderr",
     "output_type": "stream",
     "text": [
      "\n"
     ]
    },
    {
     "name": "stdout",
     "output_type": "stream",
     "text": [
      "\n",
      "      Epoch    GPU_mem     box_om     cls_om     dfl_om     box_oo     cls_oo     dfl_oo  Instances       Size\n"
     ]
    },
    {
     "name": "stderr",
     "output_type": "stream",
     "text": [
      "    177/200       3.2G     0.6666     0.5839      1.273      0.722      0.669      1.307          7        640: 100%|██████████| 12/12 [00:01<00:00,  7.23it/s]\n",
      "                 Class     Images  Instances      Box(P          R      mAP50  mAP50-95): 100%|██████████| 2/2 [00:00<00:00,  7.35it/s]"
     ]
    },
    {
     "name": "stdout",
     "output_type": "stream",
     "text": [
      "                   all         46         46      0.977      0.887      0.952       0.84\n"
     ]
    },
    {
     "name": "stderr",
     "output_type": "stream",
     "text": [
      "\n"
     ]
    },
    {
     "name": "stdout",
     "output_type": "stream",
     "text": [
      "\n",
      "      Epoch    GPU_mem     box_om     cls_om     dfl_om     box_oo     cls_oo     dfl_oo  Instances       Size\n"
     ]
    },
    {
     "name": "stderr",
     "output_type": "stream",
     "text": [
      "    178/200      3.21G     0.6388     0.5088      1.257     0.6857     0.6279       1.25         11        640: 100%|██████████| 12/12 [00:01<00:00,  7.22it/s]\n",
      "                 Class     Images  Instances      Box(P          R      mAP50  mAP50-95): 100%|██████████| 2/2 [00:00<00:00,  6.24it/s]"
     ]
    },
    {
     "name": "stdout",
     "output_type": "stream",
     "text": [
      "                   all         46         46      0.962      0.913      0.973      0.864\n"
     ]
    },
    {
     "name": "stderr",
     "output_type": "stream",
     "text": [
      "\n"
     ]
    },
    {
     "name": "stdout",
     "output_type": "stream",
     "text": [
      "\n",
      "      Epoch    GPU_mem     box_om     cls_om     dfl_om     box_oo     cls_oo     dfl_oo  Instances       Size\n"
     ]
    },
    {
     "name": "stderr",
     "output_type": "stream",
     "text": [
      "    179/200       3.2G     0.6225     0.5021      1.218     0.6922      0.611      1.251          7        640: 100%|██████████| 12/12 [00:01<00:00,  6.98it/s]\n",
      "                 Class     Images  Instances      Box(P          R      mAP50  mAP50-95): 100%|██████████| 2/2 [00:00<00:00,  6.81it/s]"
     ]
    },
    {
     "name": "stdout",
     "output_type": "stream",
     "text": [
      "                   all         46         46      0.945      0.909      0.976       0.88\n"
     ]
    },
    {
     "name": "stderr",
     "output_type": "stream",
     "text": [
      "\n"
     ]
    },
    {
     "name": "stdout",
     "output_type": "stream",
     "text": [
      "\n",
      "      Epoch    GPU_mem     box_om     cls_om     dfl_om     box_oo     cls_oo     dfl_oo  Instances       Size\n"
     ]
    },
    {
     "name": "stderr",
     "output_type": "stream",
     "text": [
      "    180/200      3.21G     0.6456     0.5079      1.232      0.682     0.6194      1.223         14        640: 100%|██████████| 12/12 [00:01<00:00,  6.49it/s]\n",
      "                 Class     Images  Instances      Box(P          R      mAP50  mAP50-95): 100%|██████████| 2/2 [00:00<00:00,  6.94it/s]"
     ]
    },
    {
     "name": "stdout",
     "output_type": "stream",
     "text": [
      "                   all         46         46      0.939      0.846      0.965      0.848\n"
     ]
    },
    {
     "name": "stderr",
     "output_type": "stream",
     "text": [
      "\n"
     ]
    },
    {
     "name": "stdout",
     "output_type": "stream",
     "text": [
      "\n",
      "      Epoch    GPU_mem     box_om     cls_om     dfl_om     box_oo     cls_oo     dfl_oo  Instances       Size\n"
     ]
    },
    {
     "name": "stderr",
     "output_type": "stream",
     "text": [
      "    181/200      3.21G     0.6222     0.5029      1.236     0.6925     0.5926      1.259         13        640: 100%|██████████| 12/12 [00:01<00:00,  7.72it/s]\n",
      "                 Class     Images  Instances      Box(P          R      mAP50  mAP50-95): 100%|██████████| 2/2 [00:00<00:00,  7.53it/s]"
     ]
    },
    {
     "name": "stdout",
     "output_type": "stream",
     "text": [
      "                   all         46         46      0.926      0.946      0.969       0.87\n"
     ]
    },
    {
     "name": "stderr",
     "output_type": "stream",
     "text": [
      "\n"
     ]
    },
    {
     "name": "stdout",
     "output_type": "stream",
     "text": [
      "\n",
      "      Epoch    GPU_mem     box_om     cls_om     dfl_om     box_oo     cls_oo     dfl_oo  Instances       Size\n"
     ]
    },
    {
     "name": "stderr",
     "output_type": "stream",
     "text": [
      "    182/200      3.21G     0.6402      0.484      1.216     0.7129      0.579       1.23         19        640: 100%|██████████| 12/12 [00:01<00:00,  9.06it/s]\n",
      "                 Class     Images  Instances      Box(P          R      mAP50  mAP50-95): 100%|██████████| 2/2 [00:00<00:00,  7.67it/s]"
     ]
    },
    {
     "name": "stdout",
     "output_type": "stream",
     "text": [
      "                   all         46         46      0.895      0.946      0.955      0.835\n"
     ]
    },
    {
     "name": "stderr",
     "output_type": "stream",
     "text": [
      "\n"
     ]
    },
    {
     "name": "stdout",
     "output_type": "stream",
     "text": [
      "\n",
      "      Epoch    GPU_mem     box_om     cls_om     dfl_om     box_oo     cls_oo     dfl_oo  Instances       Size\n"
     ]
    },
    {
     "name": "stderr",
     "output_type": "stream",
     "text": [
      "    183/200       3.2G     0.6278     0.4979      1.242     0.6781     0.5568      1.268          9        640: 100%|██████████| 12/12 [00:01<00:00,  9.22it/s]\n",
      "                 Class     Images  Instances      Box(P          R      mAP50  mAP50-95): 100%|██████████| 2/2 [00:00<00:00,  7.95it/s]"
     ]
    },
    {
     "name": "stdout",
     "output_type": "stream",
     "text": [
      "                   all         46         46      0.935      0.935      0.971      0.868\n"
     ]
    },
    {
     "name": "stderr",
     "output_type": "stream",
     "text": [
      "\n"
     ]
    },
    {
     "name": "stdout",
     "output_type": "stream",
     "text": [
      "\n",
      "      Epoch    GPU_mem     box_om     cls_om     dfl_om     box_oo     cls_oo     dfl_oo  Instances       Size\n"
     ]
    },
    {
     "name": "stderr",
     "output_type": "stream",
     "text": [
      "    184/200       3.2G     0.6065     0.5121      1.226     0.6565     0.5925      1.244          7        640: 100%|██████████| 12/12 [00:01<00:00,  9.18it/s]\n",
      "                 Class     Images  Instances      Box(P          R      mAP50  mAP50-95): 100%|██████████| 2/2 [00:00<00:00,  8.28it/s]"
     ]
    },
    {
     "name": "stdout",
     "output_type": "stream",
     "text": [
      "                   all         46         46      0.951      0.937      0.975      0.859\n"
     ]
    },
    {
     "name": "stderr",
     "output_type": "stream",
     "text": [
      "\n"
     ]
    },
    {
     "name": "stdout",
     "output_type": "stream",
     "text": [
      "\n",
      "      Epoch    GPU_mem     box_om     cls_om     dfl_om     box_oo     cls_oo     dfl_oo  Instances       Size\n"
     ]
    },
    {
     "name": "stderr",
     "output_type": "stream",
     "text": [
      "    185/200      3.21G     0.6297     0.5069      1.213      0.644     0.6051      1.213         13        640: 100%|██████████| 12/12 [00:01<00:00,  8.22it/s]\n",
      "                 Class     Images  Instances      Box(P          R      mAP50  mAP50-95): 100%|██████████| 2/2 [00:00<00:00,  8.55it/s]"
     ]
    },
    {
     "name": "stdout",
     "output_type": "stream",
     "text": [
      "                   all         46         46      0.963      0.962      0.981      0.877\n"
     ]
    },
    {
     "name": "stderr",
     "output_type": "stream",
     "text": [
      "\n"
     ]
    },
    {
     "name": "stdout",
     "output_type": "stream",
     "text": [
      "\n",
      "      Epoch    GPU_mem     box_om     cls_om     dfl_om     box_oo     cls_oo     dfl_oo  Instances       Size\n"
     ]
    },
    {
     "name": "stderr",
     "output_type": "stream",
     "text": [
      "    186/200      3.21G     0.6151     0.4721      1.189     0.6554     0.5702      1.204         16        640: 100%|██████████| 12/12 [00:01<00:00,  9.36it/s]\n",
      "                 Class     Images  Instances      Box(P          R      mAP50  mAP50-95): 100%|██████████| 2/2 [00:00<00:00,  8.08it/s]"
     ]
    },
    {
     "name": "stdout",
     "output_type": "stream",
     "text": [
      "                   all         46         46      0.961      0.942       0.98      0.868\n"
     ]
    },
    {
     "name": "stderr",
     "output_type": "stream",
     "text": [
      "\n"
     ]
    },
    {
     "name": "stdout",
     "output_type": "stream",
     "text": [
      "\n",
      "      Epoch    GPU_mem     box_om     cls_om     dfl_om     box_oo     cls_oo     dfl_oo  Instances       Size\n"
     ]
    },
    {
     "name": "stderr",
     "output_type": "stream",
     "text": [
      "    187/200      3.21G     0.5684     0.4506      1.189     0.6348     0.5396      1.203         14        640: 100%|██████████| 12/12 [00:01<00:00,  8.94it/s]\n",
      "                 Class     Images  Instances      Box(P          R      mAP50  mAP50-95): 100%|██████████| 2/2 [00:00<00:00,  8.18it/s]"
     ]
    },
    {
     "name": "stdout",
     "output_type": "stream",
     "text": [
      "                   all         46         46      0.931      0.911      0.972      0.878\n"
     ]
    },
    {
     "name": "stderr",
     "output_type": "stream",
     "text": [
      "\n"
     ]
    },
    {
     "name": "stdout",
     "output_type": "stream",
     "text": [
      "\n",
      "      Epoch    GPU_mem     box_om     cls_om     dfl_om     box_oo     cls_oo     dfl_oo  Instances       Size\n"
     ]
    },
    {
     "name": "stderr",
     "output_type": "stream",
     "text": [
      "    188/200      3.21G     0.5844     0.4715      1.203     0.6038     0.5644      1.213         20        640: 100%|██████████| 12/12 [00:01<00:00,  8.89it/s]\n",
      "                 Class     Images  Instances      Box(P          R      mAP50  mAP50-95): 100%|██████████| 2/2 [00:00<00:00,  8.41it/s]"
     ]
    },
    {
     "name": "stdout",
     "output_type": "stream",
     "text": [
      "                   all         46         46      0.967      0.892      0.963      0.871\n"
     ]
    },
    {
     "name": "stderr",
     "output_type": "stream",
     "text": [
      "\n"
     ]
    },
    {
     "name": "stdout",
     "output_type": "stream",
     "text": [
      "\n",
      "      Epoch    GPU_mem     box_om     cls_om     dfl_om     box_oo     cls_oo     dfl_oo  Instances       Size\n"
     ]
    },
    {
     "name": "stderr",
     "output_type": "stream",
     "text": [
      "    189/200      3.21G     0.6118     0.5138      1.219     0.6757      0.598      1.255         19        640: 100%|██████████| 12/12 [00:01<00:00,  9.23it/s]\n",
      "                 Class     Images  Instances      Box(P          R      mAP50  mAP50-95): 100%|██████████| 2/2 [00:00<00:00,  7.91it/s]"
     ]
    },
    {
     "name": "stdout",
     "output_type": "stream",
     "text": [
      "                   all         46         46      0.907      0.896      0.959      0.865\n"
     ]
    },
    {
     "name": "stderr",
     "output_type": "stream",
     "text": [
      "\n"
     ]
    },
    {
     "name": "stdout",
     "output_type": "stream",
     "text": [
      "\n",
      "      Epoch    GPU_mem     box_om     cls_om     dfl_om     box_oo     cls_oo     dfl_oo  Instances       Size\n"
     ]
    },
    {
     "name": "stderr",
     "output_type": "stream",
     "text": [
      "    190/200      3.21G     0.6107     0.4813      1.228       0.66     0.5679      1.232         10        640: 100%|██████████| 12/12 [00:01<00:00,  8.06it/s]\n",
      "                 Class     Images  Instances      Box(P          R      mAP50  mAP50-95): 100%|██████████| 2/2 [00:00<00:00,  7.37it/s]"
     ]
    },
    {
     "name": "stdout",
     "output_type": "stream",
     "text": [
      "                   all         46         46      0.912      0.913      0.969      0.873\n"
     ]
    },
    {
     "name": "stderr",
     "output_type": "stream",
     "text": [
      "\n"
     ]
    },
    {
     "name": "stdout",
     "output_type": "stream",
     "text": [
      "Closing dataloader mosaic\n",
      "\n",
      "      Epoch    GPU_mem     box_om     cls_om     dfl_om     box_oo     cls_oo     dfl_oo  Instances       Size\n"
     ]
    },
    {
     "name": "stderr",
     "output_type": "stream",
     "text": [
      "    191/200       3.2G     0.5301     0.4271      1.196     0.5701     0.5007      1.205          7        640: 100%|██████████| 12/12 [00:01<00:00,  6.63it/s]\n",
      "                 Class     Images  Instances      Box(P          R      mAP50  mAP50-95): 100%|██████████| 2/2 [00:00<00:00,  7.36it/s]"
     ]
    },
    {
     "name": "stdout",
     "output_type": "stream",
     "text": [
      "                   all         46         46       0.99      0.913      0.976      0.858\n"
     ]
    },
    {
     "name": "stderr",
     "output_type": "stream",
     "text": [
      "\n"
     ]
    },
    {
     "name": "stdout",
     "output_type": "stream",
     "text": [
      "\n",
      "      Epoch    GPU_mem     box_om     cls_om     dfl_om     box_oo     cls_oo     dfl_oo  Instances       Size\n"
     ]
    },
    {
     "name": "stderr",
     "output_type": "stream",
     "text": [
      "    192/200       3.2G      0.516      0.392      1.187     0.5405     0.4592      1.186          7        640: 100%|██████████| 12/12 [00:01<00:00,  8.47it/s]\n",
      "                 Class     Images  Instances      Box(P          R      mAP50  mAP50-95): 100%|██████████| 2/2 [00:00<00:00,  7.92it/s]"
     ]
    },
    {
     "name": "stdout",
     "output_type": "stream",
     "text": [
      "                   all         46         46      0.975      0.937      0.977      0.883\n"
     ]
    },
    {
     "name": "stderr",
     "output_type": "stream",
     "text": [
      "\n"
     ]
    },
    {
     "name": "stdout",
     "output_type": "stream",
     "text": [
      "\n",
      "      Epoch    GPU_mem     box_om     cls_om     dfl_om     box_oo     cls_oo     dfl_oo  Instances       Size\n"
     ]
    },
    {
     "name": "stderr",
     "output_type": "stream",
     "text": [
      "    193/200       3.2G     0.5044      0.383      1.198     0.5282     0.4759      1.198          7        640: 100%|██████████| 12/12 [00:01<00:00,  8.51it/s]\n",
      "                 Class     Images  Instances      Box(P          R      mAP50  mAP50-95): 100%|██████████| 2/2 [00:00<00:00,  7.10it/s]"
     ]
    },
    {
     "name": "stdout",
     "output_type": "stream",
     "text": [
      "                   all         46         46      0.956       0.92      0.972      0.871\n"
     ]
    },
    {
     "name": "stderr",
     "output_type": "stream",
     "text": [
      "\n"
     ]
    },
    {
     "name": "stdout",
     "output_type": "stream",
     "text": [
      "\n",
      "      Epoch    GPU_mem     box_om     cls_om     dfl_om     box_oo     cls_oo     dfl_oo  Instances       Size\n"
     ]
    },
    {
     "name": "stderr",
     "output_type": "stream",
     "text": [
      "    194/200       3.2G     0.4825     0.3694      1.177     0.5426     0.4215      1.201          7        640: 100%|██████████| 12/12 [00:01<00:00,  7.97it/s]\n",
      "                 Class     Images  Instances      Box(P          R      mAP50  mAP50-95): 100%|██████████| 2/2 [00:00<00:00,  6.57it/s]"
     ]
    },
    {
     "name": "stdout",
     "output_type": "stream",
     "text": [
      "                   all         46         46      0.955      0.942      0.978      0.874\n"
     ]
    },
    {
     "name": "stderr",
     "output_type": "stream",
     "text": [
      "\n"
     ]
    },
    {
     "name": "stdout",
     "output_type": "stream",
     "text": [
      "\n",
      "      Epoch    GPU_mem     box_om     cls_om     dfl_om     box_oo     cls_oo     dfl_oo  Instances       Size\n"
     ]
    },
    {
     "name": "stderr",
     "output_type": "stream",
     "text": [
      "    195/200       3.2G     0.4892     0.3604      1.145     0.5298     0.4074      1.166          7        640: 100%|██████████| 12/12 [00:01<00:00,  7.56it/s]\n",
      "                 Class     Images  Instances      Box(P          R      mAP50  mAP50-95): 100%|██████████| 2/2 [00:00<00:00,  6.99it/s]"
     ]
    },
    {
     "name": "stdout",
     "output_type": "stream",
     "text": [
      "                   all         46         46      0.962      0.933      0.976      0.859\n"
     ]
    },
    {
     "name": "stderr",
     "output_type": "stream",
     "text": [
      "\n"
     ]
    },
    {
     "name": "stdout",
     "output_type": "stream",
     "text": [
      "\n",
      "      Epoch    GPU_mem     box_om     cls_om     dfl_om     box_oo     cls_oo     dfl_oo  Instances       Size\n"
     ]
    },
    {
     "name": "stderr",
     "output_type": "stream",
     "text": [
      "    196/200       3.2G     0.4819     0.3753      1.149     0.5168     0.4129      1.157          7        640: 100%|██████████| 12/12 [00:01<00:00,  7.68it/s]\n",
      "                 Class     Images  Instances      Box(P          R      mAP50  mAP50-95): 100%|██████████| 2/2 [00:00<00:00,  7.60it/s]"
     ]
    },
    {
     "name": "stdout",
     "output_type": "stream",
     "text": [
      "                   all         46         46      0.993      0.917      0.978      0.857\n"
     ]
    },
    {
     "name": "stderr",
     "output_type": "stream",
     "text": [
      "\n"
     ]
    },
    {
     "name": "stdout",
     "output_type": "stream",
     "text": [
      "\n",
      "      Epoch    GPU_mem     box_om     cls_om     dfl_om     box_oo     cls_oo     dfl_oo  Instances       Size\n"
     ]
    },
    {
     "name": "stderr",
     "output_type": "stream",
     "text": [
      "    197/200       3.2G     0.4662     0.3595      1.129     0.4972      0.401      1.149          7        640: 100%|██████████| 12/12 [00:01<00:00,  8.80it/s]\n",
      "                 Class     Images  Instances      Box(P          R      mAP50  mAP50-95): 100%|██████████| 2/2 [00:00<00:00,  7.85it/s]"
     ]
    },
    {
     "name": "stdout",
     "output_type": "stream",
     "text": [
      "                   all         46         46      0.965      0.942      0.978       0.87\n"
     ]
    },
    {
     "name": "stderr",
     "output_type": "stream",
     "text": [
      "\n"
     ]
    },
    {
     "name": "stdout",
     "output_type": "stream",
     "text": [
      "\n",
      "      Epoch    GPU_mem     box_om     cls_om     dfl_om     box_oo     cls_oo     dfl_oo  Instances       Size\n"
     ]
    },
    {
     "name": "stderr",
     "output_type": "stream",
     "text": [
      "    198/200       3.2G     0.4777     0.3648      1.146     0.5116     0.4621       1.15          7        640: 100%|██████████| 12/12 [00:01<00:00,  8.59it/s]\n",
      "                 Class     Images  Instances      Box(P          R      mAP50  mAP50-95): 100%|██████████| 2/2 [00:00<00:00,  7.39it/s]"
     ]
    },
    {
     "name": "stdout",
     "output_type": "stream",
     "text": [
      "                   all         46         46      0.952      0.941       0.98      0.875\n"
     ]
    },
    {
     "name": "stderr",
     "output_type": "stream",
     "text": [
      "\n"
     ]
    },
    {
     "name": "stdout",
     "output_type": "stream",
     "text": [
      "\n",
      "      Epoch    GPU_mem     box_om     cls_om     dfl_om     box_oo     cls_oo     dfl_oo  Instances       Size\n"
     ]
    },
    {
     "name": "stderr",
     "output_type": "stream",
     "text": [
      "    199/200       3.2G     0.4743     0.3475      1.149     0.4946     0.4091      1.164          7        640: 100%|██████████| 12/12 [00:01<00:00,  8.82it/s]\n",
      "                 Class     Images  Instances      Box(P          R      mAP50  mAP50-95): 100%|██████████| 2/2 [00:00<00:00,  6.64it/s]"
     ]
    },
    {
     "name": "stdout",
     "output_type": "stream",
     "text": [
      "                   all         46         46      0.943      0.942      0.979      0.879\n"
     ]
    },
    {
     "name": "stderr",
     "output_type": "stream",
     "text": [
      "\n"
     ]
    },
    {
     "name": "stdout",
     "output_type": "stream",
     "text": [
      "\n",
      "      Epoch    GPU_mem     box_om     cls_om     dfl_om     box_oo     cls_oo     dfl_oo  Instances       Size\n"
     ]
    },
    {
     "name": "stderr",
     "output_type": "stream",
     "text": [
      "    200/200       3.2G     0.4774     0.3646       1.19     0.4746     0.4749      1.199          7        640: 100%|██████████| 12/12 [00:01<00:00,  7.98it/s]\n",
      "                 Class     Images  Instances      Box(P          R      mAP50  mAP50-95): 100%|██████████| 2/2 [00:00<00:00,  7.67it/s]"
     ]
    },
    {
     "name": "stdout",
     "output_type": "stream",
     "text": [
      "                   all         46         46      0.938      0.929      0.979      0.882\n"
     ]
    },
    {
     "name": "stderr",
     "output_type": "stream",
     "text": [
      "\n"
     ]
    },
    {
     "name": "stdout",
     "output_type": "stream",
     "text": [
      "\n",
      "200 epochs completed in 0.129 hours.\n",
      "Optimizer stripped from D:\\Code\\CBCT_Reconstruction_ICP\\runs\\detect\\train23\\weights\\last.pt, 5.8MB\n",
      "Optimizer stripped from D:\\Code\\CBCT_Reconstruction_ICP\\runs\\detect\\train23\\weights\\best.pt, 5.8MB\n",
      "\n",
      "Validating D:\\Code\\CBCT_Reconstruction_ICP\\runs\\detect\\train23\\weights\\best.pt...\n",
      "Ultralytics YOLOv8.1.34 🚀 Python-3.9.19 torch-2.0.1+cu118 CUDA:0 (NVIDIA GeForce RTX 4080 Laptop GPU, 12282MiB)\n",
      "YOLOv10n summary (fused): 285 layers, 2695196 parameters, 0 gradients, 8.2 GFLOPs\n"
     ]
    },
    {
     "name": "stderr",
     "output_type": "stream",
     "text": [
      "                 Class     Images  Instances      Box(P          R      mAP50  mAP50-95): 100%|██████████| 2/2 [00:00<00:00,  4.25it/s]\n"
     ]
    },
    {
     "name": "stdout",
     "output_type": "stream",
     "text": [
      "                   all         46         46      0.975      0.937      0.976      0.883\n",
      "                  arch         46         26      0.951      0.885      0.958      0.816\n",
      "                 vomer         46         20          1      0.989      0.995       0.95\n",
      "Speed: 1.6ms preprocess, 2.0ms inference, 0.0ms loss, 0.0ms postprocess per image\n",
      "Results saved to \u001b[1mD:\\Code\\CBCT_Reconstruction_ICP\\runs\\detect\\train23\u001b[0m\n"
     ]
    }
   ],
   "source": [
    "# Train Yolov10 model for the first time\n",
    "import os\n",
    "import torch\n",
    "from ultralytics import YOLOv10\n",
    "\n",
    "os.environ[\"KMP_DUPLICATE_LIB_OK\"] = \"TRUE\"\n",
    "\n",
    "# Create a new YOLO model from scratch\n",
    "model = YOLOv10('yolov10n.yaml')\n",
    "\n",
    "# Ensure the model uses GPU if available\n",
    "device = 'cuda' if torch.cuda.is_available() else 'cpu'\n",
    "print(\"using device: \", device)\n",
    "model.to(device)\n",
    "\n",
    "print(os.getcwd())\n",
    "# Train the model using the 'arch_detection.yaml' dataset for 50 epochs\n",
    "results = model.train(data='detect_arch.yaml', epochs=200, device=device)\n"
   ]
  },
  {
   "cell_type": "code",
   "execution_count": 41,
   "id": "dc6aa8bc",
   "metadata": {},
   "outputs": [
    {
     "name": "stdout",
     "output_type": "stream",
     "text": [
      "Transferred 493/595 items from pretrained weights\n",
      "using device:  cuda\n",
      "New https://pypi.org/project/ultralytics/8.2.36 available 😃 Update with 'pip install -U ultralytics'\n",
      "Ultralytics YOLOv8.1.34 🚀 Python-3.9.19 torch-2.0.1+cu118 CUDA:0 (NVIDIA GeForce RTX 4080 Laptop GPU, 12282MiB)\n",
      "\u001b[34m\u001b[1mengine\\trainer: \u001b[0mtask=detect, mode=train, model=yolov10n.yaml, data=detect_arch.yaml, epochs=50, time=None, patience=100, batch=16, imgsz=640, save=True, save_period=-1, val_period=1, cache=False, device=cuda, workers=8, project=None, name=train22, exist_ok=False, pretrained=True, optimizer=auto, verbose=True, seed=0, deterministic=True, single_cls=False, rect=False, cos_lr=False, close_mosaic=10, resume=False, amp=True, fraction=1.0, profile=False, freeze=None, multi_scale=False, overlap_mask=True, mask_ratio=4, dropout=0.0, val=True, split=val, save_json=False, save_hybrid=False, conf=None, iou=0.7, max_det=300, half=False, dnn=False, plots=True, source=None, vid_stride=1, stream_buffer=False, visualize=False, augment=False, agnostic_nms=False, classes=None, retina_masks=False, embed=None, show=False, save_frames=False, save_txt=False, save_conf=False, save_crop=False, show_labels=True, show_conf=True, show_boxes=True, line_width=None, format=torchscript, keras=False, optimize=False, int8=False, dynamic=False, simplify=False, opset=None, workspace=4, nms=False, lr0=0.01, lrf=0.01, momentum=0.937, weight_decay=0.0005, warmup_epochs=3.0, warmup_momentum=0.8, warmup_bias_lr=0.1, box=7.5, cls=0.5, dfl=1.5, pose=12.0, kobj=1.0, label_smoothing=0.0, nbs=64, hsv_h=0.015, hsv_s=0.7, hsv_v=0.4, degrees=0.0, translate=0.1, scale=0.5, shear=0.0, perspective=0.0, flipud=0.0, fliplr=0.5, bgr=0.0, mosaic=1.0, mixup=0.0, copy_paste=0.0, auto_augment=randaugment, erasing=0.4, crop_fraction=1.0, cfg=None, tracker=botsort.yaml, save_dir=D:\\Code\\CBCT_Reconstruction_ICP\\runs\\detect\\train22\n",
      "Overriding model.yaml nc=80 with nc=2\n",
      "\n",
      "                   from  n    params  module                                       arguments                     \n",
      "  0                  -1  1       464  ultralytics.nn.modules.conv.Conv             [3, 16, 3, 2]                 \n",
      "  1                  -1  1      4672  ultralytics.nn.modules.conv.Conv             [16, 32, 3, 2]                \n",
      "  2                  -1  1      7360  ultralytics.nn.modules.block.C2f             [32, 32, 1, True]             \n",
      "  3                  -1  1     18560  ultralytics.nn.modules.conv.Conv             [32, 64, 3, 2]                \n",
      "  4                  -1  2     49664  ultralytics.nn.modules.block.C2f             [64, 64, 2, True]             \n",
      "  5                  -1  1      9856  ultralytics.nn.modules.block.SCDown          [64, 128, 3, 2]               \n",
      "  6                  -1  2    197632  ultralytics.nn.modules.block.C2f             [128, 128, 2, True]           \n",
      "  7                  -1  1     36096  ultralytics.nn.modules.block.SCDown          [128, 256, 3, 2]              \n",
      "  8                  -1  1    460288  ultralytics.nn.modules.block.C2f             [256, 256, 1, True]           \n",
      "  9                  -1  1    164608  ultralytics.nn.modules.block.SPPF            [256, 256, 5]                 \n",
      " 10                  -1  1    249728  ultralytics.nn.modules.block.PSA             [256, 256]                    \n",
      " 11                  -1  1         0  torch.nn.modules.upsampling.Upsample         [None, 2, 'nearest']          \n",
      " 12             [-1, 6]  1         0  ultralytics.nn.modules.conv.Concat           [1]                           \n",
      " 13                  -1  1    148224  ultralytics.nn.modules.block.C2f             [384, 128, 1]                 \n",
      " 14                  -1  1         0  torch.nn.modules.upsampling.Upsample         [None, 2, 'nearest']          \n",
      " 15             [-1, 4]  1         0  ultralytics.nn.modules.conv.Concat           [1]                           \n",
      " 16                  -1  1     37248  ultralytics.nn.modules.block.C2f             [192, 64, 1]                  \n",
      " 17                  -1  1     36992  ultralytics.nn.modules.conv.Conv             [64, 64, 3, 2]                \n",
      " 18            [-1, 13]  1         0  ultralytics.nn.modules.conv.Concat           [1]                           \n",
      " 19                  -1  1    123648  ultralytics.nn.modules.block.C2f             [192, 128, 1]                 \n",
      " 20                  -1  1     18048  ultralytics.nn.modules.block.SCDown          [128, 128, 3, 2]              \n",
      " 21            [-1, 10]  1         0  ultralytics.nn.modules.conv.Concat           [1]                           \n",
      " 22                  -1  1    282624  ultralytics.nn.modules.block.C2fCIB          [384, 256, 1, True, True]     \n",
      " 23        [16, 19, 22]  1    862108  ultralytics.nn.modules.head.v10Detect        [2, [64, 128, 256]]           \n",
      "YOLOv10n summary: 385 layers, 2707820 parameters, 2707804 gradients, 8.4 GFLOPs\n",
      "\n",
      "Transferred 493/595 items from pretrained weights\n",
      "Freezing layer 'model.23.dfl.conv.weight'\n",
      "\u001b[34m\u001b[1mAMP: \u001b[0mrunning Automatic Mixed Precision (AMP) checks with YOLOv8n...\n",
      "\u001b[34m\u001b[1mAMP: \u001b[0mchecks passed ✅\n"
     ]
    },
    {
     "name": "stderr",
     "output_type": "stream",
     "text": [
      "\u001b[34m\u001b[1mtrain: \u001b[0mScanning D:\\Code\\CBCT_Reconstruction_ICP\\data\\dataset\\detect_arch\\labels\\train.cache... 204 images, 0 backgrounds, 0 corrupt: 100%|██████████| 204/204 [00:00<?, ?it/s]\n",
      "\u001b[34m\u001b[1mval: \u001b[0mScanning D:\\Code\\CBCT_Reconstruction_ICP\\data\\dataset\\detect_arch\\labels\\val.cache... 52 images, 0 backgrounds, 0 corrupt: 100%|██████████| 52/52 [00:00<?, ?it/s]\n"
     ]
    },
    {
     "name": "stdout",
     "output_type": "stream",
     "text": [
      "Plotting labels to D:\\Code\\CBCT_Reconstruction_ICP\\runs\\detect\\train22\\labels.jpg... \n",
      "\u001b[34m\u001b[1moptimizer:\u001b[0m 'optimizer=auto' found, ignoring 'lr0=0.01' and 'momentum=0.937' and determining best 'optimizer', 'lr0' and 'momentum' automatically... \n",
      "\u001b[34m\u001b[1moptimizer:\u001b[0m AdamW(lr=0.001667, momentum=0.9) with parameter groups 95 weight(decay=0.0), 108 weight(decay=0.0005), 107 bias(decay=0.0)\n",
      "Image sizes 640 train, 640 val\n",
      "Using 8 dataloader workers\n",
      "Logging results to \u001b[1mD:\\Code\\CBCT_Reconstruction_ICP\\runs\\detect\\train22\u001b[0m\n",
      "Starting training for 50 epochs...\n",
      "\n",
      "      Epoch    GPU_mem     box_om     cls_om     dfl_om     box_oo     cls_oo     dfl_oo  Instances       Size\n"
     ]
    },
    {
     "name": "stderr",
     "output_type": "stream",
     "text": [
      "       1/50      3.28G      0.922      2.327      1.419     0.8935      6.898      1.429         28        640: 100%|██████████| 13/13 [00:02<00:00,  5.51it/s]\n",
      "                 Class     Images  Instances      Box(P          R      mAP50  mAP50-95): 100%|██████████| 2/2 [00:00<00:00,  6.88it/s]"
     ]
    },
    {
     "name": "stdout",
     "output_type": "stream",
     "text": [
      "                   all         52         52     0.0032      0.952      0.266      0.223\n"
     ]
    },
    {
     "name": "stderr",
     "output_type": "stream",
     "text": [
      "\n"
     ]
    },
    {
     "name": "stdout",
     "output_type": "stream",
     "text": [
      "\n",
      "      Epoch    GPU_mem     box_om     cls_om     dfl_om     box_oo     cls_oo     dfl_oo  Instances       Size\n"
     ]
    },
    {
     "name": "stderr",
     "output_type": "stream",
     "text": [
      "       2/50      2.96G     0.8763      1.776      1.367     0.8397      6.286      1.389         25        640: 100%|██████████| 13/13 [00:01<00:00,  7.66it/s]\n",
      "                 Class     Images  Instances      Box(P          R      mAP50  mAP50-95): 100%|██████████| 2/2 [00:00<00:00,  7.32it/s]"
     ]
    },
    {
     "name": "stdout",
     "output_type": "stream",
     "text": [
      "                   all         52         52    0.00251      0.742      0.243      0.219\n"
     ]
    },
    {
     "name": "stderr",
     "output_type": "stream",
     "text": [
      "\n"
     ]
    },
    {
     "name": "stdout",
     "output_type": "stream",
     "text": [
      "\n",
      "      Epoch    GPU_mem     box_om     cls_om     dfl_om     box_oo     cls_oo     dfl_oo  Instances       Size\n"
     ]
    },
    {
     "name": "stderr",
     "output_type": "stream",
     "text": [
      "       3/50      2.96G     0.9177      1.745      1.422     0.9269      6.539      1.463         23        640: 100%|██████████| 13/13 [00:01<00:00,  8.04it/s]\n",
      "                 Class     Images  Instances      Box(P          R      mAP50  mAP50-95): 100%|██████████| 2/2 [00:00<00:00,  7.30it/s]"
     ]
    },
    {
     "name": "stdout",
     "output_type": "stream",
     "text": [
      "                   all         52         52    0.00274      0.839      0.394      0.322\n"
     ]
    },
    {
     "name": "stderr",
     "output_type": "stream",
     "text": [
      "\n"
     ]
    },
    {
     "name": "stdout",
     "output_type": "stream",
     "text": [
      "\n",
      "      Epoch    GPU_mem     box_om     cls_om     dfl_om     box_oo     cls_oo     dfl_oo  Instances       Size\n"
     ]
    },
    {
     "name": "stderr",
     "output_type": "stream",
     "text": [
      "       4/50      2.96G      0.958      1.716       1.45     0.9217      6.055      1.436         22        640: 100%|██████████| 13/13 [00:01<00:00,  7.91it/s]\n",
      "                 Class     Images  Instances      Box(P          R      mAP50  mAP50-95): 100%|██████████| 2/2 [00:00<00:00,  7.01it/s]"
     ]
    },
    {
     "name": "stdout",
     "output_type": "stream",
     "text": [
      "                   all         52         52     0.0033          1      0.444      0.355\n"
     ]
    },
    {
     "name": "stderr",
     "output_type": "stream",
     "text": [
      "\n"
     ]
    },
    {
     "name": "stdout",
     "output_type": "stream",
     "text": [
      "\n",
      "      Epoch    GPU_mem     box_om     cls_om     dfl_om     box_oo     cls_oo     dfl_oo  Instances       Size\n"
     ]
    },
    {
     "name": "stderr",
     "output_type": "stream",
     "text": [
      "       5/50      2.96G     0.9426      1.581      1.405     0.9568      5.345       1.44         20        640: 100%|██████████| 13/13 [00:01<00:00,  8.71it/s]\n",
      "                 Class     Images  Instances      Box(P          R      mAP50  mAP50-95): 100%|██████████| 2/2 [00:00<00:00,  6.27it/s]"
     ]
    },
    {
     "name": "stdout",
     "output_type": "stream",
     "text": [
      "                   all         52         52      0.706      0.367      0.585      0.493\n"
     ]
    },
    {
     "name": "stderr",
     "output_type": "stream",
     "text": [
      "\n"
     ]
    },
    {
     "name": "stdout",
     "output_type": "stream",
     "text": [
      "\n",
      "      Epoch    GPU_mem     box_om     cls_om     dfl_om     box_oo     cls_oo     dfl_oo  Instances       Size\n"
     ]
    },
    {
     "name": "stderr",
     "output_type": "stream",
     "text": [
      "       6/50      2.96G     0.9446       1.62      1.445     0.9417      5.559      1.475         18        640: 100%|██████████| 13/13 [00:01<00:00,  8.54it/s]\n",
      "                 Class     Images  Instances      Box(P          R      mAP50  mAP50-95): 100%|██████████| 2/2 [00:00<00:00,  7.75it/s]"
     ]
    },
    {
     "name": "stdout",
     "output_type": "stream",
     "text": [
      "                   all         52         52      0.814      0.307      0.653      0.519\n"
     ]
    },
    {
     "name": "stderr",
     "output_type": "stream",
     "text": [
      "\n"
     ]
    },
    {
     "name": "stdout",
     "output_type": "stream",
     "text": [
      "\n",
      "      Epoch    GPU_mem     box_om     cls_om     dfl_om     box_oo     cls_oo     dfl_oo  Instances       Size\n"
     ]
    },
    {
     "name": "stderr",
     "output_type": "stream",
     "text": [
      "       7/50      2.96G      0.903      1.492      1.394     0.9307      5.042       1.44         22        640: 100%|██████████| 13/13 [00:01<00:00,  7.43it/s]\n",
      "                 Class     Images  Instances      Box(P          R      mAP50  mAP50-95): 100%|██████████| 2/2 [00:00<00:00,  4.98it/s]"
     ]
    },
    {
     "name": "stdout",
     "output_type": "stream",
     "text": [
      "                   all         52         52      0.796      0.242      0.588      0.472\n"
     ]
    },
    {
     "name": "stderr",
     "output_type": "stream",
     "text": [
      "\n"
     ]
    },
    {
     "name": "stdout",
     "output_type": "stream",
     "text": [
      "\n",
      "      Epoch    GPU_mem     box_om     cls_om     dfl_om     box_oo     cls_oo     dfl_oo  Instances       Size\n"
     ]
    },
    {
     "name": "stderr",
     "output_type": "stream",
     "text": [
      "       8/50      2.96G     0.9453      1.452      1.426     0.9369      4.594       1.45         24        640: 100%|██████████| 13/13 [00:01<00:00,  7.39it/s]\n",
      "                 Class     Images  Instances      Box(P          R      mAP50  mAP50-95): 100%|██████████| 2/2 [00:00<00:00,  6.17it/s]"
     ]
    },
    {
     "name": "stdout",
     "output_type": "stream",
     "text": [
      "                   all         52         52      0.676      0.605      0.771      0.641\n"
     ]
    },
    {
     "name": "stderr",
     "output_type": "stream",
     "text": [
      "\n"
     ]
    },
    {
     "name": "stdout",
     "output_type": "stream",
     "text": [
      "\n",
      "      Epoch    GPU_mem     box_om     cls_om     dfl_om     box_oo     cls_oo     dfl_oo  Instances       Size\n"
     ]
    },
    {
     "name": "stderr",
     "output_type": "stream",
     "text": [
      "       9/50      2.96G     0.9882       1.43      1.429      1.004      4.461      1.485         20        640: 100%|██████████| 13/13 [00:01<00:00,  7.47it/s]\n",
      "                 Class     Images  Instances      Box(P          R      mAP50  mAP50-95): 100%|██████████| 2/2 [00:00<00:00,  5.15it/s]"
     ]
    },
    {
     "name": "stdout",
     "output_type": "stream",
     "text": [
      "                   all         52         52      0.725      0.726      0.807      0.677\n"
     ]
    },
    {
     "name": "stderr",
     "output_type": "stream",
     "text": [
      "\n"
     ]
    },
    {
     "name": "stdout",
     "output_type": "stream",
     "text": [
      "\n",
      "      Epoch    GPU_mem     box_om     cls_om     dfl_om     box_oo     cls_oo     dfl_oo  Instances       Size\n"
     ]
    },
    {
     "name": "stderr",
     "output_type": "stream",
     "text": [
      "      10/50      2.96G      0.974      1.475      1.429      1.015      4.259      1.492         21        640: 100%|██████████| 13/13 [00:01<00:00,  8.26it/s]\n",
      "                 Class     Images  Instances      Box(P          R      mAP50  mAP50-95): 100%|██████████| 2/2 [00:00<00:00,  6.59it/s]"
     ]
    },
    {
     "name": "stdout",
     "output_type": "stream",
     "text": [
      "                   all         52         52      0.717      0.728      0.884      0.738\n"
     ]
    },
    {
     "name": "stderr",
     "output_type": "stream",
     "text": [
      "\n"
     ]
    },
    {
     "name": "stdout",
     "output_type": "stream",
     "text": [
      "\n",
      "      Epoch    GPU_mem     box_om     cls_om     dfl_om     box_oo     cls_oo     dfl_oo  Instances       Size\n"
     ]
    },
    {
     "name": "stderr",
     "output_type": "stream",
     "text": [
      "      11/50      2.96G     0.8878      1.315      1.395     0.9262      3.912      1.451         20        640: 100%|██████████| 13/13 [00:01<00:00,  8.60it/s]\n",
      "                 Class     Images  Instances      Box(P          R      mAP50  mAP50-95): 100%|██████████| 2/2 [00:00<00:00,  6.72it/s]"
     ]
    },
    {
     "name": "stdout",
     "output_type": "stream",
     "text": [
      "                   all         52         52      0.681      0.821      0.868      0.684\n"
     ]
    },
    {
     "name": "stderr",
     "output_type": "stream",
     "text": [
      "\n"
     ]
    },
    {
     "name": "stdout",
     "output_type": "stream",
     "text": [
      "\n",
      "      Epoch    GPU_mem     box_om     cls_om     dfl_om     box_oo     cls_oo     dfl_oo  Instances       Size\n"
     ]
    },
    {
     "name": "stderr",
     "output_type": "stream",
     "text": [
      "      12/50      2.96G      1.005      1.377      1.454      1.018      3.954      1.479         25        640: 100%|██████████| 13/13 [00:01<00:00,  6.64it/s]\n",
      "                 Class     Images  Instances      Box(P          R      mAP50  mAP50-95): 100%|██████████| 2/2 [00:00<00:00,  5.58it/s]"
     ]
    },
    {
     "name": "stdout",
     "output_type": "stream",
     "text": [
      "                   all         52         52      0.791      0.786      0.831      0.657\n"
     ]
    },
    {
     "name": "stderr",
     "output_type": "stream",
     "text": [
      "\n"
     ]
    },
    {
     "name": "stdout",
     "output_type": "stream",
     "text": [
      "\n",
      "      Epoch    GPU_mem     box_om     cls_om     dfl_om     box_oo     cls_oo     dfl_oo  Instances       Size\n"
     ]
    },
    {
     "name": "stderr",
     "output_type": "stream",
     "text": [
      "      13/50      2.96G     0.9157      1.322      1.381     0.9766      3.728      1.453         24        640: 100%|██████████| 13/13 [00:01<00:00,  8.15it/s]\n",
      "                 Class     Images  Instances      Box(P          R      mAP50  mAP50-95): 100%|██████████| 2/2 [00:00<00:00,  6.42it/s]"
     ]
    },
    {
     "name": "stdout",
     "output_type": "stream",
     "text": [
      "                   all         52         52       0.75      0.885       0.89      0.739\n"
     ]
    },
    {
     "name": "stderr",
     "output_type": "stream",
     "text": [
      "\n"
     ]
    },
    {
     "name": "stdout",
     "output_type": "stream",
     "text": [
      "\n",
      "      Epoch    GPU_mem     box_om     cls_om     dfl_om     box_oo     cls_oo     dfl_oo  Instances       Size\n"
     ]
    },
    {
     "name": "stderr",
     "output_type": "stream",
     "text": [
      "      14/50      2.96G     0.8917      1.248      1.378     0.9522      3.546      1.435         20        640: 100%|██████████| 13/13 [00:01<00:00,  8.44it/s]\n",
      "                 Class     Images  Instances      Box(P          R      mAP50  mAP50-95): 100%|██████████| 2/2 [00:00<00:00,  6.42it/s]"
     ]
    },
    {
     "name": "stdout",
     "output_type": "stream",
     "text": [
      "                   all         52         52      0.832      0.792      0.885      0.683\n"
     ]
    },
    {
     "name": "stderr",
     "output_type": "stream",
     "text": [
      "\n"
     ]
    },
    {
     "name": "stdout",
     "output_type": "stream",
     "text": [
      "\n",
      "      Epoch    GPU_mem     box_om     cls_om     dfl_om     box_oo     cls_oo     dfl_oo  Instances       Size\n"
     ]
    },
    {
     "name": "stderr",
     "output_type": "stream",
     "text": [
      "      15/50      2.96G     0.9248      1.294        1.4     0.9578      3.392      1.437         25        640: 100%|██████████| 13/13 [00:01<00:00,  8.51it/s]\n",
      "                 Class     Images  Instances      Box(P          R      mAP50  mAP50-95): 100%|██████████| 2/2 [00:00<00:00,  7.14it/s]"
     ]
    },
    {
     "name": "stdout",
     "output_type": "stream",
     "text": [
      "                   all         52         52       0.77       0.88      0.892      0.695\n"
     ]
    },
    {
     "name": "stderr",
     "output_type": "stream",
     "text": [
      "\n"
     ]
    },
    {
     "name": "stdout",
     "output_type": "stream",
     "text": [
      "\n",
      "      Epoch    GPU_mem     box_om     cls_om     dfl_om     box_oo     cls_oo     dfl_oo  Instances       Size\n"
     ]
    },
    {
     "name": "stderr",
     "output_type": "stream",
     "text": [
      "      16/50      2.96G     0.9174      1.186      1.381     0.9614      3.152      1.437         22        640: 100%|██████████| 13/13 [00:01<00:00,  7.81it/s]\n",
      "                 Class     Images  Instances      Box(P          R      mAP50  mAP50-95): 100%|██████████| 2/2 [00:00<00:00,  7.09it/s]"
     ]
    },
    {
     "name": "stdout",
     "output_type": "stream",
     "text": [
      "                   all         52         52      0.879        0.8      0.897      0.694\n"
     ]
    },
    {
     "name": "stderr",
     "output_type": "stream",
     "text": [
      "\n"
     ]
    },
    {
     "name": "stdout",
     "output_type": "stream",
     "text": [
      "\n",
      "      Epoch    GPU_mem     box_om     cls_om     dfl_om     box_oo     cls_oo     dfl_oo  Instances       Size\n"
     ]
    },
    {
     "name": "stderr",
     "output_type": "stream",
     "text": [
      "      17/50      2.96G     0.9731      1.204      1.437      1.025       3.12      1.463         22        640: 100%|██████████| 13/13 [00:01<00:00,  7.37it/s]\n",
      "                 Class     Images  Instances      Box(P          R      mAP50  mAP50-95): 100%|██████████| 2/2 [00:00<00:00,  6.69it/s]"
     ]
    },
    {
     "name": "stdout",
     "output_type": "stream",
     "text": [
      "                   all         52         52      0.955      0.861      0.929      0.754\n"
     ]
    },
    {
     "name": "stderr",
     "output_type": "stream",
     "text": [
      "\n"
     ]
    },
    {
     "name": "stdout",
     "output_type": "stream",
     "text": [
      "\n",
      "      Epoch    GPU_mem     box_om     cls_om     dfl_om     box_oo     cls_oo     dfl_oo  Instances       Size\n"
     ]
    },
    {
     "name": "stderr",
     "output_type": "stream",
     "text": [
      "      18/50      2.96G     0.8443      1.152      1.355     0.9047      2.912      1.422         17        640: 100%|██████████| 13/13 [00:01<00:00,  6.92it/s]\n",
      "                 Class     Images  Instances      Box(P          R      mAP50  mAP50-95): 100%|██████████| 2/2 [00:00<00:00,  5.88it/s]"
     ]
    },
    {
     "name": "stdout",
     "output_type": "stream",
     "text": [
      "                   all         52         52       0.85      0.793      0.904       0.76\n"
     ]
    },
    {
     "name": "stderr",
     "output_type": "stream",
     "text": [
      "\n"
     ]
    },
    {
     "name": "stdout",
     "output_type": "stream",
     "text": [
      "\n",
      "      Epoch    GPU_mem     box_om     cls_om     dfl_om     box_oo     cls_oo     dfl_oo  Instances       Size\n"
     ]
    },
    {
     "name": "stderr",
     "output_type": "stream",
     "text": [
      "      19/50      2.96G     0.9165      1.155      1.387     0.9189      2.861       1.42         24        640: 100%|██████████| 13/13 [00:01<00:00,  8.15it/s]\n",
      "                 Class     Images  Instances      Box(P          R      mAP50  mAP50-95): 100%|██████████| 2/2 [00:00<00:00,  6.62it/s]"
     ]
    },
    {
     "name": "stdout",
     "output_type": "stream",
     "text": [
      "                   all         52         52      0.884      0.902      0.958       0.76\n"
     ]
    },
    {
     "name": "stderr",
     "output_type": "stream",
     "text": [
      "\n"
     ]
    },
    {
     "name": "stdout",
     "output_type": "stream",
     "text": [
      "\n",
      "      Epoch    GPU_mem     box_om     cls_om     dfl_om     box_oo     cls_oo     dfl_oo  Instances       Size\n"
     ]
    },
    {
     "name": "stderr",
     "output_type": "stream",
     "text": [
      "      20/50      2.96G      0.926      1.094      1.375     0.9722      2.705      1.435         22        640: 100%|██████████| 13/13 [00:01<00:00,  7.99it/s]\n",
      "                 Class     Images  Instances      Box(P          R      mAP50  mAP50-95): 100%|██████████| 2/2 [00:00<00:00,  6.78it/s]"
     ]
    },
    {
     "name": "stdout",
     "output_type": "stream",
     "text": [
      "                   all         52         52      0.921      0.856      0.916      0.756\n"
     ]
    },
    {
     "name": "stderr",
     "output_type": "stream",
     "text": [
      "\n"
     ]
    },
    {
     "name": "stdout",
     "output_type": "stream",
     "text": [
      "\n",
      "      Epoch    GPU_mem     box_om     cls_om     dfl_om     box_oo     cls_oo     dfl_oo  Instances       Size\n"
     ]
    },
    {
     "name": "stderr",
     "output_type": "stream",
     "text": [
      "      21/50      2.96G     0.8429      1.047       1.32     0.8859      2.577      1.365         21        640: 100%|██████████| 13/13 [00:01<00:00,  8.40it/s]\n",
      "                 Class     Images  Instances      Box(P          R      mAP50  mAP50-95): 100%|██████████| 2/2 [00:00<00:00,  6.37it/s]"
     ]
    },
    {
     "name": "stdout",
     "output_type": "stream",
     "text": [
      "                   all         52         52      0.848      0.826      0.902      0.718\n"
     ]
    },
    {
     "name": "stderr",
     "output_type": "stream",
     "text": [
      "\n"
     ]
    },
    {
     "name": "stdout",
     "output_type": "stream",
     "text": [
      "\n",
      "      Epoch    GPU_mem     box_om     cls_om     dfl_om     box_oo     cls_oo     dfl_oo  Instances       Size\n"
     ]
    },
    {
     "name": "stderr",
     "output_type": "stream",
     "text": [
      "      22/50      2.96G     0.8498      1.054      1.335     0.9434      2.584      1.401         17        640: 100%|██████████| 13/13 [00:01<00:00,  8.42it/s]\n",
      "                 Class     Images  Instances      Box(P          R      mAP50  mAP50-95): 100%|██████████| 2/2 [00:00<00:00,  7.60it/s]"
     ]
    },
    {
     "name": "stdout",
     "output_type": "stream",
     "text": [
      "                   all         52         52      0.744      0.872      0.873      0.695\n"
     ]
    },
    {
     "name": "stderr",
     "output_type": "stream",
     "text": [
      "\n"
     ]
    },
    {
     "name": "stdout",
     "output_type": "stream",
     "text": [
      "\n",
      "      Epoch    GPU_mem     box_om     cls_om     dfl_om     box_oo     cls_oo     dfl_oo  Instances       Size\n"
     ]
    },
    {
     "name": "stderr",
     "output_type": "stream",
     "text": [
      "      23/50      2.96G     0.8298     0.9833      1.311     0.8859      2.332      1.366         27        640: 100%|██████████| 13/13 [00:01<00:00,  9.12it/s]\n",
      "                 Class     Images  Instances      Box(P          R      mAP50  mAP50-95): 100%|██████████| 2/2 [00:00<00:00,  6.65it/s]"
     ]
    },
    {
     "name": "stdout",
     "output_type": "stream",
     "text": [
      "                   all         52         52      0.797      0.824       0.85      0.697\n"
     ]
    },
    {
     "name": "stderr",
     "output_type": "stream",
     "text": [
      "\n"
     ]
    },
    {
     "name": "stdout",
     "output_type": "stream",
     "text": [
      "\n",
      "      Epoch    GPU_mem     box_om     cls_om     dfl_om     box_oo     cls_oo     dfl_oo  Instances       Size\n"
     ]
    },
    {
     "name": "stderr",
     "output_type": "stream",
     "text": [
      "      24/50      2.96G     0.8625      1.017      1.344     0.9384      2.285      1.397         19        640: 100%|██████████| 13/13 [00:01<00:00,  8.38it/s]\n",
      "                 Class     Images  Instances      Box(P          R      mAP50  mAP50-95): 100%|██████████| 2/2 [00:00<00:00,  6.96it/s]"
     ]
    },
    {
     "name": "stdout",
     "output_type": "stream",
     "text": [
      "                   all         52         52      0.816       0.67      0.789       0.59\n"
     ]
    },
    {
     "name": "stderr",
     "output_type": "stream",
     "text": [
      "\n"
     ]
    },
    {
     "name": "stdout",
     "output_type": "stream",
     "text": [
      "\n",
      "      Epoch    GPU_mem     box_om     cls_om     dfl_om     box_oo     cls_oo     dfl_oo  Instances       Size\n"
     ]
    },
    {
     "name": "stderr",
     "output_type": "stream",
     "text": [
      "      25/50      2.96G      0.829     0.9664      1.329     0.8648      2.239      1.334         19        640: 100%|██████████| 13/13 [00:01<00:00,  8.68it/s]\n",
      "                 Class     Images  Instances      Box(P          R      mAP50  mAP50-95): 100%|██████████| 2/2 [00:00<00:00,  6.86it/s]"
     ]
    },
    {
     "name": "stdout",
     "output_type": "stream",
     "text": [
      "                   all         52         52      0.665      0.727      0.741      0.588\n"
     ]
    },
    {
     "name": "stderr",
     "output_type": "stream",
     "text": [
      "\n"
     ]
    },
    {
     "name": "stdout",
     "output_type": "stream",
     "text": [
      "\n",
      "      Epoch    GPU_mem     box_om     cls_om     dfl_om     box_oo     cls_oo     dfl_oo  Instances       Size\n"
     ]
    },
    {
     "name": "stderr",
     "output_type": "stream",
     "text": [
      "      26/50      2.96G      0.826     0.9512      1.323     0.8852      2.176      1.357         24        640: 100%|██████████| 13/13 [00:01<00:00,  8.74it/s]\n",
      "                 Class     Images  Instances      Box(P          R      mAP50  mAP50-95): 100%|██████████| 2/2 [00:00<00:00,  6.29it/s]"
     ]
    },
    {
     "name": "stdout",
     "output_type": "stream",
     "text": [
      "                   all         52         52      0.951      0.783      0.932      0.793\n"
     ]
    },
    {
     "name": "stderr",
     "output_type": "stream",
     "text": [
      "\n"
     ]
    },
    {
     "name": "stdout",
     "output_type": "stream",
     "text": [
      "\n",
      "      Epoch    GPU_mem     box_om     cls_om     dfl_om     box_oo     cls_oo     dfl_oo  Instances       Size\n"
     ]
    },
    {
     "name": "stderr",
     "output_type": "stream",
     "text": [
      "      27/50      2.96G     0.8618      1.024      1.328     0.9661      2.314      1.385         15        640: 100%|██████████| 13/13 [00:01<00:00,  8.34it/s]\n",
      "                 Class     Images  Instances      Box(P          R      mAP50  mAP50-95): 100%|██████████| 2/2 [00:00<00:00,  6.90it/s]"
     ]
    },
    {
     "name": "stdout",
     "output_type": "stream",
     "text": [
      "                   all         52         52      0.905      0.807       0.93      0.756\n"
     ]
    },
    {
     "name": "stderr",
     "output_type": "stream",
     "text": [
      "\n"
     ]
    },
    {
     "name": "stdout",
     "output_type": "stream",
     "text": [
      "\n",
      "      Epoch    GPU_mem     box_om     cls_om     dfl_om     box_oo     cls_oo     dfl_oo  Instances       Size\n"
     ]
    },
    {
     "name": "stderr",
     "output_type": "stream",
     "text": [
      "      28/50      2.96G     0.8721      0.972      1.366     0.8968      2.076      1.392         23        640: 100%|██████████| 13/13 [00:01<00:00,  8.54it/s]\n",
      "                 Class     Images  Instances      Box(P          R      mAP50  mAP50-95): 100%|██████████| 2/2 [00:00<00:00,  6.88it/s]"
     ]
    },
    {
     "name": "stdout",
     "output_type": "stream",
     "text": [
      "                   all         52         52      0.791      0.757      0.856      0.705\n"
     ]
    },
    {
     "name": "stderr",
     "output_type": "stream",
     "text": [
      "\n"
     ]
    },
    {
     "name": "stdout",
     "output_type": "stream",
     "text": [
      "\n",
      "      Epoch    GPU_mem     box_om     cls_om     dfl_om     box_oo     cls_oo     dfl_oo  Instances       Size\n"
     ]
    },
    {
     "name": "stderr",
     "output_type": "stream",
     "text": [
      "      29/50      2.96G     0.8399     0.9673      1.343     0.8814      2.019      1.367         27        640: 100%|██████████| 13/13 [00:01<00:00,  8.52it/s]\n",
      "                 Class     Images  Instances      Box(P          R      mAP50  mAP50-95): 100%|██████████| 2/2 [00:00<00:00,  7.09it/s]"
     ]
    },
    {
     "name": "stdout",
     "output_type": "stream",
     "text": [
      "                   all         52         52       0.72      0.843      0.867      0.727\n"
     ]
    },
    {
     "name": "stderr",
     "output_type": "stream",
     "text": [
      "\n"
     ]
    },
    {
     "name": "stdout",
     "output_type": "stream",
     "text": [
      "\n",
      "      Epoch    GPU_mem     box_om     cls_om     dfl_om     box_oo     cls_oo     dfl_oo  Instances       Size\n"
     ]
    },
    {
     "name": "stderr",
     "output_type": "stream",
     "text": [
      "      30/50      2.96G      0.804     0.9102       1.28     0.8546      1.902      1.318         27        640: 100%|██████████| 13/13 [00:01<00:00,  9.02it/s]\n",
      "                 Class     Images  Instances      Box(P          R      mAP50  mAP50-95): 100%|██████████| 2/2 [00:00<00:00,  6.44it/s]"
     ]
    },
    {
     "name": "stdout",
     "output_type": "stream",
     "text": [
      "                   all         52         52      0.778      0.854      0.915      0.771\n"
     ]
    },
    {
     "name": "stderr",
     "output_type": "stream",
     "text": [
      "\n"
     ]
    },
    {
     "name": "stdout",
     "output_type": "stream",
     "text": [
      "\n",
      "      Epoch    GPU_mem     box_om     cls_om     dfl_om     box_oo     cls_oo     dfl_oo  Instances       Size\n"
     ]
    },
    {
     "name": "stderr",
     "output_type": "stream",
     "text": [
      "      31/50      2.96G     0.8022     0.8881      1.282     0.8339       1.86      1.314         21        640: 100%|██████████| 13/13 [00:01<00:00,  8.82it/s]\n",
      "                 Class     Images  Instances      Box(P          R      mAP50  mAP50-95): 100%|██████████| 2/2 [00:00<00:00,  6.83it/s]"
     ]
    },
    {
     "name": "stdout",
     "output_type": "stream",
     "text": [
      "                   all         52         52      0.828      0.788      0.898      0.786\n"
     ]
    },
    {
     "name": "stderr",
     "output_type": "stream",
     "text": [
      "\n"
     ]
    },
    {
     "name": "stdout",
     "output_type": "stream",
     "text": [
      "\n",
      "      Epoch    GPU_mem     box_om     cls_om     dfl_om     box_oo     cls_oo     dfl_oo  Instances       Size\n"
     ]
    },
    {
     "name": "stderr",
     "output_type": "stream",
     "text": [
      "      32/50      2.96G     0.7828     0.8883      1.282     0.8283       1.84      1.334         15        640: 100%|██████████| 13/13 [00:01<00:00,  7.58it/s]\n",
      "                 Class     Images  Instances      Box(P          R      mAP50  mAP50-95): 100%|██████████| 2/2 [00:00<00:00,  6.82it/s]"
     ]
    },
    {
     "name": "stdout",
     "output_type": "stream",
     "text": [
      "                   all         52         52      0.861      0.856      0.946      0.813\n"
     ]
    },
    {
     "name": "stderr",
     "output_type": "stream",
     "text": [
      "\n"
     ]
    },
    {
     "name": "stdout",
     "output_type": "stream",
     "text": [
      "\n",
      "      Epoch    GPU_mem     box_om     cls_om     dfl_om     box_oo     cls_oo     dfl_oo  Instances       Size\n"
     ]
    },
    {
     "name": "stderr",
     "output_type": "stream",
     "text": [
      "      33/50      2.96G     0.8186     0.8605      1.298     0.8485       1.75      1.333         24        640: 100%|██████████| 13/13 [00:01<00:00,  8.45it/s]\n",
      "                 Class     Images  Instances      Box(P          R      mAP50  mAP50-95): 100%|██████████| 2/2 [00:00<00:00,  7.58it/s]"
     ]
    },
    {
     "name": "stdout",
     "output_type": "stream",
     "text": [
      "                   all         52         52      0.698       0.92      0.896      0.766\n"
     ]
    },
    {
     "name": "stderr",
     "output_type": "stream",
     "text": [
      "\n"
     ]
    },
    {
     "name": "stdout",
     "output_type": "stream",
     "text": [
      "\n",
      "      Epoch    GPU_mem     box_om     cls_om     dfl_om     box_oo     cls_oo     dfl_oo  Instances       Size\n"
     ]
    },
    {
     "name": "stderr",
     "output_type": "stream",
     "text": [
      "      34/50      2.96G     0.7653     0.8648      1.265     0.8128      1.837      1.291         23        640: 100%|██████████| 13/13 [00:01<00:00,  8.57it/s]\n",
      "                 Class     Images  Instances      Box(P          R      mAP50  mAP50-95): 100%|██████████| 2/2 [00:00<00:00,  7.20it/s]"
     ]
    },
    {
     "name": "stdout",
     "output_type": "stream",
     "text": [
      "                   all         52         52      0.837      0.793      0.927      0.812\n"
     ]
    },
    {
     "name": "stderr",
     "output_type": "stream",
     "text": [
      "\n"
     ]
    },
    {
     "name": "stdout",
     "output_type": "stream",
     "text": [
      "\n",
      "      Epoch    GPU_mem     box_om     cls_om     dfl_om     box_oo     cls_oo     dfl_oo  Instances       Size\n"
     ]
    },
    {
     "name": "stderr",
     "output_type": "stream",
     "text": [
      "      35/50      2.96G      0.773     0.8583      1.267     0.8456      1.758      1.317         15        640: 100%|██████████| 13/13 [00:01<00:00,  8.89it/s]\n",
      "                 Class     Images  Instances      Box(P          R      mAP50  mAP50-95): 100%|██████████| 2/2 [00:00<00:00,  7.37it/s]"
     ]
    },
    {
     "name": "stdout",
     "output_type": "stream",
     "text": [
      "                   all         52         52       0.79       0.87      0.916      0.789\n"
     ]
    },
    {
     "name": "stderr",
     "output_type": "stream",
     "text": [
      "\n"
     ]
    },
    {
     "name": "stdout",
     "output_type": "stream",
     "text": [
      "\n",
      "      Epoch    GPU_mem     box_om     cls_om     dfl_om     box_oo     cls_oo     dfl_oo  Instances       Size\n"
     ]
    },
    {
     "name": "stderr",
     "output_type": "stream",
     "text": [
      "      36/50      2.96G     0.7156     0.8142      1.239     0.7844      1.695      1.291         22        640: 100%|██████████| 13/13 [00:01<00:00,  8.00it/s]\n",
      "                 Class     Images  Instances      Box(P          R      mAP50  mAP50-95): 100%|██████████| 2/2 [00:00<00:00,  7.08it/s]"
     ]
    },
    {
     "name": "stdout",
     "output_type": "stream",
     "text": [
      "                   all         52         52      0.824      0.816      0.902      0.763\n"
     ]
    },
    {
     "name": "stderr",
     "output_type": "stream",
     "text": [
      "\n"
     ]
    },
    {
     "name": "stdout",
     "output_type": "stream",
     "text": [
      "\n",
      "      Epoch    GPU_mem     box_om     cls_om     dfl_om     box_oo     cls_oo     dfl_oo  Instances       Size\n"
     ]
    },
    {
     "name": "stderr",
     "output_type": "stream",
     "text": [
      "      37/50      2.96G     0.7242     0.8266      1.237     0.7679      1.657      1.304         24        640: 100%|██████████| 13/13 [00:01<00:00,  7.88it/s]\n",
      "                 Class     Images  Instances      Box(P          R      mAP50  mAP50-95): 100%|██████████| 2/2 [00:00<00:00,  6.79it/s]"
     ]
    },
    {
     "name": "stdout",
     "output_type": "stream",
     "text": [
      "                   all         52         52      0.869      0.825      0.935      0.777\n"
     ]
    },
    {
     "name": "stderr",
     "output_type": "stream",
     "text": [
      "\n"
     ]
    },
    {
     "name": "stdout",
     "output_type": "stream",
     "text": [
      "\n",
      "      Epoch    GPU_mem     box_om     cls_om     dfl_om     box_oo     cls_oo     dfl_oo  Instances       Size\n"
     ]
    },
    {
     "name": "stderr",
     "output_type": "stream",
     "text": [
      "      38/50      2.96G     0.7354       0.83      1.245      0.805       1.66      1.301         22        640: 100%|██████████| 13/13 [00:01<00:00,  8.70it/s]\n",
      "                 Class     Images  Instances      Box(P          R      mAP50  mAP50-95): 100%|██████████| 2/2 [00:00<00:00,  6.50it/s]"
     ]
    },
    {
     "name": "stdout",
     "output_type": "stream",
     "text": [
      "                   all         52         52      0.921      0.856      0.944      0.791\n"
     ]
    },
    {
     "name": "stderr",
     "output_type": "stream",
     "text": [
      "\n"
     ]
    },
    {
     "name": "stdout",
     "output_type": "stream",
     "text": [
      "\n",
      "      Epoch    GPU_mem     box_om     cls_om     dfl_om     box_oo     cls_oo     dfl_oo  Instances       Size\n"
     ]
    },
    {
     "name": "stderr",
     "output_type": "stream",
     "text": [
      "      39/50      2.96G      0.775     0.8305      1.274     0.8302      1.625      1.312         17        640: 100%|██████████| 13/13 [00:01<00:00,  7.49it/s]\n",
      "                 Class     Images  Instances      Box(P          R      mAP50  mAP50-95): 100%|██████████| 2/2 [00:00<00:00,  6.71it/s]"
     ]
    },
    {
     "name": "stdout",
     "output_type": "stream",
     "text": [
      "                   all         52         52      0.873      0.843      0.922      0.776\n"
     ]
    },
    {
     "name": "stderr",
     "output_type": "stream",
     "text": [
      "\n"
     ]
    },
    {
     "name": "stdout",
     "output_type": "stream",
     "text": [
      "\n",
      "      Epoch    GPU_mem     box_om     cls_om     dfl_om     box_oo     cls_oo     dfl_oo  Instances       Size\n"
     ]
    },
    {
     "name": "stderr",
     "output_type": "stream",
     "text": [
      "      40/50      2.96G     0.7663     0.8216      1.254     0.8292      1.662      1.318         25        640: 100%|██████████| 13/13 [00:01<00:00,  7.96it/s]\n",
      "                 Class     Images  Instances      Box(P          R      mAP50  mAP50-95): 100%|██████████| 2/2 [00:00<00:00,  6.94it/s]"
     ]
    },
    {
     "name": "stdout",
     "output_type": "stream",
     "text": [
      "                   all         52         52      0.833      0.893      0.949       0.81\n"
     ]
    },
    {
     "name": "stderr",
     "output_type": "stream",
     "text": [
      "\n"
     ]
    },
    {
     "name": "stdout",
     "output_type": "stream",
     "text": [
      "Closing dataloader mosaic\n",
      "\n",
      "      Epoch    GPU_mem     box_om     cls_om     dfl_om     box_oo     cls_oo     dfl_oo  Instances       Size\n"
     ]
    },
    {
     "name": "stderr",
     "output_type": "stream",
     "text": [
      "      41/50      2.96G     0.6136      0.798      1.154      0.614      1.978      1.144         12        640: 100%|██████████| 13/13 [00:01<00:00,  6.74it/s]\n",
      "                 Class     Images  Instances      Box(P          R      mAP50  mAP50-95): 100%|██████████| 2/2 [00:00<00:00,  6.95it/s]"
     ]
    },
    {
     "name": "stdout",
     "output_type": "stream",
     "text": [
      "                   all         52         52      0.914      0.851      0.967      0.836\n"
     ]
    },
    {
     "name": "stderr",
     "output_type": "stream",
     "text": [
      "\n"
     ]
    },
    {
     "name": "stdout",
     "output_type": "stream",
     "text": [
      "\n",
      "      Epoch    GPU_mem     box_om     cls_om     dfl_om     box_oo     cls_oo     dfl_oo  Instances       Size\n"
     ]
    },
    {
     "name": "stderr",
     "output_type": "stream",
     "text": [
      "      42/50      2.96G     0.6075     0.7757      1.136     0.6288      1.957      1.149         12        640: 100%|██████████| 13/13 [00:01<00:00,  9.04it/s]\n",
      "                 Class     Images  Instances      Box(P          R      mAP50  mAP50-95): 100%|██████████| 2/2 [00:00<00:00,  7.26it/s]"
     ]
    },
    {
     "name": "stdout",
     "output_type": "stream",
     "text": [
      "                   all         52         52      0.791      0.889      0.937      0.811\n"
     ]
    },
    {
     "name": "stderr",
     "output_type": "stream",
     "text": [
      "\n"
     ]
    },
    {
     "name": "stdout",
     "output_type": "stream",
     "text": [
      "\n",
      "      Epoch    GPU_mem     box_om     cls_om     dfl_om     box_oo     cls_oo     dfl_oo  Instances       Size\n"
     ]
    },
    {
     "name": "stderr",
     "output_type": "stream",
     "text": [
      "      43/50      2.96G     0.5733     0.7393      1.122     0.6037      1.883      1.127         12        640: 100%|██████████| 13/13 [00:01<00:00,  9.05it/s]\n",
      "                 Class     Images  Instances      Box(P          R      mAP50  mAP50-95): 100%|██████████| 2/2 [00:00<00:00,  7.16it/s]"
     ]
    },
    {
     "name": "stdout",
     "output_type": "stream",
     "text": [
      "                   all         52         52      0.822      0.858      0.928      0.811\n"
     ]
    },
    {
     "name": "stderr",
     "output_type": "stream",
     "text": [
      "\n"
     ]
    },
    {
     "name": "stdout",
     "output_type": "stream",
     "text": [
      "\n",
      "      Epoch    GPU_mem     box_om     cls_om     dfl_om     box_oo     cls_oo     dfl_oo  Instances       Size\n"
     ]
    },
    {
     "name": "stderr",
     "output_type": "stream",
     "text": [
      "      44/50      2.96G      0.608     0.6985      1.135     0.5996      1.795      1.125         12        640: 100%|██████████| 13/13 [00:01<00:00,  9.11it/s]\n",
      "                 Class     Images  Instances      Box(P          R      mAP50  mAP50-95): 100%|██████████| 2/2 [00:00<00:00,  7.07it/s]"
     ]
    },
    {
     "name": "stdout",
     "output_type": "stream",
     "text": [
      "                   all         52         52       0.82      0.791      0.906      0.787\n"
     ]
    },
    {
     "name": "stderr",
     "output_type": "stream",
     "text": [
      "\n"
     ]
    },
    {
     "name": "stdout",
     "output_type": "stream",
     "text": [
      "\n",
      "      Epoch    GPU_mem     box_om     cls_om     dfl_om     box_oo     cls_oo     dfl_oo  Instances       Size\n"
     ]
    },
    {
     "name": "stderr",
     "output_type": "stream",
     "text": [
      "      45/50      2.96G     0.5832     0.6992      1.102     0.5844      1.804      1.112         12        640: 100%|██████████| 13/13 [00:01<00:00,  9.32it/s]\n",
      "                 Class     Images  Instances      Box(P          R      mAP50  mAP50-95): 100%|██████████| 2/2 [00:00<00:00,  6.73it/s]"
     ]
    },
    {
     "name": "stdout",
     "output_type": "stream",
     "text": [
      "                   all         52         52      0.777      0.792        0.9      0.782\n"
     ]
    },
    {
     "name": "stderr",
     "output_type": "stream",
     "text": [
      "\n"
     ]
    },
    {
     "name": "stdout",
     "output_type": "stream",
     "text": [
      "\n",
      "      Epoch    GPU_mem     box_om     cls_om     dfl_om     box_oo     cls_oo     dfl_oo  Instances       Size\n"
     ]
    },
    {
     "name": "stderr",
     "output_type": "stream",
     "text": [
      "      46/50      2.96G      0.552     0.6818      1.089      0.573      1.755      1.102         12        640: 100%|██████████| 13/13 [00:01<00:00,  8.76it/s]\n",
      "                 Class     Images  Instances      Box(P          R      mAP50  mAP50-95): 100%|██████████| 2/2 [00:00<00:00,  6.76it/s]"
     ]
    },
    {
     "name": "stdout",
     "output_type": "stream",
     "text": [
      "                   all         52         52      0.731      0.895       0.91      0.784\n"
     ]
    },
    {
     "name": "stderr",
     "output_type": "stream",
     "text": [
      "\n"
     ]
    },
    {
     "name": "stdout",
     "output_type": "stream",
     "text": [
      "\n",
      "      Epoch    GPU_mem     box_om     cls_om     dfl_om     box_oo     cls_oo     dfl_oo  Instances       Size\n"
     ]
    },
    {
     "name": "stderr",
     "output_type": "stream",
     "text": [
      "      47/50      2.96G      0.539      0.654      1.065     0.5567       1.72      1.092         12        640: 100%|██████████| 13/13 [00:01<00:00,  9.04it/s]\n",
      "                 Class     Images  Instances      Box(P          R      mAP50  mAP50-95): 100%|██████████| 2/2 [00:00<00:00,  6.88it/s]"
     ]
    },
    {
     "name": "stdout",
     "output_type": "stream",
     "text": [
      "                   all         52         52      0.779      0.901      0.914      0.794\n"
     ]
    },
    {
     "name": "stderr",
     "output_type": "stream",
     "text": [
      "\n"
     ]
    },
    {
     "name": "stdout",
     "output_type": "stream",
     "text": [
      "\n",
      "      Epoch    GPU_mem     box_om     cls_om     dfl_om     box_oo     cls_oo     dfl_oo  Instances       Size\n"
     ]
    },
    {
     "name": "stderr",
     "output_type": "stream",
     "text": [
      "      48/50      2.96G     0.5178     0.6649      1.057     0.5377       1.69      1.065         12        640: 100%|██████████| 13/13 [00:01<00:00,  8.45it/s]\n",
      "                 Class     Images  Instances      Box(P          R      mAP50  mAP50-95): 100%|██████████| 2/2 [00:00<00:00,  7.02it/s]"
     ]
    },
    {
     "name": "stdout",
     "output_type": "stream",
     "text": [
      "                   all         52         52      0.892        0.8      0.937      0.817\n"
     ]
    },
    {
     "name": "stderr",
     "output_type": "stream",
     "text": [
      "\n"
     ]
    },
    {
     "name": "stdout",
     "output_type": "stream",
     "text": [
      "\n",
      "      Epoch    GPU_mem     box_om     cls_om     dfl_om     box_oo     cls_oo     dfl_oo  Instances       Size\n"
     ]
    },
    {
     "name": "stderr",
     "output_type": "stream",
     "text": [
      "      49/50      2.96G     0.5497     0.6543      1.086     0.5631      1.654      1.087         12        640: 100%|██████████| 13/13 [00:01<00:00,  8.82it/s]\n",
      "                 Class     Images  Instances      Box(P          R      mAP50  mAP50-95): 100%|██████████| 2/2 [00:00<00:00,  7.32it/s]"
     ]
    },
    {
     "name": "stdout",
     "output_type": "stream",
     "text": [
      "                   all         52         52      0.811      0.928      0.944      0.821\n"
     ]
    },
    {
     "name": "stderr",
     "output_type": "stream",
     "text": [
      "\n"
     ]
    },
    {
     "name": "stdout",
     "output_type": "stream",
     "text": [
      "\n",
      "      Epoch    GPU_mem     box_om     cls_om     dfl_om     box_oo     cls_oo     dfl_oo  Instances       Size\n"
     ]
    },
    {
     "name": "stderr",
     "output_type": "stream",
     "text": [
      "      50/50      2.96G     0.5408     0.6572      1.074     0.5685      1.665      1.079         12        640: 100%|██████████| 13/13 [00:01<00:00,  8.97it/s]\n",
      "                 Class     Images  Instances      Box(P          R      mAP50  mAP50-95): 100%|██████████| 2/2 [00:00<00:00,  7.25it/s]"
     ]
    },
    {
     "name": "stdout",
     "output_type": "stream",
     "text": [
      "                   all         52         52      0.927      0.911       0.97      0.846\n"
     ]
    },
    {
     "name": "stderr",
     "output_type": "stream",
     "text": [
      "\n"
     ]
    },
    {
     "name": "stdout",
     "output_type": "stream",
     "text": [
      "\n",
      "50 epochs completed in 0.042 hours.\n",
      "Optimizer stripped from D:\\Code\\CBCT_Reconstruction_ICP\\runs\\detect\\train22\\weights\\last.pt, 5.8MB\n",
      "Optimizer stripped from D:\\Code\\CBCT_Reconstruction_ICP\\runs\\detect\\train22\\weights\\best.pt, 5.8MB\n",
      "\n",
      "Validating D:\\Code\\CBCT_Reconstruction_ICP\\runs\\detect\\train22\\weights\\best.pt...\n",
      "Ultralytics YOLOv8.1.34 🚀 Python-3.9.19 torch-2.0.1+cu118 CUDA:0 (NVIDIA GeForce RTX 4080 Laptop GPU, 12282MiB)\n",
      "YOLOv10n summary (fused): 285 layers, 2695196 parameters, 0 gradients, 8.2 GFLOPs\n"
     ]
    },
    {
     "name": "stderr",
     "output_type": "stream",
     "text": [
      "                 Class     Images  Instances      Box(P          R      mAP50  mAP50-95): 100%|██████████| 2/2 [00:00<00:00,  4.35it/s]\n"
     ]
    },
    {
     "name": "stdout",
     "output_type": "stream",
     "text": [
      "                   all         52         52      0.927      0.911       0.97      0.846\n",
      "                  arch         52         31      0.905      0.917      0.971      0.794\n",
      "                 vomer         52         21       0.95      0.905      0.969      0.899\n",
      "Speed: 1.0ms preprocess, 2.0ms inference, 0.0ms loss, 0.0ms postprocess per image\n",
      "Results saved to \u001b[1mD:\\Code\\CBCT_Reconstruction_ICP\\runs\\detect\\train22\u001b[0m\n"
     ]
    }
   ],
   "source": [
    "# Continue training the model for another 50 epochs\n",
    "\n",
    "import os\n",
    "import torch\n",
    "from ultralytics import YOLOv10\n",
    "\n",
    "os.environ[\"KMP_DUPLICATE_LIB_OK\"] = \"TRUE\"\n",
    "\n",
    "# 创建新的 YOLO 模型实例\n",
    "model = YOLOv10('yolov10n.yaml')\n",
    "\n",
    "# 加载之前训练好的模型权重\n",
    "checkpoint_path = '../runs/detect/train21/weights/best.pt'\n",
    "model.load(checkpoint_path)\n",
    "\n",
    "# 确保模型使用 GPU（如果可用）\n",
    "device = 'cuda' if torch.cuda.is_available() else 'cpu'\n",
    "print(\"using device: \", device)\n",
    "model.to(device)\n",
    "\n",
    "# 使用 'arch_detection.yaml' 数据集继续训练模型，例如再训练 50 个 epochs\n",
    "results = model.train(data='detect_arch.yaml', epochs=50, device=device)\n",
    "\n",
    "# 保存继续训练后的模型\n",
    "model.save('continued_trained_model.pt')"
   ]
  },
  {
   "cell_type": "code",
   "execution_count": 42,
   "id": "acb2c63f-27ce-44ab-9b5c-35de351d2d72",
   "metadata": {},
   "outputs": [
    {
     "name": "stdout",
     "output_type": "stream",
     "text": [
      "detecting D:/Code/CBCT_Reconstruction_ICP/data/04/jpg\\04_slice_0001.jpg\n",
      "\n",
      "image 1/1 D:\\Code\\CBCT_Reconstruction_ICP\\data\\04\\jpg\\04_slice_0001.jpg: 640x640 (no detections), 9.5ms\n",
      "Speed: 3.0ms preprocess, 9.5ms inference, 0.5ms postprocess per image at shape (1, 3, 640, 640)\n",
      "detecting D:/Code/CBCT_Reconstruction_ICP/data/04/jpg\\04_slice_0002.jpg\n",
      "\n",
      "image 1/1 D:\\Code\\CBCT_Reconstruction_ICP\\data\\04\\jpg\\04_slice_0002.jpg: 640x640 1 vomer, 8.2ms\n",
      "Speed: 2.1ms preprocess, 8.2ms inference, 1.0ms postprocess per image at shape (1, 3, 640, 640)\n",
      "Skipped box with confidence: 0.3342800438404083 in image 04_slice_0002.jpg\n",
      "detecting D:/Code/CBCT_Reconstruction_ICP/data/04/jpg\\04_slice_0003.jpg\n",
      "\n",
      "image 1/1 D:\\Code\\CBCT_Reconstruction_ICP\\data\\04\\jpg\\04_slice_0003.jpg: 640x640 (no detections), 7.1ms\n",
      "Speed: 2.7ms preprocess, 7.1ms inference, 1.2ms postprocess per image at shape (1, 3, 640, 640)\n",
      "detecting D:/Code/CBCT_Reconstruction_ICP/data/04/jpg\\04_slice_0004.jpg\n",
      "\n",
      "image 1/1 D:\\Code\\CBCT_Reconstruction_ICP\\data\\04\\jpg\\04_slice_0004.jpg: 640x640 (no detections), 9.4ms\n",
      "Speed: 2.5ms preprocess, 9.4ms inference, 1.0ms postprocess per image at shape (1, 3, 640, 640)\n",
      "detecting D:/Code/CBCT_Reconstruction_ICP/data/04/jpg\\04_slice_0005.jpg\n",
      "\n",
      "image 1/1 D:\\Code\\CBCT_Reconstruction_ICP\\data\\04\\jpg\\04_slice_0005.jpg: 640x640 (no detections), 11.2ms\n",
      "Speed: 2.4ms preprocess, 11.2ms inference, 3.0ms postprocess per image at shape (1, 3, 640, 640)\n",
      "detecting D:/Code/CBCT_Reconstruction_ICP/data/04/jpg\\04_slice_0006.jpg\n",
      "\n",
      "image 1/1 D:\\Code\\CBCT_Reconstruction_ICP\\data\\04\\jpg\\04_slice_0006.jpg: 640x640 (no detections), 13.1ms\n",
      "Speed: 5.0ms preprocess, 13.1ms inference, 1.1ms postprocess per image at shape (1, 3, 640, 640)\n",
      "detecting D:/Code/CBCT_Reconstruction_ICP/data/04/jpg\\04_slice_0007.jpg\n",
      "\n",
      "image 1/1 D:\\Code\\CBCT_Reconstruction_ICP\\data\\04\\jpg\\04_slice_0007.jpg: 640x640 (no detections), 8.6ms\n",
      "Speed: 2.0ms preprocess, 8.6ms inference, 1.0ms postprocess per image at shape (1, 3, 640, 640)\n",
      "detecting D:/Code/CBCT_Reconstruction_ICP/data/04/jpg\\04_slice_0008.jpg\n",
      "\n",
      "image 1/1 D:\\Code\\CBCT_Reconstruction_ICP\\data\\04\\jpg\\04_slice_0008.jpg: 640x640 (no detections), 7.0ms\n",
      "Speed: 3.1ms preprocess, 7.0ms inference, 1.0ms postprocess per image at shape (1, 3, 640, 640)\n",
      "detecting D:/Code/CBCT_Reconstruction_ICP/data/04/jpg\\04_slice_0009.jpg\n",
      "\n",
      "image 1/1 D:\\Code\\CBCT_Reconstruction_ICP\\data\\04\\jpg\\04_slice_0009.jpg: 640x640 (no detections), 7.0ms\n",
      "Speed: 3.0ms preprocess, 7.0ms inference, 1.8ms postprocess per image at shape (1, 3, 640, 640)\n",
      "detecting D:/Code/CBCT_Reconstruction_ICP/data/04/jpg\\04_slice_0010.jpg\n",
      "\n",
      "image 1/1 D:\\Code\\CBCT_Reconstruction_ICP\\data\\04\\jpg\\04_slice_0010.jpg: 640x640 1 vomer, 7.4ms\n",
      "Speed: 2.5ms preprocess, 7.4ms inference, 1.0ms postprocess per image at shape (1, 3, 640, 640)\n",
      "Skipped box with confidence: 0.3171491324901581 in image 04_slice_0010.jpg\n",
      "detecting D:/Code/CBCT_Reconstruction_ICP/data/04/jpg\\04_slice_0011.jpg\n",
      "\n",
      "image 1/1 D:\\Code\\CBCT_Reconstruction_ICP\\data\\04\\jpg\\04_slice_0011.jpg: 640x640 1 vomer, 9.0ms\n",
      "Speed: 2.5ms preprocess, 9.0ms inference, 2.0ms postprocess per image at shape (1, 3, 640, 640)\n",
      "Skipped box with confidence: 0.2595394551753998 in image 04_slice_0011.jpg\n",
      "detecting D:/Code/CBCT_Reconstruction_ICP/data/04/jpg\\04_slice_0012.jpg\n",
      "\n",
      "image 1/1 D:\\Code\\CBCT_Reconstruction_ICP\\data\\04\\jpg\\04_slice_0012.jpg: 640x640 1 vomer, 7.0ms\n",
      "Speed: 2.5ms preprocess, 7.0ms inference, 2.0ms postprocess per image at shape (1, 3, 640, 640)\n",
      "Skipped box with confidence: 0.30568426847457886 in image 04_slice_0012.jpg\n",
      "detecting D:/Code/CBCT_Reconstruction_ICP/data/04/jpg\\04_slice_0013.jpg\n",
      "\n",
      "image 1/1 D:\\Code\\CBCT_Reconstruction_ICP\\data\\04\\jpg\\04_slice_0013.jpg: 640x640 (no detections), 7.4ms\n",
      "Speed: 2.6ms preprocess, 7.4ms inference, 1.0ms postprocess per image at shape (1, 3, 640, 640)\n",
      "detecting D:/Code/CBCT_Reconstruction_ICP/data/04/jpg\\04_slice_0014.jpg\n",
      "\n",
      "image 1/1 D:\\Code\\CBCT_Reconstruction_ICP\\data\\04\\jpg\\04_slice_0014.jpg: 640x640 (no detections), 8.2ms\n",
      "Speed: 2.0ms preprocess, 8.2ms inference, 1.0ms postprocess per image at shape (1, 3, 640, 640)\n",
      "detecting D:/Code/CBCT_Reconstruction_ICP/data/04/jpg\\04_slice_0015.jpg\n",
      "\n",
      "image 1/1 D:\\Code\\CBCT_Reconstruction_ICP\\data\\04\\jpg\\04_slice_0015.jpg: 640x640 (no detections), 7.0ms\n",
      "Speed: 3.0ms preprocess, 7.0ms inference, 1.2ms postprocess per image at shape (1, 3, 640, 640)\n",
      "detecting D:/Code/CBCT_Reconstruction_ICP/data/04/jpg\\04_slice_0016.jpg\n",
      "\n",
      "image 1/1 D:\\Code\\CBCT_Reconstruction_ICP\\data\\04\\jpg\\04_slice_0016.jpg: 640x640 (no detections), 8.0ms\n",
      "Speed: 3.0ms preprocess, 8.0ms inference, 0.5ms postprocess per image at shape (1, 3, 640, 640)\n",
      "detecting D:/Code/CBCT_Reconstruction_ICP/data/04/jpg\\04_slice_0017.jpg\n",
      "\n",
      "image 1/1 D:\\Code\\CBCT_Reconstruction_ICP\\data\\04\\jpg\\04_slice_0017.jpg: 640x640 (no detections), 7.6ms\n",
      "Speed: 2.6ms preprocess, 7.6ms inference, 0.5ms postprocess per image at shape (1, 3, 640, 640)\n",
      "detecting D:/Code/CBCT_Reconstruction_ICP/data/04/jpg\\04_slice_0018.jpg\n",
      "\n",
      "image 1/1 D:\\Code\\CBCT_Reconstruction_ICP\\data\\04\\jpg\\04_slice_0018.jpg: 640x640 (no detections), 8.2ms\n",
      "Speed: 2.8ms preprocess, 8.2ms inference, 0.0ms postprocess per image at shape (1, 3, 640, 640)\n",
      "detecting D:/Code/CBCT_Reconstruction_ICP/data/04/jpg\\04_slice_0019.jpg\n",
      "\n",
      "image 1/1 D:\\Code\\CBCT_Reconstruction_ICP\\data\\04\\jpg\\04_slice_0019.jpg: 640x640 (no detections), 8.9ms\n",
      "Speed: 2.6ms preprocess, 8.9ms inference, 1.0ms postprocess per image at shape (1, 3, 640, 640)\n",
      "detecting D:/Code/CBCT_Reconstruction_ICP/data/04/jpg\\04_slice_0020.jpg\n",
      "\n",
      "image 1/1 D:\\Code\\CBCT_Reconstruction_ICP\\data\\04\\jpg\\04_slice_0020.jpg: 640x640 (no detections), 14.5ms\n",
      "Speed: 3.2ms preprocess, 14.5ms inference, 1.6ms postprocess per image at shape (1, 3, 640, 640)\n",
      "detecting D:/Code/CBCT_Reconstruction_ICP/data/04/jpg\\04_slice_0021.jpg\n",
      "\n",
      "image 1/1 D:\\Code\\CBCT_Reconstruction_ICP\\data\\04\\jpg\\04_slice_0021.jpg: 640x640 (no detections), 8.0ms\n",
      "Speed: 2.1ms preprocess, 8.0ms inference, 0.5ms postprocess per image at shape (1, 3, 640, 640)\n",
      "detecting D:/Code/CBCT_Reconstruction_ICP/data/04/jpg\\04_slice_0022.jpg\n",
      "\n",
      "image 1/1 D:\\Code\\CBCT_Reconstruction_ICP\\data\\04\\jpg\\04_slice_0022.jpg: 640x640 (no detections), 10.1ms\n",
      "Speed: 3.1ms preprocess, 10.1ms inference, 0.5ms postprocess per image at shape (1, 3, 640, 640)\n",
      "detecting D:/Code/CBCT_Reconstruction_ICP/data/04/jpg\\04_slice_0023.jpg\n",
      "\n",
      "image 1/1 D:\\Code\\CBCT_Reconstruction_ICP\\data\\04\\jpg\\04_slice_0023.jpg: 640x640 (no detections), 7.9ms\n",
      "Speed: 2.6ms preprocess, 7.9ms inference, 0.5ms postprocess per image at shape (1, 3, 640, 640)\n",
      "detecting D:/Code/CBCT_Reconstruction_ICP/data/04/jpg\\04_slice_0024.jpg\n",
      "\n",
      "image 1/1 D:\\Code\\CBCT_Reconstruction_ICP\\data\\04\\jpg\\04_slice_0024.jpg: 640x640 (no detections), 7.9ms\n",
      "Speed: 3.0ms preprocess, 7.9ms inference, 1.0ms postprocess per image at shape (1, 3, 640, 640)\n",
      "detecting D:/Code/CBCT_Reconstruction_ICP/data/04/jpg\\04_slice_0025.jpg\n",
      "\n",
      "image 1/1 D:\\Code\\CBCT_Reconstruction_ICP\\data\\04\\jpg\\04_slice_0025.jpg: 640x640 (no detections), 8.2ms\n",
      "Speed: 2.6ms preprocess, 8.2ms inference, 1.1ms postprocess per image at shape (1, 3, 640, 640)\n",
      "detecting D:/Code/CBCT_Reconstruction_ICP/data/04/jpg\\04_slice_0026.jpg\n",
      "\n",
      "image 1/1 D:\\Code\\CBCT_Reconstruction_ICP\\data\\04\\jpg\\04_slice_0026.jpg: 640x640 (no detections), 17.3ms\n",
      "Speed: 3.7ms preprocess, 17.3ms inference, 1.0ms postprocess per image at shape (1, 3, 640, 640)\n",
      "detecting D:/Code/CBCT_Reconstruction_ICP/data/04/jpg\\04_slice_0027.jpg\n",
      "\n",
      "image 1/1 D:\\Code\\CBCT_Reconstruction_ICP\\data\\04\\jpg\\04_slice_0027.jpg: 640x640 (no detections), 7.6ms\n",
      "Speed: 3.1ms preprocess, 7.6ms inference, 1.0ms postprocess per image at shape (1, 3, 640, 640)\n",
      "detecting D:/Code/CBCT_Reconstruction_ICP/data/04/jpg\\04_slice_0028.jpg\n",
      "\n",
      "image 1/1 D:\\Code\\CBCT_Reconstruction_ICP\\data\\04\\jpg\\04_slice_0028.jpg: 640x640 (no detections), 8.8ms\n",
      "Speed: 3.4ms preprocess, 8.8ms inference, 1.0ms postprocess per image at shape (1, 3, 640, 640)\n",
      "detecting D:/Code/CBCT_Reconstruction_ICP/data/04/jpg\\04_slice_0029.jpg\n",
      "\n",
      "image 1/1 D:\\Code\\CBCT_Reconstruction_ICP\\data\\04\\jpg\\04_slice_0029.jpg: 640x640 (no detections), 7.7ms\n",
      "Speed: 3.0ms preprocess, 7.7ms inference, 0.0ms postprocess per image at shape (1, 3, 640, 640)\n",
      "detecting D:/Code/CBCT_Reconstruction_ICP/data/04/jpg\\04_slice_0030.jpg\n",
      "\n",
      "image 1/1 D:\\Code\\CBCT_Reconstruction_ICP\\data\\04\\jpg\\04_slice_0030.jpg: 640x640 (no detections), 7.5ms\n",
      "Speed: 2.0ms preprocess, 7.5ms inference, 1.0ms postprocess per image at shape (1, 3, 640, 640)\n",
      "detecting D:/Code/CBCT_Reconstruction_ICP/data/04/jpg\\04_slice_0031.jpg\n",
      "\n",
      "image 1/1 D:\\Code\\CBCT_Reconstruction_ICP\\data\\04\\jpg\\04_slice_0031.jpg: 640x640 (no detections), 10.2ms\n",
      "Speed: 3.0ms preprocess, 10.2ms inference, 0.0ms postprocess per image at shape (1, 3, 640, 640)\n",
      "detecting D:/Code/CBCT_Reconstruction_ICP/data/04/jpg\\04_slice_0032.jpg\n",
      "\n",
      "image 1/1 D:\\Code\\CBCT_Reconstruction_ICP\\data\\04\\jpg\\04_slice_0032.jpg: 640x640 (no detections), 8.5ms\n",
      "Speed: 3.5ms preprocess, 8.5ms inference, 0.0ms postprocess per image at shape (1, 3, 640, 640)\n",
      "detecting D:/Code/CBCT_Reconstruction_ICP/data/04/jpg\\04_slice_0033.jpg\n",
      "\n",
      "image 1/1 D:\\Code\\CBCT_Reconstruction_ICP\\data\\04\\jpg\\04_slice_0033.jpg: 640x640 (no detections), 8.0ms\n",
      "Speed: 2.9ms preprocess, 8.0ms inference, 0.0ms postprocess per image at shape (1, 3, 640, 640)\n",
      "detecting D:/Code/CBCT_Reconstruction_ICP/data/04/jpg\\04_slice_0034.jpg\n",
      "\n",
      "image 1/1 D:\\Code\\CBCT_Reconstruction_ICP\\data\\04\\jpg\\04_slice_0034.jpg: 640x640 (no detections), 7.7ms\n",
      "Speed: 3.0ms preprocess, 7.7ms inference, 1.1ms postprocess per image at shape (1, 3, 640, 640)\n",
      "detecting D:/Code/CBCT_Reconstruction_ICP/data/04/jpg\\04_slice_0035.jpg\n",
      "\n",
      "image 1/1 D:\\Code\\CBCT_Reconstruction_ICP\\data\\04\\jpg\\04_slice_0035.jpg: 640x640 (no detections), 8.1ms\n",
      "Speed: 3.0ms preprocess, 8.1ms inference, 1.0ms postprocess per image at shape (1, 3, 640, 640)\n",
      "detecting D:/Code/CBCT_Reconstruction_ICP/data/04/jpg\\04_slice_0036.jpg\n",
      "\n",
      "image 1/1 D:\\Code\\CBCT_Reconstruction_ICP\\data\\04\\jpg\\04_slice_0036.jpg: 640x640 (no detections), 8.3ms\n",
      "Speed: 2.0ms preprocess, 8.3ms inference, 0.6ms postprocess per image at shape (1, 3, 640, 640)\n",
      "detecting D:/Code/CBCT_Reconstruction_ICP/data/04/jpg\\04_slice_0037.jpg\n",
      "\n",
      "image 1/1 D:\\Code\\CBCT_Reconstruction_ICP\\data\\04\\jpg\\04_slice_0037.jpg: 640x640 (no detections), 8.8ms\n",
      "Speed: 2.1ms preprocess, 8.8ms inference, 1.0ms postprocess per image at shape (1, 3, 640, 640)\n",
      "detecting D:/Code/CBCT_Reconstruction_ICP/data/04/jpg\\04_slice_0038.jpg\n",
      "\n",
      "image 1/1 D:\\Code\\CBCT_Reconstruction_ICP\\data\\04\\jpg\\04_slice_0038.jpg: 640x640 (no detections), 7.7ms\n",
      "Speed: 3.1ms preprocess, 7.7ms inference, 1.0ms postprocess per image at shape (1, 3, 640, 640)\n",
      "detecting D:/Code/CBCT_Reconstruction_ICP/data/04/jpg\\04_slice_0039.jpg\n",
      "\n",
      "image 1/1 D:\\Code\\CBCT_Reconstruction_ICP\\data\\04\\jpg\\04_slice_0039.jpg: 640x640 (no detections), 8.0ms\n",
      "Speed: 3.0ms preprocess, 8.0ms inference, 1.0ms postprocess per image at shape (1, 3, 640, 640)\n",
      "detecting D:/Code/CBCT_Reconstruction_ICP/data/04/jpg\\04_slice_0040.jpg\n",
      "\n",
      "image 1/1 D:\\Code\\CBCT_Reconstruction_ICP\\data\\04\\jpg\\04_slice_0040.jpg: 640x640 1 arch, 10.5ms\n",
      "Speed: 3.0ms preprocess, 10.5ms inference, 1.0ms postprocess per image at shape (1, 3, 640, 640)\n",
      "Skipped box with confidence: 0.2882708013057709 in image 04_slice_0040.jpg\n",
      "detecting D:/Code/CBCT_Reconstruction_ICP/data/04/jpg\\04_slice_0041.jpg\n",
      "\n",
      "image 1/1 D:\\Code\\CBCT_Reconstruction_ICP\\data\\04\\jpg\\04_slice_0041.jpg: 640x640 (no detections), 8.7ms\n",
      "Speed: 3.0ms preprocess, 8.7ms inference, 1.1ms postprocess per image at shape (1, 3, 640, 640)\n",
      "detecting D:/Code/CBCT_Reconstruction_ICP/data/04/jpg\\04_slice_0042.jpg\n",
      "\n",
      "image 1/1 D:\\Code\\CBCT_Reconstruction_ICP\\data\\04\\jpg\\04_slice_0042.jpg: 640x640 (no detections), 11.1ms\n",
      "Speed: 2.0ms preprocess, 11.1ms inference, 1.1ms postprocess per image at shape (1, 3, 640, 640)\n",
      "detecting D:/Code/CBCT_Reconstruction_ICP/data/04/jpg\\04_slice_0043.jpg\n",
      "\n",
      "image 1/1 D:\\Code\\CBCT_Reconstruction_ICP\\data\\04\\jpg\\04_slice_0043.jpg: 640x640 (no detections), 8.7ms\n",
      "Speed: 2.0ms preprocess, 8.7ms inference, 1.0ms postprocess per image at shape (1, 3, 640, 640)\n",
      "detecting D:/Code/CBCT_Reconstruction_ICP/data/04/jpg\\04_slice_0044.jpg\n",
      "\n",
      "image 1/1 D:\\Code\\CBCT_Reconstruction_ICP\\data\\04\\jpg\\04_slice_0044.jpg: 640x640 (no detections), 7.8ms\n",
      "Speed: 2.5ms preprocess, 7.8ms inference, 1.3ms postprocess per image at shape (1, 3, 640, 640)\n",
      "detecting D:/Code/CBCT_Reconstruction_ICP/data/04/jpg\\04_slice_0045.jpg\n",
      "\n",
      "image 1/1 D:\\Code\\CBCT_Reconstruction_ICP\\data\\04\\jpg\\04_slice_0045.jpg: 640x640 (no detections), 10.4ms\n",
      "Speed: 3.0ms preprocess, 10.4ms inference, 1.0ms postprocess per image at shape (1, 3, 640, 640)\n",
      "detecting D:/Code/CBCT_Reconstruction_ICP/data/04/jpg\\04_slice_0046.jpg\n",
      "\n",
      "image 1/1 D:\\Code\\CBCT_Reconstruction_ICP\\data\\04\\jpg\\04_slice_0046.jpg: 640x640 (no detections), 7.9ms\n",
      "Speed: 3.0ms preprocess, 7.9ms inference, 1.0ms postprocess per image at shape (1, 3, 640, 640)\n",
      "detecting D:/Code/CBCT_Reconstruction_ICP/data/04/jpg\\04_slice_0047.jpg\n",
      "\n",
      "image 1/1 D:\\Code\\CBCT_Reconstruction_ICP\\data\\04\\jpg\\04_slice_0047.jpg: 640x640 (no detections), 15.5ms\n",
      "Speed: 3.1ms preprocess, 15.5ms inference, 1.0ms postprocess per image at shape (1, 3, 640, 640)\n",
      "detecting D:/Code/CBCT_Reconstruction_ICP/data/04/jpg\\04_slice_0048.jpg\n",
      "\n",
      "image 1/1 D:\\Code\\CBCT_Reconstruction_ICP\\data\\04\\jpg\\04_slice_0048.jpg: 640x640 (no detections), 11.6ms\n",
      "Speed: 2.0ms preprocess, 11.6ms inference, 2.0ms postprocess per image at shape (1, 3, 640, 640)\n",
      "detecting D:/Code/CBCT_Reconstruction_ICP/data/04/jpg\\04_slice_0049.jpg\n",
      "\n",
      "image 1/1 D:\\Code\\CBCT_Reconstruction_ICP\\data\\04\\jpg\\04_slice_0049.jpg: 640x640 (no detections), 8.0ms\n",
      "Speed: 3.0ms preprocess, 8.0ms inference, 1.0ms postprocess per image at shape (1, 3, 640, 640)\n",
      "detecting D:/Code/CBCT_Reconstruction_ICP/data/04/jpg\\04_slice_0050.jpg\n",
      "\n",
      "image 1/1 D:\\Code\\CBCT_Reconstruction_ICP\\data\\04\\jpg\\04_slice_0050.jpg: 640x640 (no detections), 7.0ms\n",
      "Speed: 2.0ms preprocess, 7.0ms inference, 1.0ms postprocess per image at shape (1, 3, 640, 640)\n",
      "detecting D:/Code/CBCT_Reconstruction_ICP/data/04/jpg\\04_slice_0051.jpg\n",
      "\n",
      "image 1/1 D:\\Code\\CBCT_Reconstruction_ICP\\data\\04\\jpg\\04_slice_0051.jpg: 640x640 (no detections), 14.7ms\n",
      "Speed: 3.0ms preprocess, 14.7ms inference, 1.0ms postprocess per image at shape (1, 3, 640, 640)\n",
      "detecting D:/Code/CBCT_Reconstruction_ICP/data/04/jpg\\04_slice_0052.jpg\n",
      "\n",
      "image 1/1 D:\\Code\\CBCT_Reconstruction_ICP\\data\\04\\jpg\\04_slice_0052.jpg: 640x640 (no detections), 10.6ms\n",
      "Speed: 3.1ms preprocess, 10.6ms inference, 1.0ms postprocess per image at shape (1, 3, 640, 640)\n",
      "detecting D:/Code/CBCT_Reconstruction_ICP/data/04/jpg\\04_slice_0053.jpg\n",
      "\n",
      "image 1/1 D:\\Code\\CBCT_Reconstruction_ICP\\data\\04\\jpg\\04_slice_0053.jpg: 640x640 (no detections), 9.0ms\n",
      "Speed: 3.0ms preprocess, 9.0ms inference, 1.1ms postprocess per image at shape (1, 3, 640, 640)\n",
      "detecting D:/Code/CBCT_Reconstruction_ICP/data/04/jpg\\04_slice_0054.jpg\n",
      "\n",
      "image 1/1 D:\\Code\\CBCT_Reconstruction_ICP\\data\\04\\jpg\\04_slice_0054.jpg: 640x640 1 arch, 9.0ms\n",
      "Speed: 4.0ms preprocess, 9.0ms inference, 1.0ms postprocess per image at shape (1, 3, 640, 640)\n",
      "Skipped box with confidence: 0.2859025299549103 in image 04_slice_0054.jpg\n",
      "detecting D:/Code/CBCT_Reconstruction_ICP/data/04/jpg\\04_slice_0055.jpg\n",
      "\n",
      "image 1/1 D:\\Code\\CBCT_Reconstruction_ICP\\data\\04\\jpg\\04_slice_0055.jpg: 640x640 (no detections), 8.0ms\n",
      "Speed: 2.0ms preprocess, 8.0ms inference, 1.0ms postprocess per image at shape (1, 3, 640, 640)\n",
      "detecting D:/Code/CBCT_Reconstruction_ICP/data/04/jpg\\04_slice_0056.jpg\n",
      "\n",
      "image 1/1 D:\\Code\\CBCT_Reconstruction_ICP\\data\\04\\jpg\\04_slice_0056.jpg: 640x640 1 arch, 15.1ms\n",
      "Speed: 3.0ms preprocess, 15.1ms inference, 1.0ms postprocess per image at shape (1, 3, 640, 640)\n",
      "Skipped box with confidence: 0.3203396797180176 in image 04_slice_0056.jpg\n",
      "detecting D:/Code/CBCT_Reconstruction_ICP/data/04/jpg\\04_slice_0057.jpg\n",
      "\n",
      "image 1/1 D:\\Code\\CBCT_Reconstruction_ICP\\data\\04\\jpg\\04_slice_0057.jpg: 640x640 (no detections), 8.0ms\n",
      "Speed: 4.0ms preprocess, 8.0ms inference, 1.0ms postprocess per image at shape (1, 3, 640, 640)\n",
      "detecting D:/Code/CBCT_Reconstruction_ICP/data/04/jpg\\04_slice_0058.jpg\n",
      "\n",
      "image 1/1 D:\\Code\\CBCT_Reconstruction_ICP\\data\\04\\jpg\\04_slice_0058.jpg: 640x640 (no detections), 7.7ms\n",
      "Speed: 3.0ms preprocess, 7.7ms inference, 1.0ms postprocess per image at shape (1, 3, 640, 640)\n",
      "detecting D:/Code/CBCT_Reconstruction_ICP/data/04/jpg\\04_slice_0059.jpg\n",
      "\n",
      "image 1/1 D:\\Code\\CBCT_Reconstruction_ICP\\data\\04\\jpg\\04_slice_0059.jpg: 640x640 (no detections), 8.0ms\n",
      "Speed: 3.0ms preprocess, 8.0ms inference, 1.0ms postprocess per image at shape (1, 3, 640, 640)\n",
      "detecting D:/Code/CBCT_Reconstruction_ICP/data/04/jpg\\04_slice_0060.jpg\n",
      "\n",
      "image 1/1 D:\\Code\\CBCT_Reconstruction_ICP\\data\\04\\jpg\\04_slice_0060.jpg: 640x640 (no detections), 10.0ms\n",
      "Speed: 3.7ms preprocess, 10.0ms inference, 0.0ms postprocess per image at shape (1, 3, 640, 640)\n",
      "detecting D:/Code/CBCT_Reconstruction_ICP/data/04/jpg\\04_slice_0061.jpg\n",
      "\n",
      "image 1/1 D:\\Code\\CBCT_Reconstruction_ICP\\data\\04\\jpg\\04_slice_0061.jpg: 640x640 (no detections), 7.5ms\n",
      "Speed: 2.0ms preprocess, 7.5ms inference, 1.0ms postprocess per image at shape (1, 3, 640, 640)\n",
      "detecting D:/Code/CBCT_Reconstruction_ICP/data/04/jpg\\04_slice_0062.jpg\n",
      "\n",
      "image 1/1 D:\\Code\\CBCT_Reconstruction_ICP\\data\\04\\jpg\\04_slice_0062.jpg: 640x640 1 arch, 7.0ms\n",
      "Speed: 3.0ms preprocess, 7.0ms inference, 0.0ms postprocess per image at shape (1, 3, 640, 640)\n",
      "0.0 0.39\n",
      "detecting D:/Code/CBCT_Reconstruction_ICP/data/04/jpg\\04_slice_0063.jpg\n",
      "\n",
      "image 1/1 D:\\Code\\CBCT_Reconstruction_ICP\\data\\04\\jpg\\04_slice_0063.jpg: 640x640 (no detections), 8.3ms\n",
      "Speed: 2.0ms preprocess, 8.3ms inference, 1.0ms postprocess per image at shape (1, 3, 640, 640)\n",
      "detecting D:/Code/CBCT_Reconstruction_ICP/data/04/jpg\\04_slice_0064.jpg\n",
      "\n",
      "image 1/1 D:\\Code\\CBCT_Reconstruction_ICP\\data\\04\\jpg\\04_slice_0064.jpg: 640x640 (no detections), 17.0ms\n",
      "Speed: 4.0ms preprocess, 17.0ms inference, 0.0ms postprocess per image at shape (1, 3, 640, 640)\n",
      "detecting D:/Code/CBCT_Reconstruction_ICP/data/04/jpg\\04_slice_0065.jpg\n",
      "\n",
      "image 1/1 D:\\Code\\CBCT_Reconstruction_ICP\\data\\04\\jpg\\04_slice_0065.jpg: 640x640 (no detections), 7.8ms\n",
      "Speed: 3.0ms preprocess, 7.8ms inference, 0.5ms postprocess per image at shape (1, 3, 640, 640)\n",
      "detecting D:/Code/CBCT_Reconstruction_ICP/data/04/jpg\\04_slice_0066.jpg\n",
      "\n",
      "image 1/1 D:\\Code\\CBCT_Reconstruction_ICP\\data\\04\\jpg\\04_slice_0066.jpg: 640x640 (no detections), 8.2ms\n",
      "Speed: 3.1ms preprocess, 8.2ms inference, 0.0ms postprocess per image at shape (1, 3, 640, 640)\n",
      "detecting D:/Code/CBCT_Reconstruction_ICP/data/04/jpg\\04_slice_0067.jpg\n",
      "\n",
      "image 1/1 D:\\Code\\CBCT_Reconstruction_ICP\\data\\04\\jpg\\04_slice_0067.jpg: 640x640 (no detections), 6.6ms\n",
      "Speed: 3.0ms preprocess, 6.6ms inference, 1.0ms postprocess per image at shape (1, 3, 640, 640)\n",
      "detecting D:/Code/CBCT_Reconstruction_ICP/data/04/jpg\\04_slice_0068.jpg\n",
      "\n",
      "image 1/1 D:\\Code\\CBCT_Reconstruction_ICP\\data\\04\\jpg\\04_slice_0068.jpg: 640x640 1 arch, 9.0ms\n",
      "Speed: 3.0ms preprocess, 9.0ms inference, 1.0ms postprocess per image at shape (1, 3, 640, 640)\n",
      "Skipped box with confidence: 0.29670649766921997 in image 04_slice_0068.jpg\n",
      "detecting D:/Code/CBCT_Reconstruction_ICP/data/04/jpg\\04_slice_0069.jpg\n",
      "\n",
      "image 1/1 D:\\Code\\CBCT_Reconstruction_ICP\\data\\04\\jpg\\04_slice_0069.jpg: 640x640 1 arch, 14.6ms\n",
      "Speed: 2.6ms preprocess, 14.6ms inference, 2.0ms postprocess per image at shape (1, 3, 640, 640)\n",
      "Skipped box with confidence: 0.34841689467430115 in image 04_slice_0069.jpg\n",
      "detecting D:/Code/CBCT_Reconstruction_ICP/data/04/jpg\\04_slice_0070.jpg\n",
      "\n",
      "image 1/1 D:\\Code\\CBCT_Reconstruction_ICP\\data\\04\\jpg\\04_slice_0070.jpg: 640x640 1 arch, 7.6ms\n",
      "Speed: 3.3ms preprocess, 7.6ms inference, 1.0ms postprocess per image at shape (1, 3, 640, 640)\n",
      "0.0 0.46\n",
      "detecting D:/Code/CBCT_Reconstruction_ICP/data/04/jpg\\04_slice_0071.jpg\n",
      "\n",
      "image 1/1 D:\\Code\\CBCT_Reconstruction_ICP\\data\\04\\jpg\\04_slice_0071.jpg: 640x640 1 arch, 8.5ms\n",
      "Speed: 2.0ms preprocess, 8.5ms inference, 1.0ms postprocess per image at shape (1, 3, 640, 640)\n",
      "0.0 0.46\n",
      "detecting D:/Code/CBCT_Reconstruction_ICP/data/04/jpg\\04_slice_0072.jpg\n",
      "\n",
      "image 1/1 D:\\Code\\CBCT_Reconstruction_ICP\\data\\04\\jpg\\04_slice_0072.jpg: 640x640 1 arch, 8.0ms\n",
      "Speed: 3.0ms preprocess, 8.0ms inference, 1.0ms postprocess per image at shape (1, 3, 640, 640)\n",
      "Skipped box with confidence: 0.2942574620246887 in image 04_slice_0072.jpg\n",
      "detecting D:/Code/CBCT_Reconstruction_ICP/data/04/jpg\\04_slice_0073.jpg\n",
      "\n",
      "image 1/1 D:\\Code\\CBCT_Reconstruction_ICP\\data\\04\\jpg\\04_slice_0073.jpg: 640x640 1 arch, 8.5ms\n",
      "Speed: 3.0ms preprocess, 8.5ms inference, 1.0ms postprocess per image at shape (1, 3, 640, 640)\n",
      "Skipped box with confidence: 0.2577826678752899 in image 04_slice_0073.jpg\n",
      "detecting D:/Code/CBCT_Reconstruction_ICP/data/04/jpg\\04_slice_0074.jpg\n",
      "\n",
      "image 1/1 D:\\Code\\CBCT_Reconstruction_ICP\\data\\04\\jpg\\04_slice_0074.jpg: 640x640 1 arch, 8.0ms\n",
      "Speed: 2.4ms preprocess, 8.0ms inference, 0.0ms postprocess per image at shape (1, 3, 640, 640)\n",
      "Skipped box with confidence: 0.2934788167476654 in image 04_slice_0074.jpg\n",
      "detecting D:/Code/CBCT_Reconstruction_ICP/data/04/jpg\\04_slice_0075.jpg\n",
      "\n",
      "image 1/1 D:\\Code\\CBCT_Reconstruction_ICP\\data\\04\\jpg\\04_slice_0075.jpg: 640x640 (no detections), 8.0ms\n",
      "Speed: 3.0ms preprocess, 8.0ms inference, 1.0ms postprocess per image at shape (1, 3, 640, 640)\n",
      "detecting D:/Code/CBCT_Reconstruction_ICP/data/04/jpg\\04_slice_0076.jpg\n",
      "\n",
      "image 1/1 D:\\Code\\CBCT_Reconstruction_ICP\\data\\04\\jpg\\04_slice_0076.jpg: 640x640 1 arch, 7.0ms\n",
      "Speed: 3.0ms preprocess, 7.0ms inference, 1.5ms postprocess per image at shape (1, 3, 640, 640)\n",
      "Skipped box with confidence: 0.25687167048454285 in image 04_slice_0076.jpg\n",
      "detecting D:/Code/CBCT_Reconstruction_ICP/data/04/jpg\\04_slice_0077.jpg\n",
      "\n",
      "image 1/1 D:\\Code\\CBCT_Reconstruction_ICP\\data\\04\\jpg\\04_slice_0077.jpg: 640x640 (no detections), 8.0ms\n",
      "Speed: 2.7ms preprocess, 8.0ms inference, 1.0ms postprocess per image at shape (1, 3, 640, 640)\n",
      "detecting D:/Code/CBCT_Reconstruction_ICP/data/04/jpg\\04_slice_0078.jpg\n",
      "\n",
      "image 1/1 D:\\Code\\CBCT_Reconstruction_ICP\\data\\04\\jpg\\04_slice_0078.jpg: 640x640 1 arch, 7.8ms\n",
      "Speed: 3.0ms preprocess, 7.8ms inference, 1.0ms postprocess per image at shape (1, 3, 640, 640)\n",
      "Skipped box with confidence: 0.28026947379112244 in image 04_slice_0078.jpg\n",
      "detecting D:/Code/CBCT_Reconstruction_ICP/data/04/jpg\\04_slice_0079.jpg\n",
      "\n",
      "image 1/1 D:\\Code\\CBCT_Reconstruction_ICP\\data\\04\\jpg\\04_slice_0079.jpg: 640x640 (no detections), 8.0ms\n",
      "Speed: 3.3ms preprocess, 8.0ms inference, 1.2ms postprocess per image at shape (1, 3, 640, 640)\n",
      "detecting D:/Code/CBCT_Reconstruction_ICP/data/04/jpg\\04_slice_0080.jpg\n",
      "\n",
      "image 1/1 D:\\Code\\CBCT_Reconstruction_ICP\\data\\04\\jpg\\04_slice_0080.jpg: 640x640 1 arch, 7.5ms\n",
      "Speed: 3.0ms preprocess, 7.5ms inference, 1.0ms postprocess per image at shape (1, 3, 640, 640)\n",
      "Skipped box with confidence: 0.2953285276889801 in image 04_slice_0080.jpg\n",
      "detecting D:/Code/CBCT_Reconstruction_ICP/data/04/jpg\\04_slice_0081.jpg\n",
      "\n",
      "image 1/1 D:\\Code\\CBCT_Reconstruction_ICP\\data\\04\\jpg\\04_slice_0081.jpg: 640x640 1 arch, 9.0ms\n",
      "Speed: 2.0ms preprocess, 9.0ms inference, 1.0ms postprocess per image at shape (1, 3, 640, 640)\n",
      "0.0 0.38\n",
      "detecting D:/Code/CBCT_Reconstruction_ICP/data/04/jpg\\04_slice_0082.jpg\n",
      "\n",
      "image 1/1 D:\\Code\\CBCT_Reconstruction_ICP\\data\\04\\jpg\\04_slice_0082.jpg: 640x640 1 arch, 7.0ms\n",
      "Speed: 3.0ms preprocess, 7.0ms inference, 1.0ms postprocess per image at shape (1, 3, 640, 640)\n",
      "0.0 0.41\n",
      "detecting D:/Code/CBCT_Reconstruction_ICP/data/04/jpg\\04_slice_0083.jpg\n",
      "\n",
      "image 1/1 D:\\Code\\CBCT_Reconstruction_ICP\\data\\04\\jpg\\04_slice_0083.jpg: 640x640 1 arch, 7.3ms\n",
      "Speed: 2.7ms preprocess, 7.3ms inference, 1.0ms postprocess per image at shape (1, 3, 640, 640)\n",
      "Skipped box with confidence: 0.2740190327167511 in image 04_slice_0083.jpg\n",
      "detecting D:/Code/CBCT_Reconstruction_ICP/data/04/jpg\\04_slice_0084.jpg\n",
      "\n",
      "image 1/1 D:\\Code\\CBCT_Reconstruction_ICP\\data\\04\\jpg\\04_slice_0084.jpg: 640x640 2 archs, 7.9ms\n",
      "Speed: 2.0ms preprocess, 7.9ms inference, 1.0ms postprocess per image at shape (1, 3, 640, 640)\n",
      "0.0 0.43\n",
      "0.0 0.35\n",
      "detecting D:/Code/CBCT_Reconstruction_ICP/data/04/jpg\\04_slice_0085.jpg\n",
      "\n",
      "image 1/1 D:\\Code\\CBCT_Reconstruction_ICP\\data\\04\\jpg\\04_slice_0085.jpg: 640x640 2 archs, 18.5ms\n",
      "Speed: 2.5ms preprocess, 18.5ms inference, 1.5ms postprocess per image at shape (1, 3, 640, 640)\n",
      "0.0 0.50\n",
      "0.0 0.48\n",
      "detecting D:/Code/CBCT_Reconstruction_ICP/data/04/jpg\\04_slice_0086.jpg\n",
      "\n",
      "image 1/1 D:\\Code\\CBCT_Reconstruction_ICP\\data\\04\\jpg\\04_slice_0086.jpg: 640x640 1 arch, 7.5ms\n",
      "Speed: 3.0ms preprocess, 7.5ms inference, 1.0ms postprocess per image at shape (1, 3, 640, 640)\n",
      "0.0 0.53\n",
      "detecting D:/Code/CBCT_Reconstruction_ICP/data/04/jpg\\04_slice_0087.jpg\n",
      "\n",
      "image 1/1 D:\\Code\\CBCT_Reconstruction_ICP\\data\\04\\jpg\\04_slice_0087.jpg: 640x640 (no detections), 8.0ms\n",
      "Speed: 2.0ms preprocess, 8.0ms inference, 0.0ms postprocess per image at shape (1, 3, 640, 640)\n",
      "detecting D:/Code/CBCT_Reconstruction_ICP/data/04/jpg\\04_slice_0088.jpg\n",
      "\n",
      "image 1/1 D:\\Code\\CBCT_Reconstruction_ICP\\data\\04\\jpg\\04_slice_0088.jpg: 640x640 1 arch, 7.0ms\n",
      "Speed: 3.0ms preprocess, 7.0ms inference, 1.0ms postprocess per image at shape (1, 3, 640, 640)\n",
      "0.0 0.43\n",
      "detecting D:/Code/CBCT_Reconstruction_ICP/data/04/jpg\\04_slice_0089.jpg\n",
      "\n",
      "image 1/1 D:\\Code\\CBCT_Reconstruction_ICP\\data\\04\\jpg\\04_slice_0089.jpg: 640x640 1 arch, 8.0ms\n",
      "Speed: 2.0ms preprocess, 8.0ms inference, 1.0ms postprocess per image at shape (1, 3, 640, 640)\n",
      "0.0 0.52\n",
      "detecting D:/Code/CBCT_Reconstruction_ICP/data/04/jpg\\04_slice_0090.jpg\n",
      "\n",
      "image 1/1 D:\\Code\\CBCT_Reconstruction_ICP\\data\\04\\jpg\\04_slice_0090.jpg: 640x640 1 arch, 8.0ms\n",
      "Speed: 2.0ms preprocess, 8.0ms inference, 1.0ms postprocess per image at shape (1, 3, 640, 640)\n",
      "0.0 0.61\n",
      "detecting D:/Code/CBCT_Reconstruction_ICP/data/04/jpg\\04_slice_0091.jpg\n",
      "\n",
      "image 1/1 D:\\Code\\CBCT_Reconstruction_ICP\\data\\04\\jpg\\04_slice_0091.jpg: 640x640 1 arch, 7.5ms\n",
      "Speed: 3.0ms preprocess, 7.5ms inference, 1.0ms postprocess per image at shape (1, 3, 640, 640)\n",
      "0.0 0.79\n",
      "detecting D:/Code/CBCT_Reconstruction_ICP/data/04/jpg\\04_slice_0092.jpg\n",
      "\n",
      "image 1/1 D:\\Code\\CBCT_Reconstruction_ICP\\data\\04\\jpg\\04_slice_0092.jpg: 640x640 2 archs, 7.5ms\n",
      "Speed: 2.9ms preprocess, 7.5ms inference, 1.0ms postprocess per image at shape (1, 3, 640, 640)\n",
      "0.0 0.68\n",
      "0.0 0.37\n",
      "detecting D:/Code/CBCT_Reconstruction_ICP/data/04/jpg\\04_slice_0093.jpg\n",
      "\n",
      "image 1/1 D:\\Code\\CBCT_Reconstruction_ICP\\data\\04\\jpg\\04_slice_0093.jpg: 640x640 2 archs, 8.7ms\n",
      "Speed: 2.5ms preprocess, 8.7ms inference, 1.0ms postprocess per image at shape (1, 3, 640, 640)\n",
      "0.0 0.72\n",
      "0.0 0.48\n",
      "detecting D:/Code/CBCT_Reconstruction_ICP/data/04/jpg\\04_slice_0094.jpg\n",
      "\n",
      "image 1/1 D:\\Code\\CBCT_Reconstruction_ICP\\data\\04\\jpg\\04_slice_0094.jpg: 640x640 2 archs, 7.0ms\n",
      "Speed: 2.0ms preprocess, 7.0ms inference, 1.0ms postprocess per image at shape (1, 3, 640, 640)\n",
      "0.0 0.78\n",
      "0.0 0.49\n",
      "detecting D:/Code/CBCT_Reconstruction_ICP/data/04/jpg\\04_slice_0095.jpg\n",
      "\n",
      "image 1/1 D:\\Code\\CBCT_Reconstruction_ICP\\data\\04\\jpg\\04_slice_0095.jpg: 640x640 1 arch, 7.7ms\n",
      "Speed: 3.0ms preprocess, 7.7ms inference, 0.5ms postprocess per image at shape (1, 3, 640, 640)\n",
      "0.0 0.83\n",
      "detecting D:/Code/CBCT_Reconstruction_ICP/data/04/jpg\\04_slice_0096.jpg\n",
      "\n",
      "image 1/1 D:\\Code\\CBCT_Reconstruction_ICP\\data\\04\\jpg\\04_slice_0096.jpg: 640x640 1 arch, 8.5ms\n",
      "Speed: 2.0ms preprocess, 8.5ms inference, 1.0ms postprocess per image at shape (1, 3, 640, 640)\n",
      "0.0 0.81\n",
      "detecting D:/Code/CBCT_Reconstruction_ICP/data/04/jpg\\04_slice_0097.jpg\n",
      "\n",
      "image 1/1 D:\\Code\\CBCT_Reconstruction_ICP\\data\\04\\jpg\\04_slice_0097.jpg: 640x640 1 arch, 8.4ms\n",
      "Speed: 2.0ms preprocess, 8.4ms inference, 1.0ms postprocess per image at shape (1, 3, 640, 640)\n",
      "0.0 0.52\n",
      "detecting D:/Code/CBCT_Reconstruction_ICP/data/04/jpg\\04_slice_0098.jpg\n",
      "\n",
      "image 1/1 D:\\Code\\CBCT_Reconstruction_ICP\\data\\04\\jpg\\04_slice_0098.jpg: 640x640 (no detections), 7.9ms\n",
      "Speed: 2.8ms preprocess, 7.9ms inference, 1.0ms postprocess per image at shape (1, 3, 640, 640)\n",
      "detecting D:/Code/CBCT_Reconstruction_ICP/data/04/jpg\\04_slice_0099.jpg\n",
      "\n",
      "image 1/1 D:\\Code\\CBCT_Reconstruction_ICP\\data\\04\\jpg\\04_slice_0099.jpg: 640x640 1 arch, 8.4ms\n",
      "Speed: 3.0ms preprocess, 8.4ms inference, 1.0ms postprocess per image at shape (1, 3, 640, 640)\n",
      "0.0 0.37\n",
      "detecting D:/Code/CBCT_Reconstruction_ICP/data/04/jpg\\04_slice_0100.jpg\n",
      "\n",
      "image 1/1 D:\\Code\\CBCT_Reconstruction_ICP\\data\\04\\jpg\\04_slice_0100.jpg: 640x640 1 arch, 10.0ms\n",
      "Speed: 2.5ms preprocess, 10.0ms inference, 0.0ms postprocess per image at shape (1, 3, 640, 640)\n",
      "0.0 0.54\n",
      "detecting D:/Code/CBCT_Reconstruction_ICP/data/04/jpg\\04_slice_0101.jpg\n",
      "\n",
      "image 1/1 D:\\Code\\CBCT_Reconstruction_ICP\\data\\04\\jpg\\04_slice_0101.jpg: 640x640 2 archs, 6.8ms\n",
      "Speed: 2.8ms preprocess, 6.8ms inference, 1.0ms postprocess per image at shape (1, 3, 640, 640)\n",
      "Skipped box with confidence: 0.27930575609207153 in image 04_slice_0101.jpg\n",
      "0.0 0.53\n",
      "detecting D:/Code/CBCT_Reconstruction_ICP/data/04/jpg\\04_slice_0102.jpg\n",
      "\n",
      "image 1/1 D:\\Code\\CBCT_Reconstruction_ICP\\data\\04\\jpg\\04_slice_0102.jpg: 640x640 2 archs, 9.5ms\n",
      "Speed: 3.0ms preprocess, 9.5ms inference, 0.5ms postprocess per image at shape (1, 3, 640, 640)\n",
      "Skipped box with confidence: 0.279863566160202 in image 04_slice_0102.jpg\n",
      "0.0 0.67\n",
      "detecting D:/Code/CBCT_Reconstruction_ICP/data/04/jpg\\04_slice_0103.jpg\n",
      "\n",
      "image 1/1 D:\\Code\\CBCT_Reconstruction_ICP\\data\\04\\jpg\\04_slice_0103.jpg: 640x640 2 archs, 13.8ms\n",
      "Speed: 3.9ms preprocess, 13.8ms inference, 1.0ms postprocess per image at shape (1, 3, 640, 640)\n",
      "0.0 0.61\n",
      "0.0 0.52\n",
      "detecting D:/Code/CBCT_Reconstruction_ICP/data/04/jpg\\04_slice_0104.jpg\n",
      "\n",
      "image 1/1 D:\\Code\\CBCT_Reconstruction_ICP\\data\\04\\jpg\\04_slice_0104.jpg: 640x640 2 archs, 7.0ms\n",
      "Speed: 3.0ms preprocess, 7.0ms inference, 1.0ms postprocess per image at shape (1, 3, 640, 640)\n",
      "Skipped box with confidence: 0.3432796001434326 in image 04_slice_0104.jpg\n",
      "0.0 0.76\n",
      "detecting D:/Code/CBCT_Reconstruction_ICP/data/04/jpg\\04_slice_0105.jpg\n",
      "\n",
      "image 1/1 D:\\Code\\CBCT_Reconstruction_ICP\\data\\04\\jpg\\04_slice_0105.jpg: 640x640 2 archs, 7.0ms\n",
      "Speed: 2.1ms preprocess, 7.0ms inference, 1.0ms postprocess per image at shape (1, 3, 640, 640)\n",
      "0.0 0.66\n",
      "0.0 0.66\n",
      "detecting D:/Code/CBCT_Reconstruction_ICP/data/04/jpg\\04_slice_0106.jpg\n",
      "\n",
      "image 1/1 D:\\Code\\CBCT_Reconstruction_ICP\\data\\04\\jpg\\04_slice_0106.jpg: 640x640 2 archs, 7.0ms\n",
      "Speed: 3.0ms preprocess, 7.0ms inference, 1.0ms postprocess per image at shape (1, 3, 640, 640)\n",
      "0.0 0.80\n",
      "0.0 0.62\n",
      "detecting D:/Code/CBCT_Reconstruction_ICP/data/04/jpg\\04_slice_0107.jpg\n",
      "\n",
      "image 1/1 D:\\Code\\CBCT_Reconstruction_ICP\\data\\04\\jpg\\04_slice_0107.jpg: 640x640 2 archs, 9.0ms\n",
      "Speed: 3.0ms preprocess, 9.0ms inference, 1.0ms postprocess per image at shape (1, 3, 640, 640)\n",
      "0.0 0.70\n",
      "0.0 0.69\n",
      "detecting D:/Code/CBCT_Reconstruction_ICP/data/04/jpg\\04_slice_0108.jpg\n",
      "\n",
      "image 1/1 D:\\Code\\CBCT_Reconstruction_ICP\\data\\04\\jpg\\04_slice_0108.jpg: 640x640 2 archs, 8.0ms\n",
      "Speed: 3.0ms preprocess, 8.0ms inference, 1.0ms postprocess per image at shape (1, 3, 640, 640)\n",
      "0.0 0.67\n",
      "0.0 0.61\n",
      "detecting D:/Code/CBCT_Reconstruction_ICP/data/04/jpg\\04_slice_0109.jpg\n",
      "\n",
      "image 1/1 D:\\Code\\CBCT_Reconstruction_ICP\\data\\04\\jpg\\04_slice_0109.jpg: 640x640 2 archs, 7.0ms\n",
      "Speed: 3.3ms preprocess, 7.0ms inference, 1.0ms postprocess per image at shape (1, 3, 640, 640)\n",
      "0.0 0.74\n",
      "0.0 0.39\n",
      "detecting D:/Code/CBCT_Reconstruction_ICP/data/04/jpg\\04_slice_0110.jpg\n",
      "\n",
      "image 1/1 D:\\Code\\CBCT_Reconstruction_ICP\\data\\04\\jpg\\04_slice_0110.jpg: 640x640 2 archs, 7.7ms\n",
      "Speed: 2.0ms preprocess, 7.7ms inference, 1.0ms postprocess per image at shape (1, 3, 640, 640)\n",
      "Skipped box with confidence: 0.3177676200866699 in image 04_slice_0110.jpg\n",
      "0.0 0.71\n",
      "detecting D:/Code/CBCT_Reconstruction_ICP/data/04/jpg\\04_slice_0111.jpg\n",
      "\n",
      "image 1/1 D:\\Code\\CBCT_Reconstruction_ICP\\data\\04\\jpg\\04_slice_0111.jpg: 640x640 2 archs, 6.0ms\n",
      "Speed: 3.7ms preprocess, 6.0ms inference, 1.0ms postprocess per image at shape (1, 3, 640, 640)\n",
      "Skipped box with confidence: 0.2975824773311615 in image 04_slice_0111.jpg\n",
      "0.0 0.40\n",
      "detecting D:/Code/CBCT_Reconstruction_ICP/data/04/jpg\\04_slice_0112.jpg\n",
      "\n",
      "image 1/1 D:\\Code\\CBCT_Reconstruction_ICP\\data\\04\\jpg\\04_slice_0112.jpg: 640x640 2 archs, 8.5ms\n",
      "Speed: 2.5ms preprocess, 8.5ms inference, 1.0ms postprocess per image at shape (1, 3, 640, 640)\n",
      "Skipped box with confidence: 0.3394773602485657 in image 04_slice_0112.jpg\n",
      "0.0 0.36\n",
      "detecting D:/Code/CBCT_Reconstruction_ICP/data/04/jpg\\04_slice_0113.jpg\n",
      "\n",
      "image 1/1 D:\\Code\\CBCT_Reconstruction_ICP\\data\\04\\jpg\\04_slice_0113.jpg: 640x640 1 arch, 8.4ms\n",
      "Speed: 2.0ms preprocess, 8.4ms inference, 1.0ms postprocess per image at shape (1, 3, 640, 640)\n",
      "0.0 0.44\n",
      "detecting D:/Code/CBCT_Reconstruction_ICP/data/04/jpg\\04_slice_0114.jpg\n",
      "\n",
      "image 1/1 D:\\Code\\CBCT_Reconstruction_ICP\\data\\04\\jpg\\04_slice_0114.jpg: 640x640 1 arch, 7.2ms\n",
      "Speed: 3.2ms preprocess, 7.2ms inference, 0.7ms postprocess per image at shape (1, 3, 640, 640)\n",
      "0.0 0.37\n",
      "detecting D:/Code/CBCT_Reconstruction_ICP/data/04/jpg\\04_slice_0115.jpg\n",
      "\n",
      "image 1/1 D:\\Code\\CBCT_Reconstruction_ICP\\data\\04\\jpg\\04_slice_0115.jpg: 640x640 (no detections), 8.4ms\n",
      "Speed: 2.5ms preprocess, 8.4ms inference, 0.5ms postprocess per image at shape (1, 3, 640, 640)\n",
      "detecting D:/Code/CBCT_Reconstruction_ICP/data/04/jpg\\04_slice_0116.jpg\n",
      "\n",
      "image 1/1 D:\\Code\\CBCT_Reconstruction_ICP\\data\\04\\jpg\\04_slice_0116.jpg: 640x640 (no detections), 7.0ms\n",
      "Speed: 2.5ms preprocess, 7.0ms inference, 2.0ms postprocess per image at shape (1, 3, 640, 640)\n",
      "detecting D:/Code/CBCT_Reconstruction_ICP/data/04/jpg\\04_slice_0117.jpg\n",
      "\n",
      "image 1/1 D:\\Code\\CBCT_Reconstruction_ICP\\data\\04\\jpg\\04_slice_0117.jpg: 640x640 (no detections), 9.5ms\n",
      "Speed: 3.5ms preprocess, 9.5ms inference, 1.1ms postprocess per image at shape (1, 3, 640, 640)\n",
      "detecting D:/Code/CBCT_Reconstruction_ICP/data/04/jpg\\04_slice_0118.jpg\n",
      "\n",
      "image 1/1 D:\\Code\\CBCT_Reconstruction_ICP\\data\\04\\jpg\\04_slice_0118.jpg: 640x640 (no detections), 8.0ms\n",
      "Speed: 2.7ms preprocess, 8.0ms inference, 1.0ms postprocess per image at shape (1, 3, 640, 640)\n",
      "detecting D:/Code/CBCT_Reconstruction_ICP/data/04/jpg\\04_slice_0119.jpg\n",
      "\n",
      "image 1/1 D:\\Code\\CBCT_Reconstruction_ICP\\data\\04\\jpg\\04_slice_0119.jpg: 640x640 (no detections), 7.0ms\n",
      "Speed: 2.6ms preprocess, 7.0ms inference, 1.0ms postprocess per image at shape (1, 3, 640, 640)\n",
      "detecting D:/Code/CBCT_Reconstruction_ICP/data/04/jpg\\04_slice_0120.jpg\n",
      "\n",
      "image 1/1 D:\\Code\\CBCT_Reconstruction_ICP\\data\\04\\jpg\\04_slice_0120.jpg: 640x640 (no detections), 15.0ms\n",
      "Speed: 3.4ms preprocess, 15.0ms inference, 1.0ms postprocess per image at shape (1, 3, 640, 640)\n",
      "detecting D:/Code/CBCT_Reconstruction_ICP/data/04/jpg\\04_slice_0121.jpg\n",
      "\n",
      "image 1/1 D:\\Code\\CBCT_Reconstruction_ICP\\data\\04\\jpg\\04_slice_0121.jpg: 640x640 (no detections), 7.6ms\n",
      "Speed: 3.0ms preprocess, 7.6ms inference, 1.0ms postprocess per image at shape (1, 3, 640, 640)\n",
      "detecting D:/Code/CBCT_Reconstruction_ICP/data/04/jpg\\04_slice_0122.jpg\n",
      "\n",
      "image 1/1 D:\\Code\\CBCT_Reconstruction_ICP\\data\\04\\jpg\\04_slice_0122.jpg: 640x640 (no detections), 9.0ms\n",
      "Speed: 4.0ms preprocess, 9.0ms inference, 1.0ms postprocess per image at shape (1, 3, 640, 640)\n",
      "detecting D:/Code/CBCT_Reconstruction_ICP/data/04/jpg\\04_slice_0123.jpg\n",
      "\n",
      "image 1/1 D:\\Code\\CBCT_Reconstruction_ICP\\data\\04\\jpg\\04_slice_0123.jpg: 640x640 (no detections), 8.4ms\n",
      "Speed: 2.5ms preprocess, 8.4ms inference, 0.5ms postprocess per image at shape (1, 3, 640, 640)\n",
      "detecting D:/Code/CBCT_Reconstruction_ICP/data/04/jpg\\04_slice_0124.jpg\n",
      "\n",
      "image 1/1 D:\\Code\\CBCT_Reconstruction_ICP\\data\\04\\jpg\\04_slice_0124.jpg: 640x640 (no detections), 6.0ms\n",
      "Speed: 3.0ms preprocess, 6.0ms inference, 1.0ms postprocess per image at shape (1, 3, 640, 640)\n",
      "detecting D:/Code/CBCT_Reconstruction_ICP/data/04/jpg\\04_slice_0125.jpg\n",
      "\n",
      "image 1/1 D:\\Code\\CBCT_Reconstruction_ICP\\data\\04\\jpg\\04_slice_0125.jpg: 640x640 (no detections), 8.0ms\n",
      "Speed: 3.0ms preprocess, 8.0ms inference, 0.6ms postprocess per image at shape (1, 3, 640, 640)\n",
      "detecting D:/Code/CBCT_Reconstruction_ICP/data/04/jpg\\04_slice_0126.jpg\n",
      "\n",
      "image 1/1 D:\\Code\\CBCT_Reconstruction_ICP\\data\\04\\jpg\\04_slice_0126.jpg: 640x640 (no detections), 7.1ms\n",
      "Speed: 2.8ms preprocess, 7.1ms inference, 1.0ms postprocess per image at shape (1, 3, 640, 640)\n",
      "detecting D:/Code/CBCT_Reconstruction_ICP/data/04/jpg\\04_slice_0127.jpg\n",
      "\n",
      "image 1/1 D:\\Code\\CBCT_Reconstruction_ICP\\data\\04\\jpg\\04_slice_0127.jpg: 640x640 (no detections), 7.0ms\n",
      "Speed: 2.9ms preprocess, 7.0ms inference, 1.0ms postprocess per image at shape (1, 3, 640, 640)\n",
      "detecting D:/Code/CBCT_Reconstruction_ICP/data/04/jpg\\04_slice_0128.jpg\n",
      "\n",
      "image 1/1 D:\\Code\\CBCT_Reconstruction_ICP\\data\\04\\jpg\\04_slice_0128.jpg: 640x640 (no detections), 7.5ms\n",
      "Speed: 3.5ms preprocess, 7.5ms inference, 0.0ms postprocess per image at shape (1, 3, 640, 640)\n",
      "detecting D:/Code/CBCT_Reconstruction_ICP/data/04/jpg\\04_slice_0129.jpg\n",
      "\n",
      "image 1/1 D:\\Code\\CBCT_Reconstruction_ICP\\data\\04\\jpg\\04_slice_0129.jpg: 640x640 (no detections), 9.4ms\n",
      "Speed: 2.1ms preprocess, 9.4ms inference, 0.0ms postprocess per image at shape (1, 3, 640, 640)\n",
      "detecting D:/Code/CBCT_Reconstruction_ICP/data/04/jpg\\04_slice_0130.jpg\n",
      "\n",
      "image 1/1 D:\\Code\\CBCT_Reconstruction_ICP\\data\\04\\jpg\\04_slice_0130.jpg: 640x640 (no detections), 7.8ms\n",
      "Speed: 3.0ms preprocess, 7.8ms inference, 0.0ms postprocess per image at shape (1, 3, 640, 640)\n",
      "detecting D:/Code/CBCT_Reconstruction_ICP/data/04/jpg\\04_slice_0131.jpg\n",
      "\n",
      "image 1/1 D:\\Code\\CBCT_Reconstruction_ICP\\data\\04\\jpg\\04_slice_0131.jpg: 640x640 (no detections), 8.0ms\n",
      "Speed: 2.0ms preprocess, 8.0ms inference, 1.0ms postprocess per image at shape (1, 3, 640, 640)\n",
      "detecting D:/Code/CBCT_Reconstruction_ICP/data/04/jpg\\04_slice_0132.jpg\n",
      "\n",
      "image 1/1 D:\\Code\\CBCT_Reconstruction_ICP\\data\\04\\jpg\\04_slice_0132.jpg: 640x640 (no detections), 9.0ms\n",
      "Speed: 3.0ms preprocess, 9.0ms inference, 0.0ms postprocess per image at shape (1, 3, 640, 640)\n",
      "detecting D:/Code/CBCT_Reconstruction_ICP/data/04/jpg\\04_slice_0133.jpg\n",
      "\n",
      "image 1/1 D:\\Code\\CBCT_Reconstruction_ICP\\data\\04\\jpg\\04_slice_0133.jpg: 640x640 (no detections), 8.0ms\n",
      "Speed: 3.4ms preprocess, 8.0ms inference, 1.0ms postprocess per image at shape (1, 3, 640, 640)\n",
      "detecting D:/Code/CBCT_Reconstruction_ICP/data/04/jpg\\04_slice_0134.jpg\n",
      "\n",
      "image 1/1 D:\\Code\\CBCT_Reconstruction_ICP\\data\\04\\jpg\\04_slice_0134.jpg: 640x640 (no detections), 8.0ms\n",
      "Speed: 2.8ms preprocess, 8.0ms inference, 0.0ms postprocess per image at shape (1, 3, 640, 640)\n",
      "detecting D:/Code/CBCT_Reconstruction_ICP/data/04/jpg\\04_slice_0135.jpg\n",
      "\n",
      "image 1/1 D:\\Code\\CBCT_Reconstruction_ICP\\data\\04\\jpg\\04_slice_0135.jpg: 640x640 (no detections), 8.0ms\n",
      "Speed: 2.5ms preprocess, 8.0ms inference, 1.0ms postprocess per image at shape (1, 3, 640, 640)\n",
      "detecting D:/Code/CBCT_Reconstruction_ICP/data/04/jpg\\04_slice_0136.jpg\n",
      "\n",
      "image 1/1 D:\\Code\\CBCT_Reconstruction_ICP\\data\\04\\jpg\\04_slice_0136.jpg: 640x640 (no detections), 7.5ms\n",
      "Speed: 2.5ms preprocess, 7.5ms inference, 1.0ms postprocess per image at shape (1, 3, 640, 640)\n",
      "detecting D:/Code/CBCT_Reconstruction_ICP/data/04/jpg\\04_slice_0137.jpg\n",
      "\n",
      "image 1/1 D:\\Code\\CBCT_Reconstruction_ICP\\data\\04\\jpg\\04_slice_0137.jpg: 640x640 (no detections), 8.8ms\n",
      "Speed: 3.0ms preprocess, 8.8ms inference, 1.0ms postprocess per image at shape (1, 3, 640, 640)\n",
      "detecting D:/Code/CBCT_Reconstruction_ICP/data/04/jpg\\04_slice_0138.jpg\n",
      "\n",
      "image 1/1 D:\\Code\\CBCT_Reconstruction_ICP\\data\\04\\jpg\\04_slice_0138.jpg: 640x640 (no detections), 8.3ms\n",
      "Speed: 3.8ms preprocess, 8.3ms inference, 1.0ms postprocess per image at shape (1, 3, 640, 640)\n",
      "detecting D:/Code/CBCT_Reconstruction_ICP/data/04/jpg\\04_slice_0139.jpg\n",
      "\n",
      "image 1/1 D:\\Code\\CBCT_Reconstruction_ICP\\data\\04\\jpg\\04_slice_0139.jpg: 640x640 (no detections), 7.4ms\n",
      "Speed: 2.6ms preprocess, 7.4ms inference, 1.0ms postprocess per image at shape (1, 3, 640, 640)\n",
      "detecting D:/Code/CBCT_Reconstruction_ICP/data/04/jpg\\04_slice_0140.jpg\n",
      "\n",
      "image 1/1 D:\\Code\\CBCT_Reconstruction_ICP\\data\\04\\jpg\\04_slice_0140.jpg: 640x640 (no detections), 7.7ms\n",
      "Speed: 2.6ms preprocess, 7.7ms inference, 1.0ms postprocess per image at shape (1, 3, 640, 640)\n",
      "detecting D:/Code/CBCT_Reconstruction_ICP/data/04/jpg\\04_slice_0141.jpg\n",
      "\n",
      "image 1/1 D:\\Code\\CBCT_Reconstruction_ICP\\data\\04\\jpg\\04_slice_0141.jpg: 640x640 (no detections), 6.0ms\n",
      "Speed: 3.4ms preprocess, 6.0ms inference, 1.0ms postprocess per image at shape (1, 3, 640, 640)\n",
      "detecting D:/Code/CBCT_Reconstruction_ICP/data/04/jpg\\04_slice_0142.jpg\n",
      "\n",
      "image 1/1 D:\\Code\\CBCT_Reconstruction_ICP\\data\\04\\jpg\\04_slice_0142.jpg: 640x640 (no detections), 9.9ms\n",
      "Speed: 7.0ms preprocess, 9.9ms inference, 1.1ms postprocess per image at shape (1, 3, 640, 640)\n",
      "detecting D:/Code/CBCT_Reconstruction_ICP/data/04/jpg\\04_slice_0143.jpg\n",
      "\n",
      "image 1/1 D:\\Code\\CBCT_Reconstruction_ICP\\data\\04\\jpg\\04_slice_0143.jpg: 640x640 (no detections), 7.5ms\n",
      "Speed: 2.8ms preprocess, 7.5ms inference, 0.5ms postprocess per image at shape (1, 3, 640, 640)\n",
      "detecting D:/Code/CBCT_Reconstruction_ICP/data/04/jpg\\04_slice_0144.jpg\n",
      "\n",
      "image 1/1 D:\\Code\\CBCT_Reconstruction_ICP\\data\\04\\jpg\\04_slice_0144.jpg: 640x640 (no detections), 8.3ms\n",
      "Speed: 2.7ms preprocess, 8.3ms inference, 1.0ms postprocess per image at shape (1, 3, 640, 640)\n",
      "detecting D:/Code/CBCT_Reconstruction_ICP/data/04/jpg\\04_slice_0145.jpg\n",
      "\n",
      "image 1/1 D:\\Code\\CBCT_Reconstruction_ICP\\data\\04\\jpg\\04_slice_0145.jpg: 640x640 (no detections), 16.0ms\n",
      "Speed: 8.1ms preprocess, 16.0ms inference, 1.1ms postprocess per image at shape (1, 3, 640, 640)\n",
      "detecting D:/Code/CBCT_Reconstruction_ICP/data/04/jpg\\04_slice_0146.jpg\n",
      "\n",
      "image 1/1 D:\\Code\\CBCT_Reconstruction_ICP\\data\\04\\jpg\\04_slice_0146.jpg: 640x640 (no detections), 7.6ms\n",
      "Speed: 2.9ms preprocess, 7.6ms inference, 0.5ms postprocess per image at shape (1, 3, 640, 640)\n",
      "detecting D:/Code/CBCT_Reconstruction_ICP/data/04/jpg\\04_slice_0147.jpg\n",
      "\n",
      "image 1/1 D:\\Code\\CBCT_Reconstruction_ICP\\data\\04\\jpg\\04_slice_0147.jpg: 640x640 (no detections), 7.7ms\n",
      "Speed: 3.1ms preprocess, 7.7ms inference, 0.7ms postprocess per image at shape (1, 3, 640, 640)\n",
      "detecting D:/Code/CBCT_Reconstruction_ICP/data/04/jpg\\04_slice_0148.jpg\n",
      "\n",
      "image 1/1 D:\\Code\\CBCT_Reconstruction_ICP\\data\\04\\jpg\\04_slice_0148.jpg: 640x640 (no detections), 6.0ms\n",
      "Speed: 2.6ms preprocess, 6.0ms inference, 1.0ms postprocess per image at shape (1, 3, 640, 640)\n",
      "detecting D:/Code/CBCT_Reconstruction_ICP/data/04/jpg\\04_slice_0149.jpg\n",
      "\n",
      "image 1/1 D:\\Code\\CBCT_Reconstruction_ICP\\data\\04\\jpg\\04_slice_0149.jpg: 640x640 (no detections), 8.0ms\n",
      "Speed: 2.8ms preprocess, 8.0ms inference, 0.5ms postprocess per image at shape (1, 3, 640, 640)\n",
      "detecting D:/Code/CBCT_Reconstruction_ICP/data/04/jpg\\04_slice_0150.jpg\n",
      "\n",
      "image 1/1 D:\\Code\\CBCT_Reconstruction_ICP\\data\\04\\jpg\\04_slice_0150.jpg: 640x640 (no detections), 7.9ms\n",
      "Speed: 3.0ms preprocess, 7.9ms inference, 0.6ms postprocess per image at shape (1, 3, 640, 640)\n",
      "detecting D:/Code/CBCT_Reconstruction_ICP/data/04/jpg\\04_slice_0151.jpg\n",
      "\n",
      "image 1/1 D:\\Code\\CBCT_Reconstruction_ICP\\data\\04\\jpg\\04_slice_0151.jpg: 640x640 (no detections), 7.6ms\n",
      "Speed: 2.1ms preprocess, 7.6ms inference, 1.0ms postprocess per image at shape (1, 3, 640, 640)\n",
      "detecting D:/Code/CBCT_Reconstruction_ICP/data/04/jpg\\04_slice_0152.jpg\n",
      "\n",
      "image 1/1 D:\\Code\\CBCT_Reconstruction_ICP\\data\\04\\jpg\\04_slice_0152.jpg: 640x640 (no detections), 9.7ms\n",
      "Speed: 1.6ms preprocess, 9.7ms inference, 1.2ms postprocess per image at shape (1, 3, 640, 640)\n",
      "detecting D:/Code/CBCT_Reconstruction_ICP/data/04/jpg\\04_slice_0153.jpg\n",
      "\n",
      "image 1/1 D:\\Code\\CBCT_Reconstruction_ICP\\data\\04\\jpg\\04_slice_0153.jpg: 640x640 (no detections), 9.0ms\n",
      "Speed: 2.8ms preprocess, 9.0ms inference, 1.0ms postprocess per image at shape (1, 3, 640, 640)\n",
      "detecting D:/Code/CBCT_Reconstruction_ICP/data/04/jpg\\04_slice_0154.jpg\n",
      "\n",
      "image 1/1 D:\\Code\\CBCT_Reconstruction_ICP\\data\\04\\jpg\\04_slice_0154.jpg: 640x640 (no detections), 13.0ms\n",
      "Speed: 3.0ms preprocess, 13.0ms inference, 1.0ms postprocess per image at shape (1, 3, 640, 640)\n",
      "detecting D:/Code/CBCT_Reconstruction_ICP/data/04/jpg\\04_slice_0155.jpg\n",
      "\n",
      "image 1/1 D:\\Code\\CBCT_Reconstruction_ICP\\data\\04\\jpg\\04_slice_0155.jpg: 640x640 (no detections), 8.8ms\n",
      "Speed: 3.0ms preprocess, 8.8ms inference, 1.0ms postprocess per image at shape (1, 3, 640, 640)\n",
      "detecting D:/Code/CBCT_Reconstruction_ICP/data/04/jpg\\04_slice_0156.jpg\n",
      "\n",
      "image 1/1 D:\\Code\\CBCT_Reconstruction_ICP\\data\\04\\jpg\\04_slice_0156.jpg: 640x640 (no detections), 7.0ms\n",
      "Speed: 3.0ms preprocess, 7.0ms inference, 1.0ms postprocess per image at shape (1, 3, 640, 640)\n",
      "detecting D:/Code/CBCT_Reconstruction_ICP/data/04/jpg\\04_slice_0157.jpg\n",
      "\n",
      "image 1/1 D:\\Code\\CBCT_Reconstruction_ICP\\data\\04\\jpg\\04_slice_0157.jpg: 640x640 (no detections), 7.0ms\n",
      "Speed: 3.0ms preprocess, 7.0ms inference, 1.0ms postprocess per image at shape (1, 3, 640, 640)\n",
      "detecting D:/Code/CBCT_Reconstruction_ICP/data/04/jpg\\04_slice_0158.jpg\n",
      "\n",
      "image 1/1 D:\\Code\\CBCT_Reconstruction_ICP\\data\\04\\jpg\\04_slice_0158.jpg: 640x640 (no detections), 7.9ms\n",
      "Speed: 2.4ms preprocess, 7.9ms inference, 1.0ms postprocess per image at shape (1, 3, 640, 640)\n",
      "detecting D:/Code/CBCT_Reconstruction_ICP/data/04/jpg\\04_slice_0159.jpg\n",
      "\n",
      "image 1/1 D:\\Code\\CBCT_Reconstruction_ICP\\data\\04\\jpg\\04_slice_0159.jpg: 640x640 (no detections), 7.0ms\n",
      "Speed: 3.6ms preprocess, 7.0ms inference, 1.0ms postprocess per image at shape (1, 3, 640, 640)\n",
      "detecting D:/Code/CBCT_Reconstruction_ICP/data/04/jpg\\04_slice_0160.jpg\n",
      "\n",
      "image 1/1 D:\\Code\\CBCT_Reconstruction_ICP\\data\\04\\jpg\\04_slice_0160.jpg: 640x640 (no detections), 9.7ms\n",
      "Speed: 2.9ms preprocess, 9.7ms inference, 0.0ms postprocess per image at shape (1, 3, 640, 640)\n",
      "detecting D:/Code/CBCT_Reconstruction_ICP/data/04/jpg\\04_slice_0161.jpg\n",
      "\n",
      "image 1/1 D:\\Code\\CBCT_Reconstruction_ICP\\data\\04\\jpg\\04_slice_0161.jpg: 640x640 (no detections), 8.6ms\n",
      "Speed: 2.0ms preprocess, 8.6ms inference, 1.5ms postprocess per image at shape (1, 3, 640, 640)\n",
      "detecting D:/Code/CBCT_Reconstruction_ICP/data/04/jpg\\04_slice_0162.jpg\n",
      "\n",
      "image 1/1 D:\\Code\\CBCT_Reconstruction_ICP\\data\\04\\jpg\\04_slice_0162.jpg: 640x640 (no detections), 9.6ms\n",
      "Speed: 3.3ms preprocess, 9.6ms inference, 0.6ms postprocess per image at shape (1, 3, 640, 640)\n",
      "detecting D:/Code/CBCT_Reconstruction_ICP/data/04/jpg\\04_slice_0163.jpg\n",
      "\n",
      "image 1/1 D:\\Code\\CBCT_Reconstruction_ICP\\data\\04\\jpg\\04_slice_0163.jpg: 640x640 (no detections), 8.0ms\n",
      "Speed: 2.2ms preprocess, 8.0ms inference, 1.0ms postprocess per image at shape (1, 3, 640, 640)\n",
      "detecting D:/Code/CBCT_Reconstruction_ICP/data/04/jpg\\04_slice_0164.jpg\n",
      "\n",
      "image 1/1 D:\\Code\\CBCT_Reconstruction_ICP\\data\\04\\jpg\\04_slice_0164.jpg: 640x640 (no detections), 8.4ms\n",
      "Speed: 3.0ms preprocess, 8.4ms inference, 0.6ms postprocess per image at shape (1, 3, 640, 640)\n",
      "detecting D:/Code/CBCT_Reconstruction_ICP/data/04/jpg\\04_slice_0165.jpg\n",
      "\n",
      "image 1/1 D:\\Code\\CBCT_Reconstruction_ICP\\data\\04\\jpg\\04_slice_0165.jpg: 640x640 (no detections), 7.3ms\n",
      "Speed: 2.7ms preprocess, 7.3ms inference, 0.0ms postprocess per image at shape (1, 3, 640, 640)\n",
      "detecting D:/Code/CBCT_Reconstruction_ICP/data/04/jpg\\04_slice_0166.jpg\n",
      "\n",
      "image 1/1 D:\\Code\\CBCT_Reconstruction_ICP\\data\\04\\jpg\\04_slice_0166.jpg: 640x640 (no detections), 7.0ms\n",
      "Speed: 3.0ms preprocess, 7.0ms inference, 1.0ms postprocess per image at shape (1, 3, 640, 640)\n",
      "detecting D:/Code/CBCT_Reconstruction_ICP/data/04/jpg\\04_slice_0167.jpg\n",
      "\n",
      "image 1/1 D:\\Code\\CBCT_Reconstruction_ICP\\data\\04\\jpg\\04_slice_0167.jpg: 640x640 (no detections), 9.9ms\n",
      "Speed: 3.0ms preprocess, 9.9ms inference, 1.0ms postprocess per image at shape (1, 3, 640, 640)\n",
      "detecting D:/Code/CBCT_Reconstruction_ICP/data/04/jpg\\04_slice_0168.jpg\n",
      "\n",
      "image 1/1 D:\\Code\\CBCT_Reconstruction_ICP\\data\\04\\jpg\\04_slice_0168.jpg: 640x640 (no detections), 8.5ms\n",
      "Speed: 2.0ms preprocess, 8.5ms inference, 0.0ms postprocess per image at shape (1, 3, 640, 640)\n",
      "detecting D:/Code/CBCT_Reconstruction_ICP/data/04/jpg\\04_slice_0169.jpg\n",
      "\n",
      "image 1/1 D:\\Code\\CBCT_Reconstruction_ICP\\data\\04\\jpg\\04_slice_0169.jpg: 640x640 (no detections), 7.1ms\n",
      "Speed: 3.2ms preprocess, 7.1ms inference, 2.0ms postprocess per image at shape (1, 3, 640, 640)\n",
      "detecting D:/Code/CBCT_Reconstruction_ICP/data/04/jpg\\04_slice_0170.jpg\n",
      "\n",
      "image 1/1 D:\\Code\\CBCT_Reconstruction_ICP\\data\\04\\jpg\\04_slice_0170.jpg: 640x640 (no detections), 7.5ms\n",
      "Speed: 2.5ms preprocess, 7.5ms inference, 1.0ms postprocess per image at shape (1, 3, 640, 640)\n",
      "detecting D:/Code/CBCT_Reconstruction_ICP/data/04/jpg\\04_slice_0171.jpg\n",
      "\n",
      "image 1/1 D:\\Code\\CBCT_Reconstruction_ICP\\data\\04\\jpg\\04_slice_0171.jpg: 640x640 (no detections), 7.8ms\n",
      "Speed: 2.5ms preprocess, 7.8ms inference, 0.9ms postprocess per image at shape (1, 3, 640, 640)\n",
      "detecting D:/Code/CBCT_Reconstruction_ICP/data/04/jpg\\04_slice_0172.jpg\n",
      "\n",
      "image 1/1 D:\\Code\\CBCT_Reconstruction_ICP\\data\\04\\jpg\\04_slice_0172.jpg: 640x640 (no detections), 7.9ms\n",
      "Speed: 3.0ms preprocess, 7.9ms inference, 1.0ms postprocess per image at shape (1, 3, 640, 640)\n",
      "detecting D:/Code/CBCT_Reconstruction_ICP/data/04/jpg\\04_slice_0173.jpg\n",
      "\n",
      "image 1/1 D:\\Code\\CBCT_Reconstruction_ICP\\data\\04\\jpg\\04_slice_0173.jpg: 640x640 (no detections), 7.0ms\n",
      "Speed: 3.1ms preprocess, 7.0ms inference, 1.0ms postprocess per image at shape (1, 3, 640, 640)\n",
      "detecting D:/Code/CBCT_Reconstruction_ICP/data/04/jpg\\04_slice_0174.jpg\n",
      "\n",
      "image 1/1 D:\\Code\\CBCT_Reconstruction_ICP\\data\\04\\jpg\\04_slice_0174.jpg: 640x640 (no detections), 8.3ms\n",
      "Speed: 2.0ms preprocess, 8.3ms inference, 1.1ms postprocess per image at shape (1, 3, 640, 640)\n",
      "detecting D:/Code/CBCT_Reconstruction_ICP/data/04/jpg\\04_slice_0175.jpg\n",
      "\n",
      "image 1/1 D:\\Code\\CBCT_Reconstruction_ICP\\data\\04\\jpg\\04_slice_0175.jpg: 640x640 (no detections), 7.8ms\n",
      "Speed: 2.2ms preprocess, 7.8ms inference, 0.5ms postprocess per image at shape (1, 3, 640, 640)\n",
      "detecting D:/Code/CBCT_Reconstruction_ICP/data/04/jpg\\04_slice_0176.jpg\n",
      "\n",
      "image 1/1 D:\\Code\\CBCT_Reconstruction_ICP\\data\\04\\jpg\\04_slice_0176.jpg: 640x640 (no detections), 7.0ms\n",
      "Speed: 3.0ms preprocess, 7.0ms inference, 1.0ms postprocess per image at shape (1, 3, 640, 640)\n",
      "detecting D:/Code/CBCT_Reconstruction_ICP/data/04/jpg\\04_slice_0177.jpg\n",
      "\n",
      "image 1/1 D:\\Code\\CBCT_Reconstruction_ICP\\data\\04\\jpg\\04_slice_0177.jpg: 640x640 (no detections), 7.0ms\n",
      "Speed: 3.0ms preprocess, 7.0ms inference, 0.0ms postprocess per image at shape (1, 3, 640, 640)\n",
      "detecting D:/Code/CBCT_Reconstruction_ICP/data/04/jpg\\04_slice_0178.jpg\n",
      "\n",
      "image 1/1 D:\\Code\\CBCT_Reconstruction_ICP\\data\\04\\jpg\\04_slice_0178.jpg: 640x640 (no detections), 9.9ms\n",
      "Speed: 2.8ms preprocess, 9.9ms inference, 1.0ms postprocess per image at shape (1, 3, 640, 640)\n",
      "detecting D:/Code/CBCT_Reconstruction_ICP/data/04/jpg\\04_slice_0179.jpg\n",
      "\n",
      "image 1/1 D:\\Code\\CBCT_Reconstruction_ICP\\data\\04\\jpg\\04_slice_0179.jpg: 640x640 (no detections), 7.0ms\n",
      "Speed: 3.1ms preprocess, 7.0ms inference, 1.0ms postprocess per image at shape (1, 3, 640, 640)\n",
      "detecting D:/Code/CBCT_Reconstruction_ICP/data/04/jpg\\04_slice_0180.jpg\n",
      "\n",
      "image 1/1 D:\\Code\\CBCT_Reconstruction_ICP\\data\\04\\jpg\\04_slice_0180.jpg: 640x640 (no detections), 11.4ms\n",
      "Speed: 3.0ms preprocess, 11.4ms inference, 1.0ms postprocess per image at shape (1, 3, 640, 640)\n",
      "detecting D:/Code/CBCT_Reconstruction_ICP/data/04/jpg\\04_slice_0181.jpg\n",
      "\n",
      "image 1/1 D:\\Code\\CBCT_Reconstruction_ICP\\data\\04\\jpg\\04_slice_0181.jpg: 640x640 (no detections), 7.0ms\n",
      "Speed: 3.0ms preprocess, 7.0ms inference, 0.5ms postprocess per image at shape (1, 3, 640, 640)\n",
      "detecting D:/Code/CBCT_Reconstruction_ICP/data/04/jpg\\04_slice_0182.jpg\n",
      "\n",
      "image 1/1 D:\\Code\\CBCT_Reconstruction_ICP\\data\\04\\jpg\\04_slice_0182.jpg: 640x640 (no detections), 8.0ms\n",
      "Speed: 2.0ms preprocess, 8.0ms inference, 0.0ms postprocess per image at shape (1, 3, 640, 640)\n",
      "detecting D:/Code/CBCT_Reconstruction_ICP/data/04/jpg\\04_slice_0183.jpg\n",
      "\n",
      "image 1/1 D:\\Code\\CBCT_Reconstruction_ICP\\data\\04\\jpg\\04_slice_0183.jpg: 640x640 (no detections), 7.7ms\n",
      "Speed: 2.0ms preprocess, 7.7ms inference, 1.0ms postprocess per image at shape (1, 3, 640, 640)\n",
      "detecting D:/Code/CBCT_Reconstruction_ICP/data/04/jpg\\04_slice_0184.jpg\n",
      "\n",
      "image 1/1 D:\\Code\\CBCT_Reconstruction_ICP\\data\\04\\jpg\\04_slice_0184.jpg: 640x640 (no detections), 7.0ms\n",
      "Speed: 3.0ms preprocess, 7.0ms inference, 0.0ms postprocess per image at shape (1, 3, 640, 640)\n",
      "detecting D:/Code/CBCT_Reconstruction_ICP/data/04/jpg\\04_slice_0185.jpg\n",
      "\n",
      "image 1/1 D:\\Code\\CBCT_Reconstruction_ICP\\data\\04\\jpg\\04_slice_0185.jpg: 640x640 (no detections), 10.0ms\n",
      "Speed: 3.0ms preprocess, 10.0ms inference, 0.0ms postprocess per image at shape (1, 3, 640, 640)\n",
      "detecting D:/Code/CBCT_Reconstruction_ICP/data/04/jpg\\04_slice_0186.jpg\n",
      "\n",
      "image 1/1 D:\\Code\\CBCT_Reconstruction_ICP\\data\\04\\jpg\\04_slice_0186.jpg: 640x640 (no detections), 7.4ms\n",
      "Speed: 3.0ms preprocess, 7.4ms inference, 0.0ms postprocess per image at shape (1, 3, 640, 640)\n",
      "detecting D:/Code/CBCT_Reconstruction_ICP/data/04/jpg\\04_slice_0187.jpg\n",
      "\n",
      "image 1/1 D:\\Code\\CBCT_Reconstruction_ICP\\data\\04\\jpg\\04_slice_0187.jpg: 640x640 (no detections), 8.1ms\n",
      "Speed: 3.0ms preprocess, 8.1ms inference, 1.0ms postprocess per image at shape (1, 3, 640, 640)\n",
      "detecting D:/Code/CBCT_Reconstruction_ICP/data/04/jpg\\04_slice_0188.jpg\n",
      "\n",
      "image 1/1 D:\\Code\\CBCT_Reconstruction_ICP\\data\\04\\jpg\\04_slice_0188.jpg: 640x640 (no detections), 9.0ms\n",
      "Speed: 3.0ms preprocess, 9.0ms inference, 1.0ms postprocess per image at shape (1, 3, 640, 640)\n",
      "detecting D:/Code/CBCT_Reconstruction_ICP/data/04/jpg\\04_slice_0189.jpg\n",
      "\n",
      "image 1/1 D:\\Code\\CBCT_Reconstruction_ICP\\data\\04\\jpg\\04_slice_0189.jpg: 640x640 (no detections), 6.7ms\n",
      "Speed: 3.0ms preprocess, 6.7ms inference, 1.0ms postprocess per image at shape (1, 3, 640, 640)\n",
      "detecting D:/Code/CBCT_Reconstruction_ICP/data/04/jpg\\04_slice_0190.jpg\n",
      "\n",
      "image 1/1 D:\\Code\\CBCT_Reconstruction_ICP\\data\\04\\jpg\\04_slice_0190.jpg: 640x640 (no detections), 7.6ms\n",
      "Speed: 2.0ms preprocess, 7.6ms inference, 1.0ms postprocess per image at shape (1, 3, 640, 640)\n",
      "detecting D:/Code/CBCT_Reconstruction_ICP/data/04/jpg\\04_slice_0191.jpg\n",
      "\n",
      "image 1/1 D:\\Code\\CBCT_Reconstruction_ICP\\data\\04\\jpg\\04_slice_0191.jpg: 640x640 (no detections), 6.5ms\n",
      "Speed: 3.0ms preprocess, 6.5ms inference, 0.0ms postprocess per image at shape (1, 3, 640, 640)\n",
      "detecting D:/Code/CBCT_Reconstruction_ICP/data/04/jpg\\04_slice_0192.jpg\n",
      "\n",
      "image 1/1 D:\\Code\\CBCT_Reconstruction_ICP\\data\\04\\jpg\\04_slice_0192.jpg: 640x640 (no detections), 8.2ms\n",
      "Speed: 3.2ms preprocess, 8.2ms inference, 1.0ms postprocess per image at shape (1, 3, 640, 640)\n",
      "detecting D:/Code/CBCT_Reconstruction_ICP/data/04/jpg\\04_slice_0193.jpg\n",
      "\n",
      "image 1/1 D:\\Code\\CBCT_Reconstruction_ICP\\data\\04\\jpg\\04_slice_0193.jpg: 640x640 (no detections), 7.4ms\n",
      "Speed: 3.2ms preprocess, 7.4ms inference, 1.0ms postprocess per image at shape (1, 3, 640, 640)\n",
      "detecting D:/Code/CBCT_Reconstruction_ICP/data/04/jpg\\04_slice_0194.jpg\n",
      "\n",
      "image 1/1 D:\\Code\\CBCT_Reconstruction_ICP\\data\\04\\jpg\\04_slice_0194.jpg: 640x640 (no detections), 13.7ms\n",
      "Speed: 4.0ms preprocess, 13.7ms inference, 1.0ms postprocess per image at shape (1, 3, 640, 640)\n",
      "detecting D:/Code/CBCT_Reconstruction_ICP/data/04/jpg\\04_slice_0195.jpg\n",
      "\n",
      "image 1/1 D:\\Code\\CBCT_Reconstruction_ICP\\data\\04\\jpg\\04_slice_0195.jpg: 640x640 (no detections), 7.0ms\n",
      "Speed: 3.0ms preprocess, 7.0ms inference, 1.0ms postprocess per image at shape (1, 3, 640, 640)\n",
      "detecting D:/Code/CBCT_Reconstruction_ICP/data/04/jpg\\04_slice_0196.jpg\n",
      "\n",
      "image 1/1 D:\\Code\\CBCT_Reconstruction_ICP\\data\\04\\jpg\\04_slice_0196.jpg: 640x640 (no detections), 8.0ms\n",
      "Speed: 3.4ms preprocess, 8.0ms inference, 0.6ms postprocess per image at shape (1, 3, 640, 640)\n",
      "detecting D:/Code/CBCT_Reconstruction_ICP/data/04/jpg\\04_slice_0197.jpg\n",
      "\n",
      "image 1/1 D:\\Code\\CBCT_Reconstruction_ICP\\data\\04\\jpg\\04_slice_0197.jpg: 640x640 (no detections), 7.0ms\n",
      "Speed: 2.0ms preprocess, 7.0ms inference, 1.0ms postprocess per image at shape (1, 3, 640, 640)\n",
      "detecting D:/Code/CBCT_Reconstruction_ICP/data/04/jpg\\04_slice_0198.jpg\n",
      "\n",
      "image 1/1 D:\\Code\\CBCT_Reconstruction_ICP\\data\\04\\jpg\\04_slice_0198.jpg: 640x640 (no detections), 7.0ms\n",
      "Speed: 3.0ms preprocess, 7.0ms inference, 0.0ms postprocess per image at shape (1, 3, 640, 640)\n",
      "detecting D:/Code/CBCT_Reconstruction_ICP/data/04/jpg\\04_slice_0199.jpg\n",
      "\n",
      "image 1/1 D:\\Code\\CBCT_Reconstruction_ICP\\data\\04\\jpg\\04_slice_0199.jpg: 640x640 (no detections), 8.0ms\n",
      "Speed: 3.0ms preprocess, 8.0ms inference, 1.0ms postprocess per image at shape (1, 3, 640, 640)\n",
      "detecting D:/Code/CBCT_Reconstruction_ICP/data/04/jpg\\04_slice_0200.jpg\n",
      "\n",
      "image 1/1 D:\\Code\\CBCT_Reconstruction_ICP\\data\\04\\jpg\\04_slice_0200.jpg: 640x640 (no detections), 7.0ms\n",
      "Speed: 3.0ms preprocess, 7.0ms inference, 0.0ms postprocess per image at shape (1, 3, 640, 640)\n",
      "detecting D:/Code/CBCT_Reconstruction_ICP/data/04/jpg\\04_slice_0201.jpg\n",
      "\n",
      "image 1/1 D:\\Code\\CBCT_Reconstruction_ICP\\data\\04\\jpg\\04_slice_0201.jpg: 640x640 (no detections), 7.5ms\n",
      "Speed: 2.0ms preprocess, 7.5ms inference, 1.0ms postprocess per image at shape (1, 3, 640, 640)\n",
      "detecting D:/Code/CBCT_Reconstruction_ICP/data/04/jpg\\04_slice_0202.jpg\n",
      "\n",
      "image 1/1 D:\\Code\\CBCT_Reconstruction_ICP\\data\\04\\jpg\\04_slice_0202.jpg: 640x640 (no detections), 7.0ms\n",
      "Speed: 3.5ms preprocess, 7.0ms inference, 1.0ms postprocess per image at shape (1, 3, 640, 640)\n",
      "detecting D:/Code/CBCT_Reconstruction_ICP/data/04/jpg\\04_slice_0203.jpg\n",
      "\n",
      "image 1/1 D:\\Code\\CBCT_Reconstruction_ICP\\data\\04\\jpg\\04_slice_0203.jpg: 640x640 (no detections), 8.0ms\n",
      "Speed: 3.3ms preprocess, 8.0ms inference, 1.0ms postprocess per image at shape (1, 3, 640, 640)\n",
      "detecting D:/Code/CBCT_Reconstruction_ICP/data/04/jpg\\04_slice_0204.jpg\n",
      "\n",
      "image 1/1 D:\\Code\\CBCT_Reconstruction_ICP\\data\\04\\jpg\\04_slice_0204.jpg: 640x640 (no detections), 8.0ms\n",
      "Speed: 2.5ms preprocess, 8.0ms inference, 0.0ms postprocess per image at shape (1, 3, 640, 640)\n",
      "detecting D:/Code/CBCT_Reconstruction_ICP/data/04/jpg\\04_slice_0205.jpg\n",
      "\n",
      "image 1/1 D:\\Code\\CBCT_Reconstruction_ICP\\data\\04\\jpg\\04_slice_0205.jpg: 640x640 (no detections), 7.5ms\n",
      "Speed: 2.9ms preprocess, 7.5ms inference, 1.0ms postprocess per image at shape (1, 3, 640, 640)\n",
      "detecting D:/Code/CBCT_Reconstruction_ICP/data/04/jpg\\04_slice_0206.jpg\n",
      "\n",
      "image 1/1 D:\\Code\\CBCT_Reconstruction_ICP\\data\\04\\jpg\\04_slice_0206.jpg: 640x640 (no detections), 8.0ms\n",
      "Speed: 3.0ms preprocess, 8.0ms inference, 1.0ms postprocess per image at shape (1, 3, 640, 640)\n",
      "detecting D:/Code/CBCT_Reconstruction_ICP/data/04/jpg\\04_slice_0207.jpg\n",
      "\n",
      "image 1/1 D:\\Code\\CBCT_Reconstruction_ICP\\data\\04\\jpg\\04_slice_0207.jpg: 640x640 (no detections), 7.0ms\n",
      "Speed: 3.0ms preprocess, 7.0ms inference, 0.0ms postprocess per image at shape (1, 3, 640, 640)\n",
      "detecting D:/Code/CBCT_Reconstruction_ICP/data/04/jpg\\04_slice_0208.jpg\n",
      "\n",
      "image 1/1 D:\\Code\\CBCT_Reconstruction_ICP\\data\\04\\jpg\\04_slice_0208.jpg: 640x640 (no detections), 7.9ms\n",
      "Speed: 3.0ms preprocess, 7.9ms inference, 1.0ms postprocess per image at shape (1, 3, 640, 640)\n",
      "detecting D:/Code/CBCT_Reconstruction_ICP/data/04/jpg\\04_slice_0209.jpg\n",
      "\n",
      "image 1/1 D:\\Code\\CBCT_Reconstruction_ICP\\data\\04\\jpg\\04_slice_0209.jpg: 640x640 (no detections), 8.5ms\n",
      "Speed: 2.0ms preprocess, 8.5ms inference, 1.0ms postprocess per image at shape (1, 3, 640, 640)\n",
      "detecting D:/Code/CBCT_Reconstruction_ICP/data/04/jpg\\04_slice_0210.jpg\n",
      "\n",
      "image 1/1 D:\\Code\\CBCT_Reconstruction_ICP\\data\\04\\jpg\\04_slice_0210.jpg: 640x640 (no detections), 7.0ms\n",
      "Speed: 3.0ms preprocess, 7.0ms inference, 1.5ms postprocess per image at shape (1, 3, 640, 640)\n",
      "detecting D:/Code/CBCT_Reconstruction_ICP/data/04/jpg\\04_slice_0211.jpg\n",
      "\n",
      "image 1/1 D:\\Code\\CBCT_Reconstruction_ICP\\data\\04\\jpg\\04_slice_0211.jpg: 640x640 (no detections), 10.3ms\n",
      "Speed: 3.0ms preprocess, 10.3ms inference, 1.0ms postprocess per image at shape (1, 3, 640, 640)\n",
      "detecting D:/Code/CBCT_Reconstruction_ICP/data/04/jpg\\04_slice_0212.jpg\n",
      "\n",
      "image 1/1 D:\\Code\\CBCT_Reconstruction_ICP\\data\\04\\jpg\\04_slice_0212.jpg: 640x640 (no detections), 9.0ms\n",
      "Speed: 2.0ms preprocess, 9.0ms inference, 0.0ms postprocess per image at shape (1, 3, 640, 640)\n",
      "detecting D:/Code/CBCT_Reconstruction_ICP/data/04/jpg\\04_slice_0213.jpg\n",
      "\n",
      "image 1/1 D:\\Code\\CBCT_Reconstruction_ICP\\data\\04\\jpg\\04_slice_0213.jpg: 640x640 (no detections), 8.4ms\n",
      "Speed: 3.0ms preprocess, 8.4ms inference, 1.0ms postprocess per image at shape (1, 3, 640, 640)\n",
      "detecting D:/Code/CBCT_Reconstruction_ICP/data/04/jpg\\04_slice_0214.jpg\n",
      "\n",
      "image 1/1 D:\\Code\\CBCT_Reconstruction_ICP\\data\\04\\jpg\\04_slice_0214.jpg: 640x640 (no detections), 7.0ms\n",
      "Speed: 3.7ms preprocess, 7.0ms inference, 1.0ms postprocess per image at shape (1, 3, 640, 640)\n",
      "detecting D:/Code/CBCT_Reconstruction_ICP/data/04/jpg\\04_slice_0215.jpg\n",
      "\n",
      "image 1/1 D:\\Code\\CBCT_Reconstruction_ICP\\data\\04\\jpg\\04_slice_0215.jpg: 640x640 (no detections), 6.0ms\n",
      "Speed: 3.3ms preprocess, 6.0ms inference, 1.0ms postprocess per image at shape (1, 3, 640, 640)\n",
      "detecting D:/Code/CBCT_Reconstruction_ICP/data/04/jpg\\04_slice_0216.jpg\n",
      "\n",
      "image 1/1 D:\\Code\\CBCT_Reconstruction_ICP\\data\\04\\jpg\\04_slice_0216.jpg: 640x640 (no detections), 6.8ms\n",
      "Speed: 3.0ms preprocess, 6.8ms inference, 1.0ms postprocess per image at shape (1, 3, 640, 640)\n",
      "detecting D:/Code/CBCT_Reconstruction_ICP/data/04/jpg\\04_slice_0217.jpg\n",
      "\n",
      "image 1/1 D:\\Code\\CBCT_Reconstruction_ICP\\data\\04\\jpg\\04_slice_0217.jpg: 640x640 (no detections), 7.0ms\n",
      "Speed: 3.0ms preprocess, 7.0ms inference, 1.0ms postprocess per image at shape (1, 3, 640, 640)\n",
      "detecting D:/Code/CBCT_Reconstruction_ICP/data/04/jpg\\04_slice_0218.jpg\n",
      "\n",
      "image 1/1 D:\\Code\\CBCT_Reconstruction_ICP\\data\\04\\jpg\\04_slice_0218.jpg: 640x640 (no detections), 8.4ms\n",
      "Speed: 3.0ms preprocess, 8.4ms inference, 1.0ms postprocess per image at shape (1, 3, 640, 640)\n",
      "detecting D:/Code/CBCT_Reconstruction_ICP/data/04/jpg\\04_slice_0219.jpg\n",
      "\n",
      "image 1/1 D:\\Code\\CBCT_Reconstruction_ICP\\data\\04\\jpg\\04_slice_0219.jpg: 640x640 (no detections), 7.4ms\n",
      "Speed: 3.0ms preprocess, 7.4ms inference, 0.0ms postprocess per image at shape (1, 3, 640, 640)\n",
      "detecting D:/Code/CBCT_Reconstruction_ICP/data/04/jpg\\04_slice_0220.jpg\n",
      "\n",
      "image 1/1 D:\\Code\\CBCT_Reconstruction_ICP\\data\\04\\jpg\\04_slice_0220.jpg: 640x640 (no detections), 8.0ms\n",
      "Speed: 2.0ms preprocess, 8.0ms inference, 1.0ms postprocess per image at shape (1, 3, 640, 640)\n",
      "detecting D:/Code/CBCT_Reconstruction_ICP/data/04/jpg\\04_slice_0221.jpg\n",
      "\n",
      "image 1/1 D:\\Code\\CBCT_Reconstruction_ICP\\data\\04\\jpg\\04_slice_0221.jpg: 640x640 (no detections), 7.0ms\n",
      "Speed: 3.0ms preprocess, 7.0ms inference, 1.0ms postprocess per image at shape (1, 3, 640, 640)\n",
      "detecting D:/Code/CBCT_Reconstruction_ICP/data/04/jpg\\04_slice_0222.jpg\n",
      "\n",
      "image 1/1 D:\\Code\\CBCT_Reconstruction_ICP\\data\\04\\jpg\\04_slice_0222.jpg: 640x640 (no detections), 8.0ms\n",
      "Speed: 3.2ms preprocess, 8.0ms inference, 1.0ms postprocess per image at shape (1, 3, 640, 640)\n",
      "detecting D:/Code/CBCT_Reconstruction_ICP/data/04/jpg\\04_slice_0223.jpg\n",
      "\n",
      "image 1/1 D:\\Code\\CBCT_Reconstruction_ICP\\data\\04\\jpg\\04_slice_0223.jpg: 640x640 (no detections), 7.5ms\n",
      "Speed: 3.0ms preprocess, 7.5ms inference, 1.0ms postprocess per image at shape (1, 3, 640, 640)\n",
      "detecting D:/Code/CBCT_Reconstruction_ICP/data/04/jpg\\04_slice_0224.jpg\n",
      "\n",
      "image 1/1 D:\\Code\\CBCT_Reconstruction_ICP\\data\\04\\jpg\\04_slice_0224.jpg: 640x640 (no detections), 8.3ms\n",
      "Speed: 2.0ms preprocess, 8.3ms inference, 1.0ms postprocess per image at shape (1, 3, 640, 640)\n",
      "detecting D:/Code/CBCT_Reconstruction_ICP/data/04/jpg\\04_slice_0225.jpg\n",
      "\n",
      "image 1/1 D:\\Code\\CBCT_Reconstruction_ICP\\data\\04\\jpg\\04_slice_0225.jpg: 640x640 (no detections), 8.5ms\n",
      "Speed: 3.0ms preprocess, 8.5ms inference, 1.0ms postprocess per image at shape (1, 3, 640, 640)\n",
      "detecting D:/Code/CBCT_Reconstruction_ICP/data/04/jpg\\04_slice_0226.jpg\n",
      "\n",
      "image 1/1 D:\\Code\\CBCT_Reconstruction_ICP\\data\\04\\jpg\\04_slice_0226.jpg: 640x640 (no detections), 6.5ms\n",
      "Speed: 3.1ms preprocess, 6.5ms inference, 1.0ms postprocess per image at shape (1, 3, 640, 640)\n",
      "detecting D:/Code/CBCT_Reconstruction_ICP/data/04/jpg\\04_slice_0227.jpg\n",
      "\n",
      "image 1/1 D:\\Code\\CBCT_Reconstruction_ICP\\data\\04\\jpg\\04_slice_0227.jpg: 640x640 (no detections), 8.0ms\n",
      "Speed: 3.4ms preprocess, 8.0ms inference, 1.0ms postprocess per image at shape (1, 3, 640, 640)\n",
      "detecting D:/Code/CBCT_Reconstruction_ICP/data/04/jpg\\04_slice_0228.jpg\n",
      "\n",
      "image 1/1 D:\\Code\\CBCT_Reconstruction_ICP\\data\\04\\jpg\\04_slice_0228.jpg: 640x640 (no detections), 8.5ms\n",
      "Speed: 2.7ms preprocess, 8.5ms inference, 0.0ms postprocess per image at shape (1, 3, 640, 640)\n",
      "detecting D:/Code/CBCT_Reconstruction_ICP/data/04/jpg\\04_slice_0229.jpg\n",
      "\n",
      "image 1/1 D:\\Code\\CBCT_Reconstruction_ICP\\data\\04\\jpg\\04_slice_0229.jpg: 640x640 (no detections), 6.8ms\n",
      "Speed: 3.0ms preprocess, 6.8ms inference, 0.5ms postprocess per image at shape (1, 3, 640, 640)\n",
      "detecting D:/Code/CBCT_Reconstruction_ICP/data/04/jpg\\04_slice_0230.jpg\n",
      "\n",
      "image 1/1 D:\\Code\\CBCT_Reconstruction_ICP\\data\\04\\jpg\\04_slice_0230.jpg: 640x640 (no detections), 6.0ms\n",
      "Speed: 3.0ms preprocess, 6.0ms inference, 1.0ms postprocess per image at shape (1, 3, 640, 640)\n",
      "detecting D:/Code/CBCT_Reconstruction_ICP/data/04/jpg\\04_slice_0231.jpg\n",
      "\n",
      "image 1/1 D:\\Code\\CBCT_Reconstruction_ICP\\data\\04\\jpg\\04_slice_0231.jpg: 640x640 (no detections), 9.0ms\n",
      "Speed: 2.2ms preprocess, 9.0ms inference, 1.0ms postprocess per image at shape (1, 3, 640, 640)\n",
      "detecting D:/Code/CBCT_Reconstruction_ICP/data/04/jpg\\04_slice_0232.jpg\n",
      "\n",
      "image 1/1 D:\\Code\\CBCT_Reconstruction_ICP\\data\\04\\jpg\\04_slice_0232.jpg: 640x640 (no detections), 10.0ms\n",
      "Speed: 4.0ms preprocess, 10.0ms inference, 1.0ms postprocess per image at shape (1, 3, 640, 640)\n",
      "detecting D:/Code/CBCT_Reconstruction_ICP/data/04/jpg\\04_slice_0233.jpg\n",
      "\n",
      "image 1/1 D:\\Code\\CBCT_Reconstruction_ICP\\data\\04\\jpg\\04_slice_0233.jpg: 640x640 (no detections), 8.0ms\n",
      "Speed: 3.0ms preprocess, 8.0ms inference, 1.0ms postprocess per image at shape (1, 3, 640, 640)\n",
      "detecting D:/Code/CBCT_Reconstruction_ICP/data/04/jpg\\04_slice_0234.jpg\n",
      "\n",
      "image 1/1 D:\\Code\\CBCT_Reconstruction_ICP\\data\\04\\jpg\\04_slice_0234.jpg: 640x640 (no detections), 7.0ms\n",
      "Speed: 2.0ms preprocess, 7.0ms inference, 1.0ms postprocess per image at shape (1, 3, 640, 640)\n",
      "detecting D:/Code/CBCT_Reconstruction_ICP/data/04/jpg\\04_slice_0235.jpg\n",
      "\n",
      "image 1/1 D:\\Code\\CBCT_Reconstruction_ICP\\data\\04\\jpg\\04_slice_0235.jpg: 640x640 (no detections), 9.0ms\n",
      "Speed: 3.0ms preprocess, 9.0ms inference, 0.0ms postprocess per image at shape (1, 3, 640, 640)\n",
      "detecting D:/Code/CBCT_Reconstruction_ICP/data/04/jpg\\04_slice_0236.jpg\n",
      "\n",
      "image 1/1 D:\\Code\\CBCT_Reconstruction_ICP\\data\\04\\jpg\\04_slice_0236.jpg: 640x640 (no detections), 9.0ms\n",
      "Speed: 2.0ms preprocess, 9.0ms inference, 1.0ms postprocess per image at shape (1, 3, 640, 640)\n",
      "detecting D:/Code/CBCT_Reconstruction_ICP/data/04/jpg\\04_slice_0237.jpg\n",
      "\n",
      "image 1/1 D:\\Code\\CBCT_Reconstruction_ICP\\data\\04\\jpg\\04_slice_0237.jpg: 640x640 (no detections), 7.6ms\n",
      "Speed: 3.0ms preprocess, 7.6ms inference, 1.0ms postprocess per image at shape (1, 3, 640, 640)\n",
      "detecting D:/Code/CBCT_Reconstruction_ICP/data/04/jpg\\04_slice_0238.jpg\n",
      "\n",
      "image 1/1 D:\\Code\\CBCT_Reconstruction_ICP\\data\\04\\jpg\\04_slice_0238.jpg: 640x640 (no detections), 8.8ms\n",
      "Speed: 2.0ms preprocess, 8.8ms inference, 1.0ms postprocess per image at shape (1, 3, 640, 640)\n",
      "detecting D:/Code/CBCT_Reconstruction_ICP/data/04/jpg\\04_slice_0239.jpg\n",
      "\n",
      "image 1/1 D:\\Code\\CBCT_Reconstruction_ICP\\data\\04\\jpg\\04_slice_0239.jpg: 640x640 (no detections), 9.5ms\n",
      "Speed: 2.3ms preprocess, 9.5ms inference, 1.0ms postprocess per image at shape (1, 3, 640, 640)\n",
      "detecting D:/Code/CBCT_Reconstruction_ICP/data/04/jpg\\04_slice_0240.jpg\n",
      "\n",
      "image 1/1 D:\\Code\\CBCT_Reconstruction_ICP\\data\\04\\jpg\\04_slice_0240.jpg: 640x640 (no detections), 9.5ms\n",
      "Speed: 2.0ms preprocess, 9.5ms inference, 0.0ms postprocess per image at shape (1, 3, 640, 640)\n",
      "detecting D:/Code/CBCT_Reconstruction_ICP/data/04/jpg\\04_slice_0241.jpg\n",
      "\n",
      "image 1/1 D:\\Code\\CBCT_Reconstruction_ICP\\data\\04\\jpg\\04_slice_0241.jpg: 640x640 (no detections), 6.0ms\n",
      "Speed: 1.6ms preprocess, 6.0ms inference, 1.0ms postprocess per image at shape (1, 3, 640, 640)\n",
      "detecting D:/Code/CBCT_Reconstruction_ICP/data/04/jpg\\04_slice_0242.jpg\n",
      "\n",
      "image 1/1 D:\\Code\\CBCT_Reconstruction_ICP\\data\\04\\jpg\\04_slice_0242.jpg: 640x640 (no detections), 9.0ms\n",
      "Speed: 2.0ms preprocess, 9.0ms inference, 0.0ms postprocess per image at shape (1, 3, 640, 640)\n",
      "detecting D:/Code/CBCT_Reconstruction_ICP/data/04/jpg\\04_slice_0243.jpg\n",
      "\n",
      "image 1/1 D:\\Code\\CBCT_Reconstruction_ICP\\data\\04\\jpg\\04_slice_0243.jpg: 640x640 (no detections), 9.0ms\n",
      "Speed: 3.0ms preprocess, 9.0ms inference, 1.0ms postprocess per image at shape (1, 3, 640, 640)\n",
      "detecting D:/Code/CBCT_Reconstruction_ICP/data/04/jpg\\04_slice_0244.jpg\n",
      "\n",
      "image 1/1 D:\\Code\\CBCT_Reconstruction_ICP\\data\\04\\jpg\\04_slice_0244.jpg: 640x640 (no detections), 7.4ms\n",
      "Speed: 2.0ms preprocess, 7.4ms inference, 1.0ms postprocess per image at shape (1, 3, 640, 640)\n",
      "detecting D:/Code/CBCT_Reconstruction_ICP/data/04/jpg\\04_slice_0245.jpg\n",
      "\n",
      "image 1/1 D:\\Code\\CBCT_Reconstruction_ICP\\data\\04\\jpg\\04_slice_0245.jpg: 640x640 (no detections), 9.0ms\n",
      "Speed: 2.0ms preprocess, 9.0ms inference, 1.0ms postprocess per image at shape (1, 3, 640, 640)\n",
      "detecting D:/Code/CBCT_Reconstruction_ICP/data/04/jpg\\04_slice_0246.jpg\n",
      "\n",
      "image 1/1 D:\\Code\\CBCT_Reconstruction_ICP\\data\\04\\jpg\\04_slice_0246.jpg: 640x640 (no detections), 7.8ms\n",
      "Speed: 2.0ms preprocess, 7.8ms inference, 0.0ms postprocess per image at shape (1, 3, 640, 640)\n",
      "detecting D:/Code/CBCT_Reconstruction_ICP/data/04/jpg\\04_slice_0247.jpg\n",
      "\n",
      "image 1/1 D:\\Code\\CBCT_Reconstruction_ICP\\data\\04\\jpg\\04_slice_0247.jpg: 640x640 (no detections), 7.0ms\n",
      "Speed: 3.0ms preprocess, 7.0ms inference, 1.0ms postprocess per image at shape (1, 3, 640, 640)\n",
      "detecting D:/Code/CBCT_Reconstruction_ICP/data/04/jpg\\04_slice_0248.jpg\n",
      "\n",
      "image 1/1 D:\\Code\\CBCT_Reconstruction_ICP\\data\\04\\jpg\\04_slice_0248.jpg: 640x640 1 arch, 8.6ms\n",
      "Speed: 3.2ms preprocess, 8.6ms inference, 1.0ms postprocess per image at shape (1, 3, 640, 640)\n",
      "Skipped box with confidence: 0.2752211391925812 in image 04_slice_0248.jpg\n",
      "detecting D:/Code/CBCT_Reconstruction_ICP/data/04/jpg\\04_slice_0249.jpg\n",
      "\n",
      "image 1/1 D:\\Code\\CBCT_Reconstruction_ICP\\data\\04\\jpg\\04_slice_0249.jpg: 640x640 1 arch, 9.0ms\n",
      "Speed: 2.7ms preprocess, 9.0ms inference, 1.0ms postprocess per image at shape (1, 3, 640, 640)\n",
      "0.0 0.39\n",
      "detecting D:/Code/CBCT_Reconstruction_ICP/data/04/jpg\\04_slice_0250.jpg\n",
      "\n",
      "image 1/1 D:\\Code\\CBCT_Reconstruction_ICP\\data\\04\\jpg\\04_slice_0250.jpg: 640x640 1 arch, 8.5ms\n",
      "Speed: 3.1ms preprocess, 8.5ms inference, 1.0ms postprocess per image at shape (1, 3, 640, 640)\n",
      "0.0 0.67\n",
      "detecting D:/Code/CBCT_Reconstruction_ICP/data/04/jpg\\04_slice_0251.jpg\n",
      "\n",
      "image 1/1 D:\\Code\\CBCT_Reconstruction_ICP\\data\\04\\jpg\\04_slice_0251.jpg: 640x640 1 arch, 10.0ms\n",
      "Speed: 2.0ms preprocess, 10.0ms inference, 2.0ms postprocess per image at shape (1, 3, 640, 640)\n",
      "0.0 0.79\n",
      "detecting D:/Code/CBCT_Reconstruction_ICP/data/04/jpg\\04_slice_0252.jpg\n",
      "\n",
      "image 1/1 D:\\Code\\CBCT_Reconstruction_ICP\\data\\04\\jpg\\04_slice_0252.jpg: 640x640 1 arch, 7.7ms\n",
      "Speed: 2.4ms preprocess, 7.7ms inference, 1.0ms postprocess per image at shape (1, 3, 640, 640)\n",
      "0.0 0.85\n",
      "detecting D:/Code/CBCT_Reconstruction_ICP/data/04/jpg\\04_slice_0253.jpg\n",
      "\n",
      "image 1/1 D:\\Code\\CBCT_Reconstruction_ICP\\data\\04\\jpg\\04_slice_0253.jpg: 640x640 1 arch, 7.8ms\n",
      "Speed: 3.0ms preprocess, 7.8ms inference, 1.0ms postprocess per image at shape (1, 3, 640, 640)\n",
      "0.0 0.87\n",
      "detecting D:/Code/CBCT_Reconstruction_ICP/data/04/jpg\\04_slice_0254.jpg\n",
      "\n",
      "image 1/1 D:\\Code\\CBCT_Reconstruction_ICP\\data\\04\\jpg\\04_slice_0254.jpg: 640x640 1 arch, 9.0ms\n",
      "Speed: 2.5ms preprocess, 9.0ms inference, 1.4ms postprocess per image at shape (1, 3, 640, 640)\n",
      "0.0 0.88\n",
      "detecting D:/Code/CBCT_Reconstruction_ICP/data/04/jpg\\04_slice_0255.jpg\n",
      "\n",
      "image 1/1 D:\\Code\\CBCT_Reconstruction_ICP\\data\\04\\jpg\\04_slice_0255.jpg: 640x640 1 arch, 10.0ms\n",
      "Speed: 3.0ms preprocess, 10.0ms inference, 1.0ms postprocess per image at shape (1, 3, 640, 640)\n",
      "0.0 0.92\n",
      "detecting D:/Code/CBCT_Reconstruction_ICP/data/04/jpg\\04_slice_0256.jpg\n",
      "\n",
      "image 1/1 D:\\Code\\CBCT_Reconstruction_ICP\\data\\04\\jpg\\04_slice_0256.jpg: 640x640 1 arch, 8.5ms\n",
      "Speed: 3.3ms preprocess, 8.5ms inference, 2.0ms postprocess per image at shape (1, 3, 640, 640)\n",
      "0.0 0.93\n",
      "detecting D:/Code/CBCT_Reconstruction_ICP/data/04/jpg\\04_slice_0257.jpg\n",
      "\n",
      "image 1/1 D:\\Code\\CBCT_Reconstruction_ICP\\data\\04\\jpg\\04_slice_0257.jpg: 640x640 1 arch, 7.0ms\n",
      "Speed: 2.8ms preprocess, 7.0ms inference, 1.0ms postprocess per image at shape (1, 3, 640, 640)\n",
      "0.0 0.93\n",
      "detecting D:/Code/CBCT_Reconstruction_ICP/data/04/jpg\\04_slice_0258.jpg\n",
      "\n",
      "image 1/1 D:\\Code\\CBCT_Reconstruction_ICP\\data\\04\\jpg\\04_slice_0258.jpg: 640x640 1 arch, 7.5ms\n",
      "Speed: 2.0ms preprocess, 7.5ms inference, 1.0ms postprocess per image at shape (1, 3, 640, 640)\n",
      "0.0 0.93\n",
      "detecting D:/Code/CBCT_Reconstruction_ICP/data/04/jpg\\04_slice_0259.jpg\n",
      "\n",
      "image 1/1 D:\\Code\\CBCT_Reconstruction_ICP\\data\\04\\jpg\\04_slice_0259.jpg: 640x640 1 arch, 7.5ms\n",
      "Speed: 2.0ms preprocess, 7.5ms inference, 1.0ms postprocess per image at shape (1, 3, 640, 640)\n",
      "0.0 0.94\n",
      "detecting D:/Code/CBCT_Reconstruction_ICP/data/04/jpg\\04_slice_0260.jpg\n",
      "\n",
      "image 1/1 D:\\Code\\CBCT_Reconstruction_ICP\\data\\04\\jpg\\04_slice_0260.jpg: 640x640 1 arch, 6.4ms\n",
      "Speed: 2.5ms preprocess, 6.4ms inference, 1.0ms postprocess per image at shape (1, 3, 640, 640)\n",
      "0.0 0.94\n",
      "detecting D:/Code/CBCT_Reconstruction_ICP/data/04/jpg\\04_slice_0261.jpg\n",
      "\n",
      "image 1/1 D:\\Code\\CBCT_Reconstruction_ICP\\data\\04\\jpg\\04_slice_0261.jpg: 640x640 1 arch, 16.7ms\n",
      "Speed: 5.0ms preprocess, 16.7ms inference, 1.0ms postprocess per image at shape (1, 3, 640, 640)\n",
      "0.0 0.94\n",
      "detecting D:/Code/CBCT_Reconstruction_ICP/data/04/jpg\\04_slice_0262.jpg\n",
      "\n",
      "image 1/1 D:\\Code\\CBCT_Reconstruction_ICP\\data\\04\\jpg\\04_slice_0262.jpg: 640x640 1 arch, 7.0ms\n",
      "Speed: 3.0ms preprocess, 7.0ms inference, 1.0ms postprocess per image at shape (1, 3, 640, 640)\n",
      "0.0 0.95\n",
      "detecting D:/Code/CBCT_Reconstruction_ICP/data/04/jpg\\04_slice_0263.jpg\n",
      "\n",
      "image 1/1 D:\\Code\\CBCT_Reconstruction_ICP\\data\\04\\jpg\\04_slice_0263.jpg: 640x640 1 arch, 7.5ms\n",
      "Speed: 2.0ms preprocess, 7.5ms inference, 1.0ms postprocess per image at shape (1, 3, 640, 640)\n",
      "0.0 0.96\n",
      "detecting D:/Code/CBCT_Reconstruction_ICP/data/04/jpg\\04_slice_0264.jpg\n",
      "\n",
      "image 1/1 D:\\Code\\CBCT_Reconstruction_ICP\\data\\04\\jpg\\04_slice_0264.jpg: 640x640 1 arch, 7.1ms\n",
      "Speed: 3.0ms preprocess, 7.1ms inference, 1.5ms postprocess per image at shape (1, 3, 640, 640)\n",
      "0.0 0.96\n",
      "detecting D:/Code/CBCT_Reconstruction_ICP/data/04/jpg\\04_slice_0265.jpg\n",
      "\n",
      "image 1/1 D:\\Code\\CBCT_Reconstruction_ICP\\data\\04\\jpg\\04_slice_0265.jpg: 640x640 1 arch, 9.4ms\n",
      "Speed: 2.0ms preprocess, 9.4ms inference, 1.0ms postprocess per image at shape (1, 3, 640, 640)\n",
      "0.0 0.95\n",
      "detecting D:/Code/CBCT_Reconstruction_ICP/data/04/jpg\\04_slice_0266.jpg\n",
      "\n",
      "image 1/1 D:\\Code\\CBCT_Reconstruction_ICP\\data\\04\\jpg\\04_slice_0266.jpg: 640x640 1 arch, 8.0ms\n",
      "Speed: 2.4ms preprocess, 8.0ms inference, 1.0ms postprocess per image at shape (1, 3, 640, 640)\n",
      "0.0 0.95\n",
      "detecting D:/Code/CBCT_Reconstruction_ICP/data/04/jpg\\04_slice_0267.jpg\n",
      "\n",
      "image 1/1 D:\\Code\\CBCT_Reconstruction_ICP\\data\\04\\jpg\\04_slice_0267.jpg: 640x640 1 arch, 8.0ms\n",
      "Speed: 3.0ms preprocess, 8.0ms inference, 0.0ms postprocess per image at shape (1, 3, 640, 640)\n",
      "0.0 0.96\n",
      "detecting D:/Code/CBCT_Reconstruction_ICP/data/04/jpg\\04_slice_0268.jpg\n",
      "\n",
      "image 1/1 D:\\Code\\CBCT_Reconstruction_ICP\\data\\04\\jpg\\04_slice_0268.jpg: 640x640 1 arch, 6.8ms\n",
      "Speed: 2.6ms preprocess, 6.8ms inference, 1.1ms postprocess per image at shape (1, 3, 640, 640)\n",
      "0.0 0.96\n",
      "detecting D:/Code/CBCT_Reconstruction_ICP/data/04/jpg\\04_slice_0269.jpg\n",
      "\n",
      "image 1/1 D:\\Code\\CBCT_Reconstruction_ICP\\data\\04\\jpg\\04_slice_0269.jpg: 640x640 1 arch, 7.0ms\n",
      "Speed: 3.0ms preprocess, 7.0ms inference, 1.0ms postprocess per image at shape (1, 3, 640, 640)\n",
      "0.0 0.96\n",
      "detecting D:/Code/CBCT_Reconstruction_ICP/data/04/jpg\\04_slice_0270.jpg\n",
      "\n",
      "image 1/1 D:\\Code\\CBCT_Reconstruction_ICP\\data\\04\\jpg\\04_slice_0270.jpg: 640x640 1 arch, 7.8ms\n",
      "Speed: 3.0ms preprocess, 7.8ms inference, 1.0ms postprocess per image at shape (1, 3, 640, 640)\n",
      "0.0 0.97\n",
      "detecting D:/Code/CBCT_Reconstruction_ICP/data/04/jpg\\04_slice_0271.jpg\n",
      "\n",
      "image 1/1 D:\\Code\\CBCT_Reconstruction_ICP\\data\\04\\jpg\\04_slice_0271.jpg: 640x640 1 arch, 7.3ms\n",
      "Speed: 2.2ms preprocess, 7.3ms inference, 0.5ms postprocess per image at shape (1, 3, 640, 640)\n",
      "0.0 0.97\n",
      "detecting D:/Code/CBCT_Reconstruction_ICP/data/04/jpg\\04_slice_0272.jpg\n",
      "\n",
      "image 1/1 D:\\Code\\CBCT_Reconstruction_ICP\\data\\04\\jpg\\04_slice_0272.jpg: 640x640 1 arch, 12.6ms\n",
      "Speed: 3.2ms preprocess, 12.6ms inference, 1.0ms postprocess per image at shape (1, 3, 640, 640)\n",
      "0.0 0.97\n",
      "detecting D:/Code/CBCT_Reconstruction_ICP/data/04/jpg\\04_slice_0273.jpg\n",
      "\n",
      "image 1/1 D:\\Code\\CBCT_Reconstruction_ICP\\data\\04\\jpg\\04_slice_0273.jpg: 640x640 1 arch, 6.7ms\n",
      "Speed: 2.7ms preprocess, 6.7ms inference, 1.2ms postprocess per image at shape (1, 3, 640, 640)\n",
      "0.0 0.97\n",
      "detecting D:/Code/CBCT_Reconstruction_ICP/data/04/jpg\\04_slice_0274.jpg\n",
      "\n",
      "image 1/1 D:\\Code\\CBCT_Reconstruction_ICP\\data\\04\\jpg\\04_slice_0274.jpg: 640x640 1 arch, 8.6ms\n",
      "Speed: 3.0ms preprocess, 8.6ms inference, 0.5ms postprocess per image at shape (1, 3, 640, 640)\n",
      "0.0 0.97\n",
      "detecting D:/Code/CBCT_Reconstruction_ICP/data/04/jpg\\04_slice_0275.jpg\n",
      "\n",
      "image 1/1 D:\\Code\\CBCT_Reconstruction_ICP\\data\\04\\jpg\\04_slice_0275.jpg: 640x640 1 arch, 7.9ms\n",
      "Speed: 2.6ms preprocess, 7.9ms inference, 0.5ms postprocess per image at shape (1, 3, 640, 640)\n",
      "0.0 0.97\n",
      "detecting D:/Code/CBCT_Reconstruction_ICP/data/04/jpg\\04_slice_0276.jpg\n",
      "\n",
      "image 1/1 D:\\Code\\CBCT_Reconstruction_ICP\\data\\04\\jpg\\04_slice_0276.jpg: 640x640 1 arch, 14.5ms\n",
      "Speed: 3.4ms preprocess, 14.5ms inference, 1.0ms postprocess per image at shape (1, 3, 640, 640)\n",
      "0.0 0.97\n",
      "detecting D:/Code/CBCT_Reconstruction_ICP/data/04/jpg\\04_slice_0277.jpg\n",
      "\n",
      "image 1/1 D:\\Code\\CBCT_Reconstruction_ICP\\data\\04\\jpg\\04_slice_0277.jpg: 640x640 1 arch, 13.9ms\n",
      "Speed: 3.9ms preprocess, 13.9ms inference, 1.6ms postprocess per image at shape (1, 3, 640, 640)\n",
      "0.0 0.97\n",
      "detecting D:/Code/CBCT_Reconstruction_ICP/data/04/jpg\\04_slice_0278.jpg\n",
      "\n",
      "image 1/1 D:\\Code\\CBCT_Reconstruction_ICP\\data\\04\\jpg\\04_slice_0278.jpg: 640x640 1 arch, 7.5ms\n",
      "Speed: 2.9ms preprocess, 7.5ms inference, 1.0ms postprocess per image at shape (1, 3, 640, 640)\n",
      "0.0 0.97\n",
      "detecting D:/Code/CBCT_Reconstruction_ICP/data/04/jpg\\04_slice_0279.jpg\n",
      "\n",
      "image 1/1 D:\\Code\\CBCT_Reconstruction_ICP\\data\\04\\jpg\\04_slice_0279.jpg: 640x640 1 arch, 8.0ms\n",
      "Speed: 2.7ms preprocess, 8.0ms inference, 1.0ms postprocess per image at shape (1, 3, 640, 640)\n",
      "0.0 0.96\n",
      "detecting D:/Code/CBCT_Reconstruction_ICP/data/04/jpg\\04_slice_0280.jpg\n",
      "\n",
      "image 1/1 D:\\Code\\CBCT_Reconstruction_ICP\\data\\04\\jpg\\04_slice_0280.jpg: 640x640 1 arch, 7.0ms\n",
      "Speed: 3.0ms preprocess, 7.0ms inference, 1.0ms postprocess per image at shape (1, 3, 640, 640)\n",
      "0.0 0.96\n",
      "detecting D:/Code/CBCT_Reconstruction_ICP/data/04/jpg\\04_slice_0281.jpg\n",
      "\n",
      "image 1/1 D:\\Code\\CBCT_Reconstruction_ICP\\data\\04\\jpg\\04_slice_0281.jpg: 640x640 1 arch, 7.1ms\n",
      "Speed: 3.0ms preprocess, 7.1ms inference, 1.1ms postprocess per image at shape (1, 3, 640, 640)\n",
      "0.0 0.96\n",
      "detecting D:/Code/CBCT_Reconstruction_ICP/data/04/jpg\\04_slice_0282.jpg\n",
      "\n",
      "image 1/1 D:\\Code\\CBCT_Reconstruction_ICP\\data\\04\\jpg\\04_slice_0282.jpg: 640x640 1 arch, 7.3ms\n",
      "Speed: 2.0ms preprocess, 7.3ms inference, 1.3ms postprocess per image at shape (1, 3, 640, 640)\n",
      "0.0 0.96\n",
      "detecting D:/Code/CBCT_Reconstruction_ICP/data/04/jpg\\04_slice_0283.jpg\n",
      "\n",
      "image 1/1 D:\\Code\\CBCT_Reconstruction_ICP\\data\\04\\jpg\\04_slice_0283.jpg: 640x640 1 arch, 7.1ms\n",
      "Speed: 2.0ms preprocess, 7.1ms inference, 1.0ms postprocess per image at shape (1, 3, 640, 640)\n",
      "0.0 0.92\n",
      "detecting D:/Code/CBCT_Reconstruction_ICP/data/04/jpg\\04_slice_0284.jpg\n",
      "\n",
      "image 1/1 D:\\Code\\CBCT_Reconstruction_ICP\\data\\04\\jpg\\04_slice_0284.jpg: 640x640 1 arch, 1 vomer, 7.2ms\n",
      "Speed: 3.0ms preprocess, 7.2ms inference, 1.0ms postprocess per image at shape (1, 3, 640, 640)\n",
      "0.0 0.76\n",
      "1.0 0.38\n",
      "detecting D:/Code/CBCT_Reconstruction_ICP/data/04/jpg\\04_slice_0285.jpg\n",
      "\n",
      "image 1/1 D:\\Code\\CBCT_Reconstruction_ICP\\data\\04\\jpg\\04_slice_0285.jpg: 640x640 1 arch, 1 vomer, 7.2ms\n",
      "Speed: 2.8ms preprocess, 7.2ms inference, 1.0ms postprocess per image at shape (1, 3, 640, 640)\n",
      "1.0 0.73\n",
      "0.0 0.43\n",
      "detecting D:/Code/CBCT_Reconstruction_ICP/data/04/jpg\\04_slice_0286.jpg\n",
      "\n",
      "image 1/1 D:\\Code\\CBCT_Reconstruction_ICP\\data\\04\\jpg\\04_slice_0286.jpg: 640x640 1 vomer, 7.0ms\n",
      "Speed: 3.0ms preprocess, 7.0ms inference, 1.0ms postprocess per image at shape (1, 3, 640, 640)\n",
      "1.0 0.82\n",
      "detecting D:/Code/CBCT_Reconstruction_ICP/data/04/jpg\\04_slice_0287.jpg\n",
      "\n",
      "image 1/1 D:\\Code\\CBCT_Reconstruction_ICP\\data\\04\\jpg\\04_slice_0287.jpg: 640x640 1 vomer, 8.6ms\n",
      "Speed: 2.6ms preprocess, 8.6ms inference, 0.0ms postprocess per image at shape (1, 3, 640, 640)\n",
      "1.0 0.88\n",
      "detecting D:/Code/CBCT_Reconstruction_ICP/data/04/jpg\\04_slice_0288.jpg\n",
      "\n",
      "image 1/1 D:\\Code\\CBCT_Reconstruction_ICP\\data\\04\\jpg\\04_slice_0288.jpg: 640x640 1 vomer, 8.0ms\n",
      "Speed: 3.1ms preprocess, 8.0ms inference, 1.4ms postprocess per image at shape (1, 3, 640, 640)\n",
      "1.0 0.95\n",
      "detecting D:/Code/CBCT_Reconstruction_ICP/data/04/jpg\\04_slice_0289.jpg\n",
      "\n",
      "image 1/1 D:\\Code\\CBCT_Reconstruction_ICP\\data\\04\\jpg\\04_slice_0289.jpg: 640x640 1 vomer, 8.0ms\n",
      "Speed: 2.7ms preprocess, 8.0ms inference, 1.0ms postprocess per image at shape (1, 3, 640, 640)\n",
      "1.0 0.95\n",
      "detecting D:/Code/CBCT_Reconstruction_ICP/data/04/jpg\\04_slice_0290.jpg\n",
      "\n",
      "image 1/1 D:\\Code\\CBCT_Reconstruction_ICP\\data\\04\\jpg\\04_slice_0290.jpg: 640x640 1 vomer, 7.1ms\n",
      "Speed: 3.0ms preprocess, 7.1ms inference, 2.0ms postprocess per image at shape (1, 3, 640, 640)\n",
      "1.0 0.94\n",
      "detecting D:/Code/CBCT_Reconstruction_ICP/data/04/jpg\\04_slice_0291.jpg\n",
      "\n",
      "image 1/1 D:\\Code\\CBCT_Reconstruction_ICP\\data\\04\\jpg\\04_slice_0291.jpg: 640x640 1 vomer, 8.0ms\n",
      "Speed: 3.0ms preprocess, 8.0ms inference, 1.0ms postprocess per image at shape (1, 3, 640, 640)\n",
      "1.0 0.93\n",
      "detecting D:/Code/CBCT_Reconstruction_ICP/data/04/jpg\\04_slice_0292.jpg\n",
      "\n",
      "image 1/1 D:\\Code\\CBCT_Reconstruction_ICP\\data\\04\\jpg\\04_slice_0292.jpg: 640x640 2 vomers, 9.0ms\n",
      "Speed: 2.5ms preprocess, 9.0ms inference, 1.0ms postprocess per image at shape (1, 3, 640, 640)\n",
      "1.0 0.91\n",
      "1.0 0.37\n",
      "detecting D:/Code/CBCT_Reconstruction_ICP/data/04/jpg\\04_slice_0293.jpg\n",
      "\n",
      "image 1/1 D:\\Code\\CBCT_Reconstruction_ICP\\data\\04\\jpg\\04_slice_0293.jpg: 640x640 2 vomers, 13.0ms\n",
      "Speed: 3.0ms preprocess, 13.0ms inference, 1.0ms postprocess per image at shape (1, 3, 640, 640)\n",
      "1.0 0.88\n",
      "1.0 0.54\n",
      "detecting D:/Code/CBCT_Reconstruction_ICP/data/04/jpg\\04_slice_0294.jpg\n",
      "\n",
      "image 1/1 D:\\Code\\CBCT_Reconstruction_ICP\\data\\04\\jpg\\04_slice_0294.jpg: 640x640 2 vomers, 8.2ms\n",
      "Speed: 3.0ms preprocess, 8.2ms inference, 1.0ms postprocess per image at shape (1, 3, 640, 640)\n",
      "1.0 0.83\n",
      "1.0 0.79\n",
      "detecting D:/Code/CBCT_Reconstruction_ICP/data/04/jpg\\04_slice_0295.jpg\n",
      "\n",
      "image 1/1 D:\\Code\\CBCT_Reconstruction_ICP\\data\\04\\jpg\\04_slice_0295.jpg: 640x640 2 vomers, 7.0ms\n",
      "Speed: 3.0ms preprocess, 7.0ms inference, 1.0ms postprocess per image at shape (1, 3, 640, 640)\n",
      "1.0 0.88\n",
      "1.0 0.68\n",
      "detecting D:/Code/CBCT_Reconstruction_ICP/data/04/jpg\\04_slice_0296.jpg\n",
      "\n",
      "image 1/1 D:\\Code\\CBCT_Reconstruction_ICP\\data\\04\\jpg\\04_slice_0296.jpg: 640x640 2 vomers, 7.7ms\n",
      "Speed: 3.0ms preprocess, 7.7ms inference, 0.0ms postprocess per image at shape (1, 3, 640, 640)\n",
      "1.0 0.90\n",
      "1.0 0.58\n",
      "detecting D:/Code/CBCT_Reconstruction_ICP/data/04/jpg\\04_slice_0297.jpg\n",
      "\n",
      "image 1/1 D:\\Code\\CBCT_Reconstruction_ICP\\data\\04\\jpg\\04_slice_0297.jpg: 640x640 2 vomers, 8.4ms\n",
      "Speed: 3.0ms preprocess, 8.4ms inference, 1.0ms postprocess per image at shape (1, 3, 640, 640)\n",
      "1.0 0.92\n",
      "1.0 0.45\n",
      "detecting D:/Code/CBCT_Reconstruction_ICP/data/04/jpg\\04_slice_0298.jpg\n",
      "\n",
      "image 1/1 D:\\Code\\CBCT_Reconstruction_ICP\\data\\04\\jpg\\04_slice_0298.jpg: 640x640 2 vomers, 9.5ms\n",
      "Speed: 2.0ms preprocess, 9.5ms inference, 1.0ms postprocess per image at shape (1, 3, 640, 640)\n",
      "Skipped box with confidence: 0.2828095257282257 in image 04_slice_0298.jpg\n",
      "1.0 0.94\n",
      "detecting D:/Code/CBCT_Reconstruction_ICP/data/04/jpg\\04_slice_0299.jpg\n",
      "\n",
      "image 1/1 D:\\Code\\CBCT_Reconstruction_ICP\\data\\04\\jpg\\04_slice_0299.jpg: 640x640 2 vomers, 9.9ms\n",
      "Speed: 3.5ms preprocess, 9.9ms inference, 1.0ms postprocess per image at shape (1, 3, 640, 640)\n",
      "Skipped box with confidence: 0.2652972936630249 in image 04_slice_0299.jpg\n",
      "1.0 0.94\n",
      "detecting D:/Code/CBCT_Reconstruction_ICP/data/04/jpg\\04_slice_0300.jpg\n",
      "\n",
      "image 1/1 D:\\Code\\CBCT_Reconstruction_ICP\\data\\04\\jpg\\04_slice_0300.jpg: 640x640 1 vomer, 6.6ms\n",
      "Speed: 2.6ms preprocess, 6.6ms inference, 1.4ms postprocess per image at shape (1, 3, 640, 640)\n",
      "1.0 0.95\n",
      "detecting D:/Code/CBCT_Reconstruction_ICP/data/04/jpg\\04_slice_0301.jpg\n",
      "\n",
      "image 1/1 D:\\Code\\CBCT_Reconstruction_ICP\\data\\04\\jpg\\04_slice_0301.jpg: 640x640 1 vomer, 9.1ms\n",
      "Speed: 3.0ms preprocess, 9.1ms inference, 1.0ms postprocess per image at shape (1, 3, 640, 640)\n",
      "1.0 0.96\n",
      "detecting D:/Code/CBCT_Reconstruction_ICP/data/04/jpg\\04_slice_0302.jpg\n",
      "\n",
      "image 1/1 D:\\Code\\CBCT_Reconstruction_ICP\\data\\04\\jpg\\04_slice_0302.jpg: 640x640 1 vomer, 8.0ms\n",
      "Speed: 3.0ms preprocess, 8.0ms inference, 1.0ms postprocess per image at shape (1, 3, 640, 640)\n",
      "1.0 0.97\n",
      "detecting D:/Code/CBCT_Reconstruction_ICP/data/04/jpg\\04_slice_0303.jpg\n",
      "\n",
      "image 1/1 D:\\Code\\CBCT_Reconstruction_ICP\\data\\04\\jpg\\04_slice_0303.jpg: 640x640 1 vomer, 13.5ms\n",
      "Speed: 2.0ms preprocess, 13.5ms inference, 1.0ms postprocess per image at shape (1, 3, 640, 640)\n",
      "1.0 0.97\n",
      "detecting D:/Code/CBCT_Reconstruction_ICP/data/04/jpg\\04_slice_0304.jpg\n",
      "\n",
      "image 1/1 D:\\Code\\CBCT_Reconstruction_ICP\\data\\04\\jpg\\04_slice_0304.jpg: 640x640 1 vomer, 8.5ms\n",
      "Speed: 2.0ms preprocess, 8.5ms inference, 2.0ms postprocess per image at shape (1, 3, 640, 640)\n",
      "1.0 0.96\n",
      "detecting D:/Code/CBCT_Reconstruction_ICP/data/04/jpg\\04_slice_0305.jpg\n",
      "\n",
      "image 1/1 D:\\Code\\CBCT_Reconstruction_ICP\\data\\04\\jpg\\04_slice_0305.jpg: 640x640 1 vomer, 8.4ms\n",
      "Speed: 2.9ms preprocess, 8.4ms inference, 0.0ms postprocess per image at shape (1, 3, 640, 640)\n",
      "1.0 0.97\n",
      "detecting D:/Code/CBCT_Reconstruction_ICP/data/04/jpg\\04_slice_0306.jpg\n",
      "\n",
      "image 1/1 D:\\Code\\CBCT_Reconstruction_ICP\\data\\04\\jpg\\04_slice_0306.jpg: 640x640 1 vomer, 9.9ms\n",
      "Speed: 2.0ms preprocess, 9.9ms inference, 0.5ms postprocess per image at shape (1, 3, 640, 640)\n",
      "1.0 0.97\n",
      "detecting D:/Code/CBCT_Reconstruction_ICP/data/04/jpg\\04_slice_0307.jpg\n",
      "\n",
      "image 1/1 D:\\Code\\CBCT_Reconstruction_ICP\\data\\04\\jpg\\04_slice_0307.jpg: 640x640 1 vomer, 8.5ms\n",
      "Speed: 3.0ms preprocess, 8.5ms inference, 1.1ms postprocess per image at shape (1, 3, 640, 640)\n",
      "1.0 0.95\n",
      "detecting D:/Code/CBCT_Reconstruction_ICP/data/04/jpg\\04_slice_0308.jpg\n",
      "\n",
      "image 1/1 D:\\Code\\CBCT_Reconstruction_ICP\\data\\04\\jpg\\04_slice_0308.jpg: 640x640 1 vomer, 8.3ms\n",
      "Speed: 2.0ms preprocess, 8.3ms inference, 1.0ms postprocess per image at shape (1, 3, 640, 640)\n",
      "1.0 0.96\n",
      "detecting D:/Code/CBCT_Reconstruction_ICP/data/04/jpg\\04_slice_0309.jpg\n",
      "\n",
      "image 1/1 D:\\Code\\CBCT_Reconstruction_ICP\\data\\04\\jpg\\04_slice_0309.jpg: 640x640 1 vomer, 8.8ms\n",
      "Speed: 2.0ms preprocess, 8.8ms inference, 1.1ms postprocess per image at shape (1, 3, 640, 640)\n",
      "1.0 0.95\n",
      "detecting D:/Code/CBCT_Reconstruction_ICP/data/04/jpg\\04_slice_0310.jpg\n",
      "\n",
      "image 1/1 D:\\Code\\CBCT_Reconstruction_ICP\\data\\04\\jpg\\04_slice_0310.jpg: 640x640 1 vomer, 7.2ms\n",
      "Speed: 2.7ms preprocess, 7.2ms inference, 1.0ms postprocess per image at shape (1, 3, 640, 640)\n",
      "1.0 0.95\n",
      "detecting D:/Code/CBCT_Reconstruction_ICP/data/04/jpg\\04_slice_0311.jpg\n",
      "\n",
      "image 1/1 D:\\Code\\CBCT_Reconstruction_ICP\\data\\04\\jpg\\04_slice_0311.jpg: 640x640 1 vomer, 8.0ms\n",
      "Speed: 3.0ms preprocess, 8.0ms inference, 1.0ms postprocess per image at shape (1, 3, 640, 640)\n",
      "1.0 0.94\n",
      "detecting D:/Code/CBCT_Reconstruction_ICP/data/04/jpg\\04_slice_0312.jpg\n",
      "\n",
      "image 1/1 D:\\Code\\CBCT_Reconstruction_ICP\\data\\04\\jpg\\04_slice_0312.jpg: 640x640 1 vomer, 7.9ms\n",
      "Speed: 2.5ms preprocess, 7.9ms inference, 0.0ms postprocess per image at shape (1, 3, 640, 640)\n",
      "1.0 0.81\n",
      "detecting D:/Code/CBCT_Reconstruction_ICP/data/04/jpg\\04_slice_0313.jpg\n",
      "\n",
      "image 1/1 D:\\Code\\CBCT_Reconstruction_ICP\\data\\04\\jpg\\04_slice_0313.jpg: 640x640 1 vomer, 11.6ms\n",
      "Speed: 4.4ms preprocess, 11.6ms inference, 2.3ms postprocess per image at shape (1, 3, 640, 640)\n",
      "1.0 0.46\n",
      "detecting D:/Code/CBCT_Reconstruction_ICP/data/04/jpg\\04_slice_0314.jpg\n",
      "\n",
      "image 1/1 D:\\Code\\CBCT_Reconstruction_ICP\\data\\04\\jpg\\04_slice_0314.jpg: 640x640 1 vomer, 6.7ms\n",
      "Speed: 2.0ms preprocess, 6.7ms inference, 1.0ms postprocess per image at shape (1, 3, 640, 640)\n",
      "1.0 0.38\n",
      "detecting D:/Code/CBCT_Reconstruction_ICP/data/04/jpg\\04_slice_0315.jpg\n",
      "\n",
      "image 1/1 D:\\Code\\CBCT_Reconstruction_ICP\\data\\04\\jpg\\04_slice_0315.jpg: 640x640 1 vomer, 7.0ms\n",
      "Speed: 3.0ms preprocess, 7.0ms inference, 0.0ms postprocess per image at shape (1, 3, 640, 640)\n",
      "1.0 0.78\n",
      "detecting D:/Code/CBCT_Reconstruction_ICP/data/04/jpg\\04_slice_0316.jpg\n",
      "\n",
      "image 1/1 D:\\Code\\CBCT_Reconstruction_ICP\\data\\04\\jpg\\04_slice_0316.jpg: 640x640 1 vomer, 7.5ms\n",
      "Speed: 2.5ms preprocess, 7.5ms inference, 1.0ms postprocess per image at shape (1, 3, 640, 640)\n",
      "1.0 0.42\n",
      "detecting D:/Code/CBCT_Reconstruction_ICP/data/04/jpg\\04_slice_0317.jpg\n",
      "\n",
      "image 1/1 D:\\Code\\CBCT_Reconstruction_ICP\\data\\04\\jpg\\04_slice_0317.jpg: 640x640 (no detections), 7.0ms\n",
      "Speed: 3.0ms preprocess, 7.0ms inference, 1.0ms postprocess per image at shape (1, 3, 640, 640)\n",
      "detecting D:/Code/CBCT_Reconstruction_ICP/data/04/jpg\\04_slice_0318.jpg\n",
      "\n",
      "image 1/1 D:\\Code\\CBCT_Reconstruction_ICP\\data\\04\\jpg\\04_slice_0318.jpg: 640x640 1 vomer, 9.0ms\n",
      "Speed: 2.0ms preprocess, 9.0ms inference, 1.0ms postprocess per image at shape (1, 3, 640, 640)\n",
      "1.0 0.37\n",
      "detecting D:/Code/CBCT_Reconstruction_ICP/data/04/jpg\\04_slice_0319.jpg\n",
      "\n",
      "image 1/1 D:\\Code\\CBCT_Reconstruction_ICP\\data\\04\\jpg\\04_slice_0319.jpg: 640x640 1 vomer, 8.1ms\n",
      "Speed: 2.7ms preprocess, 8.1ms inference, 0.5ms postprocess per image at shape (1, 3, 640, 640)\n",
      "Skipped box with confidence: 0.3065682053565979 in image 04_slice_0319.jpg\n",
      "detecting D:/Code/CBCT_Reconstruction_ICP/data/04/jpg\\04_slice_0320.jpg\n",
      "\n",
      "image 1/1 D:\\Code\\CBCT_Reconstruction_ICP\\data\\04\\jpg\\04_slice_0320.jpg: 640x640 1 vomer, 9.8ms\n",
      "Speed: 2.0ms preprocess, 9.8ms inference, 0.0ms postprocess per image at shape (1, 3, 640, 640)\n",
      "Skipped box with confidence: 0.2627505660057068 in image 04_slice_0320.jpg\n",
      "detecting D:/Code/CBCT_Reconstruction_ICP/data/04/jpg\\04_slice_0321.jpg\n",
      "\n",
      "image 1/1 D:\\Code\\CBCT_Reconstruction_ICP\\data\\04\\jpg\\04_slice_0321.jpg: 640x640 1 vomer, 8.0ms\n",
      "Speed: 3.0ms preprocess, 8.0ms inference, 1.3ms postprocess per image at shape (1, 3, 640, 640)\n",
      "Skipped box with confidence: 0.31309130787849426 in image 04_slice_0321.jpg\n",
      "detecting D:/Code/CBCT_Reconstruction_ICP/data/04/jpg\\04_slice_0322.jpg\n",
      "\n",
      "image 1/1 D:\\Code\\CBCT_Reconstruction_ICP\\data\\04\\jpg\\04_slice_0322.jpg: 640x640 1 vomer, 8.9ms\n",
      "Speed: 2.0ms preprocess, 8.9ms inference, 1.0ms postprocess per image at shape (1, 3, 640, 640)\n",
      "1.0 0.49\n",
      "detecting D:/Code/CBCT_Reconstruction_ICP/data/04/jpg\\04_slice_0323.jpg\n",
      "\n",
      "image 1/1 D:\\Code\\CBCT_Reconstruction_ICP\\data\\04\\jpg\\04_slice_0323.jpg: 640x640 1 vomer, 9.0ms\n",
      "Speed: 2.9ms preprocess, 9.0ms inference, 0.0ms postprocess per image at shape (1, 3, 640, 640)\n",
      "1.0 0.39\n",
      "detecting D:/Code/CBCT_Reconstruction_ICP/data/04/jpg\\04_slice_0324.jpg\n",
      "\n",
      "image 1/1 D:\\Code\\CBCT_Reconstruction_ICP\\data\\04\\jpg\\04_slice_0324.jpg: 640x640 1 vomer, 7.9ms\n",
      "Speed: 3.0ms preprocess, 7.9ms inference, 0.6ms postprocess per image at shape (1, 3, 640, 640)\n",
      "Skipped box with confidence: 0.3166201412677765 in image 04_slice_0324.jpg\n",
      "detecting D:/Code/CBCT_Reconstruction_ICP/data/04/jpg\\04_slice_0325.jpg\n",
      "\n",
      "image 1/1 D:\\Code\\CBCT_Reconstruction_ICP\\data\\04\\jpg\\04_slice_0325.jpg: 640x640 1 vomer, 7.4ms\n",
      "Speed: 3.1ms preprocess, 7.4ms inference, 1.0ms postprocess per image at shape (1, 3, 640, 640)\n",
      "1.0 0.47\n",
      "detecting D:/Code/CBCT_Reconstruction_ICP/data/04/jpg\\04_slice_0326.jpg\n",
      "\n",
      "image 1/1 D:\\Code\\CBCT_Reconstruction_ICP\\data\\04\\jpg\\04_slice_0326.jpg: 640x640 1 vomer, 7.5ms\n",
      "Speed: 3.0ms preprocess, 7.5ms inference, 1.0ms postprocess per image at shape (1, 3, 640, 640)\n",
      "Skipped box with confidence: 0.29716789722442627 in image 04_slice_0326.jpg\n",
      "detecting D:/Code/CBCT_Reconstruction_ICP/data/04/jpg\\04_slice_0327.jpg\n",
      "\n",
      "image 1/1 D:\\Code\\CBCT_Reconstruction_ICP\\data\\04\\jpg\\04_slice_0327.jpg: 640x640 (no detections), 14.0ms\n",
      "Speed: 2.0ms preprocess, 14.0ms inference, 1.8ms postprocess per image at shape (1, 3, 640, 640)\n",
      "detecting D:/Code/CBCT_Reconstruction_ICP/data/04/jpg\\04_slice_0328.jpg\n",
      "\n",
      "image 1/1 D:\\Code\\CBCT_Reconstruction_ICP\\data\\04\\jpg\\04_slice_0328.jpg: 640x640 (no detections), 8.1ms\n",
      "Speed: 3.2ms preprocess, 8.1ms inference, 0.0ms postprocess per image at shape (1, 3, 640, 640)\n",
      "detecting D:/Code/CBCT_Reconstruction_ICP/data/04/jpg\\04_slice_0329.jpg\n",
      "\n",
      "image 1/1 D:\\Code\\CBCT_Reconstruction_ICP\\data\\04\\jpg\\04_slice_0329.jpg: 640x640 (no detections), 9.0ms\n",
      "Speed: 4.0ms preprocess, 9.0ms inference, 2.0ms postprocess per image at shape (1, 3, 640, 640)\n",
      "detecting D:/Code/CBCT_Reconstruction_ICP/data/04/jpg\\04_slice_0330.jpg\n",
      "\n",
      "image 1/1 D:\\Code\\CBCT_Reconstruction_ICP\\data\\04\\jpg\\04_slice_0330.jpg: 640x640 (no detections), 8.0ms\n",
      "Speed: 2.0ms preprocess, 8.0ms inference, 1.0ms postprocess per image at shape (1, 3, 640, 640)\n",
      "detecting D:/Code/CBCT_Reconstruction_ICP/data/04/jpg\\04_slice_0331.jpg\n",
      "\n",
      "image 1/1 D:\\Code\\CBCT_Reconstruction_ICP\\data\\04\\jpg\\04_slice_0331.jpg: 640x640 (no detections), 7.1ms\n",
      "Speed: 2.0ms preprocess, 7.1ms inference, 1.0ms postprocess per image at shape (1, 3, 640, 640)\n",
      "detecting D:/Code/CBCT_Reconstruction_ICP/data/04/jpg\\04_slice_0332.jpg\n",
      "\n",
      "image 1/1 D:\\Code\\CBCT_Reconstruction_ICP\\data\\04\\jpg\\04_slice_0332.jpg: 640x640 (no detections), 14.5ms\n",
      "Speed: 3.2ms preprocess, 14.5ms inference, 1.1ms postprocess per image at shape (1, 3, 640, 640)\n",
      "detecting D:/Code/CBCT_Reconstruction_ICP/data/04/jpg\\04_slice_0333.jpg\n",
      "\n",
      "image 1/1 D:\\Code\\CBCT_Reconstruction_ICP\\data\\04\\jpg\\04_slice_0333.jpg: 640x640 (no detections), 6.6ms\n",
      "Speed: 3.3ms preprocess, 6.6ms inference, 1.0ms postprocess per image at shape (1, 3, 640, 640)\n",
      "detecting D:/Code/CBCT_Reconstruction_ICP/data/04/jpg\\04_slice_0334.jpg\n",
      "\n",
      "image 1/1 D:\\Code\\CBCT_Reconstruction_ICP\\data\\04\\jpg\\04_slice_0334.jpg: 640x640 (no detections), 8.3ms\n",
      "Speed: 3.0ms preprocess, 8.3ms inference, 1.2ms postprocess per image at shape (1, 3, 640, 640)\n",
      "detecting D:/Code/CBCT_Reconstruction_ICP/data/04/jpg\\04_slice_0335.jpg\n",
      "\n",
      "image 1/1 D:\\Code\\CBCT_Reconstruction_ICP\\data\\04\\jpg\\04_slice_0335.jpg: 640x640 (no detections), 7.9ms\n",
      "Speed: 3.0ms preprocess, 7.9ms inference, 0.0ms postprocess per image at shape (1, 3, 640, 640)\n",
      "detecting D:/Code/CBCT_Reconstruction_ICP/data/04/jpg\\04_slice_0336.jpg\n",
      "\n",
      "image 1/1 D:\\Code\\CBCT_Reconstruction_ICP\\data\\04\\jpg\\04_slice_0336.jpg: 640x640 (no detections), 8.2ms\n",
      "Speed: 2.5ms preprocess, 8.2ms inference, 0.0ms postprocess per image at shape (1, 3, 640, 640)\n",
      "detecting D:/Code/CBCT_Reconstruction_ICP/data/04/jpg\\04_slice_0337.jpg\n",
      "\n",
      "image 1/1 D:\\Code\\CBCT_Reconstruction_ICP\\data\\04\\jpg\\04_slice_0337.jpg: 640x640 (no detections), 8.2ms\n",
      "Speed: 3.0ms preprocess, 8.2ms inference, 0.6ms postprocess per image at shape (1, 3, 640, 640)\n",
      "detecting D:/Code/CBCT_Reconstruction_ICP/data/04/jpg\\04_slice_0338.jpg\n",
      "\n",
      "image 1/1 D:\\Code\\CBCT_Reconstruction_ICP\\data\\04\\jpg\\04_slice_0338.jpg: 640x640 (no detections), 12.0ms\n",
      "Speed: 2.9ms preprocess, 12.0ms inference, 2.2ms postprocess per image at shape (1, 3, 640, 640)\n",
      "detecting D:/Code/CBCT_Reconstruction_ICP/data/04/jpg\\04_slice_0339.jpg\n",
      "\n",
      "image 1/1 D:\\Code\\CBCT_Reconstruction_ICP\\data\\04\\jpg\\04_slice_0339.jpg: 640x640 (no detections), 8.0ms\n",
      "Speed: 3.0ms preprocess, 8.0ms inference, 1.2ms postprocess per image at shape (1, 3, 640, 640)\n",
      "detecting D:/Code/CBCT_Reconstruction_ICP/data/04/jpg\\04_slice_0340.jpg\n",
      "\n",
      "image 1/1 D:\\Code\\CBCT_Reconstruction_ICP\\data\\04\\jpg\\04_slice_0340.jpg: 640x640 (no detections), 8.0ms\n",
      "Speed: 3.0ms preprocess, 8.0ms inference, 0.0ms postprocess per image at shape (1, 3, 640, 640)\n",
      "detecting D:/Code/CBCT_Reconstruction_ICP/data/04/jpg\\04_slice_0341.jpg\n",
      "\n",
      "image 1/1 D:\\Code\\CBCT_Reconstruction_ICP\\data\\04\\jpg\\04_slice_0341.jpg: 640x640 (no detections), 18.0ms\n",
      "Speed: 3.0ms preprocess, 18.0ms inference, 2.0ms postprocess per image at shape (1, 3, 640, 640)\n",
      "detecting D:/Code/CBCT_Reconstruction_ICP/data/04/jpg\\04_slice_0342.jpg\n",
      "\n",
      "image 1/1 D:\\Code\\CBCT_Reconstruction_ICP\\data\\04\\jpg\\04_slice_0342.jpg: 640x640 (no detections), 7.0ms\n",
      "Speed: 3.0ms preprocess, 7.0ms inference, 1.2ms postprocess per image at shape (1, 3, 640, 640)\n",
      "detecting D:/Code/CBCT_Reconstruction_ICP/data/04/jpg\\04_slice_0343.jpg\n",
      "\n",
      "image 1/1 D:\\Code\\CBCT_Reconstruction_ICP\\data\\04\\jpg\\04_slice_0343.jpg: 640x640 (no detections), 8.0ms\n",
      "Speed: 3.0ms preprocess, 8.0ms inference, 1.0ms postprocess per image at shape (1, 3, 640, 640)\n",
      "detecting D:/Code/CBCT_Reconstruction_ICP/data/04/jpg\\04_slice_0344.jpg\n",
      "\n",
      "image 1/1 D:\\Code\\CBCT_Reconstruction_ICP\\data\\04\\jpg\\04_slice_0344.jpg: 640x640 (no detections), 7.0ms\n",
      "Speed: 3.0ms preprocess, 7.0ms inference, 0.0ms postprocess per image at shape (1, 3, 640, 640)\n",
      "detecting D:/Code/CBCT_Reconstruction_ICP/data/04/jpg\\04_slice_0345.jpg\n",
      "\n",
      "image 1/1 D:\\Code\\CBCT_Reconstruction_ICP\\data\\04\\jpg\\04_slice_0345.jpg: 640x640 (no detections), 6.7ms\n",
      "Speed: 3.0ms preprocess, 6.7ms inference, 1.0ms postprocess per image at shape (1, 3, 640, 640)\n",
      "detecting D:/Code/CBCT_Reconstruction_ICP/data/04/jpg\\04_slice_0346.jpg\n",
      "\n",
      "image 1/1 D:\\Code\\CBCT_Reconstruction_ICP\\data\\04\\jpg\\04_slice_0346.jpg: 640x640 (no detections), 6.0ms\n",
      "Speed: 2.9ms preprocess, 6.0ms inference, 1.0ms postprocess per image at shape (1, 3, 640, 640)\n",
      "detecting D:/Code/CBCT_Reconstruction_ICP/data/04/jpg\\04_slice_0347.jpg\n",
      "\n",
      "image 1/1 D:\\Code\\CBCT_Reconstruction_ICP\\data\\04\\jpg\\04_slice_0347.jpg: 640x640 (no detections), 6.7ms\n",
      "Speed: 2.9ms preprocess, 6.7ms inference, 1.0ms postprocess per image at shape (1, 3, 640, 640)\n",
      "detecting D:/Code/CBCT_Reconstruction_ICP/data/04/jpg\\04_slice_0348.jpg\n",
      "\n",
      "image 1/1 D:\\Code\\CBCT_Reconstruction_ICP\\data\\04\\jpg\\04_slice_0348.jpg: 640x640 (no detections), 8.6ms\n",
      "Speed: 2.0ms preprocess, 8.6ms inference, 1.0ms postprocess per image at shape (1, 3, 640, 640)\n",
      "detecting D:/Code/CBCT_Reconstruction_ICP/data/04/jpg\\04_slice_0349.jpg\n",
      "\n",
      "image 1/1 D:\\Code\\CBCT_Reconstruction_ICP\\data\\04\\jpg\\04_slice_0349.jpg: 640x640 (no detections), 9.0ms\n",
      "Speed: 3.0ms preprocess, 9.0ms inference, 1.0ms postprocess per image at shape (1, 3, 640, 640)\n",
      "detecting D:/Code/CBCT_Reconstruction_ICP/data/04/jpg\\04_slice_0350.jpg\n",
      "\n",
      "image 1/1 D:\\Code\\CBCT_Reconstruction_ICP\\data\\04\\jpg\\04_slice_0350.jpg: 640x640 (no detections), 8.7ms\n",
      "Speed: 2.3ms preprocess, 8.7ms inference, 1.0ms postprocess per image at shape (1, 3, 640, 640)\n",
      "detecting D:/Code/CBCT_Reconstruction_ICP/data/04/jpg\\04_slice_0351.jpg\n",
      "\n",
      "image 1/1 D:\\Code\\CBCT_Reconstruction_ICP\\data\\04\\jpg\\04_slice_0351.jpg: 640x640 (no detections), 10.0ms\n",
      "Speed: 3.0ms preprocess, 10.0ms inference, 1.0ms postprocess per image at shape (1, 3, 640, 640)\n",
      "detecting D:/Code/CBCT_Reconstruction_ICP/data/04/jpg\\04_slice_0352.jpg\n",
      "\n",
      "image 1/1 D:\\Code\\CBCT_Reconstruction_ICP\\data\\04\\jpg\\04_slice_0352.jpg: 640x640 (no detections), 9.8ms\n",
      "Speed: 4.0ms preprocess, 9.8ms inference, 0.5ms postprocess per image at shape (1, 3, 640, 640)\n",
      "detecting D:/Code/CBCT_Reconstruction_ICP/data/04/jpg\\04_slice_0353.jpg\n",
      "\n",
      "image 1/1 D:\\Code\\CBCT_Reconstruction_ICP\\data\\04\\jpg\\04_slice_0353.jpg: 640x640 (no detections), 8.5ms\n",
      "Speed: 2.7ms preprocess, 8.5ms inference, 1.0ms postprocess per image at shape (1, 3, 640, 640)\n",
      "detecting D:/Code/CBCT_Reconstruction_ICP/data/04/jpg\\04_slice_0354.jpg\n",
      "\n",
      "image 1/1 D:\\Code\\CBCT_Reconstruction_ICP\\data\\04\\jpg\\04_slice_0354.jpg: 640x640 (no detections), 9.4ms\n",
      "Speed: 2.3ms preprocess, 9.4ms inference, 1.0ms postprocess per image at shape (1, 3, 640, 640)\n",
      "detecting D:/Code/CBCT_Reconstruction_ICP/data/04/jpg\\04_slice_0355.jpg\n",
      "\n",
      "image 1/1 D:\\Code\\CBCT_Reconstruction_ICP\\data\\04\\jpg\\04_slice_0355.jpg: 640x640 (no detections), 8.5ms\n",
      "Speed: 3.0ms preprocess, 8.5ms inference, 0.0ms postprocess per image at shape (1, 3, 640, 640)\n",
      "detecting D:/Code/CBCT_Reconstruction_ICP/data/04/jpg\\04_slice_0356.jpg\n",
      "\n",
      "image 1/1 D:\\Code\\CBCT_Reconstruction_ICP\\data\\04\\jpg\\04_slice_0356.jpg: 640x640 (no detections), 7.5ms\n",
      "Speed: 3.5ms preprocess, 7.5ms inference, 2.0ms postprocess per image at shape (1, 3, 640, 640)\n",
      "detecting D:/Code/CBCT_Reconstruction_ICP/data/04/jpg\\04_slice_0357.jpg\n",
      "\n",
      "image 1/1 D:\\Code\\CBCT_Reconstruction_ICP\\data\\04\\jpg\\04_slice_0357.jpg: 640x640 (no detections), 8.5ms\n",
      "Speed: 3.0ms preprocess, 8.5ms inference, 2.0ms postprocess per image at shape (1, 3, 640, 640)\n",
      "detecting D:/Code/CBCT_Reconstruction_ICP/data/04/jpg\\04_slice_0358.jpg\n",
      "\n",
      "image 1/1 D:\\Code\\CBCT_Reconstruction_ICP\\data\\04\\jpg\\04_slice_0358.jpg: 640x640 (no detections), 9.3ms\n",
      "Speed: 2.5ms preprocess, 9.3ms inference, 0.0ms postprocess per image at shape (1, 3, 640, 640)\n",
      "detecting D:/Code/CBCT_Reconstruction_ICP/data/04/jpg\\04_slice_0359.jpg\n",
      "\n",
      "image 1/1 D:\\Code\\CBCT_Reconstruction_ICP\\data\\04\\jpg\\04_slice_0359.jpg: 640x640 (no detections), 13.5ms\n",
      "Speed: 2.9ms preprocess, 13.5ms inference, 0.0ms postprocess per image at shape (1, 3, 640, 640)\n",
      "detecting D:/Code/CBCT_Reconstruction_ICP/data/04/jpg\\04_slice_0360.jpg\n",
      "\n",
      "image 1/1 D:\\Code\\CBCT_Reconstruction_ICP\\data\\04\\jpg\\04_slice_0360.jpg: 640x640 (no detections), 8.0ms\n",
      "Speed: 3.5ms preprocess, 8.0ms inference, 2.0ms postprocess per image at shape (1, 3, 640, 640)\n",
      "detecting D:/Code/CBCT_Reconstruction_ICP/data/04/jpg\\04_slice_0361.jpg\n",
      "\n",
      "image 1/1 D:\\Code\\CBCT_Reconstruction_ICP\\data\\04\\jpg\\04_slice_0361.jpg: 640x640 (no detections), 6.6ms\n",
      "Speed: 2.7ms preprocess, 6.6ms inference, 1.0ms postprocess per image at shape (1, 3, 640, 640)\n",
      "detecting D:/Code/CBCT_Reconstruction_ICP/data/04/jpg\\04_slice_0362.jpg\n",
      "\n",
      "image 1/1 D:\\Code\\CBCT_Reconstruction_ICP\\data\\04\\jpg\\04_slice_0362.jpg: 640x640 (no detections), 7.5ms\n",
      "Speed: 2.5ms preprocess, 7.5ms inference, 1.0ms postprocess per image at shape (1, 3, 640, 640)\n",
      "detecting D:/Code/CBCT_Reconstruction_ICP/data/04/jpg\\04_slice_0363.jpg\n",
      "\n",
      "image 1/1 D:\\Code\\CBCT_Reconstruction_ICP\\data\\04\\jpg\\04_slice_0363.jpg: 640x640 (no detections), 8.2ms\n",
      "Speed: 3.5ms preprocess, 8.2ms inference, 0.0ms postprocess per image at shape (1, 3, 640, 640)\n",
      "detecting D:/Code/CBCT_Reconstruction_ICP/data/04/jpg\\04_slice_0364.jpg\n",
      "\n",
      "image 1/1 D:\\Code\\CBCT_Reconstruction_ICP\\data\\04\\jpg\\04_slice_0364.jpg: 640x640 (no detections), 7.8ms\n",
      "Speed: 3.5ms preprocess, 7.8ms inference, 1.1ms postprocess per image at shape (1, 3, 640, 640)\n",
      "detecting D:/Code/CBCT_Reconstruction_ICP/data/04/jpg\\04_slice_0365.jpg\n",
      "\n",
      "image 1/1 D:\\Code\\CBCT_Reconstruction_ICP\\data\\04\\jpg\\04_slice_0365.jpg: 640x640 (no detections), 6.5ms\n",
      "Speed: 3.1ms preprocess, 6.5ms inference, 2.0ms postprocess per image at shape (1, 3, 640, 640)\n",
      "detecting D:/Code/CBCT_Reconstruction_ICP/data/04/jpg\\04_slice_0366.jpg\n",
      "\n",
      "image 1/1 D:\\Code\\CBCT_Reconstruction_ICP\\data\\04\\jpg\\04_slice_0366.jpg: 640x640 (no detections), 8.5ms\n",
      "Speed: 3.0ms preprocess, 8.5ms inference, 0.0ms postprocess per image at shape (1, 3, 640, 640)\n",
      "detecting D:/Code/CBCT_Reconstruction_ICP/data/04/jpg\\04_slice_0367.jpg\n",
      "\n",
      "image 1/1 D:\\Code\\CBCT_Reconstruction_ICP\\data\\04\\jpg\\04_slice_0367.jpg: 640x640 (no detections), 11.0ms\n",
      "Speed: 3.0ms preprocess, 11.0ms inference, 1.0ms postprocess per image at shape (1, 3, 640, 640)\n",
      "detecting D:/Code/CBCT_Reconstruction_ICP/data/04/jpg\\04_slice_0368.jpg\n",
      "\n",
      "image 1/1 D:\\Code\\CBCT_Reconstruction_ICP\\data\\04\\jpg\\04_slice_0368.jpg: 640x640 (no detections), 10.7ms\n",
      "Speed: 2.5ms preprocess, 10.7ms inference, 1.0ms postprocess per image at shape (1, 3, 640, 640)\n",
      "detecting D:/Code/CBCT_Reconstruction_ICP/data/04/jpg\\04_slice_0369.jpg\n",
      "\n",
      "image 1/1 D:\\Code\\CBCT_Reconstruction_ICP\\data\\04\\jpg\\04_slice_0369.jpg: 640x640 (no detections), 6.8ms\n",
      "Speed: 2.5ms preprocess, 6.8ms inference, 1.0ms postprocess per image at shape (1, 3, 640, 640)\n",
      "detecting D:/Code/CBCT_Reconstruction_ICP/data/04/jpg\\04_slice_0370.jpg\n",
      "\n",
      "image 1/1 D:\\Code\\CBCT_Reconstruction_ICP\\data\\04\\jpg\\04_slice_0370.jpg: 640x640 (no detections), 7.3ms\n",
      "Speed: 2.0ms preprocess, 7.3ms inference, 1.0ms postprocess per image at shape (1, 3, 640, 640)\n",
      "detecting D:/Code/CBCT_Reconstruction_ICP/data/04/jpg\\04_slice_0371.jpg\n",
      "\n",
      "image 1/1 D:\\Code\\CBCT_Reconstruction_ICP\\data\\04\\jpg\\04_slice_0371.jpg: 640x640 (no detections), 8.0ms\n",
      "Speed: 3.1ms preprocess, 8.0ms inference, 0.0ms postprocess per image at shape (1, 3, 640, 640)\n",
      "detecting D:/Code/CBCT_Reconstruction_ICP/data/04/jpg\\04_slice_0372.jpg\n",
      "\n",
      "image 1/1 D:\\Code\\CBCT_Reconstruction_ICP\\data\\04\\jpg\\04_slice_0372.jpg: 640x640 (no detections), 7.0ms\n",
      "Speed: 2.0ms preprocess, 7.0ms inference, 1.0ms postprocess per image at shape (1, 3, 640, 640)\n",
      "detecting D:/Code/CBCT_Reconstruction_ICP/data/04/jpg\\04_slice_0373.jpg\n",
      "\n",
      "image 1/1 D:\\Code\\CBCT_Reconstruction_ICP\\data\\04\\jpg\\04_slice_0373.jpg: 640x640 (no detections), 6.5ms\n",
      "Speed: 2.0ms preprocess, 6.5ms inference, 1.0ms postprocess per image at shape (1, 3, 640, 640)\n",
      "detecting D:/Code/CBCT_Reconstruction_ICP/data/04/jpg\\04_slice_0374.jpg\n",
      "\n",
      "image 1/1 D:\\Code\\CBCT_Reconstruction_ICP\\data\\04\\jpg\\04_slice_0374.jpg: 640x640 (no detections), 10.0ms\n",
      "Speed: 3.2ms preprocess, 10.0ms inference, 1.3ms postprocess per image at shape (1, 3, 640, 640)\n",
      "detecting D:/Code/CBCT_Reconstruction_ICP/data/04/jpg\\04_slice_0375.jpg\n",
      "\n",
      "image 1/1 D:\\Code\\CBCT_Reconstruction_ICP\\data\\04\\jpg\\04_slice_0375.jpg: 640x640 (no detections), 8.0ms\n",
      "Speed: 2.5ms preprocess, 8.0ms inference, 1.0ms postprocess per image at shape (1, 3, 640, 640)\n",
      "detecting D:/Code/CBCT_Reconstruction_ICP/data/04/jpg\\04_slice_0376.jpg\n",
      "\n",
      "image 1/1 D:\\Code\\CBCT_Reconstruction_ICP\\data\\04\\jpg\\04_slice_0376.jpg: 640x640 (no detections), 7.8ms\n",
      "Speed: 3.0ms preprocess, 7.8ms inference, 1.0ms postprocess per image at shape (1, 3, 640, 640)\n",
      "detecting D:/Code/CBCT_Reconstruction_ICP/data/04/jpg\\04_slice_0377.jpg\n",
      "\n",
      "image 1/1 D:\\Code\\CBCT_Reconstruction_ICP\\data\\04\\jpg\\04_slice_0377.jpg: 640x640 (no detections), 10.6ms\n",
      "Speed: 3.6ms preprocess, 10.6ms inference, 1.2ms postprocess per image at shape (1, 3, 640, 640)\n",
      "detecting D:/Code/CBCT_Reconstruction_ICP/data/04/jpg\\04_slice_0378.jpg\n",
      "\n",
      "image 1/1 D:\\Code\\CBCT_Reconstruction_ICP\\data\\04\\jpg\\04_slice_0378.jpg: 640x640 (no detections), 8.8ms\n",
      "Speed: 3.0ms preprocess, 8.8ms inference, 0.0ms postprocess per image at shape (1, 3, 640, 640)\n",
      "detecting D:/Code/CBCT_Reconstruction_ICP/data/04/jpg\\04_slice_0379.jpg\n",
      "\n",
      "image 1/1 D:\\Code\\CBCT_Reconstruction_ICP\\data\\04\\jpg\\04_slice_0379.jpg: 640x640 (no detections), 8.3ms\n",
      "Speed: 3.0ms preprocess, 8.3ms inference, 0.0ms postprocess per image at shape (1, 3, 640, 640)\n",
      "detecting D:/Code/CBCT_Reconstruction_ICP/data/04/jpg\\04_slice_0380.jpg\n",
      "\n",
      "image 1/1 D:\\Code\\CBCT_Reconstruction_ICP\\data\\04\\jpg\\04_slice_0380.jpg: 640x640 (no detections), 8.2ms\n",
      "Speed: 2.0ms preprocess, 8.2ms inference, 1.0ms postprocess per image at shape (1, 3, 640, 640)\n",
      "detecting D:/Code/CBCT_Reconstruction_ICP/data/04/jpg\\04_slice_0381.jpg\n",
      "\n",
      "image 1/1 D:\\Code\\CBCT_Reconstruction_ICP\\data\\04\\jpg\\04_slice_0381.jpg: 640x640 (no detections), 7.7ms\n",
      "Speed: 3.0ms preprocess, 7.7ms inference, 1.7ms postprocess per image at shape (1, 3, 640, 640)\n",
      "detecting D:/Code/CBCT_Reconstruction_ICP/data/04/jpg\\04_slice_0382.jpg\n",
      "\n",
      "image 1/1 D:\\Code\\CBCT_Reconstruction_ICP\\data\\04\\jpg\\04_slice_0382.jpg: 640x640 (no detections), 9.9ms\n",
      "Speed: 2.6ms preprocess, 9.9ms inference, 1.0ms postprocess per image at shape (1, 3, 640, 640)\n",
      "detecting D:/Code/CBCT_Reconstruction_ICP/data/04/jpg\\04_slice_0383.jpg\n",
      "\n",
      "image 1/1 D:\\Code\\CBCT_Reconstruction_ICP\\data\\04\\jpg\\04_slice_0383.jpg: 640x640 (no detections), 6.8ms\n",
      "Speed: 3.0ms preprocess, 6.8ms inference, 1.0ms postprocess per image at shape (1, 3, 640, 640)\n",
      "detecting D:/Code/CBCT_Reconstruction_ICP/data/04/jpg\\04_slice_0384.jpg\n",
      "\n",
      "image 1/1 D:\\Code\\CBCT_Reconstruction_ICP\\data\\04\\jpg\\04_slice_0384.jpg: 640x640 (no detections), 8.3ms\n",
      "Speed: 3.7ms preprocess, 8.3ms inference, 0.7ms postprocess per image at shape (1, 3, 640, 640)\n",
      "detecting D:/Code/CBCT_Reconstruction_ICP/data/04/jpg\\04_slice_0385.jpg\n",
      "\n",
      "image 1/1 D:\\Code\\CBCT_Reconstruction_ICP\\data\\04\\jpg\\04_slice_0385.jpg: 640x640 (no detections), 8.9ms\n",
      "Speed: 3.6ms preprocess, 8.9ms inference, 2.0ms postprocess per image at shape (1, 3, 640, 640)\n",
      "detecting D:/Code/CBCT_Reconstruction_ICP/data/04/jpg\\04_slice_0386.jpg\n",
      "\n",
      "image 1/1 D:\\Code\\CBCT_Reconstruction_ICP\\data\\04\\jpg\\04_slice_0386.jpg: 640x640 (no detections), 8.9ms\n",
      "Speed: 2.9ms preprocess, 8.9ms inference, 0.5ms postprocess per image at shape (1, 3, 640, 640)\n",
      "detecting D:/Code/CBCT_Reconstruction_ICP/data/04/jpg\\04_slice_0387.jpg\n",
      "\n",
      "image 1/1 D:\\Code\\CBCT_Reconstruction_ICP\\data\\04\\jpg\\04_slice_0387.jpg: 640x640 (no detections), 8.3ms\n",
      "Speed: 3.0ms preprocess, 8.3ms inference, 1.1ms postprocess per image at shape (1, 3, 640, 640)\n",
      "detecting D:/Code/CBCT_Reconstruction_ICP/data/04/jpg\\04_slice_0388.jpg\n",
      "\n",
      "image 1/1 D:\\Code\\CBCT_Reconstruction_ICP\\data\\04\\jpg\\04_slice_0388.jpg: 640x640 (no detections), 7.5ms\n",
      "Speed: 2.6ms preprocess, 7.5ms inference, 0.5ms postprocess per image at shape (1, 3, 640, 640)\n",
      "detecting D:/Code/CBCT_Reconstruction_ICP/data/04/jpg\\04_slice_0389.jpg\n",
      "\n",
      "image 1/1 D:\\Code\\CBCT_Reconstruction_ICP\\data\\04\\jpg\\04_slice_0389.jpg: 640x640 (no detections), 8.9ms\n",
      "Speed: 2.6ms preprocess, 8.9ms inference, 1.6ms postprocess per image at shape (1, 3, 640, 640)\n",
      "detecting D:/Code/CBCT_Reconstruction_ICP/data/04/jpg\\04_slice_0390.jpg\n",
      "\n",
      "image 1/1 D:\\Code\\CBCT_Reconstruction_ICP\\data\\04\\jpg\\04_slice_0390.jpg: 640x640 (no detections), 8.4ms\n",
      "Speed: 2.8ms preprocess, 8.4ms inference, 1.0ms postprocess per image at shape (1, 3, 640, 640)\n",
      "detecting D:/Code/CBCT_Reconstruction_ICP/data/04/jpg\\04_slice_0391.jpg\n",
      "\n",
      "image 1/1 D:\\Code\\CBCT_Reconstruction_ICP\\data\\04\\jpg\\04_slice_0391.jpg: 640x640 (no detections), 7.6ms\n",
      "Speed: 2.6ms preprocess, 7.6ms inference, 1.0ms postprocess per image at shape (1, 3, 640, 640)\n",
      "detecting D:/Code/CBCT_Reconstruction_ICP/data/04/jpg\\04_slice_0392.jpg\n",
      "\n",
      "image 1/1 D:\\Code\\CBCT_Reconstruction_ICP\\data\\04\\jpg\\04_slice_0392.jpg: 640x640 (no detections), 9.7ms\n",
      "Speed: 3.0ms preprocess, 9.7ms inference, 1.2ms postprocess per image at shape (1, 3, 640, 640)\n",
      "detecting D:/Code/CBCT_Reconstruction_ICP/data/04/jpg\\04_slice_0393.jpg\n",
      "\n",
      "image 1/1 D:\\Code\\CBCT_Reconstruction_ICP\\data\\04\\jpg\\04_slice_0393.jpg: 640x640 (no detections), 8.0ms\n",
      "Speed: 2.6ms preprocess, 8.0ms inference, 0.5ms postprocess per image at shape (1, 3, 640, 640)\n",
      "detecting D:/Code/CBCT_Reconstruction_ICP/data/04/jpg\\04_slice_0394.jpg\n",
      "\n",
      "image 1/1 D:\\Code\\CBCT_Reconstruction_ICP\\data\\04\\jpg\\04_slice_0394.jpg: 640x640 (no detections), 10.4ms\n",
      "Speed: 2.5ms preprocess, 10.4ms inference, 0.5ms postprocess per image at shape (1, 3, 640, 640)\n",
      "detecting D:/Code/CBCT_Reconstruction_ICP/data/04/jpg\\04_slice_0395.jpg\n",
      "\n",
      "image 1/1 D:\\Code\\CBCT_Reconstruction_ICP\\data\\04\\jpg\\04_slice_0395.jpg: 640x640 (no detections), 11.5ms\n",
      "Speed: 4.7ms preprocess, 11.5ms inference, 1.0ms postprocess per image at shape (1, 3, 640, 640)\n",
      "detecting D:/Code/CBCT_Reconstruction_ICP/data/04/jpg\\04_slice_0396.jpg\n",
      "\n",
      "image 1/1 D:\\Code\\CBCT_Reconstruction_ICP\\data\\04\\jpg\\04_slice_0396.jpg: 640x640 (no detections), 6.9ms\n",
      "Speed: 2.6ms preprocess, 6.9ms inference, 0.0ms postprocess per image at shape (1, 3, 640, 640)\n",
      "detecting D:/Code/CBCT_Reconstruction_ICP/data/04/jpg\\04_slice_0397.jpg\n",
      "\n",
      "image 1/1 D:\\Code\\CBCT_Reconstruction_ICP\\data\\04\\jpg\\04_slice_0397.jpg: 640x640 (no detections), 7.1ms\n",
      "Speed: 3.1ms preprocess, 7.1ms inference, 1.1ms postprocess per image at shape (1, 3, 640, 640)\n",
      "detecting D:/Code/CBCT_Reconstruction_ICP/data/04/jpg\\04_slice_0398.jpg\n",
      "\n",
      "image 1/1 D:\\Code\\CBCT_Reconstruction_ICP\\data\\04\\jpg\\04_slice_0398.jpg: 640x640 (no detections), 7.0ms\n",
      "Speed: 4.0ms preprocess, 7.0ms inference, 0.0ms postprocess per image at shape (1, 3, 640, 640)\n",
      "detecting D:/Code/CBCT_Reconstruction_ICP/data/04/jpg\\04_slice_0399.jpg\n",
      "\n",
      "image 1/1 D:\\Code\\CBCT_Reconstruction_ICP\\data\\04\\jpg\\04_slice_0399.jpg: 640x640 (no detections), 8.0ms\n",
      "Speed: 3.3ms preprocess, 8.0ms inference, 1.0ms postprocess per image at shape (1, 3, 640, 640)\n",
      "detecting D:/Code/CBCT_Reconstruction_ICP/data/04/jpg\\04_slice_0400.jpg\n",
      "\n",
      "image 1/1 D:\\Code\\CBCT_Reconstruction_ICP\\data\\04\\jpg\\04_slice_0400.jpg: 640x640 (no detections), 6.0ms\n",
      "Speed: 3.0ms preprocess, 6.0ms inference, 1.0ms postprocess per image at shape (1, 3, 640, 640)\n",
      "detecting D:/Code/CBCT_Reconstruction_ICP/data/04/jpg\\04_slice_0401.jpg\n",
      "\n",
      "image 1/1 D:\\Code\\CBCT_Reconstruction_ICP\\data\\04\\jpg\\04_slice_0401.jpg: 640x640 (no detections), 7.5ms\n",
      "Speed: 2.0ms preprocess, 7.5ms inference, 1.0ms postprocess per image at shape (1, 3, 640, 640)\n",
      "detecting D:/Code/CBCT_Reconstruction_ICP/data/04/jpg\\04_slice_0402.jpg\n",
      "\n",
      "image 1/1 D:\\Code\\CBCT_Reconstruction_ICP\\data\\04\\jpg\\04_slice_0402.jpg: 640x640 (no detections), 11.7ms\n",
      "Speed: 2.0ms preprocess, 11.7ms inference, 1.0ms postprocess per image at shape (1, 3, 640, 640)\n",
      "detecting D:/Code/CBCT_Reconstruction_ICP/data/04/jpg\\04_slice_0403.jpg\n",
      "\n",
      "image 1/1 D:\\Code\\CBCT_Reconstruction_ICP\\data\\04\\jpg\\04_slice_0403.jpg: 640x640 (no detections), 9.6ms\n",
      "Speed: 2.0ms preprocess, 9.6ms inference, 0.0ms postprocess per image at shape (1, 3, 640, 640)\n",
      "detecting D:/Code/CBCT_Reconstruction_ICP/data/04/jpg\\04_slice_0404.jpg\n",
      "\n",
      "image 1/1 D:\\Code\\CBCT_Reconstruction_ICP\\data\\04\\jpg\\04_slice_0404.jpg: 640x640 (no detections), 7.0ms\n",
      "Speed: 2.6ms preprocess, 7.0ms inference, 0.0ms postprocess per image at shape (1, 3, 640, 640)\n",
      "detecting D:/Code/CBCT_Reconstruction_ICP/data/04/jpg\\04_slice_0405.jpg\n",
      "\n",
      "image 1/1 D:\\Code\\CBCT_Reconstruction_ICP\\data\\04\\jpg\\04_slice_0405.jpg: 640x640 (no detections), 7.2ms\n",
      "Speed: 3.0ms preprocess, 7.2ms inference, 0.0ms postprocess per image at shape (1, 3, 640, 640)\n",
      "detecting D:/Code/CBCT_Reconstruction_ICP/data/04/jpg\\04_slice_0406.jpg\n",
      "\n",
      "image 1/1 D:\\Code\\CBCT_Reconstruction_ICP\\data\\04\\jpg\\04_slice_0406.jpg: 640x640 (no detections), 11.5ms\n",
      "Speed: 3.0ms preprocess, 11.5ms inference, 1.0ms postprocess per image at shape (1, 3, 640, 640)\n",
      "detecting D:/Code/CBCT_Reconstruction_ICP/data/04/jpg\\04_slice_0407.jpg\n",
      "\n",
      "image 1/1 D:\\Code\\CBCT_Reconstruction_ICP\\data\\04\\jpg\\04_slice_0407.jpg: 640x640 (no detections), 8.2ms\n",
      "Speed: 3.0ms preprocess, 8.2ms inference, 1.0ms postprocess per image at shape (1, 3, 640, 640)\n",
      "detecting D:/Code/CBCT_Reconstruction_ICP/data/04/jpg\\04_slice_0408.jpg\n",
      "\n",
      "image 1/1 D:\\Code\\CBCT_Reconstruction_ICP\\data\\04\\jpg\\04_slice_0408.jpg: 640x640 (no detections), 10.1ms\n",
      "Speed: 2.4ms preprocess, 10.1ms inference, 1.0ms postprocess per image at shape (1, 3, 640, 640)\n",
      "detecting D:/Code/CBCT_Reconstruction_ICP/data/04/jpg\\04_slice_0409.jpg\n",
      "\n",
      "image 1/1 D:\\Code\\CBCT_Reconstruction_ICP\\data\\04\\jpg\\04_slice_0409.jpg: 640x640 (no detections), 7.6ms\n",
      "Speed: 3.0ms preprocess, 7.6ms inference, 1.0ms postprocess per image at shape (1, 3, 640, 640)\n",
      "detecting D:/Code/CBCT_Reconstruction_ICP/data/04/jpg\\04_slice_0410.jpg\n",
      "\n",
      "image 1/1 D:\\Code\\CBCT_Reconstruction_ICP\\data\\04\\jpg\\04_slice_0410.jpg: 640x640 (no detections), 9.2ms\n",
      "Speed: 2.0ms preprocess, 9.2ms inference, 0.0ms postprocess per image at shape (1, 3, 640, 640)\n",
      "detecting D:/Code/CBCT_Reconstruction_ICP/data/04/jpg\\04_slice_0411.jpg\n",
      "\n",
      "image 1/1 D:\\Code\\CBCT_Reconstruction_ICP\\data\\04\\jpg\\04_slice_0411.jpg: 640x640 (no detections), 8.1ms\n",
      "Speed: 3.1ms preprocess, 8.1ms inference, 0.5ms postprocess per image at shape (1, 3, 640, 640)\n",
      "detecting D:/Code/CBCT_Reconstruction_ICP/data/04/jpg\\04_slice_0412.jpg\n",
      "\n",
      "image 1/1 D:\\Code\\CBCT_Reconstruction_ICP\\data\\04\\jpg\\04_slice_0412.jpg: 640x640 (no detections), 8.8ms\n",
      "Speed: 4.3ms preprocess, 8.8ms inference, 0.5ms postprocess per image at shape (1, 3, 640, 640)\n",
      "detecting D:/Code/CBCT_Reconstruction_ICP/data/04/jpg\\04_slice_0413.jpg\n",
      "\n",
      "image 1/1 D:\\Code\\CBCT_Reconstruction_ICP\\data\\04\\jpg\\04_slice_0413.jpg: 640x640 (no detections), 7.0ms\n",
      "Speed: 3.0ms preprocess, 7.0ms inference, 1.0ms postprocess per image at shape (1, 3, 640, 640)\n",
      "detecting D:/Code/CBCT_Reconstruction_ICP/data/04/jpg\\04_slice_0414.jpg\n",
      "\n",
      "image 1/1 D:\\Code\\CBCT_Reconstruction_ICP\\data\\04\\jpg\\04_slice_0414.jpg: 640x640 (no detections), 11.7ms\n",
      "Speed: 3.0ms preprocess, 11.7ms inference, 0.0ms postprocess per image at shape (1, 3, 640, 640)\n",
      "detecting D:/Code/CBCT_Reconstruction_ICP/data/04/jpg\\04_slice_0415.jpg\n",
      "\n",
      "image 1/1 D:\\Code\\CBCT_Reconstruction_ICP\\data\\04\\jpg\\04_slice_0415.jpg: 640x640 (no detections), 9.8ms\n",
      "Speed: 3.1ms preprocess, 9.8ms inference, 0.5ms postprocess per image at shape (1, 3, 640, 640)\n",
      "detecting D:/Code/CBCT_Reconstruction_ICP/data/04/jpg\\04_slice_0416.jpg\n",
      "\n",
      "image 1/1 D:\\Code\\CBCT_Reconstruction_ICP\\data\\04\\jpg\\04_slice_0416.jpg: 640x640 (no detections), 7.0ms\n",
      "Speed: 3.0ms preprocess, 7.0ms inference, 1.0ms postprocess per image at shape (1, 3, 640, 640)\n",
      "detecting D:/Code/CBCT_Reconstruction_ICP/data/04/jpg\\04_slice_0417.jpg\n",
      "\n",
      "image 1/1 D:\\Code\\CBCT_Reconstruction_ICP\\data\\04\\jpg\\04_slice_0417.jpg: 640x640 (no detections), 8.0ms\n",
      "Speed: 2.2ms preprocess, 8.0ms inference, 1.0ms postprocess per image at shape (1, 3, 640, 640)\n",
      "detecting D:/Code/CBCT_Reconstruction_ICP/data/04/jpg\\04_slice_0418.jpg\n",
      "\n",
      "image 1/1 D:\\Code\\CBCT_Reconstruction_ICP\\data\\04\\jpg\\04_slice_0418.jpg: 640x640 (no detections), 7.5ms\n",
      "Speed: 3.0ms preprocess, 7.5ms inference, 0.6ms postprocess per image at shape (1, 3, 640, 640)\n",
      "detecting D:/Code/CBCT_Reconstruction_ICP/data/04/jpg\\04_slice_0419.jpg\n",
      "\n",
      "image 1/1 D:\\Code\\CBCT_Reconstruction_ICP\\data\\04\\jpg\\04_slice_0419.jpg: 640x640 (no detections), 6.0ms\n",
      "Speed: 3.4ms preprocess, 6.0ms inference, 1.0ms postprocess per image at shape (1, 3, 640, 640)\n",
      "detecting D:/Code/CBCT_Reconstruction_ICP/data/04/jpg\\04_slice_0420.jpg\n",
      "\n",
      "image 1/1 D:\\Code\\CBCT_Reconstruction_ICP\\data\\04\\jpg\\04_slice_0420.jpg: 640x640 (no detections), 8.7ms\n",
      "Speed: 2.5ms preprocess, 8.7ms inference, 0.0ms postprocess per image at shape (1, 3, 640, 640)\n",
      "detecting D:/Code/CBCT_Reconstruction_ICP/data/04/jpg\\04_slice_0421.jpg\n",
      "\n",
      "image 1/1 D:\\Code\\CBCT_Reconstruction_ICP\\data\\04\\jpg\\04_slice_0421.jpg: 640x640 (no detections), 9.4ms\n",
      "Speed: 3.0ms preprocess, 9.4ms inference, 0.0ms postprocess per image at shape (1, 3, 640, 640)\n",
      "detecting D:/Code/CBCT_Reconstruction_ICP/data/04/jpg\\04_slice_0422.jpg\n",
      "\n",
      "image 1/1 D:\\Code\\CBCT_Reconstruction_ICP\\data\\04\\jpg\\04_slice_0422.jpg: 640x640 (no detections), 11.2ms\n",
      "Speed: 4.5ms preprocess, 11.2ms inference, 0.5ms postprocess per image at shape (1, 3, 640, 640)\n",
      "detecting D:/Code/CBCT_Reconstruction_ICP/data/04/jpg\\04_slice_0423.jpg\n",
      "\n",
      "image 1/1 D:\\Code\\CBCT_Reconstruction_ICP\\data\\04\\jpg\\04_slice_0423.jpg: 640x640 (no detections), 7.0ms\n",
      "Speed: 3.0ms preprocess, 7.0ms inference, 1.5ms postprocess per image at shape (1, 3, 640, 640)\n",
      "detecting D:/Code/CBCT_Reconstruction_ICP/data/04/jpg\\04_slice_0424.jpg\n",
      "\n",
      "image 1/1 D:\\Code\\CBCT_Reconstruction_ICP\\data\\04\\jpg\\04_slice_0424.jpg: 640x640 (no detections), 8.0ms\n",
      "Speed: 2.0ms preprocess, 8.0ms inference, 1.0ms postprocess per image at shape (1, 3, 640, 640)\n",
      "detecting D:/Code/CBCT_Reconstruction_ICP/data/04/jpg\\04_slice_0425.jpg\n",
      "\n",
      "image 1/1 D:\\Code\\CBCT_Reconstruction_ICP\\data\\04\\jpg\\04_slice_0425.jpg: 640x640 (no detections), 13.5ms\n",
      "Speed: 3.2ms preprocess, 13.5ms inference, 1.0ms postprocess per image at shape (1, 3, 640, 640)\n",
      "detecting D:/Code/CBCT_Reconstruction_ICP/data/04/jpg\\04_slice_0426.jpg\n",
      "\n",
      "image 1/1 D:\\Code\\CBCT_Reconstruction_ICP\\data\\04\\jpg\\04_slice_0426.jpg: 640x640 (no detections), 8.6ms\n",
      "Speed: 3.0ms preprocess, 8.6ms inference, 1.0ms postprocess per image at shape (1, 3, 640, 640)\n",
      "detecting D:/Code/CBCT_Reconstruction_ICP/data/04/jpg\\04_slice_0427.jpg\n",
      "\n",
      "image 1/1 D:\\Code\\CBCT_Reconstruction_ICP\\data\\04\\jpg\\04_slice_0427.jpg: 640x640 (no detections), 7.0ms\n",
      "Speed: 2.0ms preprocess, 7.0ms inference, 1.0ms postprocess per image at shape (1, 3, 640, 640)\n",
      "detecting D:/Code/CBCT_Reconstruction_ICP/data/04/jpg\\04_slice_0428.jpg\n",
      "\n",
      "image 1/1 D:\\Code\\CBCT_Reconstruction_ICP\\data\\04\\jpg\\04_slice_0428.jpg: 640x640 (no detections), 13.1ms\n",
      "Speed: 2.0ms preprocess, 13.1ms inference, 1.0ms postprocess per image at shape (1, 3, 640, 640)\n",
      "detecting D:/Code/CBCT_Reconstruction_ICP/data/04/jpg\\04_slice_0429.jpg\n",
      "\n",
      "image 1/1 D:\\Code\\CBCT_Reconstruction_ICP\\data\\04\\jpg\\04_slice_0429.jpg: 640x640 (no detections), 13.7ms\n",
      "Speed: 3.4ms preprocess, 13.7ms inference, 1.0ms postprocess per image at shape (1, 3, 640, 640)\n",
      "detecting D:/Code/CBCT_Reconstruction_ICP/data/04/jpg\\04_slice_0430.jpg\n",
      "\n",
      "image 1/1 D:\\Code\\CBCT_Reconstruction_ICP\\data\\04\\jpg\\04_slice_0430.jpg: 640x640 (no detections), 8.0ms\n",
      "Speed: 2.0ms preprocess, 8.0ms inference, 0.0ms postprocess per image at shape (1, 3, 640, 640)\n",
      "detecting D:/Code/CBCT_Reconstruction_ICP/data/04/jpg\\04_slice_0431.jpg\n",
      "\n",
      "image 1/1 D:\\Code\\CBCT_Reconstruction_ICP\\data\\04\\jpg\\04_slice_0431.jpg: 640x640 (no detections), 8.6ms\n",
      "Speed: 3.0ms preprocess, 8.6ms inference, 1.1ms postprocess per image at shape (1, 3, 640, 640)\n",
      "detecting D:/Code/CBCT_Reconstruction_ICP/data/04/jpg\\04_slice_0432.jpg\n",
      "\n",
      "image 1/1 D:\\Code\\CBCT_Reconstruction_ICP\\data\\04\\jpg\\04_slice_0432.jpg: 640x640 (no detections), 7.0ms\n",
      "Speed: 3.9ms preprocess, 7.0ms inference, 1.0ms postprocess per image at shape (1, 3, 640, 640)\n",
      "detecting D:/Code/CBCT_Reconstruction_ICP/data/04/jpg\\04_slice_0433.jpg\n",
      "\n",
      "image 1/1 D:\\Code\\CBCT_Reconstruction_ICP\\data\\04\\jpg\\04_slice_0433.jpg: 640x640 (no detections), 7.0ms\n",
      "Speed: 3.0ms preprocess, 7.0ms inference, 1.0ms postprocess per image at shape (1, 3, 640, 640)\n",
      "detecting D:/Code/CBCT_Reconstruction_ICP/data/04/jpg\\04_slice_0434.jpg\n",
      "\n",
      "image 1/1 D:\\Code\\CBCT_Reconstruction_ICP\\data\\04\\jpg\\04_slice_0434.jpg: 640x640 (no detections), 8.0ms\n",
      "Speed: 2.1ms preprocess, 8.0ms inference, 1.0ms postprocess per image at shape (1, 3, 640, 640)\n",
      "detecting D:/Code/CBCT_Reconstruction_ICP/data/04/jpg\\04_slice_0435.jpg\n",
      "\n",
      "image 1/1 D:\\Code\\CBCT_Reconstruction_ICP\\data\\04\\jpg\\04_slice_0435.jpg: 640x640 (no detections), 8.8ms\n",
      "Speed: 3.0ms preprocess, 8.8ms inference, 1.0ms postprocess per image at shape (1, 3, 640, 640)\n",
      "detecting D:/Code/CBCT_Reconstruction_ICP/data/04/jpg\\04_slice_0436.jpg\n",
      "\n",
      "image 1/1 D:\\Code\\CBCT_Reconstruction_ICP\\data\\04\\jpg\\04_slice_0436.jpg: 640x640 (no detections), 9.2ms\n",
      "Speed: 3.0ms preprocess, 9.2ms inference, 1.0ms postprocess per image at shape (1, 3, 640, 640)\n",
      "detecting D:/Code/CBCT_Reconstruction_ICP/data/04/jpg\\04_slice_0437.jpg\n",
      "\n",
      "image 1/1 D:\\Code\\CBCT_Reconstruction_ICP\\data\\04\\jpg\\04_slice_0437.jpg: 640x640 (no detections), 7.0ms\n",
      "Speed: 3.0ms preprocess, 7.0ms inference, 1.0ms postprocess per image at shape (1, 3, 640, 640)\n",
      "detecting D:/Code/CBCT_Reconstruction_ICP/data/04/jpg\\04_slice_0438.jpg\n",
      "\n",
      "image 1/1 D:\\Code\\CBCT_Reconstruction_ICP\\data\\04\\jpg\\04_slice_0438.jpg: 640x640 (no detections), 8.4ms\n",
      "Speed: 3.0ms preprocess, 8.4ms inference, 0.0ms postprocess per image at shape (1, 3, 640, 640)\n",
      "detecting D:/Code/CBCT_Reconstruction_ICP/data/04/jpg\\04_slice_0439.jpg\n",
      "\n",
      "image 1/1 D:\\Code\\CBCT_Reconstruction_ICP\\data\\04\\jpg\\04_slice_0439.jpg: 640x640 (no detections), 7.0ms\n",
      "Speed: 3.0ms preprocess, 7.0ms inference, 0.0ms postprocess per image at shape (1, 3, 640, 640)\n",
      "detecting D:/Code/CBCT_Reconstruction_ICP/data/04/jpg\\04_slice_0440.jpg\n",
      "\n",
      "image 1/1 D:\\Code\\CBCT_Reconstruction_ICP\\data\\04\\jpg\\04_slice_0440.jpg: 640x640 (no detections), 11.6ms\n",
      "Speed: 3.3ms preprocess, 11.6ms inference, 1.0ms postprocess per image at shape (1, 3, 640, 640)\n",
      "所有测试图片的预测结果已保存到 D:/Code/CBCT_Reconstruction_ICP/data/04/jpg_predict\n",
      "arch的索引分别是：\n",
      "62 0.39111506938934326\n",
      "70 0.45711904764175415\n",
      "71 0.45661622285842896\n",
      "81 0.38388916850090027\n",
      "82 0.4114767611026764\n",
      "84 0.43469667434692383\n",
      "85 0.5028747320175171\n",
      "86 0.5266128778457642\n",
      "88 0.434768408536911\n",
      "89 0.5160875916481018\n",
      "90 0.6114366054534912\n",
      "91 0.7856811881065369\n",
      "92 0.675713837146759\n",
      "93 0.7175301909446716\n",
      "94 0.7764031291007996\n",
      "95 0.8341296315193176\n",
      "96 0.8088247179985046\n",
      "97 0.5155040621757507\n",
      "99 0.36989670991897583\n",
      "100 0.537602961063385\n",
      "101 0.5275355577468872\n",
      "102 0.6737988591194153\n",
      "103 0.613752543926239\n",
      "104 0.7627530694007874\n",
      "105 0.6589386463165283\n",
      "106 0.8033198118209839\n",
      "107 0.6996434330940247\n",
      "108 0.6714971661567688\n",
      "109 0.737342357635498\n",
      "110 0.7062431573867798\n",
      "111 0.3987218141555786\n",
      "112 0.3589644134044647\n",
      "113 0.43930721282958984\n",
      "114 0.37088969349861145\n",
      "249 0.3919529914855957\n",
      "250 0.6692900061607361\n",
      "251 0.785464882850647\n",
      "252 0.8483982682228088\n",
      "253 0.8671450018882751\n",
      "254 0.8791602849960327\n",
      "255 0.9156081676483154\n",
      "256 0.9257295727729797\n",
      "257 0.9306403398513794\n",
      "258 0.9300848245620728\n",
      "259 0.9355599880218506\n",
      "260 0.9448222517967224\n",
      "261 0.9433263540267944\n",
      "262 0.9453946948051453\n",
      "263 0.9560640454292297\n",
      "264 0.9564671516418457\n",
      "265 0.9534472227096558\n",
      "266 0.9541921019554138\n",
      "267 0.9584791660308838\n",
      "268 0.9587094783782959\n",
      "269 0.9630979299545288\n",
      "270 0.9677928686141968\n",
      "271 0.9702817797660828\n",
      "272 0.9710636138916016\n",
      "273 0.9709694385528564\n",
      "274 0.970285952091217\n",
      "275 0.9695643782615662\n",
      "276 0.9696463346481323\n",
      "277 0.9697991013526917\n",
      "278 0.9670547246932983\n",
      "279 0.9634037613868713\n",
      "280 0.9613385796546936\n",
      "281 0.9561946988105774\n",
      "282 0.957342267036438\n",
      "283 0.9227120876312256\n",
      "284 0.7613329291343689\n",
      "285 0.4300488233566284\n",
      "vomer的索引分别是：\n",
      "284 0.3791048228740692\n",
      "285 0.7283560037612915\n",
      "286 0.8206706643104553\n",
      "287 0.8841236233711243\n",
      "288 0.9503545761108398\n",
      "289 0.9479033350944519\n",
      "290 0.9395782351493835\n",
      "291 0.9278106689453125\n",
      "292 0.9074786901473999\n",
      "293 0.8798818588256836\n",
      "294 0.8259910941123962\n",
      "295 0.8811516761779785\n",
      "296 0.8984679579734802\n",
      "297 0.916799783706665\n",
      "298 0.9437365531921387\n",
      "299 0.9442371129989624\n",
      "300 0.9539406895637512\n",
      "301 0.9629503488540649\n",
      "302 0.9700170755386353\n",
      "303 0.9671033620834351\n",
      "304 0.963940441608429\n",
      "305 0.9680835008621216\n",
      "306 0.9673586487770081\n",
      "307 0.9517841935157776\n",
      "308 0.9566963315010071\n",
      "309 0.9493721723556519\n",
      "310 0.9455000758171082\n",
      "311 0.9380146861076355\n",
      "312 0.8089501857757568\n",
      "313 0.45580291748046875\n",
      "314 0.3841741979122162\n",
      "315 0.7757729291915894\n",
      "316 0.4202376902103424\n",
      "318 0.3734443783760071\n",
      "322 0.4910517632961273\n",
      "323 0.3919033408164978\n",
      "325 0.46829313039779663\n"
     ]
    }
   ],
   "source": [
    "import os\n",
    "from ultralytics import YOLOv10\n",
    "import cv2\n",
    "import shutil\n",
    "\n",
    "os.environ[\"KMP_DUPLICATE_LIB_OK\"] = \"TRUE\"\n",
    "\n",
    "# Train the model using the 'coco8.yaml' dataset for 3 epochs\n",
    "model = YOLOv10('../runs/detect/train21/weights/best.pt')\n",
    "\n",
    "# 定义输入和输出目录\n",
    "test_images_dir = 'D:/Code/CBCT_Reconstruction_ICP/data/04/jpg'\n",
    "output_dir = 'D:/Code/CBCT_Reconstruction_ICP/data/04/jpg_predict'\n",
    "\n",
    "if os.path.exists(output_dir):\n",
    "    shutil.rmtree(output_dir)\n",
    "# 创建输出目录（如果不存在）\n",
    "os.makedirs(output_dir, exist_ok=True)\n",
    "\n",
    "# 获取测试集中的所有图像文件\n",
    "test_images = [f for f in os.listdir(test_images_dir) if f.endswith('.jpg')]\n",
    "arch_positive_indices = {}\n",
    "vomer_positive_indices = {}\n",
    "\n",
    "def plot_predictions(img, preds, output_path):\n",
    "    for pred in preds:\n",
    "        x1, y1, x2, y2 = map(int, pred['bbox'])\n",
    "        label = f\"{pred['label']} {pred['confidence']:.2f}\"\n",
    "        print(label)\n",
    "\n",
    "        if (pred['label'] == 0):\n",
    "            color = (0, 255, 0)\n",
    "        elif (pred['label'] == 1):\n",
    "            color = (255, 0, 0)\n",
    "        # 绘制矩形框\n",
    "        cv2.rectangle(img, (x1, y1), (x2, y2), color=color, thickness=2)\n",
    "\n",
    "        # 绘制标签\n",
    "        cv2.putText(img, label, (x1, y1 - 10), cv2.FONT_HERSHEY_SIMPLEX, 0.5, color, 2)\n",
    "\n",
    "    # 保存绘制好预测结果的图像\n",
    "    cv2.imwrite(output_path, cv2.cvtColor(img, cv2.COLOR_RGB2BGR))\n",
    "\n",
    "for index, img_name in enumerate(test_images):\n",
    "    img_path = os.path.join(test_images_dir, img_name)\n",
    "    img = cv2.imread(img_path)  # 使用 OpenCV 读取图像\n",
    "    print(\"detecting\", img_path)\n",
    "    # if img is None:\n",
    "    #     print(f\"Failed to load image {img_path}\")\n",
    "    #     continue  # 跳过无法读取的图像\n",
    "    img_rgb = cv2.cvtColor(img, cv2.COLOR_BGR2RGB)  # 转换为 RGB 格式\n",
    "    results = model(img_path)  # 对图片进行预测\n",
    "    preds = []\n",
    "    has_box = False\n",
    "    for result in results:\n",
    "        for box in result.boxes:\n",
    "            confidence = box.conf[0].item()  # 获取置信度\n",
    "            if (confidence <= 0.35):\n",
    "                print('Skipped box with confidence: {} in image {}'.format(confidence, img_name))\n",
    "                continue\n",
    "            has_box = True\n",
    "            bbox = box.xyxy[0].tolist()  # 获取 bbox 的 [x1, y1, x2, y2] 坐标\n",
    "            label = box.cls[0].item()  # 获取标签\n",
    "            pred = {\n",
    "                'bbox': bbox,\n",
    "                'label': label,\n",
    "                'confidence': confidence\n",
    "            }\n",
    "            preds.append(pred)\n",
    "\n",
    "    if has_box:\n",
    "        plot_predictions(img, preds, os.path.join(output_dir, img_name))  # 保存带框的图片\n",
    "        for pred in preds:\n",
    "            if pred['label'] == 0:\n",
    "                current_arch_confidence = arch_positive_indices.get(index + 1, -1)\n",
    "                if pred['confidence'] > current_arch_confidence:\n",
    "                    arch_positive_indices[index + 1] = pred['confidence']\n",
    "            elif pred['label'] == 1:\n",
    "                current_vomer_confidence = vomer_positive_indices.get(index + 1, -1)\n",
    "                if pred['confidence'] > current_vomer_confidence:\n",
    "                    vomer_positive_indices[index + 1] = pred['confidence']\n",
    "\n",
    "\n",
    "print(\"所有测试图片的预测结果已保存到\", output_dir)\n",
    "\n",
    "print(\"arch的索引分别是：\")\n",
    "for key, value in arch_positive_indices.items():\n",
    "    print(key, value)\n",
    "print(\"vomer的索引分别是：\")\n",
    "for key, value in vomer_positive_indices.items():\n",
    "    print(key, value)"
   ]
  },
  {
   "cell_type": "code",
   "execution_count": 2,
   "id": "0a1ee325-510e-480e-bdb7-e16adceae79e",
   "metadata": {},
   "outputs": [
    {
     "name": "stdout",
     "output_type": "stream",
     "text": [
      "已处理并保存图像: D:/Code/CBCT_Reconstruction_ICP/data/01/adaptive_threshold_jpg\\slice_0001.jpg\n",
      "已处理并保存图像: D:/Code/CBCT_Reconstruction_ICP/data/01/adaptive_threshold_jpg\\slice_0002.jpg\n",
      "已处理并保存图像: D:/Code/CBCT_Reconstruction_ICP/data/01/adaptive_threshold_jpg\\slice_0003.jpg\n",
      "已处理并保存图像: D:/Code/CBCT_Reconstruction_ICP/data/01/adaptive_threshold_jpg\\slice_0004.jpg\n",
      "已处理并保存图像: D:/Code/CBCT_Reconstruction_ICP/data/01/adaptive_threshold_jpg\\slice_0005.jpg\n",
      "已处理并保存图像: D:/Code/CBCT_Reconstruction_ICP/data/01/adaptive_threshold_jpg\\slice_0006.jpg\n",
      "已处理并保存图像: D:/Code/CBCT_Reconstruction_ICP/data/01/adaptive_threshold_jpg\\slice_0007.jpg\n",
      "已处理并保存图像: D:/Code/CBCT_Reconstruction_ICP/data/01/adaptive_threshold_jpg\\slice_0008.jpg\n",
      "已处理并保存图像: D:/Code/CBCT_Reconstruction_ICP/data/01/adaptive_threshold_jpg\\slice_0009.jpg\n",
      "已处理并保存图像: D:/Code/CBCT_Reconstruction_ICP/data/01/adaptive_threshold_jpg\\slice_0010.jpg\n",
      "已处理并保存图像: D:/Code/CBCT_Reconstruction_ICP/data/01/adaptive_threshold_jpg\\slice_0011.jpg\n",
      "已处理并保存图像: D:/Code/CBCT_Reconstruction_ICP/data/01/adaptive_threshold_jpg\\slice_0012.jpg\n",
      "已处理并保存图像: D:/Code/CBCT_Reconstruction_ICP/data/01/adaptive_threshold_jpg\\slice_0013.jpg\n",
      "已处理并保存图像: D:/Code/CBCT_Reconstruction_ICP/data/01/adaptive_threshold_jpg\\slice_0014.jpg\n",
      "已处理并保存图像: D:/Code/CBCT_Reconstruction_ICP/data/01/adaptive_threshold_jpg\\slice_0015.jpg\n",
      "已处理并保存图像: D:/Code/CBCT_Reconstruction_ICP/data/01/adaptive_threshold_jpg\\slice_0016.jpg\n",
      "已处理并保存图像: D:/Code/CBCT_Reconstruction_ICP/data/01/adaptive_threshold_jpg\\slice_0017.jpg\n",
      "已处理并保存图像: D:/Code/CBCT_Reconstruction_ICP/data/01/adaptive_threshold_jpg\\slice_0018.jpg\n",
      "已处理并保存图像: D:/Code/CBCT_Reconstruction_ICP/data/01/adaptive_threshold_jpg\\slice_0019.jpg\n",
      "已处理并保存图像: D:/Code/CBCT_Reconstruction_ICP/data/01/adaptive_threshold_jpg\\slice_0020.jpg\n",
      "已处理并保存图像: D:/Code/CBCT_Reconstruction_ICP/data/01/adaptive_threshold_jpg\\slice_0021.jpg\n",
      "已处理并保存图像: D:/Code/CBCT_Reconstruction_ICP/data/01/adaptive_threshold_jpg\\slice_0022.jpg\n",
      "已处理并保存图像: D:/Code/CBCT_Reconstruction_ICP/data/01/adaptive_threshold_jpg\\slice_0023.jpg\n",
      "已处理并保存图像: D:/Code/CBCT_Reconstruction_ICP/data/01/adaptive_threshold_jpg\\slice_0024.jpg\n",
      "已处理并保存图像: D:/Code/CBCT_Reconstruction_ICP/data/01/adaptive_threshold_jpg\\slice_0025.jpg\n",
      "已处理并保存图像: D:/Code/CBCT_Reconstruction_ICP/data/01/adaptive_threshold_jpg\\slice_0026.jpg\n",
      "已处理并保存图像: D:/Code/CBCT_Reconstruction_ICP/data/01/adaptive_threshold_jpg\\slice_0027.jpg\n",
      "已处理并保存图像: D:/Code/CBCT_Reconstruction_ICP/data/01/adaptive_threshold_jpg\\slice_0028.jpg\n",
      "已处理并保存图像: D:/Code/CBCT_Reconstruction_ICP/data/01/adaptive_threshold_jpg\\slice_0029.jpg\n",
      "已处理并保存图像: D:/Code/CBCT_Reconstruction_ICP/data/01/adaptive_threshold_jpg\\slice_0030.jpg\n",
      "已处理并保存图像: D:/Code/CBCT_Reconstruction_ICP/data/01/adaptive_threshold_jpg\\slice_0031.jpg\n",
      "已处理并保存图像: D:/Code/CBCT_Reconstruction_ICP/data/01/adaptive_threshold_jpg\\slice_0032.jpg\n",
      "已处理并保存图像: D:/Code/CBCT_Reconstruction_ICP/data/01/adaptive_threshold_jpg\\slice_0033.jpg\n",
      "已处理并保存图像: D:/Code/CBCT_Reconstruction_ICP/data/01/adaptive_threshold_jpg\\slice_0034.jpg\n",
      "已处理并保存图像: D:/Code/CBCT_Reconstruction_ICP/data/01/adaptive_threshold_jpg\\slice_0035.jpg\n",
      "已处理并保存图像: D:/Code/CBCT_Reconstruction_ICP/data/01/adaptive_threshold_jpg\\slice_0036.jpg\n",
      "已处理并保存图像: D:/Code/CBCT_Reconstruction_ICP/data/01/adaptive_threshold_jpg\\slice_0037.jpg\n",
      "已处理并保存图像: D:/Code/CBCT_Reconstruction_ICP/data/01/adaptive_threshold_jpg\\slice_0038.jpg\n",
      "已处理并保存图像: D:/Code/CBCT_Reconstruction_ICP/data/01/adaptive_threshold_jpg\\slice_0039.jpg\n",
      "已处理并保存图像: D:/Code/CBCT_Reconstruction_ICP/data/01/adaptive_threshold_jpg\\slice_0040.jpg\n",
      "已处理并保存图像: D:/Code/CBCT_Reconstruction_ICP/data/01/adaptive_threshold_jpg\\slice_0041.jpg\n",
      "已处理并保存图像: D:/Code/CBCT_Reconstruction_ICP/data/01/adaptive_threshold_jpg\\slice_0042.jpg\n",
      "已处理并保存图像: D:/Code/CBCT_Reconstruction_ICP/data/01/adaptive_threshold_jpg\\slice_0043.jpg\n",
      "已处理并保存图像: D:/Code/CBCT_Reconstruction_ICP/data/01/adaptive_threshold_jpg\\slice_0044.jpg\n",
      "已处理并保存图像: D:/Code/CBCT_Reconstruction_ICP/data/01/adaptive_threshold_jpg\\slice_0045.jpg\n",
      "已处理并保存图像: D:/Code/CBCT_Reconstruction_ICP/data/01/adaptive_threshold_jpg\\slice_0046.jpg\n",
      "已处理并保存图像: D:/Code/CBCT_Reconstruction_ICP/data/01/adaptive_threshold_jpg\\slice_0047.jpg\n",
      "已处理并保存图像: D:/Code/CBCT_Reconstruction_ICP/data/01/adaptive_threshold_jpg\\slice_0048.jpg\n",
      "已处理并保存图像: D:/Code/CBCT_Reconstruction_ICP/data/01/adaptive_threshold_jpg\\slice_0049.jpg\n",
      "已处理并保存图像: D:/Code/CBCT_Reconstruction_ICP/data/01/adaptive_threshold_jpg\\slice_0050.jpg\n",
      "已处理并保存图像: D:/Code/CBCT_Reconstruction_ICP/data/01/adaptive_threshold_jpg\\slice_0051.jpg\n",
      "已处理并保存图像: D:/Code/CBCT_Reconstruction_ICP/data/01/adaptive_threshold_jpg\\slice_0052.jpg\n",
      "已处理并保存图像: D:/Code/CBCT_Reconstruction_ICP/data/01/adaptive_threshold_jpg\\slice_0053.jpg\n",
      "已处理并保存图像: D:/Code/CBCT_Reconstruction_ICP/data/01/adaptive_threshold_jpg\\slice_0054.jpg\n",
      "已处理并保存图像: D:/Code/CBCT_Reconstruction_ICP/data/01/adaptive_threshold_jpg\\slice_0055.jpg\n",
      "已处理并保存图像: D:/Code/CBCT_Reconstruction_ICP/data/01/adaptive_threshold_jpg\\slice_0056.jpg\n",
      "已处理并保存图像: D:/Code/CBCT_Reconstruction_ICP/data/01/adaptive_threshold_jpg\\slice_0057.jpg\n",
      "已处理并保存图像: D:/Code/CBCT_Reconstruction_ICP/data/01/adaptive_threshold_jpg\\slice_0058.jpg\n",
      "已处理并保存图像: D:/Code/CBCT_Reconstruction_ICP/data/01/adaptive_threshold_jpg\\slice_0059.jpg\n",
      "已处理并保存图像: D:/Code/CBCT_Reconstruction_ICP/data/01/adaptive_threshold_jpg\\slice_0060.jpg\n",
      "已处理并保存图像: D:/Code/CBCT_Reconstruction_ICP/data/01/adaptive_threshold_jpg\\slice_0061.jpg\n",
      "已处理并保存图像: D:/Code/CBCT_Reconstruction_ICP/data/01/adaptive_threshold_jpg\\slice_0062.jpg\n",
      "已处理并保存图像: D:/Code/CBCT_Reconstruction_ICP/data/01/adaptive_threshold_jpg\\slice_0063.jpg\n",
      "已处理并保存图像: D:/Code/CBCT_Reconstruction_ICP/data/01/adaptive_threshold_jpg\\slice_0064.jpg\n",
      "已处理并保存图像: D:/Code/CBCT_Reconstruction_ICP/data/01/adaptive_threshold_jpg\\slice_0065.jpg\n",
      "已处理并保存图像: D:/Code/CBCT_Reconstruction_ICP/data/01/adaptive_threshold_jpg\\slice_0066.jpg\n",
      "已处理并保存图像: D:/Code/CBCT_Reconstruction_ICP/data/01/adaptive_threshold_jpg\\slice_0067.jpg\n",
      "已处理并保存图像: D:/Code/CBCT_Reconstruction_ICP/data/01/adaptive_threshold_jpg\\slice_0068.jpg\n",
      "已处理并保存图像: D:/Code/CBCT_Reconstruction_ICP/data/01/adaptive_threshold_jpg\\slice_0069.jpg\n",
      "已处理并保存图像: D:/Code/CBCT_Reconstruction_ICP/data/01/adaptive_threshold_jpg\\slice_0070.jpg\n",
      "已处理并保存图像: D:/Code/CBCT_Reconstruction_ICP/data/01/adaptive_threshold_jpg\\slice_0071.jpg\n",
      "已处理并保存图像: D:/Code/CBCT_Reconstruction_ICP/data/01/adaptive_threshold_jpg\\slice_0072.jpg\n",
      "已处理并保存图像: D:/Code/CBCT_Reconstruction_ICP/data/01/adaptive_threshold_jpg\\slice_0073.jpg\n",
      "已处理并保存图像: D:/Code/CBCT_Reconstruction_ICP/data/01/adaptive_threshold_jpg\\slice_0074.jpg\n",
      "已处理并保存图像: D:/Code/CBCT_Reconstruction_ICP/data/01/adaptive_threshold_jpg\\slice_0075.jpg\n",
      "已处理并保存图像: D:/Code/CBCT_Reconstruction_ICP/data/01/adaptive_threshold_jpg\\slice_0076.jpg\n",
      "已处理并保存图像: D:/Code/CBCT_Reconstruction_ICP/data/01/adaptive_threshold_jpg\\slice_0077.jpg\n",
      "已处理并保存图像: D:/Code/CBCT_Reconstruction_ICP/data/01/adaptive_threshold_jpg\\slice_0078.jpg\n",
      "已处理并保存图像: D:/Code/CBCT_Reconstruction_ICP/data/01/adaptive_threshold_jpg\\slice_0079.jpg\n",
      "已处理并保存图像: D:/Code/CBCT_Reconstruction_ICP/data/01/adaptive_threshold_jpg\\slice_0080.jpg\n",
      "已处理并保存图像: D:/Code/CBCT_Reconstruction_ICP/data/01/adaptive_threshold_jpg\\slice_0081.jpg\n",
      "已处理并保存图像: D:/Code/CBCT_Reconstruction_ICP/data/01/adaptive_threshold_jpg\\slice_0082.jpg\n",
      "已处理并保存图像: D:/Code/CBCT_Reconstruction_ICP/data/01/adaptive_threshold_jpg\\slice_0083.jpg\n",
      "已处理并保存图像: D:/Code/CBCT_Reconstruction_ICP/data/01/adaptive_threshold_jpg\\slice_0084.jpg\n",
      "已处理并保存图像: D:/Code/CBCT_Reconstruction_ICP/data/01/adaptive_threshold_jpg\\slice_0085.jpg\n",
      "已处理并保存图像: D:/Code/CBCT_Reconstruction_ICP/data/01/adaptive_threshold_jpg\\slice_0086.jpg\n",
      "已处理并保存图像: D:/Code/CBCT_Reconstruction_ICP/data/01/adaptive_threshold_jpg\\slice_0087.jpg\n",
      "已处理并保存图像: D:/Code/CBCT_Reconstruction_ICP/data/01/adaptive_threshold_jpg\\slice_0088.jpg\n",
      "已处理并保存图像: D:/Code/CBCT_Reconstruction_ICP/data/01/adaptive_threshold_jpg\\slice_0089.jpg\n",
      "已处理并保存图像: D:/Code/CBCT_Reconstruction_ICP/data/01/adaptive_threshold_jpg\\slice_0090.jpg\n",
      "已处理并保存图像: D:/Code/CBCT_Reconstruction_ICP/data/01/adaptive_threshold_jpg\\slice_0091.jpg\n",
      "已处理并保存图像: D:/Code/CBCT_Reconstruction_ICP/data/01/adaptive_threshold_jpg\\slice_0092.jpg\n",
      "已处理并保存图像: D:/Code/CBCT_Reconstruction_ICP/data/01/adaptive_threshold_jpg\\slice_0093.jpg\n",
      "已处理并保存图像: D:/Code/CBCT_Reconstruction_ICP/data/01/adaptive_threshold_jpg\\slice_0094.jpg\n",
      "已处理并保存图像: D:/Code/CBCT_Reconstruction_ICP/data/01/adaptive_threshold_jpg\\slice_0095.jpg\n",
      "已处理并保存图像: D:/Code/CBCT_Reconstruction_ICP/data/01/adaptive_threshold_jpg\\slice_0096.jpg\n",
      "已处理并保存图像: D:/Code/CBCT_Reconstruction_ICP/data/01/adaptive_threshold_jpg\\slice_0097.jpg\n",
      "已处理并保存图像: D:/Code/CBCT_Reconstruction_ICP/data/01/adaptive_threshold_jpg\\slice_0098.jpg\n",
      "已处理并保存图像: D:/Code/CBCT_Reconstruction_ICP/data/01/adaptive_threshold_jpg\\slice_0099.jpg\n",
      "已处理并保存图像: D:/Code/CBCT_Reconstruction_ICP/data/01/adaptive_threshold_jpg\\slice_0100.jpg\n",
      "已处理并保存图像: D:/Code/CBCT_Reconstruction_ICP/data/01/adaptive_threshold_jpg\\slice_0101.jpg\n",
      "已处理并保存图像: D:/Code/CBCT_Reconstruction_ICP/data/01/adaptive_threshold_jpg\\slice_0102.jpg\n",
      "已处理并保存图像: D:/Code/CBCT_Reconstruction_ICP/data/01/adaptive_threshold_jpg\\slice_0103.jpg\n",
      "已处理并保存图像: D:/Code/CBCT_Reconstruction_ICP/data/01/adaptive_threshold_jpg\\slice_0104.jpg\n",
      "已处理并保存图像: D:/Code/CBCT_Reconstruction_ICP/data/01/adaptive_threshold_jpg\\slice_0105.jpg\n",
      "已处理并保存图像: D:/Code/CBCT_Reconstruction_ICP/data/01/adaptive_threshold_jpg\\slice_0106.jpg\n",
      "已处理并保存图像: D:/Code/CBCT_Reconstruction_ICP/data/01/adaptive_threshold_jpg\\slice_0107.jpg\n",
      "已处理并保存图像: D:/Code/CBCT_Reconstruction_ICP/data/01/adaptive_threshold_jpg\\slice_0108.jpg\n",
      "已处理并保存图像: D:/Code/CBCT_Reconstruction_ICP/data/01/adaptive_threshold_jpg\\slice_0109.jpg\n",
      "已处理并保存图像: D:/Code/CBCT_Reconstruction_ICP/data/01/adaptive_threshold_jpg\\slice_0110.jpg\n",
      "已处理并保存图像: D:/Code/CBCT_Reconstruction_ICP/data/01/adaptive_threshold_jpg\\slice_0111.jpg\n",
      "已处理并保存图像: D:/Code/CBCT_Reconstruction_ICP/data/01/adaptive_threshold_jpg\\slice_0112.jpg\n",
      "已处理并保存图像: D:/Code/CBCT_Reconstruction_ICP/data/01/adaptive_threshold_jpg\\slice_0113.jpg\n",
      "已处理并保存图像: D:/Code/CBCT_Reconstruction_ICP/data/01/adaptive_threshold_jpg\\slice_0114.jpg\n",
      "已处理并保存图像: D:/Code/CBCT_Reconstruction_ICP/data/01/adaptive_threshold_jpg\\slice_0115.jpg\n",
      "已处理并保存图像: D:/Code/CBCT_Reconstruction_ICP/data/01/adaptive_threshold_jpg\\slice_0116.jpg\n",
      "已处理并保存图像: D:/Code/CBCT_Reconstruction_ICP/data/01/adaptive_threshold_jpg\\slice_0117.jpg\n",
      "已处理并保存图像: D:/Code/CBCT_Reconstruction_ICP/data/01/adaptive_threshold_jpg\\slice_0118.jpg\n",
      "已处理并保存图像: D:/Code/CBCT_Reconstruction_ICP/data/01/adaptive_threshold_jpg\\slice_0119.jpg\n",
      "已处理并保存图像: D:/Code/CBCT_Reconstruction_ICP/data/01/adaptive_threshold_jpg\\slice_0120.jpg\n",
      "已处理并保存图像: D:/Code/CBCT_Reconstruction_ICP/data/01/adaptive_threshold_jpg\\slice_0121.jpg\n",
      "已处理并保存图像: D:/Code/CBCT_Reconstruction_ICP/data/01/adaptive_threshold_jpg\\slice_0122.jpg\n",
      "已处理并保存图像: D:/Code/CBCT_Reconstruction_ICP/data/01/adaptive_threshold_jpg\\slice_0123.jpg\n",
      "已处理并保存图像: D:/Code/CBCT_Reconstruction_ICP/data/01/adaptive_threshold_jpg\\slice_0124.jpg\n",
      "已处理并保存图像: D:/Code/CBCT_Reconstruction_ICP/data/01/adaptive_threshold_jpg\\slice_0125.jpg\n",
      "已处理并保存图像: D:/Code/CBCT_Reconstruction_ICP/data/01/adaptive_threshold_jpg\\slice_0126.jpg\n",
      "已处理并保存图像: D:/Code/CBCT_Reconstruction_ICP/data/01/adaptive_threshold_jpg\\slice_0127.jpg\n",
      "已处理并保存图像: D:/Code/CBCT_Reconstruction_ICP/data/01/adaptive_threshold_jpg\\slice_0128.jpg\n",
      "已处理并保存图像: D:/Code/CBCT_Reconstruction_ICP/data/01/adaptive_threshold_jpg\\slice_0129.jpg\n",
      "已处理并保存图像: D:/Code/CBCT_Reconstruction_ICP/data/01/adaptive_threshold_jpg\\slice_0130.jpg\n",
      "已处理并保存图像: D:/Code/CBCT_Reconstruction_ICP/data/01/adaptive_threshold_jpg\\slice_0131.jpg\n",
      "已处理并保存图像: D:/Code/CBCT_Reconstruction_ICP/data/01/adaptive_threshold_jpg\\slice_0132.jpg\n",
      "已处理并保存图像: D:/Code/CBCT_Reconstruction_ICP/data/01/adaptive_threshold_jpg\\slice_0133.jpg\n",
      "已处理并保存图像: D:/Code/CBCT_Reconstruction_ICP/data/01/adaptive_threshold_jpg\\slice_0134.jpg\n",
      "已处理并保存图像: D:/Code/CBCT_Reconstruction_ICP/data/01/adaptive_threshold_jpg\\slice_0135.jpg\n",
      "已处理并保存图像: D:/Code/CBCT_Reconstruction_ICP/data/01/adaptive_threshold_jpg\\slice_0136.jpg\n",
      "已处理并保存图像: D:/Code/CBCT_Reconstruction_ICP/data/01/adaptive_threshold_jpg\\slice_0137.jpg\n",
      "已处理并保存图像: D:/Code/CBCT_Reconstruction_ICP/data/01/adaptive_threshold_jpg\\slice_0138.jpg\n",
      "已处理并保存图像: D:/Code/CBCT_Reconstruction_ICP/data/01/adaptive_threshold_jpg\\slice_0139.jpg\n",
      "已处理并保存图像: D:/Code/CBCT_Reconstruction_ICP/data/01/adaptive_threshold_jpg\\slice_0140.jpg\n",
      "已处理并保存图像: D:/Code/CBCT_Reconstruction_ICP/data/01/adaptive_threshold_jpg\\slice_0141.jpg\n",
      "已处理并保存图像: D:/Code/CBCT_Reconstruction_ICP/data/01/adaptive_threshold_jpg\\slice_0142.jpg\n",
      "已处理并保存图像: D:/Code/CBCT_Reconstruction_ICP/data/01/adaptive_threshold_jpg\\slice_0143.jpg\n",
      "已处理并保存图像: D:/Code/CBCT_Reconstruction_ICP/data/01/adaptive_threshold_jpg\\slice_0144.jpg\n",
      "已处理并保存图像: D:/Code/CBCT_Reconstruction_ICP/data/01/adaptive_threshold_jpg\\slice_0145.jpg\n",
      "已处理并保存图像: D:/Code/CBCT_Reconstruction_ICP/data/01/adaptive_threshold_jpg\\slice_0146.jpg\n",
      "已处理并保存图像: D:/Code/CBCT_Reconstruction_ICP/data/01/adaptive_threshold_jpg\\slice_0147.jpg\n",
      "已处理并保存图像: D:/Code/CBCT_Reconstruction_ICP/data/01/adaptive_threshold_jpg\\slice_0148.jpg\n",
      "已处理并保存图像: D:/Code/CBCT_Reconstruction_ICP/data/01/adaptive_threshold_jpg\\slice_0149.jpg\n",
      "已处理并保存图像: D:/Code/CBCT_Reconstruction_ICP/data/01/adaptive_threshold_jpg\\slice_0150.jpg\n",
      "已处理并保存图像: D:/Code/CBCT_Reconstruction_ICP/data/01/adaptive_threshold_jpg\\slice_0151.jpg\n",
      "已处理并保存图像: D:/Code/CBCT_Reconstruction_ICP/data/01/adaptive_threshold_jpg\\slice_0152.jpg\n",
      "已处理并保存图像: D:/Code/CBCT_Reconstruction_ICP/data/01/adaptive_threshold_jpg\\slice_0153.jpg\n",
      "已处理并保存图像: D:/Code/CBCT_Reconstruction_ICP/data/01/adaptive_threshold_jpg\\slice_0154.jpg\n",
      "已处理并保存图像: D:/Code/CBCT_Reconstruction_ICP/data/01/adaptive_threshold_jpg\\slice_0155.jpg\n",
      "已处理并保存图像: D:/Code/CBCT_Reconstruction_ICP/data/01/adaptive_threshold_jpg\\slice_0156.jpg\n",
      "已处理并保存图像: D:/Code/CBCT_Reconstruction_ICP/data/01/adaptive_threshold_jpg\\slice_0157.jpg\n",
      "已处理并保存图像: D:/Code/CBCT_Reconstruction_ICP/data/01/adaptive_threshold_jpg\\slice_0158.jpg\n",
      "已处理并保存图像: D:/Code/CBCT_Reconstruction_ICP/data/01/adaptive_threshold_jpg\\slice_0159.jpg\n",
      "已处理并保存图像: D:/Code/CBCT_Reconstruction_ICP/data/01/adaptive_threshold_jpg\\slice_0160.jpg\n",
      "已处理并保存图像: D:/Code/CBCT_Reconstruction_ICP/data/01/adaptive_threshold_jpg\\slice_0161.jpg\n",
      "已处理并保存图像: D:/Code/CBCT_Reconstruction_ICP/data/01/adaptive_threshold_jpg\\slice_0162.jpg\n",
      "已处理并保存图像: D:/Code/CBCT_Reconstruction_ICP/data/01/adaptive_threshold_jpg\\slice_0163.jpg\n",
      "已处理并保存图像: D:/Code/CBCT_Reconstruction_ICP/data/01/adaptive_threshold_jpg\\slice_0164.jpg\n",
      "已处理并保存图像: D:/Code/CBCT_Reconstruction_ICP/data/01/adaptive_threshold_jpg\\slice_0165.jpg\n",
      "已处理并保存图像: D:/Code/CBCT_Reconstruction_ICP/data/01/adaptive_threshold_jpg\\slice_0166.jpg\n",
      "已处理并保存图像: D:/Code/CBCT_Reconstruction_ICP/data/01/adaptive_threshold_jpg\\slice_0167.jpg\n",
      "已处理并保存图像: D:/Code/CBCT_Reconstruction_ICP/data/01/adaptive_threshold_jpg\\slice_0168.jpg\n",
      "已处理并保存图像: D:/Code/CBCT_Reconstruction_ICP/data/01/adaptive_threshold_jpg\\slice_0169.jpg\n",
      "已处理并保存图像: D:/Code/CBCT_Reconstruction_ICP/data/01/adaptive_threshold_jpg\\slice_0170.jpg\n",
      "已处理并保存图像: D:/Code/CBCT_Reconstruction_ICP/data/01/adaptive_threshold_jpg\\slice_0171.jpg\n",
      "已处理并保存图像: D:/Code/CBCT_Reconstruction_ICP/data/01/adaptive_threshold_jpg\\slice_0172.jpg\n",
      "已处理并保存图像: D:/Code/CBCT_Reconstruction_ICP/data/01/adaptive_threshold_jpg\\slice_0173.jpg\n",
      "已处理并保存图像: D:/Code/CBCT_Reconstruction_ICP/data/01/adaptive_threshold_jpg\\slice_0174.jpg\n",
      "已处理并保存图像: D:/Code/CBCT_Reconstruction_ICP/data/01/adaptive_threshold_jpg\\slice_0175.jpg\n",
      "已处理并保存图像: D:/Code/CBCT_Reconstruction_ICP/data/01/adaptive_threshold_jpg\\slice_0176.jpg\n",
      "已处理并保存图像: D:/Code/CBCT_Reconstruction_ICP/data/01/adaptive_threshold_jpg\\slice_0177.jpg\n",
      "已处理并保存图像: D:/Code/CBCT_Reconstruction_ICP/data/01/adaptive_threshold_jpg\\slice_0178.jpg\n",
      "已处理并保存图像: D:/Code/CBCT_Reconstruction_ICP/data/01/adaptive_threshold_jpg\\slice_0179.jpg\n",
      "已处理并保存图像: D:/Code/CBCT_Reconstruction_ICP/data/01/adaptive_threshold_jpg\\slice_0180.jpg\n",
      "已处理并保存图像: D:/Code/CBCT_Reconstruction_ICP/data/01/adaptive_threshold_jpg\\slice_0181.jpg\n",
      "已处理并保存图像: D:/Code/CBCT_Reconstruction_ICP/data/01/adaptive_threshold_jpg\\slice_0182.jpg\n",
      "已处理并保存图像: D:/Code/CBCT_Reconstruction_ICP/data/01/adaptive_threshold_jpg\\slice_0183.jpg\n",
      "已处理并保存图像: D:/Code/CBCT_Reconstruction_ICP/data/01/adaptive_threshold_jpg\\slice_0184.jpg\n",
      "已处理并保存图像: D:/Code/CBCT_Reconstruction_ICP/data/01/adaptive_threshold_jpg\\slice_0185.jpg\n",
      "已处理并保存图像: D:/Code/CBCT_Reconstruction_ICP/data/01/adaptive_threshold_jpg\\slice_0186.jpg\n",
      "已处理并保存图像: D:/Code/CBCT_Reconstruction_ICP/data/01/adaptive_threshold_jpg\\slice_0187.jpg\n",
      "已处理并保存图像: D:/Code/CBCT_Reconstruction_ICP/data/01/adaptive_threshold_jpg\\slice_0188.jpg\n",
      "已处理并保存图像: D:/Code/CBCT_Reconstruction_ICP/data/01/adaptive_threshold_jpg\\slice_0189.jpg\n",
      "已处理并保存图像: D:/Code/CBCT_Reconstruction_ICP/data/01/adaptive_threshold_jpg\\slice_0190.jpg\n",
      "已处理并保存图像: D:/Code/CBCT_Reconstruction_ICP/data/01/adaptive_threshold_jpg\\slice_0191.jpg\n",
      "已处理并保存图像: D:/Code/CBCT_Reconstruction_ICP/data/01/adaptive_threshold_jpg\\slice_0192.jpg\n",
      "已处理并保存图像: D:/Code/CBCT_Reconstruction_ICP/data/01/adaptive_threshold_jpg\\slice_0193.jpg\n",
      "已处理并保存图像: D:/Code/CBCT_Reconstruction_ICP/data/01/adaptive_threshold_jpg\\slice_0194.jpg\n",
      "已处理并保存图像: D:/Code/CBCT_Reconstruction_ICP/data/01/adaptive_threshold_jpg\\slice_0195.jpg\n",
      "已处理并保存图像: D:/Code/CBCT_Reconstruction_ICP/data/01/adaptive_threshold_jpg\\slice_0196.jpg\n",
      "已处理并保存图像: D:/Code/CBCT_Reconstruction_ICP/data/01/adaptive_threshold_jpg\\slice_0197.jpg\n",
      "已处理并保存图像: D:/Code/CBCT_Reconstruction_ICP/data/01/adaptive_threshold_jpg\\slice_0198.jpg\n",
      "已处理并保存图像: D:/Code/CBCT_Reconstruction_ICP/data/01/adaptive_threshold_jpg\\slice_0199.jpg\n",
      "已处理并保存图像: D:/Code/CBCT_Reconstruction_ICP/data/01/adaptive_threshold_jpg\\slice_0200.jpg\n",
      "已处理并保存图像: D:/Code/CBCT_Reconstruction_ICP/data/01/adaptive_threshold_jpg\\slice_0201.jpg\n",
      "已处理并保存图像: D:/Code/CBCT_Reconstruction_ICP/data/01/adaptive_threshold_jpg\\slice_0202.jpg\n",
      "已处理并保存图像: D:/Code/CBCT_Reconstruction_ICP/data/01/adaptive_threshold_jpg\\slice_0203.jpg\n",
      "已处理并保存图像: D:/Code/CBCT_Reconstruction_ICP/data/01/adaptive_threshold_jpg\\slice_0204.jpg\n",
      "已处理并保存图像: D:/Code/CBCT_Reconstruction_ICP/data/01/adaptive_threshold_jpg\\slice_0205.jpg\n",
      "已处理并保存图像: D:/Code/CBCT_Reconstruction_ICP/data/01/adaptive_threshold_jpg\\slice_0206.jpg\n",
      "已处理并保存图像: D:/Code/CBCT_Reconstruction_ICP/data/01/adaptive_threshold_jpg\\slice_0207.jpg\n",
      "已处理并保存图像: D:/Code/CBCT_Reconstruction_ICP/data/01/adaptive_threshold_jpg\\slice_0208.jpg\n",
      "已处理并保存图像: D:/Code/CBCT_Reconstruction_ICP/data/01/adaptive_threshold_jpg\\slice_0209.jpg\n",
      "已处理并保存图像: D:/Code/CBCT_Reconstruction_ICP/data/01/adaptive_threshold_jpg\\slice_0210.jpg\n",
      "已处理并保存图像: D:/Code/CBCT_Reconstruction_ICP/data/01/adaptive_threshold_jpg\\slice_0211.jpg\n",
      "已处理并保存图像: D:/Code/CBCT_Reconstruction_ICP/data/01/adaptive_threshold_jpg\\slice_0212.jpg\n",
      "已处理并保存图像: D:/Code/CBCT_Reconstruction_ICP/data/01/adaptive_threshold_jpg\\slice_0213.jpg\n",
      "已处理并保存图像: D:/Code/CBCT_Reconstruction_ICP/data/01/adaptive_threshold_jpg\\slice_0214.jpg\n",
      "已处理并保存图像: D:/Code/CBCT_Reconstruction_ICP/data/01/adaptive_threshold_jpg\\slice_0215.jpg\n",
      "已处理并保存图像: D:/Code/CBCT_Reconstruction_ICP/data/01/adaptive_threshold_jpg\\slice_0216.jpg\n",
      "已处理并保存图像: D:/Code/CBCT_Reconstruction_ICP/data/01/adaptive_threshold_jpg\\slice_0217.jpg\n",
      "已处理并保存图像: D:/Code/CBCT_Reconstruction_ICP/data/01/adaptive_threshold_jpg\\slice_0218.jpg\n",
      "已处理并保存图像: D:/Code/CBCT_Reconstruction_ICP/data/01/adaptive_threshold_jpg\\slice_0219.jpg\n",
      "已处理并保存图像: D:/Code/CBCT_Reconstruction_ICP/data/01/adaptive_threshold_jpg\\slice_0220.jpg\n",
      "已处理并保存图像: D:/Code/CBCT_Reconstruction_ICP/data/01/adaptive_threshold_jpg\\slice_0221.jpg\n",
      "已处理并保存图像: D:/Code/CBCT_Reconstruction_ICP/data/01/adaptive_threshold_jpg\\slice_0222.jpg\n",
      "已处理并保存图像: D:/Code/CBCT_Reconstruction_ICP/data/01/adaptive_threshold_jpg\\slice_0223.jpg\n",
      "已处理并保存图像: D:/Code/CBCT_Reconstruction_ICP/data/01/adaptive_threshold_jpg\\slice_0224.jpg\n",
      "已处理并保存图像: D:/Code/CBCT_Reconstruction_ICP/data/01/adaptive_threshold_jpg\\slice_0225.jpg\n",
      "已处理并保存图像: D:/Code/CBCT_Reconstruction_ICP/data/01/adaptive_threshold_jpg\\slice_0226.jpg\n",
      "已处理并保存图像: D:/Code/CBCT_Reconstruction_ICP/data/01/adaptive_threshold_jpg\\slice_0227.jpg\n",
      "已处理并保存图像: D:/Code/CBCT_Reconstruction_ICP/data/01/adaptive_threshold_jpg\\slice_0228.jpg\n",
      "已处理并保存图像: D:/Code/CBCT_Reconstruction_ICP/data/01/adaptive_threshold_jpg\\slice_0229.jpg\n",
      "已处理并保存图像: D:/Code/CBCT_Reconstruction_ICP/data/01/adaptive_threshold_jpg\\slice_0230.jpg\n",
      "已处理并保存图像: D:/Code/CBCT_Reconstruction_ICP/data/01/adaptive_threshold_jpg\\slice_0231.jpg\n",
      "已处理并保存图像: D:/Code/CBCT_Reconstruction_ICP/data/01/adaptive_threshold_jpg\\slice_0232.jpg\n",
      "已处理并保存图像: D:/Code/CBCT_Reconstruction_ICP/data/01/adaptive_threshold_jpg\\slice_0233.jpg\n",
      "已处理并保存图像: D:/Code/CBCT_Reconstruction_ICP/data/01/adaptive_threshold_jpg\\slice_0234.jpg\n",
      "已处理并保存图像: D:/Code/CBCT_Reconstruction_ICP/data/01/adaptive_threshold_jpg\\slice_0235.jpg\n",
      "已处理并保存图像: D:/Code/CBCT_Reconstruction_ICP/data/01/adaptive_threshold_jpg\\slice_0236.jpg\n",
      "已处理并保存图像: D:/Code/CBCT_Reconstruction_ICP/data/01/adaptive_threshold_jpg\\slice_0237.jpg\n",
      "已处理并保存图像: D:/Code/CBCT_Reconstruction_ICP/data/01/adaptive_threshold_jpg\\slice_0238.jpg\n",
      "已处理并保存图像: D:/Code/CBCT_Reconstruction_ICP/data/01/adaptive_threshold_jpg\\slice_0239.jpg\n",
      "已处理并保存图像: D:/Code/CBCT_Reconstruction_ICP/data/01/adaptive_threshold_jpg\\slice_0240.jpg\n",
      "已处理并保存图像: D:/Code/CBCT_Reconstruction_ICP/data/01/adaptive_threshold_jpg\\slice_0241.jpg\n",
      "已处理并保存图像: D:/Code/CBCT_Reconstruction_ICP/data/01/adaptive_threshold_jpg\\slice_0242.jpg\n",
      "已处理并保存图像: D:/Code/CBCT_Reconstruction_ICP/data/01/adaptive_threshold_jpg\\slice_0243.jpg\n",
      "已处理并保存图像: D:/Code/CBCT_Reconstruction_ICP/data/01/adaptive_threshold_jpg\\slice_0244.jpg\n",
      "已处理并保存图像: D:/Code/CBCT_Reconstruction_ICP/data/01/adaptive_threshold_jpg\\slice_0245.jpg\n",
      "已处理并保存图像: D:/Code/CBCT_Reconstruction_ICP/data/01/adaptive_threshold_jpg\\slice_0246.jpg\n",
      "已处理并保存图像: D:/Code/CBCT_Reconstruction_ICP/data/01/adaptive_threshold_jpg\\slice_0247.jpg\n",
      "已处理并保存图像: D:/Code/CBCT_Reconstruction_ICP/data/01/adaptive_threshold_jpg\\slice_0248.jpg\n",
      "已处理并保存图像: D:/Code/CBCT_Reconstruction_ICP/data/01/adaptive_threshold_jpg\\slice_0249.jpg\n",
      "已处理并保存图像: D:/Code/CBCT_Reconstruction_ICP/data/01/adaptive_threshold_jpg\\slice_0250.jpg\n",
      "已处理并保存图像: D:/Code/CBCT_Reconstruction_ICP/data/01/adaptive_threshold_jpg\\slice_0251.jpg\n",
      "已处理并保存图像: D:/Code/CBCT_Reconstruction_ICP/data/01/adaptive_threshold_jpg\\slice_0252.jpg\n",
      "已处理并保存图像: D:/Code/CBCT_Reconstruction_ICP/data/01/adaptive_threshold_jpg\\slice_0253.jpg\n",
      "已处理并保存图像: D:/Code/CBCT_Reconstruction_ICP/data/01/adaptive_threshold_jpg\\slice_0254.jpg\n",
      "已处理并保存图像: D:/Code/CBCT_Reconstruction_ICP/data/01/adaptive_threshold_jpg\\slice_0255.jpg\n",
      "已处理并保存图像: D:/Code/CBCT_Reconstruction_ICP/data/01/adaptive_threshold_jpg\\slice_0256.jpg\n",
      "已处理并保存图像: D:/Code/CBCT_Reconstruction_ICP/data/01/adaptive_threshold_jpg\\slice_0257.jpg\n",
      "已处理并保存图像: D:/Code/CBCT_Reconstruction_ICP/data/01/adaptive_threshold_jpg\\slice_0258.jpg\n",
      "已处理并保存图像: D:/Code/CBCT_Reconstruction_ICP/data/01/adaptive_threshold_jpg\\slice_0259.jpg\n",
      "已处理并保存图像: D:/Code/CBCT_Reconstruction_ICP/data/01/adaptive_threshold_jpg\\slice_0260.jpg\n",
      "已处理并保存图像: D:/Code/CBCT_Reconstruction_ICP/data/01/adaptive_threshold_jpg\\slice_0261.jpg\n",
      "已处理并保存图像: D:/Code/CBCT_Reconstruction_ICP/data/01/adaptive_threshold_jpg\\slice_0262.jpg\n",
      "已处理并保存图像: D:/Code/CBCT_Reconstruction_ICP/data/01/adaptive_threshold_jpg\\slice_0263.jpg\n",
      "已处理并保存图像: D:/Code/CBCT_Reconstruction_ICP/data/01/adaptive_threshold_jpg\\slice_0264.jpg\n",
      "已处理并保存图像: D:/Code/CBCT_Reconstruction_ICP/data/01/adaptive_threshold_jpg\\slice_0265.jpg\n",
      "已处理并保存图像: D:/Code/CBCT_Reconstruction_ICP/data/01/adaptive_threshold_jpg\\slice_0266.jpg\n",
      "已处理并保存图像: D:/Code/CBCT_Reconstruction_ICP/data/01/adaptive_threshold_jpg\\slice_0267.jpg\n",
      "已处理并保存图像: D:/Code/CBCT_Reconstruction_ICP/data/01/adaptive_threshold_jpg\\slice_0268.jpg\n",
      "已处理并保存图像: D:/Code/CBCT_Reconstruction_ICP/data/01/adaptive_threshold_jpg\\slice_0269.jpg\n",
      "已处理并保存图像: D:/Code/CBCT_Reconstruction_ICP/data/01/adaptive_threshold_jpg\\slice_0270.jpg\n",
      "已处理并保存图像: D:/Code/CBCT_Reconstruction_ICP/data/01/adaptive_threshold_jpg\\slice_0271.jpg\n",
      "已处理并保存图像: D:/Code/CBCT_Reconstruction_ICP/data/01/adaptive_threshold_jpg\\slice_0272.jpg\n",
      "已处理并保存图像: D:/Code/CBCT_Reconstruction_ICP/data/01/adaptive_threshold_jpg\\slice_0273.jpg\n",
      "已处理并保存图像: D:/Code/CBCT_Reconstruction_ICP/data/01/adaptive_threshold_jpg\\slice_0274.jpg\n",
      "已处理并保存图像: D:/Code/CBCT_Reconstruction_ICP/data/01/adaptive_threshold_jpg\\slice_0275.jpg\n",
      "已处理并保存图像: D:/Code/CBCT_Reconstruction_ICP/data/01/adaptive_threshold_jpg\\slice_0276.jpg\n",
      "已处理并保存图像: D:/Code/CBCT_Reconstruction_ICP/data/01/adaptive_threshold_jpg\\slice_0277.jpg\n",
      "已处理并保存图像: D:/Code/CBCT_Reconstruction_ICP/data/01/adaptive_threshold_jpg\\slice_0278.jpg\n",
      "已处理并保存图像: D:/Code/CBCT_Reconstruction_ICP/data/01/adaptive_threshold_jpg\\slice_0279.jpg\n",
      "已处理并保存图像: D:/Code/CBCT_Reconstruction_ICP/data/01/adaptive_threshold_jpg\\slice_0280.jpg\n",
      "已处理并保存图像: D:/Code/CBCT_Reconstruction_ICP/data/01/adaptive_threshold_jpg\\slice_0281.jpg\n",
      "已处理并保存图像: D:/Code/CBCT_Reconstruction_ICP/data/01/adaptive_threshold_jpg\\slice_0282.jpg\n",
      "已处理并保存图像: D:/Code/CBCT_Reconstruction_ICP/data/01/adaptive_threshold_jpg\\slice_0283.jpg\n",
      "已处理并保存图像: D:/Code/CBCT_Reconstruction_ICP/data/01/adaptive_threshold_jpg\\slice_0284.jpg\n",
      "已处理并保存图像: D:/Code/CBCT_Reconstruction_ICP/data/01/adaptive_threshold_jpg\\slice_0285.jpg\n",
      "已处理并保存图像: D:/Code/CBCT_Reconstruction_ICP/data/01/adaptive_threshold_jpg\\slice_0286.jpg\n",
      "已处理并保存图像: D:/Code/CBCT_Reconstruction_ICP/data/01/adaptive_threshold_jpg\\slice_0287.jpg\n",
      "已处理并保存图像: D:/Code/CBCT_Reconstruction_ICP/data/01/adaptive_threshold_jpg\\slice_0288.jpg\n",
      "已处理并保存图像: D:/Code/CBCT_Reconstruction_ICP/data/01/adaptive_threshold_jpg\\slice_0289.jpg\n",
      "已处理并保存图像: D:/Code/CBCT_Reconstruction_ICP/data/01/adaptive_threshold_jpg\\slice_0290.jpg\n",
      "已处理并保存图像: D:/Code/CBCT_Reconstruction_ICP/data/01/adaptive_threshold_jpg\\slice_0291.jpg\n",
      "已处理并保存图像: D:/Code/CBCT_Reconstruction_ICP/data/01/adaptive_threshold_jpg\\slice_0292.jpg\n",
      "已处理并保存图像: D:/Code/CBCT_Reconstruction_ICP/data/01/adaptive_threshold_jpg\\slice_0293.jpg\n",
      "已处理并保存图像: D:/Code/CBCT_Reconstruction_ICP/data/01/adaptive_threshold_jpg\\slice_0294.jpg\n",
      "已处理并保存图像: D:/Code/CBCT_Reconstruction_ICP/data/01/adaptive_threshold_jpg\\slice_0295.jpg\n",
      "已处理并保存图像: D:/Code/CBCT_Reconstruction_ICP/data/01/adaptive_threshold_jpg\\slice_0296.jpg\n",
      "已处理并保存图像: D:/Code/CBCT_Reconstruction_ICP/data/01/adaptive_threshold_jpg\\slice_0297.jpg\n",
      "已处理并保存图像: D:/Code/CBCT_Reconstruction_ICP/data/01/adaptive_threshold_jpg\\slice_0298.jpg\n",
      "已处理并保存图像: D:/Code/CBCT_Reconstruction_ICP/data/01/adaptive_threshold_jpg\\slice_0299.jpg\n",
      "已处理并保存图像: D:/Code/CBCT_Reconstruction_ICP/data/01/adaptive_threshold_jpg\\slice_0300.jpg\n",
      "已处理并保存图像: D:/Code/CBCT_Reconstruction_ICP/data/01/adaptive_threshold_jpg\\slice_0301.jpg\n",
      "已处理并保存图像: D:/Code/CBCT_Reconstruction_ICP/data/01/adaptive_threshold_jpg\\slice_0302.jpg\n",
      "已处理并保存图像: D:/Code/CBCT_Reconstruction_ICP/data/01/adaptive_threshold_jpg\\slice_0303.jpg\n",
      "已处理并保存图像: D:/Code/CBCT_Reconstruction_ICP/data/01/adaptive_threshold_jpg\\slice_0304.jpg\n",
      "已处理并保存图像: D:/Code/CBCT_Reconstruction_ICP/data/01/adaptive_threshold_jpg\\slice_0305.jpg\n",
      "已处理并保存图像: D:/Code/CBCT_Reconstruction_ICP/data/01/adaptive_threshold_jpg\\slice_0306.jpg\n",
      "已处理并保存图像: D:/Code/CBCT_Reconstruction_ICP/data/01/adaptive_threshold_jpg\\slice_0307.jpg\n",
      "已处理并保存图像: D:/Code/CBCT_Reconstruction_ICP/data/01/adaptive_threshold_jpg\\slice_0308.jpg\n",
      "已处理并保存图像: D:/Code/CBCT_Reconstruction_ICP/data/01/adaptive_threshold_jpg\\slice_0309.jpg\n",
      "已处理并保存图像: D:/Code/CBCT_Reconstruction_ICP/data/01/adaptive_threshold_jpg\\slice_0310.jpg\n",
      "已处理并保存图像: D:/Code/CBCT_Reconstruction_ICP/data/01/adaptive_threshold_jpg\\slice_0311.jpg\n",
      "已处理并保存图像: D:/Code/CBCT_Reconstruction_ICP/data/01/adaptive_threshold_jpg\\slice_0312.jpg\n",
      "已处理并保存图像: D:/Code/CBCT_Reconstruction_ICP/data/01/adaptive_threshold_jpg\\slice_0313.jpg\n",
      "已处理并保存图像: D:/Code/CBCT_Reconstruction_ICP/data/01/adaptive_threshold_jpg\\slice_0314.jpg\n",
      "已处理并保存图像: D:/Code/CBCT_Reconstruction_ICP/data/01/adaptive_threshold_jpg\\slice_0315.jpg\n",
      "已处理并保存图像: D:/Code/CBCT_Reconstruction_ICP/data/01/adaptive_threshold_jpg\\slice_0316.jpg\n",
      "已处理并保存图像: D:/Code/CBCT_Reconstruction_ICP/data/01/adaptive_threshold_jpg\\slice_0317.jpg\n",
      "已处理并保存图像: D:/Code/CBCT_Reconstruction_ICP/data/01/adaptive_threshold_jpg\\slice_0318.jpg\n",
      "已处理并保存图像: D:/Code/CBCT_Reconstruction_ICP/data/01/adaptive_threshold_jpg\\slice_0319.jpg\n",
      "已处理并保存图像: D:/Code/CBCT_Reconstruction_ICP/data/01/adaptive_threshold_jpg\\slice_0320.jpg\n",
      "已处理并保存图像: D:/Code/CBCT_Reconstruction_ICP/data/01/adaptive_threshold_jpg\\slice_0321.jpg\n",
      "已处理并保存图像: D:/Code/CBCT_Reconstruction_ICP/data/01/adaptive_threshold_jpg\\slice_0322.jpg\n",
      "已处理并保存图像: D:/Code/CBCT_Reconstruction_ICP/data/01/adaptive_threshold_jpg\\slice_0323.jpg\n",
      "已处理并保存图像: D:/Code/CBCT_Reconstruction_ICP/data/01/adaptive_threshold_jpg\\slice_0324.jpg\n",
      "已处理并保存图像: D:/Code/CBCT_Reconstruction_ICP/data/01/adaptive_threshold_jpg\\slice_0325.jpg\n",
      "已处理并保存图像: D:/Code/CBCT_Reconstruction_ICP/data/01/adaptive_threshold_jpg\\slice_0326.jpg\n",
      "已处理并保存图像: D:/Code/CBCT_Reconstruction_ICP/data/01/adaptive_threshold_jpg\\slice_0327.jpg\n",
      "已处理并保存图像: D:/Code/CBCT_Reconstruction_ICP/data/01/adaptive_threshold_jpg\\slice_0328.jpg\n",
      "已处理并保存图像: D:/Code/CBCT_Reconstruction_ICP/data/01/adaptive_threshold_jpg\\slice_0329.jpg\n",
      "已处理并保存图像: D:/Code/CBCT_Reconstruction_ICP/data/01/adaptive_threshold_jpg\\slice_0330.jpg\n",
      "已处理并保存图像: D:/Code/CBCT_Reconstruction_ICP/data/01/adaptive_threshold_jpg\\slice_0331.jpg\n",
      "已处理并保存图像: D:/Code/CBCT_Reconstruction_ICP/data/01/adaptive_threshold_jpg\\slice_0332.jpg\n",
      "已处理并保存图像: D:/Code/CBCT_Reconstruction_ICP/data/01/adaptive_threshold_jpg\\slice_0333.jpg\n",
      "已处理并保存图像: D:/Code/CBCT_Reconstruction_ICP/data/01/adaptive_threshold_jpg\\slice_0334.jpg\n",
      "已处理并保存图像: D:/Code/CBCT_Reconstruction_ICP/data/01/adaptive_threshold_jpg\\slice_0335.jpg\n",
      "已处理并保存图像: D:/Code/CBCT_Reconstruction_ICP/data/01/adaptive_threshold_jpg\\slice_0336.jpg\n",
      "已处理并保存图像: D:/Code/CBCT_Reconstruction_ICP/data/01/adaptive_threshold_jpg\\slice_0337.jpg\n",
      "已处理并保存图像: D:/Code/CBCT_Reconstruction_ICP/data/01/adaptive_threshold_jpg\\slice_0338.jpg\n",
      "已处理并保存图像: D:/Code/CBCT_Reconstruction_ICP/data/01/adaptive_threshold_jpg\\slice_0339.jpg\n",
      "已处理并保存图像: D:/Code/CBCT_Reconstruction_ICP/data/01/adaptive_threshold_jpg\\slice_0340.jpg\n",
      "已处理并保存图像: D:/Code/CBCT_Reconstruction_ICP/data/01/adaptive_threshold_jpg\\slice_0341.jpg\n",
      "已处理并保存图像: D:/Code/CBCT_Reconstruction_ICP/data/01/adaptive_threshold_jpg\\slice_0342.jpg\n",
      "已处理并保存图像: D:/Code/CBCT_Reconstruction_ICP/data/01/adaptive_threshold_jpg\\slice_0343.jpg\n",
      "已处理并保存图像: D:/Code/CBCT_Reconstruction_ICP/data/01/adaptive_threshold_jpg\\slice_0344.jpg\n",
      "已处理并保存图像: D:/Code/CBCT_Reconstruction_ICP/data/01/adaptive_threshold_jpg\\slice_0345.jpg\n",
      "已处理并保存图像: D:/Code/CBCT_Reconstruction_ICP/data/01/adaptive_threshold_jpg\\slice_0346.jpg\n",
      "已处理并保存图像: D:/Code/CBCT_Reconstruction_ICP/data/01/adaptive_threshold_jpg\\slice_0347.jpg\n",
      "已处理并保存图像: D:/Code/CBCT_Reconstruction_ICP/data/01/adaptive_threshold_jpg\\slice_0348.jpg\n",
      "已处理并保存图像: D:/Code/CBCT_Reconstruction_ICP/data/01/adaptive_threshold_jpg\\slice_0349.jpg\n",
      "已处理并保存图像: D:/Code/CBCT_Reconstruction_ICP/data/01/adaptive_threshold_jpg\\slice_0350.jpg\n",
      "已处理并保存图像: D:/Code/CBCT_Reconstruction_ICP/data/01/adaptive_threshold_jpg\\slice_0351.jpg\n",
      "已处理并保存图像: D:/Code/CBCT_Reconstruction_ICP/data/01/adaptive_threshold_jpg\\slice_0352.jpg\n",
      "已处理并保存图像: D:/Code/CBCT_Reconstruction_ICP/data/01/adaptive_threshold_jpg\\slice_0353.jpg\n",
      "已处理并保存图像: D:/Code/CBCT_Reconstruction_ICP/data/01/adaptive_threshold_jpg\\slice_0354.jpg\n",
      "已处理并保存图像: D:/Code/CBCT_Reconstruction_ICP/data/01/adaptive_threshold_jpg\\slice_0355.jpg\n",
      "已处理并保存图像: D:/Code/CBCT_Reconstruction_ICP/data/01/adaptive_threshold_jpg\\slice_0356.jpg\n",
      "已处理并保存图像: D:/Code/CBCT_Reconstruction_ICP/data/01/adaptive_threshold_jpg\\slice_0357.jpg\n",
      "已处理并保存图像: D:/Code/CBCT_Reconstruction_ICP/data/01/adaptive_threshold_jpg\\slice_0358.jpg\n",
      "已处理并保存图像: D:/Code/CBCT_Reconstruction_ICP/data/01/adaptive_threshold_jpg\\slice_0359.jpg\n",
      "已处理并保存图像: D:/Code/CBCT_Reconstruction_ICP/data/01/adaptive_threshold_jpg\\slice_0360.jpg\n",
      "已处理并保存图像: D:/Code/CBCT_Reconstruction_ICP/data/01/adaptive_threshold_jpg\\slice_0361.jpg\n",
      "已处理并保存图像: D:/Code/CBCT_Reconstruction_ICP/data/01/adaptive_threshold_jpg\\slice_0362.jpg\n",
      "已处理并保存图像: D:/Code/CBCT_Reconstruction_ICP/data/01/adaptive_threshold_jpg\\slice_0363.jpg\n",
      "已处理并保存图像: D:/Code/CBCT_Reconstruction_ICP/data/01/adaptive_threshold_jpg\\slice_0364.jpg\n",
      "已处理并保存图像: D:/Code/CBCT_Reconstruction_ICP/data/01/adaptive_threshold_jpg\\slice_0365.jpg\n",
      "已处理并保存图像: D:/Code/CBCT_Reconstruction_ICP/data/01/adaptive_threshold_jpg\\slice_0366.jpg\n",
      "已处理并保存图像: D:/Code/CBCT_Reconstruction_ICP/data/01/adaptive_threshold_jpg\\slice_0367.jpg\n",
      "已处理并保存图像: D:/Code/CBCT_Reconstruction_ICP/data/01/adaptive_threshold_jpg\\slice_0368.jpg\n",
      "已处理并保存图像: D:/Code/CBCT_Reconstruction_ICP/data/01/adaptive_threshold_jpg\\slice_0369.jpg\n",
      "已处理并保存图像: D:/Code/CBCT_Reconstruction_ICP/data/01/adaptive_threshold_jpg\\slice_0370.jpg\n",
      "已处理并保存图像: D:/Code/CBCT_Reconstruction_ICP/data/01/adaptive_threshold_jpg\\slice_0371.jpg\n",
      "已处理并保存图像: D:/Code/CBCT_Reconstruction_ICP/data/01/adaptive_threshold_jpg\\slice_0372.jpg\n",
      "已处理并保存图像: D:/Code/CBCT_Reconstruction_ICP/data/01/adaptive_threshold_jpg\\slice_0373.jpg\n",
      "已处理并保存图像: D:/Code/CBCT_Reconstruction_ICP/data/01/adaptive_threshold_jpg\\slice_0374.jpg\n",
      "已处理并保存图像: D:/Code/CBCT_Reconstruction_ICP/data/01/adaptive_threshold_jpg\\slice_0375.jpg\n",
      "已处理并保存图像: D:/Code/CBCT_Reconstruction_ICP/data/01/adaptive_threshold_jpg\\slice_0376.jpg\n",
      "已处理并保存图像: D:/Code/CBCT_Reconstruction_ICP/data/01/adaptive_threshold_jpg\\slice_0377.jpg\n",
      "已处理并保存图像: D:/Code/CBCT_Reconstruction_ICP/data/01/adaptive_threshold_jpg\\slice_0378.jpg\n",
      "已处理并保存图像: D:/Code/CBCT_Reconstruction_ICP/data/01/adaptive_threshold_jpg\\slice_0379.jpg\n",
      "已处理并保存图像: D:/Code/CBCT_Reconstruction_ICP/data/01/adaptive_threshold_jpg\\slice_0380.jpg\n",
      "已处理并保存图像: D:/Code/CBCT_Reconstruction_ICP/data/01/adaptive_threshold_jpg\\slice_0381.jpg\n",
      "已处理并保存图像: D:/Code/CBCT_Reconstruction_ICP/data/01/adaptive_threshold_jpg\\slice_0382.jpg\n",
      "已处理并保存图像: D:/Code/CBCT_Reconstruction_ICP/data/01/adaptive_threshold_jpg\\slice_0383.jpg\n",
      "已处理并保存图像: D:/Code/CBCT_Reconstruction_ICP/data/01/adaptive_threshold_jpg\\slice_0384.jpg\n",
      "已处理并保存图像: D:/Code/CBCT_Reconstruction_ICP/data/01/adaptive_threshold_jpg\\slice_0385.jpg\n",
      "已处理并保存图像: D:/Code/CBCT_Reconstruction_ICP/data/01/adaptive_threshold_jpg\\slice_0386.jpg\n",
      "已处理并保存图像: D:/Code/CBCT_Reconstruction_ICP/data/01/adaptive_threshold_jpg\\slice_0387.jpg\n",
      "已处理并保存图像: D:/Code/CBCT_Reconstruction_ICP/data/01/adaptive_threshold_jpg\\slice_0388.jpg\n",
      "已处理并保存图像: D:/Code/CBCT_Reconstruction_ICP/data/01/adaptive_threshold_jpg\\slice_0389.jpg\n",
      "已处理并保存图像: D:/Code/CBCT_Reconstruction_ICP/data/01/adaptive_threshold_jpg\\slice_0390.jpg\n",
      "已处理并保存图像: D:/Code/CBCT_Reconstruction_ICP/data/01/adaptive_threshold_jpg\\slice_0391.jpg\n",
      "已处理并保存图像: D:/Code/CBCT_Reconstruction_ICP/data/01/adaptive_threshold_jpg\\slice_0392.jpg\n",
      "已处理并保存图像: D:/Code/CBCT_Reconstruction_ICP/data/01/adaptive_threshold_jpg\\slice_0393.jpg\n",
      "已处理并保存图像: D:/Code/CBCT_Reconstruction_ICP/data/01/adaptive_threshold_jpg\\slice_0394.jpg\n",
      "已处理并保存图像: D:/Code/CBCT_Reconstruction_ICP/data/01/adaptive_threshold_jpg\\slice_0395.jpg\n",
      "已处理并保存图像: D:/Code/CBCT_Reconstruction_ICP/data/01/adaptive_threshold_jpg\\slice_0396.jpg\n",
      "已处理并保存图像: D:/Code/CBCT_Reconstruction_ICP/data/01/adaptive_threshold_jpg\\slice_0397.jpg\n",
      "已处理并保存图像: D:/Code/CBCT_Reconstruction_ICP/data/01/adaptive_threshold_jpg\\slice_0398.jpg\n",
      "已处理并保存图像: D:/Code/CBCT_Reconstruction_ICP/data/01/adaptive_threshold_jpg\\slice_0399.jpg\n",
      "已处理并保存图像: D:/Code/CBCT_Reconstruction_ICP/data/01/adaptive_threshold_jpg\\slice_0400.jpg\n",
      "已处理并保存图像: D:/Code/CBCT_Reconstruction_ICP/data/01/adaptive_threshold_jpg\\slice_0401.jpg\n",
      "已处理并保存图像: D:/Code/CBCT_Reconstruction_ICP/data/01/adaptive_threshold_jpg\\slice_0402.jpg\n",
      "已处理并保存图像: D:/Code/CBCT_Reconstruction_ICP/data/01/adaptive_threshold_jpg\\slice_0403.jpg\n",
      "已处理并保存图像: D:/Code/CBCT_Reconstruction_ICP/data/01/adaptive_threshold_jpg\\slice_0404.jpg\n",
      "已处理并保存图像: D:/Code/CBCT_Reconstruction_ICP/data/01/adaptive_threshold_jpg\\slice_0405.jpg\n",
      "已处理并保存图像: D:/Code/CBCT_Reconstruction_ICP/data/01/adaptive_threshold_jpg\\slice_0406.jpg\n",
      "已处理并保存图像: D:/Code/CBCT_Reconstruction_ICP/data/01/adaptive_threshold_jpg\\slice_0407.jpg\n",
      "已处理并保存图像: D:/Code/CBCT_Reconstruction_ICP/data/01/adaptive_threshold_jpg\\slice_0408.jpg\n",
      "已处理并保存图像: D:/Code/CBCT_Reconstruction_ICP/data/01/adaptive_threshold_jpg\\slice_0409.jpg\n",
      "已处理并保存图像: D:/Code/CBCT_Reconstruction_ICP/data/01/adaptive_threshold_jpg\\slice_0410.jpg\n",
      "已处理并保存图像: D:/Code/CBCT_Reconstruction_ICP/data/01/adaptive_threshold_jpg\\slice_0411.jpg\n",
      "已处理并保存图像: D:/Code/CBCT_Reconstruction_ICP/data/01/adaptive_threshold_jpg\\slice_0412.jpg\n",
      "已处理并保存图像: D:/Code/CBCT_Reconstruction_ICP/data/01/adaptive_threshold_jpg\\slice_0413.jpg\n",
      "已处理并保存图像: D:/Code/CBCT_Reconstruction_ICP/data/01/adaptive_threshold_jpg\\slice_0414.jpg\n",
      "已处理并保存图像: D:/Code/CBCT_Reconstruction_ICP/data/01/adaptive_threshold_jpg\\slice_0415.jpg\n",
      "已处理并保存图像: D:/Code/CBCT_Reconstruction_ICP/data/01/adaptive_threshold_jpg\\slice_0416.jpg\n",
      "已处理并保存图像: D:/Code/CBCT_Reconstruction_ICP/data/01/adaptive_threshold_jpg\\slice_0417.jpg\n",
      "已处理并保存图像: D:/Code/CBCT_Reconstruction_ICP/data/01/adaptive_threshold_jpg\\slice_0418.jpg\n",
      "已处理并保存图像: D:/Code/CBCT_Reconstruction_ICP/data/01/adaptive_threshold_jpg\\slice_0419.jpg\n",
      "已处理并保存图像: D:/Code/CBCT_Reconstruction_ICP/data/01/adaptive_threshold_jpg\\slice_0420.jpg\n",
      "已处理并保存图像: D:/Code/CBCT_Reconstruction_ICP/data/01/adaptive_threshold_jpg\\slice_0421.jpg\n",
      "已处理并保存图像: D:/Code/CBCT_Reconstruction_ICP/data/01/adaptive_threshold_jpg\\slice_0422.jpg\n",
      "已处理并保存图像: D:/Code/CBCT_Reconstruction_ICP/data/01/adaptive_threshold_jpg\\slice_0423.jpg\n",
      "已处理并保存图像: D:/Code/CBCT_Reconstruction_ICP/data/01/adaptive_threshold_jpg\\slice_0424.jpg\n",
      "已处理并保存图像: D:/Code/CBCT_Reconstruction_ICP/data/01/adaptive_threshold_jpg\\slice_0425.jpg\n",
      "已处理并保存图像: D:/Code/CBCT_Reconstruction_ICP/data/01/adaptive_threshold_jpg\\slice_0426.jpg\n",
      "已处理并保存图像: D:/Code/CBCT_Reconstruction_ICP/data/01/adaptive_threshold_jpg\\slice_0427.jpg\n",
      "已处理并保存图像: D:/Code/CBCT_Reconstruction_ICP/data/01/adaptive_threshold_jpg\\slice_0428.jpg\n",
      "已处理并保存图像: D:/Code/CBCT_Reconstruction_ICP/data/01/adaptive_threshold_jpg\\slice_0429.jpg\n",
      "已处理并保存图像: D:/Code/CBCT_Reconstruction_ICP/data/01/adaptive_threshold_jpg\\slice_0430.jpg\n",
      "已处理并保存图像: D:/Code/CBCT_Reconstruction_ICP/data/01/adaptive_threshold_jpg\\slice_0431.jpg\n",
      "已处理并保存图像: D:/Code/CBCT_Reconstruction_ICP/data/01/adaptive_threshold_jpg\\slice_0432.jpg\n",
      "已处理并保存图像: D:/Code/CBCT_Reconstruction_ICP/data/01/adaptive_threshold_jpg\\slice_0433.jpg\n",
      "已处理并保存图像: D:/Code/CBCT_Reconstruction_ICP/data/01/adaptive_threshold_jpg\\slice_0434.jpg\n",
      "已处理并保存图像: D:/Code/CBCT_Reconstruction_ICP/data/01/adaptive_threshold_jpg\\slice_0435.jpg\n",
      "已处理并保存图像: D:/Code/CBCT_Reconstruction_ICP/data/01/adaptive_threshold_jpg\\slice_0436.jpg\n",
      "已处理并保存图像: D:/Code/CBCT_Reconstruction_ICP/data/01/adaptive_threshold_jpg\\slice_0437.jpg\n",
      "已处理并保存图像: D:/Code/CBCT_Reconstruction_ICP/data/01/adaptive_threshold_jpg\\slice_0438.jpg\n",
      "已处理并保存图像: D:/Code/CBCT_Reconstruction_ICP/data/01/adaptive_threshold_jpg\\slice_0439.jpg\n",
      "已处理并保存图像: D:/Code/CBCT_Reconstruction_ICP/data/01/adaptive_threshold_jpg\\slice_0440.jpg\n",
      "已处理并保存图像: D:/Code/CBCT_Reconstruction_ICP/data/01/adaptive_threshold_jpg\\slice_0441.jpg\n",
      "已处理并保存图像: D:/Code/CBCT_Reconstruction_ICP/data/01/adaptive_threshold_jpg\\slice_0442.jpg\n",
      "已处理并保存图像: D:/Code/CBCT_Reconstruction_ICP/data/01/adaptive_threshold_jpg\\slice_0443.jpg\n",
      "已处理并保存图像: D:/Code/CBCT_Reconstruction_ICP/data/01/adaptive_threshold_jpg\\slice_0444.jpg\n",
      "已处理并保存图像: D:/Code/CBCT_Reconstruction_ICP/data/01/adaptive_threshold_jpg\\slice_0445.jpg\n",
      "已处理并保存图像: D:/Code/CBCT_Reconstruction_ICP/data/01/adaptive_threshold_jpg\\slice_0446.jpg\n",
      "已处理并保存图像: D:/Code/CBCT_Reconstruction_ICP/data/01/adaptive_threshold_jpg\\slice_0447.jpg\n",
      "已处理并保存图像: D:/Code/CBCT_Reconstruction_ICP/data/01/adaptive_threshold_jpg\\slice_0448.jpg\n",
      "已处理并保存图像: D:/Code/CBCT_Reconstruction_ICP/data/01/adaptive_threshold_jpg\\slice_0449.jpg\n",
      "已处理并保存图像: D:/Code/CBCT_Reconstruction_ICP/data/01/adaptive_threshold_jpg\\slice_0450.jpg\n",
      "已处理并保存图像: D:/Code/CBCT_Reconstruction_ICP/data/01/adaptive_threshold_jpg\\slice_0451.jpg\n",
      "已处理并保存图像: D:/Code/CBCT_Reconstruction_ICP/data/01/adaptive_threshold_jpg\\slice_0452.jpg\n",
      "已处理并保存图像: D:/Code/CBCT_Reconstruction_ICP/data/01/adaptive_threshold_jpg\\slice_0453.jpg\n",
      "已处理并保存图像: D:/Code/CBCT_Reconstruction_ICP/data/01/adaptive_threshold_jpg\\slice_0454.jpg\n",
      "已处理并保存图像: D:/Code/CBCT_Reconstruction_ICP/data/01/adaptive_threshold_jpg\\slice_0455.jpg\n",
      "已处理并保存图像: D:/Code/CBCT_Reconstruction_ICP/data/01/adaptive_threshold_jpg\\slice_0456.jpg\n",
      "已处理并保存图像: D:/Code/CBCT_Reconstruction_ICP/data/01/adaptive_threshold_jpg\\slice_0457.jpg\n",
      "已处理并保存图像: D:/Code/CBCT_Reconstruction_ICP/data/01/adaptive_threshold_jpg\\slice_0458.jpg\n",
      "已处理并保存图像: D:/Code/CBCT_Reconstruction_ICP/data/01/adaptive_threshold_jpg\\slice_0459.jpg\n",
      "已处理并保存图像: D:/Code/CBCT_Reconstruction_ICP/data/01/adaptive_threshold_jpg\\slice_0460.jpg\n",
      "已处理并保存图像: D:/Code/CBCT_Reconstruction_ICP/data/01/adaptive_threshold_jpg\\slice_0461.jpg\n",
      "已处理并保存图像: D:/Code/CBCT_Reconstruction_ICP/data/01/adaptive_threshold_jpg\\slice_0462.jpg\n",
      "已处理并保存图像: D:/Code/CBCT_Reconstruction_ICP/data/01/adaptive_threshold_jpg\\slice_0463.jpg\n",
      "已处理并保存图像: D:/Code/CBCT_Reconstruction_ICP/data/01/adaptive_threshold_jpg\\slice_0464.jpg\n",
      "已处理并保存图像: D:/Code/CBCT_Reconstruction_ICP/data/01/adaptive_threshold_jpg\\slice_0465.jpg\n",
      "已处理并保存图像: D:/Code/CBCT_Reconstruction_ICP/data/01/adaptive_threshold_jpg\\slice_0466.jpg\n",
      "已处理并保存图像: D:/Code/CBCT_Reconstruction_ICP/data/01/adaptive_threshold_jpg\\slice_0467.jpg\n",
      "已处理并保存图像: D:/Code/CBCT_Reconstruction_ICP/data/01/adaptive_threshold_jpg\\slice_0468.jpg\n",
      "已处理并保存图像: D:/Code/CBCT_Reconstruction_ICP/data/01/adaptive_threshold_jpg\\slice_0469.jpg\n",
      "已处理并保存图像: D:/Code/CBCT_Reconstruction_ICP/data/01/adaptive_threshold_jpg\\slice_0470.jpg\n",
      "已处理并保存图像: D:/Code/CBCT_Reconstruction_ICP/data/01/adaptive_threshold_jpg\\slice_0471.jpg\n",
      "已处理并保存图像: D:/Code/CBCT_Reconstruction_ICP/data/01/adaptive_threshold_jpg\\slice_0472.jpg\n",
      "已处理并保存图像: D:/Code/CBCT_Reconstruction_ICP/data/01/adaptive_threshold_jpg\\slice_0473.jpg\n",
      "已处理并保存图像: D:/Code/CBCT_Reconstruction_ICP/data/01/adaptive_threshold_jpg\\slice_0474.jpg\n",
      "已处理并保存图像: D:/Code/CBCT_Reconstruction_ICP/data/01/adaptive_threshold_jpg\\slice_0475.jpg\n",
      "已处理并保存图像: D:/Code/CBCT_Reconstruction_ICP/data/01/adaptive_threshold_jpg\\slice_0476.jpg\n",
      "已处理并保存图像: D:/Code/CBCT_Reconstruction_ICP/data/01/adaptive_threshold_jpg\\slice_0477.jpg\n",
      "已处理并保存图像: D:/Code/CBCT_Reconstruction_ICP/data/01/adaptive_threshold_jpg\\slice_0478.jpg\n",
      "已处理并保存图像: D:/Code/CBCT_Reconstruction_ICP/data/01/adaptive_threshold_jpg\\slice_0479.jpg\n",
      "已处理并保存图像: D:/Code/CBCT_Reconstruction_ICP/data/01/adaptive_threshold_jpg\\slice_0480.jpg\n",
      "已处理并保存图像: D:/Code/CBCT_Reconstruction_ICP/data/01/adaptive_threshold_jpg\\slice_0481.jpg\n",
      "已处理并保存图像: D:/Code/CBCT_Reconstruction_ICP/data/01/adaptive_threshold_jpg\\slice_0482.jpg\n",
      "已处理并保存图像: D:/Code/CBCT_Reconstruction_ICP/data/01/adaptive_threshold_jpg\\slice_0483.jpg\n",
      "已处理并保存图像: D:/Code/CBCT_Reconstruction_ICP/data/01/adaptive_threshold_jpg\\slice_0484.jpg\n",
      "已处理并保存图像: D:/Code/CBCT_Reconstruction_ICP/data/01/adaptive_threshold_jpg\\slice_0485.jpg\n",
      "已处理并保存图像: D:/Code/CBCT_Reconstruction_ICP/data/01/adaptive_threshold_jpg\\slice_0486.jpg\n",
      "已处理并保存图像: D:/Code/CBCT_Reconstruction_ICP/data/01/adaptive_threshold_jpg\\slice_0487.jpg\n",
      "已处理并保存图像: D:/Code/CBCT_Reconstruction_ICP/data/01/adaptive_threshold_jpg\\slice_0488.jpg\n",
      "已处理并保存图像: D:/Code/CBCT_Reconstruction_ICP/data/01/adaptive_threshold_jpg\\slice_0489.jpg\n",
      "已处理并保存图像: D:/Code/CBCT_Reconstruction_ICP/data/01/adaptive_threshold_jpg\\slice_0490.jpg\n",
      "已处理并保存图像: D:/Code/CBCT_Reconstruction_ICP/data/01/adaptive_threshold_jpg\\slice_0491.jpg\n",
      "已处理并保存图像: D:/Code/CBCT_Reconstruction_ICP/data/01/adaptive_threshold_jpg\\slice_0492.jpg\n",
      "已处理并保存图像: D:/Code/CBCT_Reconstruction_ICP/data/01/adaptive_threshold_jpg\\slice_0493.jpg\n",
      "已处理并保存图像: D:/Code/CBCT_Reconstruction_ICP/data/01/adaptive_threshold_jpg\\slice_0494.jpg\n",
      "已处理并保存图像: D:/Code/CBCT_Reconstruction_ICP/data/01/adaptive_threshold_jpg\\slice_0495.jpg\n",
      "已处理并保存图像: D:/Code/CBCT_Reconstruction_ICP/data/01/adaptive_threshold_jpg\\slice_0496.jpg\n",
      "已处理并保存图像: D:/Code/CBCT_Reconstruction_ICP/data/01/adaptive_threshold_jpg\\slice_0497.jpg\n",
      "已处理并保存图像: D:/Code/CBCT_Reconstruction_ICP/data/01/adaptive_threshold_jpg\\slice_0498.jpg\n",
      "已处理并保存图像: D:/Code/CBCT_Reconstruction_ICP/data/01/adaptive_threshold_jpg\\slice_0499.jpg\n",
      "已处理并保存图像: D:/Code/CBCT_Reconstruction_ICP/data/01/adaptive_threshold_jpg\\slice_0500.jpg\n",
      "已处理并保存图像: D:/Code/CBCT_Reconstruction_ICP/data/01/adaptive_threshold_jpg\\slice_0501.jpg\n",
      "已处理并保存图像: D:/Code/CBCT_Reconstruction_ICP/data/01/adaptive_threshold_jpg\\slice_0502.jpg\n",
      "已处理并保存图像: D:/Code/CBCT_Reconstruction_ICP/data/01/adaptive_threshold_jpg\\slice_0503.jpg\n",
      "已处理并保存图像: D:/Code/CBCT_Reconstruction_ICP/data/01/adaptive_threshold_jpg\\slice_0504.jpg\n",
      "已处理并保存图像: D:/Code/CBCT_Reconstruction_ICP/data/01/adaptive_threshold_jpg\\slice_0505.jpg\n",
      "已处理并保存图像: D:/Code/CBCT_Reconstruction_ICP/data/01/adaptive_threshold_jpg\\slice_0506.jpg\n",
      "已处理并保存图像: D:/Code/CBCT_Reconstruction_ICP/data/01/adaptive_threshold_jpg\\slice_0507.jpg\n",
      "已处理并保存图像: D:/Code/CBCT_Reconstruction_ICP/data/01/adaptive_threshold_jpg\\slice_0508.jpg\n",
      "已处理并保存图像: D:/Code/CBCT_Reconstruction_ICP/data/01/adaptive_threshold_jpg\\slice_0509.jpg\n",
      "已处理并保存图像: D:/Code/CBCT_Reconstruction_ICP/data/01/adaptive_threshold_jpg\\slice_0510.jpg\n",
      "已处理并保存图像: D:/Code/CBCT_Reconstruction_ICP/data/01/adaptive_threshold_jpg\\slice_0511.jpg\n",
      "已处理并保存图像: D:/Code/CBCT_Reconstruction_ICP/data/01/adaptive_threshold_jpg\\slice_0512.jpg\n",
      "已处理并保存图像: D:/Code/CBCT_Reconstruction_ICP/data/01/adaptive_threshold_jpg\\slice_0513.jpg\n",
      "已处理并保存图像: D:/Code/CBCT_Reconstruction_ICP/data/01/adaptive_threshold_jpg\\slice_0514.jpg\n",
      "已处理并保存图像: D:/Code/CBCT_Reconstruction_ICP/data/01/adaptive_threshold_jpg\\slice_0515.jpg\n",
      "已处理并保存图像: D:/Code/CBCT_Reconstruction_ICP/data/01/adaptive_threshold_jpg\\slice_0516.jpg\n",
      "已处理并保存图像: D:/Code/CBCT_Reconstruction_ICP/data/01/adaptive_threshold_jpg\\slice_0517.jpg\n",
      "已处理并保存图像: D:/Code/CBCT_Reconstruction_ICP/data/01/adaptive_threshold_jpg\\slice_0518.jpg\n",
      "已处理并保存图像: D:/Code/CBCT_Reconstruction_ICP/data/01/adaptive_threshold_jpg\\slice_0519.jpg\n",
      "已处理并保存图像: D:/Code/CBCT_Reconstruction_ICP/data/01/adaptive_threshold_jpg\\slice_0520.jpg\n",
      "已处理并保存图像: D:/Code/CBCT_Reconstruction_ICP/data/01/adaptive_threshold_jpg\\slice_0521.jpg\n",
      "已处理并保存图像: D:/Code/CBCT_Reconstruction_ICP/data/01/adaptive_threshold_jpg\\slice_0522.jpg\n",
      "已处理并保存图像: D:/Code/CBCT_Reconstruction_ICP/data/01/adaptive_threshold_jpg\\slice_0523.jpg\n",
      "已处理并保存图像: D:/Code/CBCT_Reconstruction_ICP/data/01/adaptive_threshold_jpg\\slice_0524.jpg\n",
      "已处理并保存图像: D:/Code/CBCT_Reconstruction_ICP/data/01/adaptive_threshold_jpg\\slice_0525.jpg\n",
      "已处理并保存图像: D:/Code/CBCT_Reconstruction_ICP/data/01/adaptive_threshold_jpg\\slice_0526.jpg\n",
      "已处理并保存图像: D:/Code/CBCT_Reconstruction_ICP/data/01/adaptive_threshold_jpg\\slice_0527.jpg\n",
      "已处理并保存图像: D:/Code/CBCT_Reconstruction_ICP/data/01/adaptive_threshold_jpg\\slice_0528.jpg\n",
      "已处理并保存图像: D:/Code/CBCT_Reconstruction_ICP/data/01/adaptive_threshold_jpg\\slice_0529.jpg\n",
      "已处理并保存图像: D:/Code/CBCT_Reconstruction_ICP/data/01/adaptive_threshold_jpg\\slice_0530.jpg\n",
      "已处理并保存图像: D:/Code/CBCT_Reconstruction_ICP/data/01/adaptive_threshold_jpg\\slice_0531.jpg\n",
      "已处理并保存图像: D:/Code/CBCT_Reconstruction_ICP/data/01/adaptive_threshold_jpg\\slice_0532.jpg\n",
      "已处理并保存图像: D:/Code/CBCT_Reconstruction_ICP/data/01/adaptive_threshold_jpg\\slice_0533.jpg\n",
      "已处理并保存图像: D:/Code/CBCT_Reconstruction_ICP/data/01/adaptive_threshold_jpg\\slice_0534.jpg\n",
      "已处理并保存图像: D:/Code/CBCT_Reconstruction_ICP/data/01/adaptive_threshold_jpg\\slice_0535.jpg\n",
      "已处理并保存图像: D:/Code/CBCT_Reconstruction_ICP/data/01/adaptive_threshold_jpg\\slice_0536.jpg\n",
      "已处理并保存图像: D:/Code/CBCT_Reconstruction_ICP/data/01/adaptive_threshold_jpg\\slice_0537.jpg\n",
      "已处理并保存图像: D:/Code/CBCT_Reconstruction_ICP/data/01/adaptive_threshold_jpg\\slice_0538.jpg\n",
      "已处理并保存图像: D:/Code/CBCT_Reconstruction_ICP/data/01/adaptive_threshold_jpg\\slice_0539.jpg\n",
      "已处理并保存图像: D:/Code/CBCT_Reconstruction_ICP/data/01/adaptive_threshold_jpg\\slice_0540.jpg\n",
      "已处理并保存图像: D:/Code/CBCT_Reconstruction_ICP/data/01/adaptive_threshold_jpg\\slice_0541.jpg\n",
      "已处理并保存图像: D:/Code/CBCT_Reconstruction_ICP/data/01/adaptive_threshold_jpg\\slice_0542.jpg\n",
      "已处理并保存图像: D:/Code/CBCT_Reconstruction_ICP/data/01/adaptive_threshold_jpg\\slice_0543.jpg\n",
      "已处理并保存图像: D:/Code/CBCT_Reconstruction_ICP/data/01/adaptive_threshold_jpg\\slice_0544.jpg\n",
      "已处理并保存图像: D:/Code/CBCT_Reconstruction_ICP/data/01/adaptive_threshold_jpg\\slice_0545.jpg\n",
      "已处理并保存图像: D:/Code/CBCT_Reconstruction_ICP/data/01/adaptive_threshold_jpg\\slice_0546.jpg\n",
      "已处理并保存图像: D:/Code/CBCT_Reconstruction_ICP/data/01/adaptive_threshold_jpg\\slice_0547.jpg\n",
      "已处理并保存图像: D:/Code/CBCT_Reconstruction_ICP/data/01/adaptive_threshold_jpg\\slice_0548.jpg\n",
      "已处理并保存图像: D:/Code/CBCT_Reconstruction_ICP/data/01/adaptive_threshold_jpg\\slice_0549.jpg\n",
      "已处理并保存图像: D:/Code/CBCT_Reconstruction_ICP/data/01/adaptive_threshold_jpg\\slice_0550.jpg\n",
      "已处理并保存图像: D:/Code/CBCT_Reconstruction_ICP/data/01/adaptive_threshold_jpg\\slice_0551.jpg\n",
      "已处理并保存图像: D:/Code/CBCT_Reconstruction_ICP/data/01/adaptive_threshold_jpg\\slice_0552.jpg\n",
      "已处理并保存图像: D:/Code/CBCT_Reconstruction_ICP/data/01/adaptive_threshold_jpg\\slice_0553.jpg\n",
      "已处理并保存图像: D:/Code/CBCT_Reconstruction_ICP/data/01/adaptive_threshold_jpg\\slice_0554.jpg\n",
      "已处理并保存图像: D:/Code/CBCT_Reconstruction_ICP/data/01/adaptive_threshold_jpg\\slice_0555.jpg\n",
      "已处理并保存图像: D:/Code/CBCT_Reconstruction_ICP/data/01/adaptive_threshold_jpg\\slice_0556.jpg\n",
      "已处理并保存图像: D:/Code/CBCT_Reconstruction_ICP/data/01/adaptive_threshold_jpg\\slice_0557.jpg\n",
      "已处理并保存图像: D:/Code/CBCT_Reconstruction_ICP/data/01/adaptive_threshold_jpg\\slice_0558.jpg\n",
      "已处理并保存图像: D:/Code/CBCT_Reconstruction_ICP/data/01/adaptive_threshold_jpg\\slice_0559.jpg\n",
      "已处理并保存图像: D:/Code/CBCT_Reconstruction_ICP/data/01/adaptive_threshold_jpg\\slice_0560.jpg\n",
      "已处理并保存图像: D:/Code/CBCT_Reconstruction_ICP/data/01/adaptive_threshold_jpg\\slice_0561.jpg\n",
      "已处理并保存图像: D:/Code/CBCT_Reconstruction_ICP/data/01/adaptive_threshold_jpg\\slice_0562.jpg\n",
      "已处理并保存图像: D:/Code/CBCT_Reconstruction_ICP/data/01/adaptive_threshold_jpg\\slice_0563.jpg\n",
      "已处理并保存图像: D:/Code/CBCT_Reconstruction_ICP/data/01/adaptive_threshold_jpg\\slice_0564.jpg\n",
      "已处理并保存图像: D:/Code/CBCT_Reconstruction_ICP/data/01/adaptive_threshold_jpg\\slice_0565.jpg\n",
      "已处理并保存图像: D:/Code/CBCT_Reconstruction_ICP/data/01/adaptive_threshold_jpg\\slice_0566.jpg\n",
      "已处理并保存图像: D:/Code/CBCT_Reconstruction_ICP/data/01/adaptive_threshold_jpg\\slice_0567.jpg\n",
      "已处理并保存图像: D:/Code/CBCT_Reconstruction_ICP/data/01/adaptive_threshold_jpg\\slice_0568.jpg\n",
      "已处理并保存图像: D:/Code/CBCT_Reconstruction_ICP/data/01/adaptive_threshold_jpg\\slice_0569.jpg\n",
      "已处理并保存图像: D:/Code/CBCT_Reconstruction_ICP/data/01/adaptive_threshold_jpg\\slice_0570.jpg\n",
      "已处理并保存图像: D:/Code/CBCT_Reconstruction_ICP/data/01/adaptive_threshold_jpg\\slice_0571.jpg\n",
      "已处理并保存图像: D:/Code/CBCT_Reconstruction_ICP/data/01/adaptive_threshold_jpg\\slice_0572.jpg\n",
      "已处理并保存图像: D:/Code/CBCT_Reconstruction_ICP/data/01/adaptive_threshold_jpg\\slice_0573.jpg\n",
      "已处理并保存图像: D:/Code/CBCT_Reconstruction_ICP/data/01/adaptive_threshold_jpg\\slice_0574.jpg\n",
      "已处理并保存图像: D:/Code/CBCT_Reconstruction_ICP/data/01/adaptive_threshold_jpg\\slice_0575.jpg\n",
      "已处理并保存图像: D:/Code/CBCT_Reconstruction_ICP/data/01/adaptive_threshold_jpg\\slice_0576.jpg\n",
      "所有图像处理完毕。\n"
     ]
    }
   ],
   "source": [
    "# Adaptive threshold filtering\n",
    "\n",
    "import os\n",
    "import cv2\n",
    "\n",
    "def apply_adaptive_threshold(input_dir, output_dir):\n",
    "    # 创建输出目录（如果不存在）\n",
    "    os.makedirs(output_dir, exist_ok=True)\n",
    "\n",
    "    # 获取输入目录中的所有图像文件\n",
    "    image_files = [f for f in os.listdir(input_dir) if os.path.isfile(os.path.join(input_dir, f))]\n",
    "    \n",
    "    for img_name in image_files:\n",
    "        input_path = os.path.join(input_dir, img_name)\n",
    "        output_path = os.path.join(output_dir, img_name)\n",
    "        \n",
    "        # 读取图像\n",
    "        image = cv2.imread(input_path, cv2.IMREAD_GRAYSCALE)  # 读取为灰度图像\n",
    "        if image is None:\n",
    "            print(f\"无法读取图像: {input_path}\")\n",
    "            continue\n",
    "        \n",
    "        # 应用自适应阈值处理\n",
    "        adaptive_thresh = cv2.adaptiveThreshold(\n",
    "            image, 255, cv2.ADAPTIVE_THRESH_MEAN_C, \n",
    "            cv2.THRESH_BINARY_INV, 11, 5\n",
    "        )\n",
    "        \n",
    "        # 保存处理后的图像\n",
    "        cv2.imwrite(output_path, adaptive_thresh)\n",
    "        print(f\"已处理并保存图像: {output_path}\")\n",
    "\n",
    "# 定义输入和输出目录\n",
    "input_dir = 'D:/Code/CBCT_Reconstruction_ICP/data/01/jpg'\n",
    "output_dir = 'D:/Code/CBCT_Reconstruction_ICP/data/01/adaptive_threshold_jpg'\n",
    "\n",
    "# 应用自适应阈值处理\n",
    "apply_adaptive_threshold(input_dir, output_dir)\n",
    "\n",
    "print(\"所有图像处理完毕。\")"
   ]
  },
  {
   "cell_type": "code",
   "execution_count": 6,
   "id": "056a0186-1c27-4ae2-830d-292f6a4c37b4",
   "metadata": {},
   "outputs": [
    {
     "name": "stdout",
     "output_type": "stream",
     "text": [
      "已处理并保存图像: D:/Code/CBCT_Reconstruction_ICP/data/04/adaptive_threshold_jpg\\04_slice_0001.jpg\n",
      "已处理并保存图像: D:/Code/CBCT_Reconstruction_ICP/data/04/adaptive_threshold_jpg\\04_slice_0002.jpg\n",
      "已处理并保存图像: D:/Code/CBCT_Reconstruction_ICP/data/04/adaptive_threshold_jpg\\04_slice_0003.jpg\n",
      "已处理并保存图像: D:/Code/CBCT_Reconstruction_ICP/data/04/adaptive_threshold_jpg\\04_slice_0004.jpg\n",
      "已处理并保存图像: D:/Code/CBCT_Reconstruction_ICP/data/04/adaptive_threshold_jpg\\04_slice_0005.jpg\n",
      "已处理并保存图像: D:/Code/CBCT_Reconstruction_ICP/data/04/adaptive_threshold_jpg\\04_slice_0006.jpg\n",
      "已处理并保存图像: D:/Code/CBCT_Reconstruction_ICP/data/04/adaptive_threshold_jpg\\04_slice_0007.jpg\n",
      "已处理并保存图像: D:/Code/CBCT_Reconstruction_ICP/data/04/adaptive_threshold_jpg\\04_slice_0008.jpg\n",
      "已处理并保存图像: D:/Code/CBCT_Reconstruction_ICP/data/04/adaptive_threshold_jpg\\04_slice_0009.jpg\n",
      "已处理并保存图像: D:/Code/CBCT_Reconstruction_ICP/data/04/adaptive_threshold_jpg\\04_slice_0010.jpg\n",
      "已处理并保存图像: D:/Code/CBCT_Reconstruction_ICP/data/04/adaptive_threshold_jpg\\04_slice_0011.jpg\n",
      "已处理并保存图像: D:/Code/CBCT_Reconstruction_ICP/data/04/adaptive_threshold_jpg\\04_slice_0012.jpg\n",
      "已处理并保存图像: D:/Code/CBCT_Reconstruction_ICP/data/04/adaptive_threshold_jpg\\04_slice_0013.jpg\n",
      "已处理并保存图像: D:/Code/CBCT_Reconstruction_ICP/data/04/adaptive_threshold_jpg\\04_slice_0014.jpg\n",
      "已处理并保存图像: D:/Code/CBCT_Reconstruction_ICP/data/04/adaptive_threshold_jpg\\04_slice_0015.jpg\n",
      "已处理并保存图像: D:/Code/CBCT_Reconstruction_ICP/data/04/adaptive_threshold_jpg\\04_slice_0016.jpg\n",
      "已处理并保存图像: D:/Code/CBCT_Reconstruction_ICP/data/04/adaptive_threshold_jpg\\04_slice_0017.jpg\n",
      "已处理并保存图像: D:/Code/CBCT_Reconstruction_ICP/data/04/adaptive_threshold_jpg\\04_slice_0018.jpg\n",
      "已处理并保存图像: D:/Code/CBCT_Reconstruction_ICP/data/04/adaptive_threshold_jpg\\04_slice_0019.jpg\n",
      "已处理并保存图像: D:/Code/CBCT_Reconstruction_ICP/data/04/adaptive_threshold_jpg\\04_slice_0020.jpg\n",
      "已处理并保存图像: D:/Code/CBCT_Reconstruction_ICP/data/04/adaptive_threshold_jpg\\04_slice_0021.jpg\n",
      "已处理并保存图像: D:/Code/CBCT_Reconstruction_ICP/data/04/adaptive_threshold_jpg\\04_slice_0022.jpg\n",
      "已处理并保存图像: D:/Code/CBCT_Reconstruction_ICP/data/04/adaptive_threshold_jpg\\04_slice_0023.jpg\n",
      "已处理并保存图像: D:/Code/CBCT_Reconstruction_ICP/data/04/adaptive_threshold_jpg\\04_slice_0024.jpg\n",
      "已处理并保存图像: D:/Code/CBCT_Reconstruction_ICP/data/04/adaptive_threshold_jpg\\04_slice_0025.jpg\n",
      "已处理并保存图像: D:/Code/CBCT_Reconstruction_ICP/data/04/adaptive_threshold_jpg\\04_slice_0026.jpg\n",
      "已处理并保存图像: D:/Code/CBCT_Reconstruction_ICP/data/04/adaptive_threshold_jpg\\04_slice_0027.jpg\n",
      "已处理并保存图像: D:/Code/CBCT_Reconstruction_ICP/data/04/adaptive_threshold_jpg\\04_slice_0028.jpg\n",
      "已处理并保存图像: D:/Code/CBCT_Reconstruction_ICP/data/04/adaptive_threshold_jpg\\04_slice_0029.jpg\n",
      "已处理并保存图像: D:/Code/CBCT_Reconstruction_ICP/data/04/adaptive_threshold_jpg\\04_slice_0030.jpg\n",
      "已处理并保存图像: D:/Code/CBCT_Reconstruction_ICP/data/04/adaptive_threshold_jpg\\04_slice_0031.jpg\n",
      "已处理并保存图像: D:/Code/CBCT_Reconstruction_ICP/data/04/adaptive_threshold_jpg\\04_slice_0032.jpg\n",
      "已处理并保存图像: D:/Code/CBCT_Reconstruction_ICP/data/04/adaptive_threshold_jpg\\04_slice_0033.jpg\n",
      "已处理并保存图像: D:/Code/CBCT_Reconstruction_ICP/data/04/adaptive_threshold_jpg\\04_slice_0034.jpg\n",
      "已处理并保存图像: D:/Code/CBCT_Reconstruction_ICP/data/04/adaptive_threshold_jpg\\04_slice_0035.jpg\n",
      "已处理并保存图像: D:/Code/CBCT_Reconstruction_ICP/data/04/adaptive_threshold_jpg\\04_slice_0036.jpg\n",
      "已处理并保存图像: D:/Code/CBCT_Reconstruction_ICP/data/04/adaptive_threshold_jpg\\04_slice_0037.jpg\n",
      "已处理并保存图像: D:/Code/CBCT_Reconstruction_ICP/data/04/adaptive_threshold_jpg\\04_slice_0038.jpg\n",
      "已处理并保存图像: D:/Code/CBCT_Reconstruction_ICP/data/04/adaptive_threshold_jpg\\04_slice_0039.jpg\n",
      "已处理并保存图像: D:/Code/CBCT_Reconstruction_ICP/data/04/adaptive_threshold_jpg\\04_slice_0040.jpg\n",
      "已处理并保存图像: D:/Code/CBCT_Reconstruction_ICP/data/04/adaptive_threshold_jpg\\04_slice_0041.jpg\n",
      "已处理并保存图像: D:/Code/CBCT_Reconstruction_ICP/data/04/adaptive_threshold_jpg\\04_slice_0042.jpg\n",
      "已处理并保存图像: D:/Code/CBCT_Reconstruction_ICP/data/04/adaptive_threshold_jpg\\04_slice_0043.jpg\n",
      "已处理并保存图像: D:/Code/CBCT_Reconstruction_ICP/data/04/adaptive_threshold_jpg\\04_slice_0044.jpg\n",
      "已处理并保存图像: D:/Code/CBCT_Reconstruction_ICP/data/04/adaptive_threshold_jpg\\04_slice_0045.jpg\n",
      "已处理并保存图像: D:/Code/CBCT_Reconstruction_ICP/data/04/adaptive_threshold_jpg\\04_slice_0046.jpg\n",
      "已处理并保存图像: D:/Code/CBCT_Reconstruction_ICP/data/04/adaptive_threshold_jpg\\04_slice_0047.jpg\n",
      "已处理并保存图像: D:/Code/CBCT_Reconstruction_ICP/data/04/adaptive_threshold_jpg\\04_slice_0048.jpg\n",
      "已处理并保存图像: D:/Code/CBCT_Reconstruction_ICP/data/04/adaptive_threshold_jpg\\04_slice_0049.jpg\n",
      "已处理并保存图像: D:/Code/CBCT_Reconstruction_ICP/data/04/adaptive_threshold_jpg\\04_slice_0050.jpg\n",
      "已处理并保存图像: D:/Code/CBCT_Reconstruction_ICP/data/04/adaptive_threshold_jpg\\04_slice_0051.jpg\n",
      "已处理并保存图像: D:/Code/CBCT_Reconstruction_ICP/data/04/adaptive_threshold_jpg\\04_slice_0052.jpg\n",
      "已处理并保存图像: D:/Code/CBCT_Reconstruction_ICP/data/04/adaptive_threshold_jpg\\04_slice_0053.jpg\n",
      "已处理并保存图像: D:/Code/CBCT_Reconstruction_ICP/data/04/adaptive_threshold_jpg\\04_slice_0054.jpg\n",
      "已处理并保存图像: D:/Code/CBCT_Reconstruction_ICP/data/04/adaptive_threshold_jpg\\04_slice_0055.jpg\n",
      "已处理并保存图像: D:/Code/CBCT_Reconstruction_ICP/data/04/adaptive_threshold_jpg\\04_slice_0056.jpg\n",
      "已处理并保存图像: D:/Code/CBCT_Reconstruction_ICP/data/04/adaptive_threshold_jpg\\04_slice_0057.jpg\n",
      "已处理并保存图像: D:/Code/CBCT_Reconstruction_ICP/data/04/adaptive_threshold_jpg\\04_slice_0058.jpg\n",
      "已处理并保存图像: D:/Code/CBCT_Reconstruction_ICP/data/04/adaptive_threshold_jpg\\04_slice_0059.jpg\n",
      "已处理并保存图像: D:/Code/CBCT_Reconstruction_ICP/data/04/adaptive_threshold_jpg\\04_slice_0060.jpg\n",
      "已处理并保存图像: D:/Code/CBCT_Reconstruction_ICP/data/04/adaptive_threshold_jpg\\04_slice_0061.jpg\n",
      "已处理并保存图像: D:/Code/CBCT_Reconstruction_ICP/data/04/adaptive_threshold_jpg\\04_slice_0062.jpg\n",
      "已处理并保存图像: D:/Code/CBCT_Reconstruction_ICP/data/04/adaptive_threshold_jpg\\04_slice_0063.jpg\n",
      "已处理并保存图像: D:/Code/CBCT_Reconstruction_ICP/data/04/adaptive_threshold_jpg\\04_slice_0064.jpg\n",
      "已处理并保存图像: D:/Code/CBCT_Reconstruction_ICP/data/04/adaptive_threshold_jpg\\04_slice_0065.jpg\n",
      "已处理并保存图像: D:/Code/CBCT_Reconstruction_ICP/data/04/adaptive_threshold_jpg\\04_slice_0066.jpg\n",
      "已处理并保存图像: D:/Code/CBCT_Reconstruction_ICP/data/04/adaptive_threshold_jpg\\04_slice_0067.jpg\n",
      "已处理并保存图像: D:/Code/CBCT_Reconstruction_ICP/data/04/adaptive_threshold_jpg\\04_slice_0068.jpg\n",
      "已处理并保存图像: D:/Code/CBCT_Reconstruction_ICP/data/04/adaptive_threshold_jpg\\04_slice_0069.jpg\n",
      "已处理并保存图像: D:/Code/CBCT_Reconstruction_ICP/data/04/adaptive_threshold_jpg\\04_slice_0070.jpg\n",
      "已处理并保存图像: D:/Code/CBCT_Reconstruction_ICP/data/04/adaptive_threshold_jpg\\04_slice_0071.jpg\n",
      "已处理并保存图像: D:/Code/CBCT_Reconstruction_ICP/data/04/adaptive_threshold_jpg\\04_slice_0072.jpg\n",
      "已处理并保存图像: D:/Code/CBCT_Reconstruction_ICP/data/04/adaptive_threshold_jpg\\04_slice_0073.jpg\n",
      "已处理并保存图像: D:/Code/CBCT_Reconstruction_ICP/data/04/adaptive_threshold_jpg\\04_slice_0074.jpg\n",
      "已处理并保存图像: D:/Code/CBCT_Reconstruction_ICP/data/04/adaptive_threshold_jpg\\04_slice_0075.jpg\n",
      "已处理并保存图像: D:/Code/CBCT_Reconstruction_ICP/data/04/adaptive_threshold_jpg\\04_slice_0076.jpg\n",
      "已处理并保存图像: D:/Code/CBCT_Reconstruction_ICP/data/04/adaptive_threshold_jpg\\04_slice_0077.jpg\n",
      "已处理并保存图像: D:/Code/CBCT_Reconstruction_ICP/data/04/adaptive_threshold_jpg\\04_slice_0078.jpg\n",
      "已处理并保存图像: D:/Code/CBCT_Reconstruction_ICP/data/04/adaptive_threshold_jpg\\04_slice_0079.jpg\n",
      "已处理并保存图像: D:/Code/CBCT_Reconstruction_ICP/data/04/adaptive_threshold_jpg\\04_slice_0080.jpg\n",
      "已处理并保存图像: D:/Code/CBCT_Reconstruction_ICP/data/04/adaptive_threshold_jpg\\04_slice_0081.jpg\n",
      "已处理并保存图像: D:/Code/CBCT_Reconstruction_ICP/data/04/adaptive_threshold_jpg\\04_slice_0082.jpg\n",
      "已处理并保存图像: D:/Code/CBCT_Reconstruction_ICP/data/04/adaptive_threshold_jpg\\04_slice_0083.jpg\n",
      "已处理并保存图像: D:/Code/CBCT_Reconstruction_ICP/data/04/adaptive_threshold_jpg\\04_slice_0084.jpg\n",
      "已处理并保存图像: D:/Code/CBCT_Reconstruction_ICP/data/04/adaptive_threshold_jpg\\04_slice_0085.jpg\n",
      "已处理并保存图像: D:/Code/CBCT_Reconstruction_ICP/data/04/adaptive_threshold_jpg\\04_slice_0086.jpg\n",
      "已处理并保存图像: D:/Code/CBCT_Reconstruction_ICP/data/04/adaptive_threshold_jpg\\04_slice_0087.jpg\n",
      "已处理并保存图像: D:/Code/CBCT_Reconstruction_ICP/data/04/adaptive_threshold_jpg\\04_slice_0088.jpg\n",
      "已处理并保存图像: D:/Code/CBCT_Reconstruction_ICP/data/04/adaptive_threshold_jpg\\04_slice_0089.jpg\n",
      "已处理并保存图像: D:/Code/CBCT_Reconstruction_ICP/data/04/adaptive_threshold_jpg\\04_slice_0090.jpg\n",
      "已处理并保存图像: D:/Code/CBCT_Reconstruction_ICP/data/04/adaptive_threshold_jpg\\04_slice_0091.jpg\n",
      "已处理并保存图像: D:/Code/CBCT_Reconstruction_ICP/data/04/adaptive_threshold_jpg\\04_slice_0092.jpg\n",
      "已处理并保存图像: D:/Code/CBCT_Reconstruction_ICP/data/04/adaptive_threshold_jpg\\04_slice_0093.jpg\n",
      "已处理并保存图像: D:/Code/CBCT_Reconstruction_ICP/data/04/adaptive_threshold_jpg\\04_slice_0094.jpg\n",
      "已处理并保存图像: D:/Code/CBCT_Reconstruction_ICP/data/04/adaptive_threshold_jpg\\04_slice_0095.jpg\n",
      "已处理并保存图像: D:/Code/CBCT_Reconstruction_ICP/data/04/adaptive_threshold_jpg\\04_slice_0096.jpg\n",
      "已处理并保存图像: D:/Code/CBCT_Reconstruction_ICP/data/04/adaptive_threshold_jpg\\04_slice_0097.jpg\n",
      "已处理并保存图像: D:/Code/CBCT_Reconstruction_ICP/data/04/adaptive_threshold_jpg\\04_slice_0098.jpg\n",
      "已处理并保存图像: D:/Code/CBCT_Reconstruction_ICP/data/04/adaptive_threshold_jpg\\04_slice_0099.jpg\n",
      "已处理并保存图像: D:/Code/CBCT_Reconstruction_ICP/data/04/adaptive_threshold_jpg\\04_slice_0100.jpg\n",
      "已处理并保存图像: D:/Code/CBCT_Reconstruction_ICP/data/04/adaptive_threshold_jpg\\04_slice_0101.jpg\n",
      "已处理并保存图像: D:/Code/CBCT_Reconstruction_ICP/data/04/adaptive_threshold_jpg\\04_slice_0102.jpg\n",
      "已处理并保存图像: D:/Code/CBCT_Reconstruction_ICP/data/04/adaptive_threshold_jpg\\04_slice_0103.jpg\n",
      "已处理并保存图像: D:/Code/CBCT_Reconstruction_ICP/data/04/adaptive_threshold_jpg\\04_slice_0104.jpg\n",
      "已处理并保存图像: D:/Code/CBCT_Reconstruction_ICP/data/04/adaptive_threshold_jpg\\04_slice_0105.jpg\n",
      "已处理并保存图像: D:/Code/CBCT_Reconstruction_ICP/data/04/adaptive_threshold_jpg\\04_slice_0106.jpg\n",
      "已处理并保存图像: D:/Code/CBCT_Reconstruction_ICP/data/04/adaptive_threshold_jpg\\04_slice_0107.jpg\n",
      "已处理并保存图像: D:/Code/CBCT_Reconstruction_ICP/data/04/adaptive_threshold_jpg\\04_slice_0108.jpg\n",
      "已处理并保存图像: D:/Code/CBCT_Reconstruction_ICP/data/04/adaptive_threshold_jpg\\04_slice_0109.jpg\n",
      "已处理并保存图像: D:/Code/CBCT_Reconstruction_ICP/data/04/adaptive_threshold_jpg\\04_slice_0110.jpg\n",
      "已处理并保存图像: D:/Code/CBCT_Reconstruction_ICP/data/04/adaptive_threshold_jpg\\04_slice_0111.jpg\n",
      "已处理并保存图像: D:/Code/CBCT_Reconstruction_ICP/data/04/adaptive_threshold_jpg\\04_slice_0112.jpg\n",
      "已处理并保存图像: D:/Code/CBCT_Reconstruction_ICP/data/04/adaptive_threshold_jpg\\04_slice_0113.jpg\n",
      "已处理并保存图像: D:/Code/CBCT_Reconstruction_ICP/data/04/adaptive_threshold_jpg\\04_slice_0114.jpg\n",
      "已处理并保存图像: D:/Code/CBCT_Reconstruction_ICP/data/04/adaptive_threshold_jpg\\04_slice_0115.jpg\n",
      "已处理并保存图像: D:/Code/CBCT_Reconstruction_ICP/data/04/adaptive_threshold_jpg\\04_slice_0116.jpg\n",
      "已处理并保存图像: D:/Code/CBCT_Reconstruction_ICP/data/04/adaptive_threshold_jpg\\04_slice_0117.jpg\n",
      "已处理并保存图像: D:/Code/CBCT_Reconstruction_ICP/data/04/adaptive_threshold_jpg\\04_slice_0118.jpg\n",
      "已处理并保存图像: D:/Code/CBCT_Reconstruction_ICP/data/04/adaptive_threshold_jpg\\04_slice_0119.jpg\n",
      "已处理并保存图像: D:/Code/CBCT_Reconstruction_ICP/data/04/adaptive_threshold_jpg\\04_slice_0120.jpg\n",
      "已处理并保存图像: D:/Code/CBCT_Reconstruction_ICP/data/04/adaptive_threshold_jpg\\04_slice_0121.jpg\n",
      "已处理并保存图像: D:/Code/CBCT_Reconstruction_ICP/data/04/adaptive_threshold_jpg\\04_slice_0122.jpg\n",
      "已处理并保存图像: D:/Code/CBCT_Reconstruction_ICP/data/04/adaptive_threshold_jpg\\04_slice_0123.jpg\n",
      "已处理并保存图像: D:/Code/CBCT_Reconstruction_ICP/data/04/adaptive_threshold_jpg\\04_slice_0124.jpg\n",
      "已处理并保存图像: D:/Code/CBCT_Reconstruction_ICP/data/04/adaptive_threshold_jpg\\04_slice_0125.jpg\n",
      "已处理并保存图像: D:/Code/CBCT_Reconstruction_ICP/data/04/adaptive_threshold_jpg\\04_slice_0126.jpg\n",
      "已处理并保存图像: D:/Code/CBCT_Reconstruction_ICP/data/04/adaptive_threshold_jpg\\04_slice_0127.jpg\n",
      "已处理并保存图像: D:/Code/CBCT_Reconstruction_ICP/data/04/adaptive_threshold_jpg\\04_slice_0128.jpg\n",
      "已处理并保存图像: D:/Code/CBCT_Reconstruction_ICP/data/04/adaptive_threshold_jpg\\04_slice_0129.jpg\n",
      "已处理并保存图像: D:/Code/CBCT_Reconstruction_ICP/data/04/adaptive_threshold_jpg\\04_slice_0130.jpg\n",
      "已处理并保存图像: D:/Code/CBCT_Reconstruction_ICP/data/04/adaptive_threshold_jpg\\04_slice_0131.jpg\n",
      "已处理并保存图像: D:/Code/CBCT_Reconstruction_ICP/data/04/adaptive_threshold_jpg\\04_slice_0132.jpg\n",
      "已处理并保存图像: D:/Code/CBCT_Reconstruction_ICP/data/04/adaptive_threshold_jpg\\04_slice_0133.jpg\n",
      "已处理并保存图像: D:/Code/CBCT_Reconstruction_ICP/data/04/adaptive_threshold_jpg\\04_slice_0134.jpg\n",
      "已处理并保存图像: D:/Code/CBCT_Reconstruction_ICP/data/04/adaptive_threshold_jpg\\04_slice_0135.jpg\n",
      "已处理并保存图像: D:/Code/CBCT_Reconstruction_ICP/data/04/adaptive_threshold_jpg\\04_slice_0136.jpg\n",
      "已处理并保存图像: D:/Code/CBCT_Reconstruction_ICP/data/04/adaptive_threshold_jpg\\04_slice_0137.jpg\n",
      "已处理并保存图像: D:/Code/CBCT_Reconstruction_ICP/data/04/adaptive_threshold_jpg\\04_slice_0138.jpg\n",
      "已处理并保存图像: D:/Code/CBCT_Reconstruction_ICP/data/04/adaptive_threshold_jpg\\04_slice_0139.jpg\n",
      "已处理并保存图像: D:/Code/CBCT_Reconstruction_ICP/data/04/adaptive_threshold_jpg\\04_slice_0140.jpg\n",
      "已处理并保存图像: D:/Code/CBCT_Reconstruction_ICP/data/04/adaptive_threshold_jpg\\04_slice_0141.jpg\n",
      "已处理并保存图像: D:/Code/CBCT_Reconstruction_ICP/data/04/adaptive_threshold_jpg\\04_slice_0142.jpg\n",
      "已处理并保存图像: D:/Code/CBCT_Reconstruction_ICP/data/04/adaptive_threshold_jpg\\04_slice_0143.jpg\n",
      "已处理并保存图像: D:/Code/CBCT_Reconstruction_ICP/data/04/adaptive_threshold_jpg\\04_slice_0144.jpg\n",
      "已处理并保存图像: D:/Code/CBCT_Reconstruction_ICP/data/04/adaptive_threshold_jpg\\04_slice_0145.jpg\n",
      "已处理并保存图像: D:/Code/CBCT_Reconstruction_ICP/data/04/adaptive_threshold_jpg\\04_slice_0146.jpg\n",
      "已处理并保存图像: D:/Code/CBCT_Reconstruction_ICP/data/04/adaptive_threshold_jpg\\04_slice_0147.jpg\n",
      "已处理并保存图像: D:/Code/CBCT_Reconstruction_ICP/data/04/adaptive_threshold_jpg\\04_slice_0148.jpg\n",
      "已处理并保存图像: D:/Code/CBCT_Reconstruction_ICP/data/04/adaptive_threshold_jpg\\04_slice_0149.jpg\n",
      "已处理并保存图像: D:/Code/CBCT_Reconstruction_ICP/data/04/adaptive_threshold_jpg\\04_slice_0150.jpg\n",
      "已处理并保存图像: D:/Code/CBCT_Reconstruction_ICP/data/04/adaptive_threshold_jpg\\04_slice_0151.jpg\n",
      "已处理并保存图像: D:/Code/CBCT_Reconstruction_ICP/data/04/adaptive_threshold_jpg\\04_slice_0152.jpg\n",
      "已处理并保存图像: D:/Code/CBCT_Reconstruction_ICP/data/04/adaptive_threshold_jpg\\04_slice_0153.jpg\n",
      "已处理并保存图像: D:/Code/CBCT_Reconstruction_ICP/data/04/adaptive_threshold_jpg\\04_slice_0154.jpg\n",
      "已处理并保存图像: D:/Code/CBCT_Reconstruction_ICP/data/04/adaptive_threshold_jpg\\04_slice_0155.jpg\n",
      "已处理并保存图像: D:/Code/CBCT_Reconstruction_ICP/data/04/adaptive_threshold_jpg\\04_slice_0156.jpg\n",
      "已处理并保存图像: D:/Code/CBCT_Reconstruction_ICP/data/04/adaptive_threshold_jpg\\04_slice_0157.jpg\n",
      "已处理并保存图像: D:/Code/CBCT_Reconstruction_ICP/data/04/adaptive_threshold_jpg\\04_slice_0158.jpg\n",
      "已处理并保存图像: D:/Code/CBCT_Reconstruction_ICP/data/04/adaptive_threshold_jpg\\04_slice_0159.jpg\n",
      "已处理并保存图像: D:/Code/CBCT_Reconstruction_ICP/data/04/adaptive_threshold_jpg\\04_slice_0160.jpg\n",
      "已处理并保存图像: D:/Code/CBCT_Reconstruction_ICP/data/04/adaptive_threshold_jpg\\04_slice_0161.jpg\n",
      "已处理并保存图像: D:/Code/CBCT_Reconstruction_ICP/data/04/adaptive_threshold_jpg\\04_slice_0162.jpg\n",
      "已处理并保存图像: D:/Code/CBCT_Reconstruction_ICP/data/04/adaptive_threshold_jpg\\04_slice_0163.jpg\n",
      "已处理并保存图像: D:/Code/CBCT_Reconstruction_ICP/data/04/adaptive_threshold_jpg\\04_slice_0164.jpg\n",
      "已处理并保存图像: D:/Code/CBCT_Reconstruction_ICP/data/04/adaptive_threshold_jpg\\04_slice_0165.jpg\n",
      "已处理并保存图像: D:/Code/CBCT_Reconstruction_ICP/data/04/adaptive_threshold_jpg\\04_slice_0166.jpg\n",
      "已处理并保存图像: D:/Code/CBCT_Reconstruction_ICP/data/04/adaptive_threshold_jpg\\04_slice_0167.jpg\n",
      "已处理并保存图像: D:/Code/CBCT_Reconstruction_ICP/data/04/adaptive_threshold_jpg\\04_slice_0168.jpg\n",
      "已处理并保存图像: D:/Code/CBCT_Reconstruction_ICP/data/04/adaptive_threshold_jpg\\04_slice_0169.jpg\n",
      "已处理并保存图像: D:/Code/CBCT_Reconstruction_ICP/data/04/adaptive_threshold_jpg\\04_slice_0170.jpg\n",
      "已处理并保存图像: D:/Code/CBCT_Reconstruction_ICP/data/04/adaptive_threshold_jpg\\04_slice_0171.jpg\n",
      "已处理并保存图像: D:/Code/CBCT_Reconstruction_ICP/data/04/adaptive_threshold_jpg\\04_slice_0172.jpg\n",
      "已处理并保存图像: D:/Code/CBCT_Reconstruction_ICP/data/04/adaptive_threshold_jpg\\04_slice_0173.jpg\n",
      "已处理并保存图像: D:/Code/CBCT_Reconstruction_ICP/data/04/adaptive_threshold_jpg\\04_slice_0174.jpg\n",
      "已处理并保存图像: D:/Code/CBCT_Reconstruction_ICP/data/04/adaptive_threshold_jpg\\04_slice_0175.jpg\n",
      "已处理并保存图像: D:/Code/CBCT_Reconstruction_ICP/data/04/adaptive_threshold_jpg\\04_slice_0176.jpg\n",
      "已处理并保存图像: D:/Code/CBCT_Reconstruction_ICP/data/04/adaptive_threshold_jpg\\04_slice_0177.jpg\n",
      "已处理并保存图像: D:/Code/CBCT_Reconstruction_ICP/data/04/adaptive_threshold_jpg\\04_slice_0178.jpg\n",
      "已处理并保存图像: D:/Code/CBCT_Reconstruction_ICP/data/04/adaptive_threshold_jpg\\04_slice_0179.jpg\n",
      "已处理并保存图像: D:/Code/CBCT_Reconstruction_ICP/data/04/adaptive_threshold_jpg\\04_slice_0180.jpg\n",
      "已处理并保存图像: D:/Code/CBCT_Reconstruction_ICP/data/04/adaptive_threshold_jpg\\04_slice_0181.jpg\n",
      "已处理并保存图像: D:/Code/CBCT_Reconstruction_ICP/data/04/adaptive_threshold_jpg\\04_slice_0182.jpg\n",
      "已处理并保存图像: D:/Code/CBCT_Reconstruction_ICP/data/04/adaptive_threshold_jpg\\04_slice_0183.jpg\n",
      "已处理并保存图像: D:/Code/CBCT_Reconstruction_ICP/data/04/adaptive_threshold_jpg\\04_slice_0184.jpg\n",
      "已处理并保存图像: D:/Code/CBCT_Reconstruction_ICP/data/04/adaptive_threshold_jpg\\04_slice_0185.jpg\n",
      "已处理并保存图像: D:/Code/CBCT_Reconstruction_ICP/data/04/adaptive_threshold_jpg\\04_slice_0186.jpg\n",
      "已处理并保存图像: D:/Code/CBCT_Reconstruction_ICP/data/04/adaptive_threshold_jpg\\04_slice_0187.jpg\n",
      "已处理并保存图像: D:/Code/CBCT_Reconstruction_ICP/data/04/adaptive_threshold_jpg\\04_slice_0188.jpg\n",
      "已处理并保存图像: D:/Code/CBCT_Reconstruction_ICP/data/04/adaptive_threshold_jpg\\04_slice_0189.jpg\n",
      "已处理并保存图像: D:/Code/CBCT_Reconstruction_ICP/data/04/adaptive_threshold_jpg\\04_slice_0190.jpg\n",
      "已处理并保存图像: D:/Code/CBCT_Reconstruction_ICP/data/04/adaptive_threshold_jpg\\04_slice_0191.jpg\n",
      "已处理并保存图像: D:/Code/CBCT_Reconstruction_ICP/data/04/adaptive_threshold_jpg\\04_slice_0192.jpg\n",
      "已处理并保存图像: D:/Code/CBCT_Reconstruction_ICP/data/04/adaptive_threshold_jpg\\04_slice_0193.jpg\n",
      "已处理并保存图像: D:/Code/CBCT_Reconstruction_ICP/data/04/adaptive_threshold_jpg\\04_slice_0194.jpg\n",
      "已处理并保存图像: D:/Code/CBCT_Reconstruction_ICP/data/04/adaptive_threshold_jpg\\04_slice_0195.jpg\n",
      "已处理并保存图像: D:/Code/CBCT_Reconstruction_ICP/data/04/adaptive_threshold_jpg\\04_slice_0196.jpg\n",
      "已处理并保存图像: D:/Code/CBCT_Reconstruction_ICP/data/04/adaptive_threshold_jpg\\04_slice_0197.jpg\n",
      "已处理并保存图像: D:/Code/CBCT_Reconstruction_ICP/data/04/adaptive_threshold_jpg\\04_slice_0198.jpg\n",
      "已处理并保存图像: D:/Code/CBCT_Reconstruction_ICP/data/04/adaptive_threshold_jpg\\04_slice_0199.jpg\n",
      "已处理并保存图像: D:/Code/CBCT_Reconstruction_ICP/data/04/adaptive_threshold_jpg\\04_slice_0200.jpg\n",
      "已处理并保存图像: D:/Code/CBCT_Reconstruction_ICP/data/04/adaptive_threshold_jpg\\04_slice_0201.jpg\n",
      "已处理并保存图像: D:/Code/CBCT_Reconstruction_ICP/data/04/adaptive_threshold_jpg\\04_slice_0202.jpg\n",
      "已处理并保存图像: D:/Code/CBCT_Reconstruction_ICP/data/04/adaptive_threshold_jpg\\04_slice_0203.jpg\n",
      "已处理并保存图像: D:/Code/CBCT_Reconstruction_ICP/data/04/adaptive_threshold_jpg\\04_slice_0204.jpg\n",
      "已处理并保存图像: D:/Code/CBCT_Reconstruction_ICP/data/04/adaptive_threshold_jpg\\04_slice_0205.jpg\n",
      "已处理并保存图像: D:/Code/CBCT_Reconstruction_ICP/data/04/adaptive_threshold_jpg\\04_slice_0206.jpg\n",
      "已处理并保存图像: D:/Code/CBCT_Reconstruction_ICP/data/04/adaptive_threshold_jpg\\04_slice_0207.jpg\n",
      "已处理并保存图像: D:/Code/CBCT_Reconstruction_ICP/data/04/adaptive_threshold_jpg\\04_slice_0208.jpg\n",
      "已处理并保存图像: D:/Code/CBCT_Reconstruction_ICP/data/04/adaptive_threshold_jpg\\04_slice_0209.jpg\n",
      "已处理并保存图像: D:/Code/CBCT_Reconstruction_ICP/data/04/adaptive_threshold_jpg\\04_slice_0210.jpg\n",
      "已处理并保存图像: D:/Code/CBCT_Reconstruction_ICP/data/04/adaptive_threshold_jpg\\04_slice_0211.jpg\n",
      "已处理并保存图像: D:/Code/CBCT_Reconstruction_ICP/data/04/adaptive_threshold_jpg\\04_slice_0212.jpg\n",
      "已处理并保存图像: D:/Code/CBCT_Reconstruction_ICP/data/04/adaptive_threshold_jpg\\04_slice_0213.jpg\n",
      "已处理并保存图像: D:/Code/CBCT_Reconstruction_ICP/data/04/adaptive_threshold_jpg\\04_slice_0214.jpg\n",
      "已处理并保存图像: D:/Code/CBCT_Reconstruction_ICP/data/04/adaptive_threshold_jpg\\04_slice_0215.jpg\n",
      "已处理并保存图像: D:/Code/CBCT_Reconstruction_ICP/data/04/adaptive_threshold_jpg\\04_slice_0216.jpg\n",
      "已处理并保存图像: D:/Code/CBCT_Reconstruction_ICP/data/04/adaptive_threshold_jpg\\04_slice_0217.jpg\n",
      "已处理并保存图像: D:/Code/CBCT_Reconstruction_ICP/data/04/adaptive_threshold_jpg\\04_slice_0218.jpg\n",
      "已处理并保存图像: D:/Code/CBCT_Reconstruction_ICP/data/04/adaptive_threshold_jpg\\04_slice_0219.jpg\n",
      "已处理并保存图像: D:/Code/CBCT_Reconstruction_ICP/data/04/adaptive_threshold_jpg\\04_slice_0220.jpg\n",
      "已处理并保存图像: D:/Code/CBCT_Reconstruction_ICP/data/04/adaptive_threshold_jpg\\04_slice_0221.jpg\n",
      "已处理并保存图像: D:/Code/CBCT_Reconstruction_ICP/data/04/adaptive_threshold_jpg\\04_slice_0222.jpg\n",
      "已处理并保存图像: D:/Code/CBCT_Reconstruction_ICP/data/04/adaptive_threshold_jpg\\04_slice_0223.jpg\n",
      "已处理并保存图像: D:/Code/CBCT_Reconstruction_ICP/data/04/adaptive_threshold_jpg\\04_slice_0224.jpg\n",
      "已处理并保存图像: D:/Code/CBCT_Reconstruction_ICP/data/04/adaptive_threshold_jpg\\04_slice_0225.jpg\n",
      "已处理并保存图像: D:/Code/CBCT_Reconstruction_ICP/data/04/adaptive_threshold_jpg\\04_slice_0226.jpg\n",
      "已处理并保存图像: D:/Code/CBCT_Reconstruction_ICP/data/04/adaptive_threshold_jpg\\04_slice_0227.jpg\n",
      "已处理并保存图像: D:/Code/CBCT_Reconstruction_ICP/data/04/adaptive_threshold_jpg\\04_slice_0228.jpg\n",
      "已处理并保存图像: D:/Code/CBCT_Reconstruction_ICP/data/04/adaptive_threshold_jpg\\04_slice_0229.jpg\n",
      "已处理并保存图像: D:/Code/CBCT_Reconstruction_ICP/data/04/adaptive_threshold_jpg\\04_slice_0230.jpg\n",
      "已处理并保存图像: D:/Code/CBCT_Reconstruction_ICP/data/04/adaptive_threshold_jpg\\04_slice_0231.jpg\n",
      "已处理并保存图像: D:/Code/CBCT_Reconstruction_ICP/data/04/adaptive_threshold_jpg\\04_slice_0232.jpg\n",
      "已处理并保存图像: D:/Code/CBCT_Reconstruction_ICP/data/04/adaptive_threshold_jpg\\04_slice_0233.jpg\n",
      "已处理并保存图像: D:/Code/CBCT_Reconstruction_ICP/data/04/adaptive_threshold_jpg\\04_slice_0234.jpg\n",
      "已处理并保存图像: D:/Code/CBCT_Reconstruction_ICP/data/04/adaptive_threshold_jpg\\04_slice_0235.jpg\n",
      "已处理并保存图像: D:/Code/CBCT_Reconstruction_ICP/data/04/adaptive_threshold_jpg\\04_slice_0236.jpg\n",
      "已处理并保存图像: D:/Code/CBCT_Reconstruction_ICP/data/04/adaptive_threshold_jpg\\04_slice_0237.jpg\n",
      "已处理并保存图像: D:/Code/CBCT_Reconstruction_ICP/data/04/adaptive_threshold_jpg\\04_slice_0238.jpg\n",
      "已处理并保存图像: D:/Code/CBCT_Reconstruction_ICP/data/04/adaptive_threshold_jpg\\04_slice_0239.jpg\n",
      "已处理并保存图像: D:/Code/CBCT_Reconstruction_ICP/data/04/adaptive_threshold_jpg\\04_slice_0240.jpg\n",
      "已处理并保存图像: D:/Code/CBCT_Reconstruction_ICP/data/04/adaptive_threshold_jpg\\04_slice_0241.jpg\n",
      "已处理并保存图像: D:/Code/CBCT_Reconstruction_ICP/data/04/adaptive_threshold_jpg\\04_slice_0242.jpg\n",
      "已处理并保存图像: D:/Code/CBCT_Reconstruction_ICP/data/04/adaptive_threshold_jpg\\04_slice_0243.jpg\n",
      "已处理并保存图像: D:/Code/CBCT_Reconstruction_ICP/data/04/adaptive_threshold_jpg\\04_slice_0244.jpg\n",
      "已处理并保存图像: D:/Code/CBCT_Reconstruction_ICP/data/04/adaptive_threshold_jpg\\04_slice_0245.jpg\n",
      "已处理并保存图像: D:/Code/CBCT_Reconstruction_ICP/data/04/adaptive_threshold_jpg\\04_slice_0246.jpg\n",
      "已处理并保存图像: D:/Code/CBCT_Reconstruction_ICP/data/04/adaptive_threshold_jpg\\04_slice_0247.jpg\n",
      "已处理并保存图像: D:/Code/CBCT_Reconstruction_ICP/data/04/adaptive_threshold_jpg\\04_slice_0248.jpg\n",
      "已处理并保存图像: D:/Code/CBCT_Reconstruction_ICP/data/04/adaptive_threshold_jpg\\04_slice_0249.jpg\n",
      "已处理并保存图像: D:/Code/CBCT_Reconstruction_ICP/data/04/adaptive_threshold_jpg\\04_slice_0250.jpg\n",
      "已处理并保存图像: D:/Code/CBCT_Reconstruction_ICP/data/04/adaptive_threshold_jpg\\04_slice_0251.jpg\n",
      "已处理并保存图像: D:/Code/CBCT_Reconstruction_ICP/data/04/adaptive_threshold_jpg\\04_slice_0252.jpg\n",
      "已处理并保存图像: D:/Code/CBCT_Reconstruction_ICP/data/04/adaptive_threshold_jpg\\04_slice_0253.jpg\n",
      "已处理并保存图像: D:/Code/CBCT_Reconstruction_ICP/data/04/adaptive_threshold_jpg\\04_slice_0254.jpg\n",
      "已处理并保存图像: D:/Code/CBCT_Reconstruction_ICP/data/04/adaptive_threshold_jpg\\04_slice_0255.jpg\n",
      "已处理并保存图像: D:/Code/CBCT_Reconstruction_ICP/data/04/adaptive_threshold_jpg\\04_slice_0256.jpg\n",
      "已处理并保存图像: D:/Code/CBCT_Reconstruction_ICP/data/04/adaptive_threshold_jpg\\04_slice_0257.jpg\n",
      "已处理并保存图像: D:/Code/CBCT_Reconstruction_ICP/data/04/adaptive_threshold_jpg\\04_slice_0258.jpg\n",
      "已处理并保存图像: D:/Code/CBCT_Reconstruction_ICP/data/04/adaptive_threshold_jpg\\04_slice_0259.jpg\n",
      "已处理并保存图像: D:/Code/CBCT_Reconstruction_ICP/data/04/adaptive_threshold_jpg\\04_slice_0260.jpg\n",
      "已处理并保存图像: D:/Code/CBCT_Reconstruction_ICP/data/04/adaptive_threshold_jpg\\04_slice_0261.jpg\n",
      "已处理并保存图像: D:/Code/CBCT_Reconstruction_ICP/data/04/adaptive_threshold_jpg\\04_slice_0262.jpg\n",
      "已处理并保存图像: D:/Code/CBCT_Reconstruction_ICP/data/04/adaptive_threshold_jpg\\04_slice_0263.jpg\n",
      "已处理并保存图像: D:/Code/CBCT_Reconstruction_ICP/data/04/adaptive_threshold_jpg\\04_slice_0264.jpg\n",
      "已处理并保存图像: D:/Code/CBCT_Reconstruction_ICP/data/04/adaptive_threshold_jpg\\04_slice_0265.jpg\n",
      "已处理并保存图像: D:/Code/CBCT_Reconstruction_ICP/data/04/adaptive_threshold_jpg\\04_slice_0266.jpg\n",
      "已处理并保存图像: D:/Code/CBCT_Reconstruction_ICP/data/04/adaptive_threshold_jpg\\04_slice_0267.jpg\n",
      "已处理并保存图像: D:/Code/CBCT_Reconstruction_ICP/data/04/adaptive_threshold_jpg\\04_slice_0268.jpg\n",
      "已处理并保存图像: D:/Code/CBCT_Reconstruction_ICP/data/04/adaptive_threshold_jpg\\04_slice_0269.jpg\n",
      "已处理并保存图像: D:/Code/CBCT_Reconstruction_ICP/data/04/adaptive_threshold_jpg\\04_slice_0270.jpg\n",
      "已处理并保存图像: D:/Code/CBCT_Reconstruction_ICP/data/04/adaptive_threshold_jpg\\04_slice_0271.jpg\n",
      "已处理并保存图像: D:/Code/CBCT_Reconstruction_ICP/data/04/adaptive_threshold_jpg\\04_slice_0272.jpg\n",
      "已处理并保存图像: D:/Code/CBCT_Reconstruction_ICP/data/04/adaptive_threshold_jpg\\04_slice_0273.jpg\n",
      "已处理并保存图像: D:/Code/CBCT_Reconstruction_ICP/data/04/adaptive_threshold_jpg\\04_slice_0274.jpg\n",
      "已处理并保存图像: D:/Code/CBCT_Reconstruction_ICP/data/04/adaptive_threshold_jpg\\04_slice_0275.jpg\n",
      "已处理并保存图像: D:/Code/CBCT_Reconstruction_ICP/data/04/adaptive_threshold_jpg\\04_slice_0276.jpg\n",
      "已处理并保存图像: D:/Code/CBCT_Reconstruction_ICP/data/04/adaptive_threshold_jpg\\04_slice_0277.jpg\n",
      "已处理并保存图像: D:/Code/CBCT_Reconstruction_ICP/data/04/adaptive_threshold_jpg\\04_slice_0278.jpg\n",
      "已处理并保存图像: D:/Code/CBCT_Reconstruction_ICP/data/04/adaptive_threshold_jpg\\04_slice_0279.jpg\n",
      "已处理并保存图像: D:/Code/CBCT_Reconstruction_ICP/data/04/adaptive_threshold_jpg\\04_slice_0280.jpg\n",
      "已处理并保存图像: D:/Code/CBCT_Reconstruction_ICP/data/04/adaptive_threshold_jpg\\04_slice_0281.jpg\n",
      "已处理并保存图像: D:/Code/CBCT_Reconstruction_ICP/data/04/adaptive_threshold_jpg\\04_slice_0282.jpg\n",
      "已处理并保存图像: D:/Code/CBCT_Reconstruction_ICP/data/04/adaptive_threshold_jpg\\04_slice_0283.jpg\n",
      "已处理并保存图像: D:/Code/CBCT_Reconstruction_ICP/data/04/adaptive_threshold_jpg\\04_slice_0284.jpg\n",
      "已处理并保存图像: D:/Code/CBCT_Reconstruction_ICP/data/04/adaptive_threshold_jpg\\04_slice_0285.jpg\n",
      "已处理并保存图像: D:/Code/CBCT_Reconstruction_ICP/data/04/adaptive_threshold_jpg\\04_slice_0286.jpg\n",
      "已处理并保存图像: D:/Code/CBCT_Reconstruction_ICP/data/04/adaptive_threshold_jpg\\04_slice_0287.jpg\n",
      "已处理并保存图像: D:/Code/CBCT_Reconstruction_ICP/data/04/adaptive_threshold_jpg\\04_slice_0288.jpg\n",
      "已处理并保存图像: D:/Code/CBCT_Reconstruction_ICP/data/04/adaptive_threshold_jpg\\04_slice_0289.jpg\n",
      "已处理并保存图像: D:/Code/CBCT_Reconstruction_ICP/data/04/adaptive_threshold_jpg\\04_slice_0290.jpg\n",
      "已处理并保存图像: D:/Code/CBCT_Reconstruction_ICP/data/04/adaptive_threshold_jpg\\04_slice_0291.jpg\n",
      "已处理并保存图像: D:/Code/CBCT_Reconstruction_ICP/data/04/adaptive_threshold_jpg\\04_slice_0292.jpg\n",
      "已处理并保存图像: D:/Code/CBCT_Reconstruction_ICP/data/04/adaptive_threshold_jpg\\04_slice_0293.jpg\n",
      "已处理并保存图像: D:/Code/CBCT_Reconstruction_ICP/data/04/adaptive_threshold_jpg\\04_slice_0294.jpg\n",
      "已处理并保存图像: D:/Code/CBCT_Reconstruction_ICP/data/04/adaptive_threshold_jpg\\04_slice_0295.jpg\n",
      "已处理并保存图像: D:/Code/CBCT_Reconstruction_ICP/data/04/adaptive_threshold_jpg\\04_slice_0296.jpg\n",
      "已处理并保存图像: D:/Code/CBCT_Reconstruction_ICP/data/04/adaptive_threshold_jpg\\04_slice_0297.jpg\n",
      "已处理并保存图像: D:/Code/CBCT_Reconstruction_ICP/data/04/adaptive_threshold_jpg\\04_slice_0298.jpg\n",
      "已处理并保存图像: D:/Code/CBCT_Reconstruction_ICP/data/04/adaptive_threshold_jpg\\04_slice_0299.jpg\n",
      "已处理并保存图像: D:/Code/CBCT_Reconstruction_ICP/data/04/adaptive_threshold_jpg\\04_slice_0300.jpg\n",
      "已处理并保存图像: D:/Code/CBCT_Reconstruction_ICP/data/04/adaptive_threshold_jpg\\04_slice_0301.jpg\n",
      "已处理并保存图像: D:/Code/CBCT_Reconstruction_ICP/data/04/adaptive_threshold_jpg\\04_slice_0302.jpg\n",
      "已处理并保存图像: D:/Code/CBCT_Reconstruction_ICP/data/04/adaptive_threshold_jpg\\04_slice_0303.jpg\n",
      "已处理并保存图像: D:/Code/CBCT_Reconstruction_ICP/data/04/adaptive_threshold_jpg\\04_slice_0304.jpg\n",
      "已处理并保存图像: D:/Code/CBCT_Reconstruction_ICP/data/04/adaptive_threshold_jpg\\04_slice_0305.jpg\n",
      "已处理并保存图像: D:/Code/CBCT_Reconstruction_ICP/data/04/adaptive_threshold_jpg\\04_slice_0306.jpg\n",
      "已处理并保存图像: D:/Code/CBCT_Reconstruction_ICP/data/04/adaptive_threshold_jpg\\04_slice_0307.jpg\n",
      "已处理并保存图像: D:/Code/CBCT_Reconstruction_ICP/data/04/adaptive_threshold_jpg\\04_slice_0308.jpg\n",
      "已处理并保存图像: D:/Code/CBCT_Reconstruction_ICP/data/04/adaptive_threshold_jpg\\04_slice_0309.jpg\n",
      "已处理并保存图像: D:/Code/CBCT_Reconstruction_ICP/data/04/adaptive_threshold_jpg\\04_slice_0310.jpg\n",
      "已处理并保存图像: D:/Code/CBCT_Reconstruction_ICP/data/04/adaptive_threshold_jpg\\04_slice_0311.jpg\n",
      "已处理并保存图像: D:/Code/CBCT_Reconstruction_ICP/data/04/adaptive_threshold_jpg\\04_slice_0312.jpg\n",
      "已处理并保存图像: D:/Code/CBCT_Reconstruction_ICP/data/04/adaptive_threshold_jpg\\04_slice_0313.jpg\n",
      "已处理并保存图像: D:/Code/CBCT_Reconstruction_ICP/data/04/adaptive_threshold_jpg\\04_slice_0314.jpg\n",
      "已处理并保存图像: D:/Code/CBCT_Reconstruction_ICP/data/04/adaptive_threshold_jpg\\04_slice_0315.jpg\n",
      "已处理并保存图像: D:/Code/CBCT_Reconstruction_ICP/data/04/adaptive_threshold_jpg\\04_slice_0316.jpg\n",
      "已处理并保存图像: D:/Code/CBCT_Reconstruction_ICP/data/04/adaptive_threshold_jpg\\04_slice_0317.jpg\n",
      "已处理并保存图像: D:/Code/CBCT_Reconstruction_ICP/data/04/adaptive_threshold_jpg\\04_slice_0318.jpg\n",
      "已处理并保存图像: D:/Code/CBCT_Reconstruction_ICP/data/04/adaptive_threshold_jpg\\04_slice_0319.jpg\n",
      "已处理并保存图像: D:/Code/CBCT_Reconstruction_ICP/data/04/adaptive_threshold_jpg\\04_slice_0320.jpg\n",
      "已处理并保存图像: D:/Code/CBCT_Reconstruction_ICP/data/04/adaptive_threshold_jpg\\04_slice_0321.jpg\n",
      "已处理并保存图像: D:/Code/CBCT_Reconstruction_ICP/data/04/adaptive_threshold_jpg\\04_slice_0322.jpg\n",
      "已处理并保存图像: D:/Code/CBCT_Reconstruction_ICP/data/04/adaptive_threshold_jpg\\04_slice_0323.jpg\n",
      "已处理并保存图像: D:/Code/CBCT_Reconstruction_ICP/data/04/adaptive_threshold_jpg\\04_slice_0324.jpg\n",
      "已处理并保存图像: D:/Code/CBCT_Reconstruction_ICP/data/04/adaptive_threshold_jpg\\04_slice_0325.jpg\n",
      "已处理并保存图像: D:/Code/CBCT_Reconstruction_ICP/data/04/adaptive_threshold_jpg\\04_slice_0326.jpg\n",
      "已处理并保存图像: D:/Code/CBCT_Reconstruction_ICP/data/04/adaptive_threshold_jpg\\04_slice_0327.jpg\n",
      "已处理并保存图像: D:/Code/CBCT_Reconstruction_ICP/data/04/adaptive_threshold_jpg\\04_slice_0328.jpg\n",
      "已处理并保存图像: D:/Code/CBCT_Reconstruction_ICP/data/04/adaptive_threshold_jpg\\04_slice_0329.jpg\n",
      "已处理并保存图像: D:/Code/CBCT_Reconstruction_ICP/data/04/adaptive_threshold_jpg\\04_slice_0330.jpg\n",
      "已处理并保存图像: D:/Code/CBCT_Reconstruction_ICP/data/04/adaptive_threshold_jpg\\04_slice_0331.jpg\n",
      "已处理并保存图像: D:/Code/CBCT_Reconstruction_ICP/data/04/adaptive_threshold_jpg\\04_slice_0332.jpg\n",
      "已处理并保存图像: D:/Code/CBCT_Reconstruction_ICP/data/04/adaptive_threshold_jpg\\04_slice_0333.jpg\n",
      "已处理并保存图像: D:/Code/CBCT_Reconstruction_ICP/data/04/adaptive_threshold_jpg\\04_slice_0334.jpg\n",
      "已处理并保存图像: D:/Code/CBCT_Reconstruction_ICP/data/04/adaptive_threshold_jpg\\04_slice_0335.jpg\n",
      "已处理并保存图像: D:/Code/CBCT_Reconstruction_ICP/data/04/adaptive_threshold_jpg\\04_slice_0336.jpg\n",
      "已处理并保存图像: D:/Code/CBCT_Reconstruction_ICP/data/04/adaptive_threshold_jpg\\04_slice_0337.jpg\n",
      "已处理并保存图像: D:/Code/CBCT_Reconstruction_ICP/data/04/adaptive_threshold_jpg\\04_slice_0338.jpg\n",
      "已处理并保存图像: D:/Code/CBCT_Reconstruction_ICP/data/04/adaptive_threshold_jpg\\04_slice_0339.jpg\n",
      "已处理并保存图像: D:/Code/CBCT_Reconstruction_ICP/data/04/adaptive_threshold_jpg\\04_slice_0340.jpg\n",
      "已处理并保存图像: D:/Code/CBCT_Reconstruction_ICP/data/04/adaptive_threshold_jpg\\04_slice_0341.jpg\n",
      "已处理并保存图像: D:/Code/CBCT_Reconstruction_ICP/data/04/adaptive_threshold_jpg\\04_slice_0342.jpg\n",
      "已处理并保存图像: D:/Code/CBCT_Reconstruction_ICP/data/04/adaptive_threshold_jpg\\04_slice_0343.jpg\n",
      "已处理并保存图像: D:/Code/CBCT_Reconstruction_ICP/data/04/adaptive_threshold_jpg\\04_slice_0344.jpg\n",
      "已处理并保存图像: D:/Code/CBCT_Reconstruction_ICP/data/04/adaptive_threshold_jpg\\04_slice_0345.jpg\n",
      "已处理并保存图像: D:/Code/CBCT_Reconstruction_ICP/data/04/adaptive_threshold_jpg\\04_slice_0346.jpg\n",
      "已处理并保存图像: D:/Code/CBCT_Reconstruction_ICP/data/04/adaptive_threshold_jpg\\04_slice_0347.jpg\n",
      "已处理并保存图像: D:/Code/CBCT_Reconstruction_ICP/data/04/adaptive_threshold_jpg\\04_slice_0348.jpg\n",
      "已处理并保存图像: D:/Code/CBCT_Reconstruction_ICP/data/04/adaptive_threshold_jpg\\04_slice_0349.jpg\n",
      "已处理并保存图像: D:/Code/CBCT_Reconstruction_ICP/data/04/adaptive_threshold_jpg\\04_slice_0350.jpg\n",
      "已处理并保存图像: D:/Code/CBCT_Reconstruction_ICP/data/04/adaptive_threshold_jpg\\04_slice_0351.jpg\n",
      "已处理并保存图像: D:/Code/CBCT_Reconstruction_ICP/data/04/adaptive_threshold_jpg\\04_slice_0352.jpg\n",
      "已处理并保存图像: D:/Code/CBCT_Reconstruction_ICP/data/04/adaptive_threshold_jpg\\04_slice_0353.jpg\n",
      "已处理并保存图像: D:/Code/CBCT_Reconstruction_ICP/data/04/adaptive_threshold_jpg\\04_slice_0354.jpg\n",
      "已处理并保存图像: D:/Code/CBCT_Reconstruction_ICP/data/04/adaptive_threshold_jpg\\04_slice_0355.jpg\n",
      "已处理并保存图像: D:/Code/CBCT_Reconstruction_ICP/data/04/adaptive_threshold_jpg\\04_slice_0356.jpg\n",
      "已处理并保存图像: D:/Code/CBCT_Reconstruction_ICP/data/04/adaptive_threshold_jpg\\04_slice_0357.jpg\n",
      "已处理并保存图像: D:/Code/CBCT_Reconstruction_ICP/data/04/adaptive_threshold_jpg\\04_slice_0358.jpg\n",
      "已处理并保存图像: D:/Code/CBCT_Reconstruction_ICP/data/04/adaptive_threshold_jpg\\04_slice_0359.jpg\n",
      "已处理并保存图像: D:/Code/CBCT_Reconstruction_ICP/data/04/adaptive_threshold_jpg\\04_slice_0360.jpg\n",
      "已处理并保存图像: D:/Code/CBCT_Reconstruction_ICP/data/04/adaptive_threshold_jpg\\04_slice_0361.jpg\n",
      "已处理并保存图像: D:/Code/CBCT_Reconstruction_ICP/data/04/adaptive_threshold_jpg\\04_slice_0362.jpg\n",
      "已处理并保存图像: D:/Code/CBCT_Reconstruction_ICP/data/04/adaptive_threshold_jpg\\04_slice_0363.jpg\n",
      "已处理并保存图像: D:/Code/CBCT_Reconstruction_ICP/data/04/adaptive_threshold_jpg\\04_slice_0364.jpg\n",
      "已处理并保存图像: D:/Code/CBCT_Reconstruction_ICP/data/04/adaptive_threshold_jpg\\04_slice_0365.jpg\n",
      "已处理并保存图像: D:/Code/CBCT_Reconstruction_ICP/data/04/adaptive_threshold_jpg\\04_slice_0366.jpg\n",
      "已处理并保存图像: D:/Code/CBCT_Reconstruction_ICP/data/04/adaptive_threshold_jpg\\04_slice_0367.jpg\n",
      "已处理并保存图像: D:/Code/CBCT_Reconstruction_ICP/data/04/adaptive_threshold_jpg\\04_slice_0368.jpg\n",
      "已处理并保存图像: D:/Code/CBCT_Reconstruction_ICP/data/04/adaptive_threshold_jpg\\04_slice_0369.jpg\n",
      "已处理并保存图像: D:/Code/CBCT_Reconstruction_ICP/data/04/adaptive_threshold_jpg\\04_slice_0370.jpg\n",
      "已处理并保存图像: D:/Code/CBCT_Reconstruction_ICP/data/04/adaptive_threshold_jpg\\04_slice_0371.jpg\n",
      "已处理并保存图像: D:/Code/CBCT_Reconstruction_ICP/data/04/adaptive_threshold_jpg\\04_slice_0372.jpg\n",
      "已处理并保存图像: D:/Code/CBCT_Reconstruction_ICP/data/04/adaptive_threshold_jpg\\04_slice_0373.jpg\n",
      "已处理并保存图像: D:/Code/CBCT_Reconstruction_ICP/data/04/adaptive_threshold_jpg\\04_slice_0374.jpg\n",
      "已处理并保存图像: D:/Code/CBCT_Reconstruction_ICP/data/04/adaptive_threshold_jpg\\04_slice_0375.jpg\n",
      "已处理并保存图像: D:/Code/CBCT_Reconstruction_ICP/data/04/adaptive_threshold_jpg\\04_slice_0376.jpg\n",
      "已处理并保存图像: D:/Code/CBCT_Reconstruction_ICP/data/04/adaptive_threshold_jpg\\04_slice_0377.jpg\n",
      "已处理并保存图像: D:/Code/CBCT_Reconstruction_ICP/data/04/adaptive_threshold_jpg\\04_slice_0378.jpg\n",
      "已处理并保存图像: D:/Code/CBCT_Reconstruction_ICP/data/04/adaptive_threshold_jpg\\04_slice_0379.jpg\n",
      "已处理并保存图像: D:/Code/CBCT_Reconstruction_ICP/data/04/adaptive_threshold_jpg\\04_slice_0380.jpg\n",
      "已处理并保存图像: D:/Code/CBCT_Reconstruction_ICP/data/04/adaptive_threshold_jpg\\04_slice_0381.jpg\n",
      "已处理并保存图像: D:/Code/CBCT_Reconstruction_ICP/data/04/adaptive_threshold_jpg\\04_slice_0382.jpg\n",
      "已处理并保存图像: D:/Code/CBCT_Reconstruction_ICP/data/04/adaptive_threshold_jpg\\04_slice_0383.jpg\n",
      "已处理并保存图像: D:/Code/CBCT_Reconstruction_ICP/data/04/adaptive_threshold_jpg\\04_slice_0384.jpg\n",
      "已处理并保存图像: D:/Code/CBCT_Reconstruction_ICP/data/04/adaptive_threshold_jpg\\04_slice_0385.jpg\n",
      "已处理并保存图像: D:/Code/CBCT_Reconstruction_ICP/data/04/adaptive_threshold_jpg\\04_slice_0386.jpg\n",
      "已处理并保存图像: D:/Code/CBCT_Reconstruction_ICP/data/04/adaptive_threshold_jpg\\04_slice_0387.jpg\n",
      "已处理并保存图像: D:/Code/CBCT_Reconstruction_ICP/data/04/adaptive_threshold_jpg\\04_slice_0388.jpg\n",
      "已处理并保存图像: D:/Code/CBCT_Reconstruction_ICP/data/04/adaptive_threshold_jpg\\04_slice_0389.jpg\n",
      "已处理并保存图像: D:/Code/CBCT_Reconstruction_ICP/data/04/adaptive_threshold_jpg\\04_slice_0390.jpg\n",
      "已处理并保存图像: D:/Code/CBCT_Reconstruction_ICP/data/04/adaptive_threshold_jpg\\04_slice_0391.jpg\n",
      "已处理并保存图像: D:/Code/CBCT_Reconstruction_ICP/data/04/adaptive_threshold_jpg\\04_slice_0392.jpg\n",
      "已处理并保存图像: D:/Code/CBCT_Reconstruction_ICP/data/04/adaptive_threshold_jpg\\04_slice_0393.jpg\n",
      "已处理并保存图像: D:/Code/CBCT_Reconstruction_ICP/data/04/adaptive_threshold_jpg\\04_slice_0394.jpg\n",
      "已处理并保存图像: D:/Code/CBCT_Reconstruction_ICP/data/04/adaptive_threshold_jpg\\04_slice_0395.jpg\n",
      "已处理并保存图像: D:/Code/CBCT_Reconstruction_ICP/data/04/adaptive_threshold_jpg\\04_slice_0396.jpg\n",
      "已处理并保存图像: D:/Code/CBCT_Reconstruction_ICP/data/04/adaptive_threshold_jpg\\04_slice_0397.jpg\n",
      "已处理并保存图像: D:/Code/CBCT_Reconstruction_ICP/data/04/adaptive_threshold_jpg\\04_slice_0398.jpg\n",
      "已处理并保存图像: D:/Code/CBCT_Reconstruction_ICP/data/04/adaptive_threshold_jpg\\04_slice_0399.jpg\n",
      "已处理并保存图像: D:/Code/CBCT_Reconstruction_ICP/data/04/adaptive_threshold_jpg\\04_slice_0400.jpg\n",
      "已处理并保存图像: D:/Code/CBCT_Reconstruction_ICP/data/04/adaptive_threshold_jpg\\04_slice_0401.jpg\n",
      "已处理并保存图像: D:/Code/CBCT_Reconstruction_ICP/data/04/adaptive_threshold_jpg\\04_slice_0402.jpg\n",
      "已处理并保存图像: D:/Code/CBCT_Reconstruction_ICP/data/04/adaptive_threshold_jpg\\04_slice_0403.jpg\n",
      "已处理并保存图像: D:/Code/CBCT_Reconstruction_ICP/data/04/adaptive_threshold_jpg\\04_slice_0404.jpg\n",
      "已处理并保存图像: D:/Code/CBCT_Reconstruction_ICP/data/04/adaptive_threshold_jpg\\04_slice_0405.jpg\n",
      "已处理并保存图像: D:/Code/CBCT_Reconstruction_ICP/data/04/adaptive_threshold_jpg\\04_slice_0406.jpg\n",
      "已处理并保存图像: D:/Code/CBCT_Reconstruction_ICP/data/04/adaptive_threshold_jpg\\04_slice_0407.jpg\n",
      "已处理并保存图像: D:/Code/CBCT_Reconstruction_ICP/data/04/adaptive_threshold_jpg\\04_slice_0408.jpg\n",
      "已处理并保存图像: D:/Code/CBCT_Reconstruction_ICP/data/04/adaptive_threshold_jpg\\04_slice_0409.jpg\n",
      "已处理并保存图像: D:/Code/CBCT_Reconstruction_ICP/data/04/adaptive_threshold_jpg\\04_slice_0410.jpg\n",
      "已处理并保存图像: D:/Code/CBCT_Reconstruction_ICP/data/04/adaptive_threshold_jpg\\04_slice_0411.jpg\n",
      "已处理并保存图像: D:/Code/CBCT_Reconstruction_ICP/data/04/adaptive_threshold_jpg\\04_slice_0412.jpg\n",
      "已处理并保存图像: D:/Code/CBCT_Reconstruction_ICP/data/04/adaptive_threshold_jpg\\04_slice_0413.jpg\n",
      "已处理并保存图像: D:/Code/CBCT_Reconstruction_ICP/data/04/adaptive_threshold_jpg\\04_slice_0414.jpg\n",
      "已处理并保存图像: D:/Code/CBCT_Reconstruction_ICP/data/04/adaptive_threshold_jpg\\04_slice_0415.jpg\n",
      "已处理并保存图像: D:/Code/CBCT_Reconstruction_ICP/data/04/adaptive_threshold_jpg\\04_slice_0416.jpg\n",
      "已处理并保存图像: D:/Code/CBCT_Reconstruction_ICP/data/04/adaptive_threshold_jpg\\04_slice_0417.jpg\n",
      "已处理并保存图像: D:/Code/CBCT_Reconstruction_ICP/data/04/adaptive_threshold_jpg\\04_slice_0418.jpg\n",
      "已处理并保存图像: D:/Code/CBCT_Reconstruction_ICP/data/04/adaptive_threshold_jpg\\04_slice_0419.jpg\n",
      "已处理并保存图像: D:/Code/CBCT_Reconstruction_ICP/data/04/adaptive_threshold_jpg\\04_slice_0420.jpg\n",
      "已处理并保存图像: D:/Code/CBCT_Reconstruction_ICP/data/04/adaptive_threshold_jpg\\04_slice_0421.jpg\n",
      "已处理并保存图像: D:/Code/CBCT_Reconstruction_ICP/data/04/adaptive_threshold_jpg\\04_slice_0422.jpg\n",
      "已处理并保存图像: D:/Code/CBCT_Reconstruction_ICP/data/04/adaptive_threshold_jpg\\04_slice_0423.jpg\n",
      "已处理并保存图像: D:/Code/CBCT_Reconstruction_ICP/data/04/adaptive_threshold_jpg\\04_slice_0424.jpg\n",
      "已处理并保存图像: D:/Code/CBCT_Reconstruction_ICP/data/04/adaptive_threshold_jpg\\04_slice_0425.jpg\n",
      "已处理并保存图像: D:/Code/CBCT_Reconstruction_ICP/data/04/adaptive_threshold_jpg\\04_slice_0426.jpg\n",
      "已处理并保存图像: D:/Code/CBCT_Reconstruction_ICP/data/04/adaptive_threshold_jpg\\04_slice_0427.jpg\n",
      "已处理并保存图像: D:/Code/CBCT_Reconstruction_ICP/data/04/adaptive_threshold_jpg\\04_slice_0428.jpg\n",
      "已处理并保存图像: D:/Code/CBCT_Reconstruction_ICP/data/04/adaptive_threshold_jpg\\04_slice_0429.jpg\n",
      "已处理并保存图像: D:/Code/CBCT_Reconstruction_ICP/data/04/adaptive_threshold_jpg\\04_slice_0430.jpg\n",
      "已处理并保存图像: D:/Code/CBCT_Reconstruction_ICP/data/04/adaptive_threshold_jpg\\04_slice_0431.jpg\n",
      "已处理并保存图像: D:/Code/CBCT_Reconstruction_ICP/data/04/adaptive_threshold_jpg\\04_slice_0432.jpg\n",
      "已处理并保存图像: D:/Code/CBCT_Reconstruction_ICP/data/04/adaptive_threshold_jpg\\04_slice_0433.jpg\n",
      "已处理并保存图像: D:/Code/CBCT_Reconstruction_ICP/data/04/adaptive_threshold_jpg\\04_slice_0434.jpg\n",
      "已处理并保存图像: D:/Code/CBCT_Reconstruction_ICP/data/04/adaptive_threshold_jpg\\04_slice_0435.jpg\n",
      "已处理并保存图像: D:/Code/CBCT_Reconstruction_ICP/data/04/adaptive_threshold_jpg\\04_slice_0436.jpg\n",
      "已处理并保存图像: D:/Code/CBCT_Reconstruction_ICP/data/04/adaptive_threshold_jpg\\04_slice_0437.jpg\n",
      "已处理并保存图像: D:/Code/CBCT_Reconstruction_ICP/data/04/adaptive_threshold_jpg\\04_slice_0438.jpg\n",
      "已处理并保存图像: D:/Code/CBCT_Reconstruction_ICP/data/04/adaptive_threshold_jpg\\04_slice_0439.jpg\n",
      "已处理并保存图像: D:/Code/CBCT_Reconstruction_ICP/data/04/adaptive_threshold_jpg\\04_slice_0440.jpg\n",
      "所有图像处理完毕。\n"
     ]
    }
   ],
   "source": [
    "# Adaptive threshold filtering 并去除短线段与点\n",
    "import os\n",
    "import cv2\n",
    "import numpy as np\n",
    "\n",
    "def apply_adaptive_threshold_and_filter(input_dir, output_dir):\n",
    "    # 创建输出目录（如果不存在）\n",
    "    os.makedirs(output_dir, exist_ok=True)\n",
    "\n",
    "    # 获取输入目录中的所有图像文件\n",
    "    image_files = [f for f in os.listdir(input_dir) if os.path.isfile(os.path.join(input_dir, f))]\n",
    "    \n",
    "    for img_name in image_files:\n",
    "        input_path = os.path.join(input_dir, img_name)\n",
    "        output_path = os.path.join(output_dir, img_name)\n",
    "        \n",
    "        # 读取图像\n",
    "        image = cv2.imread(input_path, cv2.IMREAD_GRAYSCALE)  # 读取为灰度图像\n",
    "        if image is None:\n",
    "            print(f\"无法读取图像: {input_path}\")\n",
    "            continue\n",
    "        \n",
    "        # 应用自适应阈值处理\n",
    "        adaptive_thresh = cv2.adaptiveThreshold(\n",
    "            image, 255, cv2.ADAPTIVE_THRESH_MEAN_C, \n",
    "            cv2.THRESH_BINARY_INV, 17, 2\n",
    "        )\n",
    "        \n",
    "        # 定义形态学操作的内核\n",
    "        kernel = np.ones((3, 3), np.uint8)\n",
    "        \n",
    "        # 进行形态学开运算去除噪点\n",
    "        morph_open = cv2.morphologyEx(adaptive_thresh, cv2.MORPH_OPEN, kernel)\n",
    "        \n",
    "        # 进行形态学闭运算填充线段间的空隙\n",
    "        morph_close = cv2.morphologyEx(morph_open, cv2.MORPH_CLOSE, kernel)\n",
    "\n",
    "        # 连通组件分析去除小的联通组件\n",
    "        num_labels, labels, stats, centroids = cv2.connectedComponentsWithStats(morph_close, connectivity=8)\n",
    "        min_area = 200  # 设定最小区域面积阈值\n",
    "        \n",
    "        filtered_image = np.zeros_like(morph_close)\n",
    "        \n",
    "        for i in range(1, num_labels):  # 从1开始，跳过背景\n",
    "            if stats[i, cv2.CC_STAT_AREA] >= min_area:\n",
    "                filtered_image[labels == i] = 255\n",
    "        \n",
    "        # 保存处理后的图像\n",
    "        cv2.imwrite(output_path, filtered_image)\n",
    "        print(f\"已处理并保存图像: {output_path}\")\n",
    "\n",
    "# 定义输入和输出目录\n",
    "base_dir = 'D:/Code/CBCT_Reconstruction_ICP/data/04/'\n",
    "input_dir = os.path.join(base_dir, 'jpg')\n",
    "output_dir = os.path.join(base_dir, 'adaptive_threshold_jpg')\n",
    "\n",
    "# 应用自适应阈值处理和过滤\n",
    "apply_adaptive_threshold_and_filter(input_dir, output_dir)\n",
    "\n",
    "print(\"所有图像处理完毕。\")"
   ]
  },
  {
   "cell_type": "markdown",
   "id": "b3016fe7",
   "metadata": {},
   "source": [
    "['AABBTreePolyline2', 'AABBTreePolyline3', 'AffineXf2d', 'AffineXf2f', 'AffineXf3d', 'AffineXf3f', 'BitSet', 'BooleanOperation', 'BooleanResMapObj', 'BooleanResMaps', 'BooleanResult', 'BooleanResultMapper', 'BoostBitSet', 'Box2d', 'Box2f', 'Box3d', 'Box3f', 'Color', 'Contour2d', 'Contour2f', 'Contour3d', 'Contour3f', 'ContourToDistanceMapParams', 'Contours2d', 'Contours2f', 'Contours3d', 'Contours3f', 'DecimateResult', 'DecimateSettings', 'DecimateStrategy', 'DistanceMap', 'DistanceMapToWorld', 'EdgeBitSet', 'EdgeId', 'EdgeMap', 'EdgeMetric', 'EdgePoint', 'ExpectedVoid', 'FaceBitSet', 'FaceFace', 'FaceHashMap', 'FaceId', 'FaceIncidence', 'FaceMap', 'FaceNormals', 'FillHoleMetric', 'FillHoleParams', 'FillHoleParamsMultipleEdgesResolveMode', 'FindOverhangsSettings', 'FixSelfIntersectionMethod', 'FixSelfIntersectionSettings', 'FloatGrid', 'GeneralOffsetParameters', 'GeneralOffsetParametersMode', 'GeodesicPathApprox', 'GridType', 'HolesVertIds', 'ICP', 'ICPMethod', 'ICPMode', 'ICPProperties', 'InflateSettings', 'IntersectionPrecomputesd', 'IntersectionPrecomputesf', 'ItemsView[FaceHashMap]', 'ItemsView[VertHashMap]', 'ItemsView[WholeEdgeHashMap]', 'KeysView[FaceHashMap]', 'KeysView[VertHashMap]', 'KeysView[WholeEdgeHashMap]', 'LaplacianEdgeWeightsParam', 'Line3d', 'Line3f', 'LineSegm2f', 'LineSegm3f', 'LoadDCMResult', 'LoadDCMResults', 'LoadingTiffSettings', 'Matrix2d', 'Matrix2f', 'Matrix3d', 'Matrix3f', 'Mesh', 'MeshApproxRelaxParams', 'MeshBuilderSettings', 'MeshIntersectionResult', 'MeshLoadSettings', 'MeshPart', 'MeshProjectionResult', 'MeshRelaxParams', 'MeshSignedDistanceResult', 'MeshToDistanceMapParams', 'MeshToDistanceVolumeParams', 'MeshToVolumeParams', 'MeshToVolumeParamsType', 'MeshTopology', 'MeshTriPoint', 'MovementBuildBodyParams', 'NestedComponenetsMode', 'OffsetParameters', 'PackMapping', 'PartMapping', 'Path', 'Plane3f', 'PointCloud', 'PointOnFace', 'PointPair', 'PointPairs', 'PointsToMeshParameters', 'Polyline2', 'Polyline3', 'PolylineTopology', 'RelaxApproxType', 'RelaxParams', 'RemeshSettings', 'SceneObject', 'SegmPointf', 'SharpOffsetParameters', 'SignDetectionMode', 'SignedDistanceToMeshResult', 'SimpleVolume', 'SlicePlane', 'SphereParams', 'StitchHolesParams', 'SubdivideSettings', 'SurfacePath', 'SurfacePaths', 'SymbolMeshParams', 'TextAlignParams', 'ThreeVertIds', 'TriPointf', 'Triangulation', 'TriangulationParameters', 'UndirectedEdgeBitSet', 'UndirectedEdgeId', 'UndirectedEdgeMap', 'UndirectedEdgeUndirectedEdge', 'UniteManyMeshesParams', 'ValuesView[FaceHashMap]', 'ValuesView[VertHashMap]', 'ValuesView[WholeEdgeHashMap]', 'VdbVolume', 'Vector2d', 'Vector2f', 'Vector2i', 'Vector3d', 'Vector3f', 'Vector3i', 'VectorFloatByVert', 'VertBitSet', 'VertColorMap', 'VertCoords', 'VertCoords2', 'VertHashMap', 'VertId', 'VertMap', 'ViewportId', 'ViewportMask', 'VoxelsSaveSavingSettings', 'WholeEdgeHashMap', 'WholeEdgeMap', 'WindingMode', '__doc__', '__file__', '__loader__', '__name__', '__package__', '__spec__', 'addBaseToPlanarMesh', 'alignTextToMesh', 'angle', 'boolean', 'buildBottom', 'buildCylinderBetweenTwoHoles', 'buildShortestPath', 'buildShortestPathBiDir', 'buildSmallestMetricPath', 'buildSmallestMetricPathBiDir', 'calcOrientedArea', 'computeDistanceMapD', 'comnces', 'computeThicknessAtVertices', 'copyMesh', 'createSymbolsMesh', 'cross', 'cutAlongEdgeLoop', 'cutMeshWithPlane', 'decimateMesh', 'detectBasisTunnels', 'detectTunnelFaces', 'dilateRegion', 'dilateRegionByMetric', 'distanceMapTo2DIsoPolyline', 'distanceMapToMesh', 'dot', 'doubleOffsetMesh', 'edgeCurvMetric', 'edgeLengthMetric', 'edgeTableSymMetric', 'erodeRegion', 'erodeRegionByMetric', 'expand', 'extractPlaneSections', 'fillContourLeft', 'fillContourLeftByGraphCut', 'fillHole', 'findCollidingTriangles', 'findDegenerateFaces', 'findHoleVertIdsByHoleEdges', 'findLeftBoundary', 'findMaxDistanceSq', 'findMaxDistanceSqOneWay', 'findOverhangs', 'findProjection', 'findRightBoundary', 'findSelfCollidingEdges', 'findSelfCollidingTriangles', 'findSelfCollidingTrianglesBS', 'findSignedDistance', 'findUndercuts', 'fixMultipleEdges', 'fixSelfIntersections', 'fixUndercuts', 'floatGridToVdbVolume', 'generalOffsetMesh', 'getAllComponents', 'getAllComponentsVerts', 'getCircumscribedMetric', 'getComplexFillMetric', 'getComponent', 'getComponentVerts', 'getEdgeLengthFillMetric', 'getEdgeLengthStitchMetric', 'getFacesByMinEdgeLength', 'getIncidentFaces', 'getIncidentVerts', 'getInnerFaces', 'getInnerVerts', 'getLargestComponent', 'getLargestComponentVerts', 'getMinAreaMetric', 'getPlaneFillMetric', 'getUniversalMetric', 'gridToMesh', 'hasMultipleEdges', 'identityMetric', 'inflate', 'intersection', 'loadDCMFolder', 'loadDCMsFolder', 'loadDistanceMapFromImage', 'loadLines', 'loadMesh', 'loadPoints', 'loadSceneObject', 'loadTiffDir', 'loadVoxels', 'localFindSelfIntersections', 'localFixSelfIntersections', 'makeBridge', 'makeBridgeEdge', 'makeConvexHull', 'makeCube', 'makeCylinder', 'makeCylinderAdvanced', 'makeDegenerateBandAroundRegion', 'makeMovementBuildBody', 'makeOuterHalfTorus', 'makeSphere', 'makeTorus', 'makeTorusWithComponents', 'makeTorusWithSelfIntersections', 'makeTorusWithSpikes', 'makeTorusWithUndercut', 'makeUVSphere', 'mergeMeshes', 'meshRegularMap', 'meshToDistanceField', 'meshToDistanceVolume', 'meshToLevelSet', 'meshToPointCloud', 'meshToVolume', 'mixed', 'mult', 'offsetMesh', 'planeSectionsToContours2f', 'pointGridSampling', 'pointIterativeSampling', 'pointUniformSampling', 'pointsToMeshFusion', 'positionVertsSmoothly', 'positionVertsSmoothlySharpBd', 'projectAllMeshVertices', 'rayMeshIntersect', 'relax', 'relaxApprox', 'relaxKeepVolume', 'remesh', 'removeSpikes', 'saveAllSlicesToImage', 'saveDistanceMapToImage', 'saveLines', 'saveMesh', 'savePoints', 'saveSceneObject', 'saveSliceToImage', 'saveVoxels', 'segmentByGraphCut', 'shrink', 'simpleVolumeToDenseGrid', 'simpleVolumeToVdbVolume', 'smoothRegionBoundary', 'stitchContours', 'straightenBoundary', 'subdivideMesh', 'suggestVoxelSize', 'surfacePathLength', 'surroundingContour', 'thickenMesh', 'topologyFromTriangles', 'transformed', 'triangulateContours', 'triangulatePointCloud', 'uniteCloseVertices', 'uniteManyMeshes', 'vdbVolumeToSimpleVolume', 'vectorColor', 'vectorConstMeshPtr', 'vectorEdgePath', 'vectorEdges', 'vectorFaceBitSet', 'vectorFaceFace', 'vectorFaces', 'vectorFloat', 'vectorICPPointPair', 'vectorMesh', 'vectorThreeVertIds', 'vectorUndirectedEdgeUndirectedEdge', 'vectorUndirectedEdges', 'vectorVertBitSet', 'vectorVerts', 'voxelBooleanIntersect', 'voxelBooleanSubtract', 'voxelBooleanUnite']"
   ]
  },
  {
   "cell_type": "code",
   "execution_count": 32,
   "id": "34737325",
   "metadata": {},
   "outputs": [
    {
     "name": "stdout",
     "output_type": "stream",
     "text": [
      "Processed 04_slice_0079.json and saved to D:/Code/CBCT_Reconstruction_ICP/data/04/jpg\\04_slice_0079.json\n",
      "Processed 04_slice_0080.json and saved to D:/Code/CBCT_Reconstruction_ICP/data/04/jpg\\04_slice_0080.json\n",
      "Processed 04_slice_0081.json and saved to D:/Code/CBCT_Reconstruction_ICP/data/04/jpg\\04_slice_0081.json\n",
      "Processed 04_slice_0082.json and saved to D:/Code/CBCT_Reconstruction_ICP/data/04/jpg\\04_slice_0082.json\n",
      "Processed 04_slice_0083.json and saved to D:/Code/CBCT_Reconstruction_ICP/data/04/jpg\\04_slice_0083.json\n",
      "Processed 04_slice_0084.json and saved to D:/Code/CBCT_Reconstruction_ICP/data/04/jpg\\04_slice_0084.json\n",
      "Processed 04_slice_0085.json and saved to D:/Code/CBCT_Reconstruction_ICP/data/04/jpg\\04_slice_0085.json\n",
      "Processed 04_slice_0086.json and saved to D:/Code/CBCT_Reconstruction_ICP/data/04/jpg\\04_slice_0086.json\n",
      "Processed 04_slice_0087.json and saved to D:/Code/CBCT_Reconstruction_ICP/data/04/jpg\\04_slice_0087.json\n",
      "Processed 04_slice_0088.json and saved to D:/Code/CBCT_Reconstruction_ICP/data/04/jpg\\04_slice_0088.json\n",
      "Processed 04_slice_0101.json and saved to D:/Code/CBCT_Reconstruction_ICP/data/04/jpg\\04_slice_0101.json\n",
      "Processed 04_slice_0102.json and saved to D:/Code/CBCT_Reconstruction_ICP/data/04/jpg\\04_slice_0102.json\n",
      "Processed 04_slice_0103.json and saved to D:/Code/CBCT_Reconstruction_ICP/data/04/jpg\\04_slice_0103.json\n",
      "Processed 04_slice_0104.json and saved to D:/Code/CBCT_Reconstruction_ICP/data/04/jpg\\04_slice_0104.json\n",
      "Processed 04_slice_0105.json and saved to D:/Code/CBCT_Reconstruction_ICP/data/04/jpg\\04_slice_0105.json\n",
      "Processed 04_slice_0106.json and saved to D:/Code/CBCT_Reconstruction_ICP/data/04/jpg\\04_slice_0106.json\n",
      "Processed 04_slice_0107.json and saved to D:/Code/CBCT_Reconstruction_ICP/data/04/jpg\\04_slice_0107.json\n",
      "Processed 04_slice_0108.json and saved to D:/Code/CBCT_Reconstruction_ICP/data/04/jpg\\04_slice_0108.json\n",
      "Processed 04_slice_0109.json and saved to D:/Code/CBCT_Reconstruction_ICP/data/04/jpg\\04_slice_0109.json\n",
      "Processed 04_slice_0110.json and saved to D:/Code/CBCT_Reconstruction_ICP/data/04/jpg\\04_slice_0110.json\n",
      "Processed 04_slice_0267.json and saved to D:/Code/CBCT_Reconstruction_ICP/data/04/jpg\\04_slice_0267.json\n",
      "Processed 04_slice_0268.json and saved to D:/Code/CBCT_Reconstruction_ICP/data/04/jpg\\04_slice_0268.json\n",
      "Processed 04_slice_0269.json and saved to D:/Code/CBCT_Reconstruction_ICP/data/04/jpg\\04_slice_0269.json\n",
      "Processed 04_slice_0270.json and saved to D:/Code/CBCT_Reconstruction_ICP/data/04/jpg\\04_slice_0270.json\n",
      "Processed 04_slice_0271.json and saved to D:/Code/CBCT_Reconstruction_ICP/data/04/jpg\\04_slice_0271.json\n",
      "Processed 04_slice_0272.json and saved to D:/Code/CBCT_Reconstruction_ICP/data/04/jpg\\04_slice_0272.json\n",
      "Processed 04_slice_0273.json and saved to D:/Code/CBCT_Reconstruction_ICP/data/04/jpg\\04_slice_0273.json\n",
      "Processed 04_slice_0274.json and saved to D:/Code/CBCT_Reconstruction_ICP/data/04/jpg\\04_slice_0274.json\n",
      "Processed 04_slice_0275.json and saved to D:/Code/CBCT_Reconstruction_ICP/data/04/jpg\\04_slice_0275.json\n",
      "Processed 04_slice_0276.json and saved to D:/Code/CBCT_Reconstruction_ICP/data/04/jpg\\04_slice_0276.json\n",
      "Processed 04_slice_0277.json and saved to D:/Code/CBCT_Reconstruction_ICP/data/04/jpg\\04_slice_0277.json\n",
      "Processed 04_slice_0290.json and saved to D:/Code/CBCT_Reconstruction_ICP/data/04/jpg\\04_slice_0290.json\n",
      "Processed 04_slice_0291.json and saved to D:/Code/CBCT_Reconstruction_ICP/data/04/jpg\\04_slice_0291.json\n",
      "Processed 04_slice_0292.json and saved to D:/Code/CBCT_Reconstruction_ICP/data/04/jpg\\04_slice_0292.json\n",
      "Processed 04_slice_0293.json and saved to D:/Code/CBCT_Reconstruction_ICP/data/04/jpg\\04_slice_0293.json\n",
      "Processed 04_slice_0294.json and saved to D:/Code/CBCT_Reconstruction_ICP/data/04/jpg\\04_slice_0294.json\n",
      "Processed 04_slice_0295.json and saved to D:/Code/CBCT_Reconstruction_ICP/data/04/jpg\\04_slice_0295.json\n",
      "Processed 04_slice_0296.json and saved to D:/Code/CBCT_Reconstruction_ICP/data/04/jpg\\04_slice_0296.json\n",
      "Processed 04_slice_0297.json and saved to D:/Code/CBCT_Reconstruction_ICP/data/04/jpg\\04_slice_0297.json\n",
      "Processed 04_slice_0298.json and saved to D:/Code/CBCT_Reconstruction_ICP/data/04/jpg\\04_slice_0298.json\n",
      "Processed 04_slice_0299.json and saved to D:/Code/CBCT_Reconstruction_ICP/data/04/jpg\\04_slice_0299.json\n",
      "Processed 04_slice_0300.json and saved to D:/Code/CBCT_Reconstruction_ICP/data/04/jpg\\04_slice_0300.json\n",
      "Processed 04_slice_0301.json and saved to D:/Code/CBCT_Reconstruction_ICP/data/04/jpg\\04_slice_0301.json\n",
      "Processed 04_slice_0302.json and saved to D:/Code/CBCT_Reconstruction_ICP/data/04/jpg\\04_slice_0302.json\n",
      "Processed 04_slice_0303.json and saved to D:/Code/CBCT_Reconstruction_ICP/data/04/jpg\\04_slice_0303.json\n",
      "Processed 04_slice_0304.json and saved to D:/Code/CBCT_Reconstruction_ICP/data/04/jpg\\04_slice_0304.json\n",
      "Processed 04_slice_0305.json and saved to D:/Code/CBCT_Reconstruction_ICP/data/04/jpg\\04_slice_0305.json\n"
     ]
    }
   ],
   "source": [
    "import os\n",
    "import base64\n",
    "import json\n",
    "\n",
    "def get_base64_image(image_path):\n",
    "    \"\"\"读取图像并返回其 Base64 编码字符串\"\"\"\n",
    "    with open(image_path, 'rb') as img_file:\n",
    "        return base64.b64encode(img_file.read()).decode('utf-8')\n",
    "\n",
    "def replace_image_data(src_dir, dst_dir):\n",
    "    \"\"\"替换 JSON 文件中的 imageData 字段为 dst_dir 中对应 JPEG 文件的 Base64 编码内容\"\"\"\n",
    "    # 确保 dst_dir 存在\n",
    "    os.makedirs(dst_dir, exist_ok=True)\n",
    "\n",
    "    for filename in os.listdir(src_dir):\n",
    "        # 处理 JSON 文件\n",
    "        if filename.endswith('.json'):\n",
    "            json_path = os.path.join(src_dir, filename)\n",
    "            with open(json_path, 'r', encoding='utf-8') as json_file:\n",
    "                data = json.load(json_file)\n",
    "\n",
    "            # 获取对应的 JPEG 文件名\n",
    "            image_name = data['imagePath']\n",
    "            dst_image_path = os.path.join(dst_dir, image_name)\n",
    "\n",
    "            # 检查 JPEG 文件是否存在\n",
    "            if not os.path.exists(dst_image_path):\n",
    "                print(f\"Warning: {dst_image_path} does not exist. Skipping.\")\n",
    "                continue\n",
    "\n",
    "            # 获取 Base64 编码的 JPEG 内容\n",
    "            base64_image = get_base64_image(dst_image_path)\n",
    "\n",
    "            # 替换 JSON 中的 imageData 字段\n",
    "            data['imageData'] = base64_image\n",
    "\n",
    "            # 更新 imagePath 字段为 dst_dir 中的路径\n",
    "            data['imagePath'] = os.path.basename(dst_image_path)\n",
    "\n",
    "            # 保存修改后的 JSON 文件到 dst_dir\n",
    "            dst_json_path = os.path.join(dst_dir, filename)\n",
    "            with open(dst_json_path, 'w', encoding='utf-8') as json_file:\n",
    "                json.dump(data, json_file, ensure_ascii=False, indent=4)\n",
    "\n",
    "            print(f\"Processed {filename} and saved to {dst_json_path}\")\n",
    "\n",
    "\n",
    "base_dir = 'D:/Code/CBCT_Reconstruction_ICP/data/04/'\n",
    "\n",
    "# 定义 src_dir 和 dst_dir\n",
    "src_dir = os.path.join(base_dir, 'adaptive_threshold_jpg')\n",
    "dst_dir = os.path.join(base_dir, 'jpg')\n",
    "\n",
    "# 运行替换函数\n",
    "replace_image_data(src_dir, dst_dir)"
   ]
  },
  {
   "cell_type": "code",
   "execution_count": 33,
   "id": "7b1413df",
   "metadata": {},
   "outputs": [
    {
     "name": "stdout",
     "output_type": "stream",
     "text": [
      "Copied D:/Code/CBCT_Reconstruction_ICP/data\\01\\jpg\\01_slice_0100.json to D:/Code/CBCT_Reconstruction_ICP/dataset\\01_slice_0100.json\n",
      "Copied D:/Code/CBCT_Reconstruction_ICP/data\\01\\jpg\\01_slice_0101.json to D:/Code/CBCT_Reconstruction_ICP/dataset\\01_slice_0101.json\n",
      "Copied D:/Code/CBCT_Reconstruction_ICP/data\\01\\jpg\\01_slice_0102.json to D:/Code/CBCT_Reconstruction_ICP/dataset\\01_slice_0102.json\n",
      "Copied D:/Code/CBCT_Reconstruction_ICP/data\\01\\jpg\\01_slice_0103.json to D:/Code/CBCT_Reconstruction_ICP/dataset\\01_slice_0103.json\n",
      "Copied D:/Code/CBCT_Reconstruction_ICP/data\\01\\jpg\\01_slice_0104.json to D:/Code/CBCT_Reconstruction_ICP/dataset\\01_slice_0104.json\n",
      "Copied D:/Code/CBCT_Reconstruction_ICP/data\\01\\jpg\\01_slice_0105.json to D:/Code/CBCT_Reconstruction_ICP/dataset\\01_slice_0105.json\n",
      "Copied D:/Code/CBCT_Reconstruction_ICP/data\\01\\jpg\\01_slice_0106.json to D:/Code/CBCT_Reconstruction_ICP/dataset\\01_slice_0106.json\n",
      "Copied D:/Code/CBCT_Reconstruction_ICP/data\\01\\jpg\\01_slice_0107.json to D:/Code/CBCT_Reconstruction_ICP/dataset\\01_slice_0107.json\n",
      "Copied D:/Code/CBCT_Reconstruction_ICP/data\\01\\jpg\\01_slice_0108.json to D:/Code/CBCT_Reconstruction_ICP/dataset\\01_slice_0108.json\n",
      "Copied D:/Code/CBCT_Reconstruction_ICP/data\\01\\jpg\\01_slice_0109.json to D:/Code/CBCT_Reconstruction_ICP/dataset\\01_slice_0109.json\n",
      "Copied D:/Code/CBCT_Reconstruction_ICP/data\\01\\jpg\\01_slice_0110.json to D:/Code/CBCT_Reconstruction_ICP/dataset\\01_slice_0110.json\n",
      "Copied D:/Code/CBCT_Reconstruction_ICP/data\\01\\jpg\\01_slice_0111.json to D:/Code/CBCT_Reconstruction_ICP/dataset\\01_slice_0111.json\n",
      "Copied D:/Code/CBCT_Reconstruction_ICP/data\\01\\jpg\\01_slice_0125.json to D:/Code/CBCT_Reconstruction_ICP/dataset\\01_slice_0125.json\n",
      "Copied D:/Code/CBCT_Reconstruction_ICP/data\\01\\jpg\\01_slice_0126.json to D:/Code/CBCT_Reconstruction_ICP/dataset\\01_slice_0126.json\n",
      "Copied D:/Code/CBCT_Reconstruction_ICP/data\\01\\jpg\\01_slice_0127.json to D:/Code/CBCT_Reconstruction_ICP/dataset\\01_slice_0127.json\n",
      "Copied D:/Code/CBCT_Reconstruction_ICP/data\\01\\jpg\\01_slice_0128.json to D:/Code/CBCT_Reconstruction_ICP/dataset\\01_slice_0128.json\n",
      "Copied D:/Code/CBCT_Reconstruction_ICP/data\\01\\jpg\\01_slice_0129.json to D:/Code/CBCT_Reconstruction_ICP/dataset\\01_slice_0129.json\n",
      "Copied D:/Code/CBCT_Reconstruction_ICP/data\\01\\jpg\\01_slice_0130.json to D:/Code/CBCT_Reconstruction_ICP/dataset\\01_slice_0130.json\n",
      "Copied D:/Code/CBCT_Reconstruction_ICP/data\\01\\jpg\\01_slice_0131.json to D:/Code/CBCT_Reconstruction_ICP/dataset\\01_slice_0131.json\n",
      "Copied D:/Code/CBCT_Reconstruction_ICP/data\\01\\jpg\\01_slice_0132.json to D:/Code/CBCT_Reconstruction_ICP/dataset\\01_slice_0132.json\n",
      "Copied D:/Code/CBCT_Reconstruction_ICP/data\\01\\jpg\\01_slice_0133.json to D:/Code/CBCT_Reconstruction_ICP/dataset\\01_slice_0133.json\n",
      "Copied D:/Code/CBCT_Reconstruction_ICP/data\\01\\jpg\\01_slice_0134.json to D:/Code/CBCT_Reconstruction_ICP/dataset\\01_slice_0134.json\n",
      "Copied D:/Code/CBCT_Reconstruction_ICP/data\\01\\jpg\\01_slice_0135.json to D:/Code/CBCT_Reconstruction_ICP/dataset\\01_slice_0135.json\n",
      "Copied D:/Code/CBCT_Reconstruction_ICP/data\\01\\jpg\\01_slice_0136.json to D:/Code/CBCT_Reconstruction_ICP/dataset\\01_slice_0136.json\n",
      "Copied D:/Code/CBCT_Reconstruction_ICP/data\\01\\jpg\\01_slice_0144.json to D:/Code/CBCT_Reconstruction_ICP/dataset\\01_slice_0144.json\n",
      "Copied D:/Code/CBCT_Reconstruction_ICP/data\\01\\jpg\\01_slice_0145.json to D:/Code/CBCT_Reconstruction_ICP/dataset\\01_slice_0145.json\n",
      "Copied D:/Code/CBCT_Reconstruction_ICP/data\\01\\jpg\\01_slice_0146.json to D:/Code/CBCT_Reconstruction_ICP/dataset\\01_slice_0146.json\n",
      "Copied D:/Code/CBCT_Reconstruction_ICP/data\\01\\jpg\\01_slice_0147.json to D:/Code/CBCT_Reconstruction_ICP/dataset\\01_slice_0147.json\n",
      "Copied D:/Code/CBCT_Reconstruction_ICP/data\\01\\jpg\\01_slice_0148.json to D:/Code/CBCT_Reconstruction_ICP/dataset\\01_slice_0148.json\n",
      "Copied D:/Code/CBCT_Reconstruction_ICP/data\\01\\jpg\\01_slice_0149.json to D:/Code/CBCT_Reconstruction_ICP/dataset\\01_slice_0149.json\n",
      "Copied D:/Code/CBCT_Reconstruction_ICP/data\\01\\jpg\\01_slice_0150.json to D:/Code/CBCT_Reconstruction_ICP/dataset\\01_slice_0150.json\n",
      "Copied D:/Code/CBCT_Reconstruction_ICP/data\\01\\jpg\\01_slice_0151.json to D:/Code/CBCT_Reconstruction_ICP/dataset\\01_slice_0151.json\n",
      "Copied D:/Code/CBCT_Reconstruction_ICP/data\\01\\jpg\\01_slice_0162.json to D:/Code/CBCT_Reconstruction_ICP/dataset\\01_slice_0162.json\n",
      "Copied D:/Code/CBCT_Reconstruction_ICP/data\\01\\jpg\\01_slice_0163.json to D:/Code/CBCT_Reconstruction_ICP/dataset\\01_slice_0163.json\n",
      "Copied D:/Code/CBCT_Reconstruction_ICP/data\\01\\jpg\\01_slice_0164.json to D:/Code/CBCT_Reconstruction_ICP/dataset\\01_slice_0164.json\n",
      "Copied D:/Code/CBCT_Reconstruction_ICP/data\\01\\jpg\\01_slice_0165.json to D:/Code/CBCT_Reconstruction_ICP/dataset\\01_slice_0165.json\n",
      "Copied D:/Code/CBCT_Reconstruction_ICP/data\\01\\jpg\\01_slice_0166.json to D:/Code/CBCT_Reconstruction_ICP/dataset\\01_slice_0166.json\n",
      "Copied D:/Code/CBCT_Reconstruction_ICP/data\\01\\jpg\\01_slice_0167.json to D:/Code/CBCT_Reconstruction_ICP/dataset\\01_slice_0167.json\n",
      "Copied D:/Code/CBCT_Reconstruction_ICP/data\\01\\jpg\\01_slice_0195.json to D:/Code/CBCT_Reconstruction_ICP/dataset\\01_slice_0195.json\n",
      "Copied D:/Code/CBCT_Reconstruction_ICP/data\\01\\jpg\\01_slice_0196.json to D:/Code/CBCT_Reconstruction_ICP/dataset\\01_slice_0196.json\n",
      "Copied D:/Code/CBCT_Reconstruction_ICP/data\\01\\jpg\\01_slice_0197.json to D:/Code/CBCT_Reconstruction_ICP/dataset\\01_slice_0197.json\n",
      "Copied D:/Code/CBCT_Reconstruction_ICP/data\\01\\jpg\\01_slice_0198.json to D:/Code/CBCT_Reconstruction_ICP/dataset\\01_slice_0198.json\n",
      "Copied D:/Code/CBCT_Reconstruction_ICP/data\\01\\jpg\\01_slice_0199.json to D:/Code/CBCT_Reconstruction_ICP/dataset\\01_slice_0199.json\n",
      "Copied D:/Code/CBCT_Reconstruction_ICP/data\\01\\jpg\\01_slice_0200.json to D:/Code/CBCT_Reconstruction_ICP/dataset\\01_slice_0200.json\n",
      "Copied D:/Code/CBCT_Reconstruction_ICP/data\\01\\jpg\\01_slice_0217.json to D:/Code/CBCT_Reconstruction_ICP/dataset\\01_slice_0217.json\n",
      "Copied D:/Code/CBCT_Reconstruction_ICP/data\\01\\jpg\\01_slice_0218.json to D:/Code/CBCT_Reconstruction_ICP/dataset\\01_slice_0218.json\n",
      "Copied D:/Code/CBCT_Reconstruction_ICP/data\\01\\jpg\\01_slice_0219.json to D:/Code/CBCT_Reconstruction_ICP/dataset\\01_slice_0219.json\n",
      "Copied D:/Code/CBCT_Reconstruction_ICP/data\\01\\jpg\\01_slice_0220.json to D:/Code/CBCT_Reconstruction_ICP/dataset\\01_slice_0220.json\n",
      "Copied D:/Code/CBCT_Reconstruction_ICP/data\\01\\jpg\\01_slice_0221.json to D:/Code/CBCT_Reconstruction_ICP/dataset\\01_slice_0221.json\n",
      "Copied D:/Code/CBCT_Reconstruction_ICP/data\\01\\jpg\\01_slice_0222.json to D:/Code/CBCT_Reconstruction_ICP/dataset\\01_slice_0222.json\n",
      "Copied D:/Code/CBCT_Reconstruction_ICP/data\\01\\jpg\\01_slice_0223.json to D:/Code/CBCT_Reconstruction_ICP/dataset\\01_slice_0223.json\n",
      "Copied D:/Code/CBCT_Reconstruction_ICP/data\\01\\jpg\\01_slice_0224.json to D:/Code/CBCT_Reconstruction_ICP/dataset\\01_slice_0224.json\n",
      "Copied D:/Code/CBCT_Reconstruction_ICP/data\\01\\jpg\\01_slice_0225.json to D:/Code/CBCT_Reconstruction_ICP/dataset\\01_slice_0225.json\n",
      "Copied D:/Code/CBCT_Reconstruction_ICP/data\\01\\jpg\\01_slice_0226.json to D:/Code/CBCT_Reconstruction_ICP/dataset\\01_slice_0226.json\n",
      "Copied D:/Code/CBCT_Reconstruction_ICP/data\\01\\jpg\\01_slice_0227.json to D:/Code/CBCT_Reconstruction_ICP/dataset\\01_slice_0227.json\n",
      "Copied D:/Code/CBCT_Reconstruction_ICP/data\\01\\jpg\\01_slice_0228.json to D:/Code/CBCT_Reconstruction_ICP/dataset\\01_slice_0228.json\n",
      "Copied D:/Code/CBCT_Reconstruction_ICP/data\\01\\jpg\\01_slice_0229.json to D:/Code/CBCT_Reconstruction_ICP/dataset\\01_slice_0229.json\n",
      "Copied D:/Code/CBCT_Reconstruction_ICP/data\\01\\jpg\\01_slice_0230.json to D:/Code/CBCT_Reconstruction_ICP/dataset\\01_slice_0230.json\n",
      "Copied D:/Code/CBCT_Reconstruction_ICP/data\\01\\jpg\\01_slice_0231.json to D:/Code/CBCT_Reconstruction_ICP/dataset\\01_slice_0231.json\n",
      "Copied D:/Code/CBCT_Reconstruction_ICP/data\\01\\jpg\\01_slice_0232.json to D:/Code/CBCT_Reconstruction_ICP/dataset\\01_slice_0232.json\n",
      "Copied D:/Code/CBCT_Reconstruction_ICP/data\\01\\jpg\\01_slice_0233.json to D:/Code/CBCT_Reconstruction_ICP/dataset\\01_slice_0233.json\n",
      "Copied D:/Code/CBCT_Reconstruction_ICP/data\\01\\jpg\\01_slice_0234.json to D:/Code/CBCT_Reconstruction_ICP/dataset\\01_slice_0234.json\n",
      "Copied D:/Code/CBCT_Reconstruction_ICP/data\\02\\jpg\\02_slice_0092.json to D:/Code/CBCT_Reconstruction_ICP/dataset\\02_slice_0092.json\n",
      "Copied D:/Code/CBCT_Reconstruction_ICP/data\\02\\jpg\\02_slice_0093.json to D:/Code/CBCT_Reconstruction_ICP/dataset\\02_slice_0093.json\n",
      "Copied D:/Code/CBCT_Reconstruction_ICP/data\\02\\jpg\\02_slice_0094.json to D:/Code/CBCT_Reconstruction_ICP/dataset\\02_slice_0094.json\n",
      "Copied D:/Code/CBCT_Reconstruction_ICP/data\\02\\jpg\\02_slice_0095.json to D:/Code/CBCT_Reconstruction_ICP/dataset\\02_slice_0095.json\n",
      "Copied D:/Code/CBCT_Reconstruction_ICP/data\\02\\jpg\\02_slice_0096.json to D:/Code/CBCT_Reconstruction_ICP/dataset\\02_slice_0096.json\n",
      "Copied D:/Code/CBCT_Reconstruction_ICP/data\\02\\jpg\\02_slice_0097.json to D:/Code/CBCT_Reconstruction_ICP/dataset\\02_slice_0097.json\n",
      "Copied D:/Code/CBCT_Reconstruction_ICP/data\\02\\jpg\\02_slice_0098.json to D:/Code/CBCT_Reconstruction_ICP/dataset\\02_slice_0098.json\n",
      "Copied D:/Code/CBCT_Reconstruction_ICP/data\\02\\jpg\\02_slice_0099.json to D:/Code/CBCT_Reconstruction_ICP/dataset\\02_slice_0099.json\n",
      "Copied D:/Code/CBCT_Reconstruction_ICP/data\\02\\jpg\\02_slice_0100.json to D:/Code/CBCT_Reconstruction_ICP/dataset\\02_slice_0100.json\n",
      "Copied D:/Code/CBCT_Reconstruction_ICP/data\\02\\jpg\\02_slice_0101.json to D:/Code/CBCT_Reconstruction_ICP/dataset\\02_slice_0101.json\n",
      "Copied D:/Code/CBCT_Reconstruction_ICP/data\\02\\jpg\\02_slice_0102.json to D:/Code/CBCT_Reconstruction_ICP/dataset\\02_slice_0102.json\n",
      "Copied D:/Code/CBCT_Reconstruction_ICP/data\\02\\jpg\\02_slice_0103.json to D:/Code/CBCT_Reconstruction_ICP/dataset\\02_slice_0103.json\n",
      "Copied D:/Code/CBCT_Reconstruction_ICP/data\\02\\jpg\\02_slice_0104.json to D:/Code/CBCT_Reconstruction_ICP/dataset\\02_slice_0104.json\n",
      "Copied D:/Code/CBCT_Reconstruction_ICP/data\\02\\jpg\\02_slice_0105.json to D:/Code/CBCT_Reconstruction_ICP/dataset\\02_slice_0105.json\n",
      "Copied D:/Code/CBCT_Reconstruction_ICP/data\\02\\jpg\\02_slice_0125.json to D:/Code/CBCT_Reconstruction_ICP/dataset\\02_slice_0125.json\n",
      "Copied D:/Code/CBCT_Reconstruction_ICP/data\\02\\jpg\\02_slice_0126.json to D:/Code/CBCT_Reconstruction_ICP/dataset\\02_slice_0126.json\n",
      "Copied D:/Code/CBCT_Reconstruction_ICP/data\\02\\jpg\\02_slice_0127.json to D:/Code/CBCT_Reconstruction_ICP/dataset\\02_slice_0127.json\n",
      "Copied D:/Code/CBCT_Reconstruction_ICP/data\\02\\jpg\\02_slice_0128.json to D:/Code/CBCT_Reconstruction_ICP/dataset\\02_slice_0128.json\n",
      "Copied D:/Code/CBCT_Reconstruction_ICP/data\\02\\jpg\\02_slice_0129.json to D:/Code/CBCT_Reconstruction_ICP/dataset\\02_slice_0129.json\n",
      "Copied D:/Code/CBCT_Reconstruction_ICP/data\\02\\jpg\\02_slice_0130.json to D:/Code/CBCT_Reconstruction_ICP/dataset\\02_slice_0130.json\n",
      "Copied D:/Code/CBCT_Reconstruction_ICP/data\\02\\jpg\\02_slice_0131.json to D:/Code/CBCT_Reconstruction_ICP/dataset\\02_slice_0131.json\n",
      "Copied D:/Code/CBCT_Reconstruction_ICP/data\\02\\jpg\\02_slice_0132.json to D:/Code/CBCT_Reconstruction_ICP/dataset\\02_slice_0132.json\n",
      "Copied D:/Code/CBCT_Reconstruction_ICP/data\\02\\jpg\\02_slice_0133.json to D:/Code/CBCT_Reconstruction_ICP/dataset\\02_slice_0133.json\n",
      "Copied D:/Code/CBCT_Reconstruction_ICP/data\\02\\jpg\\02_slice_0134.json to D:/Code/CBCT_Reconstruction_ICP/dataset\\02_slice_0134.json\n",
      "Copied D:/Code/CBCT_Reconstruction_ICP/data\\02\\jpg\\02_slice_0135.json to D:/Code/CBCT_Reconstruction_ICP/dataset\\02_slice_0135.json\n",
      "Copied D:/Code/CBCT_Reconstruction_ICP/data\\02\\jpg\\02_slice_0136.json to D:/Code/CBCT_Reconstruction_ICP/dataset\\02_slice_0136.json\n",
      "Copied D:/Code/CBCT_Reconstruction_ICP/data\\02\\jpg\\02_slice_0137.json to D:/Code/CBCT_Reconstruction_ICP/dataset\\02_slice_0137.json\n",
      "Copied D:/Code/CBCT_Reconstruction_ICP/data\\02\\jpg\\02_slice_0138.json to D:/Code/CBCT_Reconstruction_ICP/dataset\\02_slice_0138.json\n",
      "Copied D:/Code/CBCT_Reconstruction_ICP/data\\02\\jpg\\02_slice_0139.json to D:/Code/CBCT_Reconstruction_ICP/dataset\\02_slice_0139.json\n",
      "Copied D:/Code/CBCT_Reconstruction_ICP/data\\02\\jpg\\02_slice_0140.json to D:/Code/CBCT_Reconstruction_ICP/dataset\\02_slice_0140.json\n",
      "Copied D:/Code/CBCT_Reconstruction_ICP/data\\02\\jpg\\02_slice_0141.json to D:/Code/CBCT_Reconstruction_ICP/dataset\\02_slice_0141.json\n",
      "Copied D:/Code/CBCT_Reconstruction_ICP/data\\02\\jpg\\02_slice_0142.json to D:/Code/CBCT_Reconstruction_ICP/dataset\\02_slice_0142.json\n",
      "Copied D:/Code/CBCT_Reconstruction_ICP/data\\02\\jpg\\02_slice_0143.json to D:/Code/CBCT_Reconstruction_ICP/dataset\\02_slice_0143.json\n",
      "Copied D:/Code/CBCT_Reconstruction_ICP/data\\02\\jpg\\02_slice_0144.json to D:/Code/CBCT_Reconstruction_ICP/dataset\\02_slice_0144.json\n",
      "Copied D:/Code/CBCT_Reconstruction_ICP/data\\02\\jpg\\02_slice_0145.json to D:/Code/CBCT_Reconstruction_ICP/dataset\\02_slice_0145.json\n",
      "Copied D:/Code/CBCT_Reconstruction_ICP/data\\02\\jpg\\02_slice_0146.json to D:/Code/CBCT_Reconstruction_ICP/dataset\\02_slice_0146.json\n",
      "Copied D:/Code/CBCT_Reconstruction_ICP/data\\02\\jpg\\02_slice_0147.json to D:/Code/CBCT_Reconstruction_ICP/dataset\\02_slice_0147.json\n",
      "Copied D:/Code/CBCT_Reconstruction_ICP/data\\02\\jpg\\02_slice_0148.json to D:/Code/CBCT_Reconstruction_ICP/dataset\\02_slice_0148.json\n",
      "Copied D:/Code/CBCT_Reconstruction_ICP/data\\02\\jpg\\02_slice_0149.json to D:/Code/CBCT_Reconstruction_ICP/dataset\\02_slice_0149.json\n",
      "Copied D:/Code/CBCT_Reconstruction_ICP/data\\02\\jpg\\02_slice_0150.json to D:/Code/CBCT_Reconstruction_ICP/dataset\\02_slice_0150.json\n",
      "Copied D:/Code/CBCT_Reconstruction_ICP/data\\02\\jpg\\02_slice_0151.json to D:/Code/CBCT_Reconstruction_ICP/dataset\\02_slice_0151.json\n",
      "Copied D:/Code/CBCT_Reconstruction_ICP/data\\02\\jpg\\02_slice_0152.json to D:/Code/CBCT_Reconstruction_ICP/dataset\\02_slice_0152.json\n",
      "Copied D:/Code/CBCT_Reconstruction_ICP/data\\02\\jpg\\02_slice_0153.json to D:/Code/CBCT_Reconstruction_ICP/dataset\\02_slice_0153.json\n",
      "Copied D:/Code/CBCT_Reconstruction_ICP/data\\02\\jpg\\02_slice_0154.json to D:/Code/CBCT_Reconstruction_ICP/dataset\\02_slice_0154.json\n",
      "Copied D:/Code/CBCT_Reconstruction_ICP/data\\02\\jpg\\02_slice_0155.json to D:/Code/CBCT_Reconstruction_ICP/dataset\\02_slice_0155.json\n",
      "Copied D:/Code/CBCT_Reconstruction_ICP/data\\02\\jpg\\02_slice_0156.json to D:/Code/CBCT_Reconstruction_ICP/dataset\\02_slice_0156.json\n",
      "Copied D:/Code/CBCT_Reconstruction_ICP/data\\02\\jpg\\02_slice_0157.json to D:/Code/CBCT_Reconstruction_ICP/dataset\\02_slice_0157.json\n",
      "Copied D:/Code/CBCT_Reconstruction_ICP/data\\02\\jpg\\02_slice_0158.json to D:/Code/CBCT_Reconstruction_ICP/dataset\\02_slice_0158.json\n",
      "Copied D:/Code/CBCT_Reconstruction_ICP/data\\02\\jpg\\02_slice_0159.json to D:/Code/CBCT_Reconstruction_ICP/dataset\\02_slice_0159.json\n",
      "Copied D:/Code/CBCT_Reconstruction_ICP/data\\02\\jpg\\02_slice_0160.json to D:/Code/CBCT_Reconstruction_ICP/dataset\\02_slice_0160.json\n",
      "Copied D:/Code/CBCT_Reconstruction_ICP/data\\02\\jpg\\02_slice_0161.json to D:/Code/CBCT_Reconstruction_ICP/dataset\\02_slice_0161.json\n",
      "Copied D:/Code/CBCT_Reconstruction_ICP/data\\02\\jpg\\02_slice_0162.json to D:/Code/CBCT_Reconstruction_ICP/dataset\\02_slice_0162.json\n",
      "Copied D:/Code/CBCT_Reconstruction_ICP/data\\02\\jpg\\02_slice_0163.json to D:/Code/CBCT_Reconstruction_ICP/dataset\\02_slice_0163.json\n",
      "Copied D:/Code/CBCT_Reconstruction_ICP/data\\02\\jpg\\02_slice_0164.json to D:/Code/CBCT_Reconstruction_ICP/dataset\\02_slice_0164.json\n",
      "Copied D:/Code/CBCT_Reconstruction_ICP/data\\02\\jpg\\02_slice_0165.json to D:/Code/CBCT_Reconstruction_ICP/dataset\\02_slice_0165.json\n",
      "Copied D:/Code/CBCT_Reconstruction_ICP/data\\02\\jpg\\02_slice_0166.json to D:/Code/CBCT_Reconstruction_ICP/dataset\\02_slice_0166.json\n",
      "Copied D:/Code/CBCT_Reconstruction_ICP/data\\02\\jpg\\02_slice_0167.json to D:/Code/CBCT_Reconstruction_ICP/dataset\\02_slice_0167.json\n",
      "Copied D:/Code/CBCT_Reconstruction_ICP/data\\02\\jpg\\02_slice_0168.json to D:/Code/CBCT_Reconstruction_ICP/dataset\\02_slice_0168.json\n",
      "Copied D:/Code/CBCT_Reconstruction_ICP/data\\02\\jpg\\02_slice_0169.json to D:/Code/CBCT_Reconstruction_ICP/dataset\\02_slice_0169.json\n",
      "Copied D:/Code/CBCT_Reconstruction_ICP/data\\02\\jpg\\02_slice_0170.json to D:/Code/CBCT_Reconstruction_ICP/dataset\\02_slice_0170.json\n",
      "Copied D:/Code/CBCT_Reconstruction_ICP/data\\02\\jpg\\02_slice_0171.json to D:/Code/CBCT_Reconstruction_ICP/dataset\\02_slice_0171.json\n",
      "Copied D:/Code/CBCT_Reconstruction_ICP/data\\02\\jpg\\02_slice_0172.json to D:/Code/CBCT_Reconstruction_ICP/dataset\\02_slice_0172.json\n",
      "Copied D:/Code/CBCT_Reconstruction_ICP/data\\02\\jpg\\02_slice_0173.json to D:/Code/CBCT_Reconstruction_ICP/dataset\\02_slice_0173.json\n",
      "Copied D:/Code/CBCT_Reconstruction_ICP/data\\02\\jpg\\02_slice_0174.json to D:/Code/CBCT_Reconstruction_ICP/dataset\\02_slice_0174.json\n",
      "Copied D:/Code/CBCT_Reconstruction_ICP/data\\02\\jpg\\02_slice_0175.json to D:/Code/CBCT_Reconstruction_ICP/dataset\\02_slice_0175.json\n",
      "Copied D:/Code/CBCT_Reconstruction_ICP/data\\03\\jpg\\03_slice_0063.json to D:/Code/CBCT_Reconstruction_ICP/dataset\\03_slice_0063.json\n",
      "Copied D:/Code/CBCT_Reconstruction_ICP/data\\03\\jpg\\03_slice_0064.json to D:/Code/CBCT_Reconstruction_ICP/dataset\\03_slice_0064.json\n",
      "Copied D:/Code/CBCT_Reconstruction_ICP/data\\03\\jpg\\03_slice_0065.json to D:/Code/CBCT_Reconstruction_ICP/dataset\\03_slice_0065.json\n",
      "Copied D:/Code/CBCT_Reconstruction_ICP/data\\03\\jpg\\03_slice_0066.json to D:/Code/CBCT_Reconstruction_ICP/dataset\\03_slice_0066.json\n",
      "Copied D:/Code/CBCT_Reconstruction_ICP/data\\03\\jpg\\03_slice_0067.json to D:/Code/CBCT_Reconstruction_ICP/dataset\\03_slice_0067.json\n",
      "Copied D:/Code/CBCT_Reconstruction_ICP/data\\03\\jpg\\03_slice_0068.json to D:/Code/CBCT_Reconstruction_ICP/dataset\\03_slice_0068.json\n",
      "Copied D:/Code/CBCT_Reconstruction_ICP/data\\03\\jpg\\03_slice_0069.json to D:/Code/CBCT_Reconstruction_ICP/dataset\\03_slice_0069.json\n",
      "Copied D:/Code/CBCT_Reconstruction_ICP/data\\03\\jpg\\03_slice_0070.json to D:/Code/CBCT_Reconstruction_ICP/dataset\\03_slice_0070.json\n",
      "Copied D:/Code/CBCT_Reconstruction_ICP/data\\03\\jpg\\03_slice_0071.json to D:/Code/CBCT_Reconstruction_ICP/dataset\\03_slice_0071.json\n",
      "Copied D:/Code/CBCT_Reconstruction_ICP/data\\03\\jpg\\03_slice_0072.json to D:/Code/CBCT_Reconstruction_ICP/dataset\\03_slice_0072.json\n",
      "Copied D:/Code/CBCT_Reconstruction_ICP/data\\03\\jpg\\03_slice_0073.json to D:/Code/CBCT_Reconstruction_ICP/dataset\\03_slice_0073.json\n",
      "Copied D:/Code/CBCT_Reconstruction_ICP/data\\03\\jpg\\03_slice_0074.json to D:/Code/CBCT_Reconstruction_ICP/dataset\\03_slice_0074.json\n",
      "Copied D:/Code/CBCT_Reconstruction_ICP/data\\03\\jpg\\03_slice_0075.json to D:/Code/CBCT_Reconstruction_ICP/dataset\\03_slice_0075.json\n",
      "Copied D:/Code/CBCT_Reconstruction_ICP/data\\03\\jpg\\03_slice_0076.json to D:/Code/CBCT_Reconstruction_ICP/dataset\\03_slice_0076.json\n",
      "Copied D:/Code/CBCT_Reconstruction_ICP/data\\03\\jpg\\03_slice_0077.json to D:/Code/CBCT_Reconstruction_ICP/dataset\\03_slice_0077.json\n",
      "Copied D:/Code/CBCT_Reconstruction_ICP/data\\03\\jpg\\03_slice_0078.json to D:/Code/CBCT_Reconstruction_ICP/dataset\\03_slice_0078.json\n",
      "Copied D:/Code/CBCT_Reconstruction_ICP/data\\03\\jpg\\03_slice_0093.json to D:/Code/CBCT_Reconstruction_ICP/dataset\\03_slice_0093.json\n",
      "Copied D:/Code/CBCT_Reconstruction_ICP/data\\03\\jpg\\03_slice_0094.json to D:/Code/CBCT_Reconstruction_ICP/dataset\\03_slice_0094.json\n",
      "Copied D:/Code/CBCT_Reconstruction_ICP/data\\03\\jpg\\03_slice_0095.json to D:/Code/CBCT_Reconstruction_ICP/dataset\\03_slice_0095.json\n",
      "Copied D:/Code/CBCT_Reconstruction_ICP/data\\03\\jpg\\03_slice_0096.json to D:/Code/CBCT_Reconstruction_ICP/dataset\\03_slice_0096.json\n",
      "Copied D:/Code/CBCT_Reconstruction_ICP/data\\03\\jpg\\03_slice_0097.json to D:/Code/CBCT_Reconstruction_ICP/dataset\\03_slice_0097.json\n",
      "Copied D:/Code/CBCT_Reconstruction_ICP/data\\03\\jpg\\03_slice_0098.json to D:/Code/CBCT_Reconstruction_ICP/dataset\\03_slice_0098.json\n",
      "Copied D:/Code/CBCT_Reconstruction_ICP/data\\03\\jpg\\03_slice_0099.json to D:/Code/CBCT_Reconstruction_ICP/dataset\\03_slice_0099.json\n",
      "Copied D:/Code/CBCT_Reconstruction_ICP/data\\03\\jpg\\03_slice_0100.json to D:/Code/CBCT_Reconstruction_ICP/dataset\\03_slice_0100.json\n",
      "Copied D:/Code/CBCT_Reconstruction_ICP/data\\03\\jpg\\03_slice_0101.json to D:/Code/CBCT_Reconstruction_ICP/dataset\\03_slice_0101.json\n",
      "Copied D:/Code/CBCT_Reconstruction_ICP/data\\03\\jpg\\03_slice_0102.json to D:/Code/CBCT_Reconstruction_ICP/dataset\\03_slice_0102.json\n",
      "Copied D:/Code/CBCT_Reconstruction_ICP/data\\03\\jpg\\03_slice_0103.json to D:/Code/CBCT_Reconstruction_ICP/dataset\\03_slice_0103.json\n",
      "Copied D:/Code/CBCT_Reconstruction_ICP/data\\03\\jpg\\03_slice_0104.json to D:/Code/CBCT_Reconstruction_ICP/dataset\\03_slice_0104.json\n",
      "Copied D:/Code/CBCT_Reconstruction_ICP/data\\03\\jpg\\03_slice_0105.json to D:/Code/CBCT_Reconstruction_ICP/dataset\\03_slice_0105.json\n",
      "Copied D:/Code/CBCT_Reconstruction_ICP/data\\03\\jpg\\03_slice_0106.json to D:/Code/CBCT_Reconstruction_ICP/dataset\\03_slice_0106.json\n",
      "Copied D:/Code/CBCT_Reconstruction_ICP/data\\03\\jpg\\03_slice_0132.json to D:/Code/CBCT_Reconstruction_ICP/dataset\\03_slice_0132.json\n",
      "Copied D:/Code/CBCT_Reconstruction_ICP/data\\03\\jpg\\03_slice_0133.json to D:/Code/CBCT_Reconstruction_ICP/dataset\\03_slice_0133.json\n",
      "Copied D:/Code/CBCT_Reconstruction_ICP/data\\03\\jpg\\03_slice_0134.json to D:/Code/CBCT_Reconstruction_ICP/dataset\\03_slice_0134.json\n",
      "Copied D:/Code/CBCT_Reconstruction_ICP/data\\03\\jpg\\03_slice_0135.json to D:/Code/CBCT_Reconstruction_ICP/dataset\\03_slice_0135.json\n",
      "Copied D:/Code/CBCT_Reconstruction_ICP/data\\03\\jpg\\03_slice_0136.json to D:/Code/CBCT_Reconstruction_ICP/dataset\\03_slice_0136.json\n",
      "Copied D:/Code/CBCT_Reconstruction_ICP/data\\03\\jpg\\03_slice_0137.json to D:/Code/CBCT_Reconstruction_ICP/dataset\\03_slice_0137.json\n",
      "Copied D:/Code/CBCT_Reconstruction_ICP/data\\03\\jpg\\03_slice_0140.json to D:/Code/CBCT_Reconstruction_ICP/dataset\\03_slice_0140.json\n",
      "Copied D:/Code/CBCT_Reconstruction_ICP/data\\03\\jpg\\03_slice_0141.json to D:/Code/CBCT_Reconstruction_ICP/dataset\\03_slice_0141.json\n",
      "Copied D:/Code/CBCT_Reconstruction_ICP/data\\03\\jpg\\03_slice_0142.json to D:/Code/CBCT_Reconstruction_ICP/dataset\\03_slice_0142.json\n",
      "Copied D:/Code/CBCT_Reconstruction_ICP/data\\03\\jpg\\03_slice_0143.json to D:/Code/CBCT_Reconstruction_ICP/dataset\\03_slice_0143.json\n",
      "Copied D:/Code/CBCT_Reconstruction_ICP/data\\03\\jpg\\03_slice_0144.json to D:/Code/CBCT_Reconstruction_ICP/dataset\\03_slice_0144.json\n",
      "Copied D:/Code/CBCT_Reconstruction_ICP/data\\03\\jpg\\03_slice_0145.json to D:/Code/CBCT_Reconstruction_ICP/dataset\\03_slice_0145.json\n",
      "Copied D:/Code/CBCT_Reconstruction_ICP/data\\03\\jpg\\03_slice_0146.json to D:/Code/CBCT_Reconstruction_ICP/dataset\\03_slice_0146.json\n",
      "Copied D:/Code/CBCT_Reconstruction_ICP/data\\03\\jpg\\03_slice_0147.json to D:/Code/CBCT_Reconstruction_ICP/dataset\\03_slice_0147.json\n",
      "Copied D:/Code/CBCT_Reconstruction_ICP/data\\03\\jpg\\03_slice_0148.json to D:/Code/CBCT_Reconstruction_ICP/dataset\\03_slice_0148.json\n",
      "Copied D:/Code/CBCT_Reconstruction_ICP/data\\03\\jpg\\03_slice_0149.json to D:/Code/CBCT_Reconstruction_ICP/dataset\\03_slice_0149.json\n",
      "Copied D:/Code/CBCT_Reconstruction_ICP/data\\03\\jpg\\03_slice_0150.json to D:/Code/CBCT_Reconstruction_ICP/dataset\\03_slice_0150.json\n",
      "Copied D:/Code/CBCT_Reconstruction_ICP/data\\03\\jpg\\03_slice_0151.json to D:/Code/CBCT_Reconstruction_ICP/dataset\\03_slice_0151.json\n",
      "Copied D:/Code/CBCT_Reconstruction_ICP/data\\03\\jpg\\03_slice_0152.json to D:/Code/CBCT_Reconstruction_ICP/dataset\\03_slice_0152.json\n",
      "Copied D:/Code/CBCT_Reconstruction_ICP/data\\03\\jpg\\03_slice_0153.json to D:/Code/CBCT_Reconstruction_ICP/dataset\\03_slice_0153.json\n",
      "Copied D:/Code/CBCT_Reconstruction_ICP/data\\03\\jpg\\03_slice_0154.json to D:/Code/CBCT_Reconstruction_ICP/dataset\\03_slice_0154.json\n",
      "Copied D:/Code/CBCT_Reconstruction_ICP/data\\03\\jpg\\03_slice_0155.json to D:/Code/CBCT_Reconstruction_ICP/dataset\\03_slice_0155.json\n",
      "Copied D:/Code/CBCT_Reconstruction_ICP/data\\03\\jpg\\03_slice_0156.json to D:/Code/CBCT_Reconstruction_ICP/dataset\\03_slice_0156.json\n",
      "Copied D:/Code/CBCT_Reconstruction_ICP/data\\03\\jpg\\03_slice_0157.json to D:/Code/CBCT_Reconstruction_ICP/dataset\\03_slice_0157.json\n",
      "Copied D:/Code/CBCT_Reconstruction_ICP/data\\03\\jpg\\03_slice_0158.json to D:/Code/CBCT_Reconstruction_ICP/dataset\\03_slice_0158.json\n",
      "Copied D:/Code/CBCT_Reconstruction_ICP/data\\03\\jpg\\03_slice_0159.json to D:/Code/CBCT_Reconstruction_ICP/dataset\\03_slice_0159.json\n",
      "Copied D:/Code/CBCT_Reconstruction_ICP/data\\03\\jpg\\03_slice_0160.json to D:/Code/CBCT_Reconstruction_ICP/dataset\\03_slice_0160.json\n",
      "Copied D:/Code/CBCT_Reconstruction_ICP/data\\03\\jpg\\03_slice_0161.json to D:/Code/CBCT_Reconstruction_ICP/dataset\\03_slice_0161.json\n",
      "Copied D:/Code/CBCT_Reconstruction_ICP/data\\03\\jpg\\03_slice_0162.json to D:/Code/CBCT_Reconstruction_ICP/dataset\\03_slice_0162.json\n",
      "Copied D:/Code/CBCT_Reconstruction_ICP/data\\03\\jpg\\03_slice_0163.json to D:/Code/CBCT_Reconstruction_ICP/dataset\\03_slice_0163.json\n",
      "Copied D:/Code/CBCT_Reconstruction_ICP/data\\03\\jpg\\03_slice_0164.json to D:/Code/CBCT_Reconstruction_ICP/dataset\\03_slice_0164.json\n",
      "Copied D:/Code/CBCT_Reconstruction_ICP/data\\03\\jpg\\03_slice_0165.json to D:/Code/CBCT_Reconstruction_ICP/dataset\\03_slice_0165.json\n",
      "Copied D:/Code/CBCT_Reconstruction_ICP/data\\04\\jpg\\04_slice_0078.json to D:/Code/CBCT_Reconstruction_ICP/dataset\\04_slice_0078.json\n",
      "Copied D:/Code/CBCT_Reconstruction_ICP/data\\04\\jpg\\04_slice_0079.json to D:/Code/CBCT_Reconstruction_ICP/dataset\\04_slice_0079.json\n",
      "Copied D:/Code/CBCT_Reconstruction_ICP/data\\04\\jpg\\04_slice_0080.json to D:/Code/CBCT_Reconstruction_ICP/dataset\\04_slice_0080.json\n",
      "Copied D:/Code/CBCT_Reconstruction_ICP/data\\04\\jpg\\04_slice_0081.json to D:/Code/CBCT_Reconstruction_ICP/dataset\\04_slice_0081.json\n",
      "Copied D:/Code/CBCT_Reconstruction_ICP/data\\04\\jpg\\04_slice_0082.json to D:/Code/CBCT_Reconstruction_ICP/dataset\\04_slice_0082.json\n",
      "Copied D:/Code/CBCT_Reconstruction_ICP/data\\04\\jpg\\04_slice_0083.json to D:/Code/CBCT_Reconstruction_ICP/dataset\\04_slice_0083.json\n",
      "Copied D:/Code/CBCT_Reconstruction_ICP/data\\04\\jpg\\04_slice_0084.json to D:/Code/CBCT_Reconstruction_ICP/dataset\\04_slice_0084.json\n",
      "Copied D:/Code/CBCT_Reconstruction_ICP/data\\04\\jpg\\04_slice_0085.json to D:/Code/CBCT_Reconstruction_ICP/dataset\\04_slice_0085.json\n",
      "Copied D:/Code/CBCT_Reconstruction_ICP/data\\04\\jpg\\04_slice_0086.json to D:/Code/CBCT_Reconstruction_ICP/dataset\\04_slice_0086.json\n",
      "Copied D:/Code/CBCT_Reconstruction_ICP/data\\04\\jpg\\04_slice_0087.json to D:/Code/CBCT_Reconstruction_ICP/dataset\\04_slice_0087.json\n",
      "Copied D:/Code/CBCT_Reconstruction_ICP/data\\04\\jpg\\04_slice_0088.json to D:/Code/CBCT_Reconstruction_ICP/dataset\\04_slice_0088.json\n",
      "Copied D:/Code/CBCT_Reconstruction_ICP/data\\04\\jpg\\04_slice_0089.json to D:/Code/CBCT_Reconstruction_ICP/dataset\\04_slice_0089.json\n",
      "Copied D:/Code/CBCT_Reconstruction_ICP/data\\04\\jpg\\04_slice_0090.json to D:/Code/CBCT_Reconstruction_ICP/dataset\\04_slice_0090.json\n",
      "Copied D:/Code/CBCT_Reconstruction_ICP/data\\04\\jpg\\04_slice_0091.json to D:/Code/CBCT_Reconstruction_ICP/dataset\\04_slice_0091.json\n",
      "Copied D:/Code/CBCT_Reconstruction_ICP/data\\04\\jpg\\04_slice_0092.json to D:/Code/CBCT_Reconstruction_ICP/dataset\\04_slice_0092.json\n",
      "Copied D:/Code/CBCT_Reconstruction_ICP/data\\04\\jpg\\04_slice_0093.json to D:/Code/CBCT_Reconstruction_ICP/dataset\\04_slice_0093.json\n",
      "Copied D:/Code/CBCT_Reconstruction_ICP/data\\04\\jpg\\04_slice_0094.json to D:/Code/CBCT_Reconstruction_ICP/dataset\\04_slice_0094.json\n",
      "Copied D:/Code/CBCT_Reconstruction_ICP/data\\04\\jpg\\04_slice_0095.json to D:/Code/CBCT_Reconstruction_ICP/dataset\\04_slice_0095.json\n",
      "Copied D:/Code/CBCT_Reconstruction_ICP/data\\04\\jpg\\04_slice_0096.json to D:/Code/CBCT_Reconstruction_ICP/dataset\\04_slice_0096.json\n",
      "Copied D:/Code/CBCT_Reconstruction_ICP/data\\04\\jpg\\04_slice_0097.json to D:/Code/CBCT_Reconstruction_ICP/dataset\\04_slice_0097.json\n",
      "Copied D:/Code/CBCT_Reconstruction_ICP/data\\04\\jpg\\04_slice_0098.json to D:/Code/CBCT_Reconstruction_ICP/dataset\\04_slice_0098.json\n",
      "Copied D:/Code/CBCT_Reconstruction_ICP/data\\04\\jpg\\04_slice_0099.json to D:/Code/CBCT_Reconstruction_ICP/dataset\\04_slice_0099.json\n",
      "Copied D:/Code/CBCT_Reconstruction_ICP/data\\04\\jpg\\04_slice_0100.json to D:/Code/CBCT_Reconstruction_ICP/dataset\\04_slice_0100.json\n",
      "Copied D:/Code/CBCT_Reconstruction_ICP/data\\04\\jpg\\04_slice_0101.json to D:/Code/CBCT_Reconstruction_ICP/dataset\\04_slice_0101.json\n",
      "Copied D:/Code/CBCT_Reconstruction_ICP/data\\04\\jpg\\04_slice_0102.json to D:/Code/CBCT_Reconstruction_ICP/dataset\\04_slice_0102.json\n",
      "Copied D:/Code/CBCT_Reconstruction_ICP/data\\04\\jpg\\04_slice_0103.json to D:/Code/CBCT_Reconstruction_ICP/dataset\\04_slice_0103.json\n",
      "Copied D:/Code/CBCT_Reconstruction_ICP/data\\04\\jpg\\04_slice_0104.json to D:/Code/CBCT_Reconstruction_ICP/dataset\\04_slice_0104.json\n",
      "Copied D:/Code/CBCT_Reconstruction_ICP/data\\04\\jpg\\04_slice_0105.json to D:/Code/CBCT_Reconstruction_ICP/dataset\\04_slice_0105.json\n",
      "Copied D:/Code/CBCT_Reconstruction_ICP/data\\04\\jpg\\04_slice_0106.json to D:/Code/CBCT_Reconstruction_ICP/dataset\\04_slice_0106.json\n",
      "Copied D:/Code/CBCT_Reconstruction_ICP/data\\04\\jpg\\04_slice_0107.json to D:/Code/CBCT_Reconstruction_ICP/dataset\\04_slice_0107.json\n",
      "Copied D:/Code/CBCT_Reconstruction_ICP/data\\04\\jpg\\04_slice_0108.json to D:/Code/CBCT_Reconstruction_ICP/dataset\\04_slice_0108.json\n",
      "Copied D:/Code/CBCT_Reconstruction_ICP/data\\04\\jpg\\04_slice_0109.json to D:/Code/CBCT_Reconstruction_ICP/dataset\\04_slice_0109.json\n",
      "Copied D:/Code/CBCT_Reconstruction_ICP/data\\04\\jpg\\04_slice_0110.json to D:/Code/CBCT_Reconstruction_ICP/dataset\\04_slice_0110.json\n",
      "Copied D:/Code/CBCT_Reconstruction_ICP/data\\04\\jpg\\04_slice_0262.json to D:/Code/CBCT_Reconstruction_ICP/dataset\\04_slice_0262.json\n",
      "Copied D:/Code/CBCT_Reconstruction_ICP/data\\04\\jpg\\04_slice_0263.json to D:/Code/CBCT_Reconstruction_ICP/dataset\\04_slice_0263.json\n",
      "Copied D:/Code/CBCT_Reconstruction_ICP/data\\04\\jpg\\04_slice_0264.json to D:/Code/CBCT_Reconstruction_ICP/dataset\\04_slice_0264.json\n",
      "Copied D:/Code/CBCT_Reconstruction_ICP/data\\04\\jpg\\04_slice_0265.json to D:/Code/CBCT_Reconstruction_ICP/dataset\\04_slice_0265.json\n",
      "Copied D:/Code/CBCT_Reconstruction_ICP/data\\04\\jpg\\04_slice_0266.json to D:/Code/CBCT_Reconstruction_ICP/dataset\\04_slice_0266.json\n",
      "Copied D:/Code/CBCT_Reconstruction_ICP/data\\04\\jpg\\04_slice_0267.json to D:/Code/CBCT_Reconstruction_ICP/dataset\\04_slice_0267.json\n",
      "Copied D:/Code/CBCT_Reconstruction_ICP/data\\04\\jpg\\04_slice_0268.json to D:/Code/CBCT_Reconstruction_ICP/dataset\\04_slice_0268.json\n",
      "Copied D:/Code/CBCT_Reconstruction_ICP/data\\04\\jpg\\04_slice_0269.json to D:/Code/CBCT_Reconstruction_ICP/dataset\\04_slice_0269.json\n",
      "Copied D:/Code/CBCT_Reconstruction_ICP/data\\04\\jpg\\04_slice_0270.json to D:/Code/CBCT_Reconstruction_ICP/dataset\\04_slice_0270.json\n",
      "Copied D:/Code/CBCT_Reconstruction_ICP/data\\04\\jpg\\04_slice_0271.json to D:/Code/CBCT_Reconstruction_ICP/dataset\\04_slice_0271.json\n",
      "Copied D:/Code/CBCT_Reconstruction_ICP/data\\04\\jpg\\04_slice_0272.json to D:/Code/CBCT_Reconstruction_ICP/dataset\\04_slice_0272.json\n",
      "Copied D:/Code/CBCT_Reconstruction_ICP/data\\04\\jpg\\04_slice_0273.json to D:/Code/CBCT_Reconstruction_ICP/dataset\\04_slice_0273.json\n",
      "Copied D:/Code/CBCT_Reconstruction_ICP/data\\04\\jpg\\04_slice_0274.json to D:/Code/CBCT_Reconstruction_ICP/dataset\\04_slice_0274.json\n",
      "Copied D:/Code/CBCT_Reconstruction_ICP/data\\04\\jpg\\04_slice_0275.json to D:/Code/CBCT_Reconstruction_ICP/dataset\\04_slice_0275.json\n",
      "Copied D:/Code/CBCT_Reconstruction_ICP/data\\04\\jpg\\04_slice_0276.json to D:/Code/CBCT_Reconstruction_ICP/dataset\\04_slice_0276.json\n",
      "Copied D:/Code/CBCT_Reconstruction_ICP/data\\04\\jpg\\04_slice_0277.json to D:/Code/CBCT_Reconstruction_ICP/dataset\\04_slice_0277.json\n",
      "Copied D:/Code/CBCT_Reconstruction_ICP/data\\04\\jpg\\04_slice_0288.json to D:/Code/CBCT_Reconstruction_ICP/dataset\\04_slice_0288.json\n",
      "Copied D:/Code/CBCT_Reconstruction_ICP/data\\04\\jpg\\04_slice_0289.json to D:/Code/CBCT_Reconstruction_ICP/dataset\\04_slice_0289.json\n",
      "Copied D:/Code/CBCT_Reconstruction_ICP/data\\04\\jpg\\04_slice_0290.json to D:/Code/CBCT_Reconstruction_ICP/dataset\\04_slice_0290.json\n",
      "Copied D:/Code/CBCT_Reconstruction_ICP/data\\04\\jpg\\04_slice_0291.json to D:/Code/CBCT_Reconstruction_ICP/dataset\\04_slice_0291.json\n",
      "Copied D:/Code/CBCT_Reconstruction_ICP/data\\04\\jpg\\04_slice_0292.json to D:/Code/CBCT_Reconstruction_ICP/dataset\\04_slice_0292.json\n",
      "Copied D:/Code/CBCT_Reconstruction_ICP/data\\04\\jpg\\04_slice_0293.json to D:/Code/CBCT_Reconstruction_ICP/dataset\\04_slice_0293.json\n",
      "Copied D:/Code/CBCT_Reconstruction_ICP/data\\04\\jpg\\04_slice_0294.json to D:/Code/CBCT_Reconstruction_ICP/dataset\\04_slice_0294.json\n",
      "Copied D:/Code/CBCT_Reconstruction_ICP/data\\04\\jpg\\04_slice_0295.json to D:/Code/CBCT_Reconstruction_ICP/dataset\\04_slice_0295.json\n",
      "Copied D:/Code/CBCT_Reconstruction_ICP/data\\04\\jpg\\04_slice_0296.json to D:/Code/CBCT_Reconstruction_ICP/dataset\\04_slice_0296.json\n",
      "Copied D:/Code/CBCT_Reconstruction_ICP/data\\04\\jpg\\04_slice_0297.json to D:/Code/CBCT_Reconstruction_ICP/dataset\\04_slice_0297.json\n",
      "Copied D:/Code/CBCT_Reconstruction_ICP/data\\04\\jpg\\04_slice_0298.json to D:/Code/CBCT_Reconstruction_ICP/dataset\\04_slice_0298.json\n",
      "Copied D:/Code/CBCT_Reconstruction_ICP/data\\04\\jpg\\04_slice_0299.json to D:/Code/CBCT_Reconstruction_ICP/dataset\\04_slice_0299.json\n",
      "Copied D:/Code/CBCT_Reconstruction_ICP/data\\04\\jpg\\04_slice_0300.json to D:/Code/CBCT_Reconstruction_ICP/dataset\\04_slice_0300.json\n",
      "Copied D:/Code/CBCT_Reconstruction_ICP/data\\04\\jpg\\04_slice_0301.json to D:/Code/CBCT_Reconstruction_ICP/dataset\\04_slice_0301.json\n",
      "Copied D:/Code/CBCT_Reconstruction_ICP/data\\04\\jpg\\04_slice_0302.json to D:/Code/CBCT_Reconstruction_ICP/dataset\\04_slice_0302.json\n",
      "Copied D:/Code/CBCT_Reconstruction_ICP/data\\04\\jpg\\04_slice_0303.json to D:/Code/CBCT_Reconstruction_ICP/dataset\\04_slice_0303.json\n",
      "Copied D:/Code/CBCT_Reconstruction_ICP/data\\04\\jpg\\04_slice_0304.json to D:/Code/CBCT_Reconstruction_ICP/dataset\\04_slice_0304.json\n",
      "Copied D:/Code/CBCT_Reconstruction_ICP/data\\04\\jpg\\04_slice_0305.json to D:/Code/CBCT_Reconstruction_ICP/dataset\\04_slice_0305.json\n"
     ]
    }
   ],
   "source": [
    "import os\n",
    "import shutil\n",
    "\n",
    "def copy_json_files(src_dirs, dst_dir):\n",
    "    \"\"\"\n",
    "    将多个源目录中的 JSON 文件复制到目标目录。\n",
    "    \n",
    "    参数:\n",
    "    src_dirs (list): 源目录列表。\n",
    "    dst_dir (str): 目标目录。\n",
    "    \"\"\"\n",
    "    # 确保目标目录存在\n",
    "    os.makedirs(dst_dir, exist_ok=True)\n",
    "\n",
    "    for src_dir in src_dirs:\n",
    "        # 构建 jpg 子目录路径\n",
    "        jpg_dir = os.path.join(src_dir, 'jpg')\n",
    "\n",
    "        if not os.path.exists(jpg_dir):\n",
    "            print(f\"Warning: {jpg_dir} does not exist. Skipping.\")\n",
    "            continue\n",
    "\n",
    "        # 遍历 jpg 目录中的所有文件\n",
    "        for filename in os.listdir(jpg_dir):\n",
    "            if filename.endswith('.json'):\n",
    "                src_file_path = os.path.join(jpg_dir, filename)\n",
    "                dst_file_path = os.path.join(dst_dir, filename)\n",
    "\n",
    "                # 复制 JSON 文件到目标目录\n",
    "                shutil.copy2(src_file_path, dst_file_path)\n",
    "                print(f\"Copied {src_file_path} to {dst_file_path}\")\n",
    "\n",
    "# 定义源目录\n",
    "root_dir = 'D:/Code/CBCT_Reconstruction_ICP/data'\n",
    "sub_dirs = ['01', '02', '03', '04']\n",
    "src_dirs = [os.path.join(root_dir, sub_dir) for sub_dir in sub_dirs]\n",
    "\n",
    "# 定义目标目录\n",
    "dst_dir = 'D:/Code/CBCT_Reconstruction_ICP/data/dataset'\n",
    "\n",
    "# 运行复制函数\n",
    "copy_json_files(src_dirs, dst_dir)"
   ]
  }
 ],
 "metadata": {
  "kernelspec": {
   "display_name": "Python 3 (ipykernel)",
   "language": "python",
   "name": "python3"
  },
  "language_info": {
   "codemirror_mode": {
    "name": "ipython",
    "version": 3
   },
   "file_extension": ".py",
   "mimetype": "text/x-python",
   "name": "python",
   "nbconvert_exporter": "python",
   "pygments_lexer": "ipython3",
   "version": "3.9.19"
  }
 },
 "nbformat": 4,
 "nbformat_minor": 5
}
